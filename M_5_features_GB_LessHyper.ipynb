{
 "cells": [
  {
   "cell_type": "markdown",
   "metadata": {
    "toc": true
   },
   "source": [
    "<h1>Table of Contents<span class=\"tocSkip\"></span></h1>\n",
    "<div class=\"toc\"><ul class=\"toc-item\"><li><span><a href=\"#Preparing-for-Modeling\" data-toc-modified-id=\"Preparing-for-Modeling-1\"><span class=\"toc-item-num\">1&nbsp;&nbsp;</span>Preparing for Modeling</a></span><ul class=\"toc-item\"><li><span><a href=\"#Import-Data\" data-toc-modified-id=\"Import-Data-1.1\"><span class=\"toc-item-num\">1.1&nbsp;&nbsp;</span>Import Data</a></span></li><li><span><a href=\"#Train/Test-Split\" data-toc-modified-id=\"Train/Test-Split-1.2\"><span class=\"toc-item-num\">1.2&nbsp;&nbsp;</span>Train/Test Split</a></span></li><li><span><a href=\"#Scale-the-Numeric-Features\" data-toc-modified-id=\"Scale-the-Numeric-Features-1.3\"><span class=\"toc-item-num\">1.3&nbsp;&nbsp;</span>Scale the Numeric Features</a></span></li><li><span><a href=\"#Define-Evaluation-Functions\" data-toc-modified-id=\"Define-Evaluation-Functions-1.4\"><span class=\"toc-item-num\">1.4&nbsp;&nbsp;</span>Define Evaluation Functions</a></span><ul class=\"toc-item\"><li><span><a href=\"#Cross-Validation-Accuracy-Scores\" data-toc-modified-id=\"Cross-Validation-Accuracy-Scores-1.4.1\"><span class=\"toc-item-num\">1.4.1&nbsp;&nbsp;</span>Cross Validation Accuracy Scores</a></span></li><li><span><a href=\"#True-Positive-Rate-and-False-Positive-Rate\" data-toc-modified-id=\"True-Positive-Rate-and-False-Positive-Rate-1.4.2\"><span class=\"toc-item-num\">1.4.2&nbsp;&nbsp;</span>True Positive Rate and False Positive Rate</a></span></li><li><span><a href=\"#Calculate-AUROC-and-Plot-ROC-Curve\" data-toc-modified-id=\"Calculate-AUROC-and-Plot-ROC-Curve-1.4.3\"><span class=\"toc-item-num\">1.4.3&nbsp;&nbsp;</span>Calculate AUROC and Plot ROC Curve</a></span></li><li><span><a href=\"#Feature-Coefficient\" data-toc-modified-id=\"Feature-Coefficient-1.4.4\"><span class=\"toc-item-num\">1.4.4&nbsp;&nbsp;</span>Feature Coefficient</a></span></li><li><span><a href=\"#Feature-Importance\" data-toc-modified-id=\"Feature-Importance-1.4.5\"><span class=\"toc-item-num\">1.4.5&nbsp;&nbsp;</span>Feature Importance</a></span></li></ul></li></ul></li><li><span><a href=\"#Model-Selection,-Tuning-&amp;-Training\" data-toc-modified-id=\"Model-Selection,-Tuning-&amp;-Training-2\"><span class=\"toc-item-num\">2&nbsp;&nbsp;</span>Model Selection, Tuning &amp; Training</a></span><ul class=\"toc-item\"><li><span><a href=\"#Baseline-Model:-Logistic-Regression\" data-toc-modified-id=\"Baseline-Model:-Logistic-Regression-2.1\"><span class=\"toc-item-num\">2.1&nbsp;&nbsp;</span>Baseline Model: Logistic Regression</a></span><ul class=\"toc-item\"><li><span><a href=\"#Calculating-Accuracy-with--Logistic-Regression-Default-Hyper-parameters\" data-toc-modified-id=\"Calculating-Accuracy-with--Logistic-Regression-Default-Hyper-parameters-2.1.1\"><span class=\"toc-item-num\">2.1.1&nbsp;&nbsp;</span>Calculating Accuracy with  Logistic Regression Default Hyper-parameters</a></span></li><li><span><a href=\"#Comparing-the-Accuracy-Scores-with-Different-C-parameter\" data-toc-modified-id=\"Comparing-the-Accuracy-Scores-with-Different-C-parameter-2.1.2\"><span class=\"toc-item-num\">2.1.2&nbsp;&nbsp;</span>Comparing the Accuracy Scores with Different C parameter</a></span></li></ul></li><li><span><a href=\"#K-Nearest-Neighbors\" data-toc-modified-id=\"K-Nearest-Neighbors-2.2\"><span class=\"toc-item-num\">2.2&nbsp;&nbsp;</span>K-Nearest Neighbors</a></span><ul class=\"toc-item\"><li><span><a href=\"#Calculating-Accuracy-with-KNN-Default-Hyper-parameters\" data-toc-modified-id=\"Calculating-Accuracy-with-KNN-Default-Hyper-parameters-2.2.1\"><span class=\"toc-item-num\">2.2.1&nbsp;&nbsp;</span>Calculating Accuracy with KNN Default Hyper-parameters</a></span></li><li><span><a href=\"#Comparing-the-Accuracy-Scores-with-Different-Number-of-Neighbors\" data-toc-modified-id=\"Comparing-the-Accuracy-Scores-with-Different-Number-of-Neighbors-2.2.2\"><span class=\"toc-item-num\">2.2.2&nbsp;&nbsp;</span>Comparing the Accuracy Scores with Different Number of Neighbors</a></span></li><li><span><a href=\"#KNN-Hyper-parameters-tuning\" data-toc-modified-id=\"KNN-Hyper-parameters-tuning-2.2.3\"><span class=\"toc-item-num\">2.2.3&nbsp;&nbsp;</span>KNN Hyper-parameters tuning</a></span></li><li><span><a href=\"#Best-KNN-training-and-evaluation\" data-toc-modified-id=\"Best-KNN-training-and-evaluation-2.2.4\"><span class=\"toc-item-num\">2.2.4&nbsp;&nbsp;</span>Best KNN training and evaluation</a></span></li></ul></li><li><span><a href=\"#Random-Forest\" data-toc-modified-id=\"Random-Forest-2.3\"><span class=\"toc-item-num\">2.3&nbsp;&nbsp;</span>Random Forest</a></span><ul class=\"toc-item\"><li><span><a href=\"#Calculating-Accuracy-with-Random-Forest-Default-Hyper-parameters\" data-toc-modified-id=\"Calculating-Accuracy-with-Random-Forest-Default-Hyper-parameters-2.3.1\"><span class=\"toc-item-num\">2.3.1&nbsp;&nbsp;</span>Calculating Accuracy with Random Forest Default Hyper-parameters</a></span></li><li><span><a href=\"#Random-Forest-Hyper-parameters-Tuning\" data-toc-modified-id=\"Random-Forest-Hyper-parameters-Tuning-2.3.2\"><span class=\"toc-item-num\">2.3.2&nbsp;&nbsp;</span>Random Forest Hyper-parameters Tuning</a></span></li><li><span><a href=\"#Best-Random-Forest-Training-and-Evaluation\" data-toc-modified-id=\"Best-Random-Forest-Training-and-Evaluation-2.3.3\"><span class=\"toc-item-num\">2.3.3&nbsp;&nbsp;</span>Best Random Forest Training and Evaluation</a></span></li></ul></li><li><span><a href=\"#Gradient-Boosting\" data-toc-modified-id=\"Gradient-Boosting-2.4\"><span class=\"toc-item-num\">2.4&nbsp;&nbsp;</span>Gradient Boosting</a></span><ul class=\"toc-item\"><li><span><a href=\"#Calculating-Accuracy-with-Gradient-Boosting-Default-Hyper-parameters\" data-toc-modified-id=\"Calculating-Accuracy-with-Gradient-Boosting-Default-Hyper-parameters-2.4.1\"><span class=\"toc-item-num\">2.4.1&nbsp;&nbsp;</span>Calculating Accuracy with Gradient Boosting Default Hyper-parameters</a></span></li><li><span><a href=\"#Gradient-Boosting-Hyper-parameters-Tuning\" data-toc-modified-id=\"Gradient-Boosting-Hyper-parameters-Tuning-2.4.2\"><span class=\"toc-item-num\">2.4.2&nbsp;&nbsp;</span>Gradient Boosting Hyper-parameters Tuning</a></span></li><li><span><a href=\"#Best-Gradient-Boosting-Training-and-Evaluation\" data-toc-modified-id=\"Best-Gradient-Boosting-Training-and-Evaluation-2.4.3\"><span class=\"toc-item-num\">2.4.3&nbsp;&nbsp;</span>Best Gradient Boosting Training and Evaluation</a></span></li></ul></li></ul></li><li><span><a href=\"#Comparing-Models\" data-toc-modified-id=\"Comparing-Models-3\"><span class=\"toc-item-num\">3&nbsp;&nbsp;</span>Comparing Models</a></span><ul class=\"toc-item\"><li><span><a href=\"#Comparing-Accuracy\" data-toc-modified-id=\"Comparing-Accuracy-3.1\"><span class=\"toc-item-num\">3.1&nbsp;&nbsp;</span>Comparing Accuracy</a></span></li><li><span><a href=\"#Comparing-TPR,-FPR-and-AUROC\" data-toc-modified-id=\"Comparing-TPR,-FPR-and-AUROC-3.2\"><span class=\"toc-item-num\">3.2&nbsp;&nbsp;</span>Comparing TPR, FPR and AUROC</a></span></li></ul></li></ul></div>"
   ]
  },
  {
   "cell_type": "code",
   "execution_count": 2,
   "metadata": {
    "ExecuteTime": {
     "end_time": "2021-07-09T06:04:07.823859Z",
     "start_time": "2021-07-09T06:04:05.514553Z"
    }
   },
   "outputs": [],
   "source": [
    "import pandas as pd\n",
    "import numpy as np\n",
    "import matplotlib.pyplot as plt\n",
    "import seaborn as sns\n",
    "from sklearn.preprocessing import StandardScaler\n",
    "from sklearn.model_selection import train_test_split\n",
    "from sklearn.model_selection import cross_val_score\n",
    "from sklearn.model_selection import GridSearchCV\n",
    "from sklearn.linear_model import LogisticRegression\n",
    "from sklearn.neighbors import KNeighborsClassifier\n",
    "from sklearn.ensemble import RandomForestClassifier\n",
    "from sklearn.ensemble import GradientBoostingClassifier\n",
    "from sklearn.metrics import accuracy_score\n",
    "from sklearn.metrics import roc_curve\n",
    "from sklearn.metrics import roc_auc_score\n",
    "from sklearn.metrics import confusion_matrix\n",
    "\n",
    "sns.set()\n",
    "pd.options.mode.chained_assignment = None\n",
    "np.random.seed(1)"
   ]
  },
  {
   "cell_type": "markdown",
   "metadata": {},
   "source": [
    "## Preparing for Modeling"
   ]
  },
  {
   "cell_type": "markdown",
   "metadata": {},
   "source": [
    "### Import Data "
   ]
  },
  {
   "cell_type": "code",
   "execution_count": 3,
   "metadata": {
    "ExecuteTime": {
     "end_time": "2021-07-09T06:04:10.173490Z",
     "start_time": "2021-07-09T06:04:07.859150Z"
    }
   },
   "outputs": [],
   "source": [
    "loans_df = pd.read_csv('/Users/lasayin/Desktop/Springboard/GitHub/Springboard_DS_Capstone2/ProcessedData/loans_df.cvs')"
   ]
  },
  {
   "cell_type": "code",
   "execution_count": 9,
   "metadata": {
    "ExecuteTime": {
     "end_time": "2021-07-09T06:05:32.100083Z",
     "start_time": "2021-07-09T06:05:32.084842Z"
    }
   },
   "outputs": [],
   "source": [
    "loans_df_4 = loans_df[['loan_amount', 'term_in_months', 'MPI', 'posted_season_Summer', 'With_tag', 'funding_speed']]"
   ]
  },
  {
   "cell_type": "code",
   "execution_count": null,
   "metadata": {},
   "outputs": [],
   "source": []
  },
  {
   "cell_type": "code",
   "execution_count": 10,
   "metadata": {
    "ExecuteTime": {
     "end_time": "2021-07-09T06:05:34.440621Z",
     "start_time": "2021-07-09T06:05:34.407876Z"
    }
   },
   "outputs": [
    {
     "name": "stdout",
     "output_type": "stream",
     "text": [
      "<class 'pandas.core.frame.DataFrame'>\n",
      "RangeIndex: 612393 entries, 0 to 612392\n",
      "Data columns (total 6 columns):\n",
      " #   Column                Non-Null Count   Dtype  \n",
      "---  ------                --------------   -----  \n",
      " 0   loan_amount           612393 non-null  float64\n",
      " 1   term_in_months        612393 non-null  float64\n",
      " 2   MPI                   612393 non-null  float64\n",
      " 3   posted_season_Summer  612393 non-null  int64  \n",
      " 4   With_tag              612393 non-null  int64  \n",
      " 5   funding_speed         612393 non-null  float64\n",
      "dtypes: float64(4), int64(2)\n",
      "memory usage: 28.0 MB\n"
     ]
    }
   ],
   "source": [
    "loans_df_4.info()"
   ]
  },
  {
   "cell_type": "code",
   "execution_count": 11,
   "metadata": {
    "ExecuteTime": {
     "end_time": "2021-07-09T06:05:37.268373Z",
     "start_time": "2021-07-09T06:05:37.244558Z"
    }
   },
   "outputs": [
    {
     "data": {
      "text/html": [
       "<div>\n",
       "<style scoped>\n",
       "    .dataframe tbody tr th:only-of-type {\n",
       "        vertical-align: middle;\n",
       "    }\n",
       "\n",
       "    .dataframe tbody tr th {\n",
       "        vertical-align: top;\n",
       "    }\n",
       "\n",
       "    .dataframe thead th {\n",
       "        text-align: right;\n",
       "    }\n",
       "</style>\n",
       "<table border=\"1\" class=\"dataframe\">\n",
       "  <thead>\n",
       "    <tr style=\"text-align: right;\">\n",
       "      <th></th>\n",
       "      <th>loan_amount</th>\n",
       "      <th>term_in_months</th>\n",
       "      <th>MPI</th>\n",
       "      <th>posted_season_Summer</th>\n",
       "      <th>With_tag</th>\n",
       "      <th>funding_speed</th>\n",
       "    </tr>\n",
       "  </thead>\n",
       "  <tbody>\n",
       "    <tr>\n",
       "      <th>0</th>\n",
       "      <td>300.0</td>\n",
       "      <td>12.0</td>\n",
       "      <td>25.0</td>\n",
       "      <td>0</td>\n",
       "      <td>0</td>\n",
       "      <td>1.0</td>\n",
       "    </tr>\n",
       "    <tr>\n",
       "      <th>1</th>\n",
       "      <td>575.0</td>\n",
       "      <td>11.0</td>\n",
       "      <td>52.0</td>\n",
       "      <td>0</td>\n",
       "      <td>0</td>\n",
       "      <td>1.0</td>\n",
       "    </tr>\n",
       "    <tr>\n",
       "      <th>2</th>\n",
       "      <td>150.0</td>\n",
       "      <td>43.0</td>\n",
       "      <td>3.0</td>\n",
       "      <td>0</td>\n",
       "      <td>1</td>\n",
       "      <td>1.0</td>\n",
       "    </tr>\n",
       "    <tr>\n",
       "      <th>3</th>\n",
       "      <td>200.0</td>\n",
       "      <td>11.0</td>\n",
       "      <td>18.0</td>\n",
       "      <td>0</td>\n",
       "      <td>0</td>\n",
       "      <td>1.0</td>\n",
       "    </tr>\n",
       "    <tr>\n",
       "      <th>4</th>\n",
       "      <td>400.0</td>\n",
       "      <td>14.0</td>\n",
       "      <td>29.0</td>\n",
       "      <td>0</td>\n",
       "      <td>0</td>\n",
       "      <td>1.0</td>\n",
       "    </tr>\n",
       "  </tbody>\n",
       "</table>\n",
       "</div>"
      ],
      "text/plain": [
       "   loan_amount  term_in_months   MPI  posted_season_Summer  With_tag  \\\n",
       "0        300.0            12.0  25.0                     0         0   \n",
       "1        575.0            11.0  52.0                     0         0   \n",
       "2        150.0            43.0   3.0                     0         1   \n",
       "3        200.0            11.0  18.0                     0         0   \n",
       "4        400.0            14.0  29.0                     0         0   \n",
       "\n",
       "   funding_speed  \n",
       "0            1.0  \n",
       "1            1.0  \n",
       "2            1.0  \n",
       "3            1.0  \n",
       "4            1.0  "
      ]
     },
     "execution_count": 11,
     "metadata": {},
     "output_type": "execute_result"
    }
   ],
   "source": [
    "loans_df_4.head()"
   ]
  },
  {
   "cell_type": "markdown",
   "metadata": {},
   "source": [
    "### Train/Test Split "
   ]
  },
  {
   "cell_type": "code",
   "execution_count": 12,
   "metadata": {
    "ExecuteTime": {
     "end_time": "2021-07-09T06:05:41.642773Z",
     "start_time": "2021-07-09T06:05:41.624785Z"
    }
   },
   "outputs": [],
   "source": [
    "X = loans_df_4.drop(columns='funding_speed')\n",
    "y = loans_df_4.funding_speed"
   ]
  },
  {
   "cell_type": "code",
   "execution_count": 13,
   "metadata": {
    "ExecuteTime": {
     "end_time": "2021-07-09T06:05:44.186269Z",
     "start_time": "2021-07-09T06:05:44.005845Z"
    }
   },
   "outputs": [],
   "source": [
    "X_train, X_test, y_train, y_test = train_test_split(X, y, test_size=0.3)"
   ]
  },
  {
   "cell_type": "markdown",
   "metadata": {},
   "source": [
    "### Scale the Numeric Features"
   ]
  },
  {
   "cell_type": "code",
   "execution_count": 14,
   "metadata": {
    "ExecuteTime": {
     "end_time": "2021-07-09T06:05:47.127791Z",
     "start_time": "2021-07-09T06:05:46.469962Z"
    }
   },
   "outputs": [
    {
     "data": {
      "text/html": [
       "<div>\n",
       "<style scoped>\n",
       "    .dataframe tbody tr th:only-of-type {\n",
       "        vertical-align: middle;\n",
       "    }\n",
       "\n",
       "    .dataframe tbody tr th {\n",
       "        vertical-align: top;\n",
       "    }\n",
       "\n",
       "    .dataframe thead th {\n",
       "        text-align: right;\n",
       "    }\n",
       "</style>\n",
       "<table border=\"1\" class=\"dataframe\">\n",
       "  <thead>\n",
       "    <tr style=\"text-align: right;\">\n",
       "      <th></th>\n",
       "      <th>loan_amount</th>\n",
       "      <th>term_in_months</th>\n",
       "      <th>MPI</th>\n",
       "      <th>posted_season_Summer</th>\n",
       "      <th>With_tag</th>\n",
       "    </tr>\n",
       "  </thead>\n",
       "  <tbody>\n",
       "    <tr>\n",
       "      <th>count</th>\n",
       "      <td>4.286750e+05</td>\n",
       "      <td>4.286750e+05</td>\n",
       "      <td>4.286750e+05</td>\n",
       "      <td>428675.000000</td>\n",
       "      <td>428675.000000</td>\n",
       "    </tr>\n",
       "    <tr>\n",
       "      <th>mean</th>\n",
       "      <td>-5.619527e-16</td>\n",
       "      <td>4.059359e-16</td>\n",
       "      <td>3.256334e-16</td>\n",
       "      <td>0.222500</td>\n",
       "      <td>0.739535</td>\n",
       "    </tr>\n",
       "    <tr>\n",
       "      <th>std</th>\n",
       "      <td>1.000001e+00</td>\n",
       "      <td>1.000001e+00</td>\n",
       "      <td>1.000001e+00</td>\n",
       "      <td>0.415925</td>\n",
       "      <td>0.438889</td>\n",
       "    </tr>\n",
       "    <tr>\n",
       "      <th>min</th>\n",
       "      <td>-7.086654e-01</td>\n",
       "      <td>-1.461982e+00</td>\n",
       "      <td>-5.762006e-01</td>\n",
       "      <td>0.000000</td>\n",
       "      <td>0.000000</td>\n",
       "    </tr>\n",
       "    <tr>\n",
       "      <th>25%</th>\n",
       "      <td>-4.907270e-01</td>\n",
       "      <td>-6.481818e-01</td>\n",
       "      <td>-3.709922e-01</td>\n",
       "      <td>0.000000</td>\n",
       "      <td>0.000000</td>\n",
       "    </tr>\n",
       "    <tr>\n",
       "      <th>50%</th>\n",
       "      <td>-2.727886e-01</td>\n",
       "      <td>-6.689561e-02</td>\n",
       "      <td>-2.512873e-01</td>\n",
       "      <td>0.000000</td>\n",
       "      <td>1.000000</td>\n",
       "    </tr>\n",
       "    <tr>\n",
       "      <th>75%</th>\n",
       "      <td>1.388729e-01</td>\n",
       "      <td>4.936163e-02</td>\n",
       "      <td>-2.042789e-02</td>\n",
       "      <td>0.000000</td>\n",
       "      <td>1.000000</td>\n",
       "    </tr>\n",
       "    <tr>\n",
       "      <th>max</th>\n",
       "      <td>4.769788e+01</td>\n",
       "      <td>1.679040e+01</td>\n",
       "      <td>8.492729e+01</td>\n",
       "      <td>1.000000</td>\n",
       "      <td>1.000000</td>\n",
       "    </tr>\n",
       "  </tbody>\n",
       "</table>\n",
       "</div>"
      ],
      "text/plain": [
       "        loan_amount  term_in_months           MPI  posted_season_Summer  \\\n",
       "count  4.286750e+05    4.286750e+05  4.286750e+05         428675.000000   \n",
       "mean  -5.619527e-16    4.059359e-16  3.256334e-16              0.222500   \n",
       "std    1.000001e+00    1.000001e+00  1.000001e+00              0.415925   \n",
       "min   -7.086654e-01   -1.461982e+00 -5.762006e-01              0.000000   \n",
       "25%   -4.907270e-01   -6.481818e-01 -3.709922e-01              0.000000   \n",
       "50%   -2.727886e-01   -6.689561e-02 -2.512873e-01              0.000000   \n",
       "75%    1.388729e-01    4.936163e-02 -2.042789e-02              0.000000   \n",
       "max    4.769788e+01    1.679040e+01  8.492729e+01              1.000000   \n",
       "\n",
       "            With_tag  \n",
       "count  428675.000000  \n",
       "mean        0.739535  \n",
       "std         0.438889  \n",
       "min         0.000000  \n",
       "25%         0.000000  \n",
       "50%         1.000000  \n",
       "75%         1.000000  \n",
       "max         1.000000  "
      ]
     },
     "execution_count": 14,
     "metadata": {},
     "output_type": "execute_result"
    }
   ],
   "source": [
    "numeric_columns = ['loan_amount', 'term_in_months', 'MPI']\n",
    "\n",
    "scaler = StandardScaler() \n",
    "X_train.loc[:, numeric_columns] = scaler.fit_transform(X_train[numeric_columns])\n",
    "X_test.loc[:, numeric_columns] = scaler.transform(X_test[numeric_columns])\n",
    "X_train.describe()"
   ]
  },
  {
   "cell_type": "markdown",
   "metadata": {},
   "source": [
    "### Define Evaluation Functions"
   ]
  },
  {
   "cell_type": "markdown",
   "metadata": {},
   "source": [
    "#### Cross Validation Accuracy Scores"
   ]
  },
  {
   "cell_type": "code",
   "execution_count": 15,
   "metadata": {
    "ExecuteTime": {
     "end_time": "2021-07-09T06:05:56.269363Z",
     "start_time": "2021-07-09T06:05:56.261918Z"
    }
   },
   "outputs": [],
   "source": [
    "def CV_accuracy(clf):\n",
    "    # Calculate cross validation accuary score\n",
    "    score_accu_tr= cross_val_score(clf,X_train,y_train,cv=5,scoring='accuracy')\n",
    "    score_accu_te= cross_val_score(clf,X_test,y_test,cv=5,scoring='accuracy')\n",
    "    print('Mean CV accuracy score for train data is:', score_accu_tr.mean().round(3))\n",
    "    print('Mean CV accuracy score for test data is:', score_accu_te.mean().round(3))\n",
    "    return score_accu_tr.mean(), score_accu_te.mean()"
   ]
  },
  {
   "cell_type": "markdown",
   "metadata": {},
   "source": [
    "#### True Positive Rate and False Positive Rate"
   ]
  },
  {
   "cell_type": "code",
   "execution_count": 16,
   "metadata": {
    "ExecuteTime": {
     "end_time": "2021-07-09T06:05:57.877095Z",
     "start_time": "2021-07-09T06:05:57.869616Z"
    }
   },
   "outputs": [],
   "source": [
    "def TPR_FPR(clf):\n",
    "    # Calcute true positive rate and false positive rate \n",
    "    predictions = clf.predict(X_test)\n",
    "    tn, fp, fn, tp = confusion_matrix(y_test, predictions).reshape(-1)\n",
    "    TPR = (tp / (tp + fn)).round(3)\n",
    "    FPR = (fp / (fp + tn)).round(3)\n",
    "    print('True positive rate is:', TPR)\n",
    "    print('False positive rate is:', FPR)\n",
    "    return TPR, FPR"
   ]
  },
  {
   "cell_type": "markdown",
   "metadata": {},
   "source": [
    "#### Calculate AUROC and Plot ROC Curve"
   ]
  },
  {
   "cell_type": "code",
   "execution_count": 17,
   "metadata": {
    "ExecuteTime": {
     "end_time": "2021-07-09T06:05:58.450885Z",
     "start_time": "2021-07-09T06:05:58.444001Z"
    }
   },
   "outputs": [],
   "source": [
    "def ROC_AUC(clf):\n",
    "    # Calculate the area under the receiver operating characteristic curve (ROC AUC)\n",
    "    auroc = roc_auc_score(y_test, lr.predict_proba(X_test)[:, 1]).round(3)\n",
    "    print(\"ROC-AUC Score is:\", auroc)\n",
    "    \n",
    "    # Plot ROC Curve\n",
    "    fpr, tpr, thresholds = roc_curve(y_test, clf.predict_proba(X_test)[:, 1])  \n",
    "    plt.plot(fpr, tpr, linewidth=2)\n",
    "    plt.plot([0, 1], [0, 1], 'r', linewidth=2)\n",
    "    plt.axis([0, 1, 0, 1])\n",
    "    plt.xlabel('False Positive Rate (FPR)', fontsize=15)\n",
    "    plt.ylabel('True Positive Rate (TPR)', fontsize=15)\n",
    "    plt.title('ROC Curve',fontsize=15)\n",
    "    plt.xlim(-0.05,1)\n",
    "    plt.ylim(0,1.05)\n",
    "    plt.show()\n",
    "    \n",
    "    return auroc"
   ]
  },
  {
   "cell_type": "markdown",
   "metadata": {},
   "source": [
    "#### Feature Coefficient"
   ]
  },
  {
   "cell_type": "code",
   "execution_count": 18,
   "metadata": {
    "ExecuteTime": {
     "end_time": "2021-07-09T06:05:59.263473Z",
     "start_time": "2021-07-09T06:05:59.254862Z"
    }
   },
   "outputs": [],
   "source": [
    "def feature_coef(clf):\n",
    "    # Check and plot feature coefficient\n",
    "    coefficients = clf.coef_\n",
    "    ordered_feature_coef = pd.Series(coefficients[0], index=X_train.columns).abs().sort_values(ascending=False)   \n",
    "    plt.figure(figsize=(8, 8))\n",
    "    ordered_feature_coef.sort_values().plot.barh()\n",
    "    plt.xlabel('Coefficient',fontsize=15)\n",
    "    plt.ylabel('Features',fontsize=15)\n",
    "    plt.title('Feature Coefficient',fontsize=15)   \n",
    "    plt.show()\n",
    "    print(ordered_feature_coef)"
   ]
  },
  {
   "cell_type": "markdown",
   "metadata": {},
   "source": [
    "#### Feature Importance"
   ]
  },
  {
   "cell_type": "code",
   "execution_count": 19,
   "metadata": {
    "ExecuteTime": {
     "end_time": "2021-07-09T06:06:00.250198Z",
     "start_time": "2021-07-09T06:06:00.245116Z"
    }
   },
   "outputs": [],
   "source": [
    "def feature_importance(clf):\n",
    "    # Check and plot feature importance\n",
    "    importance = clf.feature_importances_\n",
    "    ordered_feature_importance = pd.Series(importance[0], index=X_train.columns).abs()\n",
    "    plt.subplots(figsize=(10, 6))\n",
    "    ordered_feature_importance.nlargest(10).sort_values().plot.barh()\n",
    "    plt.xlabel('Importance',fontsize=15)\n",
    "    plt.ylabel('Features',fontsize=15)\n",
    "    plt.title('Feature Importance',fontsize=15)  \n",
    "    plt.show()"
   ]
  },
  {
   "cell_type": "markdown",
   "metadata": {},
   "source": [
    "## Model Selection, Tuning & Training"
   ]
  },
  {
   "cell_type": "markdown",
   "metadata": {},
   "source": [
    "### Gradient Boosting"
   ]
  },
  {
   "cell_type": "markdown",
   "metadata": {},
   "source": [
    "#### Calculating Accuracy with Gradient Boosting Default Hyper-parameters"
   ]
  },
  {
   "cell_type": "code",
   "execution_count": null,
   "metadata": {
    "ExecuteTime": {
     "start_time": "2021-07-10T18:51:35.601Z"
    }
   },
   "outputs": [],
   "source": [
    "gb_default = GradientBoostingClassifier()\n",
    "gb_default.fit(X_train, y_train)\n",
    "\n",
    "# Calculate cross validation accuracy scores\n",
    "cv_accuracy_train_gb_default, cv_accuracy_test_gb_default = CV_accuracy(gb_default)"
   ]
  },
  {
   "cell_type": "markdown",
   "metadata": {},
   "source": [
    "#### Gradient Boosting Hyper-parameters Tuning"
   ]
  },
  {
   "cell_type": "code",
   "execution_count": null,
   "metadata": {
    "ExecuteTime": {
     "start_time": "2021-07-10T18:35:32.762Z"
    }
   },
   "outputs": [],
   "source": [
    "hyperparameters = {'loss' : ['deviance', 'exponential'],\n",
    "                   'n_estimators' : [100, 200],\n",
    "                   'learning_rate': [0.3, 0.1],\n",
    "                   'max_depth': [2, 4, 8, 10, 12],\n",
    "                   'min_samples_leaf': [100,150, 200, 250],\n",
    "                   'max_features': ['sqrt', 'log2'] \n",
    "                   }\n",
    "\n",
    "gb = GradientBoostingClassifier()\n",
    "grid = GridSearchCV(gb, param_grid=hyperparameters, cv=3)\n",
    "grid.fit(X_train, y_train)\n",
    "\n",
    "best_estimator = grid.best_estimator_\n",
    "best_params = grid.best_params_\n",
    "best_score = grid.best_score_\n",
    "print(best_params)\n",
    "print(best_score)\n",
    "print(best_estimator)"
   ]
  },
  {
   "cell_type": "markdown",
   "metadata": {},
   "source": [
    "#### Best Gradient Boosting Training and Evaluation"
   ]
  },
  {
   "cell_type": "code",
   "execution_count": null,
   "metadata": {},
   "outputs": [],
   "source": [
    "# Initial classfier\n",
    "# gb_best = GradientBoostingClassifier()\n",
    "# gb_best.fit(X_train, y_train)"
   ]
  },
  {
   "cell_type": "code",
   "execution_count": null,
   "metadata": {},
   "outputs": [],
   "source": [
    "# Calculate cross validation accuracy scores\n",
    "# cv_accuracy_train_gb, cv_accuracy_test_gb = CV_accuracy(gb_best)"
   ]
  },
  {
   "cell_type": "code",
   "execution_count": null,
   "metadata": {},
   "outputs": [],
   "source": [
    "# Calculate true positive rate and false positive ate\n",
    "# TPR_gb, FPR_gb = TPR_FPR(gb_best)"
   ]
  },
  {
   "cell_type": "code",
   "execution_count": null,
   "metadata": {},
   "outputs": [],
   "source": [
    "# Calculate AUROC\n",
    "# auroc_gb = ROC_AUC(gb_best)"
   ]
  },
  {
   "cell_type": "code",
   "execution_count": null,
   "metadata": {},
   "outputs": [],
   "source": []
  }
 ],
 "metadata": {
  "hide_input": false,
  "kernelspec": {
   "display_name": "Python 3",
   "language": "python",
   "name": "python3"
  },
  "language_info": {
   "codemirror_mode": {
    "name": "ipython",
    "version": 3
   },
   "file_extension": ".py",
   "mimetype": "text/x-python",
   "name": "python",
   "nbconvert_exporter": "python",
   "pygments_lexer": "ipython3",
   "version": "3.8.3"
  },
  "toc": {
   "base_numbering": 1,
   "nav_menu": {},
   "number_sections": true,
   "sideBar": true,
   "skip_h1_title": false,
   "title_cell": "Table of Contents",
   "title_sidebar": "Contents",
   "toc_cell": true,
   "toc_position": {},
   "toc_section_display": true,
   "toc_window_display": false
  },
  "varInspector": {
   "cols": {
    "lenName": 16,
    "lenType": 16,
    "lenVar": 40
   },
   "kernels_config": {
    "python": {
     "delete_cmd_postfix": "",
     "delete_cmd_prefix": "del ",
     "library": "var_list.py",
     "varRefreshCmd": "print(var_dic_list())"
    },
    "r": {
     "delete_cmd_postfix": ") ",
     "delete_cmd_prefix": "rm(",
     "library": "var_list.r",
     "varRefreshCmd": "cat(var_dic_list()) "
    }
   },
   "types_to_exclude": [
    "module",
    "function",
    "builtin_function_or_method",
    "instance",
    "_Feature"
   ],
   "window_display": false
  }
 },
 "nbformat": 4,
 "nbformat_minor": 4
}
