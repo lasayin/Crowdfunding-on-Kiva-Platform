{
 "cells": [
  {
   "cell_type": "markdown",
   "metadata": {
    "toc": true
   },
   "source": [
    "<h1>Table of Contents<span class=\"tocSkip\"></span></h1>\n",
    "<div class=\"toc\"><ul class=\"toc-item\"><li><span><a href=\"#Preparing-for-Modeling\" data-toc-modified-id=\"Preparing-for-Modeling-1\"><span class=\"toc-item-num\">1&nbsp;&nbsp;</span>Preparing for Modeling</a></span><ul class=\"toc-item\"><li><span><a href=\"#Import-Data\" data-toc-modified-id=\"Import-Data-1.1\"><span class=\"toc-item-num\">1.1&nbsp;&nbsp;</span>Import Data</a></span></li><li><span><a href=\"#Train/Test-Split\" data-toc-modified-id=\"Train/Test-Split-1.2\"><span class=\"toc-item-num\">1.2&nbsp;&nbsp;</span>Train/Test Split</a></span></li><li><span><a href=\"#Scale-the-Numeric-Features\" data-toc-modified-id=\"Scale-the-Numeric-Features-1.3\"><span class=\"toc-item-num\">1.3&nbsp;&nbsp;</span>Scale the Numeric Features</a></span></li><li><span><a href=\"#Define-Evaluation-Functions\" data-toc-modified-id=\"Define-Evaluation-Functions-1.4\"><span class=\"toc-item-num\">1.4&nbsp;&nbsp;</span>Define Evaluation Functions</a></span><ul class=\"toc-item\"><li><span><a href=\"#Cross-Validation-Accuracy-Scores\" data-toc-modified-id=\"Cross-Validation-Accuracy-Scores-1.4.1\"><span class=\"toc-item-num\">1.4.1&nbsp;&nbsp;</span>Cross Validation Accuracy Scores</a></span></li><li><span><a href=\"#True-Positive-Rate-and-False-Positive-Rate\" data-toc-modified-id=\"True-Positive-Rate-and-False-Positive-Rate-1.4.2\"><span class=\"toc-item-num\">1.4.2&nbsp;&nbsp;</span>True Positive Rate and False Positive Rate</a></span></li><li><span><a href=\"#Calculate-AUROC-and-Plot-ROC-Curve\" data-toc-modified-id=\"Calculate-AUROC-and-Plot-ROC-Curve-1.4.3\"><span class=\"toc-item-num\">1.4.3&nbsp;&nbsp;</span>Calculate AUROC and Plot ROC Curve</a></span></li><li><span><a href=\"#Feature-Coefficient\" data-toc-modified-id=\"Feature-Coefficient-1.4.4\"><span class=\"toc-item-num\">1.4.4&nbsp;&nbsp;</span>Feature Coefficient</a></span></li><li><span><a href=\"#Feature-Importance\" data-toc-modified-id=\"Feature-Importance-1.4.5\"><span class=\"toc-item-num\">1.4.5&nbsp;&nbsp;</span>Feature Importance</a></span></li></ul></li></ul></li><li><span><a href=\"#Model-Selection,-Tuning-&amp;-Training\" data-toc-modified-id=\"Model-Selection,-Tuning-&amp;-Training-2\"><span class=\"toc-item-num\">2&nbsp;&nbsp;</span>Model Selection, Tuning &amp; Training</a></span><ul class=\"toc-item\"><li><span><a href=\"#Baseline-Model:-Logistic-Regression\" data-toc-modified-id=\"Baseline-Model:-Logistic-Regression-2.1\"><span class=\"toc-item-num\">2.1&nbsp;&nbsp;</span>Baseline Model: Logistic Regression</a></span><ul class=\"toc-item\"><li><span><a href=\"#Calculating-Accuracy-with--Logistic-Regression-Default-Hyper-parameters\" data-toc-modified-id=\"Calculating-Accuracy-with--Logistic-Regression-Default-Hyper-parameters-2.1.1\"><span class=\"toc-item-num\">2.1.1&nbsp;&nbsp;</span>Calculating Accuracy with  Logistic Regression Default Hyper-parameters</a></span></li><li><span><a href=\"#Comparing-the-Accuracy-Scores-with-Different-C-parameter\" data-toc-modified-id=\"Comparing-the-Accuracy-Scores-with-Different-C-parameter-2.1.2\"><span class=\"toc-item-num\">2.1.2&nbsp;&nbsp;</span>Comparing the Accuracy Scores with Different C parameter</a></span></li></ul></li><li><span><a href=\"#K-Nearest-Neighbors\" data-toc-modified-id=\"K-Nearest-Neighbors-2.2\"><span class=\"toc-item-num\">2.2&nbsp;&nbsp;</span>K-Nearest Neighbors</a></span><ul class=\"toc-item\"><li><span><a href=\"#Calculating-Accuracy-with-KNN-Default-Hyper-parameters\" data-toc-modified-id=\"Calculating-Accuracy-with-KNN-Default-Hyper-parameters-2.2.1\"><span class=\"toc-item-num\">2.2.1&nbsp;&nbsp;</span>Calculating Accuracy with KNN Default Hyper-parameters</a></span></li><li><span><a href=\"#Comparing-the-Accuracy-Scores-with-Different-Number-of-Neighbors\" data-toc-modified-id=\"Comparing-the-Accuracy-Scores-with-Different-Number-of-Neighbors-2.2.2\"><span class=\"toc-item-num\">2.2.2&nbsp;&nbsp;</span>Comparing the Accuracy Scores with Different Number of Neighbors</a></span></li><li><span><a href=\"#KNN-Hyper-parameters-tuning\" data-toc-modified-id=\"KNN-Hyper-parameters-tuning-2.2.3\"><span class=\"toc-item-num\">2.2.3&nbsp;&nbsp;</span>KNN Hyper-parameters tuning</a></span></li><li><span><a href=\"#Best-KNN-training-and-evaluation\" data-toc-modified-id=\"Best-KNN-training-and-evaluation-2.2.4\"><span class=\"toc-item-num\">2.2.4&nbsp;&nbsp;</span>Best KNN training and evaluation</a></span></li></ul></li><li><span><a href=\"#Random-Forest\" data-toc-modified-id=\"Random-Forest-2.3\"><span class=\"toc-item-num\">2.3&nbsp;&nbsp;</span>Random Forest</a></span><ul class=\"toc-item\"><li><span><a href=\"#Calculating-Accuracy-with-Random-Forest-Default-Hyper-parameters\" data-toc-modified-id=\"Calculating-Accuracy-with-Random-Forest-Default-Hyper-parameters-2.3.1\"><span class=\"toc-item-num\">2.3.1&nbsp;&nbsp;</span>Calculating Accuracy with Random Forest Default Hyper-parameters</a></span></li><li><span><a href=\"#Random-Forest-Hyper-parameters-Tuning\" data-toc-modified-id=\"Random-Forest-Hyper-parameters-Tuning-2.3.2\"><span class=\"toc-item-num\">2.3.2&nbsp;&nbsp;</span>Random Forest Hyper-parameters Tuning</a></span></li><li><span><a href=\"#Best-Random-Forest-Training-and-Evaluation\" data-toc-modified-id=\"Best-Random-Forest-Training-and-Evaluation-2.3.3\"><span class=\"toc-item-num\">2.3.3&nbsp;&nbsp;</span>Best Random Forest Training and Evaluation</a></span></li></ul></li><li><span><a href=\"#Gradient-Boosting\" data-toc-modified-id=\"Gradient-Boosting-2.4\"><span class=\"toc-item-num\">2.4&nbsp;&nbsp;</span>Gradient Boosting</a></span><ul class=\"toc-item\"><li><span><a href=\"#Calculating-Accuracy-with-Gradient-Boosting-Default-Hyper-parameters\" data-toc-modified-id=\"Calculating-Accuracy-with-Gradient-Boosting-Default-Hyper-parameters-2.4.1\"><span class=\"toc-item-num\">2.4.1&nbsp;&nbsp;</span>Calculating Accuracy with Gradient Boosting Default Hyper-parameters</a></span></li><li><span><a href=\"#Gradient-Boosting-Hyper-parameters-Tuning\" data-toc-modified-id=\"Gradient-Boosting-Hyper-parameters-Tuning-2.4.2\"><span class=\"toc-item-num\">2.4.2&nbsp;&nbsp;</span>Gradient Boosting Hyper-parameters Tuning</a></span></li><li><span><a href=\"#Best-Gradient-Boosting-Training-and-Evaluation\" data-toc-modified-id=\"Best-Gradient-Boosting-Training-and-Evaluation-2.4.3\"><span class=\"toc-item-num\">2.4.3&nbsp;&nbsp;</span>Best Gradient Boosting Training and Evaluation</a></span></li></ul></li></ul></li><li><span><a href=\"#Comparing-Models\" data-toc-modified-id=\"Comparing-Models-3\"><span class=\"toc-item-num\">3&nbsp;&nbsp;</span>Comparing Models</a></span><ul class=\"toc-item\"><li><span><a href=\"#Comparing-Accuracy\" data-toc-modified-id=\"Comparing-Accuracy-3.1\"><span class=\"toc-item-num\">3.1&nbsp;&nbsp;</span>Comparing Accuracy</a></span></li><li><span><a href=\"#Comparing-TPR,-FPR-and-AUROC\" data-toc-modified-id=\"Comparing-TPR,-FPR-and-AUROC-3.2\"><span class=\"toc-item-num\">3.2&nbsp;&nbsp;</span>Comparing TPR, FPR and AUROC</a></span></li></ul></li></ul></div>"
   ]
  },
  {
   "cell_type": "code",
   "execution_count": 2,
   "metadata": {
    "ExecuteTime": {
     "end_time": "2021-07-09T06:04:07.823859Z",
     "start_time": "2021-07-09T06:04:05.514553Z"
    }
   },
   "outputs": [],
   "source": [
    "import pandas as pd\n",
    "import numpy as np\n",
    "import matplotlib.pyplot as plt\n",
    "import seaborn as sns\n",
    "from sklearn.preprocessing import StandardScaler\n",
    "from sklearn.model_selection import train_test_split\n",
    "from sklearn.model_selection import cross_val_score\n",
    "from sklearn.model_selection import GridSearchCV\n",
    "from sklearn.linear_model import LogisticRegression\n",
    "from sklearn.neighbors import KNeighborsClassifier\n",
    "from sklearn.ensemble import RandomForestClassifier\n",
    "from sklearn.ensemble import GradientBoostingClassifier\n",
    "from sklearn.metrics import accuracy_score\n",
    "from sklearn.metrics import roc_curve\n",
    "from sklearn.metrics import roc_auc_score\n",
    "from sklearn.metrics import confusion_matrix\n",
    "\n",
    "sns.set()\n",
    "pd.options.mode.chained_assignment = None\n",
    "np.random.seed(1)"
   ]
  },
  {
   "cell_type": "markdown",
   "metadata": {},
   "source": [
    "## Preparing for Modeling"
   ]
  },
  {
   "cell_type": "markdown",
   "metadata": {},
   "source": [
    "### Import Data "
   ]
  },
  {
   "cell_type": "code",
   "execution_count": 3,
   "metadata": {
    "ExecuteTime": {
     "end_time": "2021-07-09T06:04:10.173490Z",
     "start_time": "2021-07-09T06:04:07.859150Z"
    }
   },
   "outputs": [],
   "source": [
    "loans_df = pd.read_csv('/Users/lasayin/Desktop/Springboard/GitHub/Springboard_DS_Capstone2/ProcessedData/loans_df.cvs')"
   ]
  },
  {
   "cell_type": "code",
   "execution_count": 9,
   "metadata": {
    "ExecuteTime": {
     "end_time": "2021-07-09T06:05:32.100083Z",
     "start_time": "2021-07-09T06:05:32.084842Z"
    }
   },
   "outputs": [],
   "source": [
    "loans_df_4 = loans_df[['loan_amount', 'term_in_months', 'MPI', 'posted_season_Summer', 'With_tag', 'funding_speed']]"
   ]
  },
  {
   "cell_type": "code",
   "execution_count": null,
   "metadata": {},
   "outputs": [],
   "source": []
  },
  {
   "cell_type": "code",
   "execution_count": 10,
   "metadata": {
    "ExecuteTime": {
     "end_time": "2021-07-09T06:05:34.440621Z",
     "start_time": "2021-07-09T06:05:34.407876Z"
    }
   },
   "outputs": [
    {
     "name": "stdout",
     "output_type": "stream",
     "text": [
      "<class 'pandas.core.frame.DataFrame'>\n",
      "RangeIndex: 612393 entries, 0 to 612392\n",
      "Data columns (total 6 columns):\n",
      " #   Column                Non-Null Count   Dtype  \n",
      "---  ------                --------------   -----  \n",
      " 0   loan_amount           612393 non-null  float64\n",
      " 1   term_in_months        612393 non-null  float64\n",
      " 2   MPI                   612393 non-null  float64\n",
      " 3   posted_season_Summer  612393 non-null  int64  \n",
      " 4   With_tag              612393 non-null  int64  \n",
      " 5   funding_speed         612393 non-null  float64\n",
      "dtypes: float64(4), int64(2)\n",
      "memory usage: 28.0 MB\n"
     ]
    }
   ],
   "source": [
    "loans_df_4.info()"
   ]
  },
  {
   "cell_type": "code",
   "execution_count": 11,
   "metadata": {
    "ExecuteTime": {
     "end_time": "2021-07-09T06:05:37.268373Z",
     "start_time": "2021-07-09T06:05:37.244558Z"
    }
   },
   "outputs": [
    {
     "data": {
      "text/html": [
       "<div>\n",
       "<style scoped>\n",
       "    .dataframe tbody tr th:only-of-type {\n",
       "        vertical-align: middle;\n",
       "    }\n",
       "\n",
       "    .dataframe tbody tr th {\n",
       "        vertical-align: top;\n",
       "    }\n",
       "\n",
       "    .dataframe thead th {\n",
       "        text-align: right;\n",
       "    }\n",
       "</style>\n",
       "<table border=\"1\" class=\"dataframe\">\n",
       "  <thead>\n",
       "    <tr style=\"text-align: right;\">\n",
       "      <th></th>\n",
       "      <th>loan_amount</th>\n",
       "      <th>term_in_months</th>\n",
       "      <th>MPI</th>\n",
       "      <th>posted_season_Summer</th>\n",
       "      <th>With_tag</th>\n",
       "      <th>funding_speed</th>\n",
       "    </tr>\n",
       "  </thead>\n",
       "  <tbody>\n",
       "    <tr>\n",
       "      <th>0</th>\n",
       "      <td>300.0</td>\n",
       "      <td>12.0</td>\n",
       "      <td>25.0</td>\n",
       "      <td>0</td>\n",
       "      <td>0</td>\n",
       "      <td>1.0</td>\n",
       "    </tr>\n",
       "    <tr>\n",
       "      <th>1</th>\n",
       "      <td>575.0</td>\n",
       "      <td>11.0</td>\n",
       "      <td>52.0</td>\n",
       "      <td>0</td>\n",
       "      <td>0</td>\n",
       "      <td>1.0</td>\n",
       "    </tr>\n",
       "    <tr>\n",
       "      <th>2</th>\n",
       "      <td>150.0</td>\n",
       "      <td>43.0</td>\n",
       "      <td>3.0</td>\n",
       "      <td>0</td>\n",
       "      <td>1</td>\n",
       "      <td>1.0</td>\n",
       "    </tr>\n",
       "    <tr>\n",
       "      <th>3</th>\n",
       "      <td>200.0</td>\n",
       "      <td>11.0</td>\n",
       "      <td>18.0</td>\n",
       "      <td>0</td>\n",
       "      <td>0</td>\n",
       "      <td>1.0</td>\n",
       "    </tr>\n",
       "    <tr>\n",
       "      <th>4</th>\n",
       "      <td>400.0</td>\n",
       "      <td>14.0</td>\n",
       "      <td>29.0</td>\n",
       "      <td>0</td>\n",
       "      <td>0</td>\n",
       "      <td>1.0</td>\n",
       "    </tr>\n",
       "  </tbody>\n",
       "</table>\n",
       "</div>"
      ],
      "text/plain": [
       "   loan_amount  term_in_months   MPI  posted_season_Summer  With_tag  \\\n",
       "0        300.0            12.0  25.0                     0         0   \n",
       "1        575.0            11.0  52.0                     0         0   \n",
       "2        150.0            43.0   3.0                     0         1   \n",
       "3        200.0            11.0  18.0                     0         0   \n",
       "4        400.0            14.0  29.0                     0         0   \n",
       "\n",
       "   funding_speed  \n",
       "0            1.0  \n",
       "1            1.0  \n",
       "2            1.0  \n",
       "3            1.0  \n",
       "4            1.0  "
      ]
     },
     "execution_count": 11,
     "metadata": {},
     "output_type": "execute_result"
    }
   ],
   "source": [
    "loans_df_4.head()"
   ]
  },
  {
   "cell_type": "markdown",
   "metadata": {},
   "source": [
    "### Train/Test Split "
   ]
  },
  {
   "cell_type": "code",
   "execution_count": 12,
   "metadata": {
    "ExecuteTime": {
     "end_time": "2021-07-09T06:05:41.642773Z",
     "start_time": "2021-07-09T06:05:41.624785Z"
    }
   },
   "outputs": [],
   "source": [
    "X = loans_df_4.drop(columns='funding_speed')\n",
    "y = loans_df_4.funding_speed"
   ]
  },
  {
   "cell_type": "code",
   "execution_count": 13,
   "metadata": {
    "ExecuteTime": {
     "end_time": "2021-07-09T06:05:44.186269Z",
     "start_time": "2021-07-09T06:05:44.005845Z"
    }
   },
   "outputs": [],
   "source": [
    "X_train, X_test, y_train, y_test = train_test_split(X, y, test_size=0.3)"
   ]
  },
  {
   "cell_type": "markdown",
   "metadata": {},
   "source": [
    "### Scale the Numeric Features"
   ]
  },
  {
   "cell_type": "code",
   "execution_count": 14,
   "metadata": {
    "ExecuteTime": {
     "end_time": "2021-07-09T06:05:47.127791Z",
     "start_time": "2021-07-09T06:05:46.469962Z"
    }
   },
   "outputs": [
    {
     "data": {
      "text/html": [
       "<div>\n",
       "<style scoped>\n",
       "    .dataframe tbody tr th:only-of-type {\n",
       "        vertical-align: middle;\n",
       "    }\n",
       "\n",
       "    .dataframe tbody tr th {\n",
       "        vertical-align: top;\n",
       "    }\n",
       "\n",
       "    .dataframe thead th {\n",
       "        text-align: right;\n",
       "    }\n",
       "</style>\n",
       "<table border=\"1\" class=\"dataframe\">\n",
       "  <thead>\n",
       "    <tr style=\"text-align: right;\">\n",
       "      <th></th>\n",
       "      <th>loan_amount</th>\n",
       "      <th>term_in_months</th>\n",
       "      <th>MPI</th>\n",
       "      <th>posted_season_Summer</th>\n",
       "      <th>With_tag</th>\n",
       "    </tr>\n",
       "  </thead>\n",
       "  <tbody>\n",
       "    <tr>\n",
       "      <th>count</th>\n",
       "      <td>4.286750e+05</td>\n",
       "      <td>4.286750e+05</td>\n",
       "      <td>4.286750e+05</td>\n",
       "      <td>428675.000000</td>\n",
       "      <td>428675.000000</td>\n",
       "    </tr>\n",
       "    <tr>\n",
       "      <th>mean</th>\n",
       "      <td>-5.619527e-16</td>\n",
       "      <td>4.059359e-16</td>\n",
       "      <td>3.256334e-16</td>\n",
       "      <td>0.222500</td>\n",
       "      <td>0.739535</td>\n",
       "    </tr>\n",
       "    <tr>\n",
       "      <th>std</th>\n",
       "      <td>1.000001e+00</td>\n",
       "      <td>1.000001e+00</td>\n",
       "      <td>1.000001e+00</td>\n",
       "      <td>0.415925</td>\n",
       "      <td>0.438889</td>\n",
       "    </tr>\n",
       "    <tr>\n",
       "      <th>min</th>\n",
       "      <td>-7.086654e-01</td>\n",
       "      <td>-1.461982e+00</td>\n",
       "      <td>-5.762006e-01</td>\n",
       "      <td>0.000000</td>\n",
       "      <td>0.000000</td>\n",
       "    </tr>\n",
       "    <tr>\n",
       "      <th>25%</th>\n",
       "      <td>-4.907270e-01</td>\n",
       "      <td>-6.481818e-01</td>\n",
       "      <td>-3.709922e-01</td>\n",
       "      <td>0.000000</td>\n",
       "      <td>0.000000</td>\n",
       "    </tr>\n",
       "    <tr>\n",
       "      <th>50%</th>\n",
       "      <td>-2.727886e-01</td>\n",
       "      <td>-6.689561e-02</td>\n",
       "      <td>-2.512873e-01</td>\n",
       "      <td>0.000000</td>\n",
       "      <td>1.000000</td>\n",
       "    </tr>\n",
       "    <tr>\n",
       "      <th>75%</th>\n",
       "      <td>1.388729e-01</td>\n",
       "      <td>4.936163e-02</td>\n",
       "      <td>-2.042789e-02</td>\n",
       "      <td>0.000000</td>\n",
       "      <td>1.000000</td>\n",
       "    </tr>\n",
       "    <tr>\n",
       "      <th>max</th>\n",
       "      <td>4.769788e+01</td>\n",
       "      <td>1.679040e+01</td>\n",
       "      <td>8.492729e+01</td>\n",
       "      <td>1.000000</td>\n",
       "      <td>1.000000</td>\n",
       "    </tr>\n",
       "  </tbody>\n",
       "</table>\n",
       "</div>"
      ],
      "text/plain": [
       "        loan_amount  term_in_months           MPI  posted_season_Summer  \\\n",
       "count  4.286750e+05    4.286750e+05  4.286750e+05         428675.000000   \n",
       "mean  -5.619527e-16    4.059359e-16  3.256334e-16              0.222500   \n",
       "std    1.000001e+00    1.000001e+00  1.000001e+00              0.415925   \n",
       "min   -7.086654e-01   -1.461982e+00 -5.762006e-01              0.000000   \n",
       "25%   -4.907270e-01   -6.481818e-01 -3.709922e-01              0.000000   \n",
       "50%   -2.727886e-01   -6.689561e-02 -2.512873e-01              0.000000   \n",
       "75%    1.388729e-01    4.936163e-02 -2.042789e-02              0.000000   \n",
       "max    4.769788e+01    1.679040e+01  8.492729e+01              1.000000   \n",
       "\n",
       "            With_tag  \n",
       "count  428675.000000  \n",
       "mean        0.739535  \n",
       "std         0.438889  \n",
       "min         0.000000  \n",
       "25%         0.000000  \n",
       "50%         1.000000  \n",
       "75%         1.000000  \n",
       "max         1.000000  "
      ]
     },
     "execution_count": 14,
     "metadata": {},
     "output_type": "execute_result"
    }
   ],
   "source": [
    "numeric_columns = ['loan_amount', 'term_in_months', 'MPI']\n",
    "\n",
    "scaler = StandardScaler() \n",
    "X_train.loc[:, numeric_columns] = scaler.fit_transform(X_train[numeric_columns])\n",
    "X_test.loc[:, numeric_columns] = scaler.transform(X_test[numeric_columns])\n",
    "X_train.describe()"
   ]
  },
  {
   "cell_type": "markdown",
   "metadata": {},
   "source": [
    "### Define Evaluation Functions"
   ]
  },
  {
   "cell_type": "markdown",
   "metadata": {},
   "source": [
    "#### Cross Validation Accuracy Scores"
   ]
  },
  {
   "cell_type": "code",
   "execution_count": 15,
   "metadata": {
    "ExecuteTime": {
     "end_time": "2021-07-09T06:05:56.269363Z",
     "start_time": "2021-07-09T06:05:56.261918Z"
    }
   },
   "outputs": [],
   "source": [
    "def CV_accuracy(clf):\n",
    "    # Calculate cross validation accuary score\n",
    "    score_accu_tr= cross_val_score(clf,X_train,y_train,cv=5,scoring='accuracy')\n",
    "    score_accu_te= cross_val_score(clf,X_test,y_test,cv=5,scoring='accuracy')\n",
    "    print('Mean CV accuracy score for train data is:', score_accu_tr.mean().round(3))\n",
    "    print('Mean CV accuracy score for test data is:', score_accu_te.mean().round(3))\n",
    "    return score_accu_tr.mean(), score_accu_te.mean()"
   ]
  },
  {
   "cell_type": "markdown",
   "metadata": {},
   "source": [
    "#### True Positive Rate and False Positive Rate"
   ]
  },
  {
   "cell_type": "code",
   "execution_count": 16,
   "metadata": {
    "ExecuteTime": {
     "end_time": "2021-07-09T06:05:57.877095Z",
     "start_time": "2021-07-09T06:05:57.869616Z"
    }
   },
   "outputs": [],
   "source": [
    "def TPR_FPR(clf):\n",
    "    # Calcute true positive rate and false positive rate \n",
    "    predictions = clf.predict(X_test)\n",
    "    tn, fp, fn, tp = confusion_matrix(y_test, predictions).reshape(-1)\n",
    "    TPR = (tp / (tp + fn)).round(3)\n",
    "    FPR = (fp / (fp + tn)).round(3)\n",
    "    print('True positive rate is:', TPR)\n",
    "    print('False positive rate is:', FPR)\n",
    "    return TPR, FPR"
   ]
  },
  {
   "cell_type": "markdown",
   "metadata": {},
   "source": [
    "#### Calculate AUROC and Plot ROC Curve"
   ]
  },
  {
   "cell_type": "code",
   "execution_count": 17,
   "metadata": {
    "ExecuteTime": {
     "end_time": "2021-07-09T06:05:58.450885Z",
     "start_time": "2021-07-09T06:05:58.444001Z"
    }
   },
   "outputs": [],
   "source": [
    "def ROC_AUC(clf):\n",
    "    # Calculate the area under the receiver operating characteristic curve (ROC AUC)\n",
    "    auroc = roc_auc_score(y_test, lr.predict_proba(X_test)[:, 1]).round(3)\n",
    "    print(\"ROC-AUC Score is:\", auroc)\n",
    "    \n",
    "    # Plot ROC Curve\n",
    "    fpr, tpr, thresholds = roc_curve(y_test, clf.predict_proba(X_test)[:, 1])  \n",
    "    plt.plot(fpr, tpr, linewidth=2)\n",
    "    plt.plot([0, 1], [0, 1], 'r', linewidth=2)\n",
    "    plt.axis([0, 1, 0, 1])\n",
    "    plt.xlabel('False Positive Rate (FPR)', fontsize=15)\n",
    "    plt.ylabel('True Positive Rate (TPR)', fontsize=15)\n",
    "    plt.title('ROC Curve',fontsize=15)\n",
    "    plt.xlim(-0.05,1)\n",
    "    plt.ylim(0,1.05)\n",
    "    plt.show()\n",
    "    \n",
    "    return auroc"
   ]
  },
  {
   "cell_type": "markdown",
   "metadata": {},
   "source": [
    "#### Feature Coefficient"
   ]
  },
  {
   "cell_type": "code",
   "execution_count": 18,
   "metadata": {
    "ExecuteTime": {
     "end_time": "2021-07-09T06:05:59.263473Z",
     "start_time": "2021-07-09T06:05:59.254862Z"
    }
   },
   "outputs": [],
   "source": [
    "def feature_coef(clf):\n",
    "    # Check and plot feature coefficient\n",
    "    coefficients = clf.coef_\n",
    "    ordered_feature_coef = pd.Series(coefficients[0], index=X_train.columns).abs().sort_values(ascending=False)   \n",
    "    plt.figure(figsize=(8, 8))\n",
    "    ordered_feature_coef.sort_values().plot.barh()\n",
    "    plt.xlabel('Coefficient',fontsize=15)\n",
    "    plt.ylabel('Features',fontsize=15)\n",
    "    plt.title('Feature Coefficient',fontsize=15)   \n",
    "    plt.show()\n",
    "    print(ordered_feature_coef)"
   ]
  },
  {
   "cell_type": "markdown",
   "metadata": {},
   "source": [
    "#### Feature Importance"
   ]
  },
  {
   "cell_type": "code",
   "execution_count": 19,
   "metadata": {
    "ExecuteTime": {
     "end_time": "2021-07-09T06:06:00.250198Z",
     "start_time": "2021-07-09T06:06:00.245116Z"
    }
   },
   "outputs": [],
   "source": [
    "def feature_importance(clf):\n",
    "    # Check and plot feature importance\n",
    "    importance = clf.feature_importances_\n",
    "    ordered_feature_importance = pd.Series(importance[0], index=X_train.columns).abs()\n",
    "    plt.subplots(figsize=(10, 6))\n",
    "    ordered_feature_importance.nlargest(10).sort_values().plot.barh()\n",
    "    plt.xlabel('Importance',fontsize=15)\n",
    "    plt.ylabel('Features',fontsize=15)\n",
    "    plt.title('Feature Importance',fontsize=15)  \n",
    "    plt.show()"
   ]
  },
  {
   "cell_type": "markdown",
   "metadata": {},
   "source": [
    "## Model Selection, Tuning & Training"
   ]
  },
  {
   "cell_type": "markdown",
   "metadata": {},
   "source": [
    "### Baseline Model: Logistic Regression"
   ]
  },
  {
   "cell_type": "markdown",
   "metadata": {},
   "source": [
    "#### Calculating Accuracy with  Logistic Regression Default Hyper-parameters"
   ]
  },
  {
   "cell_type": "code",
   "execution_count": null,
   "metadata": {
    "ExecuteTime": {
     "start_time": "2021-07-11T03:20:30.202Z"
    }
   },
   "outputs": [],
   "source": [
    "lg_default = LogisticRegression(max_iter = 1000)\n",
    "lg_default.fit(X_train, y_train)\n",
    "\n",
    "# Calculate cross validation accuracy scores\n",
    "cv_accuracy_train_lg_default, cv_accuracy_test_lg_default = CV_accuracy(lg_default)"
   ]
  },
  {
   "cell_type": "markdown",
   "metadata": {},
   "source": [
    "#### Comparing the Accuracy Scores with Different C parameter"
   ]
  },
  {
   "cell_type": "code",
   "execution_count": 20,
   "metadata": {
    "ExecuteTime": {
     "end_time": "2021-07-09T06:06:34.090799Z",
     "start_time": "2021-07-09T06:06:03.414785Z"
    },
    "code_folding": [],
    "scrolled": true
   },
   "outputs": [
    {
     "data": {
      "text/html": [
       "<div>\n",
       "<style scoped>\n",
       "    .dataframe tbody tr th:only-of-type {\n",
       "        vertical-align: middle;\n",
       "    }\n",
       "\n",
       "    .dataframe tbody tr th {\n",
       "        vertical-align: top;\n",
       "    }\n",
       "\n",
       "    .dataframe thead th {\n",
       "        text-align: right;\n",
       "    }\n",
       "</style>\n",
       "<table border=\"1\" class=\"dataframe\">\n",
       "  <thead>\n",
       "    <tr style=\"text-align: right;\">\n",
       "      <th></th>\n",
       "      <th>C_parameter</th>\n",
       "      <th>train_accuracy</th>\n",
       "      <th>test_accuracy</th>\n",
       "    </tr>\n",
       "  </thead>\n",
       "  <tbody>\n",
       "    <tr>\n",
       "      <th>0</th>\n",
       "      <td>0.001</td>\n",
       "      <td>0.6899</td>\n",
       "      <td>0.691636</td>\n",
       "    </tr>\n",
       "    <tr>\n",
       "      <th>1</th>\n",
       "      <td>0.010</td>\n",
       "      <td>0.693112</td>\n",
       "      <td>0.694227</td>\n",
       "    </tr>\n",
       "    <tr>\n",
       "      <th>2</th>\n",
       "      <td>0.100</td>\n",
       "      <td>0.693572</td>\n",
       "      <td>0.69469</td>\n",
       "    </tr>\n",
       "    <tr>\n",
       "      <th>3</th>\n",
       "      <td>1.000</td>\n",
       "      <td>0.693707</td>\n",
       "      <td>0.694565</td>\n",
       "    </tr>\n",
       "    <tr>\n",
       "      <th>4</th>\n",
       "      <td>10.000</td>\n",
       "      <td>0.693721</td>\n",
       "      <td>0.694565</td>\n",
       "    </tr>\n",
       "    <tr>\n",
       "      <th>5</th>\n",
       "      <td>100.000</td>\n",
       "      <td>0.693721</td>\n",
       "      <td>0.694565</td>\n",
       "    </tr>\n",
       "  </tbody>\n",
       "</table>\n",
       "</div>"
      ],
      "text/plain": [
       "   C_parameter train_accuracy test_accuracy\n",
       "0        0.001         0.6899      0.691636\n",
       "1        0.010       0.693112      0.694227\n",
       "2        0.100       0.693572       0.69469\n",
       "3        1.000       0.693707      0.694565\n",
       "4       10.000       0.693721      0.694565\n",
       "5      100.000       0.693721      0.694565"
      ]
     },
     "execution_count": 20,
     "metadata": {},
     "output_type": "execute_result"
    }
   ],
   "source": [
    "C_param_range = [0.001,0.01,0.1,1,10,100]\n",
    "lr_C_accuracy = pd.DataFrame(columns = ['C_parameter','train_accuracy', 'test_accuracy'])\n",
    "lr_C_accuracy['C_parameter'] = C_param_range\n",
    "\n",
    "index = 0\n",
    "for i in C_param_range:\n",
    "    lr = LogisticRegression(C = i, max_iter = 1000) \n",
    "    scores_lr_train= cross_val_score(lr,X_train,y_train,cv=5,scoring='accuracy')\n",
    "    scores_lr_test= cross_val_score(lr,X_test,y_test,cv=5,scoring='accuracy')\n",
    "    lr_C_accuracy.iloc[index, 1] = scores_lr_train.mean()\n",
    "    lr_C_accuracy.iloc[index, 2] = scores_lr_test.mean()\n",
    "    index += 1\n",
    "    \n",
    "lr_C_accuracy"
   ]
  },
  {
   "cell_type": "markdown",
   "metadata": {},
   "source": [
    "There are very small differences among the logistic regression models with different C parameters and between train data accuracy score and test data accuracy score. So we'll initial logistic regression with default C value, i.e., 1."
   ]
  },
  {
   "cell_type": "code",
   "execution_count": 21,
   "metadata": {
    "ExecuteTime": {
     "end_time": "2021-07-09T06:06:35.520219Z",
     "start_time": "2021-07-09T06:06:34.690467Z"
    }
   },
   "outputs": [
    {
     "data": {
      "text/plain": [
       "LogisticRegression(max_iter=1000)"
      ]
     },
     "execution_count": 21,
     "metadata": {},
     "output_type": "execute_result"
    }
   ],
   "source": [
    "# Initial classfier\n",
    "lr = LogisticRegression(max_iter = 1000)\n",
    "lr.fit(X_train, y_train)"
   ]
  },
  {
   "cell_type": "code",
   "execution_count": 22,
   "metadata": {
    "ExecuteTime": {
     "end_time": "2021-07-09T06:06:41.834520Z",
     "start_time": "2021-07-09T06:06:35.887294Z"
    }
   },
   "outputs": [
    {
     "name": "stdout",
     "output_type": "stream",
     "text": [
      "Mean CV accuracy score for train data is: 0.694\n",
      "Mean CV accuracy score for test data is: 0.695\n"
     ]
    }
   ],
   "source": [
    "# Calculate cross validation accuracy scores\n",
    "cv_accuracy_train_lr, cv_accuracy_test_lr = CV_accuracy(lr)"
   ]
  },
  {
   "cell_type": "code",
   "execution_count": 23,
   "metadata": {
    "ExecuteTime": {
     "end_time": "2021-07-09T06:06:42.644382Z",
     "start_time": "2021-07-09T06:06:42.371998Z"
    }
   },
   "outputs": [
    {
     "name": "stdout",
     "output_type": "stream",
     "text": [
      "True positive rate is: 0.608\n",
      "False positive rate is: 0.225\n"
     ]
    }
   ],
   "source": [
    "# Calculate true positive rate and false positive ate\n",
    "TPR_lr, FPR_lr = TPR_FPR(lr)"
   ]
  },
  {
   "cell_type": "code",
   "execution_count": 24,
   "metadata": {
    "ExecuteTime": {
     "end_time": "2021-07-09T06:06:43.868708Z",
     "start_time": "2021-07-09T06:06:43.019792Z"
    }
   },
   "outputs": [
    {
     "name": "stdout",
     "output_type": "stream",
     "text": [
      "ROC-AUC Score is: 0.761\n"
     ]
    },
    {
     "data": {
      "image/png": "[encoded data removed]",
      "text/plain": [
       "<Figure size 432x288 with 1 Axes>"
      ]
     },
     "metadata": {},
     "output_type": "display_data"
    }
   ],
   "source": [
    "# Calculate AUROC\n",
    "auroc_lr = ROC_AUC(lr)"
   ]
  },
  {
   "cell_type": "code",
   "execution_count": 25,
   "metadata": {
    "ExecuteTime": {
     "end_time": "2021-07-09T06:06:44.915582Z",
     "start_time": "2021-07-09T06:06:44.255727Z"
    }
   },
   "outputs": [
    {
     "data": {
      "image/png": "[encoded data removed]",
      "text/plain": [
       "<Figure size 576x576 with 1 Axes>"
      ]
     },
     "metadata": {},
     "output_type": "display_data"
    },
    {
     "name": "stdout",
     "output_type": "stream",
     "text": [
      "MPI                     2.923165\n",
      "With_tag                1.120018\n",
      "posted_season_Summer    0.735782\n",
      "term_in_months          0.325104\n",
      "loan_amount             0.143723\n",
      "dtype: float64\n"
     ]
    }
   ],
   "source": [
    "# Calculate feature coefficient\n",
    "feature_coef(lr)"
   ]
  },
  {
   "cell_type": "markdown",
   "metadata": {},
   "source": [
    "Based on the coefficient, the top three important factors are MPI value, repaying loan by week, and whether a loan having tag(s) or not."
   ]
  },
  {
   "cell_type": "markdown",
   "metadata": {},
   "source": [
    "### K-Nearest Neighbors"
   ]
  },
  {
   "cell_type": "markdown",
   "metadata": {},
   "source": [
    "#### Calculating Accuracy with KNN Default Hyper-parameters"
   ]
  },
  {
   "cell_type": "code",
   "execution_count": null,
   "metadata": {
    "ExecuteTime": {
     "start_time": "2021-07-10T18:50:34.480Z"
    }
   },
   "outputs": [],
   "source": [
    "knn_default = KNeighborsClassifier(n_jobs=-1)\n",
    "knn_default.fit(X_train, y_train)\n",
    "\n",
    "# Calculate cross validation accuracy scores\n",
    "cv_accuracy_train_knn_default, cv_accuracy_test_knn_default = CV_accuracy(knn_default)"
   ]
  },
  {
   "cell_type": "markdown",
   "metadata": {},
   "source": [
    "#### Comparing the Accuracy Scores with Different Number of Neighbors"
   ]
  },
  {
   "cell_type": "code",
   "execution_count": 26,
   "metadata": {
    "ExecuteTime": {
     "end_time": "2021-07-09T07:26:08.067091Z",
     "start_time": "2021-07-09T06:57:16.798430Z"
    }
   },
   "outputs": [
    {
     "name": "stdout",
     "output_type": "stream",
     "text": [
      "                     train_accuracy_score  test_accuracy_score\n",
      "number_of_neighbors                                           \n",
      "1.0                              0.654309             0.648129\n",
      "3.0                              0.685748             0.679797\n",
      "5.0                              0.709050             0.701907\n",
      "7.0                              0.714492             0.709446\n",
      "9.0                              0.715617             0.710959\n",
      "11.0                             0.721341             0.717230\n",
      "13.0                             0.723826             0.720098\n",
      "15.0                             0.726809             0.722972\n",
      "17.0                             0.729858             0.725694\n",
      "19.0                             0.730411             0.726320\n",
      "21.0                             0.730276             0.726684\n",
      "23.0                             0.730050             0.726015\n",
      "25.0                             0.731013             0.727245\n",
      "27.0                             0.731797             0.728562\n",
      "29.0                             0.732494             0.729379\n"
     ]
    },
    {
     "data": {
      "image/png": "[encoded data removed]",
      "text/plain": [
       "<Figure size 864x360 with 1 Axes>"
      ]
     },
     "metadata": {},
     "output_type": "display_data"
    }
   ],
   "source": [
    "scores_train = []\n",
    "scores_test = []\n",
    "\n",
    "for i in range(1,30, 2):\n",
    "    knn = KNeighborsClassifier(i, n_jobs=-1)\n",
    "    knn.fit(X_train, y_train)\n",
    "    scores_train.append(knn.score(X_train, y_train))\n",
    "    scores_test.append(knn.score(X_test, y_test))\n",
    "\n",
    "scores_neighbors = pd.DataFrame({'number_of_neighbors': np.linspace(1,29,15), \n",
    "                                'train_accuracy_score': scores_train, \n",
    "                                'test_accuracy_score': scores_test})\n",
    "print(scores_neighbors.set_index('number_of_neighbors'))\n",
    "\n",
    "plt.figure(figsize=(12,5))\n",
    "n_neighbors = range(1,30, 2)\n",
    "sns.lineplot(x=n_neighbors,y=scores_train,marker='*',label='Train Score')\n",
    "sns.lineplot(x=n_neighbors,y=scores_test,marker='o',label='Test Score')\n",
    "plt.xlabel('Number of Neighbors',fontsize=15)\n",
    "plt.ylabel('Train/Test Score',fontsize=15)\n",
    "plt.title('Accuracy Scores of KNN with Different Number of Neighbors',fontsize=15)\n",
    "_ = plt.show()"
   ]
  },
  {
   "cell_type": "markdown",
   "metadata": {
    "ExecuteTime": {
     "end_time": "2021-07-07T19:42:42.088682Z",
     "start_time": "2021-07-07T19:13:18.755Z"
    }
   },
   "source": [
    "#### KNN Hyper-parameters tuning"
   ]
  },
  {
   "cell_type": "code",
   "execution_count": 28,
   "metadata": {
    "ExecuteTime": {
     "end_time": "2021-07-09T11:54:33.848573Z",
     "start_time": "2021-07-09T07:41:52.133530Z"
    }
   },
   "outputs": [
    {
     "name": "stdout",
     "output_type": "stream",
     "text": [
      "{'n_neighbors': 48, 'p': 2, 'weights': 'uniform'}\n",
      "0.7287572170058902\n",
      "KNeighborsClassifier(n_jobs=-1, n_neighbors=48)\n"
     ]
    }
   ],
   "source": [
    "hyperparameters = {\n",
    "    \"n_neighbors\": range(10,50,2),\n",
    "    \"weights\": [\"distance\", \"uniform\"],\n",
    "    \"p\": [1,2]\n",
    "}\n",
    "\n",
    "knn = KNeighborsClassifier(n_jobs=-1)\n",
    "grid = GridSearchCV(knn, param_grid=hyperparameters, cv=5)\n",
    "grid.fit(X_train, y_train)\n",
    "best_params = grid.best_params_\n",
    "best_score = grid.best_score_\n",
    "best_estimator = grid.best_estimator_\n",
    "print(best_params)\n",
    "print(best_score)\n",
    "print(best_estimator)"
   ]
  },
  {
   "cell_type": "markdown",
   "metadata": {},
   "source": [
    "#### Best KNN training and evaluation"
   ]
  },
  {
   "cell_type": "code",
   "execution_count": 35,
   "metadata": {
    "ExecuteTime": {
     "end_time": "2021-07-10T17:59:38.734698Z",
     "start_time": "2021-07-10T17:58:36.583512Z"
    }
   },
   "outputs": [
    {
     "data": {
      "text/plain": [
       "KNeighborsClassifier(n_jobs=-1, n_neighbors=48)"
      ]
     },
     "execution_count": 35,
     "metadata": {},
     "output_type": "execute_result"
    }
   ],
   "source": [
    "# Initial classfier\n",
    "knn_best = KNeighborsClassifier(n_neighbors = 48, n_jobs=-1)\n",
    "knn_best.fit(X_train, y_train)"
   ]
  },
  {
   "cell_type": "code",
   "execution_count": 36,
   "metadata": {
    "ExecuteTime": {
     "end_time": "2021-07-10T18:03:33.630709Z",
     "start_time": "2021-07-10T17:59:39.379821Z"
    }
   },
   "outputs": [
    {
     "name": "stdout",
     "output_type": "stream",
     "text": [
      "Mean CV accuracy score for train data is: 0.729\n",
      "Mean CV accuracy score for test data is: 0.728\n"
     ]
    }
   ],
   "source": [
    "# Calculate cross validation accuracy scores\n",
    "cv_accuracy_train_knn, cv_accuracy_test_knn = CV_accuracy(knn_best)"
   ]
  },
  {
   "cell_type": "code",
   "execution_count": 37,
   "metadata": {
    "ExecuteTime": {
     "end_time": "2021-07-10T18:03:54.272581Z",
     "start_time": "2021-07-10T18:03:34.142783Z"
    }
   },
   "outputs": [
    {
     "name": "stdout",
     "output_type": "stream",
     "text": [
      "True positive rate is: 0.642\n",
      "False positive rate is: 0.185\n"
     ]
    }
   ],
   "source": [
    "# Calculate true positive rate and false positive ate\n",
    "TPR_knn, FPR_knn = TPR_FPR(knn_best)"
   ]
  },
  {
   "cell_type": "code",
   "execution_count": 38,
   "metadata": {
    "ExecuteTime": {
     "end_time": "2021-07-10T18:04:10.189404Z",
     "start_time": "2021-07-10T18:03:54.817804Z"
    }
   },
   "outputs": [
    {
     "name": "stdout",
     "output_type": "stream",
     "text": [
      "ROC-AUC Score is: 0.761\n"
     ]
    },
    {
     "data": {
      "image/png": "[encoded data removed]",
      "text/plain": [
       "<Figure size 432x288 with 1 Axes>"
      ]
     },
     "metadata": {},
     "output_type": "display_data"
    }
   ],
   "source": [
    "# Calculate AUROC\n",
    "auroc_knn = ROC_AUC(knn_best)"
   ]
  },
  {
   "cell_type": "markdown",
   "metadata": {},
   "source": [
    "### Random Forest"
   ]
  },
  {
   "cell_type": "markdown",
   "metadata": {},
   "source": [
    "#### Calculating Accuracy with Random Forest Default Hyper-parameters"
   ]
  },
  {
   "cell_type": "code",
   "execution_count": null,
   "metadata": {
    "ExecuteTime": {
     "start_time": "2021-07-10T18:51:03.353Z"
    }
   },
   "outputs": [],
   "source": [
    "rf_default = RandomForestClassifier(n_jobs=-1)\n",
    "rf_default.fit(X_train, y_train)\n",
    "\n",
    "# Calculate cross validation accuracy scores\n",
    "cv_accuracy_train_rf_default, cv_accuracy_test_rf_default =  = CV_accuracy(rf_default)"
   ]
  },
  {
   "cell_type": "markdown",
   "metadata": {},
   "source": [
    "#### Random Forest Hyper-parameters Tuning"
   ]
  },
  {
   "cell_type": "code",
   "execution_count": 39,
   "metadata": {
    "ExecuteTime": {
     "end_time": "2021-07-10T18:07:11.873640Z",
     "start_time": "2021-07-10T18:04:48.225660Z"
    },
    "collapsed": true
   },
   "outputs": [
    {
     "ename": "KeyboardInterrupt",
     "evalue": "",
     "output_type": "error",
     "traceback": [
      "\u001b[0;31m---------------------------------------------------------------------------\u001b[0m",
      "\u001b[0;31mKeyboardInterrupt\u001b[0m                         Traceback (most recent call last)",
      "\u001b[0;32m<ipython-input-39-78c4855f0682>\u001b[0m in \u001b[0;36m<module>\u001b[0;34m\u001b[0m\n\u001b[1;32m     10\u001b[0m \u001b[0mgrid\u001b[0m \u001b[0;34m=\u001b[0m \u001b[0mGridSearchCV\u001b[0m\u001b[0;34m(\u001b[0m\u001b[0mrf\u001b[0m\u001b[0;34m,\u001b[0m\u001b[0mparam_grid\u001b[0m\u001b[0;34m=\u001b[0m\u001b[0mhyperparameters\u001b[0m\u001b[0;34m,\u001b[0m\u001b[0mcv\u001b[0m\u001b[0;34m=\u001b[0m\u001b[0;36m5\u001b[0m\u001b[0;34m)\u001b[0m\u001b[0;34m\u001b[0m\u001b[0;34m\u001b[0m\u001b[0m\n\u001b[1;32m     11\u001b[0m \u001b[0;34m\u001b[0m\u001b[0m\n\u001b[0;32m---> 12\u001b[0;31m \u001b[0mgrid\u001b[0m\u001b[0;34m.\u001b[0m\u001b[0mfit\u001b[0m\u001b[0;34m(\u001b[0m\u001b[0mX_train\u001b[0m\u001b[0;34m,\u001b[0m \u001b[0my_train\u001b[0m\u001b[0;34m)\u001b[0m\u001b[0;34m\u001b[0m\u001b[0;34m\u001b[0m\u001b[0m\n\u001b[0m\u001b[1;32m     13\u001b[0m \u001b[0;34m\u001b[0m\u001b[0m\n\u001b[1;32m     14\u001b[0m \u001b[0mbest_estimator\u001b[0m \u001b[0;34m=\u001b[0m \u001b[0mgrid\u001b[0m\u001b[0;34m.\u001b[0m\u001b[0mbest_estimator_\u001b[0m\u001b[0;34m\u001b[0m\u001b[0;34m\u001b[0m\u001b[0m\n",
      "\u001b[0;32m~/opt/anaconda3/lib/python3.8/site-packages/sklearn/utils/validation.py\u001b[0m in \u001b[0;36minner_f\u001b[0;34m(*args, **kwargs)\u001b[0m\n\u001b[1;32m     61\u001b[0m             \u001b[0mextra_args\u001b[0m \u001b[0;34m=\u001b[0m \u001b[0mlen\u001b[0m\u001b[0;34m(\u001b[0m\u001b[0margs\u001b[0m\u001b[0;34m)\u001b[0m \u001b[0;34m-\u001b[0m \u001b[0mlen\u001b[0m\u001b[0;34m(\u001b[0m\u001b[0mall_args\u001b[0m\u001b[0;34m)\u001b[0m\u001b[0;34m\u001b[0m\u001b[0;34m\u001b[0m\u001b[0m\n\u001b[1;32m     62\u001b[0m             \u001b[0;32mif\u001b[0m \u001b[0mextra_args\u001b[0m \u001b[0;34m<=\u001b[0m \u001b[0;36m0\u001b[0m\u001b[0;34m:\u001b[0m\u001b[0;34m\u001b[0m\u001b[0;34m\u001b[0m\u001b[0m\n\u001b[0;32m---> 63\u001b[0;31m                 \u001b[0;32mreturn\u001b[0m \u001b[0mf\u001b[0m\u001b[0;34m(\u001b[0m\u001b[0;34m*\u001b[0m\u001b[0margs\u001b[0m\u001b[0;34m,\u001b[0m \u001b[0;34m**\u001b[0m\u001b[0mkwargs\u001b[0m\u001b[0;34m)\u001b[0m\u001b[0;34m\u001b[0m\u001b[0;34m\u001b[0m\u001b[0m\n\u001b[0m\u001b[1;32m     64\u001b[0m \u001b[0;34m\u001b[0m\u001b[0m\n\u001b[1;32m     65\u001b[0m             \u001b[0;31m# extra_args > 0\u001b[0m\u001b[0;34m\u001b[0m\u001b[0;34m\u001b[0m\u001b[0;34m\u001b[0m\u001b[0m\n",
      "\u001b[0;32m~/opt/anaconda3/lib/python3.8/site-packages/sklearn/model_selection/_search.py\u001b[0m in \u001b[0;36mfit\u001b[0;34m(self, X, y, groups, **fit_params)\u001b[0m\n\u001b[1;32m    839\u001b[0m                 \u001b[0;32mreturn\u001b[0m \u001b[0mresults\u001b[0m\u001b[0;34m\u001b[0m\u001b[0;34m\u001b[0m\u001b[0m\n\u001b[1;32m    840\u001b[0m \u001b[0;34m\u001b[0m\u001b[0m\n\u001b[0;32m--> 841\u001b[0;31m             \u001b[0mself\u001b[0m\u001b[0;34m.\u001b[0m\u001b[0m_run_search\u001b[0m\u001b[0;34m(\u001b[0m\u001b[0mevaluate_candidates\u001b[0m\u001b[0;34m)\u001b[0m\u001b[0;34m\u001b[0m\u001b[0;34m\u001b[0m\u001b[0m\n\u001b[0m\u001b[1;32m    842\u001b[0m \u001b[0;34m\u001b[0m\u001b[0m\n\u001b[1;32m    843\u001b[0m             \u001b[0;31m# multimetric is determined here because in the case of a callable\u001b[0m\u001b[0;34m\u001b[0m\u001b[0;34m\u001b[0m\u001b[0;34m\u001b[0m\u001b[0m\n",
      "\u001b[0;32m~/opt/anaconda3/lib/python3.8/site-packages/sklearn/model_selection/_search.py\u001b[0m in \u001b[0;36m_run_search\u001b[0;34m(self, evaluate_candidates)\u001b[0m\n\u001b[1;32m   1294\u001b[0m     \u001b[0;32mdef\u001b[0m \u001b[0m_run_search\u001b[0m\u001b[0;34m(\u001b[0m\u001b[0mself\u001b[0m\u001b[0;34m,\u001b[0m \u001b[0mevaluate_candidates\u001b[0m\u001b[0;34m)\u001b[0m\u001b[0;34m:\u001b[0m\u001b[0;34m\u001b[0m\u001b[0;34m\u001b[0m\u001b[0m\n\u001b[1;32m   1295\u001b[0m         \u001b[0;34m\"\"\"Search all candidates in param_grid\"\"\"\u001b[0m\u001b[0;34m\u001b[0m\u001b[0;34m\u001b[0m\u001b[0m\n\u001b[0;32m-> 1296\u001b[0;31m         \u001b[0mevaluate_candidates\u001b[0m\u001b[0;34m(\u001b[0m\u001b[0mParameterGrid\u001b[0m\u001b[0;34m(\u001b[0m\u001b[0mself\u001b[0m\u001b[0;34m.\u001b[0m\u001b[0mparam_grid\u001b[0m\u001b[0;34m)\u001b[0m\u001b[0;34m)\u001b[0m\u001b[0;34m\u001b[0m\u001b[0;34m\u001b[0m\u001b[0m\n\u001b[0m\u001b[1;32m   1297\u001b[0m \u001b[0;34m\u001b[0m\u001b[0m\n\u001b[1;32m   1298\u001b[0m \u001b[0;34m\u001b[0m\u001b[0m\n",
      "\u001b[0;32m~/opt/anaconda3/lib/python3.8/site-packages/sklearn/model_selection/_search.py\u001b[0m in \u001b[0;36mevaluate_candidates\u001b[0;34m(candidate_params, cv, more_results)\u001b[0m\n\u001b[1;32m    793\u001b[0m                               n_splits, n_candidates, n_candidates * n_splits))\n\u001b[1;32m    794\u001b[0m \u001b[0;34m\u001b[0m\u001b[0m\n\u001b[0;32m--> 795\u001b[0;31m                 out = parallel(delayed(_fit_and_score)(clone(base_estimator),\n\u001b[0m\u001b[1;32m    796\u001b[0m                                                        \u001b[0mX\u001b[0m\u001b[0;34m,\u001b[0m \u001b[0my\u001b[0m\u001b[0;34m,\u001b[0m\u001b[0;34m\u001b[0m\u001b[0;34m\u001b[0m\u001b[0m\n\u001b[1;32m    797\u001b[0m                                                        \u001b[0mtrain\u001b[0m\u001b[0;34m=\u001b[0m\u001b[0mtrain\u001b[0m\u001b[0;34m,\u001b[0m \u001b[0mtest\u001b[0m\u001b[0;34m=\u001b[0m\u001b[0mtest\u001b[0m\u001b[0;34m,\u001b[0m\u001b[0;34m\u001b[0m\u001b[0;34m\u001b[0m\u001b[0m\n",
      "\u001b[0;32m~/opt/anaconda3/lib/python3.8/site-packages/joblib/parallel.py\u001b[0m in \u001b[0;36m__call__\u001b[0;34m(self, iterable)\u001b[0m\n\u001b[1;32m   1030\u001b[0m                 \u001b[0mself\u001b[0m\u001b[0;34m.\u001b[0m\u001b[0m_iterating\u001b[0m \u001b[0;34m=\u001b[0m \u001b[0mself\u001b[0m\u001b[0;34m.\u001b[0m\u001b[0m_original_iterator\u001b[0m \u001b[0;32mis\u001b[0m \u001b[0;32mnot\u001b[0m \u001b[0;32mNone\u001b[0m\u001b[0;34m\u001b[0m\u001b[0;34m\u001b[0m\u001b[0m\n\u001b[1;32m   1031\u001b[0m \u001b[0;34m\u001b[0m\u001b[0m\n\u001b[0;32m-> 1032\u001b[0;31m             \u001b[0;32mwhile\u001b[0m \u001b[0mself\u001b[0m\u001b[0;34m.\u001b[0m\u001b[0mdispatch_one_batch\u001b[0m\u001b[0;34m(\u001b[0m\u001b[0miterator\u001b[0m\u001b[0;34m)\u001b[0m\u001b[0;34m:\u001b[0m\u001b[0;34m\u001b[0m\u001b[0;34m\u001b[0m\u001b[0m\n\u001b[0m\u001b[1;32m   1033\u001b[0m                 \u001b[0;32mpass\u001b[0m\u001b[0;34m\u001b[0m\u001b[0;34m\u001b[0m\u001b[0m\n\u001b[1;32m   1034\u001b[0m \u001b[0;34m\u001b[0m\u001b[0m\n",
      "\u001b[0;32m~/opt/anaconda3/lib/python3.8/site-packages/joblib/parallel.py\u001b[0m in \u001b[0;36mdispatch_one_batch\u001b[0;34m(self, iterator)\u001b[0m\n\u001b[1;32m    845\u001b[0m                 \u001b[0;32mreturn\u001b[0m \u001b[0;32mFalse\u001b[0m\u001b[0;34m\u001b[0m\u001b[0;34m\u001b[0m\u001b[0m\n\u001b[1;32m    846\u001b[0m             \u001b[0;32melse\u001b[0m\u001b[0;34m:\u001b[0m\u001b[0;34m\u001b[0m\u001b[0;34m\u001b[0m\u001b[0m\n\u001b[0;32m--> 847\u001b[0;31m                 \u001b[0mself\u001b[0m\u001b[0;34m.\u001b[0m\u001b[0m_dispatch\u001b[0m\u001b[0;34m(\u001b[0m\u001b[0mtasks\u001b[0m\u001b[0;34m)\u001b[0m\u001b[0;34m\u001b[0m\u001b[0;34m\u001b[0m\u001b[0m\n\u001b[0m\u001b[1;32m    848\u001b[0m                 \u001b[0;32mreturn\u001b[0m \u001b[0;32mTrue\u001b[0m\u001b[0;34m\u001b[0m\u001b[0;34m\u001b[0m\u001b[0m\n\u001b[1;32m    849\u001b[0m \u001b[0;34m\u001b[0m\u001b[0m\n",
      "\u001b[0;32m~/opt/anaconda3/lib/python3.8/site-packages/joblib/parallel.py\u001b[0m in \u001b[0;36m_dispatch\u001b[0;34m(self, batch)\u001b[0m\n\u001b[1;32m    763\u001b[0m         \u001b[0;32mwith\u001b[0m \u001b[0mself\u001b[0m\u001b[0;34m.\u001b[0m\u001b[0m_lock\u001b[0m\u001b[0;34m:\u001b[0m\u001b[0;34m\u001b[0m\u001b[0;34m\u001b[0m\u001b[0m\n\u001b[1;32m    764\u001b[0m             \u001b[0mjob_idx\u001b[0m \u001b[0;34m=\u001b[0m \u001b[0mlen\u001b[0m\u001b[0;34m(\u001b[0m\u001b[0mself\u001b[0m\u001b[0;34m.\u001b[0m\u001b[0m_jobs\u001b[0m\u001b[0;34m)\u001b[0m\u001b[0;34m\u001b[0m\u001b[0;34m\u001b[0m\u001b[0m\n\u001b[0;32m--> 765\u001b[0;31m             \u001b[0mjob\u001b[0m \u001b[0;34m=\u001b[0m \u001b[0mself\u001b[0m\u001b[0;34m.\u001b[0m\u001b[0m_backend\u001b[0m\u001b[0;34m.\u001b[0m\u001b[0mapply_async\u001b[0m\u001b[0;34m(\u001b[0m\u001b[0mbatch\u001b[0m\u001b[0;34m,\u001b[0m \u001b[0mcallback\u001b[0m\u001b[0;34m=\u001b[0m\u001b[0mcb\u001b[0m\u001b[0;34m)\u001b[0m\u001b[0;34m\u001b[0m\u001b[0;34m\u001b[0m\u001b[0m\n\u001b[0m\u001b[1;32m    766\u001b[0m             \u001b[0;31m# A job can complete so quickly than its callback is\u001b[0m\u001b[0;34m\u001b[0m\u001b[0;34m\u001b[0m\u001b[0;34m\u001b[0m\u001b[0m\n\u001b[1;32m    767\u001b[0m             \u001b[0;31m# called before we get here, causing self._jobs to\u001b[0m\u001b[0;34m\u001b[0m\u001b[0;34m\u001b[0m\u001b[0;34m\u001b[0m\u001b[0m\n",
      "\u001b[0;32m~/opt/anaconda3/lib/python3.8/site-packages/joblib/_parallel_backends.py\u001b[0m in \u001b[0;36mapply_async\u001b[0;34m(self, func, callback)\u001b[0m\n\u001b[1;32m    206\u001b[0m     \u001b[0;32mdef\u001b[0m \u001b[0mapply_async\u001b[0m\u001b[0;34m(\u001b[0m\u001b[0mself\u001b[0m\u001b[0;34m,\u001b[0m \u001b[0mfunc\u001b[0m\u001b[0;34m,\u001b[0m \u001b[0mcallback\u001b[0m\u001b[0;34m=\u001b[0m\u001b[0;32mNone\u001b[0m\u001b[0;34m)\u001b[0m\u001b[0;34m:\u001b[0m\u001b[0;34m\u001b[0m\u001b[0;34m\u001b[0m\u001b[0m\n\u001b[1;32m    207\u001b[0m         \u001b[0;34m\"\"\"Schedule a func to be run\"\"\"\u001b[0m\u001b[0;34m\u001b[0m\u001b[0;34m\u001b[0m\u001b[0m\n\u001b[0;32m--> 208\u001b[0;31m         \u001b[0mresult\u001b[0m \u001b[0;34m=\u001b[0m \u001b[0mImmediateResult\u001b[0m\u001b[0;34m(\u001b[0m\u001b[0mfunc\u001b[0m\u001b[0;34m)\u001b[0m\u001b[0;34m\u001b[0m\u001b[0;34m\u001b[0m\u001b[0m\n\u001b[0m\u001b[1;32m    209\u001b[0m         \u001b[0;32mif\u001b[0m \u001b[0mcallback\u001b[0m\u001b[0;34m:\u001b[0m\u001b[0;34m\u001b[0m\u001b[0;34m\u001b[0m\u001b[0m\n\u001b[1;32m    210\u001b[0m             \u001b[0mcallback\u001b[0m\u001b[0;34m(\u001b[0m\u001b[0mresult\u001b[0m\u001b[0;34m)\u001b[0m\u001b[0;34m\u001b[0m\u001b[0;34m\u001b[0m\u001b[0m\n",
      "\u001b[0;32m~/opt/anaconda3/lib/python3.8/site-packages/joblib/_parallel_backends.py\u001b[0m in \u001b[0;36m__init__\u001b[0;34m(self, batch)\u001b[0m\n\u001b[1;32m    570\u001b[0m         \u001b[0;31m# Don't delay the application, to avoid keeping the input\u001b[0m\u001b[0;34m\u001b[0m\u001b[0;34m\u001b[0m\u001b[0;34m\u001b[0m\u001b[0m\n\u001b[1;32m    571\u001b[0m         \u001b[0;31m# arguments in memory\u001b[0m\u001b[0;34m\u001b[0m\u001b[0;34m\u001b[0m\u001b[0;34m\u001b[0m\u001b[0m\n\u001b[0;32m--> 572\u001b[0;31m         \u001b[0mself\u001b[0m\u001b[0;34m.\u001b[0m\u001b[0mresults\u001b[0m \u001b[0;34m=\u001b[0m \u001b[0mbatch\u001b[0m\u001b[0;34m(\u001b[0m\u001b[0;34m)\u001b[0m\u001b[0;34m\u001b[0m\u001b[0;34m\u001b[0m\u001b[0m\n\u001b[0m\u001b[1;32m    573\u001b[0m \u001b[0;34m\u001b[0m\u001b[0m\n\u001b[1;32m    574\u001b[0m     \u001b[0;32mdef\u001b[0m \u001b[0mget\u001b[0m\u001b[0;34m(\u001b[0m\u001b[0mself\u001b[0m\u001b[0;34m)\u001b[0m\u001b[0;34m:\u001b[0m\u001b[0;34m\u001b[0m\u001b[0;34m\u001b[0m\u001b[0m\n",
      "\u001b[0;32m~/opt/anaconda3/lib/python3.8/site-packages/joblib/parallel.py\u001b[0m in \u001b[0;36m__call__\u001b[0;34m(self)\u001b[0m\n\u001b[1;32m    250\u001b[0m         \u001b[0;31m# change the default number of processes to -1\u001b[0m\u001b[0;34m\u001b[0m\u001b[0;34m\u001b[0m\u001b[0;34m\u001b[0m\u001b[0m\n\u001b[1;32m    251\u001b[0m         \u001b[0;32mwith\u001b[0m \u001b[0mparallel_backend\u001b[0m\u001b[0;34m(\u001b[0m\u001b[0mself\u001b[0m\u001b[0;34m.\u001b[0m\u001b[0m_backend\u001b[0m\u001b[0;34m,\u001b[0m \u001b[0mn_jobs\u001b[0m\u001b[0;34m=\u001b[0m\u001b[0mself\u001b[0m\u001b[0;34m.\u001b[0m\u001b[0m_n_jobs\u001b[0m\u001b[0;34m)\u001b[0m\u001b[0;34m:\u001b[0m\u001b[0;34m\u001b[0m\u001b[0;34m\u001b[0m\u001b[0m\n\u001b[0;32m--> 252\u001b[0;31m             return [func(*args, **kwargs)\n\u001b[0m\u001b[1;32m    253\u001b[0m                     for func, args, kwargs in self.items]\n\u001b[1;32m    254\u001b[0m \u001b[0;34m\u001b[0m\u001b[0m\n",
      "\u001b[0;32m~/opt/anaconda3/lib/python3.8/site-packages/joblib/parallel.py\u001b[0m in \u001b[0;36m<listcomp>\u001b[0;34m(.0)\u001b[0m\n\u001b[1;32m    250\u001b[0m         \u001b[0;31m# change the default number of processes to -1\u001b[0m\u001b[0;34m\u001b[0m\u001b[0;34m\u001b[0m\u001b[0;34m\u001b[0m\u001b[0m\n\u001b[1;32m    251\u001b[0m         \u001b[0;32mwith\u001b[0m \u001b[0mparallel_backend\u001b[0m\u001b[0;34m(\u001b[0m\u001b[0mself\u001b[0m\u001b[0;34m.\u001b[0m\u001b[0m_backend\u001b[0m\u001b[0;34m,\u001b[0m \u001b[0mn_jobs\u001b[0m\u001b[0;34m=\u001b[0m\u001b[0mself\u001b[0m\u001b[0;34m.\u001b[0m\u001b[0m_n_jobs\u001b[0m\u001b[0;34m)\u001b[0m\u001b[0;34m:\u001b[0m\u001b[0;34m\u001b[0m\u001b[0;34m\u001b[0m\u001b[0m\n\u001b[0;32m--> 252\u001b[0;31m             return [func(*args, **kwargs)\n\u001b[0m\u001b[1;32m    253\u001b[0m                     for func, args, kwargs in self.items]\n\u001b[1;32m    254\u001b[0m \u001b[0;34m\u001b[0m\u001b[0m\n",
      "\u001b[0;32m~/opt/anaconda3/lib/python3.8/site-packages/sklearn/utils/fixes.py\u001b[0m in \u001b[0;36m__call__\u001b[0;34m(self, *args, **kwargs)\u001b[0m\n\u001b[1;32m    220\u001b[0m     \u001b[0;32mdef\u001b[0m \u001b[0m__call__\u001b[0m\u001b[0;34m(\u001b[0m\u001b[0mself\u001b[0m\u001b[0;34m,\u001b[0m \u001b[0;34m*\u001b[0m\u001b[0margs\u001b[0m\u001b[0;34m,\u001b[0m \u001b[0;34m**\u001b[0m\u001b[0mkwargs\u001b[0m\u001b[0;34m)\u001b[0m\u001b[0;34m:\u001b[0m\u001b[0;34m\u001b[0m\u001b[0;34m\u001b[0m\u001b[0m\n\u001b[1;32m    221\u001b[0m         \u001b[0;32mwith\u001b[0m \u001b[0mconfig_context\u001b[0m\u001b[0;34m(\u001b[0m\u001b[0;34m**\u001b[0m\u001b[0mself\u001b[0m\u001b[0;34m.\u001b[0m\u001b[0mconfig\u001b[0m\u001b[0;34m)\u001b[0m\u001b[0;34m:\u001b[0m\u001b[0;34m\u001b[0m\u001b[0;34m\u001b[0m\u001b[0m\n\u001b[0;32m--> 222\u001b[0;31m             \u001b[0;32mreturn\u001b[0m \u001b[0mself\u001b[0m\u001b[0;34m.\u001b[0m\u001b[0mfunction\u001b[0m\u001b[0;34m(\u001b[0m\u001b[0;34m*\u001b[0m\u001b[0margs\u001b[0m\u001b[0;34m,\u001b[0m \u001b[0;34m**\u001b[0m\u001b[0mkwargs\u001b[0m\u001b[0;34m)\u001b[0m\u001b[0;34m\u001b[0m\u001b[0;34m\u001b[0m\u001b[0m\n\u001b[0m",
      "\u001b[0;32m~/opt/anaconda3/lib/python3.8/site-packages/sklearn/model_selection/_validation.py\u001b[0m in \u001b[0;36m_fit_and_score\u001b[0;34m(estimator, X, y, scorer, train, test, verbose, parameters, fit_params, return_train_score, return_parameters, return_n_test_samples, return_times, return_estimator, split_progress, candidate_progress, error_score)\u001b[0m\n\u001b[1;32m    596\u001b[0m             \u001b[0mestimator\u001b[0m\u001b[0;34m.\u001b[0m\u001b[0mfit\u001b[0m\u001b[0;34m(\u001b[0m\u001b[0mX_train\u001b[0m\u001b[0;34m,\u001b[0m \u001b[0;34m**\u001b[0m\u001b[0mfit_params\u001b[0m\u001b[0;34m)\u001b[0m\u001b[0;34m\u001b[0m\u001b[0;34m\u001b[0m\u001b[0m\n\u001b[1;32m    597\u001b[0m         \u001b[0;32melse\u001b[0m\u001b[0;34m:\u001b[0m\u001b[0;34m\u001b[0m\u001b[0;34m\u001b[0m\u001b[0m\n\u001b[0;32m--> 598\u001b[0;31m             \u001b[0mestimator\u001b[0m\u001b[0;34m.\u001b[0m\u001b[0mfit\u001b[0m\u001b[0;34m(\u001b[0m\u001b[0mX_train\u001b[0m\u001b[0;34m,\u001b[0m \u001b[0my_train\u001b[0m\u001b[0;34m,\u001b[0m \u001b[0;34m**\u001b[0m\u001b[0mfit_params\u001b[0m\u001b[0;34m)\u001b[0m\u001b[0;34m\u001b[0m\u001b[0;34m\u001b[0m\u001b[0m\n\u001b[0m\u001b[1;32m    599\u001b[0m \u001b[0;34m\u001b[0m\u001b[0m\n\u001b[1;32m    600\u001b[0m     \u001b[0;32mexcept\u001b[0m \u001b[0mException\u001b[0m \u001b[0;32mas\u001b[0m \u001b[0me\u001b[0m\u001b[0;34m:\u001b[0m\u001b[0;34m\u001b[0m\u001b[0;34m\u001b[0m\u001b[0m\n",
      "\u001b[0;32m~/opt/anaconda3/lib/python3.8/site-packages/sklearn/ensemble/_forest.py\u001b[0m in \u001b[0;36mfit\u001b[0;34m(self, X, y, sample_weight)\u001b[0m\n\u001b[1;32m    385\u001b[0m             \u001b[0;31m# parallel_backend contexts set at a higher level,\u001b[0m\u001b[0;34m\u001b[0m\u001b[0;34m\u001b[0m\u001b[0;34m\u001b[0m\u001b[0m\n\u001b[1;32m    386\u001b[0m             \u001b[0;31m# since correctness does not rely on using threads.\u001b[0m\u001b[0;34m\u001b[0m\u001b[0;34m\u001b[0m\u001b[0;34m\u001b[0m\u001b[0m\n\u001b[0;32m--> 387\u001b[0;31m             trees = Parallel(n_jobs=self.n_jobs, verbose=self.verbose,\n\u001b[0m\u001b[1;32m    388\u001b[0m                              \u001b[0;34m**\u001b[0m\u001b[0m_joblib_parallel_args\u001b[0m\u001b[0;34m(\u001b[0m\u001b[0mprefer\u001b[0m\u001b[0;34m=\u001b[0m\u001b[0;34m'threads'\u001b[0m\u001b[0;34m)\u001b[0m\u001b[0;34m)\u001b[0m\u001b[0;34m(\u001b[0m\u001b[0;34m\u001b[0m\u001b[0;34m\u001b[0m\u001b[0m\n\u001b[1;32m    389\u001b[0m                 delayed(_parallel_build_trees)(\n",
      "\u001b[0;32m~/opt/anaconda3/lib/python3.8/site-packages/joblib/parallel.py\u001b[0m in \u001b[0;36m__call__\u001b[0;34m(self, iterable)\u001b[0m\n\u001b[1;32m   1040\u001b[0m \u001b[0;34m\u001b[0m\u001b[0m\n\u001b[1;32m   1041\u001b[0m             \u001b[0;32mwith\u001b[0m \u001b[0mself\u001b[0m\u001b[0;34m.\u001b[0m\u001b[0m_backend\u001b[0m\u001b[0;34m.\u001b[0m\u001b[0mretrieval_context\u001b[0m\u001b[0;34m(\u001b[0m\u001b[0;34m)\u001b[0m\u001b[0;34m:\u001b[0m\u001b[0;34m\u001b[0m\u001b[0;34m\u001b[0m\u001b[0m\n\u001b[0;32m-> 1042\u001b[0;31m                 \u001b[0mself\u001b[0m\u001b[0;34m.\u001b[0m\u001b[0mretrieve\u001b[0m\u001b[0;34m(\u001b[0m\u001b[0;34m)\u001b[0m\u001b[0;34m\u001b[0m\u001b[0;34m\u001b[0m\u001b[0m\n\u001b[0m\u001b[1;32m   1043\u001b[0m             \u001b[0;31m# Make sure that we get a last message telling us we are done\u001b[0m\u001b[0;34m\u001b[0m\u001b[0;34m\u001b[0m\u001b[0;34m\u001b[0m\u001b[0m\n\u001b[1;32m   1044\u001b[0m             \u001b[0melapsed_time\u001b[0m \u001b[0;34m=\u001b[0m \u001b[0mtime\u001b[0m\u001b[0;34m.\u001b[0m\u001b[0mtime\u001b[0m\u001b[0;34m(\u001b[0m\u001b[0;34m)\u001b[0m \u001b[0;34m-\u001b[0m \u001b[0mself\u001b[0m\u001b[0;34m.\u001b[0m\u001b[0m_start_time\u001b[0m\u001b[0;34m\u001b[0m\u001b[0;34m\u001b[0m\u001b[0m\n",
      "\u001b[0;32m~/opt/anaconda3/lib/python3.8/site-packages/joblib/parallel.py\u001b[0m in \u001b[0;36mretrieve\u001b[0;34m(self)\u001b[0m\n\u001b[1;32m    919\u001b[0m             \u001b[0;32mtry\u001b[0m\u001b[0;34m:\u001b[0m\u001b[0;34m\u001b[0m\u001b[0;34m\u001b[0m\u001b[0m\n\u001b[1;32m    920\u001b[0m                 \u001b[0;32mif\u001b[0m \u001b[0mgetattr\u001b[0m\u001b[0;34m(\u001b[0m\u001b[0mself\u001b[0m\u001b[0;34m.\u001b[0m\u001b[0m_backend\u001b[0m\u001b[0;34m,\u001b[0m \u001b[0;34m'supports_timeout'\u001b[0m\u001b[0;34m,\u001b[0m \u001b[0;32mFalse\u001b[0m\u001b[0;34m)\u001b[0m\u001b[0;34m:\u001b[0m\u001b[0;34m\u001b[0m\u001b[0;34m\u001b[0m\u001b[0m\n\u001b[0;32m--> 921\u001b[0;31m                     \u001b[0mself\u001b[0m\u001b[0;34m.\u001b[0m\u001b[0m_output\u001b[0m\u001b[0;34m.\u001b[0m\u001b[0mextend\u001b[0m\u001b[0;34m(\u001b[0m\u001b[0mjob\u001b[0m\u001b[0;34m.\u001b[0m\u001b[0mget\u001b[0m\u001b[0;34m(\u001b[0m\u001b[0mtimeout\u001b[0m\u001b[0;34m=\u001b[0m\u001b[0mself\u001b[0m\u001b[0;34m.\u001b[0m\u001b[0mtimeout\u001b[0m\u001b[0;34m)\u001b[0m\u001b[0;34m)\u001b[0m\u001b[0;34m\u001b[0m\u001b[0;34m\u001b[0m\u001b[0m\n\u001b[0m\u001b[1;32m    922\u001b[0m                 \u001b[0;32melse\u001b[0m\u001b[0;34m:\u001b[0m\u001b[0;34m\u001b[0m\u001b[0;34m\u001b[0m\u001b[0m\n\u001b[1;32m    923\u001b[0m                     \u001b[0mself\u001b[0m\u001b[0;34m.\u001b[0m\u001b[0m_output\u001b[0m\u001b[0;34m.\u001b[0m\u001b[0mextend\u001b[0m\u001b[0;34m(\u001b[0m\u001b[0mjob\u001b[0m\u001b[0;34m.\u001b[0m\u001b[0mget\u001b[0m\u001b[0;34m(\u001b[0m\u001b[0;34m)\u001b[0m\u001b[0;34m)\u001b[0m\u001b[0;34m\u001b[0m\u001b[0;34m\u001b[0m\u001b[0m\n",
      "\u001b[0;32m~/opt/anaconda3/lib/python3.8/site-packages/joblib/_parallel_backends.py\u001b[0m in \u001b[0;36mwrap_future_result\u001b[0;34m(future, timeout)\u001b[0m\n\u001b[1;32m    540\u001b[0m         AsyncResults.get from multiprocessing.\"\"\"\n\u001b[1;32m    541\u001b[0m         \u001b[0;32mtry\u001b[0m\u001b[0;34m:\u001b[0m\u001b[0;34m\u001b[0m\u001b[0;34m\u001b[0m\u001b[0m\n\u001b[0;32m--> 542\u001b[0;31m             \u001b[0;32mreturn\u001b[0m \u001b[0mfuture\u001b[0m\u001b[0;34m.\u001b[0m\u001b[0mresult\u001b[0m\u001b[0;34m(\u001b[0m\u001b[0mtimeout\u001b[0m\u001b[0;34m=\u001b[0m\u001b[0mtimeout\u001b[0m\u001b[0;34m)\u001b[0m\u001b[0;34m\u001b[0m\u001b[0;34m\u001b[0m\u001b[0m\n\u001b[0m\u001b[1;32m    543\u001b[0m         \u001b[0;32mexcept\u001b[0m \u001b[0mCfTimeoutError\u001b[0m \u001b[0;32mas\u001b[0m \u001b[0me\u001b[0m\u001b[0;34m:\u001b[0m\u001b[0;34m\u001b[0m\u001b[0;34m\u001b[0m\u001b[0m\n\u001b[1;32m    544\u001b[0m             \u001b[0;32mraise\u001b[0m \u001b[0mTimeoutError\u001b[0m \u001b[0;32mfrom\u001b[0m \u001b[0me\u001b[0m\u001b[0;34m\u001b[0m\u001b[0;34m\u001b[0m\u001b[0m\n",
      "\u001b[0;32m~/opt/anaconda3/lib/python3.8/concurrent/futures/_base.py\u001b[0m in \u001b[0;36mresult\u001b[0;34m(self, timeout)\u001b[0m\n\u001b[1;32m    432\u001b[0m                 \u001b[0;32mreturn\u001b[0m \u001b[0mself\u001b[0m\u001b[0;34m.\u001b[0m\u001b[0m__get_result\u001b[0m\u001b[0;34m(\u001b[0m\u001b[0;34m)\u001b[0m\u001b[0;34m\u001b[0m\u001b[0;34m\u001b[0m\u001b[0m\n\u001b[1;32m    433\u001b[0m \u001b[0;34m\u001b[0m\u001b[0m\n\u001b[0;32m--> 434\u001b[0;31m             \u001b[0mself\u001b[0m\u001b[0;34m.\u001b[0m\u001b[0m_condition\u001b[0m\u001b[0;34m.\u001b[0m\u001b[0mwait\u001b[0m\u001b[0;34m(\u001b[0m\u001b[0mtimeout\u001b[0m\u001b[0;34m)\u001b[0m\u001b[0;34m\u001b[0m\u001b[0;34m\u001b[0m\u001b[0m\n\u001b[0m\u001b[1;32m    435\u001b[0m \u001b[0;34m\u001b[0m\u001b[0m\n\u001b[1;32m    436\u001b[0m             \u001b[0;32mif\u001b[0m \u001b[0mself\u001b[0m\u001b[0;34m.\u001b[0m\u001b[0m_state\u001b[0m \u001b[0;32min\u001b[0m \u001b[0;34m[\u001b[0m\u001b[0mCANCELLED\u001b[0m\u001b[0;34m,\u001b[0m \u001b[0mCANCELLED_AND_NOTIFIED\u001b[0m\u001b[0;34m]\u001b[0m\u001b[0;34m:\u001b[0m\u001b[0;34m\u001b[0m\u001b[0;34m\u001b[0m\u001b[0m\n",
      "\u001b[0;32m~/opt/anaconda3/lib/python3.8/threading.py\u001b[0m in \u001b[0;36mwait\u001b[0;34m(self, timeout)\u001b[0m\n\u001b[1;32m    300\u001b[0m         \u001b[0;32mtry\u001b[0m\u001b[0;34m:\u001b[0m    \u001b[0;31m# restore state no matter what (e.g., KeyboardInterrupt)\u001b[0m\u001b[0;34m\u001b[0m\u001b[0;34m\u001b[0m\u001b[0m\n\u001b[1;32m    301\u001b[0m             \u001b[0;32mif\u001b[0m \u001b[0mtimeout\u001b[0m \u001b[0;32mis\u001b[0m \u001b[0;32mNone\u001b[0m\u001b[0;34m:\u001b[0m\u001b[0;34m\u001b[0m\u001b[0;34m\u001b[0m\u001b[0m\n\u001b[0;32m--> 302\u001b[0;31m                 \u001b[0mwaiter\u001b[0m\u001b[0;34m.\u001b[0m\u001b[0macquire\u001b[0m\u001b[0;34m(\u001b[0m\u001b[0;34m)\u001b[0m\u001b[0;34m\u001b[0m\u001b[0;34m\u001b[0m\u001b[0m\n\u001b[0m\u001b[1;32m    303\u001b[0m                 \u001b[0mgotit\u001b[0m \u001b[0;34m=\u001b[0m \u001b[0;32mTrue\u001b[0m\u001b[0;34m\u001b[0m\u001b[0;34m\u001b[0m\u001b[0m\n\u001b[1;32m    304\u001b[0m             \u001b[0;32melse\u001b[0m\u001b[0;34m:\u001b[0m\u001b[0;34m\u001b[0m\u001b[0;34m\u001b[0m\u001b[0m\n",
      "\u001b[0;31mKeyboardInterrupt\u001b[0m: "
     ]
    }
   ],
   "source": [
    "hyperparameters = {\"criterion\": [\"entropy\", \"gini\"],\n",
    "                   \"max_depth\": [5, 10, 15],\n",
    "                   \"max_features\": [\"log2\", \"sqrt\"],\n",
    "                   \"min_samples_leaf\": [1, 5],\n",
    "                   \"min_samples_split\": [3, 5],\n",
    "                   \"n_estimators\": [50,100,400,700,1000]\n",
    "}\n",
    "\n",
    "rf = RandomForestClassifier(n_jobs=-1)\n",
    "grid = GridSearchCV(rf,param_grid=hyperparameters,cv=5)\n",
    "\n",
    "grid.fit(X_train, y_train)\n",
    "\n",
    "best_estimator = grid.best_estimator_\n",
    "best_params = grid.best_params_\n",
    "best_score = grid.best_score_"
   ]
  },
  {
   "cell_type": "code",
   "execution_count": 45,
   "metadata": {
    "ExecuteTime": {
     "end_time": "2021-07-10T18:19:55.375635Z",
     "start_time": "2021-07-10T18:19:55.370988Z"
    }
   },
   "outputs": [
    {
     "name": "stdout",
     "output_type": "stream",
     "text": [
      "{'criterion': 'entropy', 'max_depth': 15, 'max_features': 'sqrt', 'min_samples_leaf': 5, 'min_samples_split': 3, 'n_estimators': 400}\n",
      "0.7330471802647693\n",
      "RandomForestClassifier(criterion='entropy', max_depth=15, max_features='sqrt',\n",
      "                       min_samples_leaf=5, min_samples_split=3,\n",
      "                       n_estimators=400, n_jobs=-1)\n"
     ]
    }
   ],
   "source": [
    "print(best_params)\n",
    "print(best_score)\n",
    "print(best_estimator)"
   ]
  },
  {
   "cell_type": "markdown",
   "metadata": {},
   "source": [
    "#### Best Random Forest Training and Evaluation"
   ]
  },
  {
   "cell_type": "code",
   "execution_count": 40,
   "metadata": {
    "ExecuteTime": {
     "end_time": "2021-07-10T18:09:42.797133Z",
     "start_time": "2021-07-10T18:07:21.357711Z"
    }
   },
   "outputs": [
    {
     "data": {
      "text/plain": [
       "RandomForestClassifier(criterion='entropy', max_depth=15, max_features='sqrt',\n",
       "                       min_samples_leaf=5, min_samples_split=3,\n",
       "                       n_estimators=400, n_jobs=-1)"
      ]
     },
     "execution_count": 40,
     "metadata": {},
     "output_type": "execute_result"
    }
   ],
   "source": [
    "# Initial classfier\n",
    "rf_best = RandomForestClassifier(criterion='entropy', max_depth=15, max_features='sqrt',min_samples_leaf=5, min_samples_split=3, n_estimators=400, n_jobs=-1)\n",
    "rf_best.fit(X_train, y_train)"
   ]
  },
  {
   "cell_type": "code",
   "execution_count": 41,
   "metadata": {
    "ExecuteTime": {
     "end_time": "2021-07-10T18:19:44.422017Z",
     "start_time": "2021-07-10T18:09:43.660615Z"
    }
   },
   "outputs": [
    {
     "name": "stdout",
     "output_type": "stream",
     "text": [
      "Mean CV accuracy score for train data is: 0.733\n",
      "Mean CV accuracy score for test data is: 0.731\n"
     ]
    }
   ],
   "source": [
    "# Calculate cross validation accuracy scores\n",
    "cv_accuracy_train_rf, cv_accuracy_test_rf = CV_accuracy(rf_best)"
   ]
  },
  {
   "cell_type": "code",
   "execution_count": 42,
   "metadata": {
    "ExecuteTime": {
     "end_time": "2021-07-10T18:19:49.222759Z",
     "start_time": "2021-07-10T18:19:44.860603Z"
    }
   },
   "outputs": [
    {
     "name": "stdout",
     "output_type": "stream",
     "text": [
      "True positive rate is: 0.645\n",
      "False positive rate is: 0.184\n"
     ]
    }
   ],
   "source": [
    "# Calculate true positive rate and false positive ate\n",
    "TPR_rf, FPR_rf = TPR_FPR(rf_best)"
   ]
  },
  {
   "cell_type": "code",
   "execution_count": 43,
   "metadata": {
    "ExecuteTime": {
     "end_time": "2021-07-10T18:19:54.246998Z",
     "start_time": "2021-07-10T18:19:49.634517Z"
    }
   },
   "outputs": [
    {
     "name": "stdout",
     "output_type": "stream",
     "text": [
      "ROC-AUC Score is: 0.761\n"
     ]
    },
    {
     "data": {
      "image/png": "[encoded data removed]",
      "text/plain": [
       "<Figure size 432x288 with 1 Axes>"
      ]
     },
     "metadata": {},
     "output_type": "display_data"
    }
   ],
   "source": [
    "# Calculate AUROC\n",
    "auroc_rf = ROC_AUC(rf_best)"
   ]
  },
  {
   "cell_type": "code",
   "execution_count": 44,
   "metadata": {
    "ExecuteTime": {
     "end_time": "2021-07-10T18:19:55.047761Z",
     "start_time": "2021-07-10T18:19:54.672131Z"
    }
   },
   "outputs": [
    {
     "data": {
      "image/png": "[encoded data removed]",
      "text/plain": [
       "<Figure size 720x432 with 1 Axes>"
      ]
     },
     "metadata": {},
     "output_type": "display_data"
    }
   ],
   "source": [
    "# Check feature importance\n",
    "feature_importance(rf_best)"
   ]
  },
  {
   "cell_type": "markdown",
   "metadata": {},
   "source": [
    "### Gradient Boosting"
   ]
  },
  {
   "cell_type": "markdown",
   "metadata": {},
   "source": [
    "#### Calculating Accuracy with Gradient Boosting Default Hyper-parameters"
   ]
  },
  {
   "cell_type": "code",
   "execution_count": null,
   "metadata": {
    "ExecuteTime": {
     "start_time": "2021-07-10T18:51:35.601Z"
    }
   },
   "outputs": [],
   "source": [
    "gb_default = GradientBoostingClassifier()\n",
    "gb_default.fit(X_train, y_train)\n",
    "\n",
    "# Calculate cross validation accuracy scores\n",
    "cv_accuracy_train_gb_default, cv_accuracy_test_gb_default =  = CV_accuracy(gb_default)"
   ]
  },
  {
   "cell_type": "markdown",
   "metadata": {},
   "source": [
    "#### Gradient Boosting Hyper-parameters Tuning"
   ]
  },
  {
   "cell_type": "code",
   "execution_count": null,
   "metadata": {
    "ExecuteTime": {
     "start_time": "2021-07-10T18:35:32.762Z"
    }
   },
   "outputs": [],
   "source": [
    "hyperparameters = {'loss' : ['deviance', 'exponential'],\n",
    "                   'n_estimators' : [100, 200],\n",
    "                   'learning_rate': [0.3, 0.1],\n",
    "                   'max_depth': [2, 4, 8, 10, 12],\n",
    "                   'min_samples_leaf': [100,150, 200, 250],\n",
    "                   'max_features': ['sqrt', 'log2'] \n",
    "                   }\n",
    "\n",
    "gb = GradientBoostingClassifier()\n",
    "grid = GridSearchCV(gb, param_grid=hyperparameters, cv=3)\n",
    "grid.fit(X_train, y_train)\n",
    "\n",
    "best_estimator = grid.best_estimator_\n",
    "best_params = grid.best_params_\n",
    "best_score = grid.best_score_\n",
    "print(best_params)\n",
    "print(best_score)\n",
    "print(best_estimator)"
   ]
  },
  {
   "cell_type": "markdown",
   "metadata": {},
   "source": [
    "#### Best Gradient Boosting Training and Evaluation"
   ]
  },
  {
   "cell_type": "code",
   "execution_count": null,
   "metadata": {},
   "outputs": [],
   "source": [
    "# Initial classfier\n",
    "gb_best = GradientBoostingClassifier()\n",
    "gb_best.fit(X_train, y_train)"
   ]
  },
  {
   "cell_type": "code",
   "execution_count": null,
   "metadata": {},
   "outputs": [],
   "source": [
    "# Calculate cross validation accuracy scores\n",
    "cv_accuracy_train_gb, cv_accuracy_test_gb = CV_accuracy(gb_best)"
   ]
  },
  {
   "cell_type": "code",
   "execution_count": null,
   "metadata": {},
   "outputs": [],
   "source": [
    "# Calculate true positive rate and false positive ate\n",
    "TPR_gb, FPR_gb = TPR_FPR(gb_best)"
   ]
  },
  {
   "cell_type": "code",
   "execution_count": null,
   "metadata": {},
   "outputs": [],
   "source": [
    "# Calculate AUROC\n",
    "auroc_gb = ROC_AUC(gb_best)"
   ]
  },
  {
   "cell_type": "code",
   "execution_count": null,
   "metadata": {},
   "outputs": [],
   "source": []
  },
  {
   "cell_type": "markdown",
   "metadata": {},
   "source": [
    "## Comparing Models"
   ]
  },
  {
   "cell_type": "markdown",
   "metadata": {},
   "source": [
    "### Comparing Accuracy"
   ]
  },
  {
   "cell_type": "code",
   "execution_count": null,
   "metadata": {},
   "outputs": [],
   "source": [
    "# Built accuracy dataframe\n",
    "models = ['Logistic Regression', 'KNN', 'Random Forest', 'Gradient Boosting']\n",
    "accuracy_train = [cv_accuracy_train_lr, cv_accuracy_train_knn, cv_accuracy_train_rf, cv_accuracy_train_gb] \n",
    "accuracy_test = [cv_accuracy_test_lr, cv_accuracy_test_knn, cv_accuracy_test_rf, cv_accuracy_test_gb]\n",
    "columns = ['Model', 'Accuracy_train', 'Accuracy_test']\n",
    "accuracy_comparing = pd.DataFrame({'Model': models, \n",
    "                                   'Accuracy_train': accuracy_train, \n",
    "                                   'Accuracy_test': accuracy_test})\n",
    "print(accuracy_comparing)\n",
    "\n",
    "# Plot accuracy for comparing\n",
    "index_train=[1,2,3,4]\n",
    "index_test=[1.2,2.2,3.2,4.2]\n",
    "plt.figure(figsize=(10,5))\n",
    "plt.xlabel('Models',fontsize=15)\n",
    "plt.ylabel ('Accuracy Scores',fontsize=15)\n",
    "plt.title('Comparison of the Accuracy',fontsize=15)\n",
    "plt.bar(index_train,accuracy_train,color='b',alpha=0.8,label='Training',edgecolor='k',width=0.2)\n",
    "plt.bar(index_test,accuracy_test,color='cyan',alpha=0.8,label='Test',edgecolor='k',width=0.2)\n",
    "plt.legend(loc='lower right')\n",
    "plt.xticks([1.1, 2.1,3.1,4.1], models)\n",
    "_ = plt.show()"
   ]
  },
  {
   "cell_type": "markdown",
   "metadata": {},
   "source": [
    "### Comparing TPR, FPR and AUROC"
   ]
  },
  {
   "cell_type": "code",
   "execution_count": null,
   "metadata": {},
   "outputs": [],
   "source": [
    "# Build AUROC, true positive rate, and false positive rate dataframe\n",
    "TPR = [TPR_lr, TPR_knn, TPR_rf, TPR_gb] \n",
    "FPR = [FPR_lr, FPR_knn, FPR_rf, FPR_gb] \n",
    "AUROC = [auroc_lr, auroc_knn, auroc_rf, auroc_gb]\n",
    "columns = ['Model', 'AUROC', 'True Positive Rate', 'False Positive Rate']\n",
    "tpr_fpr_aurco_comparing = pd.DataFrame({'Model': models, \n",
    "                                        'AUROC': AUROC,\n",
    "                                        'True Positive Rate': TPR, \n",
    "                                        'False Positive Rate': FPR\n",
    "                                        })\n",
    "print(tpr_fpr_aurco_comparing)\n",
    "\n",
    "# Plot AUROC, TPR, FPR for comparing\n",
    "index_auroc=[1,2,3,4]\n",
    "index_tpr=[1.2,2.2,3.2,4.2]\n",
    "index_fpr=[1.4,2.4,3.4,4.4]\n",
    "plt.figure(figsize=(10,5))\n",
    "plt.xlabel('Models',fontsize=15)\n",
    "plt.ylabel ('AUROC/TPR/FPR',fontsize=15)\n",
    "plt.title('Comparison of AUROC, TPR, and FPR',fontsize=15)\n",
    "plt.bar(index_auroc, AUROC, color='b', alpha=0.8, label='AUROC',edgecolor='k',width=0.2)\n",
    "plt.bar(index_tpr, TPR, color='cyan',alpha=0.8, label='TPR', edgecolor='k', width=0.2)\n",
    "plt.bar(index_fpr, FPR, color='g', alpha=0.8, label='FPR', edgecolor='k', width=0.2)\n",
    "plt.legend(loc = 'lower right')\n",
    "plt.xticks([1.2, 2.2, 3.2, 4.2], models)\n",
    "_ = plt.show()"
   ]
  },
  {
   "cell_type": "code",
   "execution_count": null,
   "metadata": {},
   "outputs": [],
   "source": []
  }
 ],
 "metadata": {
  "hide_input": false,
  "kernelspec": {
   "display_name": "Python 3",
   "language": "python",
   "name": "python3"
  },
  "language_info": {
   "codemirror_mode": {
    "name": "ipython",
    "version": 3
   },
   "file_extension": ".py",
   "mimetype": "text/x-python",
   "name": "python",
   "nbconvert_exporter": "python",
   "pygments_lexer": "ipython3",
   "version": "3.8.3"
  },
  "toc": {
   "base_numbering": 1,
   "nav_menu": {},
   "number_sections": true,
   "sideBar": true,
   "skip_h1_title": false,
   "title_cell": "Table of Contents",
   "title_sidebar": "Contents",
   "toc_cell": true,
   "toc_position": {},
   "toc_section_display": true,
   "toc_window_display": false
  },
  "varInspector": {
   "cols": {
    "lenName": 16,
    "lenType": 16,
    "lenVar": 40
   },
   "kernels_config": {
    "python": {
     "delete_cmd_postfix": "",
     "delete_cmd_prefix": "del ",
     "library": "var_list.py",
     "varRefreshCmd": "print(var_dic_list())"
    },
    "r": {
     "delete_cmd_postfix": ") ",
     "delete_cmd_prefix": "rm(",
     "library": "var_list.r",
     "varRefreshCmd": "cat(var_dic_list()) "
    }
   },
   "types_to_exclude": [
    "module",
    "function",
    "builtin_function_or_method",
    "instance",
    "_Feature"
   ],
   "window_display": false
  }
 },
 "nbformat": 4,
 "nbformat_minor": 4
}
