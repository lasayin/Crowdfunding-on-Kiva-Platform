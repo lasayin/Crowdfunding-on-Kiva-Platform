{
 "cells": [
  {
   "cell_type": "markdown",
   "metadata": {
    "toc": true
   },
   "source": [
    "<h1>Kiva_Crowdfunding_Data_Wrangling<span class=\"tocSkip\"></span></h1>\n",
    "<div class=\"toc\"><ul class=\"toc-item\"><li><span><a href=\"#Load-Data\" data-toc-modified-id=\"Load-Data-1\"><span class=\"toc-item-num\">1&nbsp;&nbsp;</span>Load Data</a></span></li><li><span><a href=\"#The-Loans\" data-toc-modified-id=\"The-Loans-2\"><span class=\"toc-item-num\">2&nbsp;&nbsp;</span>The Loans</a></span><ul class=\"toc-item\"><li><span><a href=\"#Loans_Data-Description\" data-toc-modified-id=\"Loans_Data-Description-2.1\"><span class=\"toc-item-num\">2.1&nbsp;&nbsp;</span>Loans_Data Description</a></span></li><li><span><a href=\"#Loans_Missing-Value\" data-toc-modified-id=\"Loans_Missing-Value-2.2\"><span class=\"toc-item-num\">2.2&nbsp;&nbsp;</span>Loans_Missing Value</a></span></li><li><span><a href=\"#Redundant-columns\" data-toc-modified-id=\"Redundant-columns-2.3\"><span class=\"toc-item-num\">2.3&nbsp;&nbsp;</span>Redundant columns</a></span></li><li><span><a href=\"#Categorical-Features\" data-toc-modified-id=\"Categorical-Features-2.4\"><span class=\"toc-item-num\">2.4&nbsp;&nbsp;</span>Categorical Features</a></span><ul class=\"toc-item\"><li><span><a href=\"#Activity,-Sector\" data-toc-modified-id=\"Activity,-Sector-2.4.1\"><span class=\"toc-item-num\">2.4.1&nbsp;&nbsp;</span>Activity, Sector</a></span></li><li><span><a href=\"#Use\" data-toc-modified-id=\"Use-2.4.2\"><span class=\"toc-item-num\">2.4.2&nbsp;&nbsp;</span>Use</a></span></li><li><span><a href=\"#Country-and-Country-code\" data-toc-modified-id=\"Country-and-Country-code-2.4.3\"><span class=\"toc-item-num\">2.4.3&nbsp;&nbsp;</span>Country and Country code</a></span><ul class=\"toc-item\"><li><span><a href=\"#Country-code_missing-value\" data-toc-modified-id=\"Country-code_missing-value-2.4.3.1\"><span class=\"toc-item-num\">2.4.3.1&nbsp;&nbsp;</span>Country code_missing value</a></span></li><li><span><a href=\"#Convert-2-letter-country_code-to-3-letter-Country-ISO-Code\" data-toc-modified-id=\"Convert-2-letter-country_code-to-3-letter-Country-ISO-Code-2.4.3.2\"><span class=\"toc-item-num\">2.4.3.2&nbsp;&nbsp;</span>Convert 2-letter country_code to 3-letter Country ISO Code</a></span></li><li><span><a href=\"#Countries-which-Kiva-provides-loans\" data-toc-modified-id=\"Countries-which-Kiva-provides-loans-2.4.3.3\"><span class=\"toc-item-num\">2.4.3.3&nbsp;&nbsp;</span>Countries which Kiva provides loans</a></span></li><li><span><a href=\"#Partner-id\" data-toc-modified-id=\"Partner-id-2.4.3.4\"><span class=\"toc-item-num\">2.4.3.4&nbsp;&nbsp;</span>Partner id</a></span></li></ul></li><li><span><a href=\"#Tags-of-the-loans\" data-toc-modified-id=\"Tags-of-the-loans-2.4.4\"><span class=\"toc-item-num\">2.4.4&nbsp;&nbsp;</span>Tags of the loans</a></span></li><li><span><a href=\"#Borrower-genders\" data-toc-modified-id=\"Borrower-genders-2.4.5\"><span class=\"toc-item-num\">2.4.5&nbsp;&nbsp;</span>Borrower genders</a></span><ul class=\"toc-item\"><li><span><a href=\"#Borrower-genders-missing-values\" data-toc-modified-id=\"Borrower-genders-missing-values-2.4.5.1\"><span class=\"toc-item-num\">2.4.5.1&nbsp;&nbsp;</span>Borrower genders missing values</a></span></li><li><span><a href=\"#Classify-borrower-genders\" data-toc-modified-id=\"Classify-borrower-genders-2.4.5.2\"><span class=\"toc-item-num\">2.4.5.2&nbsp;&nbsp;</span>Classify borrower genders</a></span></li></ul></li><li><span><a href=\"#Repayment-interval\" data-toc-modified-id=\"Repayment-interval-2.4.6\"><span class=\"toc-item-num\">2.4.6&nbsp;&nbsp;</span>Repayment interval</a></span></li></ul></li><li><span><a href=\"#Numeric-Features\" data-toc-modified-id=\"Numeric-Features-2.5\"><span class=\"toc-item-num\">2.5&nbsp;&nbsp;</span>Numeric Features</a></span><ul class=\"toc-item\"><li><span><a href=\"#Loan-amount-and-funded-amount\" data-toc-modified-id=\"Loan-amount-and-funded-amount-2.5.1\"><span class=\"toc-item-num\">2.5.1&nbsp;&nbsp;</span>Loan amount and funded amount</a></span></li><li><span><a href=\"#Term-in-months\" data-toc-modified-id=\"Term-in-months-2.5.2\"><span class=\"toc-item-num\">2.5.2&nbsp;&nbsp;</span>Term in months</a></span></li><li><span><a href=\"#Lender-count\" data-toc-modified-id=\"Lender-count-2.5.3\"><span class=\"toc-item-num\">2.5.3&nbsp;&nbsp;</span>Lender count</a></span></li></ul></li><li><span><a href=\"#Time-series\" data-toc-modified-id=\"Time-series-2.6\"><span class=\"toc-item-num\">2.6&nbsp;&nbsp;</span>Time series</a></span><ul class=\"toc-item\"><li><span><a href=\"#Convert-to-datetime\" data-toc-modified-id=\"Convert-to-datetime-2.6.1\"><span class=\"toc-item-num\">2.6.1&nbsp;&nbsp;</span>Convert to datetime</a></span></li><li><span><a href=\"#Funded-time-missing-value\" data-toc-modified-id=\"Funded-time-missing-value-2.6.2\"><span class=\"toc-item-num\">2.6.2&nbsp;&nbsp;</span>Funded time missing value</a></span></li><li><span><a href=\"#The-days-taken-to-get-full-fund\" data-toc-modified-id=\"The-days-taken-to-get-full-fund-2.6.3\"><span class=\"toc-item-num\">2.6.3&nbsp;&nbsp;</span>The days taken to get full-fund</a></span></li><li><span><a href=\"#Funded-amount,-loan-amount,-and-funded-time\" data-toc-modified-id=\"Funded-amount,-loan-amount,-and-funded-time-2.6.4\"><span class=\"toc-item-num\">2.6.4&nbsp;&nbsp;</span>Funded amount, loan amount, and funded time</a></span></li></ul></li><li><span><a href=\"#Loans-dataset-summary\" data-toc-modified-id=\"Loans-dataset-summary-2.7\"><span class=\"toc-item-num\">2.7&nbsp;&nbsp;</span>Loans dataset summary</a></span></li><li><span><a href=\"#Multidimensional-Poverty-Index-(MPI)\" data-toc-modified-id=\"Multidimensional-Poverty-Index-(MPI)-2.8\"><span class=\"toc-item-num\">2.8&nbsp;&nbsp;</span>Multidimensional Poverty Index (MPI)</a></span><ul class=\"toc-item\"><li><span><a href=\"#Nation-level-MPI\" data-toc-modified-id=\"Nation-level-MPI-2.8.1\"><span class=\"toc-item-num\">2.8.1&nbsp;&nbsp;</span>Nation-level MPI</a></span></li><li><span><a href=\"#World-region\" data-toc-modified-id=\"World-region-2.8.2\"><span class=\"toc-item-num\">2.8.2&nbsp;&nbsp;</span>World region</a></span></li><li><span><a href=\"#ISO\" data-toc-modified-id=\"ISO-2.8.3\"><span class=\"toc-item-num\">2.8.3&nbsp;&nbsp;</span>ISO</a></span></li></ul></li></ul></li><li><span><a href=\"#Final-dataset\" data-toc-modified-id=\"Final-dataset-3\"><span class=\"toc-item-num\">3&nbsp;&nbsp;</span>Final dataset</a></span><ul class=\"toc-item\"><li><span><a href=\"#Merge-loans_df-with-mpi_nation\" data-toc-modified-id=\"Merge-loans_df-with-mpi_nation-3.1\"><span class=\"toc-item-num\">3.1&nbsp;&nbsp;</span>Merge <code>loans_df</code> with <code>mpi_nation</code></a></span></li><li><span><a href=\"#Missing-values\" data-toc-modified-id=\"Missing-values-3.2\"><span class=\"toc-item-num\">3.2&nbsp;&nbsp;</span>Missing values</a></span><ul class=\"toc-item\"><li><span><a href=\"#Missing-MPI\" data-toc-modified-id=\"Missing-MPI-3.2.1\"><span class=\"toc-item-num\">3.2.1&nbsp;&nbsp;</span>Missing MPI</a></span></li><li><span><a href=\"#Missing-world-region\" data-toc-modified-id=\"Missing-world-region-3.2.2\"><span class=\"toc-item-num\">3.2.2&nbsp;&nbsp;</span>Missing world region</a></span></li></ul></li><li><span><a href=\"#loans_mpi-dataset-summary\" data-toc-modified-id=\"loans_mpi-dataset-summary-3.3\"><span class=\"toc-item-num\">3.3&nbsp;&nbsp;</span><code>loans_mpi</code> dataset summary</a></span></li></ul></li><li><span><a href=\"#Save-Processed-Data-sets\" data-toc-modified-id=\"Save-Processed-Data-sets-4\"><span class=\"toc-item-num\">4&nbsp;&nbsp;</span>Save Processed Data sets</a></span></li></ul></div>"
   ]
  },
  {
   "cell_type": "markdown",
   "metadata": {},
   "source": [
    "## Load Data"
   ]
  },
  {
   "cell_type": "code",
   "execution_count": 1,
   "metadata": {
    "ExecuteTime": {
     "end_time": "2021-06-28T07:09:58.234165Z",
     "start_time": "2021-06-28T07:09:54.415802Z"
    }
   },
   "outputs": [],
   "source": [
    "import pandas as pd\n",
    "import numpy as np\n",
    "import matplotlib\n",
    "import matplotlib.pyplot as plt\n",
    "from datetime import datetime as dt\n",
    "from datetime import timedelta\n",
    "import missingno as msno\n",
    "import seaborn as sns"
   ]
  },
  {
   "cell_type": "code",
   "execution_count": 2,
   "metadata": {
    "ExecuteTime": {
     "end_time": "2021-06-28T07:10:04.292815Z",
     "start_time": "2021-06-28T07:09:58.238745Z"
    }
   },
   "outputs": [],
   "source": [
    "# Import Datasets\n",
    "loans = pd.read_csv('/Users/lasayin/Desktop/Springboard/GitHub/Springboard_DS_Capstone2/RawData/KivaData/kiva_loans.csv')\n",
    "mpi_nation = pd.read_excel('/Users/lasayin/Desktop/Springboard/GitHub/Springboard_DS_Capstone2/RawData/AdditionalData/National_Results_MPI.xlsx', \n",
    "                           usecols=[0,2,6], skiprows=10, skipfooter=2, names=['ISO', 'world_region', 'MPI'])"
   ]
  },
  {
   "cell_type": "markdown",
   "metadata": {},
   "source": [
    "## The Loans"
   ]
  },
  {
   "cell_type": "markdown",
   "metadata": {},
   "source": [
    "### Loans_Data Description"
   ]
  },
  {
   "cell_type": "code",
   "execution_count": 3,
   "metadata": {
    "ExecuteTime": {
     "end_time": "2021-06-28T07:10:04.771469Z",
     "start_time": "2021-06-28T07:10:04.300276Z"
    }
   },
   "outputs": [
    {
     "name": "stdout",
     "output_type": "stream",
     "text": [
      "<class 'pandas.core.frame.DataFrame'>\n",
      "RangeIndex: 671205 entries, 0 to 671204\n",
      "Data columns (total 20 columns):\n",
      " #   Column              Non-Null Count   Dtype  \n",
      "---  ------              --------------   -----  \n",
      " 0   id                  671205 non-null  int64  \n",
      " 1   funded_amount       671205 non-null  float64\n",
      " 2   loan_amount         671205 non-null  float64\n",
      " 3   activity            671205 non-null  object \n",
      " 4   sector              671205 non-null  object \n",
      " 5   use                 666973 non-null  object \n",
      " 6   country_code        671197 non-null  object \n",
      " 7   country             671205 non-null  object \n",
      " 8   region              614405 non-null  object \n",
      " 9   currency            671205 non-null  object \n",
      " 10  partner_id          657698 non-null  float64\n",
      " 11  posted_time         671205 non-null  object \n",
      " 12  disbursed_time      668809 non-null  object \n",
      " 13  funded_time         622874 non-null  object \n",
      " 14  term_in_months      671205 non-null  float64\n",
      " 15  lender_count        671205 non-null  int64  \n",
      " 16  tags                499789 non-null  object \n",
      " 17  borrower_genders    666984 non-null  object \n",
      " 18  repayment_interval  671205 non-null  object \n",
      " 19  date                671205 non-null  object \n",
      "dtypes: float64(4), int64(2), object(14)\n",
      "memory usage: 102.4+ MB\n"
     ]
    }
   ],
   "source": [
    "loans.info()"
   ]
  },
  {
   "cell_type": "markdown",
   "metadata": {},
   "source": [
    "* Columns descriptions\n",
    "    * id: Unique ID for loan\n",
    "\n",
    "    * funded_amount: Dollar value of loan funded on Kiva.org\n",
    "\n",
    "    * loan_amount: Total dollar amount of loan\n",
    "\n",
    "    * activity: Loan activity type\n",
    "\n",
    "    * sector: Sector of loan activity as shown to lenders\n",
    "\n",
    "    * use: text description of how loan will be used\n",
    "\n",
    "    * country_code: 2-letter Country ISO Code\n",
    "\n",
    "    * country: country name\n",
    "\n",
    "    * region: name of location within country\n",
    "\n",
    "    * currency: currency in which loan is disbursed\n",
    "\n",
    "    * partner_id: Unique ID for field partners\n",
    "\n",
    "    * posted_time: date and time when loan was posted on kiva.org\n",
    "\n",
    "    * disbursed_time: date and time that the borrower received the loan\n",
    "\n",
    "    * funded_time: date and time at which loan was fully funded on kiva.org\n",
    "\n",
    "    * term_in_months: number of months over which loan was scheduled to be paid back\n",
    "    \n",
    "    * lender_count: number of lenders contributing to loan\n",
    "\n",
    "    * tags: tags visible to lenders describing loan type\n",
    "\n",
    "    * borrower_genders: gender of borrower(s)\n",
    "\n",
    "    * repayment_interval: frequency at which lenders are scheduled to receive installments\n",
    "\n",
    "    * date: date on which loan was posted"
   ]
  },
  {
   "cell_type": "code",
   "execution_count": 4,
   "metadata": {
    "ExecuteTime": {
     "end_time": "2021-06-28T07:10:04.815914Z",
     "start_time": "2021-06-28T07:10:04.774158Z"
    }
   },
   "outputs": [
    {
     "data": {
      "text/html": [
       "<div>\n",
       "<style scoped>\n",
       "    .dataframe tbody tr th:only-of-type {\n",
       "        vertical-align: middle;\n",
       "    }\n",
       "\n",
       "    .dataframe tbody tr th {\n",
       "        vertical-align: top;\n",
       "    }\n",
       "\n",
       "    .dataframe thead th {\n",
       "        text-align: right;\n",
       "    }\n",
       "</style>\n",
       "<table border=\"1\" class=\"dataframe\">\n",
       "  <thead>\n",
       "    <tr style=\"text-align: right;\">\n",
       "      <th></th>\n",
       "      <th>id</th>\n",
       "      <th>funded_amount</th>\n",
       "      <th>loan_amount</th>\n",
       "      <th>activity</th>\n",
       "      <th>sector</th>\n",
       "      <th>use</th>\n",
       "      <th>country_code</th>\n",
       "      <th>country</th>\n",
       "      <th>region</th>\n",
       "      <th>currency</th>\n",
       "      <th>partner_id</th>\n",
       "      <th>posted_time</th>\n",
       "      <th>disbursed_time</th>\n",
       "      <th>funded_time</th>\n",
       "      <th>term_in_months</th>\n",
       "      <th>lender_count</th>\n",
       "      <th>tags</th>\n",
       "      <th>borrower_genders</th>\n",
       "      <th>repayment_interval</th>\n",
       "      <th>date</th>\n",
       "    </tr>\n",
       "  </thead>\n",
       "  <tbody>\n",
       "    <tr>\n",
       "      <th>0</th>\n",
       "      <td>653051</td>\n",
       "      <td>300.0</td>\n",
       "      <td>300.0</td>\n",
       "      <td>Fruits &amp; Vegetables</td>\n",
       "      <td>Food</td>\n",
       "      <td>To buy seasonal, fresh fruits to sell.</td>\n",
       "      <td>PK</td>\n",
       "      <td>Pakistan</td>\n",
       "      <td>Lahore</td>\n",
       "      <td>PKR</td>\n",
       "      <td>247.0</td>\n",
       "      <td>2014-01-01 06:12:39+00:00</td>\n",
       "      <td>2013-12-17 08:00:00+00:00</td>\n",
       "      <td>2014-01-02 10:06:32+00:00</td>\n",
       "      <td>12.0</td>\n",
       "      <td>12</td>\n",
       "      <td>NaN</td>\n",
       "      <td>female</td>\n",
       "      <td>irregular</td>\n",
       "      <td>2014-01-01</td>\n",
       "    </tr>\n",
       "    <tr>\n",
       "      <th>1</th>\n",
       "      <td>653053</td>\n",
       "      <td>575.0</td>\n",
       "      <td>575.0</td>\n",
       "      <td>Rickshaw</td>\n",
       "      <td>Transportation</td>\n",
       "      <td>to repair and maintain the auto rickshaw used ...</td>\n",
       "      <td>PK</td>\n",
       "      <td>Pakistan</td>\n",
       "      <td>Lahore</td>\n",
       "      <td>PKR</td>\n",
       "      <td>247.0</td>\n",
       "      <td>2014-01-01 06:51:08+00:00</td>\n",
       "      <td>2013-12-17 08:00:00+00:00</td>\n",
       "      <td>2014-01-02 09:17:23+00:00</td>\n",
       "      <td>11.0</td>\n",
       "      <td>14</td>\n",
       "      <td>NaN</td>\n",
       "      <td>female, female</td>\n",
       "      <td>irregular</td>\n",
       "      <td>2014-01-01</td>\n",
       "    </tr>\n",
       "    <tr>\n",
       "      <th>2</th>\n",
       "      <td>653068</td>\n",
       "      <td>150.0</td>\n",
       "      <td>150.0</td>\n",
       "      <td>Transportation</td>\n",
       "      <td>Transportation</td>\n",
       "      <td>To repair their old cycle-van and buy another ...</td>\n",
       "      <td>IN</td>\n",
       "      <td>India</td>\n",
       "      <td>Maynaguri</td>\n",
       "      <td>INR</td>\n",
       "      <td>334.0</td>\n",
       "      <td>2014-01-01 09:58:07+00:00</td>\n",
       "      <td>2013-12-17 08:00:00+00:00</td>\n",
       "      <td>2014-01-01 16:01:36+00:00</td>\n",
       "      <td>43.0</td>\n",
       "      <td>6</td>\n",
       "      <td>user_favorite, user_favorite</td>\n",
       "      <td>female</td>\n",
       "      <td>bullet</td>\n",
       "      <td>2014-01-01</td>\n",
       "    </tr>\n",
       "    <tr>\n",
       "      <th>3</th>\n",
       "      <td>653063</td>\n",
       "      <td>200.0</td>\n",
       "      <td>200.0</td>\n",
       "      <td>Embroidery</td>\n",
       "      <td>Arts</td>\n",
       "      <td>to purchase an embroidery machine and a variet...</td>\n",
       "      <td>PK</td>\n",
       "      <td>Pakistan</td>\n",
       "      <td>Lahore</td>\n",
       "      <td>PKR</td>\n",
       "      <td>247.0</td>\n",
       "      <td>2014-01-01 08:03:11+00:00</td>\n",
       "      <td>2013-12-24 08:00:00+00:00</td>\n",
       "      <td>2014-01-01 13:00:00+00:00</td>\n",
       "      <td>11.0</td>\n",
       "      <td>8</td>\n",
       "      <td>NaN</td>\n",
       "      <td>female</td>\n",
       "      <td>irregular</td>\n",
       "      <td>2014-01-01</td>\n",
       "    </tr>\n",
       "    <tr>\n",
       "      <th>4</th>\n",
       "      <td>653084</td>\n",
       "      <td>400.0</td>\n",
       "      <td>400.0</td>\n",
       "      <td>Milk Sales</td>\n",
       "      <td>Food</td>\n",
       "      <td>to purchase one buffalo.</td>\n",
       "      <td>PK</td>\n",
       "      <td>Pakistan</td>\n",
       "      <td>Abdul Hakeem</td>\n",
       "      <td>PKR</td>\n",
       "      <td>245.0</td>\n",
       "      <td>2014-01-01 11:53:19+00:00</td>\n",
       "      <td>2013-12-17 08:00:00+00:00</td>\n",
       "      <td>2014-01-01 19:18:51+00:00</td>\n",
       "      <td>14.0</td>\n",
       "      <td>16</td>\n",
       "      <td>NaN</td>\n",
       "      <td>female</td>\n",
       "      <td>monthly</td>\n",
       "      <td>2014-01-01</td>\n",
       "    </tr>\n",
       "  </tbody>\n",
       "</table>\n",
       "</div>"
      ],
      "text/plain": [
       "       id  funded_amount  loan_amount             activity          sector  \\\n",
       "0  653051          300.0        300.0  Fruits & Vegetables            Food   \n",
       "1  653053          575.0        575.0             Rickshaw  Transportation   \n",
       "2  653068          150.0        150.0       Transportation  Transportation   \n",
       "3  653063          200.0        200.0           Embroidery            Arts   \n",
       "4  653084          400.0        400.0           Milk Sales            Food   \n",
       "\n",
       "                                                 use country_code   country  \\\n",
       "0            To buy seasonal, fresh fruits to sell.            PK  Pakistan   \n",
       "1  to repair and maintain the auto rickshaw used ...           PK  Pakistan   \n",
       "2  To repair their old cycle-van and buy another ...           IN     India   \n",
       "3  to purchase an embroidery machine and a variet...           PK  Pakistan   \n",
       "4                           to purchase one buffalo.           PK  Pakistan   \n",
       "\n",
       "         region currency  partner_id                posted_time  \\\n",
       "0        Lahore      PKR       247.0  2014-01-01 06:12:39+00:00   \n",
       "1        Lahore      PKR       247.0  2014-01-01 06:51:08+00:00   \n",
       "2     Maynaguri      INR       334.0  2014-01-01 09:58:07+00:00   \n",
       "3        Lahore      PKR       247.0  2014-01-01 08:03:11+00:00   \n",
       "4  Abdul Hakeem      PKR       245.0  2014-01-01 11:53:19+00:00   \n",
       "\n",
       "              disbursed_time                funded_time  term_in_months  \\\n",
       "0  2013-12-17 08:00:00+00:00  2014-01-02 10:06:32+00:00            12.0   \n",
       "1  2013-12-17 08:00:00+00:00  2014-01-02 09:17:23+00:00            11.0   \n",
       "2  2013-12-17 08:00:00+00:00  2014-01-01 16:01:36+00:00            43.0   \n",
       "3  2013-12-24 08:00:00+00:00  2014-01-01 13:00:00+00:00            11.0   \n",
       "4  2013-12-17 08:00:00+00:00  2014-01-01 19:18:51+00:00            14.0   \n",
       "\n",
       "   lender_count                          tags borrower_genders  \\\n",
       "0            12                           NaN           female   \n",
       "1            14                           NaN   female, female   \n",
       "2             6  user_favorite, user_favorite           female   \n",
       "3             8                           NaN           female   \n",
       "4            16                           NaN           female   \n",
       "\n",
       "  repayment_interval        date  \n",
       "0          irregular  2014-01-01  \n",
       "1          irregular  2014-01-01  \n",
       "2             bullet  2014-01-01  \n",
       "3          irregular  2014-01-01  \n",
       "4            monthly  2014-01-01  "
      ]
     },
     "execution_count": 4,
     "metadata": {},
     "output_type": "execute_result"
    }
   ],
   "source": [
    "loans.head()"
   ]
  },
  {
   "cell_type": "markdown",
   "metadata": {},
   "source": [
    "### Loans_Missing Value"
   ]
  },
  {
   "cell_type": "code",
   "execution_count": 5,
   "metadata": {
    "ExecuteTime": {
     "end_time": "2021-06-28T07:10:05.831140Z",
     "start_time": "2021-06-28T07:10:04.819140Z"
    }
   },
   "outputs": [
    {
     "data": {
      "text/html": [
       "<div>\n",
       "<style scoped>\n",
       "    .dataframe tbody tr th:only-of-type {\n",
       "        vertical-align: middle;\n",
       "    }\n",
       "\n",
       "    .dataframe tbody tr th {\n",
       "        vertical-align: top;\n",
       "    }\n",
       "\n",
       "    .dataframe thead th {\n",
       "        text-align: right;\n",
       "    }\n",
       "</style>\n",
       "<table border=\"1\" class=\"dataframe\">\n",
       "  <thead>\n",
       "    <tr style=\"text-align: right;\">\n",
       "      <th></th>\n",
       "      <th>Column Name</th>\n",
       "      <th>Missings</th>\n",
       "      <th>Missing_pct</th>\n",
       "    </tr>\n",
       "  </thead>\n",
       "  <tbody>\n",
       "    <tr>\n",
       "      <th>0</th>\n",
       "      <td>tags</td>\n",
       "      <td>171416</td>\n",
       "      <td>0.26</td>\n",
       "    </tr>\n",
       "    <tr>\n",
       "      <th>1</th>\n",
       "      <td>region</td>\n",
       "      <td>56800</td>\n",
       "      <td>0.08</td>\n",
       "    </tr>\n",
       "    <tr>\n",
       "      <th>2</th>\n",
       "      <td>funded_time</td>\n",
       "      <td>48331</td>\n",
       "      <td>0.07</td>\n",
       "    </tr>\n",
       "    <tr>\n",
       "      <th>3</th>\n",
       "      <td>partner_id</td>\n",
       "      <td>13507</td>\n",
       "      <td>0.02</td>\n",
       "    </tr>\n",
       "    <tr>\n",
       "      <th>4</th>\n",
       "      <td>use</td>\n",
       "      <td>4232</td>\n",
       "      <td>0.01</td>\n",
       "    </tr>\n",
       "    <tr>\n",
       "      <th>5</th>\n",
       "      <td>borrower_genders</td>\n",
       "      <td>4221</td>\n",
       "      <td>0.01</td>\n",
       "    </tr>\n",
       "    <tr>\n",
       "      <th>6</th>\n",
       "      <td>disbursed_time</td>\n",
       "      <td>2396</td>\n",
       "      <td>0.00</td>\n",
       "    </tr>\n",
       "    <tr>\n",
       "      <th>7</th>\n",
       "      <td>country_code</td>\n",
       "      <td>8</td>\n",
       "      <td>0.00</td>\n",
       "    </tr>\n",
       "  </tbody>\n",
       "</table>\n",
       "</div>"
      ],
      "text/plain": [
       "        Column Name  Missings  Missing_pct\n",
       "0              tags    171416         0.26\n",
       "1            region     56800         0.08\n",
       "2       funded_time     48331         0.07\n",
       "3        partner_id     13507         0.02\n",
       "4               use      4232         0.01\n",
       "5  borrower_genders      4221         0.01\n",
       "6    disbursed_time      2396         0.00\n",
       "7      country_code         8         0.00"
      ]
     },
     "execution_count": 5,
     "metadata": {},
     "output_type": "execute_result"
    }
   ],
   "source": [
    "# Check missing values\n",
    "def missing_vals(data_):\n",
    "    miss_     = data_.isnull().sum()\n",
    "    miss_pct  = data_.isnull().sum()/data_.shape[0]\n",
    "    \n",
    "    miss_pct  = pd.concat([miss_, miss_pct], axis =1)\n",
    "    miss_pct.reset_index(inplace=True)\n",
    "    miss_cols = miss_pct.rename(columns={'index':'Column Name', 0:'Missings', 1:'Missing_pct'})\n",
    "    \n",
    "    miss_cols = miss_cols[miss_cols.iloc[:,1]!=0].sort_values('Missing_pct', ascending=False).round(2)\n",
    "    miss_cols.reset_index(inplace=True, drop=True)\n",
    "    \n",
    "    return miss_cols\n",
    "\n",
    "miss_loans = missing_vals(loans)\n",
    "miss_loans"
   ]
  },
  {
   "cell_type": "code",
   "execution_count": 6,
   "metadata": {
    "ExecuteTime": {
     "end_time": "2021-06-28T07:10:11.327746Z",
     "start_time": "2021-06-28T07:10:05.835750Z"
    }
   },
   "outputs": [
    {
     "data": {
      "image/png": "[encoded data removed]",
      "text/plain": [
       "<Figure size 1800x720 with 2 Axes>"
      ]
     },
     "metadata": {
      "needs_background": "light"
     },
     "output_type": "display_data"
    }
   ],
   "source": [
    "# Missing value distribution\n",
    "_ = msno.matrix(loans)"
   ]
  },
  {
   "cell_type": "markdown",
   "metadata": {},
   "source": [
    "The dataset seems clean except the top three factors, i.e., `tags`, `region`, and `funded_time`, which will be handled case  by case latter."
   ]
  },
  {
   "cell_type": "markdown",
   "metadata": {},
   "source": [
    "### Redundant columns\n",
    "According to the column description and [Kiva website](https://www.kiva.org/), some factors are redundant or less related to the project, which will be removed.\n",
    "\n",
    "* **`region`** is the name of location within country. In this project, we will process at national level since lenders can filter loans at national level rather than subnational level. \n",
    "* **`disbursed_time`** is the date and time when the borrower received the loan, which is up to the field partners rather than lenders or Kiva\n",
    "* **`date`** is the date on which loan was posted, which is redundant to `posted_time`\n",
    "* **`currency`** is the currency in which loan is disbursed"
   ]
  },
  {
   "cell_type": "code",
   "execution_count": 7,
   "metadata": {
    "ExecuteTime": {
     "end_time": "2021-06-28T07:10:11.448726Z",
     "start_time": "2021-06-28T07:10:11.333414Z"
    }
   },
   "outputs": [],
   "source": [
    "loans_df = loans.drop(['region', 'disbursed_time', 'date', 'currency'], axis=1)"
   ]
  },
  {
   "cell_type": "markdown",
   "metadata": {},
   "source": [
    "### Categorical Features"
   ]
  },
  {
   "cell_type": "markdown",
   "metadata": {},
   "source": [
    "#### Activity, Sector"
   ]
  },
  {
   "cell_type": "code",
   "execution_count": 8,
   "metadata": {
    "ExecuteTime": {
     "end_time": "2021-06-28T07:10:11.709052Z",
     "start_time": "2021-06-28T07:10:11.453178Z"
    }
   },
   "outputs": [
    {
     "data": {
      "text/html": [
       "<div>\n",
       "<style scoped>\n",
       "    .dataframe tbody tr th:only-of-type {\n",
       "        vertical-align: middle;\n",
       "    }\n",
       "\n",
       "    .dataframe tbody tr th {\n",
       "        vertical-align: top;\n",
       "    }\n",
       "\n",
       "    .dataframe thead th {\n",
       "        text-align: right;\n",
       "    }\n",
       "</style>\n",
       "<table border=\"1\" class=\"dataframe\">\n",
       "  <thead>\n",
       "    <tr style=\"text-align: right;\">\n",
       "      <th></th>\n",
       "      <th>activity</th>\n",
       "      <th>sector</th>\n",
       "    </tr>\n",
       "  </thead>\n",
       "  <tbody>\n",
       "    <tr>\n",
       "      <th>count</th>\n",
       "      <td>671205</td>\n",
       "      <td>671205</td>\n",
       "    </tr>\n",
       "    <tr>\n",
       "      <th>unique</th>\n",
       "      <td>163</td>\n",
       "      <td>15</td>\n",
       "    </tr>\n",
       "    <tr>\n",
       "      <th>top</th>\n",
       "      <td>Farming</td>\n",
       "      <td>Agriculture</td>\n",
       "    </tr>\n",
       "    <tr>\n",
       "      <th>freq</th>\n",
       "      <td>72955</td>\n",
       "      <td>180302</td>\n",
       "    </tr>\n",
       "  </tbody>\n",
       "</table>\n",
       "</div>"
      ],
      "text/plain": [
       "       activity       sector\n",
       "count    671205       671205\n",
       "unique      163           15\n",
       "top     Farming  Agriculture\n",
       "freq      72955       180302"
      ]
     },
     "execution_count": 8,
     "metadata": {},
     "output_type": "execute_result"
    }
   ],
   "source": [
    "loans[['activity', 'sector']].describe()"
   ]
  },
  {
   "cell_type": "code",
   "execution_count": 9,
   "metadata": {
    "ExecuteTime": {
     "end_time": "2021-06-28T07:10:11.978705Z",
     "start_time": "2021-06-28T07:10:11.712520Z"
    }
   },
   "outputs": [
    {
     "data": {
      "text/plain": [
       "sector          activity          \n",
       "Agriculture     Farming               72955\n",
       "                Agriculture           27023\n",
       "                Pigs                  26624\n",
       "                Livestock             13095\n",
       "                Poultry                9783\n",
       "                                      ...  \n",
       "Transportation  Transportation         4121\n",
       "                Rickshaw               2878\n",
       "                Taxi                   2631\n",
       "Wholesale       Wholesale               357\n",
       "                Goods Distribution      277\n",
       "Name: activity, Length: 163, dtype: int64"
      ]
     },
     "execution_count": 9,
     "metadata": {},
     "output_type": "execute_result"
    }
   ],
   "source": [
    "loans.groupby('sector').activity.value_counts()"
   ]
  },
  {
   "cell_type": "markdown",
   "metadata": {},
   "source": [
    "There are totally 163 activity types, which are the subsets of 15 sectors."
   ]
  },
  {
   "cell_type": "markdown",
   "metadata": {},
   "source": [
    "#### Use\n",
    "`use` factor describes how to use the loan in detail."
   ]
  },
  {
   "cell_type": "code",
   "execution_count": 10,
   "metadata": {
    "ExecuteTime": {
     "end_time": "2021-06-28T07:10:11.989179Z",
     "start_time": "2021-06-28T07:10:11.981861Z"
    }
   },
   "outputs": [
    {
     "data": {
      "text/plain": [
       "0              To buy seasonal, fresh fruits to sell. \n",
       "1    to repair and maintain the auto rickshaw used ...\n",
       "2    To repair their old cycle-van and buy another ...\n",
       "3    to purchase an embroidery machine and a variet...\n",
       "4                             to purchase one buffalo.\n",
       "Name: use, dtype: object"
      ]
     },
     "execution_count": 10,
     "metadata": {},
     "output_type": "execute_result"
    }
   ],
   "source": [
    "loans.use[0:5]"
   ]
  },
  {
   "cell_type": "code",
   "execution_count": 11,
   "metadata": {
    "ExecuteTime": {
     "end_time": "2021-06-28T07:10:12.057731Z",
     "start_time": "2021-06-28T07:10:11.995171Z"
    }
   },
   "outputs": [
    {
     "data": {
      "text/plain": [
       "0.0063050781802876914"
      ]
     },
     "execution_count": 11,
     "metadata": {},
     "output_type": "execute_result"
    }
   ],
   "source": [
    "loans.use.isna().mean()"
   ]
  },
  {
   "cell_type": "code",
   "execution_count": 12,
   "metadata": {
    "ExecuteTime": {
     "end_time": "2021-06-28T07:10:12.132706Z",
     "start_time": "2021-06-28T07:10:12.060772Z"
    }
   },
   "outputs": [
    {
     "data": {
      "text/plain": [
       "country        69\n",
       "partner_id    207\n",
       "dtype: int64"
      ]
     },
     "execution_count": 12,
     "metadata": {},
     "output_type": "execute_result"
    }
   ],
   "source": [
    "loans[loans.use.isna()][['country', 'partner_id']].apply(lambda x: len(x.unique()))"
   ]
  },
  {
   "cell_type": "markdown",
   "metadata": {},
   "source": [
    "About 0.6% of the loans have no description of loans' use, which involve 69 countries and 207 field partners. All these missing values will be impute with 'No_use_info'."
   ]
  },
  {
   "cell_type": "code",
   "execution_count": 13,
   "metadata": {
    "ExecuteTime": {
     "end_time": "2021-06-28T07:10:12.216120Z",
     "start_time": "2021-06-28T07:10:12.135181Z"
    }
   },
   "outputs": [
    {
     "data": {
      "text/plain": [
       "0"
      ]
     },
     "execution_count": 13,
     "metadata": {},
     "output_type": "execute_result"
    }
   ],
   "source": [
    "(loans_df.use == 'No_use_info').sum()"
   ]
  },
  {
   "cell_type": "code",
   "execution_count": 14,
   "metadata": {
    "ExecuteTime": {
     "end_time": "2021-06-28T07:10:12.275746Z",
     "start_time": "2021-06-28T07:10:12.218679Z"
    }
   },
   "outputs": [],
   "source": [
    "loans_df.use.fillna('No_use_info', inplace=True)"
   ]
  },
  {
   "cell_type": "markdown",
   "metadata": {},
   "source": [
    "#### Country and Country code"
   ]
  },
  {
   "cell_type": "markdown",
   "metadata": {},
   "source": [
    "##### Country code_missing value"
   ]
  },
  {
   "cell_type": "code",
   "execution_count": 15,
   "metadata": {
    "ExecuteTime": {
     "end_time": "2021-06-28T07:10:12.311844Z",
     "start_time": "2021-06-28T07:10:12.277984Z"
    }
   },
   "outputs": [
    {
     "data": {
      "text/plain": [
       "8"
      ]
     },
     "execution_count": 15,
     "metadata": {},
     "output_type": "execute_result"
    }
   ],
   "source": [
    "loans.country_code.isnull().sum()"
   ]
  },
  {
   "cell_type": "code",
   "execution_count": 16,
   "metadata": {
    "ExecuteTime": {
     "end_time": "2021-06-28T07:10:12.352868Z",
     "start_time": "2021-06-28T07:10:12.314540Z"
    }
   },
   "outputs": [
    {
     "data": {
      "text/html": [
       "<div>\n",
       "<style scoped>\n",
       "    .dataframe tbody tr th:only-of-type {\n",
       "        vertical-align: middle;\n",
       "    }\n",
       "\n",
       "    .dataframe tbody tr th {\n",
       "        vertical-align: top;\n",
       "    }\n",
       "\n",
       "    .dataframe thead th {\n",
       "        text-align: right;\n",
       "    }\n",
       "</style>\n",
       "<table border=\"1\" class=\"dataframe\">\n",
       "  <thead>\n",
       "    <tr style=\"text-align: right;\">\n",
       "      <th></th>\n",
       "      <th>country</th>\n",
       "    </tr>\n",
       "  </thead>\n",
       "  <tbody>\n",
       "    <tr>\n",
       "      <th>202537</th>\n",
       "      <td>Namibia</td>\n",
       "    </tr>\n",
       "    <tr>\n",
       "      <th>202823</th>\n",
       "      <td>Namibia</td>\n",
       "    </tr>\n",
       "    <tr>\n",
       "      <th>344929</th>\n",
       "      <td>Namibia</td>\n",
       "    </tr>\n",
       "    <tr>\n",
       "      <th>351177</th>\n",
       "      <td>Namibia</td>\n",
       "    </tr>\n",
       "    <tr>\n",
       "      <th>420953</th>\n",
       "      <td>Namibia</td>\n",
       "    </tr>\n",
       "    <tr>\n",
       "      <th>421218</th>\n",
       "      <td>Namibia</td>\n",
       "    </tr>\n",
       "    <tr>\n",
       "      <th>487207</th>\n",
       "      <td>Namibia</td>\n",
       "    </tr>\n",
       "    <tr>\n",
       "      <th>487653</th>\n",
       "      <td>Namibia</td>\n",
       "    </tr>\n",
       "  </tbody>\n",
       "</table>\n",
       "</div>"
      ],
      "text/plain": [
       "        country\n",
       "202537  Namibia\n",
       "202823  Namibia\n",
       "344929  Namibia\n",
       "351177  Namibia\n",
       "420953  Namibia\n",
       "421218  Namibia\n",
       "487207  Namibia\n",
       "487653  Namibia"
      ]
     },
     "execution_count": 16,
     "metadata": {},
     "output_type": "execute_result"
    }
   ],
   "source": [
    "loans[loans.country_code.isna()][['country']]"
   ]
  },
  {
   "cell_type": "markdown",
   "metadata": {},
   "source": [
    "All missing values of country_code come from Namibia whose ISO code is 'NA'([countrycode.org](https://countrycode.org/))"
   ]
  },
  {
   "cell_type": "code",
   "execution_count": 17,
   "metadata": {
    "ExecuteTime": {
     "end_time": "2021-06-28T07:10:12.392149Z",
     "start_time": "2021-06-28T07:10:12.355603Z"
    },
    "scrolled": true
   },
   "outputs": [],
   "source": [
    "# Fill null value with 'NA'\n",
    "loans_df.country_code.fillna('NA', inplace=True)"
   ]
  },
  {
   "cell_type": "markdown",
   "metadata": {},
   "source": [
    "##### Convert 2-letter country_code to 3-letter Country ISO Code"
   ]
  },
  {
   "cell_type": "markdown",
   "metadata": {},
   "source": [
    "In the `loans` dataset, `country_code` is a two-letter code, which dose not match the three-letter ISO code in other  datasets.\n",
    "\n",
    "`loans` and other datasets can be merged on country name or country code. Country name is more describable, but I will keep both here just in case there are some non-matching of the country names in the different datasets, such as spelling, upper case and lower case, space, and so on. "
   ]
  },
  {
   "cell_type": "code",
   "execution_count": 18,
   "metadata": {
    "ExecuteTime": {
     "end_time": "2021-06-28T07:10:12.405560Z",
     "start_time": "2021-06-28T07:10:12.395107Z"
    }
   },
   "outputs": [],
   "source": [
    "# Import ISO_country_code table\n",
    "country_ISO = pd.read_csv('/Users/lasayin/Desktop/Springboard/GitHub/Springboard_DS_Capstone2/RawData/AdditionalData/wikipedia-iso-country-codes.csv')"
   ]
  },
  {
   "cell_type": "code",
   "execution_count": 19,
   "metadata": {
    "ExecuteTime": {
     "end_time": "2021-06-28T07:10:12.426931Z",
     "start_time": "2021-06-28T07:10:12.410670Z"
    }
   },
   "outputs": [
    {
     "name": "stdout",
     "output_type": "stream",
     "text": [
      "<class 'pandas.core.frame.DataFrame'>\n",
      "RangeIndex: 246 entries, 0 to 245\n",
      "Data columns (total 5 columns):\n",
      " #   Column                         Non-Null Count  Dtype \n",
      "---  ------                         --------------  ----- \n",
      " 0   English short name lower case  246 non-null    object\n",
      " 1   Alpha-2 code                   245 non-null    object\n",
      " 2   Alpha-3 code                   246 non-null    object\n",
      " 3   Numeric code                   246 non-null    int64 \n",
      " 4   ISO 3166-2                     246 non-null    object\n",
      "dtypes: int64(1), object(4)\n",
      "memory usage: 9.7+ KB\n"
     ]
    }
   ],
   "source": [
    "country_ISO.info()"
   ]
  },
  {
   "cell_type": "code",
   "execution_count": 20,
   "metadata": {
    "ExecuteTime": {
     "end_time": "2021-06-28T07:10:12.444503Z",
     "start_time": "2021-06-28T07:10:12.431012Z"
    }
   },
   "outputs": [
    {
     "data": {
      "text/html": [
       "<div>\n",
       "<style scoped>\n",
       "    .dataframe tbody tr th:only-of-type {\n",
       "        vertical-align: middle;\n",
       "    }\n",
       "\n",
       "    .dataframe tbody tr th {\n",
       "        vertical-align: top;\n",
       "    }\n",
       "\n",
       "    .dataframe thead th {\n",
       "        text-align: right;\n",
       "    }\n",
       "</style>\n",
       "<table border=\"1\" class=\"dataframe\">\n",
       "  <thead>\n",
       "    <tr style=\"text-align: right;\">\n",
       "      <th></th>\n",
       "      <th>English short name lower case</th>\n",
       "      <th>Alpha-2 code</th>\n",
       "      <th>Alpha-3 code</th>\n",
       "      <th>Numeric code</th>\n",
       "      <th>ISO 3166-2</th>\n",
       "    </tr>\n",
       "  </thead>\n",
       "  <tbody>\n",
       "    <tr>\n",
       "      <th>0</th>\n",
       "      <td>Afghanistan</td>\n",
       "      <td>AF</td>\n",
       "      <td>AFG</td>\n",
       "      <td>4</td>\n",
       "      <td>ISO 3166-2:AF</td>\n",
       "    </tr>\n",
       "    <tr>\n",
       "      <th>1</th>\n",
       "      <td>Åland Islands</td>\n",
       "      <td>AX</td>\n",
       "      <td>ALA</td>\n",
       "      <td>248</td>\n",
       "      <td>ISO 3166-2:AX</td>\n",
       "    </tr>\n",
       "    <tr>\n",
       "      <th>2</th>\n",
       "      <td>Albania</td>\n",
       "      <td>AL</td>\n",
       "      <td>ALB</td>\n",
       "      <td>8</td>\n",
       "      <td>ISO 3166-2:AL</td>\n",
       "    </tr>\n",
       "    <tr>\n",
       "      <th>3</th>\n",
       "      <td>Algeria</td>\n",
       "      <td>DZ</td>\n",
       "      <td>DZA</td>\n",
       "      <td>12</td>\n",
       "      <td>ISO 3166-2:DZ</td>\n",
       "    </tr>\n",
       "    <tr>\n",
       "      <th>4</th>\n",
       "      <td>American Samoa</td>\n",
       "      <td>AS</td>\n",
       "      <td>ASM</td>\n",
       "      <td>16</td>\n",
       "      <td>ISO 3166-2:AS</td>\n",
       "    </tr>\n",
       "  </tbody>\n",
       "</table>\n",
       "</div>"
      ],
      "text/plain": [
       "  English short name lower case Alpha-2 code Alpha-3 code  Numeric code  \\\n",
       "0                   Afghanistan           AF          AFG             4   \n",
       "1                 Åland Islands           AX          ALA           248   \n",
       "2                       Albania           AL          ALB             8   \n",
       "3                       Algeria           DZ          DZA            12   \n",
       "4                American Samoa           AS          ASM            16   \n",
       "\n",
       "      ISO 3166-2  \n",
       "0  ISO 3166-2:AF  \n",
       "1  ISO 3166-2:AX  \n",
       "2  ISO 3166-2:AL  \n",
       "3  ISO 3166-2:DZ  \n",
       "4  ISO 3166-2:AS  "
      ]
     },
     "execution_count": 20,
     "metadata": {},
     "output_type": "execute_result"
    }
   ],
   "source": [
    "country_ISO.head()"
   ]
  },
  {
   "cell_type": "code",
   "execution_count": 21,
   "metadata": {
    "ExecuteTime": {
     "end_time": "2021-06-28T07:10:12.462995Z",
     "start_time": "2021-06-28T07:10:12.447419Z"
    }
   },
   "outputs": [
    {
     "data": {
      "text/html": [
       "<div>\n",
       "<style scoped>\n",
       "    .dataframe tbody tr th:only-of-type {\n",
       "        vertical-align: middle;\n",
       "    }\n",
       "\n",
       "    .dataframe tbody tr th {\n",
       "        vertical-align: top;\n",
       "    }\n",
       "\n",
       "    .dataframe thead th {\n",
       "        text-align: right;\n",
       "    }\n",
       "</style>\n",
       "<table border=\"1\" class=\"dataframe\">\n",
       "  <thead>\n",
       "    <tr style=\"text-align: right;\">\n",
       "      <th></th>\n",
       "      <th>country_code</th>\n",
       "      <th>Alpha-3 code</th>\n",
       "    </tr>\n",
       "  </thead>\n",
       "  <tbody>\n",
       "    <tr>\n",
       "      <th>0</th>\n",
       "      <td>AF</td>\n",
       "      <td>AFG</td>\n",
       "    </tr>\n",
       "    <tr>\n",
       "      <th>1</th>\n",
       "      <td>AX</td>\n",
       "      <td>ALA</td>\n",
       "    </tr>\n",
       "    <tr>\n",
       "      <th>2</th>\n",
       "      <td>AL</td>\n",
       "      <td>ALB</td>\n",
       "    </tr>\n",
       "    <tr>\n",
       "      <th>3</th>\n",
       "      <td>DZ</td>\n",
       "      <td>DZA</td>\n",
       "    </tr>\n",
       "    <tr>\n",
       "      <th>4</th>\n",
       "      <td>AS</td>\n",
       "      <td>ASM</td>\n",
       "    </tr>\n",
       "  </tbody>\n",
       "</table>\n",
       "</div>"
      ],
      "text/plain": [
       "  country_code Alpha-3 code\n",
       "0           AF          AFG\n",
       "1           AX          ALA\n",
       "2           AL          ALB\n",
       "3           DZ          DZA\n",
       "4           AS          ASM"
      ]
     },
     "execution_count": 21,
     "metadata": {},
     "output_type": "execute_result"
    }
   ],
   "source": [
    "# Keep code columns only and rename\n",
    "ISO = country_ISO.iloc[:, 1:3]\n",
    "ISO.rename({'Alpha-2 code':'country_code'}, axis=1, inplace=True)\n",
    "ISO.head()"
   ]
  },
  {
   "cell_type": "code",
   "execution_count": 22,
   "metadata": {
    "ExecuteTime": {
     "end_time": "2021-06-28T07:10:13.182326Z",
     "start_time": "2021-06-28T07:10:12.474965Z"
    }
   },
   "outputs": [
    {
     "data": {
      "text/plain": [
       "1587"
      ]
     },
     "execution_count": 22,
     "metadata": {},
     "output_type": "execute_result"
    }
   ],
   "source": [
    "# Merge ISO dataframe to loans_df and check the missing values\n",
    "loans_df = pd.merge(loans_df, ISO, on=['country_code'], how='left')\n",
    "loans_df['Alpha-3 code'].isnull().sum()"
   ]
  },
  {
   "cell_type": "code",
   "execution_count": 23,
   "metadata": {
    "ExecuteTime": {
     "end_time": "2021-06-28T07:10:13.443835Z",
     "start_time": "2021-06-28T07:10:13.188189Z"
    }
   },
   "outputs": [
    {
     "data": {
      "text/plain": [
       "array(['Kosovo', 'South Sudan', 'Namibia'], dtype=object)"
      ]
     },
     "execution_count": 23,
     "metadata": {},
     "output_type": "execute_result"
    }
   ],
   "source": [
    "loans_df[loans_df['Alpha-3 code'].isnull()]['country'].unique()"
   ]
  },
  {
   "cell_type": "markdown",
   "metadata": {},
   "source": [
    "The result shows there are missing values. According to [countrycode.org](https://countrycode.org/), the 3-letter ISO codes of Kosovo, South Sudan and Namibia are 'XKX, 'SSD' and 'NAM'， respectively."
   ]
  },
  {
   "cell_type": "code",
   "execution_count": 24,
   "metadata": {
    "ExecuteTime": {
     "end_time": "2021-06-28T07:10:13.628091Z",
     "start_time": "2021-06-28T07:10:13.447188Z"
    }
   },
   "outputs": [
    {
     "data": {
      "text/plain": [
       "0"
      ]
     },
     "execution_count": 24,
     "metadata": {},
     "output_type": "execute_result"
    }
   ],
   "source": [
    "# Fill missing values\n",
    "d = {'Kosovo': \"XKX\", 'South Sudan':'SSD', 'Namibia':'NAM'}\n",
    "s = loans_df.country.map(d)\n",
    "loans_df['Alpha-3 code'] = loans_df['Alpha-3 code'].combine_first(s)\n",
    "\n",
    "# Check result\n",
    "loans_df['Alpha-3 code'].isnull().sum()"
   ]
  },
  {
   "cell_type": "code",
   "execution_count": 25,
   "metadata": {
    "ExecuteTime": {
     "end_time": "2021-06-28T07:10:13.966482Z",
     "start_time": "2021-06-28T07:10:13.633222Z"
    }
   },
   "outputs": [],
   "source": [
    "loans_df.insert(6, 'ISO', loans_df['Alpha-3 code'])\n",
    "loans_df.drop(columns=['country_code','Alpha-3 code'],inplace=True)"
   ]
  },
  {
   "cell_type": "code",
   "execution_count": 26,
   "metadata": {
    "ExecuteTime": {
     "end_time": "2021-06-28T07:10:14.350592Z",
     "start_time": "2021-06-28T07:10:13.969406Z"
    }
   },
   "outputs": [
    {
     "name": "stdout",
     "output_type": "stream",
     "text": [
      "<class 'pandas.core.frame.DataFrame'>\n",
      "Int64Index: 671205 entries, 0 to 671204\n",
      "Data columns (total 16 columns):\n",
      " #   Column              Non-Null Count   Dtype  \n",
      "---  ------              --------------   -----  \n",
      " 0   id                  671205 non-null  int64  \n",
      " 1   funded_amount       671205 non-null  float64\n",
      " 2   loan_amount         671205 non-null  float64\n",
      " 3   activity            671205 non-null  object \n",
      " 4   sector              671205 non-null  object \n",
      " 5   use                 671205 non-null  object \n",
      " 6   ISO                 671205 non-null  object \n",
      " 7   country             671205 non-null  object \n",
      " 8   partner_id          657698 non-null  float64\n",
      " 9   posted_time         671205 non-null  object \n",
      " 10  funded_time         622874 non-null  object \n",
      " 11  term_in_months      671205 non-null  float64\n",
      " 12  lender_count        671205 non-null  int64  \n",
      " 13  tags                499789 non-null  object \n",
      " 14  borrower_genders    666984 non-null  object \n",
      " 15  repayment_interval  671205 non-null  object \n",
      "dtypes: float64(4), int64(2), object(10)\n",
      "memory usage: 87.1+ MB\n"
     ]
    }
   ],
   "source": [
    "loans_df.info()"
   ]
  },
  {
   "cell_type": "markdown",
   "metadata": {},
   "source": [
    "##### Countries which Kiva provides loans"
   ]
  },
  {
   "cell_type": "code",
   "execution_count": 27,
   "metadata": {
    "ExecuteTime": {
     "end_time": "2021-06-28T07:10:14.425733Z",
     "start_time": "2021-06-28T07:10:14.356058Z"
    }
   },
   "outputs": [
    {
     "data": {
      "text/plain": [
       "87"
      ]
     },
     "execution_count": 27,
     "metadata": {},
     "output_type": "execute_result"
    }
   ],
   "source": [
    "len(loans.country.unique())"
   ]
  },
  {
   "cell_type": "code",
   "execution_count": 28,
   "metadata": {
    "ExecuteTime": {
     "end_time": "2021-06-28T07:10:14.523301Z",
     "start_time": "2021-06-28T07:10:14.431446Z"
    }
   },
   "outputs": [
    {
     "data": {
      "text/plain": [
       "Philippines    160441\n",
       "Kenya           75825\n",
       "El Salvador     39875\n",
       "Cambodia        34836\n",
       "Pakistan        26857\n",
       "Peru            22233\n",
       "Colombia        21995\n",
       "Uganda          20601\n",
       "Tajikistan      19580\n",
       "Ecuador         13521\n",
       "Name: country, dtype: int64"
      ]
     },
     "execution_count": 28,
     "metadata": {},
     "output_type": "execute_result"
    }
   ],
   "source": [
    "loans.country.value_counts().head(10)"
   ]
  },
  {
   "cell_type": "code",
   "execution_count": 29,
   "metadata": {
    "ExecuteTime": {
     "end_time": "2021-06-28T07:10:14.589881Z",
     "start_time": "2021-06-28T07:10:14.527420Z"
    }
   },
   "outputs": [
    {
     "data": {
      "text/plain": [
       "6093"
      ]
     },
     "execution_count": 29,
     "metadata": {},
     "output_type": "execute_result"
    }
   ],
   "source": [
    "(loans.country == 'United States').sum()"
   ]
  },
  {
   "cell_type": "markdown",
   "metadata": {},
   "source": [
    "Kiva supports the people around the world, who are unbanked and can’t access the financial services they need. The under-served borrowers from developed countries such as United States also can get help from the loaners on kiva."
   ]
  },
  {
   "cell_type": "markdown",
   "metadata": {},
   "source": [
    "##### Partner id"
   ]
  },
  {
   "cell_type": "markdown",
   "metadata": {},
   "source": [
    "Most loans on Kiva are administered by one of the Kiva's local partners working in more than 80 countries. There are also small part of the loans disbursed directly by Kiva, which means partner id is missing. [For example](https://www.kiva.org/about/due-diligence), almost all Kiva loans for borrowers in the U.S. are direct loans, which are not administered by a Field Partner."
   ]
  },
  {
   "cell_type": "code",
   "execution_count": 30,
   "metadata": {
    "ExecuteTime": {
     "end_time": "2021-06-28T07:10:14.613166Z",
     "start_time": "2021-06-28T07:10:14.594905Z"
    }
   },
   "outputs": [
    {
     "data": {
      "text/plain": [
       "367"
      ]
     },
     "execution_count": 30,
     "metadata": {},
     "output_type": "execute_result"
    }
   ],
   "source": [
    "len(loans_df.partner_id.unique())"
   ]
  },
  {
   "cell_type": "code",
   "execution_count": 31,
   "metadata": {
    "ExecuteTime": {
     "end_time": "2021-06-28T07:10:14.660087Z",
     "start_time": "2021-06-28T07:10:14.617433Z"
    }
   },
   "outputs": [
    {
     "data": {
      "text/plain": [
       "Kenya             8372\n",
       "United States     5064\n",
       "Puerto Rico         68\n",
       "Virgin Islands       2\n",
       "Guam                 1\n",
       "Name: country, dtype: int64"
      ]
     },
     "execution_count": 31,
     "metadata": {},
     "output_type": "execute_result"
    }
   ],
   "source": [
    "loans[loans.partner_id.isna()].country.value_counts()"
   ]
  },
  {
   "cell_type": "markdown",
   "metadata": {},
   "source": [
    "There are 367 unique partners co-working with Kiva and the loans that were disbursed directly by Kiva came from five countries. To simplify, the missing values of `partner_id` will be imputed with 'No_partner' and all the other partner ids will be unified as 'With_partner'."
   ]
  },
  {
   "cell_type": "code",
   "execution_count": 32,
   "metadata": {
    "ExecuteTime": {
     "end_time": "2021-06-28T07:10:14.929307Z",
     "start_time": "2021-06-28T07:10:14.666031Z"
    }
   },
   "outputs": [
    {
     "data": {
      "text/plain": [
       "With_partner    657698\n",
       "No_partner       13507\n",
       "Name: partner_id, dtype: int64"
      ]
     },
     "execution_count": 32,
     "metadata": {},
     "output_type": "execute_result"
    }
   ],
   "source": [
    "# Fill missing values with 'No_tag'\n",
    "loans_df.partner_id.fillna('No_partner', inplace=True)\n",
    "loans_df.loc[loans_df.partner_id != 'No_partner', 'partner_id'] = 'With_partner'\n",
    "loans_df.partner_id.value_counts()"
   ]
  },
  {
   "cell_type": "markdown",
   "metadata": {},
   "source": [
    "#### Tags of the loans"
   ]
  },
  {
   "cell_type": "code",
   "execution_count": 33,
   "metadata": {
    "ExecuteTime": {
     "end_time": "2021-06-28T07:10:14.985698Z",
     "start_time": "2021-06-28T07:10:14.933611Z"
    }
   },
   "outputs": [
    {
     "data": {
      "text/plain": [
       "0.255385463457513"
      ]
     },
     "execution_count": 33,
     "metadata": {},
     "output_type": "execute_result"
    }
   ],
   "source": [
    "# Check the missing values rate\n",
    "loans.tags.isna().mean()"
   ]
  },
  {
   "cell_type": "code",
   "execution_count": 34,
   "metadata": {
    "ExecuteTime": {
     "end_time": "2021-06-28T07:10:15.123239Z",
     "start_time": "2021-06-28T07:10:14.990017Z"
    }
   },
   "outputs": [
    {
     "data": {
      "text/plain": [
       "86720"
      ]
     },
     "execution_count": 34,
     "metadata": {},
     "output_type": "execute_result"
    }
   ],
   "source": [
    "# The number of unique tags\n",
    "len(loans.tags.unique())"
   ]
  },
  {
   "cell_type": "markdown",
   "metadata": {},
   "source": [
    "`tags` is used to annotate the particular loans such as woman owned business, for parent, and so on. According to [Kiva website](https://www.kiva.org/team/loan_taggers) All the tags are added by Kiva's The Loan Taggers team, which enables lenders to find loans they are interested in faster. All Kiva lenders have the ability to add up to 5 tags on a loan, which can not be removed once been applied on the loan. So as we can see above, there are totally 86720 unique tags to the loans, while about 26% of loans have no tags.\n",
    "\n",
    "For simplicity, we impute missing values with 'No_tag'."
   ]
  },
  {
   "cell_type": "code",
   "execution_count": 35,
   "metadata": {
    "ExecuteTime": {
     "end_time": "2021-06-28T07:10:15.784655Z",
     "start_time": "2021-06-28T07:10:15.128773Z"
    }
   },
   "outputs": [
    {
     "data": {
      "text/plain": [
       "0"
      ]
     },
     "execution_count": 35,
     "metadata": {},
     "output_type": "execute_result"
    }
   ],
   "source": [
    "loans_df[loans_df.tags.notnull()].tags.str.contains('No_tag').sum()"
   ]
  },
  {
   "cell_type": "code",
   "execution_count": 36,
   "metadata": {
    "ExecuteTime": {
     "end_time": "2021-06-28T07:10:15.847947Z",
     "start_time": "2021-06-28T07:10:15.787067Z"
    }
   },
   "outputs": [],
   "source": [
    "# Fill missing values with 'No_tag'\n",
    "loans_df.tags.fillna('No_tag', inplace=True)"
   ]
  },
  {
   "cell_type": "markdown",
   "metadata": {},
   "source": [
    "#### Borrower genders"
   ]
  },
  {
   "cell_type": "markdown",
   "metadata": {},
   "source": [
    "##### Borrower genders missing values"
   ]
  },
  {
   "cell_type": "code",
   "execution_count": 37,
   "metadata": {
    "ExecuteTime": {
     "end_time": "2021-06-28T07:10:15.891187Z",
     "start_time": "2021-06-28T07:10:15.851108Z"
    }
   },
   "outputs": [
    {
     "data": {
      "text/plain": [
       "0.006288689744563881"
      ]
     },
     "execution_count": 37,
     "metadata": {},
     "output_type": "execute_result"
    }
   ],
   "source": [
    "loans.borrower_genders.isna().mean()"
   ]
  },
  {
   "cell_type": "code",
   "execution_count": 38,
   "metadata": {
    "ExecuteTime": {
     "end_time": "2021-06-28T07:10:15.948314Z",
     "start_time": "2021-06-28T07:10:15.894803Z"
    }
   },
   "outputs": [
    {
     "data": {
      "text/plain": [
       "Colombia         777\n",
       "Kenya            712\n",
       "El Salvador      554\n",
       "Uganda           211\n",
       "United States    160\n",
       "                ... \n",
       "Bhutan             1\n",
       "Georgia            1\n",
       "China              1\n",
       "Chile              1\n",
       "South Africa       1\n",
       "Name: country, Length: 69, dtype: int64"
      ]
     },
     "execution_count": 38,
     "metadata": {},
     "output_type": "execute_result"
    }
   ],
   "source": [
    "loans[loans.borrower_genders.isna()].country.value_counts()"
   ]
  },
  {
   "cell_type": "markdown",
   "metadata": {},
   "source": [
    "About 0.6% loans have no gender information, which involves 69 countries. We will fill the missing values with 'unknown'."
   ]
  },
  {
   "cell_type": "code",
   "execution_count": 39,
   "metadata": {
    "ExecuteTime": {
     "end_time": "2021-06-28T07:10:16.007835Z",
     "start_time": "2021-06-28T07:10:15.951738Z"
    }
   },
   "outputs": [],
   "source": [
    "loans_df.borrower_genders.fillna('unknown',inplace=True)"
   ]
  },
  {
   "cell_type": "markdown",
   "metadata": {},
   "source": [
    "##### Classify borrower genders"
   ]
  },
  {
   "cell_type": "code",
   "execution_count": 40,
   "metadata": {
    "ExecuteTime": {
     "end_time": "2021-06-28T07:10:16.119737Z",
     "start_time": "2021-06-28T07:10:16.010480Z"
    }
   },
   "outputs": [
    {
     "data": {
      "text/plain": [
       "female                                                                                                                                                                                                    426502\n",
       "male                                                                                                                                                                                                      134710\n",
       "female, female                                                                                                                                                                                             12164\n",
       "female, female, female                                                                                                                                                                                     11676\n",
       "female, female, female, female                                                                                                                                                                              9052\n",
       "                                                                                                                                                                                                           ...  \n",
       "male, female, male, male, female, female, male, female, male, male, male                                                                                                                                       1\n",
       "female, female, female, female, female, male, female, female, female, female, male, female, male, male, female, male, male                                                                                     1\n",
       "male, male, male, female, male, male, female, male, female, male, female                                                                                                                                       1\n",
       "female, male, female, male, female, female, female, female, female, female, male, female, male, female, female, female, female, female, male, male, male, female, female, female, female, male, female         1\n",
       "female, female, female, female, female, female, male, female, female, female, male, male, female, female, female, female, female, female, female, female                                                       1\n",
       "Name: borrower_genders, Length: 11298, dtype: int64"
      ]
     },
     "execution_count": 40,
     "metadata": {},
     "output_type": "execute_result"
    }
   ],
   "source": [
    "loans.borrower_genders.value_counts()"
   ]
  },
  {
   "cell_type": "markdown",
   "metadata": {},
   "source": [
    "The borrower gender is composed of individual's gender or all the individuals' gender in a group, which includes single female, single male, female group, male group, and the group mixed with female and male. We will classify borrowers gender as following:\n",
    "* Single female and female group will be labeled as 'female'\n",
    "* Single male and male group will be labeled as 'male'\n",
    "* The group mixed with female and male will be labeled as 'mixed'"
   ]
  },
  {
   "cell_type": "code",
   "execution_count": 41,
   "metadata": {
    "ExecuteTime": {
     "end_time": "2021-06-28T07:10:16.944440Z",
     "start_time": "2021-06-28T07:10:16.123727Z"
    }
   },
   "outputs": [],
   "source": [
    "def genders(x): \n",
    "    # Classify borrowers gender\n",
    "    if x == 'unknown':\n",
    "        gender = 'unknown' \n",
    "    else:\n",
    "        gender_list = [y.strip(' ') for y in x.split(',')]\n",
    "        if 'female' not in gender_list:\n",
    "            gender = 'male'\n",
    "        elif 'male' not in gender_list:\n",
    "            gender = 'female'\n",
    "        else: gender = 'mixed'\n",
    "            \n",
    "    return gender\n",
    "        \n",
    "gender_group = loans_df.borrower_genders.apply(genders)"
   ]
  },
  {
   "cell_type": "code",
   "execution_count": 42,
   "metadata": {
    "ExecuteTime": {
     "end_time": "2021-06-28T07:10:17.032034Z",
     "start_time": "2021-06-28T07:10:16.947409Z"
    },
    "scrolled": true
   },
   "outputs": [
    {
     "data": {
      "text/plain": [
       "female     0.727171\n",
       "male       0.206380\n",
       "mixed      0.060160\n",
       "unknown    0.006289\n",
       "Name: borrower_genders, dtype: float64"
      ]
     },
     "execution_count": 42,
     "metadata": {},
     "output_type": "execute_result"
    }
   ],
   "source": [
    "gender_group.value_counts(normalize=True)"
   ]
  },
  {
   "cell_type": "markdown",
   "metadata": {},
   "source": [
    "About three-fourth borrowers are female, which are harder to access financial service than male in many countries."
   ]
  },
  {
   "cell_type": "code",
   "execution_count": 43,
   "metadata": {
    "ExecuteTime": {
     "end_time": "2021-06-28T07:10:17.047928Z",
     "start_time": "2021-06-28T07:10:17.035075Z"
    }
   },
   "outputs": [],
   "source": [
    "loans_df.borrower_genders = gender_group"
   ]
  },
  {
   "cell_type": "markdown",
   "metadata": {},
   "source": [
    "#### Repayment interval"
   ]
  },
  {
   "cell_type": "code",
   "execution_count": 44,
   "metadata": {
    "ExecuteTime": {
     "end_time": "2021-06-28T07:10:17.144677Z",
     "start_time": "2021-06-28T07:10:17.051462Z"
    }
   },
   "outputs": [
    {
     "data": {
      "text/plain": [
       "monthly      342717\n",
       "irregular    257158\n",
       "bullet        70728\n",
       "weekly          602\n",
       "Name: repayment_interval, dtype: int64"
      ]
     },
     "execution_count": 44,
     "metadata": {},
     "output_type": "execute_result"
    }
   ],
   "source": [
    "loans.repayment_interval.value_counts()"
   ]
  },
  {
   "cell_type": "markdown",
   "metadata": {},
   "source": [
    "There are four types of repayment interval, in which 'monthly' and 'irregular' are the majority."
   ]
  },
  {
   "cell_type": "markdown",
   "metadata": {},
   "source": [
    "### Numeric Features"
   ]
  },
  {
   "cell_type": "markdown",
   "metadata": {},
   "source": [
    "#### Loan amount and funded amount\n",
    "Loan amount is the amount of the loan posted on Kiva website; funded amount is the amount what is funded on Kiva, which could be equal to, more than, or less than loan amount. "
   ]
  },
  {
   "cell_type": "code",
   "execution_count": 45,
   "metadata": {
    "ExecuteTime": {
     "end_time": "2021-06-28T07:10:17.240134Z",
     "start_time": "2021-06-28T07:10:17.149921Z"
    }
   },
   "outputs": [
    {
     "data": {
      "text/html": [
       "<div>\n",
       "<style scoped>\n",
       "    .dataframe tbody tr th:only-of-type {\n",
       "        vertical-align: middle;\n",
       "    }\n",
       "\n",
       "    .dataframe tbody tr th {\n",
       "        vertical-align: top;\n",
       "    }\n",
       "\n",
       "    .dataframe thead th {\n",
       "        text-align: right;\n",
       "    }\n",
       "</style>\n",
       "<table border=\"1\" class=\"dataframe\">\n",
       "  <thead>\n",
       "    <tr style=\"text-align: right;\">\n",
       "      <th></th>\n",
       "      <th>loan_amount</th>\n",
       "      <th>funded_amount</th>\n",
       "    </tr>\n",
       "  </thead>\n",
       "  <tbody>\n",
       "    <tr>\n",
       "      <th>count</th>\n",
       "      <td>671205.000000</td>\n",
       "      <td>671205.000000</td>\n",
       "    </tr>\n",
       "    <tr>\n",
       "      <th>mean</th>\n",
       "      <td>842.397107</td>\n",
       "      <td>785.995061</td>\n",
       "    </tr>\n",
       "    <tr>\n",
       "      <th>std</th>\n",
       "      <td>1198.660073</td>\n",
       "      <td>1130.398941</td>\n",
       "    </tr>\n",
       "    <tr>\n",
       "      <th>min</th>\n",
       "      <td>25.000000</td>\n",
       "      <td>0.000000</td>\n",
       "    </tr>\n",
       "    <tr>\n",
       "      <th>25%</th>\n",
       "      <td>275.000000</td>\n",
       "      <td>250.000000</td>\n",
       "    </tr>\n",
       "    <tr>\n",
       "      <th>50%</th>\n",
       "      <td>500.000000</td>\n",
       "      <td>450.000000</td>\n",
       "    </tr>\n",
       "    <tr>\n",
       "      <th>75%</th>\n",
       "      <td>1000.000000</td>\n",
       "      <td>900.000000</td>\n",
       "    </tr>\n",
       "    <tr>\n",
       "      <th>max</th>\n",
       "      <td>100000.000000</td>\n",
       "      <td>100000.000000</td>\n",
       "    </tr>\n",
       "  </tbody>\n",
       "</table>\n",
       "</div>"
      ],
      "text/plain": [
       "         loan_amount  funded_amount\n",
       "count  671205.000000  671205.000000\n",
       "mean      842.397107     785.995061\n",
       "std      1198.660073    1130.398941\n",
       "min        25.000000       0.000000\n",
       "25%       275.000000     250.000000\n",
       "50%       500.000000     450.000000\n",
       "75%      1000.000000     900.000000\n",
       "max    100000.000000  100000.000000"
      ]
     },
     "execution_count": 45,
     "metadata": {},
     "output_type": "execute_result"
    }
   ],
   "source": [
    "loans[['loan_amount','funded_amount']].describe()"
   ]
  },
  {
   "cell_type": "markdown",
   "metadata": {},
   "source": [
    "From the statistic values about, all the values of funded amount except the max are less than loan amount. Does that mean most of the loans posted on Kiva had not been completely funded? Let's check the funded-loan ratio and add it to the `loans` data set since we care about if a loan posted on Kiva platform will be fully funded or not.\n",
    "\n",
    "We will check completely-funded rate later and learn more about the relationship between the two amounts in EDA."
   ]
  },
  {
   "cell_type": "code",
   "execution_count": 46,
   "metadata": {
    "ExecuteTime": {
     "end_time": "2021-06-28T07:10:17.247243Z",
     "start_time": "2021-06-28T07:10:17.243788Z"
    }
   },
   "outputs": [],
   "source": [
    "#loans_df['funded_loan_ratio'] = (loans_df.funded_amount / loans_df.loan_amount).round(2)\n",
    "#loans_df.funded_loan_ratio.describe()"
   ]
  },
  {
   "cell_type": "markdown",
   "metadata": {},
   "source": [
    "#### Term in months\n",
    "`term_in_months` factor shows the number of months over which loan was scheduled to be paid back"
   ]
  },
  {
   "cell_type": "code",
   "execution_count": 47,
   "metadata": {
    "ExecuteTime": {
     "end_time": "2021-06-28T07:10:17.285391Z",
     "start_time": "2021-06-28T07:10:17.251905Z"
    }
   },
   "outputs": [
    {
     "data": {
      "text/plain": [
       "count    671205.000000\n",
       "mean         13.739022\n",
       "std           8.598919\n",
       "min           1.000000\n",
       "25%           8.000000\n",
       "50%          13.000000\n",
       "75%          14.000000\n",
       "max         158.000000\n",
       "Name: term_in_months, dtype: float64"
      ]
     },
     "execution_count": 47,
     "metadata": {},
     "output_type": "execute_result"
    }
   ],
   "source": [
    "loans.term_in_months.describe()"
   ]
  },
  {
   "cell_type": "markdown",
   "metadata": {},
   "source": [
    "Most of the loans (75%) are scheduled to be paid back in 14 months."
   ]
  },
  {
   "cell_type": "markdown",
   "metadata": {},
   "source": [
    "#### Lender count\n",
    "`lender_count` is number of lenders contributing to a loan."
   ]
  },
  {
   "cell_type": "code",
   "execution_count": 48,
   "metadata": {
    "ExecuteTime": {
     "end_time": "2021-06-28T07:10:17.319564Z",
     "start_time": "2021-06-28T07:10:17.288143Z"
    }
   },
   "outputs": [
    {
     "data": {
      "text/plain": [
       "count    671205.000000\n",
       "mean         20.590922\n",
       "std          28.459551\n",
       "min           0.000000\n",
       "25%           7.000000\n",
       "50%          13.000000\n",
       "75%          24.000000\n",
       "max        2986.000000\n",
       "Name: lender_count, dtype: float64"
      ]
     },
     "execution_count": 48,
     "metadata": {},
     "output_type": "execute_result"
    }
   ],
   "source": [
    "loans.lender_count.describe()"
   ]
  },
  {
   "cell_type": "markdown",
   "metadata": {},
   "source": [
    "The median of the lender count is 13, while there is the loan funded by nearly 3000 lenders."
   ]
  },
  {
   "cell_type": "markdown",
   "metadata": {},
   "source": [
    "### Time series\n",
    "`posted_time` is the time at which the loan is posted on Kiva by the field agent; `funded_time` is the time when the loan posted to Kiva gets funded by lenders completely. From the two time, we can get the information about how long a loan got the full fund on Kiva platform."
   ]
  },
  {
   "cell_type": "markdown",
   "metadata": {},
   "source": [
    "#### Convert to datetime"
   ]
  },
  {
   "cell_type": "code",
   "execution_count": 49,
   "metadata": {
    "ExecuteTime": {
     "end_time": "2021-06-28T07:10:18.218744Z",
     "start_time": "2021-06-28T07:10:17.323255Z"
    }
   },
   "outputs": [],
   "source": [
    "# Parse string to datetime\n",
    "loans_df[['posted_time', 'funded_time']] = loans_df[['posted_time','funded_time']]\\\n",
    ".applymap(lambda x: x.replace('+00:00',''),na_action='ignore')"
   ]
  },
  {
   "cell_type": "code",
   "execution_count": 50,
   "metadata": {
    "ExecuteTime": {
     "end_time": "2021-06-28T07:10:46.240346Z",
     "start_time": "2021-06-28T07:10:18.224043Z"
    }
   },
   "outputs": [],
   "source": [
    "loans_df[['posted_time','funded_time']] = loans_df[['posted_time','funded_time']]\\\n",
    ".applymap(lambda x: dt.strptime(x,'%Y-%m-%d %H:%M:%S'),na_action='ignore')"
   ]
  },
  {
   "cell_type": "code",
   "execution_count": 51,
   "metadata": {
    "ExecuteTime": {
     "end_time": "2021-06-28T07:10:46.288801Z",
     "start_time": "2021-06-28T07:10:46.247527Z"
    }
   },
   "outputs": [
    {
     "data": {
      "text/html": [
       "<div>\n",
       "<style scoped>\n",
       "    .dataframe tbody tr th:only-of-type {\n",
       "        vertical-align: middle;\n",
       "    }\n",
       "\n",
       "    .dataframe tbody tr th {\n",
       "        vertical-align: top;\n",
       "    }\n",
       "\n",
       "    .dataframe thead th {\n",
       "        text-align: right;\n",
       "    }\n",
       "</style>\n",
       "<table border=\"1\" class=\"dataframe\">\n",
       "  <thead>\n",
       "    <tr style=\"text-align: right;\">\n",
       "      <th></th>\n",
       "      <th>posted_time</th>\n",
       "      <th>funded_time</th>\n",
       "    </tr>\n",
       "  </thead>\n",
       "  <tbody>\n",
       "    <tr>\n",
       "      <th>0</th>\n",
       "      <td>2014-01-01 06:12:39</td>\n",
       "      <td>2014-01-02 10:06:32</td>\n",
       "    </tr>\n",
       "    <tr>\n",
       "      <th>1</th>\n",
       "      <td>2014-01-01 06:51:08</td>\n",
       "      <td>2014-01-02 09:17:23</td>\n",
       "    </tr>\n",
       "    <tr>\n",
       "      <th>2</th>\n",
       "      <td>2014-01-01 09:58:07</td>\n",
       "      <td>2014-01-01 16:01:36</td>\n",
       "    </tr>\n",
       "    <tr>\n",
       "      <th>3</th>\n",
       "      <td>2014-01-01 08:03:11</td>\n",
       "      <td>2014-01-01 13:00:00</td>\n",
       "    </tr>\n",
       "    <tr>\n",
       "      <th>4</th>\n",
       "      <td>2014-01-01 11:53:19</td>\n",
       "      <td>2014-01-01 19:18:51</td>\n",
       "    </tr>\n",
       "    <tr>\n",
       "      <th>...</th>\n",
       "      <td>...</td>\n",
       "      <td>...</td>\n",
       "    </tr>\n",
       "    <tr>\n",
       "      <th>671200</th>\n",
       "      <td>2017-07-25 16:55:34</td>\n",
       "      <td>NaT</td>\n",
       "    </tr>\n",
       "    <tr>\n",
       "      <th>671201</th>\n",
       "      <td>2017-07-25 06:14:08</td>\n",
       "      <td>2017-07-26 02:09:43</td>\n",
       "    </tr>\n",
       "    <tr>\n",
       "      <th>671202</th>\n",
       "      <td>2017-07-26 00:02:07</td>\n",
       "      <td>NaT</td>\n",
       "    </tr>\n",
       "    <tr>\n",
       "      <th>671203</th>\n",
       "      <td>2017-07-26 06:12:55</td>\n",
       "      <td>NaT</td>\n",
       "    </tr>\n",
       "    <tr>\n",
       "      <th>671204</th>\n",
       "      <td>2017-07-26 06:31:46</td>\n",
       "      <td>NaT</td>\n",
       "    </tr>\n",
       "  </tbody>\n",
       "</table>\n",
       "<p>671205 rows × 2 columns</p>\n",
       "</div>"
      ],
      "text/plain": [
       "               posted_time         funded_time\n",
       "0      2014-01-01 06:12:39 2014-01-02 10:06:32\n",
       "1      2014-01-01 06:51:08 2014-01-02 09:17:23\n",
       "2      2014-01-01 09:58:07 2014-01-01 16:01:36\n",
       "3      2014-01-01 08:03:11 2014-01-01 13:00:00\n",
       "4      2014-01-01 11:53:19 2014-01-01 19:18:51\n",
       "...                    ...                 ...\n",
       "671200 2017-07-25 16:55:34                 NaT\n",
       "671201 2017-07-25 06:14:08 2017-07-26 02:09:43\n",
       "671202 2017-07-26 00:02:07                 NaT\n",
       "671203 2017-07-26 06:12:55                 NaT\n",
       "671204 2017-07-26 06:31:46                 NaT\n",
       "\n",
       "[671205 rows x 2 columns]"
      ]
     },
     "execution_count": 51,
     "metadata": {},
     "output_type": "execute_result"
    }
   ],
   "source": [
    "times = loans_df[['posted_time','funded_time']]\n",
    "times"
   ]
  },
  {
   "cell_type": "markdown",
   "metadata": {},
   "source": [
    "#### Funded time missing value"
   ]
  },
  {
   "cell_type": "code",
   "execution_count": 52,
   "metadata": {
    "ExecuteTime": {
     "end_time": "2021-06-28T07:10:46.325087Z",
     "start_time": "2021-06-28T07:10:46.303370Z"
    }
   },
   "outputs": [
    {
     "data": {
      "text/plain": [
       "48331"
      ]
     },
     "execution_count": 52,
     "metadata": {},
     "output_type": "execute_result"
    }
   ],
   "source": [
    "(times.funded_time.isnull()).sum()"
   ]
  },
  {
   "cell_type": "code",
   "execution_count": 53,
   "metadata": {
    "ExecuteTime": {
     "end_time": "2021-06-28T07:10:47.468821Z",
     "start_time": "2021-06-28T07:10:46.330535Z"
    }
   },
   "outputs": [
    {
     "data": {
      "image/png": "[encoded data removed]",
      "text/plain": [
       "<Figure size 1800x720 with 2 Axes>"
      ]
     },
     "metadata": {
      "needs_background": "light"
     },
     "output_type": "display_data"
    }
   ],
   "source": [
    "_ = msno.matrix(times)"
   ]
  },
  {
   "cell_type": "code",
   "execution_count": 54,
   "metadata": {
    "ExecuteTime": {
     "end_time": "2021-06-28T07:10:47.481031Z",
     "start_time": "2021-06-28T07:10:47.473254Z"
    }
   },
   "outputs": [],
   "source": [
    "# Set posted_time as index\n",
    "times_index = times.set_index('posted_time',drop=False)"
   ]
  },
  {
   "cell_type": "markdown",
   "metadata": {},
   "source": [
    "#### The days taken to get full-fund\n",
    "\n",
    "Let's check the difference between the posted time and the funded time, which is the days taken to get full-fund."
   ]
  },
  {
   "cell_type": "code",
   "execution_count": 55,
   "metadata": {
    "ExecuteTime": {
     "end_time": "2021-06-28T07:10:47.516256Z",
     "start_time": "2021-06-28T07:10:47.484152Z"
    }
   },
   "outputs": [
    {
     "data": {
      "text/plain": [
       "0         1.162419\n",
       "1         1.101562\n",
       "2         0.252419\n",
       "3         0.206123\n",
       "4         0.309398\n",
       "            ...   \n",
       "671200         NaN\n",
       "671201    0.830266\n",
       "671202         NaN\n",
       "671203         NaN\n",
       "671204         NaN\n",
       "Length: 671205, dtype: float64"
      ]
     },
     "execution_count": 55,
     "metadata": {},
     "output_type": "execute_result"
    }
   ],
   "source": [
    "# The time difference between posted time and funded time \n",
    "posted_funded_diff = times.funded_time - times.posted_time\n",
    "\n",
    "# Present the results in float\n",
    "diff_days = posted_funded_diff / timedelta(days=1)\n",
    "diff_days"
   ]
  },
  {
   "cell_type": "code",
   "execution_count": 56,
   "metadata": {
    "ExecuteTime": {
     "end_time": "2021-06-28T07:10:47.554683Z",
     "start_time": "2021-06-28T07:10:47.519711Z"
    },
    "scrolled": false
   },
   "outputs": [],
   "source": [
    "# Add the days of getting full funds to dataset\n",
    "loans_df['fully_funded_days'] = diff_days"
   ]
  },
  {
   "cell_type": "code",
   "execution_count": 57,
   "metadata": {
    "ExecuteTime": {
     "end_time": "2021-06-28T07:10:47.637348Z",
     "start_time": "2021-06-28T07:10:47.565493Z"
    }
   },
   "outputs": [
    {
     "data": {
      "text/plain": [
       "count    622874.000000\n",
       "mean         14.641528\n",
       "std          14.399107\n",
       "min         -17.505278\n",
       "25%           5.174265\n",
       "50%           9.590122\n",
       "75%          22.538657\n",
       "max         420.573264\n",
       "Name: fully_funded_days, dtype: float64"
      ]
     },
     "execution_count": 57,
     "metadata": {},
     "output_type": "execute_result"
    }
   ],
   "source": [
    "# Check the statistics of the fully-funded days\n",
    "loans_df.fully_funded_days.describe()"
   ]
  },
  {
   "cell_type": "markdown",
   "metadata": {},
   "source": [
    "There is an obvious error for the minimum fully_funded_days value, which is negative. Let's check it."
   ]
  },
  {
   "cell_type": "code",
   "execution_count": 58,
   "metadata": {
    "ExecuteTime": {
     "end_time": "2021-06-28T07:10:47.734821Z",
     "start_time": "2021-06-28T07:10:47.656250Z"
    }
   },
   "outputs": [
    {
     "data": {
      "text/html": [
       "<div>\n",
       "<style scoped>\n",
       "    .dataframe tbody tr th:only-of-type {\n",
       "        vertical-align: middle;\n",
       "    }\n",
       "\n",
       "    .dataframe tbody tr th {\n",
       "        vertical-align: top;\n",
       "    }\n",
       "\n",
       "    .dataframe thead th {\n",
       "        text-align: right;\n",
       "    }\n",
       "</style>\n",
       "<table border=\"1\" class=\"dataframe\">\n",
       "  <thead>\n",
       "    <tr style=\"text-align: right;\">\n",
       "      <th></th>\n",
       "      <th>id</th>\n",
       "      <th>funded_amount</th>\n",
       "      <th>loan_amount</th>\n",
       "      <th>activity</th>\n",
       "      <th>sector</th>\n",
       "      <th>use</th>\n",
       "      <th>ISO</th>\n",
       "      <th>country</th>\n",
       "      <th>partner_id</th>\n",
       "      <th>posted_time</th>\n",
       "      <th>funded_time</th>\n",
       "      <th>term_in_months</th>\n",
       "      <th>lender_count</th>\n",
       "      <th>tags</th>\n",
       "      <th>borrower_genders</th>\n",
       "      <th>repayment_interval</th>\n",
       "      <th>fully_funded_days</th>\n",
       "    </tr>\n",
       "  </thead>\n",
       "  <tbody>\n",
       "    <tr>\n",
       "      <th>636606</th>\n",
       "      <td>1281091</td>\n",
       "      <td>2000.0</td>\n",
       "      <td>2000.0</td>\n",
       "      <td>Cleaning Services</td>\n",
       "      <td>Services</td>\n",
       "      <td>me to buy additional cleaning materials and a ...</td>\n",
       "      <td>USA</td>\n",
       "      <td>United States</td>\n",
       "      <td>No_partner</td>\n",
       "      <td>2017-05-15</td>\n",
       "      <td>2017-04-27 11:52:24</td>\n",
       "      <td>18.0</td>\n",
       "      <td>39</td>\n",
       "      <td>#Parent, #Woman Owned Biz, #Biz Durable Asset,...</td>\n",
       "      <td>female</td>\n",
       "      <td>monthly</td>\n",
       "      <td>-17.505278</td>\n",
       "    </tr>\n",
       "  </tbody>\n",
       "</table>\n",
       "</div>"
      ],
      "text/plain": [
       "             id  funded_amount  loan_amount           activity    sector  \\\n",
       "636606  1281091         2000.0       2000.0  Cleaning Services  Services   \n",
       "\n",
       "                                                      use  ISO        country  \\\n",
       "636606  me to buy additional cleaning materials and a ...  USA  United States   \n",
       "\n",
       "        partner_id posted_time         funded_time  term_in_months  \\\n",
       "636606  No_partner  2017-05-15 2017-04-27 11:52:24            18.0   \n",
       "\n",
       "        lender_count                                               tags  \\\n",
       "636606            39  #Parent, #Woman Owned Biz, #Biz Durable Asset,...   \n",
       "\n",
       "       borrower_genders repayment_interval  fully_funded_days  \n",
       "636606           female            monthly         -17.505278  "
      ]
     },
     "execution_count": 58,
     "metadata": {},
     "output_type": "execute_result"
    }
   ],
   "source": [
    "loans_df[loans_df.fully_funded_days <= 0]"
   ]
  },
  {
   "cell_type": "markdown",
   "metadata": {},
   "source": [
    "For this entry, the funded time is before the posted time, which might be generated by mistake and will be deleted."
   ]
  },
  {
   "cell_type": "code",
   "execution_count": 59,
   "metadata": {
    "ExecuteTime": {
     "end_time": "2021-06-28T07:10:47.946125Z",
     "start_time": "2021-06-28T07:10:47.738132Z"
    }
   },
   "outputs": [
    {
     "data": {
      "text/plain": [
       "(671204, 17)"
      ]
     },
     "execution_count": 59,
     "metadata": {},
     "output_type": "execute_result"
    }
   ],
   "source": [
    "loans_df.drop(index=636606, inplace=True)\n",
    "loans_df.shape"
   ]
  },
  {
   "cell_type": "code",
   "execution_count": 60,
   "metadata": {
    "ExecuteTime": {
     "end_time": "2021-06-28T07:10:48.015295Z",
     "start_time": "2021-06-28T07:10:47.949054Z"
    }
   },
   "outputs": [
    {
     "data": {
      "text/plain": [
       "count    622873.000000\n",
       "mean         14.641579\n",
       "std          14.399061\n",
       "min           0.001389\n",
       "25%           5.174282\n",
       "50%           9.590127\n",
       "75%          22.538704\n",
       "max         420.573264\n",
       "Name: fully_funded_days, dtype: float64"
      ]
     },
     "execution_count": 60,
     "metadata": {},
     "output_type": "execute_result"
    }
   ],
   "source": [
    "loans_df.fully_funded_days.describe()"
   ]
  },
  {
   "cell_type": "markdown",
   "metadata": {},
   "source": [
    "#### Funded amount, loan amount, and funded time\n",
    "The missing values in `funded_time` means the loans had not been funded completely, while `funded_amount` less than `loan_amount` also means incompletely-funded loan. Let's check the relationship between them."
   ]
  },
  {
   "cell_type": "code",
   "execution_count": 61,
   "metadata": {
    "ExecuteTime": {
     "end_time": "2021-06-28T07:10:48.033134Z",
     "start_time": "2021-06-28T07:10:48.021367Z"
    }
   },
   "outputs": [],
   "source": [
    "amount_and_time_index = loans_df[(loans_df.funded_amount < loans_df.loan_amount) != (loans_df.funded_time.isna())].index"
   ]
  },
  {
   "cell_type": "code",
   "execution_count": 62,
   "metadata": {
    "ExecuteTime": {
     "end_time": "2021-06-28T07:10:48.051455Z",
     "start_time": "2021-06-28T07:10:48.035556Z"
    }
   },
   "outputs": [
    {
     "data": {
      "text/html": [
       "<div>\n",
       "<style scoped>\n",
       "    .dataframe tbody tr th:only-of-type {\n",
       "        vertical-align: middle;\n",
       "    }\n",
       "\n",
       "    .dataframe tbody tr th {\n",
       "        vertical-align: top;\n",
       "    }\n",
       "\n",
       "    .dataframe thead th {\n",
       "        text-align: right;\n",
       "    }\n",
       "</style>\n",
       "<table border=\"1\" class=\"dataframe\">\n",
       "  <thead>\n",
       "    <tr style=\"text-align: right;\">\n",
       "      <th></th>\n",
       "      <th>id</th>\n",
       "      <th>loan_amount</th>\n",
       "      <th>funded_amount</th>\n",
       "      <th>posted_time</th>\n",
       "      <th>funded_time</th>\n",
       "    </tr>\n",
       "  </thead>\n",
       "  <tbody>\n",
       "    <tr>\n",
       "      <th>200906</th>\n",
       "      <td>849172</td>\n",
       "      <td>700.0</td>\n",
       "      <td>700.0</td>\n",
       "      <td>2015-03-02 13:07:56</td>\n",
       "      <td>NaT</td>\n",
       "    </tr>\n",
       "    <tr>\n",
       "      <th>277188</th>\n",
       "      <td>924149</td>\n",
       "      <td>400.0</td>\n",
       "      <td>425.0</td>\n",
       "      <td>2015-07-28 07:14:04</td>\n",
       "      <td>NaT</td>\n",
       "    </tr>\n",
       "    <tr>\n",
       "      <th>338159</th>\n",
       "      <td>985199</td>\n",
       "      <td>3000.0</td>\n",
       "      <td>3400.0</td>\n",
       "      <td>2015-11-25 10:53:00</td>\n",
       "      <td>NaT</td>\n",
       "    </tr>\n",
       "  </tbody>\n",
       "</table>\n",
       "</div>"
      ],
      "text/plain": [
       "            id  loan_amount  funded_amount         posted_time funded_time\n",
       "200906  849172        700.0          700.0 2015-03-02 13:07:56         NaT\n",
       "277188  924149        400.0          425.0 2015-07-28 07:14:04         NaT\n",
       "338159  985199       3000.0         3400.0 2015-11-25 10:53:00         NaT"
      ]
     },
     "execution_count": 62,
     "metadata": {},
     "output_type": "execute_result"
    }
   ],
   "source": [
    "amount_and_time = loans_df.iloc[amount_and_time_index][['id','loan_amount', 'funded_amount','posted_time', 'funded_time']]\n",
    "amount_and_time"
   ]
  },
  {
   "cell_type": "markdown",
   "metadata": {},
   "source": [
    "The three loans had been completely funded or over funded, but the funded_time information was missing. We will impute these missing values with the median of the days of getting full-funds according to the loan amount."
   ]
  },
  {
   "cell_type": "code",
   "execution_count": 63,
   "metadata": {
    "ExecuteTime": {
     "end_time": "2021-06-28T07:10:48.234972Z",
     "start_time": "2021-06-28T07:10:48.054110Z"
    }
   },
   "outputs": [],
   "source": [
    "# Calculate the median of the days getting full-funds according to the loan amount\n",
    "loan_amount_median = loans_df[loans_df.funded_time.notna()].groupby('loan_amount').fully_funded_days.median()"
   ]
  },
  {
   "cell_type": "code",
   "execution_count": 64,
   "metadata": {
    "ExecuteTime": {
     "end_time": "2021-06-28T07:10:48.296455Z",
     "start_time": "2021-06-28T07:10:48.239455Z"
    }
   },
   "outputs": [
    {
     "data": {
      "text/plain": [
       "200906    12.407130\n",
       "277188    14.735880\n",
       "338159    17.948843\n",
       "Name: fully_funded_days, dtype: float64"
      ]
     },
     "execution_count": 64,
     "metadata": {},
     "output_type": "execute_result"
    }
   ],
   "source": [
    "# Impute the missing values with the corresponding median\n",
    "median = loan_amount_median[[400.0,700.0,3000.0]].values\n",
    "loans_df.loc[amount_and_time_index, 'fully_funded_days'] = median\n",
    "loans_df.iloc[amount_and_time_index].fully_funded_days"
   ]
  },
  {
   "cell_type": "markdown",
   "metadata": {},
   "source": [
    "There are still a number of missing values in `funded_time` and `fully_funded_days`, which will be handled in EDA"
   ]
  },
  {
   "cell_type": "markdown",
   "metadata": {},
   "source": [
    "### Loans dataset summary"
   ]
  },
  {
   "cell_type": "code",
   "execution_count": 65,
   "metadata": {
    "ExecuteTime": {
     "end_time": "2021-06-28T07:10:48.784905Z",
     "start_time": "2021-06-28T07:10:48.298674Z"
    }
   },
   "outputs": [
    {
     "name": "stdout",
     "output_type": "stream",
     "text": [
      "<class 'pandas.core.frame.DataFrame'>\n",
      "Int64Index: 671204 entries, 0 to 671204\n",
      "Data columns (total 17 columns):\n",
      " #   Column              Non-Null Count   Dtype         \n",
      "---  ------              --------------   -----         \n",
      " 0   id                  671204 non-null  int64         \n",
      " 1   funded_amount       671204 non-null  float64       \n",
      " 2   loan_amount         671204 non-null  float64       \n",
      " 3   activity            671204 non-null  object        \n",
      " 4   sector              671204 non-null  object        \n",
      " 5   use                 671204 non-null  object        \n",
      " 6   ISO                 671204 non-null  object        \n",
      " 7   country             671204 non-null  object        \n",
      " 8   partner_id          671204 non-null  object        \n",
      " 9   posted_time         671204 non-null  datetime64[ns]\n",
      " 10  funded_time         622873 non-null  datetime64[ns]\n",
      " 11  term_in_months      671204 non-null  float64       \n",
      " 12  lender_count        671204 non-null  int64         \n",
      " 13  tags                671204 non-null  object        \n",
      " 14  borrower_genders    671204 non-null  object        \n",
      " 15  repayment_interval  671204 non-null  object        \n",
      " 16  fully_funded_days   622876 non-null  float64       \n",
      "dtypes: datetime64[ns](2), float64(4), int64(2), object(9)\n",
      "memory usage: 108.3+ MB\n"
     ]
    }
   ],
   "source": [
    "loans_df.info()"
   ]
  },
  {
   "cell_type": "code",
   "execution_count": 66,
   "metadata": {
    "ExecuteTime": {
     "end_time": "2021-06-28T07:10:48.829575Z",
     "start_time": "2021-06-28T07:10:48.796983Z"
    }
   },
   "outputs": [
    {
     "data": {
      "text/html": [
       "<div>\n",
       "<style scoped>\n",
       "    .dataframe tbody tr th:only-of-type {\n",
       "        vertical-align: middle;\n",
       "    }\n",
       "\n",
       "    .dataframe tbody tr th {\n",
       "        vertical-align: top;\n",
       "    }\n",
       "\n",
       "    .dataframe thead th {\n",
       "        text-align: right;\n",
       "    }\n",
       "</style>\n",
       "<table border=\"1\" class=\"dataframe\">\n",
       "  <thead>\n",
       "    <tr style=\"text-align: right;\">\n",
       "      <th></th>\n",
       "      <th>id</th>\n",
       "      <th>funded_amount</th>\n",
       "      <th>loan_amount</th>\n",
       "      <th>activity</th>\n",
       "      <th>sector</th>\n",
       "      <th>use</th>\n",
       "      <th>ISO</th>\n",
       "      <th>country</th>\n",
       "      <th>partner_id</th>\n",
       "      <th>posted_time</th>\n",
       "      <th>funded_time</th>\n",
       "      <th>term_in_months</th>\n",
       "      <th>lender_count</th>\n",
       "      <th>tags</th>\n",
       "      <th>borrower_genders</th>\n",
       "      <th>repayment_interval</th>\n",
       "      <th>fully_funded_days</th>\n",
       "    </tr>\n",
       "  </thead>\n",
       "  <tbody>\n",
       "    <tr>\n",
       "      <th>0</th>\n",
       "      <td>653051</td>\n",
       "      <td>300.0</td>\n",
       "      <td>300.0</td>\n",
       "      <td>Fruits &amp; Vegetables</td>\n",
       "      <td>Food</td>\n",
       "      <td>To buy seasonal, fresh fruits to sell.</td>\n",
       "      <td>PAK</td>\n",
       "      <td>Pakistan</td>\n",
       "      <td>With_partner</td>\n",
       "      <td>2014-01-01 06:12:39</td>\n",
       "      <td>2014-01-02 10:06:32</td>\n",
       "      <td>12.0</td>\n",
       "      <td>12</td>\n",
       "      <td>No_tag</td>\n",
       "      <td>female</td>\n",
       "      <td>irregular</td>\n",
       "      <td>1.162419</td>\n",
       "    </tr>\n",
       "    <tr>\n",
       "      <th>1</th>\n",
       "      <td>653053</td>\n",
       "      <td>575.0</td>\n",
       "      <td>575.0</td>\n",
       "      <td>Rickshaw</td>\n",
       "      <td>Transportation</td>\n",
       "      <td>to repair and maintain the auto rickshaw used ...</td>\n",
       "      <td>PAK</td>\n",
       "      <td>Pakistan</td>\n",
       "      <td>With_partner</td>\n",
       "      <td>2014-01-01 06:51:08</td>\n",
       "      <td>2014-01-02 09:17:23</td>\n",
       "      <td>11.0</td>\n",
       "      <td>14</td>\n",
       "      <td>No_tag</td>\n",
       "      <td>female</td>\n",
       "      <td>irregular</td>\n",
       "      <td>1.101562</td>\n",
       "    </tr>\n",
       "    <tr>\n",
       "      <th>2</th>\n",
       "      <td>653068</td>\n",
       "      <td>150.0</td>\n",
       "      <td>150.0</td>\n",
       "      <td>Transportation</td>\n",
       "      <td>Transportation</td>\n",
       "      <td>To repair their old cycle-van and buy another ...</td>\n",
       "      <td>IND</td>\n",
       "      <td>India</td>\n",
       "      <td>With_partner</td>\n",
       "      <td>2014-01-01 09:58:07</td>\n",
       "      <td>2014-01-01 16:01:36</td>\n",
       "      <td>43.0</td>\n",
       "      <td>6</td>\n",
       "      <td>user_favorite, user_favorite</td>\n",
       "      <td>female</td>\n",
       "      <td>bullet</td>\n",
       "      <td>0.252419</td>\n",
       "    </tr>\n",
       "    <tr>\n",
       "      <th>3</th>\n",
       "      <td>653063</td>\n",
       "      <td>200.0</td>\n",
       "      <td>200.0</td>\n",
       "      <td>Embroidery</td>\n",
       "      <td>Arts</td>\n",
       "      <td>to purchase an embroidery machine and a variet...</td>\n",
       "      <td>PAK</td>\n",
       "      <td>Pakistan</td>\n",
       "      <td>With_partner</td>\n",
       "      <td>2014-01-01 08:03:11</td>\n",
       "      <td>2014-01-01 13:00:00</td>\n",
       "      <td>11.0</td>\n",
       "      <td>8</td>\n",
       "      <td>No_tag</td>\n",
       "      <td>female</td>\n",
       "      <td>irregular</td>\n",
       "      <td>0.206123</td>\n",
       "    </tr>\n",
       "    <tr>\n",
       "      <th>4</th>\n",
       "      <td>653084</td>\n",
       "      <td>400.0</td>\n",
       "      <td>400.0</td>\n",
       "      <td>Milk Sales</td>\n",
       "      <td>Food</td>\n",
       "      <td>to purchase one buffalo.</td>\n",
       "      <td>PAK</td>\n",
       "      <td>Pakistan</td>\n",
       "      <td>With_partner</td>\n",
       "      <td>2014-01-01 11:53:19</td>\n",
       "      <td>2014-01-01 19:18:51</td>\n",
       "      <td>14.0</td>\n",
       "      <td>16</td>\n",
       "      <td>No_tag</td>\n",
       "      <td>female</td>\n",
       "      <td>monthly</td>\n",
       "      <td>0.309398</td>\n",
       "    </tr>\n",
       "  </tbody>\n",
       "</table>\n",
       "</div>"
      ],
      "text/plain": [
       "       id  funded_amount  loan_amount             activity          sector  \\\n",
       "0  653051          300.0        300.0  Fruits & Vegetables            Food   \n",
       "1  653053          575.0        575.0             Rickshaw  Transportation   \n",
       "2  653068          150.0        150.0       Transportation  Transportation   \n",
       "3  653063          200.0        200.0           Embroidery            Arts   \n",
       "4  653084          400.0        400.0           Milk Sales            Food   \n",
       "\n",
       "                                                 use  ISO   country  \\\n",
       "0            To buy seasonal, fresh fruits to sell.   PAK  Pakistan   \n",
       "1  to repair and maintain the auto rickshaw used ...  PAK  Pakistan   \n",
       "2  To repair their old cycle-van and buy another ...  IND     India   \n",
       "3  to purchase an embroidery machine and a variet...  PAK  Pakistan   \n",
       "4                           to purchase one buffalo.  PAK  Pakistan   \n",
       "\n",
       "     partner_id         posted_time         funded_time  term_in_months  \\\n",
       "0  With_partner 2014-01-01 06:12:39 2014-01-02 10:06:32            12.0   \n",
       "1  With_partner 2014-01-01 06:51:08 2014-01-02 09:17:23            11.0   \n",
       "2  With_partner 2014-01-01 09:58:07 2014-01-01 16:01:36            43.0   \n",
       "3  With_partner 2014-01-01 08:03:11 2014-01-01 13:00:00            11.0   \n",
       "4  With_partner 2014-01-01 11:53:19 2014-01-01 19:18:51            14.0   \n",
       "\n",
       "   lender_count                          tags borrower_genders  \\\n",
       "0            12                        No_tag           female   \n",
       "1            14                        No_tag           female   \n",
       "2             6  user_favorite, user_favorite           female   \n",
       "3             8                        No_tag           female   \n",
       "4            16                        No_tag           female   \n",
       "\n",
       "  repayment_interval  fully_funded_days  \n",
       "0          irregular           1.162419  \n",
       "1          irregular           1.101562  \n",
       "2             bullet           0.252419  \n",
       "3          irregular           0.206123  \n",
       "4            monthly           0.309398  "
      ]
     },
     "execution_count": 66,
     "metadata": {},
     "output_type": "execute_result"
    }
   ],
   "source": [
    "loans_df.head()"
   ]
  },
  {
   "cell_type": "markdown",
   "metadata": {},
   "source": [
    "### Multidimensional Poverty Index (MPI)"
   ]
  },
  {
   "cell_type": "markdown",
   "metadata": {},
   "source": [
    "For this project, we focus on which loans are more attractive to lenders and get full-funds quickly. On Kiva platform, lenders can choose loans to lend by world region and by country when they explore and filter the loans posted on Kiva. Does the poverty level of the country where a borrower comes from effect a lender' choice? To answer this question, Multidimensional Poverty Index (MPI) dataset comes in here. \n",
    "\n",
    "The Multidimensional Poverty Index (MPI) is an international measure of acute multidimensional poverty covering over 100 developing countries. It complements traditional monetary poverty measures by capturing the acute deprivations in health, education, and living standards that a person faces simultaneously."
   ]
  },
  {
   "cell_type": "markdown",
   "metadata": {},
   "source": [
    "For Kiva, knowing the welfare level of borrowers in specific regions is critical to set investment priorities. However, for lenders, who can only explore the loans at world region and country level, the granularity of the MPI of is not crucial.  The object of this project is to accurately predict if a loan will be attractive to lenders and get fund quickly, which means we're viewing this problem from the standpoint of a lender, not Kiva. So we import the Multidimensional Poverty Index(MPI) at country level, in another word, we will ignore the variety at subnational level. At the same time, the world region information is also imported."
   ]
  },
  {
   "cell_type": "markdown",
   "metadata": {},
   "source": [
    "#### Nation-level MPI "
   ]
  },
  {
   "cell_type": "code",
   "execution_count": 67,
   "metadata": {
    "ExecuteTime": {
     "end_time": "2021-06-28T07:10:48.887131Z",
     "start_time": "2021-06-28T07:10:48.854894Z"
    },
    "scrolled": true
   },
   "outputs": [
    {
     "name": "stdout",
     "output_type": "stream",
     "text": [
      "<class 'pandas.core.frame.DataFrame'>\n",
      "RangeIndex: 103 entries, 0 to 102\n",
      "Data columns (total 3 columns):\n",
      " #   Column        Non-Null Count  Dtype  \n",
      "---  ------        --------------  -----  \n",
      " 0   ISO           103 non-null    object \n",
      " 1   world_region  103 non-null    object \n",
      " 2   MPI           103 non-null    float64\n",
      "dtypes: float64(1), object(2)\n",
      "memory usage: 2.5+ KB\n"
     ]
    }
   ],
   "source": [
    "mpi_nation.info()"
   ]
  },
  {
   "cell_type": "code",
   "execution_count": 68,
   "metadata": {
    "ExecuteTime": {
     "end_time": "2021-06-28T07:10:48.924329Z",
     "start_time": "2021-06-28T07:10:48.905871Z"
    }
   },
   "outputs": [
    {
     "data": {
      "text/html": [
       "<div>\n",
       "<style scoped>\n",
       "    .dataframe tbody tr th:only-of-type {\n",
       "        vertical-align: middle;\n",
       "    }\n",
       "\n",
       "    .dataframe tbody tr th {\n",
       "        vertical-align: top;\n",
       "    }\n",
       "\n",
       "    .dataframe thead th {\n",
       "        text-align: right;\n",
       "    }\n",
       "</style>\n",
       "<table border=\"1\" class=\"dataframe\">\n",
       "  <thead>\n",
       "    <tr style=\"text-align: right;\">\n",
       "      <th></th>\n",
       "      <th>ISO</th>\n",
       "      <th>world_region</th>\n",
       "      <th>MPI</th>\n",
       "    </tr>\n",
       "  </thead>\n",
       "  <tbody>\n",
       "    <tr>\n",
       "      <th>0</th>\n",
       "      <td>SRB</td>\n",
       "      <td>Europe and Central Asia</td>\n",
       "      <td>0.000957</td>\n",
       "    </tr>\n",
       "    <tr>\n",
       "      <th>1</th>\n",
       "      <td>TKM</td>\n",
       "      <td>Europe and Central Asia</td>\n",
       "      <td>0.001136</td>\n",
       "    </tr>\n",
       "    <tr>\n",
       "      <th>2</th>\n",
       "      <td>ARM</td>\n",
       "      <td>Europe and Central Asia</td>\n",
       "      <td>0.001155</td>\n",
       "    </tr>\n",
       "    <tr>\n",
       "      <th>3</th>\n",
       "      <td>MNE</td>\n",
       "      <td>Europe and Central Asia</td>\n",
       "      <td>0.001263</td>\n",
       "    </tr>\n",
       "    <tr>\n",
       "      <th>4</th>\n",
       "      <td>KGZ</td>\n",
       "      <td>Europe and Central Asia</td>\n",
       "      <td>0.001873</td>\n",
       "    </tr>\n",
       "  </tbody>\n",
       "</table>\n",
       "</div>"
      ],
      "text/plain": [
       "   ISO             world_region       MPI\n",
       "0  SRB  Europe and Central Asia  0.000957\n",
       "1  TKM  Europe and Central Asia  0.001136\n",
       "2  ARM  Europe and Central Asia  0.001155\n",
       "3  MNE  Europe and Central Asia  0.001263\n",
       "4  KGZ  Europe and Central Asia  0.001873"
      ]
     },
     "execution_count": 68,
     "metadata": {},
     "output_type": "execute_result"
    }
   ],
   "source": [
    "mpi_nation.head()"
   ]
  },
  {
   "cell_type": "markdown",
   "metadata": {},
   "source": [
    "#### World region"
   ]
  },
  {
   "cell_type": "code",
   "execution_count": 69,
   "metadata": {
    "ExecuteTime": {
     "end_time": "2021-06-28T07:10:48.938776Z",
     "start_time": "2021-06-28T07:10:48.930897Z"
    }
   },
   "outputs": [
    {
     "data": {
      "text/plain": [
       "array(['Europe and Central Asia', 'Latin America and Caribbean',\n",
       "       'East Asia and the Pacific', 'Arab States', 'South Asia',\n",
       "       'Sub-Saharan Africa'], dtype=object)"
      ]
     },
     "execution_count": 69,
     "metadata": {},
     "output_type": "execute_result"
    }
   ],
   "source": [
    "mpi_nation.world_region.unique()"
   ]
  },
  {
   "cell_type": "markdown",
   "metadata": {},
   "source": [
    "#### ISO"
   ]
  },
  {
   "cell_type": "code",
   "execution_count": 70,
   "metadata": {
    "ExecuteTime": {
     "end_time": "2021-06-28T07:10:48.952642Z",
     "start_time": "2021-06-28T07:10:48.946275Z"
    }
   },
   "outputs": [
    {
     "data": {
      "text/plain": [
       "103"
      ]
     },
     "execution_count": 70,
     "metadata": {},
     "output_type": "execute_result"
    }
   ],
   "source": [
    "len(mpi_nation.ISO.unique())"
   ]
  },
  {
   "cell_type": "markdown",
   "metadata": {},
   "source": [
    "## Final dataset"
   ]
  },
  {
   "cell_type": "markdown",
   "metadata": {},
   "source": [
    "### Merge `loans_df` with `mpi_nation`"
   ]
  },
  {
   "cell_type": "code",
   "execution_count": 71,
   "metadata": {
    "ExecuteTime": {
     "end_time": "2021-06-28T07:10:49.485538Z",
     "start_time": "2021-06-28T07:10:48.957087Z"
    }
   },
   "outputs": [],
   "source": [
    "loans_mpi = loans_df.merge(mpi_nation, how='left', on='ISO')"
   ]
  },
  {
   "cell_type": "code",
   "execution_count": 72,
   "metadata": {
    "ExecuteTime": {
     "end_time": "2021-06-28T07:10:49.859705Z",
     "start_time": "2021-06-28T07:10:49.488183Z"
    }
   },
   "outputs": [
    {
     "name": "stdout",
     "output_type": "stream",
     "text": [
      "<class 'pandas.core.frame.DataFrame'>\n",
      "Int64Index: 671204 entries, 0 to 671203\n",
      "Data columns (total 19 columns):\n",
      " #   Column              Non-Null Count   Dtype         \n",
      "---  ------              --------------   -----         \n",
      " 0   id                  671204 non-null  int64         \n",
      " 1   funded_amount       671204 non-null  float64       \n",
      " 2   loan_amount         671204 non-null  float64       \n",
      " 3   activity            671204 non-null  object        \n",
      " 4   sector              671204 non-null  object        \n",
      " 5   use                 671204 non-null  object        \n",
      " 6   ISO                 671204 non-null  object        \n",
      " 7   country             671204 non-null  object        \n",
      " 8   partner_id          671204 non-null  object        \n",
      " 9   posted_time         671204 non-null  datetime64[ns]\n",
      " 10  funded_time         622873 non-null  datetime64[ns]\n",
      " 11  term_in_months      671204 non-null  float64       \n",
      " 12  lender_count        671204 non-null  int64         \n",
      " 13  tags                671204 non-null  object        \n",
      " 14  borrower_genders    671204 non-null  object        \n",
      " 15  repayment_interval  671204 non-null  object        \n",
      " 16  fully_funded_days   622876 non-null  float64       \n",
      " 17  world_region        628895 non-null  object        \n",
      " 18  MPI                 628895 non-null  float64       \n",
      "dtypes: datetime64[ns](2), float64(5), int64(2), object(10)\n",
      "memory usage: 102.4+ MB\n"
     ]
    }
   ],
   "source": [
    "loans_mpi.info()"
   ]
  },
  {
   "cell_type": "markdown",
   "metadata": {},
   "source": [
    "### Missing values"
   ]
  },
  {
   "cell_type": "markdown",
   "metadata": {},
   "source": [
    "#### Missing MPI"
   ]
  },
  {
   "cell_type": "code",
   "execution_count": 73,
   "metadata": {
    "ExecuteTime": {
     "end_time": "2021-06-28T07:10:50.194813Z",
     "start_time": "2021-06-28T07:10:49.866552Z"
    }
   },
   "outputs": [
    {
     "data": {
      "text/plain": [
       "array(['United States', 'Chile', 'Georgia', 'Kosovo', 'Costa Rica',\n",
       "       'Turkey', 'Paraguay', 'Lebanon', 'Samoa', 'Israel', 'Panama',\n",
       "       'Virgin Islands', 'Saint Vincent and the Grenadines',\n",
       "       'Solomon Islands', 'Guam', 'Puerto Rico'], dtype=object)"
      ]
     },
     "execution_count": 73,
     "metadata": {},
     "output_type": "execute_result"
    }
   ],
   "source": [
    "loans_mpi[loans_mpi.MPI.isna()].country.unique()"
   ]
  },
  {
   "cell_type": "markdown",
   "metadata": {},
   "source": [
    "Among the countries missing MPI values, United Stated, Virgin Islands, Guam, Puerto Rico, and Israel can be considered as developed countries or areas. All the others are developing countries but not being included in the [Global Multidimensional Poverty Index dataset](https://ophi.org.uk/multidimensional-poverty-index/global-mpi-2017/mpi-data/)"
   ]
  },
  {
   "cell_type": "markdown",
   "metadata": {},
   "source": [
    "#### Missing world region"
   ]
  },
  {
   "cell_type": "code",
   "execution_count": 74,
   "metadata": {
    "ExecuteTime": {
     "end_time": "2021-06-28T07:10:50.272233Z",
     "start_time": "2021-06-28T07:10:50.200979Z"
    }
   },
   "outputs": [],
   "source": [
    "lost_region = loans_mpi[loans_mpi.world_region.isna()].country.unique()"
   ]
  },
  {
   "cell_type": "code",
   "execution_count": 75,
   "metadata": {
    "ExecuteTime": {
     "end_time": "2021-06-28T07:10:50.301442Z",
     "start_time": "2021-06-28T07:10:50.277448Z"
    }
   },
   "outputs": [
    {
     "data": {
      "text/plain": [
       "array(['United States', 'Chile', 'Georgia', 'Kosovo', 'Costa Rica',\n",
       "       'Turkey', 'Paraguay', 'Lebanon', 'Samoa', 'Israel', 'Panama',\n",
       "       'Virgin Islands', 'Saint Vincent and the Grenadines',\n",
       "       'Solomon Islands', 'Guam', 'Puerto Rico'], dtype=object)"
      ]
     },
     "execution_count": 75,
     "metadata": {},
     "output_type": "execute_result"
    }
   ],
   "source": [
    "lost_region"
   ]
  },
  {
   "cell_type": "code",
   "execution_count": 76,
   "metadata": {
    "ExecuteTime": {
     "end_time": "2021-06-28T07:10:50.358106Z",
     "start_time": "2021-06-28T07:10:50.308246Z"
    }
   },
   "outputs": [
    {
     "data": {
      "text/plain": [
       "array(['South Asia', 'Sub-Saharan Africa', 'Latin America and Caribbean',\n",
       "       'East Asia and the Pacific', 'Arab States', nan,\n",
       "       'Europe and Central Asia'], dtype=object)"
      ]
     },
     "execution_count": 76,
     "metadata": {},
     "output_type": "execute_result"
    }
   ],
   "source": [
    "loans_mpi.world_region.unique()"
   ]
  },
  {
   "cell_type": "code",
   "execution_count": 77,
   "metadata": {
    "ExecuteTime": {
     "end_time": "2021-06-28T07:10:51.328318Z",
     "start_time": "2021-06-28T07:10:50.362647Z"
    }
   },
   "outputs": [],
   "source": [
    "loans_mpi.loc[loans_mpi.country == 'United States', 'world_region'] = 'North America'\n",
    "loans_mpi.loc[loans_mpi.country == 'Chile', 'world_region'] = 'Latin America and Caribbean'\n",
    "loans_mpi.loc[loans_mpi.country == 'Georgia', 'world_region'] = 'Europe and Central Asia'\n",
    "loans_mpi.loc[loans_mpi.country == 'Kosovo', 'world_region'] = 'Europe and Central Asia'\n",
    "loans_mpi.loc[loans_mpi.country == 'Costa Rica', 'world_region'] = 'Latin America and Caribbean'\n",
    "loans_mpi.loc[loans_mpi.country == 'Turkey', 'world_region'] = 'Europe and Central Asia'\n",
    "loans_mpi.loc[loans_mpi.country == 'Paraguay', 'world_region'] = 'Latin America and Caribbean'\n",
    "loans_mpi.loc[loans_mpi.country == 'Lebanon', 'world_region'] = 'Arab States'\n",
    "loans_mpi.loc[loans_mpi.country == 'Samoa', 'world_region'] = 'East Asia and the Pacific'\n",
    "loans_mpi.loc[loans_mpi.country == 'Israel', 'world_region'] = 'Europe and Central Asia'\n",
    "loans_mpi.loc[loans_mpi.country == 'Panama', 'world_region'] = 'Latin America and Caribbean'\n",
    "loans_mpi.loc[loans_mpi.country == 'Virgin Islands', 'world_region'] = 'Latin America and Caribbean'\n",
    "loans_mpi.loc[loans_mpi.country == 'Saint Vincent and the Grenadines', 'world_region'] = 'Latin America and Caribbean'\n",
    "loans_mpi.loc[loans_mpi.country == 'Solomon Islands', 'world_region'] = 'East Asia and the Pacific'\n",
    "loans_mpi.loc[loans_mpi.country == 'Guam', 'world_region'] = 'East Asia and the Pacific'\n",
    "loans_mpi.loc[loans_mpi.country == 'Puerto Rico', 'world_region'] = 'Latin America and Caribbean'"
   ]
  },
  {
   "cell_type": "code",
   "execution_count": 78,
   "metadata": {
    "ExecuteTime": {
     "end_time": "2021-06-28T07:10:51.401560Z",
     "start_time": "2021-06-28T07:10:51.331067Z"
    }
   },
   "outputs": [
    {
     "data": {
      "text/plain": [
       "array(['South Asia', 'Sub-Saharan Africa', 'Latin America and Caribbean',\n",
       "       'East Asia and the Pacific', 'Arab States', 'North America',\n",
       "       'Europe and Central Asia'], dtype=object)"
      ]
     },
     "execution_count": 78,
     "metadata": {},
     "output_type": "execute_result"
    }
   ],
   "source": [
    "loans_mpi.world_region.unique()"
   ]
  },
  {
   "cell_type": "code",
   "execution_count": 79,
   "metadata": {
    "ExecuteTime": {
     "end_time": "2021-06-28T07:10:51.440982Z",
     "start_time": "2021-06-28T07:10:51.405328Z"
    }
   },
   "outputs": [
    {
     "data": {
      "text/plain": [
       "0"
      ]
     },
     "execution_count": 79,
     "metadata": {},
     "output_type": "execute_result"
    }
   ],
   "source": [
    "loans_mpi.world_region.isna().sum()"
   ]
  },
  {
   "cell_type": "markdown",
   "metadata": {},
   "source": [
    "All the countries has been assigned with corresponding [world region](https://meta.wikimedia.org/wiki/List_of_countries_by_regional_classification). The region of North America is added to the world region list for United States."
   ]
  },
  {
   "cell_type": "markdown",
   "metadata": {},
   "source": [
    "### `loans_mpi` dataset summary"
   ]
  },
  {
   "cell_type": "code",
   "execution_count": 80,
   "metadata": {
    "ExecuteTime": {
     "end_time": "2021-06-28T07:10:51.804643Z",
     "start_time": "2021-06-28T07:10:51.445065Z"
    }
   },
   "outputs": [
    {
     "name": "stdout",
     "output_type": "stream",
     "text": [
      "<class 'pandas.core.frame.DataFrame'>\n",
      "Int64Index: 671204 entries, 0 to 671203\n",
      "Data columns (total 19 columns):\n",
      " #   Column              Non-Null Count   Dtype         \n",
      "---  ------              --------------   -----         \n",
      " 0   id                  671204 non-null  int64         \n",
      " 1   funded_amount       671204 non-null  float64       \n",
      " 2   loan_amount         671204 non-null  float64       \n",
      " 3   activity            671204 non-null  object        \n",
      " 4   sector              671204 non-null  object        \n",
      " 5   use                 671204 non-null  object        \n",
      " 6   ISO                 671204 non-null  object        \n",
      " 7   country             671204 non-null  object        \n",
      " 8   partner_id          671204 non-null  object        \n",
      " 9   posted_time         671204 non-null  datetime64[ns]\n",
      " 10  funded_time         622873 non-null  datetime64[ns]\n",
      " 11  term_in_months      671204 non-null  float64       \n",
      " 12  lender_count        671204 non-null  int64         \n",
      " 13  tags                671204 non-null  object        \n",
      " 14  borrower_genders    671204 non-null  object        \n",
      " 15  repayment_interval  671204 non-null  object        \n",
      " 16  fully_funded_days   622876 non-null  float64       \n",
      " 17  world_region        671204 non-null  object        \n",
      " 18  MPI                 628895 non-null  float64       \n",
      "dtypes: datetime64[ns](2), float64(5), int64(2), object(10)\n",
      "memory usage: 102.4+ MB\n"
     ]
    }
   ],
   "source": [
    "loans_mpi.info()"
   ]
  },
  {
   "cell_type": "markdown",
   "metadata": {},
   "source": [
    "In the data wrangling process, several main steps are taken as follows:\n",
    "\n",
    "* Remove the columns of `region`, `disbursed_date`, `date` and `currency`, which are redundant or not closely related to the project\n",
    "* Convert 2-letter `country_code` to 3-letter Country Code and fill the missing values\n",
    "* Label all the loans without `tag` with 'No_tag'\n",
    "* Label all the loans without `use` with 'No_use_info'\n",
    "* Label all the loans having local partners with 'With_partner', and label all the loans disbursed directly by Kiva with 'No_partner'\n",
    "* Classify `borrower_genders`; label the missing values with 'unknown'\n",
    "* Convert `posted_time` and `funded_time` to datetime\n",
    "* Three missing values of `funded_time` were generated by error, which are imputed with the median of the fully-funded days according to the loan amount.\n",
    "* A nation-level Multidimensional Poverty Index(MPI) dataset `mpi_nation` is imported and merged to `loans` dataset\n",
    "* All the missing `world_region` values of the final dataset are filled."
   ]
  },
  {
   "cell_type": "markdown",
   "metadata": {},
   "source": [
    "## Save Processed Data sets"
   ]
  },
  {
   "cell_type": "code",
   "execution_count": 81,
   "metadata": {
    "ExecuteTime": {
     "end_time": "2021-06-28T07:11:15.361395Z",
     "start_time": "2021-06-28T07:10:51.807359Z"
    }
   },
   "outputs": [],
   "source": [
    "loans_mpi.to_csv('/Users/lasayin/Desktop/Springboard/GitHub/Springboard_DS_Capstone2/ProcessedData/loans_mpi_DW.cvs' ,index=False, date_format='%Y-%m-%d %H:%M:%S')"
   ]
  }
 ],
 "metadata": {
  "hide_input": false,
  "kernelspec": {
   "display_name": "Python 3",
   "language": "python",
   "name": "python3"
  },
  "language_info": {
   "codemirror_mode": {
    "name": "ipython",
    "version": 3
   },
   "file_extension": ".py",
   "mimetype": "text/x-python",
   "name": "python",
   "nbconvert_exporter": "python",
   "pygments_lexer": "ipython3",
   "version": "3.8.3"
  },
  "toc": {
   "base_numbering": 1,
   "nav_menu": {},
   "number_sections": true,
   "sideBar": true,
   "skip_h1_title": true,
   "title_cell": "Kiva_Crowdfunding_Data_Wrangling",
   "title_sidebar": "Contents",
   "toc_cell": true,
   "toc_position": {
    "height": "calc(100% - 180px)",
    "left": "10px",
    "top": "150px",
    "width": "318px"
   },
   "toc_section_display": true,
   "toc_window_display": false
  },
  "varInspector": {
   "cols": {
    "lenName": 16,
    "lenType": 16,
    "lenVar": 40
   },
   "kernels_config": {
    "python": {
     "delete_cmd_postfix": "",
     "delete_cmd_prefix": "del ",
     "library": "var_list.py",
     "varRefreshCmd": "print(var_dic_list())"
    },
    "r": {
     "delete_cmd_postfix": ") ",
     "delete_cmd_prefix": "rm(",
     "library": "var_list.r",
     "varRefreshCmd": "cat(var_dic_list()) "
    }
   },
   "types_to_exclude": [
    "module",
    "function",
    "builtin_function_or_method",
    "instance",
    "_Feature"
   ],
   "window_display": false
  }
 },
 "nbformat": 4,
 "nbformat_minor": 4
}
