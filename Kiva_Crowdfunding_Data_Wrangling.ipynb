{
 "cells": [
  {
   "cell_type": "markdown",
   "metadata": {
    "toc": true
   },
   "source": [
    "<h1>Kiva_Crowdfunding_Data_Wrangling<span class=\"tocSkip\"></span></h1>\n",
    "<div class=\"toc\"><ul class=\"toc-item\"><li><span><a href=\"#Load-Data\" data-toc-modified-id=\"Load-Data-1\"><span class=\"toc-item-num\">1&nbsp;&nbsp;</span>Load Data</a></span></li><li><span><a href=\"#The-Loans\" data-toc-modified-id=\"The-Loans-2\"><span class=\"toc-item-num\">2&nbsp;&nbsp;</span>The Loans</a></span><ul class=\"toc-item\"><li><span><a href=\"#Loans_Data-Description\" data-toc-modified-id=\"Loans_Data-Description-2.1\"><span class=\"toc-item-num\">2.1&nbsp;&nbsp;</span>Loans_Data Description</a></span></li><li><span><a href=\"#Loans_Missing-Value\" data-toc-modified-id=\"Loans_Missing-Value-2.2\"><span class=\"toc-item-num\">2.2&nbsp;&nbsp;</span>Loans_Missing Value</a></span></li><li><span><a href=\"#Redundant-columns\" data-toc-modified-id=\"Redundant-columns-2.3\"><span class=\"toc-item-num\">2.3&nbsp;&nbsp;</span>Redundant columns</a></span></li><li><span><a href=\"#Categorical-Features\" data-toc-modified-id=\"Categorical-Features-2.4\"><span class=\"toc-item-num\">2.4&nbsp;&nbsp;</span>Categorical Features</a></span><ul class=\"toc-item\"><li><span><a href=\"#Activity,-Sector\" data-toc-modified-id=\"Activity,-Sector-2.4.1\"><span class=\"toc-item-num\">2.4.1&nbsp;&nbsp;</span>Activity, Sector</a></span></li><li><span><a href=\"#Use\" data-toc-modified-id=\"Use-2.4.2\"><span class=\"toc-item-num\">2.4.2&nbsp;&nbsp;</span>Use</a></span></li><li><span><a href=\"#Country-code,-Country,-and-Region\" data-toc-modified-id=\"Country-code,-Country,-and-Region-2.4.3\"><span class=\"toc-item-num\">2.4.3&nbsp;&nbsp;</span>Country code, Country, and Region</a></span><ul class=\"toc-item\"><li><span><a href=\"#Country-code_missing-value\" data-toc-modified-id=\"Country-code_missing-value-2.4.3.1\"><span class=\"toc-item-num\">2.4.3.1&nbsp;&nbsp;</span>Country code_missing value</a></span></li><li><span><a href=\"#Convert-2-letter-country_code-to-3-letter-Country-ISO-Code\" data-toc-modified-id=\"Convert-2-letter-country_code-to-3-letter-Country-ISO-Code-2.4.3.2\"><span class=\"toc-item-num\">2.4.3.2&nbsp;&nbsp;</span>Convert 2-letter country_code to 3-letter Country ISO Code</a></span></li><li><span><a href=\"#Countries-which-Kiva-provides-loans\" data-toc-modified-id=\"Countries-which-Kiva-provides-loans-2.4.3.3\"><span class=\"toc-item-num\">2.4.3.3&nbsp;&nbsp;</span>Countries which Kiva provides loans</a></span></li><li><span><a href=\"#Region-missing-values\" data-toc-modified-id=\"Region-missing-values-2.4.3.4\"><span class=\"toc-item-num\">2.4.3.4&nbsp;&nbsp;</span>Region missing values</a></span></li><li><span><a href=\"#Partner-id\" data-toc-modified-id=\"Partner-id-2.4.3.5\"><span class=\"toc-item-num\">2.4.3.5&nbsp;&nbsp;</span>Partner id</a></span></li></ul></li><li><span><a href=\"#Tags-of-the-loans\" data-toc-modified-id=\"Tags-of-the-loans-2.4.4\"><span class=\"toc-item-num\">2.4.4&nbsp;&nbsp;</span>Tags of the loans</a></span></li><li><span><a href=\"#Borrower-genders\" data-toc-modified-id=\"Borrower-genders-2.4.5\"><span class=\"toc-item-num\">2.4.5&nbsp;&nbsp;</span>Borrower genders</a></span><ul class=\"toc-item\"><li><span><a href=\"#Borrower-genders-missing-values\" data-toc-modified-id=\"Borrower-genders-missing-values-2.4.5.1\"><span class=\"toc-item-num\">2.4.5.1&nbsp;&nbsp;</span>Borrower genders missing values</a></span></li><li><span><a href=\"#Classify-borrower-genders\" data-toc-modified-id=\"Classify-borrower-genders-2.4.5.2\"><span class=\"toc-item-num\">2.4.5.2&nbsp;&nbsp;</span>Classify borrower genders</a></span></li></ul></li><li><span><a href=\"#Repayment-interval\" data-toc-modified-id=\"Repayment-interval-2.4.6\"><span class=\"toc-item-num\">2.4.6&nbsp;&nbsp;</span>Repayment interval</a></span></li></ul></li><li><span><a href=\"#Numeric-Features\" data-toc-modified-id=\"Numeric-Features-2.5\"><span class=\"toc-item-num\">2.5&nbsp;&nbsp;</span>Numeric Features</a></span><ul class=\"toc-item\"><li><span><a href=\"#Loan-amount-and-funded-amount\" data-toc-modified-id=\"Loan-amount-and-funded-amount-2.5.1\"><span class=\"toc-item-num\">2.5.1&nbsp;&nbsp;</span>Loan amount and funded amount</a></span></li><li><span><a href=\"#Term-in-months\" data-toc-modified-id=\"Term-in-months-2.5.2\"><span class=\"toc-item-num\">2.5.2&nbsp;&nbsp;</span>Term in months</a></span></li><li><span><a href=\"#Lender-count\" data-toc-modified-id=\"Lender-count-2.5.3\"><span class=\"toc-item-num\">2.5.3&nbsp;&nbsp;</span>Lender count</a></span></li></ul></li><li><span><a href=\"#Time-series\" data-toc-modified-id=\"Time-series-2.6\"><span class=\"toc-item-num\">2.6&nbsp;&nbsp;</span>Time series</a></span><ul class=\"toc-item\"><li><span><a href=\"#Convert-to-datetime\" data-toc-modified-id=\"Convert-to-datetime-2.6.1\"><span class=\"toc-item-num\">2.6.1&nbsp;&nbsp;</span>Convert to datetime</a></span></li><li><span><a href=\"#Funded-time-missing-value\" data-toc-modified-id=\"Funded-time-missing-value-2.6.2\"><span class=\"toc-item-num\">2.6.2&nbsp;&nbsp;</span>Funded time missing value</a></span></li><li><span><a href=\"#Funded-amount,-loan-amount,-and-funded-time\" data-toc-modified-id=\"Funded-amount,-loan-amount,-and-funded-time-2.6.3\"><span class=\"toc-item-num\">2.6.3&nbsp;&nbsp;</span>Funded amount, loan amount, and funded time</a></span></li></ul></li><li><span><a href=\"#Loans_Summary\" data-toc-modified-id=\"Loans_Summary-2.7\"><span class=\"toc-item-num\">2.7&nbsp;&nbsp;</span>Loans_Summary</a></span></li></ul></li><li><span><a href=\"#MPI-by-the-location-of-region\" data-toc-modified-id=\"MPI-by-the-location-of-region-3\"><span class=\"toc-item-num\">3&nbsp;&nbsp;</span>MPI by the location of region</a></span><ul class=\"toc-item\"><li><span><a href=\"#MPI_Data-Description\" data-toc-modified-id=\"MPI_Data-Description-3.1\"><span class=\"toc-item-num\">3.1&nbsp;&nbsp;</span>MPI_Data Description</a></span></li><li><span><a href=\"#MPI-missing-values\" data-toc-modified-id=\"MPI-missing-values-3.2\"><span class=\"toc-item-num\">3.2&nbsp;&nbsp;</span>MPI missing values</a></span><ul class=\"toc-item\"><li><span><a href=\"#Check-missing-values-pattern\" data-toc-modified-id=\"Check-missing-values-pattern-3.2.1\"><span class=\"toc-item-num\">3.2.1&nbsp;&nbsp;</span>Check missing values pattern</a></span></li><li><span><a href=\"#Latitude-and-longitude\" data-toc-modified-id=\"Latitude-and-longitude-3.2.2\"><span class=\"toc-item-num\">3.2.2&nbsp;&nbsp;</span>Latitude and longitude</a></span></li></ul></li><li><span><a href=\"#MPI_Summary\" data-toc-modified-id=\"MPI_Summary-3.3\"><span class=\"toc-item-num\">3.3&nbsp;&nbsp;</span>MPI_Summary</a></span></li></ul></li></ul></div>"
   ]
  },
  {
   "cell_type": "markdown",
   "metadata": {},
   "source": [
    "## Load Data"
   ]
  },
  {
   "cell_type": "code",
   "execution_count": 1,
   "metadata": {
    "ExecuteTime": {
     "end_time": "2021-03-08T08:45:35.559495Z",
     "start_time": "2021-03-08T08:45:30.219229Z"
    }
   },
   "outputs": [],
   "source": [
    "import pandas as pd\n",
    "import numpy as np\n",
    "import matplotlib\n",
    "import matplotlib.pyplot as plt\n",
    "from datetime import datetime as dt\n",
    "from datetime import timedelta\n",
    "import missingno as msno\n",
    "import seaborn as sns"
   ]
  },
  {
   "cell_type": "code",
   "execution_count": 2,
   "metadata": {
    "ExecuteTime": {
     "end_time": "2021-03-08T08:45:42.916535Z",
     "start_time": "2021-03-08T08:45:35.621160Z"
    }
   },
   "outputs": [],
   "source": [
    "# Import Datasets\n",
    "loans = pd.read_csv('/Users/lasayin/Desktop/Springboard/GitHub/Springboard_DS_Capstone2/RawData/KivaData/kiva_loans.csv')\n",
    "mpi_region_locations = pd.read_csv('/Users/lasayin/Desktop/Springboard/GitHub/Springboard_DS_Capstone2/RawData/KivaData/kiva_mpi_region_locations.csv')"
   ]
  },
  {
   "cell_type": "markdown",
   "metadata": {},
   "source": [
    "## The Loans"
   ]
  },
  {
   "cell_type": "markdown",
   "metadata": {},
   "source": [
    "### Loans_Data Description"
   ]
  },
  {
   "cell_type": "code",
   "execution_count": 3,
   "metadata": {
    "ExecuteTime": {
     "end_time": "2021-03-08T08:45:44.285082Z",
     "start_time": "2021-03-08T08:45:42.929774Z"
    }
   },
   "outputs": [
    {
     "name": "stdout",
     "output_type": "stream",
     "text": [
      "<class 'pandas.core.frame.DataFrame'>\n",
      "RangeIndex: 671205 entries, 0 to 671204\n",
      "Data columns (total 20 columns):\n",
      " #   Column              Non-Null Count   Dtype  \n",
      "---  ------              --------------   -----  \n",
      " 0   id                  671205 non-null  int64  \n",
      " 1   funded_amount       671205 non-null  float64\n",
      " 2   loan_amount         671205 non-null  float64\n",
      " 3   activity            671205 non-null  object \n",
      " 4   sector              671205 non-null  object \n",
      " 5   use                 666973 non-null  object \n",
      " 6   country_code        671197 non-null  object \n",
      " 7   country             671205 non-null  object \n",
      " 8   region              614405 non-null  object \n",
      " 9   currency            671205 non-null  object \n",
      " 10  partner_id          657698 non-null  float64\n",
      " 11  posted_time         671205 non-null  object \n",
      " 12  disbursed_time      668809 non-null  object \n",
      " 13  funded_time         622874 non-null  object \n",
      " 14  term_in_months      671205 non-null  float64\n",
      " 15  lender_count        671205 non-null  int64  \n",
      " 16  tags                499789 non-null  object \n",
      " 17  borrower_genders    666984 non-null  object \n",
      " 18  repayment_interval  671205 non-null  object \n",
      " 19  date                671205 non-null  object \n",
      "dtypes: float64(4), int64(2), object(14)\n",
      "memory usage: 102.4+ MB\n"
     ]
    }
   ],
   "source": [
    "loans.info()"
   ]
  },
  {
   "cell_type": "markdown",
   "metadata": {},
   "source": [
    "* Columns descriptions\n",
    "    * id: Unique ID for loan\n",
    "\n",
    "    * funded_amount: Dollar value of loan funded on Kiva.org\n",
    "\n",
    "    * loan_amount: Total dollar amount of loan\n",
    "\n",
    "    * activity: Loan activity type\n",
    "\n",
    "    * sector: Sector of loan activity as shown to lenders\n",
    "\n",
    "    * use: text description of how loan will be used\n",
    "\n",
    "    * country_code: 2-letter Country ISO Code\n",
    "\n",
    "    * country: country name\n",
    "\n",
    "    * region: name of location within country\n",
    "\n",
    "    * currency: currency in which loan is disbursed\n",
    "\n",
    "    * partner_id: Unique ID for field partners\n",
    "\n",
    "    * posted_time: date and time when loan was posted on kiva.org\n",
    "\n",
    "    * disbursed_time: date and time that the borrower received the loan\n",
    "\n",
    "    * funded_time: date and time at which loan was fully funded on kiva.org\n",
    "\n",
    "    * term_in_months: number of months over which loan was scheduled to be paid back\n",
    "    \n",
    "    * lender_count: number of lenders contributing to loan\n",
    "\n",
    "    * tags: tags visible to lenders describing loan type\n",
    "\n",
    "    * borrower_genders: gender of borrower(s)\n",
    "\n",
    "    * repayment_interval: frequency at which lenders are scheduled to receive installments\n",
    "\n",
    "    * date: date on which loan was posted"
   ]
  },
  {
   "cell_type": "code",
   "execution_count": 4,
   "metadata": {
    "ExecuteTime": {
     "end_time": "2021-03-08T08:45:44.377406Z",
     "start_time": "2021-03-08T08:45:44.327689Z"
    }
   },
   "outputs": [
    {
     "data": {
      "text/html": [
       "<div>\n",
       "<style scoped>\n",
       "    .dataframe tbody tr th:only-of-type {\n",
       "        vertical-align: middle;\n",
       "    }\n",
       "\n",
       "    .dataframe tbody tr th {\n",
       "        vertical-align: top;\n",
       "    }\n",
       "\n",
       "    .dataframe thead th {\n",
       "        text-align: right;\n",
       "    }\n",
       "</style>\n",
       "<table border=\"1\" class=\"dataframe\">\n",
       "  <thead>\n",
       "    <tr style=\"text-align: right;\">\n",
       "      <th></th>\n",
       "      <th>id</th>\n",
       "      <th>funded_amount</th>\n",
       "      <th>loan_amount</th>\n",
       "      <th>activity</th>\n",
       "      <th>sector</th>\n",
       "      <th>use</th>\n",
       "      <th>country_code</th>\n",
       "      <th>country</th>\n",
       "      <th>region</th>\n",
       "      <th>currency</th>\n",
       "      <th>partner_id</th>\n",
       "      <th>posted_time</th>\n",
       "      <th>disbursed_time</th>\n",
       "      <th>funded_time</th>\n",
       "      <th>term_in_months</th>\n",
       "      <th>lender_count</th>\n",
       "      <th>tags</th>\n",
       "      <th>borrower_genders</th>\n",
       "      <th>repayment_interval</th>\n",
       "      <th>date</th>\n",
       "    </tr>\n",
       "  </thead>\n",
       "  <tbody>\n",
       "    <tr>\n",
       "      <th>0</th>\n",
       "      <td>653051</td>\n",
       "      <td>300.0</td>\n",
       "      <td>300.0</td>\n",
       "      <td>Fruits &amp; Vegetables</td>\n",
       "      <td>Food</td>\n",
       "      <td>To buy seasonal, fresh fruits to sell.</td>\n",
       "      <td>PK</td>\n",
       "      <td>Pakistan</td>\n",
       "      <td>Lahore</td>\n",
       "      <td>PKR</td>\n",
       "      <td>247.0</td>\n",
       "      <td>2014-01-01 06:12:39+00:00</td>\n",
       "      <td>2013-12-17 08:00:00+00:00</td>\n",
       "      <td>2014-01-02 10:06:32+00:00</td>\n",
       "      <td>12.0</td>\n",
       "      <td>12</td>\n",
       "      <td>NaN</td>\n",
       "      <td>female</td>\n",
       "      <td>irregular</td>\n",
       "      <td>2014-01-01</td>\n",
       "    </tr>\n",
       "    <tr>\n",
       "      <th>1</th>\n",
       "      <td>653053</td>\n",
       "      <td>575.0</td>\n",
       "      <td>575.0</td>\n",
       "      <td>Rickshaw</td>\n",
       "      <td>Transportation</td>\n",
       "      <td>to repair and maintain the auto rickshaw used ...</td>\n",
       "      <td>PK</td>\n",
       "      <td>Pakistan</td>\n",
       "      <td>Lahore</td>\n",
       "      <td>PKR</td>\n",
       "      <td>247.0</td>\n",
       "      <td>2014-01-01 06:51:08+00:00</td>\n",
       "      <td>2013-12-17 08:00:00+00:00</td>\n",
       "      <td>2014-01-02 09:17:23+00:00</td>\n",
       "      <td>11.0</td>\n",
       "      <td>14</td>\n",
       "      <td>NaN</td>\n",
       "      <td>female, female</td>\n",
       "      <td>irregular</td>\n",
       "      <td>2014-01-01</td>\n",
       "    </tr>\n",
       "    <tr>\n",
       "      <th>2</th>\n",
       "      <td>653068</td>\n",
       "      <td>150.0</td>\n",
       "      <td>150.0</td>\n",
       "      <td>Transportation</td>\n",
       "      <td>Transportation</td>\n",
       "      <td>To repair their old cycle-van and buy another ...</td>\n",
       "      <td>IN</td>\n",
       "      <td>India</td>\n",
       "      <td>Maynaguri</td>\n",
       "      <td>INR</td>\n",
       "      <td>334.0</td>\n",
       "      <td>2014-01-01 09:58:07+00:00</td>\n",
       "      <td>2013-12-17 08:00:00+00:00</td>\n",
       "      <td>2014-01-01 16:01:36+00:00</td>\n",
       "      <td>43.0</td>\n",
       "      <td>6</td>\n",
       "      <td>user_favorite, user_favorite</td>\n",
       "      <td>female</td>\n",
       "      <td>bullet</td>\n",
       "      <td>2014-01-01</td>\n",
       "    </tr>\n",
       "    <tr>\n",
       "      <th>3</th>\n",
       "      <td>653063</td>\n",
       "      <td>200.0</td>\n",
       "      <td>200.0</td>\n",
       "      <td>Embroidery</td>\n",
       "      <td>Arts</td>\n",
       "      <td>to purchase an embroidery machine and a variet...</td>\n",
       "      <td>PK</td>\n",
       "      <td>Pakistan</td>\n",
       "      <td>Lahore</td>\n",
       "      <td>PKR</td>\n",
       "      <td>247.0</td>\n",
       "      <td>2014-01-01 08:03:11+00:00</td>\n",
       "      <td>2013-12-24 08:00:00+00:00</td>\n",
       "      <td>2014-01-01 13:00:00+00:00</td>\n",
       "      <td>11.0</td>\n",
       "      <td>8</td>\n",
       "      <td>NaN</td>\n",
       "      <td>female</td>\n",
       "      <td>irregular</td>\n",
       "      <td>2014-01-01</td>\n",
       "    </tr>\n",
       "    <tr>\n",
       "      <th>4</th>\n",
       "      <td>653084</td>\n",
       "      <td>400.0</td>\n",
       "      <td>400.0</td>\n",
       "      <td>Milk Sales</td>\n",
       "      <td>Food</td>\n",
       "      <td>to purchase one buffalo.</td>\n",
       "      <td>PK</td>\n",
       "      <td>Pakistan</td>\n",
       "      <td>Abdul Hakeem</td>\n",
       "      <td>PKR</td>\n",
       "      <td>245.0</td>\n",
       "      <td>2014-01-01 11:53:19+00:00</td>\n",
       "      <td>2013-12-17 08:00:00+00:00</td>\n",
       "      <td>2014-01-01 19:18:51+00:00</td>\n",
       "      <td>14.0</td>\n",
       "      <td>16</td>\n",
       "      <td>NaN</td>\n",
       "      <td>female</td>\n",
       "      <td>monthly</td>\n",
       "      <td>2014-01-01</td>\n",
       "    </tr>\n",
       "  </tbody>\n",
       "</table>\n",
       "</div>"
      ],
      "text/plain": [
       "       id  funded_amount  loan_amount             activity          sector  \\\n",
       "0  653051          300.0        300.0  Fruits & Vegetables            Food   \n",
       "1  653053          575.0        575.0             Rickshaw  Transportation   \n",
       "2  653068          150.0        150.0       Transportation  Transportation   \n",
       "3  653063          200.0        200.0           Embroidery            Arts   \n",
       "4  653084          400.0        400.0           Milk Sales            Food   \n",
       "\n",
       "                                                 use country_code   country  \\\n",
       "0            To buy seasonal, fresh fruits to sell.            PK  Pakistan   \n",
       "1  to repair and maintain the auto rickshaw used ...           PK  Pakistan   \n",
       "2  To repair their old cycle-van and buy another ...           IN     India   \n",
       "3  to purchase an embroidery machine and a variet...           PK  Pakistan   \n",
       "4                           to purchase one buffalo.           PK  Pakistan   \n",
       "\n",
       "         region currency  partner_id                posted_time  \\\n",
       "0        Lahore      PKR       247.0  2014-01-01 06:12:39+00:00   \n",
       "1        Lahore      PKR       247.0  2014-01-01 06:51:08+00:00   \n",
       "2     Maynaguri      INR       334.0  2014-01-01 09:58:07+00:00   \n",
       "3        Lahore      PKR       247.0  2014-01-01 08:03:11+00:00   \n",
       "4  Abdul Hakeem      PKR       245.0  2014-01-01 11:53:19+00:00   \n",
       "\n",
       "              disbursed_time                funded_time  term_in_months  \\\n",
       "0  2013-12-17 08:00:00+00:00  2014-01-02 10:06:32+00:00            12.0   \n",
       "1  2013-12-17 08:00:00+00:00  2014-01-02 09:17:23+00:00            11.0   \n",
       "2  2013-12-17 08:00:00+00:00  2014-01-01 16:01:36+00:00            43.0   \n",
       "3  2013-12-24 08:00:00+00:00  2014-01-01 13:00:00+00:00            11.0   \n",
       "4  2013-12-17 08:00:00+00:00  2014-01-01 19:18:51+00:00            14.0   \n",
       "\n",
       "   lender_count                          tags borrower_genders  \\\n",
       "0            12                           NaN           female   \n",
       "1            14                           NaN   female, female   \n",
       "2             6  user_favorite, user_favorite           female   \n",
       "3             8                           NaN           female   \n",
       "4            16                           NaN           female   \n",
       "\n",
       "  repayment_interval        date  \n",
       "0          irregular  2014-01-01  \n",
       "1          irregular  2014-01-01  \n",
       "2             bullet  2014-01-01  \n",
       "3          irregular  2014-01-01  \n",
       "4            monthly  2014-01-01  "
      ]
     },
     "execution_count": 4,
     "metadata": {},
     "output_type": "execute_result"
    }
   ],
   "source": [
    "loans.head()"
   ]
  },
  {
   "cell_type": "markdown",
   "metadata": {},
   "source": [
    "### Loans_Missing Value"
   ]
  },
  {
   "cell_type": "code",
   "execution_count": 5,
   "metadata": {
    "ExecuteTime": {
     "end_time": "2021-03-08T08:45:46.777140Z",
     "start_time": "2021-03-08T08:45:44.391092Z"
    }
   },
   "outputs": [
    {
     "data": {
      "text/html": [
       "<div>\n",
       "<style scoped>\n",
       "    .dataframe tbody tr th:only-of-type {\n",
       "        vertical-align: middle;\n",
       "    }\n",
       "\n",
       "    .dataframe tbody tr th {\n",
       "        vertical-align: top;\n",
       "    }\n",
       "\n",
       "    .dataframe thead th {\n",
       "        text-align: right;\n",
       "    }\n",
       "</style>\n",
       "<table border=\"1\" class=\"dataframe\">\n",
       "  <thead>\n",
       "    <tr style=\"text-align: right;\">\n",
       "      <th></th>\n",
       "      <th>Column Name</th>\n",
       "      <th>Missings</th>\n",
       "      <th>Missing_pct</th>\n",
       "    </tr>\n",
       "  </thead>\n",
       "  <tbody>\n",
       "    <tr>\n",
       "      <th>0</th>\n",
       "      <td>tags</td>\n",
       "      <td>171416</td>\n",
       "      <td>0.26</td>\n",
       "    </tr>\n",
       "    <tr>\n",
       "      <th>1</th>\n",
       "      <td>region</td>\n",
       "      <td>56800</td>\n",
       "      <td>0.08</td>\n",
       "    </tr>\n",
       "    <tr>\n",
       "      <th>2</th>\n",
       "      <td>funded_time</td>\n",
       "      <td>48331</td>\n",
       "      <td>0.07</td>\n",
       "    </tr>\n",
       "    <tr>\n",
       "      <th>3</th>\n",
       "      <td>partner_id</td>\n",
       "      <td>13507</td>\n",
       "      <td>0.02</td>\n",
       "    </tr>\n",
       "    <tr>\n",
       "      <th>4</th>\n",
       "      <td>use</td>\n",
       "      <td>4232</td>\n",
       "      <td>0.01</td>\n",
       "    </tr>\n",
       "    <tr>\n",
       "      <th>5</th>\n",
       "      <td>borrower_genders</td>\n",
       "      <td>4221</td>\n",
       "      <td>0.01</td>\n",
       "    </tr>\n",
       "    <tr>\n",
       "      <th>6</th>\n",
       "      <td>disbursed_time</td>\n",
       "      <td>2396</td>\n",
       "      <td>0.00</td>\n",
       "    </tr>\n",
       "    <tr>\n",
       "      <th>7</th>\n",
       "      <td>country_code</td>\n",
       "      <td>8</td>\n",
       "      <td>0.00</td>\n",
       "    </tr>\n",
       "  </tbody>\n",
       "</table>\n",
       "</div>"
      ],
      "text/plain": [
       "        Column Name  Missings  Missing_pct\n",
       "0              tags    171416         0.26\n",
       "1            region     56800         0.08\n",
       "2       funded_time     48331         0.07\n",
       "3        partner_id     13507         0.02\n",
       "4               use      4232         0.01\n",
       "5  borrower_genders      4221         0.01\n",
       "6    disbursed_time      2396         0.00\n",
       "7      country_code         8         0.00"
      ]
     },
     "execution_count": 5,
     "metadata": {},
     "output_type": "execute_result"
    }
   ],
   "source": [
    "# Check missing values\n",
    "def missing_vals(data_):\n",
    "    miss_     = data_.isnull().sum()\n",
    "    miss_pct  = data_.isnull().sum()/data_.shape[0]\n",
    "    \n",
    "    miss_pct  = pd.concat([miss_, miss_pct], axis =1)\n",
    "    miss_pct.reset_index(inplace=True)\n",
    "    miss_cols = miss_pct.rename(columns={'index':'Column Name', 0:'Missings', 1:'Missing_pct'})\n",
    "    \n",
    "    miss_cols = miss_cols[miss_cols.iloc[:,1]!=0].sort_values('Missing_pct', ascending=False).round(2)\n",
    "    miss_cols.reset_index(inplace=True, drop=True)\n",
    "    \n",
    "    return miss_cols\n",
    "\n",
    "miss_loans = missing_vals(loans)\n",
    "miss_loans"
   ]
  },
  {
   "cell_type": "code",
   "execution_count": 6,
   "metadata": {
    "ExecuteTime": {
     "end_time": "2021-03-08T08:45:53.936476Z",
     "start_time": "2021-03-08T08:45:46.807629Z"
    }
   },
   "outputs": [
    {
     "data": {
      "image/png": "[encoded data removed]",
      "text/plain": [
       "<Figure size 1800x720 with 2 Axes>"
      ]
     },
     "metadata": {
      "needs_background": "light"
     },
     "output_type": "display_data"
    }
   ],
   "source": [
    "# Missing value distribution\n",
    "_ = msno.matrix(loans)"
   ]
  },
  {
   "cell_type": "markdown",
   "metadata": {},
   "source": [
    "The dataset seems clean except the top three factors, i.e., `tags`, `region`, and `funded_time`, which will be handled case  by case latter."
   ]
  },
  {
   "cell_type": "markdown",
   "metadata": {},
   "source": [
    "### Redundant columns\n",
    "According to the column description and [Kiva website](https://www.kiva.org/), some factors are redundant or less related to the project, which will be removed.\n",
    "* `disbursed_time`: date and time that the borrower received the loan, which is up to field partners rather than lenders or Kiva\n",
    "* `date`: date on which loan was posted, which is redundant to `posted_time`\n",
    "* `currency`: currency in which loan is disbursed"
   ]
  },
  {
   "cell_type": "code",
   "execution_count": 7,
   "metadata": {
    "ExecuteTime": {
     "end_time": "2021-03-08T08:45:54.042020Z",
     "start_time": "2021-03-08T08:45:53.944250Z"
    }
   },
   "outputs": [],
   "source": [
    "loans_df = loans.drop(['disbursed_time', 'date', 'currency'], axis=1)"
   ]
  },
  {
   "cell_type": "markdown",
   "metadata": {},
   "source": [
    "### Categorical Features"
   ]
  },
  {
   "cell_type": "markdown",
   "metadata": {},
   "source": [
    "#### Activity, Sector"
   ]
  },
  {
   "cell_type": "code",
   "execution_count": 8,
   "metadata": {
    "ExecuteTime": {
     "end_time": "2021-03-08T08:45:54.293752Z",
     "start_time": "2021-03-08T08:45:54.046584Z"
    }
   },
   "outputs": [
    {
     "data": {
      "text/html": [
       "<div>\n",
       "<style scoped>\n",
       "    .dataframe tbody tr th:only-of-type {\n",
       "        vertical-align: middle;\n",
       "    }\n",
       "\n",
       "    .dataframe tbody tr th {\n",
       "        vertical-align: top;\n",
       "    }\n",
       "\n",
       "    .dataframe thead th {\n",
       "        text-align: right;\n",
       "    }\n",
       "</style>\n",
       "<table border=\"1\" class=\"dataframe\">\n",
       "  <thead>\n",
       "    <tr style=\"text-align: right;\">\n",
       "      <th></th>\n",
       "      <th>activity</th>\n",
       "      <th>sector</th>\n",
       "    </tr>\n",
       "  </thead>\n",
       "  <tbody>\n",
       "    <tr>\n",
       "      <th>count</th>\n",
       "      <td>671205</td>\n",
       "      <td>671205</td>\n",
       "    </tr>\n",
       "    <tr>\n",
       "      <th>unique</th>\n",
       "      <td>163</td>\n",
       "      <td>15</td>\n",
       "    </tr>\n",
       "    <tr>\n",
       "      <th>top</th>\n",
       "      <td>Farming</td>\n",
       "      <td>Agriculture</td>\n",
       "    </tr>\n",
       "    <tr>\n",
       "      <th>freq</th>\n",
       "      <td>72955</td>\n",
       "      <td>180302</td>\n",
       "    </tr>\n",
       "  </tbody>\n",
       "</table>\n",
       "</div>"
      ],
      "text/plain": [
       "       activity       sector\n",
       "count    671205       671205\n",
       "unique      163           15\n",
       "top     Farming  Agriculture\n",
       "freq      72955       180302"
      ]
     },
     "execution_count": 8,
     "metadata": {},
     "output_type": "execute_result"
    }
   ],
   "source": [
    "loans[['activity', 'sector']].describe()"
   ]
  },
  {
   "cell_type": "code",
   "execution_count": 9,
   "metadata": {
    "ExecuteTime": {
     "end_time": "2021-03-08T08:45:54.534284Z",
     "start_time": "2021-03-08T08:45:54.296827Z"
    }
   },
   "outputs": [
    {
     "data": {
      "text/plain": [
       "sector          activity          \n",
       "Agriculture     Farming               72955\n",
       "                Agriculture           27023\n",
       "                Pigs                  26624\n",
       "                Livestock             13095\n",
       "                Poultry                9783\n",
       "                                      ...  \n",
       "Transportation  Transportation         4121\n",
       "                Rickshaw               2878\n",
       "                Taxi                   2631\n",
       "Wholesale       Wholesale               357\n",
       "                Goods Distribution      277\n",
       "Name: activity, Length: 163, dtype: int64"
      ]
     },
     "execution_count": 9,
     "metadata": {},
     "output_type": "execute_result"
    }
   ],
   "source": [
    "loans.groupby('sector').activity.value_counts()"
   ]
  },
  {
   "cell_type": "markdown",
   "metadata": {},
   "source": [
    "There are totally 163 activity types, which are the subsets of 15 sectors."
   ]
  },
  {
   "cell_type": "markdown",
   "metadata": {},
   "source": [
    "#### Use\n",
    "`use` factor describes how to use the loan in detail."
   ]
  },
  {
   "cell_type": "code",
   "execution_count": 10,
   "metadata": {
    "ExecuteTime": {
     "end_time": "2021-03-08T08:45:54.545287Z",
     "start_time": "2021-03-08T08:45:54.536801Z"
    }
   },
   "outputs": [
    {
     "data": {
      "text/plain": [
       "0              To buy seasonal, fresh fruits to sell. \n",
       "1    to repair and maintain the auto rickshaw used ...\n",
       "2    To repair their old cycle-van and buy another ...\n",
       "3    to purchase an embroidery machine and a variet...\n",
       "4                             to purchase one buffalo.\n",
       "Name: use, dtype: object"
      ]
     },
     "execution_count": 10,
     "metadata": {},
     "output_type": "execute_result"
    }
   ],
   "source": [
    "loans.use[0:5]"
   ]
  },
  {
   "cell_type": "code",
   "execution_count": 11,
   "metadata": {
    "ExecuteTime": {
     "end_time": "2021-03-08T08:45:54.595553Z",
     "start_time": "2021-03-08T08:45:54.548312Z"
    }
   },
   "outputs": [
    {
     "data": {
      "text/plain": [
       "0.0063050781802876914"
      ]
     },
     "execution_count": 11,
     "metadata": {},
     "output_type": "execute_result"
    }
   ],
   "source": [
    "loans.use.isna().mean()"
   ]
  },
  {
   "cell_type": "code",
   "execution_count": 12,
   "metadata": {
    "ExecuteTime": {
     "end_time": "2021-03-08T08:45:54.672040Z",
     "start_time": "2021-03-08T08:45:54.598982Z"
    }
   },
   "outputs": [
    {
     "data": {
      "text/plain": [
       "country        69\n",
       "partner_id    207\n",
       "dtype: int64"
      ]
     },
     "execution_count": 12,
     "metadata": {},
     "output_type": "execute_result"
    }
   ],
   "source": [
    "loans[loans.use.isna()][['country', 'partner_id']].apply(lambda x: len(x.unique()))"
   ]
  },
  {
   "cell_type": "markdown",
   "metadata": {},
   "source": [
    "About 0.6% of the loans have no description of loans' use, which involve 69 countries and 207 field partners. All these missing values will be impute with 'No_use_info'."
   ]
  },
  {
   "cell_type": "code",
   "execution_count": 13,
   "metadata": {
    "ExecuteTime": {
     "end_time": "2021-03-08T08:45:54.750406Z",
     "start_time": "2021-03-08T08:45:54.681012Z"
    }
   },
   "outputs": [
    {
     "data": {
      "text/plain": [
       "0"
      ]
     },
     "execution_count": 13,
     "metadata": {},
     "output_type": "execute_result"
    }
   ],
   "source": [
    "(loans_df.use == 'No_use_info').sum()"
   ]
  },
  {
   "cell_type": "code",
   "execution_count": 14,
   "metadata": {
    "ExecuteTime": {
     "end_time": "2021-03-08T08:45:54.814513Z",
     "start_time": "2021-03-08T08:45:54.753359Z"
    }
   },
   "outputs": [],
   "source": [
    "loans_df.use.fillna('No_use_info', inplace=True)"
   ]
  },
  {
   "cell_type": "markdown",
   "metadata": {},
   "source": [
    "#### Country code, Country, and Region"
   ]
  },
  {
   "cell_type": "markdown",
   "metadata": {},
   "source": [
    "##### Country code_missing value"
   ]
  },
  {
   "cell_type": "code",
   "execution_count": 15,
   "metadata": {
    "ExecuteTime": {
     "end_time": "2021-03-08T08:45:54.864233Z",
     "start_time": "2021-03-08T08:45:54.817152Z"
    }
   },
   "outputs": [
    {
     "data": {
      "text/plain": [
       "8"
      ]
     },
     "execution_count": 15,
     "metadata": {},
     "output_type": "execute_result"
    }
   ],
   "source": [
    "loans.country_code.isnull().sum()"
   ]
  },
  {
   "cell_type": "code",
   "execution_count": 16,
   "metadata": {
    "ExecuteTime": {
     "end_time": "2021-03-08T08:45:54.914089Z",
     "start_time": "2021-03-08T08:45:54.869094Z"
    }
   },
   "outputs": [
    {
     "data": {
      "text/html": [
       "<div>\n",
       "<style scoped>\n",
       "    .dataframe tbody tr th:only-of-type {\n",
       "        vertical-align: middle;\n",
       "    }\n",
       "\n",
       "    .dataframe tbody tr th {\n",
       "        vertical-align: top;\n",
       "    }\n",
       "\n",
       "    .dataframe thead th {\n",
       "        text-align: right;\n",
       "    }\n",
       "</style>\n",
       "<table border=\"1\" class=\"dataframe\">\n",
       "  <thead>\n",
       "    <tr style=\"text-align: right;\">\n",
       "      <th></th>\n",
       "      <th>country</th>\n",
       "    </tr>\n",
       "  </thead>\n",
       "  <tbody>\n",
       "    <tr>\n",
       "      <th>202537</th>\n",
       "      <td>Namibia</td>\n",
       "    </tr>\n",
       "    <tr>\n",
       "      <th>202823</th>\n",
       "      <td>Namibia</td>\n",
       "    </tr>\n",
       "    <tr>\n",
       "      <th>344929</th>\n",
       "      <td>Namibia</td>\n",
       "    </tr>\n",
       "    <tr>\n",
       "      <th>351177</th>\n",
       "      <td>Namibia</td>\n",
       "    </tr>\n",
       "    <tr>\n",
       "      <th>420953</th>\n",
       "      <td>Namibia</td>\n",
       "    </tr>\n",
       "    <tr>\n",
       "      <th>421218</th>\n",
       "      <td>Namibia</td>\n",
       "    </tr>\n",
       "    <tr>\n",
       "      <th>487207</th>\n",
       "      <td>Namibia</td>\n",
       "    </tr>\n",
       "    <tr>\n",
       "      <th>487653</th>\n",
       "      <td>Namibia</td>\n",
       "    </tr>\n",
       "  </tbody>\n",
       "</table>\n",
       "</div>"
      ],
      "text/plain": [
       "        country\n",
       "202537  Namibia\n",
       "202823  Namibia\n",
       "344929  Namibia\n",
       "351177  Namibia\n",
       "420953  Namibia\n",
       "421218  Namibia\n",
       "487207  Namibia\n",
       "487653  Namibia"
      ]
     },
     "execution_count": 16,
     "metadata": {},
     "output_type": "execute_result"
    }
   ],
   "source": [
    "loans[loans.country_code.isna()][['country']]"
   ]
  },
  {
   "cell_type": "markdown",
   "metadata": {},
   "source": [
    "All missing values of country_code come from Namibia whose ISO code is 'NA'([countrycode.org](https://countrycode.org/))"
   ]
  },
  {
   "cell_type": "code",
   "execution_count": 17,
   "metadata": {
    "ExecuteTime": {
     "end_time": "2021-03-08T08:45:54.958918Z",
     "start_time": "2021-03-08T08:45:54.919094Z"
    },
    "scrolled": true
   },
   "outputs": [],
   "source": [
    "# Fill null value with 'NA'\n",
    "loans_df.country_code.fillna('NA', inplace=True)"
   ]
  },
  {
   "cell_type": "markdown",
   "metadata": {},
   "source": [
    "##### Convert 2-letter country_code to 3-letter Country ISO Code"
   ]
  },
  {
   "cell_type": "markdown",
   "metadata": {},
   "source": [
    "In the `loans` dataset, `country_code` is a two-letter code, which dose not match the three-letter ISO code in other  datasets.\n",
    "\n",
    "`loans` and other datasets can be merged on country name or country code. Country name is more describable, but I will keep both here just in case there are some non-matching of the country names in the different datasets, such as spelling, upper case and lower case, space, and so on. "
   ]
  },
  {
   "cell_type": "code",
   "execution_count": 18,
   "metadata": {
    "ExecuteTime": {
     "end_time": "2021-03-08T08:45:54.972157Z",
     "start_time": "2021-03-08T08:45:54.963538Z"
    }
   },
   "outputs": [],
   "source": [
    "# Import ISO_country_code table\n",
    "country_ISO = pd.read_csv('/Users/lasayin/Desktop/Springboard/GitHub/Springboard_DS_Capstone2/RawData/AdditionalData/wikipedia-iso-country-codes.csv')"
   ]
  },
  {
   "cell_type": "code",
   "execution_count": 19,
   "metadata": {
    "ExecuteTime": {
     "end_time": "2021-03-08T08:45:54.995872Z",
     "start_time": "2021-03-08T08:45:54.976667Z"
    }
   },
   "outputs": [
    {
     "name": "stdout",
     "output_type": "stream",
     "text": [
      "<class 'pandas.core.frame.DataFrame'>\n",
      "RangeIndex: 246 entries, 0 to 245\n",
      "Data columns (total 5 columns):\n",
      " #   Column                         Non-Null Count  Dtype \n",
      "---  ------                         --------------  ----- \n",
      " 0   English short name lower case  246 non-null    object\n",
      " 1   Alpha-2 code                   245 non-null    object\n",
      " 2   Alpha-3 code                   246 non-null    object\n",
      " 3   Numeric code                   246 non-null    int64 \n",
      " 4   ISO 3166-2                     246 non-null    object\n",
      "dtypes: int64(1), object(4)\n",
      "memory usage: 9.7+ KB\n"
     ]
    }
   ],
   "source": [
    "country_ISO.info()"
   ]
  },
  {
   "cell_type": "code",
   "execution_count": 20,
   "metadata": {
    "ExecuteTime": {
     "end_time": "2021-03-08T08:45:55.016198Z",
     "start_time": "2021-03-08T08:45:54.999236Z"
    }
   },
   "outputs": [
    {
     "data": {
      "text/html": [
       "<div>\n",
       "<style scoped>\n",
       "    .dataframe tbody tr th:only-of-type {\n",
       "        vertical-align: middle;\n",
       "    }\n",
       "\n",
       "    .dataframe tbody tr th {\n",
       "        vertical-align: top;\n",
       "    }\n",
       "\n",
       "    .dataframe thead th {\n",
       "        text-align: right;\n",
       "    }\n",
       "</style>\n",
       "<table border=\"1\" class=\"dataframe\">\n",
       "  <thead>\n",
       "    <tr style=\"text-align: right;\">\n",
       "      <th></th>\n",
       "      <th>English short name lower case</th>\n",
       "      <th>Alpha-2 code</th>\n",
       "      <th>Alpha-3 code</th>\n",
       "      <th>Numeric code</th>\n",
       "      <th>ISO 3166-2</th>\n",
       "    </tr>\n",
       "  </thead>\n",
       "  <tbody>\n",
       "    <tr>\n",
       "      <th>0</th>\n",
       "      <td>Afghanistan</td>\n",
       "      <td>AF</td>\n",
       "      <td>AFG</td>\n",
       "      <td>4</td>\n",
       "      <td>ISO 3166-2:AF</td>\n",
       "    </tr>\n",
       "    <tr>\n",
       "      <th>1</th>\n",
       "      <td>Åland Islands</td>\n",
       "      <td>AX</td>\n",
       "      <td>ALA</td>\n",
       "      <td>248</td>\n",
       "      <td>ISO 3166-2:AX</td>\n",
       "    </tr>\n",
       "    <tr>\n",
       "      <th>2</th>\n",
       "      <td>Albania</td>\n",
       "      <td>AL</td>\n",
       "      <td>ALB</td>\n",
       "      <td>8</td>\n",
       "      <td>ISO 3166-2:AL</td>\n",
       "    </tr>\n",
       "    <tr>\n",
       "      <th>3</th>\n",
       "      <td>Algeria</td>\n",
       "      <td>DZ</td>\n",
       "      <td>DZA</td>\n",
       "      <td>12</td>\n",
       "      <td>ISO 3166-2:DZ</td>\n",
       "    </tr>\n",
       "    <tr>\n",
       "      <th>4</th>\n",
       "      <td>American Samoa</td>\n",
       "      <td>AS</td>\n",
       "      <td>ASM</td>\n",
       "      <td>16</td>\n",
       "      <td>ISO 3166-2:AS</td>\n",
       "    </tr>\n",
       "  </tbody>\n",
       "</table>\n",
       "</div>"
      ],
      "text/plain": [
       "  English short name lower case Alpha-2 code Alpha-3 code  Numeric code  \\\n",
       "0                   Afghanistan           AF          AFG             4   \n",
       "1                 Åland Islands           AX          ALA           248   \n",
       "2                       Albania           AL          ALB             8   \n",
       "3                       Algeria           DZ          DZA            12   \n",
       "4                American Samoa           AS          ASM            16   \n",
       "\n",
       "      ISO 3166-2  \n",
       "0  ISO 3166-2:AF  \n",
       "1  ISO 3166-2:AX  \n",
       "2  ISO 3166-2:AL  \n",
       "3  ISO 3166-2:DZ  \n",
       "4  ISO 3166-2:AS  "
      ]
     },
     "execution_count": 20,
     "metadata": {},
     "output_type": "execute_result"
    }
   ],
   "source": [
    "country_ISO.head()"
   ]
  },
  {
   "cell_type": "code",
   "execution_count": 21,
   "metadata": {
    "ExecuteTime": {
     "end_time": "2021-03-08T08:45:55.035566Z",
     "start_time": "2021-03-08T08:45:55.019158Z"
    }
   },
   "outputs": [
    {
     "data": {
      "text/html": [
       "<div>\n",
       "<style scoped>\n",
       "    .dataframe tbody tr th:only-of-type {\n",
       "        vertical-align: middle;\n",
       "    }\n",
       "\n",
       "    .dataframe tbody tr th {\n",
       "        vertical-align: top;\n",
       "    }\n",
       "\n",
       "    .dataframe thead th {\n",
       "        text-align: right;\n",
       "    }\n",
       "</style>\n",
       "<table border=\"1\" class=\"dataframe\">\n",
       "  <thead>\n",
       "    <tr style=\"text-align: right;\">\n",
       "      <th></th>\n",
       "      <th>country_code</th>\n",
       "      <th>Alpha-3 code</th>\n",
       "    </tr>\n",
       "  </thead>\n",
       "  <tbody>\n",
       "    <tr>\n",
       "      <th>0</th>\n",
       "      <td>AF</td>\n",
       "      <td>AFG</td>\n",
       "    </tr>\n",
       "    <tr>\n",
       "      <th>1</th>\n",
       "      <td>AX</td>\n",
       "      <td>ALA</td>\n",
       "    </tr>\n",
       "    <tr>\n",
       "      <th>2</th>\n",
       "      <td>AL</td>\n",
       "      <td>ALB</td>\n",
       "    </tr>\n",
       "    <tr>\n",
       "      <th>3</th>\n",
       "      <td>DZ</td>\n",
       "      <td>DZA</td>\n",
       "    </tr>\n",
       "    <tr>\n",
       "      <th>4</th>\n",
       "      <td>AS</td>\n",
       "      <td>ASM</td>\n",
       "    </tr>\n",
       "  </tbody>\n",
       "</table>\n",
       "</div>"
      ],
      "text/plain": [
       "  country_code Alpha-3 code\n",
       "0           AF          AFG\n",
       "1           AX          ALA\n",
       "2           AL          ALB\n",
       "3           DZ          DZA\n",
       "4           AS          ASM"
      ]
     },
     "execution_count": 21,
     "metadata": {},
     "output_type": "execute_result"
    }
   ],
   "source": [
    "# Keep code columns only and rename\n",
    "ISO = country_ISO.iloc[:, 1:3]\n",
    "ISO.rename({'Alpha-2 code':'country_code'}, axis=1, inplace=True)\n",
    "ISO.head()"
   ]
  },
  {
   "cell_type": "code",
   "execution_count": 22,
   "metadata": {
    "ExecuteTime": {
     "end_time": "2021-03-08T08:45:55.809005Z",
     "start_time": "2021-03-08T08:45:55.056516Z"
    }
   },
   "outputs": [
    {
     "data": {
      "text/plain": [
       "1587"
      ]
     },
     "execution_count": 22,
     "metadata": {},
     "output_type": "execute_result"
    }
   ],
   "source": [
    "# Merge ISO dataframe to loans_df and check the missing values\n",
    "loans_df = pd.merge(loans_df, ISO, on=['country_code'], how='left')\n",
    "loans_df['Alpha-3 code'].isnull().sum()"
   ]
  },
  {
   "cell_type": "code",
   "execution_count": 23,
   "metadata": {
    "ExecuteTime": {
     "end_time": "2021-03-08T08:45:56.082278Z",
     "start_time": "2021-03-08T08:45:55.814592Z"
    }
   },
   "outputs": [
    {
     "data": {
      "text/plain": [
       "array(['Kosovo', 'South Sudan', 'Namibia'], dtype=object)"
      ]
     },
     "execution_count": 23,
     "metadata": {},
     "output_type": "execute_result"
    }
   ],
   "source": [
    "loans_df[loans_df['Alpha-3 code'].isnull()]['country'].unique()"
   ]
  },
  {
   "cell_type": "markdown",
   "metadata": {},
   "source": [
    "The result shows there are missing values. According to [countrycode.org](https://countrycode.org/), the 3-letter ISO codes of Kosovo, South Sudan and Namibia are 'XKX, 'SSD' and 'NAM'， respectively."
   ]
  },
  {
   "cell_type": "code",
   "execution_count": 24,
   "metadata": {
    "ExecuteTime": {
     "end_time": "2021-03-08T08:45:56.271705Z",
     "start_time": "2021-03-08T08:45:56.084370Z"
    }
   },
   "outputs": [
    {
     "data": {
      "text/plain": [
       "0"
      ]
     },
     "execution_count": 24,
     "metadata": {},
     "output_type": "execute_result"
    }
   ],
   "source": [
    "# Fill missing values\n",
    "d = {'Kosovo': \"XKX\", 'South Sudan':'SSD', 'Namibia':'NAM'}\n",
    "s = loans_df.country.map(d)\n",
    "loans_df['Alpha-3 code'] = loans_df['Alpha-3 code'].combine_first(s)\n",
    "\n",
    "# Check result\n",
    "loans_df['Alpha-3 code'].isnull().sum()"
   ]
  },
  {
   "cell_type": "code",
   "execution_count": 25,
   "metadata": {
    "ExecuteTime": {
     "end_time": "2021-03-08T08:45:56.625495Z",
     "start_time": "2021-03-08T08:45:56.274246Z"
    }
   },
   "outputs": [],
   "source": [
    "loans_df.insert(6, 'ISO', loans_df['Alpha-3 code'])\n",
    "loans_df.drop(columns=['country_code','Alpha-3 code'],inplace=True)"
   ]
  },
  {
   "cell_type": "code",
   "execution_count": 26,
   "metadata": {
    "ExecuteTime": {
     "end_time": "2021-03-08T08:45:56.972577Z",
     "start_time": "2021-03-08T08:45:56.627714Z"
    }
   },
   "outputs": [
    {
     "name": "stdout",
     "output_type": "stream",
     "text": [
      "<class 'pandas.core.frame.DataFrame'>\n",
      "Int64Index: 671205 entries, 0 to 671204\n",
      "Data columns (total 17 columns):\n",
      " #   Column              Non-Null Count   Dtype  \n",
      "---  ------              --------------   -----  \n",
      " 0   id                  671205 non-null  int64  \n",
      " 1   funded_amount       671205 non-null  float64\n",
      " 2   loan_amount         671205 non-null  float64\n",
      " 3   activity            671205 non-null  object \n",
      " 4   sector              671205 non-null  object \n",
      " 5   use                 671205 non-null  object \n",
      " 6   ISO                 671205 non-null  object \n",
      " 7   country             671205 non-null  object \n",
      " 8   region              614405 non-null  object \n",
      " 9   partner_id          657698 non-null  float64\n",
      " 10  posted_time         671205 non-null  object \n",
      " 11  funded_time         622874 non-null  object \n",
      " 12  term_in_months      671205 non-null  float64\n",
      " 13  lender_count        671205 non-null  int64  \n",
      " 14  tags                499789 non-null  object \n",
      " 15  borrower_genders    666984 non-null  object \n",
      " 16  repayment_interval  671205 non-null  object \n",
      "dtypes: float64(4), int64(2), object(11)\n",
      "memory usage: 92.2+ MB\n"
     ]
    }
   ],
   "source": [
    "loans_df.info()"
   ]
  },
  {
   "cell_type": "markdown",
   "metadata": {},
   "source": [
    "##### Countries which Kiva provides loans"
   ]
  },
  {
   "cell_type": "code",
   "execution_count": 27,
   "metadata": {
    "ExecuteTime": {
     "end_time": "2021-03-08T08:45:57.025957Z",
     "start_time": "2021-03-08T08:45:56.975827Z"
    }
   },
   "outputs": [
    {
     "data": {
      "text/plain": [
       "87"
      ]
     },
     "execution_count": 27,
     "metadata": {},
     "output_type": "execute_result"
    }
   ],
   "source": [
    "len(loans.country.unique())"
   ]
  },
  {
   "cell_type": "code",
   "execution_count": 28,
   "metadata": {
    "ExecuteTime": {
     "end_time": "2021-03-08T08:45:57.114973Z",
     "start_time": "2021-03-08T08:45:57.029497Z"
    }
   },
   "outputs": [
    {
     "data": {
      "text/plain": [
       "Philippines    160441\n",
       "Kenya           75825\n",
       "El Salvador     39875\n",
       "Cambodia        34836\n",
       "Pakistan        26857\n",
       "Peru            22233\n",
       "Colombia        21995\n",
       "Uganda          20601\n",
       "Tajikistan      19580\n",
       "Ecuador         13521\n",
       "Name: country, dtype: int64"
      ]
     },
     "execution_count": 28,
     "metadata": {},
     "output_type": "execute_result"
    }
   ],
   "source": [
    "loans.country.value_counts().head(10)"
   ]
  },
  {
   "cell_type": "code",
   "execution_count": 29,
   "metadata": {
    "ExecuteTime": {
     "end_time": "2021-03-08T08:45:57.170888Z",
     "start_time": "2021-03-08T08:45:57.118830Z"
    }
   },
   "outputs": [
    {
     "data": {
      "text/plain": [
       "6093"
      ]
     },
     "execution_count": 29,
     "metadata": {},
     "output_type": "execute_result"
    }
   ],
   "source": [
    "(loans.country == 'United States').sum()"
   ]
  },
  {
   "cell_type": "markdown",
   "metadata": {},
   "source": [
    "Kiva supports the people around the world, who are unbanked and can’t access the financial services they need. The under-served borrowers from developed countries such as United States also can get help from the loaners on kiva."
   ]
  },
  {
   "cell_type": "markdown",
   "metadata": {},
   "source": [
    "##### Region missing values\n",
    "`region` is the subnational-level location where the borrowers come from, which is important for localization and will be used for datasets merging. Here we just get a general idea about the missing values but will learn more about region when do EDA."
   ]
  },
  {
   "cell_type": "code",
   "execution_count": 30,
   "metadata": {
    "ExecuteTime": {
     "end_time": "2021-03-08T08:45:57.259650Z",
     "start_time": "2021-03-08T08:45:57.173530Z"
    }
   },
   "outputs": [],
   "source": [
    "# Check region missing values by country\n",
    "null_region = loans[loans.region.isna()].country.value_counts()\n",
    "null_region_index = null_region.index"
   ]
  },
  {
   "cell_type": "code",
   "execution_count": 31,
   "metadata": {
    "ExecuteTime": {
     "end_time": "2021-03-08T08:46:03.032614Z",
     "start_time": "2021-03-08T08:45:57.262096Z"
    }
   },
   "outputs": [],
   "source": [
    "# Count the countries in loans dataset, which are also in the null_region series \n",
    "country_count = pd.Series([loans.country.value_counts().loc[x] for x in null_region_index], index=null_region_index)"
   ]
  },
  {
   "cell_type": "code",
   "execution_count": 32,
   "metadata": {
    "ExecuteTime": {
     "end_time": "2021-03-08T08:46:03.076288Z",
     "start_time": "2021-03-08T08:46:03.063180Z"
    }
   },
   "outputs": [
    {
     "data": {
      "text/html": [
       "<div>\n",
       "<style scoped>\n",
       "    .dataframe tbody tr th:only-of-type {\n",
       "        vertical-align: middle;\n",
       "    }\n",
       "\n",
       "    .dataframe tbody tr th {\n",
       "        vertical-align: top;\n",
       "    }\n",
       "\n",
       "    .dataframe thead th {\n",
       "        text-align: right;\n",
       "    }\n",
       "</style>\n",
       "<table border=\"1\" class=\"dataframe\">\n",
       "  <thead>\n",
       "    <tr style=\"text-align: right;\">\n",
       "      <th></th>\n",
       "      <th>null_region</th>\n",
       "      <th>total</th>\n",
       "      <th>percentile</th>\n",
       "    </tr>\n",
       "  </thead>\n",
       "  <tbody>\n",
       "    <tr>\n",
       "      <th>Virgin Islands</th>\n",
       "      <td>2</td>\n",
       "      <td>2</td>\n",
       "      <td>100.000000</td>\n",
       "    </tr>\n",
       "    <tr>\n",
       "      <th>Puerto Rico</th>\n",
       "      <td>68</td>\n",
       "      <td>68</td>\n",
       "      <td>100.000000</td>\n",
       "    </tr>\n",
       "    <tr>\n",
       "      <th>Kosovo</th>\n",
       "      <td>1419</td>\n",
       "      <td>1419</td>\n",
       "      <td>100.000000</td>\n",
       "    </tr>\n",
       "    <tr>\n",
       "      <th>Guam</th>\n",
       "      <td>1</td>\n",
       "      <td>1</td>\n",
       "      <td>100.000000</td>\n",
       "    </tr>\n",
       "    <tr>\n",
       "      <th>Iraq</th>\n",
       "      <td>993</td>\n",
       "      <td>993</td>\n",
       "      <td>100.000000</td>\n",
       "    </tr>\n",
       "    <tr>\n",
       "      <th>...</th>\n",
       "      <td>...</td>\n",
       "      <td>...</td>\n",
       "      <td>...</td>\n",
       "    </tr>\n",
       "    <tr>\n",
       "      <th>Philippines</th>\n",
       "      <td>81</td>\n",
       "      <td>160441</td>\n",
       "      <td>0.050486</td>\n",
       "    </tr>\n",
       "    <tr>\n",
       "      <th>Georgia</th>\n",
       "      <td>1</td>\n",
       "      <td>2409</td>\n",
       "      <td>0.041511</td>\n",
       "    </tr>\n",
       "    <tr>\n",
       "      <th>Vietnam</th>\n",
       "      <td>3</td>\n",
       "      <td>10843</td>\n",
       "      <td>0.027668</td>\n",
       "    </tr>\n",
       "    <tr>\n",
       "      <th>Pakistan</th>\n",
       "      <td>5</td>\n",
       "      <td>26857</td>\n",
       "      <td>0.018617</td>\n",
       "    </tr>\n",
       "    <tr>\n",
       "      <th>Kyrgyzstan</th>\n",
       "      <td>1</td>\n",
       "      <td>5774</td>\n",
       "      <td>0.017319</td>\n",
       "    </tr>\n",
       "  </tbody>\n",
       "</table>\n",
       "<p>72 rows × 3 columns</p>\n",
       "</div>"
      ],
      "text/plain": [
       "                null_region   total  percentile\n",
       "Virgin Islands            2       2  100.000000\n",
       "Puerto Rico              68      68  100.000000\n",
       "Kosovo                 1419    1419  100.000000\n",
       "Guam                      1       1  100.000000\n",
       "Iraq                    993     993  100.000000\n",
       "...                     ...     ...         ...\n",
       "Philippines              81  160441    0.050486\n",
       "Georgia                   1    2409    0.041511\n",
       "Vietnam                   3   10843    0.027668\n",
       "Pakistan                  5   26857    0.018617\n",
       "Kyrgyzstan                1    5774    0.017319\n",
       "\n",
       "[72 rows x 3 columns]"
      ]
     },
     "execution_count": 32,
     "metadata": {},
     "output_type": "execute_result"
    }
   ],
   "source": [
    "# Check the countries with null region values\n",
    "country_with_null_region = pd.DataFrame({'null_region':null_region, 'total':country_count,'percentile':100 * null_region/country_count})\\\n",
    ".sort_values('percentile',ascending=False)\n",
    "country_with_null_region"
   ]
  },
  {
   "cell_type": "code",
   "execution_count": 33,
   "metadata": {
    "ExecuteTime": {
     "end_time": "2021-03-08T08:46:03.312290Z",
     "start_time": "2021-03-08T08:46:03.079438Z"
    }
   },
   "outputs": [
    {
     "data": {
      "image/png": "[encoded data removed]",
      "text/plain": [
       "<Figure size 432x288 with 1 Axes>"
      ]
     },
     "metadata": {
      "needs_background": "light"
     },
     "output_type": "display_data"
    }
   ],
   "source": [
    "_ = country_with_null_region.percentile.hist(bins=20)"
   ]
  },
  {
   "cell_type": "markdown",
   "metadata": {},
   "source": [
    "There are totally 72 countries have missing values in region. Most of them have low or very low rate of missing values; about 10% of these countries have no or almost have no region information. "
   ]
  },
  {
   "cell_type": "markdown",
   "metadata": {},
   "source": [
    "##### Partner id"
   ]
  },
  {
   "cell_type": "markdown",
   "metadata": {},
   "source": [
    "Most loans on Kiva are administered by one of the Kiva's local partners working in more than 80 countries. There are also small part of the loans disbursed directly by Kiva, which means partner id is missing. [For example](https://www.kiva.org/about/due-diligence), almost all Kiva loans for borrowers in the U.S. are direct loans, which are not administered by a Field Partner. "
   ]
  },
  {
   "cell_type": "code",
   "execution_count": 34,
   "metadata": {
    "ExecuteTime": {
     "end_time": "2021-03-08T08:46:03.344995Z",
     "start_time": "2021-03-08T08:46:03.315992Z"
    }
   },
   "outputs": [
    {
     "data": {
      "text/plain": [
       "Kenya             8372\n",
       "United States     5064\n",
       "Puerto Rico         68\n",
       "Virgin Islands       2\n",
       "Guam                 1\n",
       "Name: country, dtype: int64"
      ]
     },
     "execution_count": 34,
     "metadata": {},
     "output_type": "execute_result"
    }
   ],
   "source": [
    "loans[loans.partner_id.isna()].country.value_counts()"
   ]
  },
  {
   "cell_type": "markdown",
   "metadata": {},
   "source": [
    "Similarly, partner id also means a lot to localization, which will be handled when do EDA."
   ]
  },
  {
   "cell_type": "markdown",
   "metadata": {},
   "source": [
    "#### Tags of the loans"
   ]
  },
  {
   "cell_type": "code",
   "execution_count": 35,
   "metadata": {
    "ExecuteTime": {
     "end_time": "2021-03-08T08:46:03.390603Z",
     "start_time": "2021-03-08T08:46:03.348856Z"
    }
   },
   "outputs": [
    {
     "data": {
      "text/plain": [
       "0.255385463457513"
      ]
     },
     "execution_count": 35,
     "metadata": {},
     "output_type": "execute_result"
    }
   ],
   "source": [
    "# Check the missing values rate\n",
    "loans.tags.isna().mean()"
   ]
  },
  {
   "cell_type": "code",
   "execution_count": 36,
   "metadata": {
    "ExecuteTime": {
     "end_time": "2021-03-08T08:46:03.485240Z",
     "start_time": "2021-03-08T08:46:03.394004Z"
    }
   },
   "outputs": [
    {
     "data": {
      "text/plain": [
       "86720"
      ]
     },
     "execution_count": 36,
     "metadata": {},
     "output_type": "execute_result"
    }
   ],
   "source": [
    "# The number of unique tags\n",
    "len(loans.tags.unique())"
   ]
  },
  {
   "cell_type": "markdown",
   "metadata": {},
   "source": [
    "`tags` is used to annotate the particular loans such as woman owned business, for parent, and so on. According to [Kiva website](https://www.kiva.org/team/loan_taggers) All the tags are added by Kiva's The Loan Taggers team, which enables lenders to find loans they are interested in faster. All Kiva lenders have the ability to add up to 5 tags on a loan, which can not be removed once been applied on the loan. So as we can see above, there are totally 86720 unique tags to the loans, while about 26% of loans have no tags.\n",
    "\n",
    "For simplicity, we will label all the loans having tags with 'With_tag' and impute missing values with 'No_tag'."
   ]
  },
  {
   "cell_type": "code",
   "execution_count": 37,
   "metadata": {
    "ExecuteTime": {
     "end_time": "2021-03-08T08:46:03.919145Z",
     "start_time": "2021-03-08T08:46:03.488595Z"
    }
   },
   "outputs": [
    {
     "data": {
      "text/plain": [
       "0"
      ]
     },
     "execution_count": 37,
     "metadata": {},
     "output_type": "execute_result"
    }
   ],
   "source": [
    "loans_df[loans_df.tags.notnull()].tags.str.contains('No_tag').sum()"
   ]
  },
  {
   "cell_type": "code",
   "execution_count": 38,
   "metadata": {
    "ExecuteTime": {
     "end_time": "2021-03-08T08:46:03.978196Z",
     "start_time": "2021-03-08T08:46:03.922237Z"
    }
   },
   "outputs": [],
   "source": [
    "# Fill missing values with 'No_tag'\n",
    "loans_df.tags.fillna('No_tag', inplace=True)"
   ]
  },
  {
   "cell_type": "code",
   "execution_count": 39,
   "metadata": {
    "ExecuteTime": {
     "end_time": "2021-03-08T08:46:04.057645Z",
     "start_time": "2021-03-08T08:46:03.981385Z"
    }
   },
   "outputs": [
    {
     "name": "stderr",
     "output_type": "stream",
     "text": [
      "<ipython-input-39-c6d04bb23415>:1: SettingWithCopyWarning: \n",
      "A value is trying to be set on a copy of a slice from a DataFrame\n",
      "\n",
      "See the caveats in the documentation: https://pandas.pydata.org/pandas-docs/stable/user_guide/indexing.html#returning-a-view-versus-a-copy\n",
      "  loans_df.tags[loans_df.tags!='No_tag'] = 'With_tag'\n"
     ]
    }
   ],
   "source": [
    "loans_df.tags[loans_df.tags!='No_tag'] = 'With_tag'"
   ]
  },
  {
   "cell_type": "code",
   "execution_count": 40,
   "metadata": {
    "ExecuteTime": {
     "end_time": "2021-03-08T08:46:04.124805Z",
     "start_time": "2021-03-08T08:46:04.061190Z"
    }
   },
   "outputs": [
    {
     "data": {
      "text/plain": [
       "With_tag    499789\n",
       "No_tag      171416\n",
       "Name: tags, dtype: int64"
      ]
     },
     "execution_count": 40,
     "metadata": {},
     "output_type": "execute_result"
    }
   ],
   "source": [
    "loans_df.tags.value_counts()"
   ]
  },
  {
   "cell_type": "markdown",
   "metadata": {},
   "source": [
    "#### Borrower genders"
   ]
  },
  {
   "cell_type": "markdown",
   "metadata": {},
   "source": [
    "##### Borrower genders missing values"
   ]
  },
  {
   "cell_type": "code",
   "execution_count": 41,
   "metadata": {
    "ExecuteTime": {
     "end_time": "2021-03-08T08:46:04.167124Z",
     "start_time": "2021-03-08T08:46:04.127584Z"
    }
   },
   "outputs": [
    {
     "data": {
      "text/plain": [
       "0.006288689744563881"
      ]
     },
     "execution_count": 41,
     "metadata": {},
     "output_type": "execute_result"
    }
   ],
   "source": [
    "loans.borrower_genders.isna().mean()"
   ]
  },
  {
   "cell_type": "code",
   "execution_count": 42,
   "metadata": {
    "ExecuteTime": {
     "end_time": "2021-03-08T08:46:04.217561Z",
     "start_time": "2021-03-08T08:46:04.170657Z"
    }
   },
   "outputs": [
    {
     "data": {
      "text/plain": [
       "Colombia         777\n",
       "Kenya            712\n",
       "El Salvador      554\n",
       "Uganda           211\n",
       "United States    160\n",
       "                ... \n",
       "Georgia            1\n",
       "Kyrgyzstan         1\n",
       "Puerto Rico        1\n",
       "South Africa       1\n",
       "Bhutan             1\n",
       "Name: country, Length: 69, dtype: int64"
      ]
     },
     "execution_count": 42,
     "metadata": {},
     "output_type": "execute_result"
    }
   ],
   "source": [
    "loans[loans.borrower_genders.isna()].country.value_counts()"
   ]
  },
  {
   "cell_type": "markdown",
   "metadata": {},
   "source": [
    "About 0.6% loans have no gender information, which involves 69 countries. We will fill the missing values with 'unknown'."
   ]
  },
  {
   "cell_type": "code",
   "execution_count": 43,
   "metadata": {
    "ExecuteTime": {
     "end_time": "2021-03-08T08:46:04.258509Z",
     "start_time": "2021-03-08T08:46:04.220383Z"
    }
   },
   "outputs": [],
   "source": [
    "loans_df.borrower_genders.fillna('unknown',inplace=True)"
   ]
  },
  {
   "cell_type": "markdown",
   "metadata": {},
   "source": [
    "##### Classify borrower genders"
   ]
  },
  {
   "cell_type": "code",
   "execution_count": 44,
   "metadata": {
    "ExecuteTime": {
     "end_time": "2021-03-08T08:46:04.385883Z",
     "start_time": "2021-03-08T08:46:04.261306Z"
    }
   },
   "outputs": [
    {
     "data": {
      "text/plain": [
       "female                                                                                                                                                        426502\n",
       "male                                                                                                                                                          134710\n",
       "female, female                                                                                                                                                 12164\n",
       "female, female, female                                                                                                                                         11676\n",
       "female, female, female, female                                                                                                                                  9052\n",
       "                                                                                                                                                               ...  \n",
       "male, male, female, female, male, female, male, female, male, female, female, female, female, female, female, female, male                                         1\n",
       "male, female, male, female, male, female, female, female, female, male, male, female, female, female, male                                                         1\n",
       "female, female, female, female, female, male, female, male, female, female, male, female, female, male, female, female, male, female, female, male, female         1\n",
       "female, female, female, female, female, female, female, female, female, female, female, female, male, male, female, female                                         1\n",
       "female, male, female, female, female, female, female, male, female, male, female, female                                                                           1\n",
       "Name: borrower_genders, Length: 11298, dtype: int64"
      ]
     },
     "execution_count": 44,
     "metadata": {},
     "output_type": "execute_result"
    }
   ],
   "source": [
    "loans.borrower_genders.value_counts()"
   ]
  },
  {
   "cell_type": "markdown",
   "metadata": {},
   "source": [
    "The borrower gender is composed of individual's gender or all the individuals' gender in a group, which includes single female, single male, female group, male group, and the group mixed with female and male. We will classify borrowers gender as following:\n",
    "* Single female and female group will be labeled as 'female'\n",
    "* Single male and male group will be labeled as 'male'\n",
    "* The group mixed with female and male will be labeled as 'mixed'"
   ]
  },
  {
   "cell_type": "code",
   "execution_count": 45,
   "metadata": {
    "ExecuteTime": {
     "end_time": "2021-03-08T08:46:05.103605Z",
     "start_time": "2021-03-08T08:46:04.389408Z"
    }
   },
   "outputs": [],
   "source": [
    "def genders(x): \n",
    "    # Classify borrowers gender\n",
    "    if x == 'unknown':\n",
    "        gender = 'unknown' \n",
    "    else:\n",
    "        gender_list = [y.strip(' ') for y in x.split(',')]\n",
    "        if 'female' not in gender_list:\n",
    "            gender = 'male'\n",
    "        elif 'male' not in gender_list:\n",
    "            gender = 'female'\n",
    "        else: gender = 'mixed'\n",
    "            \n",
    "    return gender\n",
    "        \n",
    "gender_group = loans_df.borrower_genders.apply(genders)"
   ]
  },
  {
   "cell_type": "code",
   "execution_count": 46,
   "metadata": {
    "ExecuteTime": {
     "end_time": "2021-03-08T08:46:05.181893Z",
     "start_time": "2021-03-08T08:46:05.108128Z"
    },
    "scrolled": true
   },
   "outputs": [
    {
     "data": {
      "text/plain": [
       "female     488081\n",
       "male       138523\n",
       "mixed       40380\n",
       "unknown      4221\n",
       "Name: borrower_genders, dtype: int64"
      ]
     },
     "execution_count": 46,
     "metadata": {},
     "output_type": "execute_result"
    }
   ],
   "source": [
    "gender_group.value_counts()"
   ]
  },
  {
   "cell_type": "markdown",
   "metadata": {},
   "source": [
    "About three-fourth borrowers are female, which are harder to access financial service than male in many countries."
   ]
  },
  {
   "cell_type": "code",
   "execution_count": 47,
   "metadata": {
    "ExecuteTime": {
     "end_time": "2021-03-08T08:46:05.198992Z",
     "start_time": "2021-03-08T08:46:05.185498Z"
    }
   },
   "outputs": [],
   "source": [
    "loans_df.borrower_genders = gender_group"
   ]
  },
  {
   "cell_type": "markdown",
   "metadata": {},
   "source": [
    "#### Repayment interval"
   ]
  },
  {
   "cell_type": "code",
   "execution_count": 48,
   "metadata": {
    "ExecuteTime": {
     "end_time": "2021-03-08T08:46:05.278749Z",
     "start_time": "2021-03-08T08:46:05.203443Z"
    }
   },
   "outputs": [
    {
     "data": {
      "text/plain": [
       "monthly      342717\n",
       "irregular    257158\n",
       "bullet        70728\n",
       "weekly          602\n",
       "Name: repayment_interval, dtype: int64"
      ]
     },
     "execution_count": 48,
     "metadata": {},
     "output_type": "execute_result"
    }
   ],
   "source": [
    "loans.repayment_interval.value_counts()"
   ]
  },
  {
   "cell_type": "markdown",
   "metadata": {},
   "source": [
    "There are four types of repayment interval, in which 'monthly' and 'irregular' are the majority."
   ]
  },
  {
   "cell_type": "markdown",
   "metadata": {},
   "source": [
    "### Numeric Features"
   ]
  },
  {
   "cell_type": "markdown",
   "metadata": {},
   "source": [
    "#### Loan amount and funded amount\n",
    "Loan amount is the amount of the loan posted on Kiva website; funded amount is the amount what is funded on Kiva, which could be equal to, more than, or less than loan amount. "
   ]
  },
  {
   "cell_type": "code",
   "execution_count": 49,
   "metadata": {
    "ExecuteTime": {
     "end_time": "2021-03-08T08:46:05.369589Z",
     "start_time": "2021-03-08T08:46:05.283423Z"
    }
   },
   "outputs": [
    {
     "data": {
      "text/html": [
       "<div>\n",
       "<style scoped>\n",
       "    .dataframe tbody tr th:only-of-type {\n",
       "        vertical-align: middle;\n",
       "    }\n",
       "\n",
       "    .dataframe tbody tr th {\n",
       "        vertical-align: top;\n",
       "    }\n",
       "\n",
       "    .dataframe thead th {\n",
       "        text-align: right;\n",
       "    }\n",
       "</style>\n",
       "<table border=\"1\" class=\"dataframe\">\n",
       "  <thead>\n",
       "    <tr style=\"text-align: right;\">\n",
       "      <th></th>\n",
       "      <th>loan_amount</th>\n",
       "      <th>funded_amount</th>\n",
       "    </tr>\n",
       "  </thead>\n",
       "  <tbody>\n",
       "    <tr>\n",
       "      <th>count</th>\n",
       "      <td>671205.000000</td>\n",
       "      <td>671205.000000</td>\n",
       "    </tr>\n",
       "    <tr>\n",
       "      <th>mean</th>\n",
       "      <td>842.397107</td>\n",
       "      <td>785.995061</td>\n",
       "    </tr>\n",
       "    <tr>\n",
       "      <th>std</th>\n",
       "      <td>1198.660073</td>\n",
       "      <td>1130.398941</td>\n",
       "    </tr>\n",
       "    <tr>\n",
       "      <th>min</th>\n",
       "      <td>25.000000</td>\n",
       "      <td>0.000000</td>\n",
       "    </tr>\n",
       "    <tr>\n",
       "      <th>25%</th>\n",
       "      <td>275.000000</td>\n",
       "      <td>250.000000</td>\n",
       "    </tr>\n",
       "    <tr>\n",
       "      <th>50%</th>\n",
       "      <td>500.000000</td>\n",
       "      <td>450.000000</td>\n",
       "    </tr>\n",
       "    <tr>\n",
       "      <th>75%</th>\n",
       "      <td>1000.000000</td>\n",
       "      <td>900.000000</td>\n",
       "    </tr>\n",
       "    <tr>\n",
       "      <th>max</th>\n",
       "      <td>100000.000000</td>\n",
       "      <td>100000.000000</td>\n",
       "    </tr>\n",
       "  </tbody>\n",
       "</table>\n",
       "</div>"
      ],
      "text/plain": [
       "         loan_amount  funded_amount\n",
       "count  671205.000000  671205.000000\n",
       "mean      842.397107     785.995061\n",
       "std      1198.660073    1130.398941\n",
       "min        25.000000       0.000000\n",
       "25%       275.000000     250.000000\n",
       "50%       500.000000     450.000000\n",
       "75%      1000.000000     900.000000\n",
       "max    100000.000000  100000.000000"
      ]
     },
     "execution_count": 49,
     "metadata": {},
     "output_type": "execute_result"
    }
   ],
   "source": [
    "loans[['loan_amount','funded_amount']].describe()"
   ]
  },
  {
   "cell_type": "markdown",
   "metadata": {},
   "source": [
    "From the statistic values about, all the values of funded amount except the max are less than loan amount. Does that mean most of the loans posted on Kiva had not been completely funded? We will check completely-funded rate later and learn more about the relationship between the two amounts in EDA."
   ]
  },
  {
   "cell_type": "markdown",
   "metadata": {},
   "source": [
    "#### Term in months\n",
    "`term_in_months` factor shows the number of months over which loan was scheduled to be paid back"
   ]
  },
  {
   "cell_type": "code",
   "execution_count": 50,
   "metadata": {
    "ExecuteTime": {
     "end_time": "2021-03-08T08:46:05.408902Z",
     "start_time": "2021-03-08T08:46:05.372355Z"
    }
   },
   "outputs": [
    {
     "data": {
      "text/plain": [
       "count    671205.000000\n",
       "mean         13.739022\n",
       "std           8.598919\n",
       "min           1.000000\n",
       "25%           8.000000\n",
       "50%          13.000000\n",
       "75%          14.000000\n",
       "max         158.000000\n",
       "Name: term_in_months, dtype: float64"
      ]
     },
     "execution_count": 50,
     "metadata": {},
     "output_type": "execute_result"
    }
   ],
   "source": [
    "loans.term_in_months.describe()"
   ]
  },
  {
   "cell_type": "markdown",
   "metadata": {},
   "source": [
    "Most of the loans (75%) are scheduled to be paid back in 14 months."
   ]
  },
  {
   "cell_type": "markdown",
   "metadata": {},
   "source": [
    "#### Lender count\n",
    "`lender_count` is number of lenders contributing to a loan."
   ]
  },
  {
   "cell_type": "code",
   "execution_count": 51,
   "metadata": {
    "ExecuteTime": {
     "end_time": "2021-03-08T08:46:05.442519Z",
     "start_time": "2021-03-08T08:46:05.413544Z"
    }
   },
   "outputs": [
    {
     "data": {
      "text/plain": [
       "count    671205.000000\n",
       "mean         20.590922\n",
       "std          28.459551\n",
       "min           0.000000\n",
       "25%           7.000000\n",
       "50%          13.000000\n",
       "75%          24.000000\n",
       "max        2986.000000\n",
       "Name: lender_count, dtype: float64"
      ]
     },
     "execution_count": 51,
     "metadata": {},
     "output_type": "execute_result"
    }
   ],
   "source": [
    "loans.lender_count.describe()"
   ]
  },
  {
   "cell_type": "markdown",
   "metadata": {},
   "source": [
    "The median of the lender count is 13, while there is the loan funded by nearly 3000 lenders."
   ]
  },
  {
   "cell_type": "markdown",
   "metadata": {},
   "source": [
    "### Time series\n",
    "`posted_time` is the time at which the loan is posted on Kiva by the field agent; `funded_time` is the time when the loan posted to Kiva gets funded by lenders completely. From the two time, we can get the information about how long a loan got the full fund on Kiva platform."
   ]
  },
  {
   "cell_type": "markdown",
   "metadata": {},
   "source": [
    "#### Convert to datetime"
   ]
  },
  {
   "cell_type": "code",
   "execution_count": 52,
   "metadata": {
    "ExecuteTime": {
     "end_time": "2021-03-08T08:46:06.196552Z",
     "start_time": "2021-03-08T08:46:05.446854Z"
    }
   },
   "outputs": [],
   "source": [
    "# Parse string to datetime\n",
    "loans_df[['posted_time','funded_time']] = loans_df[['posted_time','funded_time']]\\\n",
    ".applymap(lambda x: x.replace('+00:00',''),na_action='ignore')"
   ]
  },
  {
   "cell_type": "code",
   "execution_count": 53,
   "metadata": {
    "ExecuteTime": {
     "end_time": "2021-03-08T08:46:23.487429Z",
     "start_time": "2021-03-08T08:46:06.199957Z"
    }
   },
   "outputs": [],
   "source": [
    "loans_df[['posted_time','funded_time']] = loans_df[['posted_time','funded_time']]\\\n",
    ".applymap(lambda x: dt.strptime(x,'%Y-%m-%d %H:%M:%S'),na_action='ignore')"
   ]
  },
  {
   "cell_type": "code",
   "execution_count": 54,
   "metadata": {
    "ExecuteTime": {
     "end_time": "2021-03-08T08:46:23.531094Z",
     "start_time": "2021-03-08T08:46:23.493318Z"
    }
   },
   "outputs": [
    {
     "data": {
      "text/html": [
       "<div>\n",
       "<style scoped>\n",
       "    .dataframe tbody tr th:only-of-type {\n",
       "        vertical-align: middle;\n",
       "    }\n",
       "\n",
       "    .dataframe tbody tr th {\n",
       "        vertical-align: top;\n",
       "    }\n",
       "\n",
       "    .dataframe thead th {\n",
       "        text-align: right;\n",
       "    }\n",
       "</style>\n",
       "<table border=\"1\" class=\"dataframe\">\n",
       "  <thead>\n",
       "    <tr style=\"text-align: right;\">\n",
       "      <th></th>\n",
       "      <th>posted_time</th>\n",
       "      <th>funded_time</th>\n",
       "    </tr>\n",
       "  </thead>\n",
       "  <tbody>\n",
       "    <tr>\n",
       "      <th>0</th>\n",
       "      <td>2014-01-01 06:12:39</td>\n",
       "      <td>2014-01-02 10:06:32</td>\n",
       "    </tr>\n",
       "    <tr>\n",
       "      <th>1</th>\n",
       "      <td>2014-01-01 06:51:08</td>\n",
       "      <td>2014-01-02 09:17:23</td>\n",
       "    </tr>\n",
       "    <tr>\n",
       "      <th>2</th>\n",
       "      <td>2014-01-01 09:58:07</td>\n",
       "      <td>2014-01-01 16:01:36</td>\n",
       "    </tr>\n",
       "    <tr>\n",
       "      <th>3</th>\n",
       "      <td>2014-01-01 08:03:11</td>\n",
       "      <td>2014-01-01 13:00:00</td>\n",
       "    </tr>\n",
       "    <tr>\n",
       "      <th>4</th>\n",
       "      <td>2014-01-01 11:53:19</td>\n",
       "      <td>2014-01-01 19:18:51</td>\n",
       "    </tr>\n",
       "    <tr>\n",
       "      <th>...</th>\n",
       "      <td>...</td>\n",
       "      <td>...</td>\n",
       "    </tr>\n",
       "    <tr>\n",
       "      <th>671200</th>\n",
       "      <td>2017-07-25 16:55:34</td>\n",
       "      <td>NaT</td>\n",
       "    </tr>\n",
       "    <tr>\n",
       "      <th>671201</th>\n",
       "      <td>2017-07-25 06:14:08</td>\n",
       "      <td>2017-07-26 02:09:43</td>\n",
       "    </tr>\n",
       "    <tr>\n",
       "      <th>671202</th>\n",
       "      <td>2017-07-26 00:02:07</td>\n",
       "      <td>NaT</td>\n",
       "    </tr>\n",
       "    <tr>\n",
       "      <th>671203</th>\n",
       "      <td>2017-07-26 06:12:55</td>\n",
       "      <td>NaT</td>\n",
       "    </tr>\n",
       "    <tr>\n",
       "      <th>671204</th>\n",
       "      <td>2017-07-26 06:31:46</td>\n",
       "      <td>NaT</td>\n",
       "    </tr>\n",
       "  </tbody>\n",
       "</table>\n",
       "<p>671205 rows × 2 columns</p>\n",
       "</div>"
      ],
      "text/plain": [
       "               posted_time         funded_time\n",
       "0      2014-01-01 06:12:39 2014-01-02 10:06:32\n",
       "1      2014-01-01 06:51:08 2014-01-02 09:17:23\n",
       "2      2014-01-01 09:58:07 2014-01-01 16:01:36\n",
       "3      2014-01-01 08:03:11 2014-01-01 13:00:00\n",
       "4      2014-01-01 11:53:19 2014-01-01 19:18:51\n",
       "...                    ...                 ...\n",
       "671200 2017-07-25 16:55:34                 NaT\n",
       "671201 2017-07-25 06:14:08 2017-07-26 02:09:43\n",
       "671202 2017-07-26 00:02:07                 NaT\n",
       "671203 2017-07-26 06:12:55                 NaT\n",
       "671204 2017-07-26 06:31:46                 NaT\n",
       "\n",
       "[671205 rows x 2 columns]"
      ]
     },
     "execution_count": 54,
     "metadata": {},
     "output_type": "execute_result"
    }
   ],
   "source": [
    "times_parsed = loans_df[['posted_time','funded_time']]\n",
    "times_parsed"
   ]
  },
  {
   "cell_type": "markdown",
   "metadata": {},
   "source": [
    "#### Funded time missing value"
   ]
  },
  {
   "cell_type": "code",
   "execution_count": 55,
   "metadata": {
    "ExecuteTime": {
     "end_time": "2021-03-08T08:46:23.547068Z",
     "start_time": "2021-03-08T08:46:23.533877Z"
    }
   },
   "outputs": [
    {
     "data": {
      "text/plain": [
       "48331"
      ]
     },
     "execution_count": 55,
     "metadata": {},
     "output_type": "execute_result"
    }
   ],
   "source": [
    "(times_parsed.funded_time.isnull()).sum()"
   ]
  },
  {
   "cell_type": "code",
   "execution_count": 56,
   "metadata": {
    "ExecuteTime": {
     "end_time": "2021-03-08T08:46:23.565095Z",
     "start_time": "2021-03-08T08:46:23.550950Z"
    }
   },
   "outputs": [],
   "source": [
    "# Set posted_time as index\n",
    "times_parsed_index = times_parsed.set_index('posted_time',drop=False)"
   ]
  },
  {
   "cell_type": "code",
   "execution_count": 57,
   "metadata": {
    "ExecuteTime": {
     "end_time": "2021-03-08T08:46:23.920005Z",
     "start_time": "2021-03-08T08:46:23.567486Z"
    }
   },
   "outputs": [],
   "source": [
    "# Resample the time by month and calculate the number of loans\n",
    "time_monthly_count = times_parsed_index.resample('M').count()\n",
    "time_monthly_count.rename(columns={'posted_time': 'loans_posted','funded_time': 'loans_funded_completely'}, inplace=True)\n",
    "\n",
    "# Add the posted/funded count ratio\n",
    "time_monthly_count['ratio'] = round(time_monthly_count.loans_funded_completely / time_monthly_count.loans_posted, 2)"
   ]
  },
  {
   "cell_type": "code",
   "execution_count": 58,
   "metadata": {
    "ExecuteTime": {
     "end_time": "2021-03-08T08:46:24.250253Z",
     "start_time": "2021-03-08T08:46:23.928991Z"
    }
   },
   "outputs": [
    {
     "data": {
      "image/png": "[encoded data removed]",
      "text/plain": [
       "<Figure size 432x288 with 1 Axes>"
      ]
     },
     "metadata": {
      "needs_background": "light"
     },
     "output_type": "display_data"
    }
   ],
   "source": [
    "# The number of loans posted and of the number of loans completely funded month by month\n",
    "_ = plt.plot(time_monthly_count[['loans_posted', 'loans_funded_completely']])\n",
    "_ = plt.legend(['loans posted', 'loans funded completely'])\n",
    "_ = plt.ylabel('Number of loans')"
   ]
  },
  {
   "cell_type": "code",
   "execution_count": 59,
   "metadata": {
    "ExecuteTime": {
     "end_time": "2021-03-08T08:46:24.547369Z",
     "start_time": "2021-03-08T08:46:24.260481Z"
    }
   },
   "outputs": [
    {
     "data": {
      "image/png": "[encoded data removed]",
      "text/plain": [
       "<Figure size 432x288 with 1 Axes>"
      ]
     },
     "metadata": {
      "needs_background": "light"
     },
     "output_type": "display_data"
    }
   ],
   "source": [
    "# The ratio of loans completely funded and loans posted month by month\n",
    "_ = plt.plot(time_monthly_count.ratio, label='funded/posted ratio')\n",
    "_ = plt.ylabel('Completely-funded/posted Ratio')\n",
    "_ = plt.legend()"
   ]
  },
  {
   "cell_type": "code",
   "execution_count": 60,
   "metadata": {
    "ExecuteTime": {
     "end_time": "2021-03-08T08:46:24.579565Z",
     "start_time": "2021-03-08T08:46:24.553801Z"
    }
   },
   "outputs": [
    {
     "data": {
      "text/html": [
       "<div>\n",
       "<style scoped>\n",
       "    .dataframe tbody tr th:only-of-type {\n",
       "        vertical-align: middle;\n",
       "    }\n",
       "\n",
       "    .dataframe tbody tr th {\n",
       "        vertical-align: top;\n",
       "    }\n",
       "\n",
       "    .dataframe thead th {\n",
       "        text-align: right;\n",
       "    }\n",
       "</style>\n",
       "<table border=\"1\" class=\"dataframe\">\n",
       "  <thead>\n",
       "    <tr style=\"text-align: right;\">\n",
       "      <th></th>\n",
       "      <th>loans_posted</th>\n",
       "      <th>loans_funded_completely</th>\n",
       "      <th>ratio</th>\n",
       "    </tr>\n",
       "    <tr>\n",
       "      <th>posted_time</th>\n",
       "      <th></th>\n",
       "      <th></th>\n",
       "      <th></th>\n",
       "    </tr>\n",
       "  </thead>\n",
       "  <tbody>\n",
       "    <tr>\n",
       "      <th>2016-10-31</th>\n",
       "      <td>16638</td>\n",
       "      <td>14988</td>\n",
       "      <td>0.90</td>\n",
       "    </tr>\n",
       "    <tr>\n",
       "      <th>2016-11-30</th>\n",
       "      <td>18474</td>\n",
       "      <td>16899</td>\n",
       "      <td>0.91</td>\n",
       "    </tr>\n",
       "    <tr>\n",
       "      <th>2016-12-31</th>\n",
       "      <td>16997</td>\n",
       "      <td>15970</td>\n",
       "      <td>0.94</td>\n",
       "    </tr>\n",
       "    <tr>\n",
       "      <th>2017-01-31</th>\n",
       "      <td>16114</td>\n",
       "      <td>15129</td>\n",
       "      <td>0.94</td>\n",
       "    </tr>\n",
       "    <tr>\n",
       "      <th>2017-02-28</th>\n",
       "      <td>17695</td>\n",
       "      <td>17361</td>\n",
       "      <td>0.98</td>\n",
       "    </tr>\n",
       "    <tr>\n",
       "      <th>2017-03-31</th>\n",
       "      <td>22951</td>\n",
       "      <td>22171</td>\n",
       "      <td>0.97</td>\n",
       "    </tr>\n",
       "    <tr>\n",
       "      <th>2017-04-30</th>\n",
       "      <td>17766</td>\n",
       "      <td>17518</td>\n",
       "      <td>0.99</td>\n",
       "    </tr>\n",
       "    <tr>\n",
       "      <th>2017-05-31</th>\n",
       "      <td>21263</td>\n",
       "      <td>20076</td>\n",
       "      <td>0.94</td>\n",
       "    </tr>\n",
       "    <tr>\n",
       "      <th>2017-06-30</th>\n",
       "      <td>18407</td>\n",
       "      <td>13986</td>\n",
       "      <td>0.76</td>\n",
       "    </tr>\n",
       "    <tr>\n",
       "      <th>2017-07-31</th>\n",
       "      <td>3706</td>\n",
       "      <td>1309</td>\n",
       "      <td>0.35</td>\n",
       "    </tr>\n",
       "  </tbody>\n",
       "</table>\n",
       "</div>"
      ],
      "text/plain": [
       "             loans_posted  loans_funded_completely  ratio\n",
       "posted_time                                              \n",
       "2016-10-31          16638                    14988   0.90\n",
       "2016-11-30          18474                    16899   0.91\n",
       "2016-12-31          16997                    15970   0.94\n",
       "2017-01-31          16114                    15129   0.94\n",
       "2017-02-28          17695                    17361   0.98\n",
       "2017-03-31          22951                    22171   0.97\n",
       "2017-04-30          17766                    17518   0.99\n",
       "2017-05-31          21263                    20076   0.94\n",
       "2017-06-30          18407                    13986   0.76\n",
       "2017-07-31           3706                     1309   0.35"
      ]
     },
     "execution_count": 60,
     "metadata": {},
     "output_type": "execute_result"
    }
   ],
   "source": [
    "# Check the last ten month\n",
    "time_monthly_count.tail(10)"
   ]
  },
  {
   "cell_type": "code",
   "execution_count": 61,
   "metadata": {
    "ExecuteTime": {
     "end_time": "2021-03-08T08:46:24.630414Z",
     "start_time": "2021-03-08T08:46:24.585406Z"
    }
   },
   "outputs": [
    {
     "data": {
      "text/html": [
       "<div>\n",
       "<style scoped>\n",
       "    .dataframe tbody tr th:only-of-type {\n",
       "        vertical-align: middle;\n",
       "    }\n",
       "\n",
       "    .dataframe tbody tr th {\n",
       "        vertical-align: top;\n",
       "    }\n",
       "\n",
       "    .dataframe thead th {\n",
       "        text-align: right;\n",
       "    }\n",
       "</style>\n",
       "<table border=\"1\" class=\"dataframe\">\n",
       "  <thead>\n",
       "    <tr style=\"text-align: right;\">\n",
       "      <th></th>\n",
       "      <th>loans_posted</th>\n",
       "      <th>loans_funded_completely</th>\n",
       "      <th>ratio</th>\n",
       "    </tr>\n",
       "  </thead>\n",
       "  <tbody>\n",
       "    <tr>\n",
       "      <th>count</th>\n",
       "      <td>43.000000</td>\n",
       "      <td>43.000000</td>\n",
       "      <td>43.000000</td>\n",
       "    </tr>\n",
       "    <tr>\n",
       "      <th>mean</th>\n",
       "      <td>15609.418605</td>\n",
       "      <td>14485.441860</td>\n",
       "      <td>0.917907</td>\n",
       "    </tr>\n",
       "    <tr>\n",
       "      <th>std</th>\n",
       "      <td>2777.194115</td>\n",
       "      <td>2846.428893</td>\n",
       "      <td>0.097847</td>\n",
       "    </tr>\n",
       "    <tr>\n",
       "      <th>min</th>\n",
       "      <td>3706.000000</td>\n",
       "      <td>1309.000000</td>\n",
       "      <td>0.350000</td>\n",
       "    </tr>\n",
       "    <tr>\n",
       "      <th>25%</th>\n",
       "      <td>14512.000000</td>\n",
       "      <td>13482.500000</td>\n",
       "      <td>0.905000</td>\n",
       "    </tr>\n",
       "    <tr>\n",
       "      <th>50%</th>\n",
       "      <td>15930.000000</td>\n",
       "      <td>14485.000000</td>\n",
       "      <td>0.940000</td>\n",
       "    </tr>\n",
       "    <tr>\n",
       "      <th>75%</th>\n",
       "      <td>16701.000000</td>\n",
       "      <td>15392.000000</td>\n",
       "      <td>0.960000</td>\n",
       "    </tr>\n",
       "    <tr>\n",
       "      <th>max</th>\n",
       "      <td>22951.000000</td>\n",
       "      <td>22171.000000</td>\n",
       "      <td>0.990000</td>\n",
       "    </tr>\n",
       "  </tbody>\n",
       "</table>\n",
       "</div>"
      ],
      "text/plain": [
       "       loans_posted  loans_funded_completely      ratio\n",
       "count     43.000000                43.000000  43.000000\n",
       "mean   15609.418605             14485.441860   0.917907\n",
       "std     2777.194115              2846.428893   0.097847\n",
       "min     3706.000000              1309.000000   0.350000\n",
       "25%    14512.000000             13482.500000   0.905000\n",
       "50%    15930.000000             14485.000000   0.940000\n",
       "75%    16701.000000             15392.000000   0.960000\n",
       "max    22951.000000             22171.000000   0.990000"
      ]
     },
     "execution_count": 61,
     "metadata": {},
     "output_type": "execute_result"
    }
   ],
   "source": [
    "time_monthly_count.describe()"
   ]
  },
  {
   "cell_type": "markdown",
   "metadata": {},
   "source": [
    "The completely-funded rate of the loans posted in 2017-07 is much lower than the other months. 2017-07 is the last month in the dataset, in which many loans posted had no enough time to be funded completely. The performance of 2017-06, the month before last, is also not as good as the previous months. \n",
    "\n",
    "Before handling the missing value in these two months, let's check the difference between the posted time and the funded time month by month."
   ]
  },
  {
   "cell_type": "code",
   "execution_count": 62,
   "metadata": {
    "ExecuteTime": {
     "end_time": "2021-03-08T08:46:34.671612Z",
     "start_time": "2021-03-08T08:46:24.635392Z"
    }
   },
   "outputs": [],
   "source": [
    "# The date difference between posted time and funded time in the whole time period\n",
    "posted_funded_diff_index = times_parsed_index.funded_time - times_parsed_index.posted_time\n",
    "diff_days = posted_funded_diff_index.apply(lambda x: x.days)"
   ]
  },
  {
   "cell_type": "code",
   "execution_count": 63,
   "metadata": {
    "ExecuteTime": {
     "end_time": "2021-03-08T08:46:34.871030Z",
     "start_time": "2021-03-08T08:46:34.674051Z"
    }
   },
   "outputs": [
    {
     "data": {
      "text/html": [
       "<div>\n",
       "<style scoped>\n",
       "    .dataframe tbody tr th:only-of-type {\n",
       "        vertical-align: middle;\n",
       "    }\n",
       "\n",
       "    .dataframe tbody tr th {\n",
       "        vertical-align: top;\n",
       "    }\n",
       "\n",
       "    .dataframe thead th {\n",
       "        text-align: right;\n",
       "    }\n",
       "</style>\n",
       "<table border=\"1\" class=\"dataframe\">\n",
       "  <thead>\n",
       "    <tr style=\"text-align: right;\">\n",
       "      <th></th>\n",
       "      <th>mean</th>\n",
       "      <th>median</th>\n",
       "      <th>std</th>\n",
       "    </tr>\n",
       "  </thead>\n",
       "  <tbody>\n",
       "    <tr>\n",
       "      <th>count</th>\n",
       "      <td>43.000000</td>\n",
       "      <td>43.000000</td>\n",
       "      <td>43.000000</td>\n",
       "    </tr>\n",
       "    <tr>\n",
       "      <th>mean</th>\n",
       "      <td>14.030976</td>\n",
       "      <td>9.162791</td>\n",
       "      <td>13.191113</td>\n",
       "    </tr>\n",
       "    <tr>\n",
       "      <th>std</th>\n",
       "      <td>3.212325</td>\n",
       "      <td>2.918987</td>\n",
       "      <td>5.058340</td>\n",
       "    </tr>\n",
       "    <tr>\n",
       "      <th>min</th>\n",
       "      <td>6.012987</td>\n",
       "      <td>3.000000</td>\n",
       "      <td>2.999844</td>\n",
       "    </tr>\n",
       "    <tr>\n",
       "      <th>25%</th>\n",
       "      <td>11.554470</td>\n",
       "      <td>7.000000</td>\n",
       "      <td>11.169984</td>\n",
       "    </tr>\n",
       "    <tr>\n",
       "      <th>50%</th>\n",
       "      <td>14.329582</td>\n",
       "      <td>9.000000</td>\n",
       "      <td>11.904812</td>\n",
       "    </tr>\n",
       "    <tr>\n",
       "      <th>75%</th>\n",
       "      <td>16.029707</td>\n",
       "      <td>11.000000</td>\n",
       "      <td>13.214645</td>\n",
       "    </tr>\n",
       "    <tr>\n",
       "      <th>max</th>\n",
       "      <td>24.645584</td>\n",
       "      <td>15.000000</td>\n",
       "      <td>32.009215</td>\n",
       "    </tr>\n",
       "  </tbody>\n",
       "</table>\n",
       "</div>"
      ],
      "text/plain": [
       "            mean     median        std\n",
       "count  43.000000  43.000000  43.000000\n",
       "mean   14.030976   9.162791  13.191113\n",
       "std     3.212325   2.918987   5.058340\n",
       "min     6.012987   3.000000   2.999844\n",
       "25%    11.554470   7.000000  11.169984\n",
       "50%    14.329582   9.000000  11.904812\n",
       "75%    16.029707  11.000000  13.214645\n",
       "max    24.645584  15.000000  32.009215"
      ]
     },
     "execution_count": 63,
     "metadata": {},
     "output_type": "execute_result"
    }
   ],
   "source": [
    "# Resample the time by month and check mean, median, and standard deviation\n",
    "diff_by_month = diff_days.resample('M')\n",
    "diff_median = diff_by_month.median()\n",
    "diff_mean = diff_by_month.mean()\n",
    "diff_std = diff_by_month.std()\n",
    "diff_stat = pd.DataFrame({'mean': diff_mean, 'median': diff_median, 'std':diff_std})\n",
    "diff_stat.describe()"
   ]
  },
  {
   "cell_type": "code",
   "execution_count": 64,
   "metadata": {
    "ExecuteTime": {
     "end_time": "2021-03-08T08:46:35.180969Z",
     "start_time": "2021-03-08T08:46:34.874193Z"
    }
   },
   "outputs": [
    {
     "data": {
      "image/png": "[encoded data removed]",
      "text/plain": [
       "<Figure size 432x288 with 1 Axes>"
      ]
     },
     "metadata": {
      "needs_background": "light"
     },
     "output_type": "display_data"
    }
   ],
   "source": [
    "_ = diff_stat.plot()"
   ]
  },
  {
   "cell_type": "code",
   "execution_count": 65,
   "metadata": {
    "ExecuteTime": {
     "end_time": "2021-03-08T08:46:35.202680Z",
     "start_time": "2021-03-08T08:46:35.184185Z"
    }
   },
   "outputs": [
    {
     "data": {
      "text/plain": [
       "0.8645568766716865"
      ]
     },
     "execution_count": 65,
     "metadata": {},
     "output_type": "execute_result"
    }
   ],
   "source": [
    "# Check the percetile of the diff_days less or equal to 30 days\n",
    "(diff_days.dropna() <= 30).mean()"
   ]
  },
  {
   "cell_type": "markdown",
   "metadata": {},
   "source": [
    "The total days in the last two months, i.e., 2017-07 and 2017-06, are 56 days."
   ]
  },
  {
   "cell_type": "code",
   "execution_count": 66,
   "metadata": {
    "ExecuteTime": {
     "end_time": "2021-03-08T08:46:35.221827Z",
     "start_time": "2021-03-08T08:46:35.206502Z"
    }
   },
   "outputs": [
    {
     "data": {
      "text/plain": [
       "0.9931703683248939"
      ]
     },
     "execution_count": 66,
     "metadata": {},
     "output_type": "execute_result"
    }
   ],
   "source": [
    "# Check the percetile of the diff_days less than 56 days\n",
    "(diff_days.dropna() < 56).mean()"
   ]
  },
  {
   "cell_type": "markdown",
   "metadata": {},
   "source": [
    "\n",
    "The distribution of the difference between posted time and funded time shows that:\n",
    "\n",
    "* The mean and median of the difference changed month by month. \n",
    "* The standard deviation is pretty high in the second half of 2014, which impacted more on the mean value than the median. \n",
    "* The minimal standard deviation in the last two month resulted from the relatively few data points in that time.\n",
    "\n",
    "In addition:\n",
    "* Most of the completely-funded loans got funds within 30 days (According to [Kiva website](https://www.kiva.org/about/how), usually, loans on Kiva have 30 days to successfully fundraise)\n",
    "* More than 99% of the completely-funded loans got funds within 56 days.\n",
    "\n",
    "Missing values in `funded_time` can be explained in two ways: \n",
    "* The first is that the loans had not been completely funded before expiry, which applies to overwhelming majority of the loans before the last two months; \n",
    "* The second is that the loans had no enough time to get full funds, which applies to part of the loans in the last two months.\n",
    "\n",
    "It's hard to say all the incompletely funded loans in the last two months result from not enough time. Considering the considerably-low completely-funded rate, 2017-6 and 2017-7 will be dropped. "
   ]
  },
  {
   "cell_type": "code",
   "execution_count": 67,
   "metadata": {
    "ExecuteTime": {
     "end_time": "2021-03-08T08:46:35.291230Z",
     "start_time": "2021-03-08T08:46:35.224439Z"
    }
   },
   "outputs": [
    {
     "data": {
      "text/plain": [
       "649087   2017-05-31 13:10:34\n",
       "649088   2017-05-31 09:21:43\n",
       "649089   2017-05-31 10:47:09\n",
       "649090   2017-05-31 15:37:08\n",
       "649091   2017-05-31 03:21:57\n",
       "Name: posted_time, dtype: datetime64[ns]"
      ]
     },
     "execution_count": 67,
     "metadata": {},
     "output_type": "execute_result"
    }
   ],
   "source": [
    "# Add the days of getting full funds\n",
    "loans_df['fully_funded_days'] = diff_days.values\n",
    "\n",
    "# Drop the last two months\n",
    "June_index = times_parsed[(times_parsed.posted_time.dt.year==2017) & (times_parsed.posted_time.dt.month==6)].index\n",
    "loans_df = loans_df[:June_index[0]]\n",
    "loans_df.posted_time.tail()"
   ]
  },
  {
   "cell_type": "markdown",
   "metadata": {},
   "source": [
    "#### Funded amount, loan amount, and funded time\n",
    "The missing values in `funded_time` means the loans had not been funded completely, while `funded_amount` less than `loan_amount` also means incompletely-funded loan. Let's check the relationship between them."
   ]
  },
  {
   "cell_type": "code",
   "execution_count": 68,
   "metadata": {
    "ExecuteTime": {
     "end_time": "2021-03-08T08:46:35.331656Z",
     "start_time": "2021-03-08T08:46:35.294177Z"
    }
   },
   "outputs": [],
   "source": [
    "amount_and_time_index = loans[(loans.funded_amount < loans.loan_amount) != (loans.funded_time.isna())].index"
   ]
  },
  {
   "cell_type": "code",
   "execution_count": 69,
   "metadata": {
    "ExecuteTime": {
     "end_time": "2021-03-08T08:46:35.348223Z",
     "start_time": "2021-03-08T08:46:35.333701Z"
    }
   },
   "outputs": [
    {
     "data": {
      "text/html": [
       "<div>\n",
       "<style scoped>\n",
       "    .dataframe tbody tr th:only-of-type {\n",
       "        vertical-align: middle;\n",
       "    }\n",
       "\n",
       "    .dataframe tbody tr th {\n",
       "        vertical-align: top;\n",
       "    }\n",
       "\n",
       "    .dataframe thead th {\n",
       "        text-align: right;\n",
       "    }\n",
       "</style>\n",
       "<table border=\"1\" class=\"dataframe\">\n",
       "  <thead>\n",
       "    <tr style=\"text-align: right;\">\n",
       "      <th></th>\n",
       "      <th>id</th>\n",
       "      <th>loan_amount</th>\n",
       "      <th>funded_amount</th>\n",
       "      <th>posted_time</th>\n",
       "      <th>funded_time</th>\n",
       "    </tr>\n",
       "  </thead>\n",
       "  <tbody>\n",
       "    <tr>\n",
       "      <th>200906</th>\n",
       "      <td>849172</td>\n",
       "      <td>700.0</td>\n",
       "      <td>700.0</td>\n",
       "      <td>2015-03-02 13:07:56+00:00</td>\n",
       "      <td>NaN</td>\n",
       "    </tr>\n",
       "    <tr>\n",
       "      <th>277188</th>\n",
       "      <td>924149</td>\n",
       "      <td>400.0</td>\n",
       "      <td>425.0</td>\n",
       "      <td>2015-07-28 07:14:04+00:00</td>\n",
       "      <td>NaN</td>\n",
       "    </tr>\n",
       "    <tr>\n",
       "      <th>338159</th>\n",
       "      <td>985199</td>\n",
       "      <td>3000.0</td>\n",
       "      <td>3400.0</td>\n",
       "      <td>2015-11-25 10:53:00+00:00</td>\n",
       "      <td>NaN</td>\n",
       "    </tr>\n",
       "  </tbody>\n",
       "</table>\n",
       "</div>"
      ],
      "text/plain": [
       "            id  loan_amount  funded_amount                posted_time  \\\n",
       "200906  849172        700.0          700.0  2015-03-02 13:07:56+00:00   \n",
       "277188  924149        400.0          425.0  2015-07-28 07:14:04+00:00   \n",
       "338159  985199       3000.0         3400.0  2015-11-25 10:53:00+00:00   \n",
       "\n",
       "       funded_time  \n",
       "200906         NaN  \n",
       "277188         NaN  \n",
       "338159         NaN  "
      ]
     },
     "execution_count": 69,
     "metadata": {},
     "output_type": "execute_result"
    }
   ],
   "source": [
    "amount_and_time = loans.iloc[amount_and_time_index][['id','loan_amount', 'funded_amount','posted_time', 'funded_time']]\n",
    "amount_and_time"
   ]
  },
  {
   "cell_type": "markdown",
   "metadata": {},
   "source": [
    "The three loans had been completely funded or over funded, but the funded_time information was missing. We will impute these missing values with the median of the days of getting full-funds according to the loan amount."
   ]
  },
  {
   "cell_type": "code",
   "execution_count": 70,
   "metadata": {
    "ExecuteTime": {
     "end_time": "2021-03-08T08:46:35.535303Z",
     "start_time": "2021-03-08T08:46:35.351198Z"
    }
   },
   "outputs": [],
   "source": [
    "# Calculate the median of the days getting full-funds according to the loan amount\n",
    "loan_amount = loans_df[loans_df.funded_time.notna()].groupby('loan_amount').fully_funded_days.median()"
   ]
  },
  {
   "cell_type": "code",
   "execution_count": 71,
   "metadata": {
    "ExecuteTime": {
     "end_time": "2021-03-08T08:46:38.260816Z",
     "start_time": "2021-03-08T08:46:35.537356Z"
    }
   },
   "outputs": [
    {
     "data": {
      "text/plain": [
       "200906    12.0\n",
       "277188    14.0\n",
       "338159    18.0\n",
       "Name: funded_time, dtype: object"
      ]
     },
     "execution_count": 71,
     "metadata": {},
     "output_type": "execute_result"
    }
   ],
   "source": [
    "# Impute the missing values with the corresponding median\n",
    "median = loan_amount[[400.0,700.0,3000.0]].values\n",
    "loans_df.loc[amount_and_time_index, 'funded_time'] = median\n",
    "loans_df.iloc[amount_and_time_index].funded_time"
   ]
  },
  {
   "cell_type": "markdown",
   "metadata": {},
   "source": [
    "All the remaining missing values will be handled in EDA"
   ]
  },
  {
   "cell_type": "markdown",
   "metadata": {},
   "source": [
    "### Loans_Summary"
   ]
  },
  {
   "cell_type": "code",
   "execution_count": 72,
   "metadata": {
    "ExecuteTime": {
     "end_time": "2021-03-08T08:46:38.566078Z",
     "start_time": "2021-03-08T08:46:38.263910Z"
    }
   },
   "outputs": [
    {
     "name": "stdout",
     "output_type": "stream",
     "text": [
      "<class 'pandas.core.frame.DataFrame'>\n",
      "Int64Index: 649092 entries, 0 to 649091\n",
      "Data columns (total 18 columns):\n",
      " #   Column              Non-Null Count   Dtype         \n",
      "---  ------              --------------   -----         \n",
      " 0   id                  649092 non-null  int64         \n",
      " 1   funded_amount       649092 non-null  float64       \n",
      " 2   loan_amount         649092 non-null  float64       \n",
      " 3   activity            649092 non-null  object        \n",
      " 4   sector              649092 non-null  object        \n",
      " 5   use                 649092 non-null  object        \n",
      " 6   ISO                 649092 non-null  object        \n",
      " 7   country             649092 non-null  object        \n",
      " 8   region              593298 non-null  object        \n",
      " 9   partner_id          635782 non-null  float64       \n",
      " 10  posted_time         649092 non-null  datetime64[ns]\n",
      " 11  funded_time         607582 non-null  object        \n",
      " 12  term_in_months      649092 non-null  float64       \n",
      " 13  lender_count        649092 non-null  int64         \n",
      " 14  tags                649092 non-null  object        \n",
      " 15  borrower_genders    649092 non-null  object        \n",
      " 16  repayment_interval  649092 non-null  object        \n",
      " 17  fully_funded_days   607579 non-null  float64       \n",
      "dtypes: datetime64[ns](1), float64(5), int64(2), object(10)\n",
      "memory usage: 110.2+ MB\n"
     ]
    }
   ],
   "source": [
    "loans_df.info()"
   ]
  },
  {
   "cell_type": "markdown",
   "metadata": {},
   "source": [
    "In the `loans` dataset wrangling process, several main steps are taken as follows:\n",
    "* Remove the columns of `disbursed_date`, `date` and `currency`\n",
    "* Convert 2-letter country code to 3-letter Country ISO Code; fill the missing values\n",
    "\n",
    "* Label all the loans without tags with 'No_tag'\n",
    "* Classify borrower genders; label the missing values with 'unknown'\n",
    "* Fill tags missing value with 'No_tag'; name the duplicate tags uniformly\n",
    "* Convert posted time and funded time to datetime; drop all the loans' data which are posted in 2017-07 and 2017-06; fill three missing value of funded time(generated by error)\n",
    "There are still missing value in several columns, which will be handled in EDA"
   ]
  },
  {
   "cell_type": "markdown",
   "metadata": {},
   "source": [
    "## MPI by the location of region"
   ]
  },
  {
   "cell_type": "markdown",
   "metadata": {},
   "source": [
    "For this project we focus more on loans, i.e., which loans are more attractive to lenders and get full-funds quickly on Kiva. The `loans` dataset contains most information about loans. But for Kiva, knowing the level of poverty of each borrower is critical in order to set investment priorities, help inform lenders, and understand their target communities. On Kiva platform, lenders can choose loans to lend by world region and by countries, so the MPI by the location of region data is imported."
   ]
  },
  {
   "cell_type": "markdown",
   "metadata": {},
   "source": [
    "### MPI_Data Description"
   ]
  },
  {
   "cell_type": "code",
   "execution_count": 73,
   "metadata": {
    "ExecuteTime": {
     "end_time": "2021-03-08T08:46:38.584405Z",
     "start_time": "2021-03-08T08:46:38.568805Z"
    }
   },
   "outputs": [
    {
     "name": "stdout",
     "output_type": "stream",
     "text": [
      "<class 'pandas.core.frame.DataFrame'>\n",
      "RangeIndex: 2772 entries, 0 to 2771\n",
      "Data columns (total 9 columns):\n",
      " #   Column        Non-Null Count  Dtype  \n",
      "---  ------        --------------  -----  \n",
      " 0   LocationName  984 non-null    object \n",
      " 1   ISO           1008 non-null   object \n",
      " 2   country       1008 non-null   object \n",
      " 3   region        984 non-null    object \n",
      " 4   world_region  1008 non-null   object \n",
      " 5   MPI           984 non-null    float64\n",
      " 6   geo           2772 non-null   object \n",
      " 7   lat           892 non-null    float64\n",
      " 8   lon           892 non-null    float64\n",
      "dtypes: float64(3), object(6)\n",
      "memory usage: 195.0+ KB\n"
     ]
    }
   ],
   "source": [
    "mpi_region_locations.info()"
   ]
  },
  {
   "cell_type": "markdown",
   "metadata": {},
   "source": [
    "* Column descriptions:\n",
    "\n",
    "    * LocationName: \"{region}, {country}\" - Unique ID for region\n",
    "    * ISO: Unique ID for country\n",
    "    * country: country name\n",
    "    * region: name of location within country\n",
    "    * world_region: General global region\n",
    "    * MPI: Multi-dimensional poverty index for this region\n",
    "    * geo: Lat-Lon pair\n",
    "    * lat: latitude\n",
    "    * lon: longitude\n"
   ]
  },
  {
   "cell_type": "markdown",
   "metadata": {},
   "source": [
    "### MPI missing values"
   ]
  },
  {
   "cell_type": "markdown",
   "metadata": {},
   "source": [
    "#### Check missing values pattern"
   ]
  },
  {
   "cell_type": "code",
   "execution_count": 74,
   "metadata": {
    "ExecuteTime": {
     "end_time": "2021-03-08T08:46:38.616796Z",
     "start_time": "2021-03-08T08:46:38.587551Z"
    }
   },
   "outputs": [
    {
     "data": {
      "text/html": [
       "<div>\n",
       "<style scoped>\n",
       "    .dataframe tbody tr th:only-of-type {\n",
       "        vertical-align: middle;\n",
       "    }\n",
       "\n",
       "    .dataframe tbody tr th {\n",
       "        vertical-align: top;\n",
       "    }\n",
       "\n",
       "    .dataframe thead th {\n",
       "        text-align: right;\n",
       "    }\n",
       "</style>\n",
       "<table border=\"1\" class=\"dataframe\">\n",
       "  <thead>\n",
       "    <tr style=\"text-align: right;\">\n",
       "      <th></th>\n",
       "      <th>Column Name</th>\n",
       "      <th>Missings</th>\n",
       "      <th>Missing_pct</th>\n",
       "    </tr>\n",
       "  </thead>\n",
       "  <tbody>\n",
       "    <tr>\n",
       "      <th>0</th>\n",
       "      <td>lat</td>\n",
       "      <td>1880</td>\n",
       "      <td>0.68</td>\n",
       "    </tr>\n",
       "    <tr>\n",
       "      <th>1</th>\n",
       "      <td>lon</td>\n",
       "      <td>1880</td>\n",
       "      <td>0.68</td>\n",
       "    </tr>\n",
       "    <tr>\n",
       "      <th>2</th>\n",
       "      <td>LocationName</td>\n",
       "      <td>1788</td>\n",
       "      <td>0.65</td>\n",
       "    </tr>\n",
       "    <tr>\n",
       "      <th>3</th>\n",
       "      <td>region</td>\n",
       "      <td>1788</td>\n",
       "      <td>0.65</td>\n",
       "    </tr>\n",
       "    <tr>\n",
       "      <th>4</th>\n",
       "      <td>MPI</td>\n",
       "      <td>1788</td>\n",
       "      <td>0.65</td>\n",
       "    </tr>\n",
       "    <tr>\n",
       "      <th>5</th>\n",
       "      <td>ISO</td>\n",
       "      <td>1764</td>\n",
       "      <td>0.64</td>\n",
       "    </tr>\n",
       "    <tr>\n",
       "      <th>6</th>\n",
       "      <td>country</td>\n",
       "      <td>1764</td>\n",
       "      <td>0.64</td>\n",
       "    </tr>\n",
       "    <tr>\n",
       "      <th>7</th>\n",
       "      <td>world_region</td>\n",
       "      <td>1764</td>\n",
       "      <td>0.64</td>\n",
       "    </tr>\n",
       "  </tbody>\n",
       "</table>\n",
       "</div>"
      ],
      "text/plain": [
       "    Column Name  Missings  Missing_pct\n",
       "0           lat      1880         0.68\n",
       "1           lon      1880         0.68\n",
       "2  LocationName      1788         0.65\n",
       "3        region      1788         0.65\n",
       "4           MPI      1788         0.65\n",
       "5           ISO      1764         0.64\n",
       "6       country      1764         0.64\n",
       "7  world_region      1764         0.64"
      ]
     },
     "execution_count": 74,
     "metadata": {},
     "output_type": "execute_result"
    }
   ],
   "source": [
    "def missing_vals(data_):\n",
    "    # Check the number of missing values and the percentage\n",
    "    miss_     = data_.isnull().sum()\n",
    "    miss_pct  = data_.isnull().sum()/data_.shape[0]\n",
    "    \n",
    "    miss_pct  = pd.concat([miss_, miss_pct], axis =1)\n",
    "    miss_pct.reset_index(inplace=True)\n",
    "    miss_cols = miss_pct.rename(columns={'index':'Column Name', 0:'Missings', 1:'Missing_pct'})\n",
    "    \n",
    "    miss_cols = miss_cols[miss_cols.iloc[:,1]!=0].sort_values('Missing_pct', ascending=False).round(2)\n",
    "    miss_cols.reset_index(inplace=True, drop=True)\n",
    "    \n",
    "    return miss_cols\n",
    "\n",
    "miss_MPI = missing_vals(mpi_region_locations)\n",
    "miss_MPI"
   ]
  },
  {
   "cell_type": "markdown",
   "metadata": {},
   "source": [
    "It looks wild that all the factors except `geo` have very high missing value rate."
   ]
  },
  {
   "cell_type": "code",
   "execution_count": 75,
   "metadata": {
    "ExecuteTime": {
     "end_time": "2021-03-08T08:46:39.010931Z",
     "start_time": "2021-03-08T08:46:38.619196Z"
    }
   },
   "outputs": [
    {
     "data": {
      "image/png": "[encoded data removed]",
      "text/plain": [
       "<Figure size 1800x720 with 2 Axes>"
      ]
     },
     "metadata": {
      "needs_background": "light"
     },
     "output_type": "display_data"
    }
   ],
   "source": [
    "# Check missing value ditribution\n",
    "_ = msno.matrix(mpi_region_locations)"
   ]
  },
  {
   "cell_type": "markdown",
   "metadata": {},
   "source": [
    "The missing values' pattern shows:\n",
    "\n",
    "* From a particular row on, all the columns expect `geo` are full-filled with missing values\n",
    "* `LocationName`, `region`, and `MPI` have the same pattern, which makes sense because `LocationName` combines `country` and `region`, and `MPI` is region-level. \n",
    "* `lat` and `lon` also have the same pattern."
   ]
  },
  {
   "cell_type": "code",
   "execution_count": 76,
   "metadata": {
    "ExecuteTime": {
     "end_time": "2021-03-08T08:46:39.020813Z",
     "start_time": "2021-03-08T08:46:39.014916Z"
    }
   },
   "outputs": [
    {
     "data": {
      "text/plain": [
       "1007"
      ]
     },
     "execution_count": 76,
     "metadata": {},
     "output_type": "execute_result"
    }
   ],
   "source": [
    "mpi_region_locations.country.last_valid_index()"
   ]
  },
  {
   "cell_type": "code",
   "execution_count": 77,
   "metadata": {
    "ExecuteTime": {
     "end_time": "2021-03-08T08:46:39.045275Z",
     "start_time": "2021-03-08T08:46:39.026006Z"
    }
   },
   "outputs": [
    {
     "name": "stdout",
     "output_type": "stream",
     "text": [
      "<class 'pandas.core.frame.DataFrame'>\n",
      "RangeIndex: 1764 entries, 1008 to 2771\n",
      "Data columns (total 9 columns):\n",
      " #   Column        Non-Null Count  Dtype  \n",
      "---  ------        --------------  -----  \n",
      " 0   LocationName  0 non-null      object \n",
      " 1   ISO           0 non-null      object \n",
      " 2   country       0 non-null      object \n",
      " 3   region        0 non-null      object \n",
      " 4   world_region  0 non-null      object \n",
      " 5   MPI           0 non-null      float64\n",
      " 6   geo           1764 non-null   object \n",
      " 7   lat           0 non-null      float64\n",
      " 8   lon           0 non-null      float64\n",
      "dtypes: float64(3), object(6)\n",
      "memory usage: 124.2+ KB\n"
     ]
    }
   ],
   "source": [
    "# Check the dataframe after the 1007th row\n",
    "mpi_region_locations_1008 = mpi_region_locations.iloc[1008:, :]\n",
    "mpi_region_locations_1008.info()"
   ]
  },
  {
   "cell_type": "markdown",
   "metadata": {},
   "source": [
    "All the rows after the 1007th row are invalid, which will be dropped."
   ]
  },
  {
   "cell_type": "code",
   "execution_count": 78,
   "metadata": {
    "ExecuteTime": {
     "end_time": "2021-03-08T08:46:39.058802Z",
     "start_time": "2021-03-08T08:46:39.052107Z"
    }
   },
   "outputs": [],
   "source": [
    "# Drop the rows from the 1007th to the end\n",
    "mpi_region_locations_df = mpi_region_locations[:1008]"
   ]
  },
  {
   "cell_type": "code",
   "execution_count": 79,
   "metadata": {
    "ExecuteTime": {
     "end_time": "2021-03-08T08:46:39.082335Z",
     "start_time": "2021-03-08T08:46:39.063653Z"
    }
   },
   "outputs": [
    {
     "name": "stdout",
     "output_type": "stream",
     "text": [
      "<class 'pandas.core.frame.DataFrame'>\n",
      "RangeIndex: 1008 entries, 0 to 1007\n",
      "Data columns (total 9 columns):\n",
      " #   Column        Non-Null Count  Dtype  \n",
      "---  ------        --------------  -----  \n",
      " 0   LocationName  984 non-null    object \n",
      " 1   ISO           1008 non-null   object \n",
      " 2   country       1008 non-null   object \n",
      " 3   region        984 non-null    object \n",
      " 4   world_region  1008 non-null   object \n",
      " 5   MPI           984 non-null    float64\n",
      " 6   geo           1008 non-null   object \n",
      " 7   lat           892 non-null    float64\n",
      " 8   lon           892 non-null    float64\n",
      "dtypes: float64(3), object(6)\n",
      "memory usage: 71.0+ KB\n"
     ]
    }
   ],
   "source": [
    "mpi_region_locations_df.info()"
   ]
  },
  {
   "cell_type": "code",
   "execution_count": 80,
   "metadata": {
    "ExecuteTime": {
     "end_time": "2021-03-08T08:46:39.117309Z",
     "start_time": "2021-03-08T08:46:39.085979Z"
    }
   },
   "outputs": [
    {
     "data": {
      "text/html": [
       "<div>\n",
       "<style scoped>\n",
       "    .dataframe tbody tr th:only-of-type {\n",
       "        vertical-align: middle;\n",
       "    }\n",
       "\n",
       "    .dataframe tbody tr th {\n",
       "        vertical-align: top;\n",
       "    }\n",
       "\n",
       "    .dataframe thead th {\n",
       "        text-align: right;\n",
       "    }\n",
       "</style>\n",
       "<table border=\"1\" class=\"dataframe\">\n",
       "  <thead>\n",
       "    <tr style=\"text-align: right;\">\n",
       "      <th></th>\n",
       "      <th>LocationName</th>\n",
       "      <th>ISO</th>\n",
       "      <th>country</th>\n",
       "      <th>region</th>\n",
       "      <th>world_region</th>\n",
       "      <th>MPI</th>\n",
       "      <th>geo</th>\n",
       "      <th>lat</th>\n",
       "      <th>lon</th>\n",
       "    </tr>\n",
       "  </thead>\n",
       "  <tbody>\n",
       "    <tr>\n",
       "      <th>34</th>\n",
       "      <td>NaN</td>\n",
       "      <td>ALB</td>\n",
       "      <td>Albania</td>\n",
       "      <td>NaN</td>\n",
       "      <td>Europe and Central Asia</td>\n",
       "      <td>NaN</td>\n",
       "      <td>(1000.0, 1000.0)</td>\n",
       "      <td>NaN</td>\n",
       "      <td>NaN</td>\n",
       "    </tr>\n",
       "    <tr>\n",
       "      <th>35</th>\n",
       "      <td>NaN</td>\n",
       "      <td>ARM</td>\n",
       "      <td>Armenia</td>\n",
       "      <td>NaN</td>\n",
       "      <td>Europe and Central Asia</td>\n",
       "      <td>NaN</td>\n",
       "      <td>(1000.0, 1000.0)</td>\n",
       "      <td>NaN</td>\n",
       "      <td>NaN</td>\n",
       "    </tr>\n",
       "    <tr>\n",
       "      <th>36</th>\n",
       "      <td>NaN</td>\n",
       "      <td>AZE</td>\n",
       "      <td>Azerbaijan</td>\n",
       "      <td>NaN</td>\n",
       "      <td>Europe and Central Asia</td>\n",
       "      <td>NaN</td>\n",
       "      <td>(1000.0, 1000.0)</td>\n",
       "      <td>NaN</td>\n",
       "      <td>NaN</td>\n",
       "    </tr>\n",
       "    <tr>\n",
       "      <th>74</th>\n",
       "      <td>NaN</td>\n",
       "      <td>BIH</td>\n",
       "      <td>Bosnia and Herzegovina</td>\n",
       "      <td>NaN</td>\n",
       "      <td>Europe and Central Asia</td>\n",
       "      <td>NaN</td>\n",
       "      <td>(1000.0, 1000.0)</td>\n",
       "      <td>NaN</td>\n",
       "      <td>NaN</td>\n",
       "    </tr>\n",
       "    <tr>\n",
       "      <th>118</th>\n",
       "      <td>NaN</td>\n",
       "      <td>BRB</td>\n",
       "      <td>Barbados</td>\n",
       "      <td>NaN</td>\n",
       "      <td>Latin America and Caribbean</td>\n",
       "      <td>NaN</td>\n",
       "      <td>(1000.0, 1000.0)</td>\n",
       "      <td>NaN</td>\n",
       "      <td>NaN</td>\n",
       "    </tr>\n",
       "    <tr>\n",
       "      <th>234</th>\n",
       "      <td>NaN</td>\n",
       "      <td>DZA</td>\n",
       "      <td>Algeria</td>\n",
       "      <td>NaN</td>\n",
       "      <td>Arab States</td>\n",
       "      <td>NaN</td>\n",
       "      <td>(1000.0, 1000.0)</td>\n",
       "      <td>NaN</td>\n",
       "      <td>NaN</td>\n",
       "    </tr>\n",
       "    <tr>\n",
       "      <th>413</th>\n",
       "      <td>NaN</td>\n",
       "      <td>IND</td>\n",
       "      <td>India</td>\n",
       "      <td>NaN</td>\n",
       "      <td>South Asia</td>\n",
       "      <td>NaN</td>\n",
       "      <td>(1000.0, 1000.0)</td>\n",
       "      <td>NaN</td>\n",
       "      <td>NaN</td>\n",
       "    </tr>\n",
       "    <tr>\n",
       "      <th>449</th>\n",
       "      <td>NaN</td>\n",
       "      <td>KAZ</td>\n",
       "      <td>Kazakhstan</td>\n",
       "      <td>NaN</td>\n",
       "      <td>Europe and Central Asia</td>\n",
       "      <td>NaN</td>\n",
       "      <td>(1000.0, 1000.0)</td>\n",
       "      <td>NaN</td>\n",
       "      <td>NaN</td>\n",
       "    </tr>\n",
       "    <tr>\n",
       "      <th>458</th>\n",
       "      <td>NaN</td>\n",
       "      <td>KGZ</td>\n",
       "      <td>Kyrgyzstan</td>\n",
       "      <td>NaN</td>\n",
       "      <td>Europe and Central Asia</td>\n",
       "      <td>NaN</td>\n",
       "      <td>(1000.0, 1000.0)</td>\n",
       "      <td>NaN</td>\n",
       "      <td>NaN</td>\n",
       "    </tr>\n",
       "    <tr>\n",
       "      <th>510</th>\n",
       "      <td>NaN</td>\n",
       "      <td>LCA</td>\n",
       "      <td>Saint Lucia</td>\n",
       "      <td>NaN</td>\n",
       "      <td>Latin America and Caribbean</td>\n",
       "      <td>NaN</td>\n",
       "      <td>(1000.0, 1000.0)</td>\n",
       "      <td>NaN</td>\n",
       "      <td>NaN</td>\n",
       "    </tr>\n",
       "    <tr>\n",
       "      <th>535</th>\n",
       "      <td>NaN</td>\n",
       "      <td>MDA</td>\n",
       "      <td>Moldova, Republic of</td>\n",
       "      <td>NaN</td>\n",
       "      <td>Europe and Central Asia</td>\n",
       "      <td>NaN</td>\n",
       "      <td>(1000.0, 1000.0)</td>\n",
       "      <td>NaN</td>\n",
       "      <td>NaN</td>\n",
       "    </tr>\n",
       "    <tr>\n",
       "      <th>558</th>\n",
       "      <td>NaN</td>\n",
       "      <td>MDV</td>\n",
       "      <td>Maldives</td>\n",
       "      <td>NaN</td>\n",
       "      <td>South Asia</td>\n",
       "      <td>NaN</td>\n",
       "      <td>(1000.0, 1000.0)</td>\n",
       "      <td>NaN</td>\n",
       "      <td>NaN</td>\n",
       "    </tr>\n",
       "    <tr>\n",
       "      <th>559</th>\n",
       "      <td>NaN</td>\n",
       "      <td>MEX</td>\n",
       "      <td>Mexico</td>\n",
       "      <td>NaN</td>\n",
       "      <td>Latin America and Caribbean</td>\n",
       "      <td>NaN</td>\n",
       "      <td>(1000.0, 1000.0)</td>\n",
       "      <td>NaN</td>\n",
       "      <td>NaN</td>\n",
       "    </tr>\n",
       "    <tr>\n",
       "      <th>560</th>\n",
       "      <td>NaN</td>\n",
       "      <td>MKD</td>\n",
       "      <td>Macedonia, The former Yugoslav Republic of</td>\n",
       "      <td>NaN</td>\n",
       "      <td>Europe and Central Asia</td>\n",
       "      <td>NaN</td>\n",
       "      <td>(1000.0, 1000.0)</td>\n",
       "      <td>NaN</td>\n",
       "      <td>NaN</td>\n",
       "    </tr>\n",
       "    <tr>\n",
       "      <th>582</th>\n",
       "      <td>NaN</td>\n",
       "      <td>MNE</td>\n",
       "      <td>Montenegro</td>\n",
       "      <td>NaN</td>\n",
       "      <td>Europe and Central Asia</td>\n",
       "      <td>NaN</td>\n",
       "      <td>(1000.0, 1000.0)</td>\n",
       "      <td>NaN</td>\n",
       "      <td>NaN</td>\n",
       "    </tr>\n",
       "    <tr>\n",
       "      <th>781</th>\n",
       "      <td>NaN</td>\n",
       "      <td>PSE</td>\n",
       "      <td>Palestine, State ofa</td>\n",
       "      <td>NaN</td>\n",
       "      <td>Arab States</td>\n",
       "      <td>NaN</td>\n",
       "      <td>(1000.0, 1000.0)</td>\n",
       "      <td>NaN</td>\n",
       "      <td>NaN</td>\n",
       "    </tr>\n",
       "    <tr>\n",
       "      <th>837</th>\n",
       "      <td>NaN</td>\n",
       "      <td>SOM</td>\n",
       "      <td>Somalia</td>\n",
       "      <td>NaN</td>\n",
       "      <td>Arab States</td>\n",
       "      <td>NaN</td>\n",
       "      <td>(1000.0, 1000.0)</td>\n",
       "      <td>NaN</td>\n",
       "      <td>NaN</td>\n",
       "    </tr>\n",
       "    <tr>\n",
       "      <th>838</th>\n",
       "      <td>NaN</td>\n",
       "      <td>SRB</td>\n",
       "      <td>Serbia</td>\n",
       "      <td>NaN</td>\n",
       "      <td>Europe and Central Asia</td>\n",
       "      <td>NaN</td>\n",
       "      <td>(1000.0, 1000.0)</td>\n",
       "      <td>NaN</td>\n",
       "      <td>NaN</td>\n",
       "    </tr>\n",
       "    <tr>\n",
       "      <th>907</th>\n",
       "      <td>NaN</td>\n",
       "      <td>THA</td>\n",
       "      <td>Thailand</td>\n",
       "      <td>NaN</td>\n",
       "      <td>East Asia and the Pacific</td>\n",
       "      <td>NaN</td>\n",
       "      <td>(1000.0, 1000.0)</td>\n",
       "      <td>NaN</td>\n",
       "      <td>NaN</td>\n",
       "    </tr>\n",
       "    <tr>\n",
       "      <th>913</th>\n",
       "      <td>NaN</td>\n",
       "      <td>TKM</td>\n",
       "      <td>Turkmenistan</td>\n",
       "      <td>NaN</td>\n",
       "      <td>Europe and Central Asia</td>\n",
       "      <td>NaN</td>\n",
       "      <td>(1000.0, 1000.0)</td>\n",
       "      <td>NaN</td>\n",
       "      <td>NaN</td>\n",
       "    </tr>\n",
       "    <tr>\n",
       "      <th>932</th>\n",
       "      <td>NaN</td>\n",
       "      <td>TUN</td>\n",
       "      <td>Tunisia</td>\n",
       "      <td>NaN</td>\n",
       "      <td>Arab States</td>\n",
       "      <td>NaN</td>\n",
       "      <td>(1000.0, 1000.0)</td>\n",
       "      <td>NaN</td>\n",
       "      <td>NaN</td>\n",
       "    </tr>\n",
       "    <tr>\n",
       "      <th>952</th>\n",
       "      <td>NaN</td>\n",
       "      <td>UKR</td>\n",
       "      <td>Ukraine</td>\n",
       "      <td>NaN</td>\n",
       "      <td>Europe and Central Asia</td>\n",
       "      <td>NaN</td>\n",
       "      <td>(1000.0, 1000.0)</td>\n",
       "      <td>NaN</td>\n",
       "      <td>NaN</td>\n",
       "    </tr>\n",
       "    <tr>\n",
       "      <th>965</th>\n",
       "      <td>NaN</td>\n",
       "      <td>VUT</td>\n",
       "      <td>Vanuatu</td>\n",
       "      <td>NaN</td>\n",
       "      <td>East Asia and the Pacific</td>\n",
       "      <td>NaN</td>\n",
       "      <td>(1000.0, 1000.0)</td>\n",
       "      <td>NaN</td>\n",
       "      <td>NaN</td>\n",
       "    </tr>\n",
       "    <tr>\n",
       "      <th>987</th>\n",
       "      <td>NaN</td>\n",
       "      <td>ZAF</td>\n",
       "      <td>South Africa</td>\n",
       "      <td>NaN</td>\n",
       "      <td>Sub-Saharan Africa</td>\n",
       "      <td>NaN</td>\n",
       "      <td>(1000.0, 1000.0)</td>\n",
       "      <td>NaN</td>\n",
       "      <td>NaN</td>\n",
       "    </tr>\n",
       "  </tbody>\n",
       "</table>\n",
       "</div>"
      ],
      "text/plain": [
       "    LocationName  ISO                                     country region  \\\n",
       "34           NaN  ALB                                     Albania    NaN   \n",
       "35           NaN  ARM                                     Armenia    NaN   \n",
       "36           NaN  AZE                                  Azerbaijan    NaN   \n",
       "74           NaN  BIH                      Bosnia and Herzegovina    NaN   \n",
       "118          NaN  BRB                                    Barbados    NaN   \n",
       "234          NaN  DZA                                     Algeria    NaN   \n",
       "413          NaN  IND                                       India    NaN   \n",
       "449          NaN  KAZ                                  Kazakhstan    NaN   \n",
       "458          NaN  KGZ                                  Kyrgyzstan    NaN   \n",
       "510          NaN  LCA                                 Saint Lucia    NaN   \n",
       "535          NaN  MDA                        Moldova, Republic of    NaN   \n",
       "558          NaN  MDV                                    Maldives    NaN   \n",
       "559          NaN  MEX                                      Mexico    NaN   \n",
       "560          NaN  MKD  Macedonia, The former Yugoslav Republic of    NaN   \n",
       "582          NaN  MNE                                  Montenegro    NaN   \n",
       "781          NaN  PSE                        Palestine, State ofa    NaN   \n",
       "837          NaN  SOM                                     Somalia    NaN   \n",
       "838          NaN  SRB                                      Serbia    NaN   \n",
       "907          NaN  THA                                    Thailand    NaN   \n",
       "913          NaN  TKM                                Turkmenistan    NaN   \n",
       "932          NaN  TUN                                     Tunisia    NaN   \n",
       "952          NaN  UKR                                     Ukraine    NaN   \n",
       "965          NaN  VUT                                     Vanuatu    NaN   \n",
       "987          NaN  ZAF                                South Africa    NaN   \n",
       "\n",
       "                    world_region  MPI               geo  lat  lon  \n",
       "34       Europe and Central Asia  NaN  (1000.0, 1000.0)  NaN  NaN  \n",
       "35       Europe and Central Asia  NaN  (1000.0, 1000.0)  NaN  NaN  \n",
       "36       Europe and Central Asia  NaN  (1000.0, 1000.0)  NaN  NaN  \n",
       "74       Europe and Central Asia  NaN  (1000.0, 1000.0)  NaN  NaN  \n",
       "118  Latin America and Caribbean  NaN  (1000.0, 1000.0)  NaN  NaN  \n",
       "234                  Arab States  NaN  (1000.0, 1000.0)  NaN  NaN  \n",
       "413                   South Asia  NaN  (1000.0, 1000.0)  NaN  NaN  \n",
       "449      Europe and Central Asia  NaN  (1000.0, 1000.0)  NaN  NaN  \n",
       "458      Europe and Central Asia  NaN  (1000.0, 1000.0)  NaN  NaN  \n",
       "510  Latin America and Caribbean  NaN  (1000.0, 1000.0)  NaN  NaN  \n",
       "535      Europe and Central Asia  NaN  (1000.0, 1000.0)  NaN  NaN  \n",
       "558                   South Asia  NaN  (1000.0, 1000.0)  NaN  NaN  \n",
       "559  Latin America and Caribbean  NaN  (1000.0, 1000.0)  NaN  NaN  \n",
       "560      Europe and Central Asia  NaN  (1000.0, 1000.0)  NaN  NaN  \n",
       "582      Europe and Central Asia  NaN  (1000.0, 1000.0)  NaN  NaN  \n",
       "781                  Arab States  NaN  (1000.0, 1000.0)  NaN  NaN  \n",
       "837                  Arab States  NaN  (1000.0, 1000.0)  NaN  NaN  \n",
       "838      Europe and Central Asia  NaN  (1000.0, 1000.0)  NaN  NaN  \n",
       "907    East Asia and the Pacific  NaN  (1000.0, 1000.0)  NaN  NaN  \n",
       "913      Europe and Central Asia  NaN  (1000.0, 1000.0)  NaN  NaN  \n",
       "932                  Arab States  NaN  (1000.0, 1000.0)  NaN  NaN  \n",
       "952      Europe and Central Asia  NaN  (1000.0, 1000.0)  NaN  NaN  \n",
       "965    East Asia and the Pacific  NaN  (1000.0, 1000.0)  NaN  NaN  \n",
       "987           Sub-Saharan Africa  NaN  (1000.0, 1000.0)  NaN  NaN  "
      ]
     },
     "execution_count": 80,
     "metadata": {},
     "output_type": "execute_result"
    }
   ],
   "source": [
    "mpi_region_locations_df[mpi_region_locations_df.LocationName.isna()]"
   ]
  },
  {
   "cell_type": "markdown",
   "metadata": {},
   "source": [
    "There is no valid information about the region, MPI, and geographic coordinates, so all these rows will be dropped."
   ]
  },
  {
   "cell_type": "code",
   "execution_count": 81,
   "metadata": {
    "ExecuteTime": {
     "end_time": "2021-03-08T08:46:39.127227Z",
     "start_time": "2021-03-08T08:46:39.120645Z"
    }
   },
   "outputs": [],
   "source": [
    "mpi_region_locations_df = mpi_region_locations_df[mpi_region_locations_df.LocationName.notna()]"
   ]
  },
  {
   "cell_type": "markdown",
   "metadata": {},
   "source": [
    "#### Latitude and longitude\n",
    "There are still missing values in `lat` and `lon` features."
   ]
  },
  {
   "cell_type": "code",
   "execution_count": 82,
   "metadata": {
    "ExecuteTime": {
     "end_time": "2021-03-08T08:46:39.174526Z",
     "start_time": "2021-03-08T08:46:39.131336Z"
    }
   },
   "outputs": [
    {
     "data": {
      "text/html": [
       "<div>\n",
       "<style scoped>\n",
       "    .dataframe tbody tr th:only-of-type {\n",
       "        vertical-align: middle;\n",
       "    }\n",
       "\n",
       "    .dataframe tbody tr th {\n",
       "        vertical-align: top;\n",
       "    }\n",
       "\n",
       "    .dataframe thead th {\n",
       "        text-align: right;\n",
       "    }\n",
       "</style>\n",
       "<table border=\"1\" class=\"dataframe\">\n",
       "  <thead>\n",
       "    <tr style=\"text-align: right;\">\n",
       "      <th></th>\n",
       "      <th>LocationName</th>\n",
       "      <th>ISO</th>\n",
       "      <th>country</th>\n",
       "      <th>region</th>\n",
       "      <th>world_region</th>\n",
       "      <th>MPI</th>\n",
       "      <th>geo</th>\n",
       "      <th>lat</th>\n",
       "      <th>lon</th>\n",
       "    </tr>\n",
       "  </thead>\n",
       "  <tbody>\n",
       "    <tr>\n",
       "      <th>51</th>\n",
       "      <td>Ouðmð, Benin</td>\n",
       "      <td>BEN</td>\n",
       "      <td>Benin</td>\n",
       "      <td>Ouðmð</td>\n",
       "      <td>Sub-Saharan Africa</td>\n",
       "      <td>0.238</td>\n",
       "      <td>(1000.0, 1000.0)</td>\n",
       "      <td>NaN</td>\n",
       "      <td>NaN</td>\n",
       "    </tr>\n",
       "    <tr>\n",
       "      <th>63</th>\n",
       "      <td>Nord, Burkina Faso</td>\n",
       "      <td>BFA</td>\n",
       "      <td>Burkina Faso</td>\n",
       "      <td>Nord</td>\n",
       "      <td>Sub-Saharan Africa</td>\n",
       "      <td>0.581</td>\n",
       "      <td>(1000.0, 1000.0)</td>\n",
       "      <td>NaN</td>\n",
       "      <td>NaN</td>\n",
       "    </tr>\n",
       "    <tr>\n",
       "      <th>86</th>\n",
       "      <td>Potosð, Bolivia, Plurinational State of</td>\n",
       "      <td>BOL</td>\n",
       "      <td>Bolivia, Plurinational State of</td>\n",
       "      <td>Potosð</td>\n",
       "      <td>Latin America and Caribbean</td>\n",
       "      <td>0.168</td>\n",
       "      <td>(1000.0, 1000.0)</td>\n",
       "      <td>NaN</td>\n",
       "      <td>NaN</td>\n",
       "    </tr>\n",
       "    <tr>\n",
       "      <th>93</th>\n",
       "      <td>Amapð, Brazil</td>\n",
       "      <td>BRA</td>\n",
       "      <td>Brazil</td>\n",
       "      <td>Amapð</td>\n",
       "      <td>Latin America and Caribbean</td>\n",
       "      <td>0.022</td>\n",
       "      <td>(1000.0, 1000.0)</td>\n",
       "      <td>NaN</td>\n",
       "      <td>NaN</td>\n",
       "    </tr>\n",
       "    <tr>\n",
       "      <th>98</th>\n",
       "      <td>Espðrito Santo, Brazil</td>\n",
       "      <td>BRA</td>\n",
       "      <td>Brazil</td>\n",
       "      <td>Espðrito Santo</td>\n",
       "      <td>Latin America and Caribbean</td>\n",
       "      <td>0.018</td>\n",
       "      <td>(1000.0, 1000.0)</td>\n",
       "      <td>NaN</td>\n",
       "      <td>NaN</td>\n",
       "    </tr>\n",
       "    <tr>\n",
       "      <th>...</th>\n",
       "      <td>...</td>\n",
       "      <td>...</td>\n",
       "      <td>...</td>\n",
       "      <td>...</td>\n",
       "      <td>...</td>\n",
       "      <td>...</td>\n",
       "      <td>...</td>\n",
       "      <td>...</td>\n",
       "      <td>...</td>\n",
       "    </tr>\n",
       "    <tr>\n",
       "      <th>897</th>\n",
       "      <td>Salamat, Chad</td>\n",
       "      <td>TCD</td>\n",
       "      <td>Chad</td>\n",
       "      <td>Salamat</td>\n",
       "      <td>Sub-Saharan Africa</td>\n",
       "      <td>0.678</td>\n",
       "      <td>(1000.0, 1000.0)</td>\n",
       "      <td>NaN</td>\n",
       "      <td>NaN</td>\n",
       "    </tr>\n",
       "    <tr>\n",
       "      <th>924</th>\n",
       "      <td>Manatuto, Timor-Leste</td>\n",
       "      <td>TLS</td>\n",
       "      <td>Timor-Leste</td>\n",
       "      <td>Manatuto</td>\n",
       "      <td>East Asia and the Pacific</td>\n",
       "      <td>0.295</td>\n",
       "      <td>(1000.0, 1000.0)</td>\n",
       "      <td>NaN</td>\n",
       "      <td>NaN</td>\n",
       "    </tr>\n",
       "    <tr>\n",
       "      <th>958</th>\n",
       "      <td>Tashkent, Uzbekistan</td>\n",
       "      <td>UZB</td>\n",
       "      <td>Uzbekistan</td>\n",
       "      <td>Tashkent</td>\n",
       "      <td>Europe and Central Asia</td>\n",
       "      <td>0.001</td>\n",
       "      <td>(1000.0, 1000.0)</td>\n",
       "      <td>NaN</td>\n",
       "      <td>NaN</td>\n",
       "    </tr>\n",
       "    <tr>\n",
       "      <th>960</th>\n",
       "      <td>Northern Midlands and Mountain area, Viet Nam</td>\n",
       "      <td>VNM</td>\n",
       "      <td>Viet Nam</td>\n",
       "      <td>Northern Midlands and Mountain area</td>\n",
       "      <td>East Asia and the Pacific</td>\n",
       "      <td>0.064</td>\n",
       "      <td>(1000.0, 1000.0)</td>\n",
       "      <td>NaN</td>\n",
       "      <td>NaN</td>\n",
       "    </tr>\n",
       "    <tr>\n",
       "      <th>985</th>\n",
       "      <td>Aldhalae, Yemen</td>\n",
       "      <td>YEM</td>\n",
       "      <td>Yemen</td>\n",
       "      <td>Aldhalae</td>\n",
       "      <td>Arab States</td>\n",
       "      <td>0.200</td>\n",
       "      <td>(1000.0, 1000.0)</td>\n",
       "      <td>NaN</td>\n",
       "      <td>NaN</td>\n",
       "    </tr>\n",
       "  </tbody>\n",
       "</table>\n",
       "<p>92 rows × 9 columns</p>\n",
       "</div>"
      ],
      "text/plain": [
       "                                      LocationName  ISO  \\\n",
       "51                                    Ouðmð, Benin  BEN   \n",
       "63                              Nord, Burkina Faso  BFA   \n",
       "86         Potosð, Bolivia, Plurinational State of  BOL   \n",
       "93                                   Amapð, Brazil  BRA   \n",
       "98                          Espðrito Santo, Brazil  BRA   \n",
       "..                                             ...  ...   \n",
       "897                                  Salamat, Chad  TCD   \n",
       "924                          Manatuto, Timor-Leste  TLS   \n",
       "958                           Tashkent, Uzbekistan  UZB   \n",
       "960  Northern Midlands and Mountain area, Viet Nam  VNM   \n",
       "985                                Aldhalae, Yemen  YEM   \n",
       "\n",
       "                             country                               region  \\\n",
       "51                             Benin                                Ouðmð   \n",
       "63                      Burkina Faso                                 Nord   \n",
       "86   Bolivia, Plurinational State of                               Potosð   \n",
       "93                            Brazil                                Amapð   \n",
       "98                            Brazil                       Espðrito Santo   \n",
       "..                               ...                                  ...   \n",
       "897                             Chad                              Salamat   \n",
       "924                      Timor-Leste                             Manatuto   \n",
       "958                       Uzbekistan                             Tashkent   \n",
       "960                         Viet Nam  Northern Midlands and Mountain area   \n",
       "985                            Yemen                             Aldhalae   \n",
       "\n",
       "                    world_region    MPI               geo  lat  lon  \n",
       "51            Sub-Saharan Africa  0.238  (1000.0, 1000.0)  NaN  NaN  \n",
       "63            Sub-Saharan Africa  0.581  (1000.0, 1000.0)  NaN  NaN  \n",
       "86   Latin America and Caribbean  0.168  (1000.0, 1000.0)  NaN  NaN  \n",
       "93   Latin America and Caribbean  0.022  (1000.0, 1000.0)  NaN  NaN  \n",
       "98   Latin America and Caribbean  0.018  (1000.0, 1000.0)  NaN  NaN  \n",
       "..                           ...    ...               ...  ...  ...  \n",
       "897           Sub-Saharan Africa  0.678  (1000.0, 1000.0)  NaN  NaN  \n",
       "924    East Asia and the Pacific  0.295  (1000.0, 1000.0)  NaN  NaN  \n",
       "958      Europe and Central Asia  0.001  (1000.0, 1000.0)  NaN  NaN  \n",
       "960    East Asia and the Pacific  0.064  (1000.0, 1000.0)  NaN  NaN  \n",
       "985                  Arab States  0.200  (1000.0, 1000.0)  NaN  NaN  \n",
       "\n",
       "[92 rows x 9 columns]"
      ]
     },
     "execution_count": 82,
     "metadata": {},
     "output_type": "execute_result"
    }
   ],
   "source": [
    "null_lat = mpi_region_locations_df[mpi_region_locations_df.lat.isna()]\n",
    "null_lat"
   ]
  },
  {
   "cell_type": "code",
   "execution_count": 83,
   "metadata": {
    "ExecuteTime": {
     "end_time": "2021-03-08T08:46:39.519038Z",
     "start_time": "2021-03-08T08:46:39.178755Z"
    }
   },
   "outputs": [
    {
     "data": {
      "image/png": "[encoded data removed]",
      "text/plain": [
       "<Figure size 432x288 with 1 Axes>"
      ]
     },
     "metadata": {
      "needs_background": "light"
     },
     "output_type": "display_data"
    }
   ],
   "source": [
    "# Check the missing value distribution\n",
    "_ = sns.swarmplot(null_lat.index,orient='v')\n",
    "_ = plt.ylabel('index of the invalid geo')"
   ]
  },
  {
   "cell_type": "code",
   "execution_count": 84,
   "metadata": {
    "ExecuteTime": {
     "end_time": "2021-03-08T08:46:39.535907Z",
     "start_time": "2021-03-08T08:46:39.522565Z"
    }
   },
   "outputs": [
    {
     "name": "stderr",
     "output_type": "stream",
     "text": [
      "<ipython-input-84-a0dc1da38efe>:2: UserWarning: Boolean Series key will be reindexed to match DataFrame index.\n",
      "  mpi_region_locations_df[mpi_region_locations.geo=='(1000.0, 1000.0)'].LocationName.value_counts()\n"
     ]
    },
    {
     "data": {
      "text/plain": [
       "Centre-Est, Cote d'Ivoire                       1\n",
       "Qonitara, Syrian Arab Republic                  1\n",
       "Piauð, Brazil                                   1\n",
       "Intibucð, Honduras                              1\n",
       "Atlðntida, Honduras                             1\n",
       "                                               ..\n",
       "Far-WesternTerai, Nepal                         1\n",
       "N'Zðrðkorð, Guinea                              1\n",
       "Nord-Kivu, Congo, Democratic Republic of the    1\n",
       "Cortðs, Honduras                                1\n",
       "Centre-Ouest, Cote d'Ivoire                     1\n",
       "Name: LocationName, Length: 92, dtype: int64"
      ]
     },
     "execution_count": 84,
     "metadata": {},
     "output_type": "execute_result"
    }
   ],
   "source": [
    "# Check the Location Name where the geo is invalid\n",
    "mpi_region_locations_df[mpi_region_locations.geo=='(1000.0, 1000.0)'].LocationName.value_counts()"
   ]
  },
  {
   "cell_type": "markdown",
   "metadata": {},
   "source": [
    "The missing values in `lat` and `lon` result from the invalid `geo`, which seems happens randomly. We will handle these missing values in EDA if needed."
   ]
  },
  {
   "cell_type": "markdown",
   "metadata": {},
   "source": [
    "### MPI_Summary\n",
    "The pattern of missing values is very clear; all the non-meaning rows are removed and the remained invalid geo data will be handled in EDA"
   ]
  }
 ],
 "metadata": {
  "hide_input": false,
  "kernelspec": {
   "display_name": "Python 3",
   "language": "python",
   "name": "python3"
  },
  "language_info": {
   "codemirror_mode": {
    "name": "ipython",
    "version": 3
   },
   "file_extension": ".py",
   "mimetype": "text/x-python",
   "name": "python",
   "nbconvert_exporter": "python",
   "pygments_lexer": "ipython3",
   "version": "3.8.3"
  },
  "toc": {
   "base_numbering": 1,
   "nav_menu": {},
   "number_sections": true,
   "sideBar": true,
   "skip_h1_title": true,
   "title_cell": "Kiva_Crowdfunding_Data_Wrangling",
   "title_sidebar": "Contents",
   "toc_cell": true,
   "toc_position": {
    "height": "calc(100% - 180px)",
    "left": "10px",
    "top": "150px",
    "width": "318px"
   },
   "toc_section_display": true,
   "toc_window_display": false
  },
  "varInspector": {
   "cols": {
    "lenName": 16,
    "lenType": 16,
    "lenVar": 40
   },
   "kernels_config": {
    "python": {
     "delete_cmd_postfix": "",
     "delete_cmd_prefix": "del ",
     "library": "var_list.py",
     "varRefreshCmd": "print(var_dic_list())"
    },
    "r": {
     "delete_cmd_postfix": ") ",
     "delete_cmd_prefix": "rm(",
     "library": "var_list.r",
     "varRefreshCmd": "cat(var_dic_list()) "
    }
   },
   "types_to_exclude": [
    "module",
    "function",
    "builtin_function_or_method",
    "instance",
    "_Feature"
   ],
   "window_display": false
  }
 },
 "nbformat": 4,
 "nbformat_minor": 4
}
