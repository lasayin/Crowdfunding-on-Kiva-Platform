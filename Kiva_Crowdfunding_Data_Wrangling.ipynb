{
 "cells": [
  {
   "cell_type": "markdown",
   "metadata": {
    "toc": true
   },
   "source": [
    "<h1>Kiva_Crowdfunding_Data_Wrangling<span class=\"tocSkip\"></span></h1>\n",
    "<div class=\"toc\"><ul class=\"toc-item\"><li><span><a href=\"#The-loans\" data-toc-modified-id=\"The-loans-1\"><span class=\"toc-item-num\">1&nbsp;&nbsp;</span>The loans</a></span><ul class=\"toc-item\"><li><span><a href=\"#Loans_Data-Description\" data-toc-modified-id=\"Loans_Data-Description-1.1\"><span class=\"toc-item-num\">1.1&nbsp;&nbsp;</span>Loans_Data Description</a></span></li><li><span><a href=\"#Loans_Missing-Value\" data-toc-modified-id=\"Loans_Missing-Value-1.2\"><span class=\"toc-item-num\">1.2&nbsp;&nbsp;</span>Loans_Missing Value</a></span></li><li><span><a href=\"#Redundant-columns\" data-toc-modified-id=\"Redundant-columns-1.3\"><span class=\"toc-item-num\">1.3&nbsp;&nbsp;</span>Redundant columns</a></span></li><li><span><a href=\"#Country-code\" data-toc-modified-id=\"Country-code-1.4\"><span class=\"toc-item-num\">1.4&nbsp;&nbsp;</span>Country code</a></span><ul class=\"toc-item\"><li><span><a href=\"#Country-code_missing-value\" data-toc-modified-id=\"Country-code_missing-value-1.4.1\"><span class=\"toc-item-num\">1.4.1&nbsp;&nbsp;</span>Country code_missing value</a></span></li><li><span><a href=\"#Convert-2-letter-country_code-to-3-letter-Country-ISO-Code\" data-toc-modified-id=\"Convert-2-letter-country_code-to-3-letter-Country-ISO-Code-1.4.2\"><span class=\"toc-item-num\">1.4.2&nbsp;&nbsp;</span>Convert 2-letter country_code to 3-letter Country ISO Code</a></span></li></ul></li><li><span><a href=\"#Posted-time-and-funded-time\" data-toc-modified-id=\"Posted-time-and-funded-time-1.5\"><span class=\"toc-item-num\">1.5&nbsp;&nbsp;</span>Posted time and funded time</a></span><ul class=\"toc-item\"><li><span><a href=\"#Convert-to-datetime\" data-toc-modified-id=\"Convert-to-datetime-1.5.1\"><span class=\"toc-item-num\">1.5.1&nbsp;&nbsp;</span>Convert to datetime</a></span></li><li><span><a href=\"#funded-time_missing-value\" data-toc-modified-id=\"funded-time_missing-value-1.5.2\"><span class=\"toc-item-num\">1.5.2&nbsp;&nbsp;</span>funded time_missing value</a></span></li><li><span><a href=\"#Combine-the-result-of-the-process-above-to-the-main-dataset\" data-toc-modified-id=\"Combine-the-result-of-the-process-above-to-the-main-dataset-1.5.3\"><span class=\"toc-item-num\">1.5.3&nbsp;&nbsp;</span>Combine the result of the process above to the main dataset</a></span></li></ul></li><li><span><a href=\"#Borrowers-gender\" data-toc-modified-id=\"Borrowers-gender-1.6\"><span class=\"toc-item-num\">1.6&nbsp;&nbsp;</span>Borrowers gender</a></span><ul class=\"toc-item\"><li><span><a href=\"#Borrowers-gender_missing-value\" data-toc-modified-id=\"Borrowers-gender_missing-value-1.6.1\"><span class=\"toc-item-num\">1.6.1&nbsp;&nbsp;</span>Borrowers gender_missing value</a></span></li><li><span><a href=\"#Classify-borrowers-gender\" data-toc-modified-id=\"Classify-borrowers-gender-1.6.2\"><span class=\"toc-item-num\">1.6.2&nbsp;&nbsp;</span>Classify borrowers gender</a></span></li></ul></li><li><span><a href=\"#Tags-of-the-loans\" data-toc-modified-id=\"Tags-of-the-loans-1.7\"><span class=\"toc-item-num\">1.7&nbsp;&nbsp;</span>Tags of the loans</a></span><ul class=\"toc-item\"><li><span><a href=\"#Tags_missing-value\" data-toc-modified-id=\"Tags_missing-value-1.7.1\"><span class=\"toc-item-num\">1.7.1&nbsp;&nbsp;</span>Tags_missing value</a></span></li><li><span><a href=\"#Duplicated-tags\" data-toc-modified-id=\"Duplicated-tags-1.7.2\"><span class=\"toc-item-num\">1.7.2&nbsp;&nbsp;</span>Duplicated tags</a></span></li></ul></li><li><span><a href=\"#Loans_Summary\" data-toc-modified-id=\"Loans_Summary-1.8\"><span class=\"toc-item-num\">1.8&nbsp;&nbsp;</span>Loans_Summary</a></span></li></ul></li><li><span><a href=\"#MPI-by-the-location-of-region\" data-toc-modified-id=\"MPI-by-the-location-of-region-2\"><span class=\"toc-item-num\">2&nbsp;&nbsp;</span>MPI by the location of region</a></span><ul class=\"toc-item\"><li><span><a href=\"#MPI_Data-Description\" data-toc-modified-id=\"MPI_Data-Description-2.1\"><span class=\"toc-item-num\">2.1&nbsp;&nbsp;</span>MPI_Data Description</a></span></li><li><span><a href=\"#MPI_Missing-value\" data-toc-modified-id=\"MPI_Missing-value-2.2\"><span class=\"toc-item-num\">2.2&nbsp;&nbsp;</span>MPI_Missing value</a></span></li><li><span><a href=\"#Latitude-and-longitude\" data-toc-modified-id=\"Latitude-and-longitude-2.3\"><span class=\"toc-item-num\">2.3&nbsp;&nbsp;</span>Latitude and longitude</a></span></li><li><span><a href=\"#MPI_Summary\" data-toc-modified-id=\"MPI_Summary-2.4\"><span class=\"toc-item-num\">2.4&nbsp;&nbsp;</span>MPI_Summary</a></span></li></ul></li><li><span><a href=\"#Loan-themes\" data-toc-modified-id=\"Loan-themes-3\"><span class=\"toc-item-num\">3&nbsp;&nbsp;</span>Loan themes</a></span><ul class=\"toc-item\"><li><span><a href=\"#Loan-themes_Data-Description\" data-toc-modified-id=\"Loan-themes_Data-Description-3.1\"><span class=\"toc-item-num\">3.1&nbsp;&nbsp;</span>Loan themes_Data Description</a></span></li><li><span><a href=\"#themes_Missing-value\" data-toc-modified-id=\"themes_Missing-value-3.2\"><span class=\"toc-item-num\">3.2&nbsp;&nbsp;</span>themes_Missing value</a></span></li></ul></li></ul></div>"
   ]
  },
  {
   "cell_type": "code",
   "execution_count": 1,
   "metadata": {
    "ExecuteTime": {
     "end_time": "2021-03-06T06:49:34.580236Z",
     "start_time": "2021-03-06T06:49:30.834628Z"
    }
   },
   "outputs": [],
   "source": [
    "import pandas as pd\n",
    "import numpy as np\n",
    "import matplotlib\n",
    "import matplotlib.pyplot as plt\n",
    "from datetime import datetime as dt\n",
    "import missingno as msno\n",
    "import seaborn as sns"
   ]
  },
  {
   "cell_type": "code",
   "execution_count": 94,
   "metadata": {
    "ExecuteTime": {
     "end_time": "2021-03-06T07:52:11.064714Z",
     "start_time": "2021-03-06T07:52:03.110631Z"
    }
   },
   "outputs": [],
   "source": [
    "# Import Data sets\n",
    "loans = pd.read_csv('/Users/lasayin/Desktop/Springboard/GitHub/Springboard_DS_Capstone2/RawData/KivaData/kiva_loans.csv')\n",
    "mpi_region_locations = pd.read_csv('/Users/lasayin/Desktop/Springboard/GitHub/Springboard_DS_Capstone2/RawData/KivaData/kiva_mpi_region_locations.csv')\n"
   ]
  },
  {
   "cell_type": "markdown",
   "metadata": {},
   "source": [
    "## The loans"
   ]
  },
  {
   "cell_type": "markdown",
   "metadata": {},
   "source": [
    "### Loans_Data Description"
   ]
  },
  {
   "cell_type": "code",
   "execution_count": 3,
   "metadata": {
    "ExecuteTime": {
     "end_time": "2021-03-06T06:49:42.711446Z",
     "start_time": "2021-03-06T06:49:41.992719Z"
    }
   },
   "outputs": [
    {
     "name": "stdout",
     "output_type": "stream",
     "text": [
      "<class 'pandas.core.frame.DataFrame'>\n",
      "RangeIndex: 671205 entries, 0 to 671204\n",
      "Data columns (total 20 columns):\n",
      " #   Column              Non-Null Count   Dtype  \n",
      "---  ------              --------------   -----  \n",
      " 0   id                  671205 non-null  int64  \n",
      " 1   funded_amount       671205 non-null  float64\n",
      " 2   loan_amount         671205 non-null  float64\n",
      " 3   activity            671205 non-null  object \n",
      " 4   sector              671205 non-null  object \n",
      " 5   use                 666973 non-null  object \n",
      " 6   country_code        671197 non-null  object \n",
      " 7   country             671205 non-null  object \n",
      " 8   region              614405 non-null  object \n",
      " 9   currency            671205 non-null  object \n",
      " 10  partner_id          657698 non-null  float64\n",
      " 11  posted_time         671205 non-null  object \n",
      " 12  disbursed_time      668809 non-null  object \n",
      " 13  funded_time         622874 non-null  object \n",
      " 14  term_in_months      671205 non-null  float64\n",
      " 15  lender_count        671205 non-null  int64  \n",
      " 16  tags                499789 non-null  object \n",
      " 17  borrower_genders    666984 non-null  object \n",
      " 18  repayment_interval  671205 non-null  object \n",
      " 19  date                671205 non-null  object \n",
      "dtypes: float64(4), int64(2), object(14)\n",
      "memory usage: 102.4+ MB\n"
     ]
    }
   ],
   "source": [
    "loans.info()"
   ]
  },
  {
   "cell_type": "markdown",
   "metadata": {},
   "source": [
    "* Columns descriptions\n",
    "    * id: Unique ID for loan\n",
    "\n",
    "    * funded_amount: Dollar value of loan funded on Kiva.org\n",
    "\n",
    "    * loan_amount: Total dollar amount of loan\n",
    "\n",
    "    * activity: Loan activity type\n",
    "\n",
    "    * sector: Sector of loan activity as shown to lenders\n",
    "\n",
    "    * use: text description of how loan will be used\n",
    "\n",
    "    * country_code: 2-letter Country ISO Code\n",
    "\n",
    "    * country: country name\n",
    "\n",
    "    * region: name of location within country\n",
    "\n",
    "    * currency: currency in which loan is disbursed\n",
    "\n",
    "    * partner_id: Unique ID for field partners\n",
    "\n",
    "    * posted_time: date and time when loan was posted on kiva.org\n",
    "\n",
    "    * disbursed_time: date and time that the borrower received the loan\n",
    "\n",
    "    * funded_time: date and time at which loan was fully funded on kiva.org\n",
    "\n",
    "    * term_in_months: number of months over which loan was scheduled to be paid back\n",
    "    \n",
    "    * lender_count: number of lenders contributing to loan\n",
    "\n",
    "    * tags: tags visible to lenders describing loan type\n",
    "\n",
    "    * borrower_genders: gender of borrower(s)\n",
    "\n",
    "    * repayment_interval: frequency at which lenders are scheduled to receive installments\n",
    "\n",
    "    * date: date on which loan was posted"
   ]
  },
  {
   "cell_type": "code",
   "execution_count": 4,
   "metadata": {
    "ExecuteTime": {
     "end_time": "2021-03-06T06:49:42.779165Z",
     "start_time": "2021-03-06T06:49:42.714256Z"
    }
   },
   "outputs": [
    {
     "data": {
      "text/html": [
       "<div>\n",
       "<style scoped>\n",
       "    .dataframe tbody tr th:only-of-type {\n",
       "        vertical-align: middle;\n",
       "    }\n",
       "\n",
       "    .dataframe tbody tr th {\n",
       "        vertical-align: top;\n",
       "    }\n",
       "\n",
       "    .dataframe thead th {\n",
       "        text-align: right;\n",
       "    }\n",
       "</style>\n",
       "<table border=\"1\" class=\"dataframe\">\n",
       "  <thead>\n",
       "    <tr style=\"text-align: right;\">\n",
       "      <th></th>\n",
       "      <th>id</th>\n",
       "      <th>funded_amount</th>\n",
       "      <th>loan_amount</th>\n",
       "      <th>activity</th>\n",
       "      <th>sector</th>\n",
       "      <th>use</th>\n",
       "      <th>country_code</th>\n",
       "      <th>country</th>\n",
       "      <th>region</th>\n",
       "      <th>currency</th>\n",
       "      <th>partner_id</th>\n",
       "      <th>posted_time</th>\n",
       "      <th>disbursed_time</th>\n",
       "      <th>funded_time</th>\n",
       "      <th>term_in_months</th>\n",
       "      <th>lender_count</th>\n",
       "      <th>tags</th>\n",
       "      <th>borrower_genders</th>\n",
       "      <th>repayment_interval</th>\n",
       "      <th>date</th>\n",
       "    </tr>\n",
       "  </thead>\n",
       "  <tbody>\n",
       "    <tr>\n",
       "      <th>0</th>\n",
       "      <td>653051</td>\n",
       "      <td>300.0</td>\n",
       "      <td>300.0</td>\n",
       "      <td>Fruits &amp; Vegetables</td>\n",
       "      <td>Food</td>\n",
       "      <td>To buy seasonal, fresh fruits to sell.</td>\n",
       "      <td>PK</td>\n",
       "      <td>Pakistan</td>\n",
       "      <td>Lahore</td>\n",
       "      <td>PKR</td>\n",
       "      <td>247.0</td>\n",
       "      <td>2014-01-01 06:12:39+00:00</td>\n",
       "      <td>2013-12-17 08:00:00+00:00</td>\n",
       "      <td>2014-01-02 10:06:32+00:00</td>\n",
       "      <td>12.0</td>\n",
       "      <td>12</td>\n",
       "      <td>NaN</td>\n",
       "      <td>female</td>\n",
       "      <td>irregular</td>\n",
       "      <td>2014-01-01</td>\n",
       "    </tr>\n",
       "    <tr>\n",
       "      <th>1</th>\n",
       "      <td>653053</td>\n",
       "      <td>575.0</td>\n",
       "      <td>575.0</td>\n",
       "      <td>Rickshaw</td>\n",
       "      <td>Transportation</td>\n",
       "      <td>to repair and maintain the auto rickshaw used ...</td>\n",
       "      <td>PK</td>\n",
       "      <td>Pakistan</td>\n",
       "      <td>Lahore</td>\n",
       "      <td>PKR</td>\n",
       "      <td>247.0</td>\n",
       "      <td>2014-01-01 06:51:08+00:00</td>\n",
       "      <td>2013-12-17 08:00:00+00:00</td>\n",
       "      <td>2014-01-02 09:17:23+00:00</td>\n",
       "      <td>11.0</td>\n",
       "      <td>14</td>\n",
       "      <td>NaN</td>\n",
       "      <td>female, female</td>\n",
       "      <td>irregular</td>\n",
       "      <td>2014-01-01</td>\n",
       "    </tr>\n",
       "    <tr>\n",
       "      <th>2</th>\n",
       "      <td>653068</td>\n",
       "      <td>150.0</td>\n",
       "      <td>150.0</td>\n",
       "      <td>Transportation</td>\n",
       "      <td>Transportation</td>\n",
       "      <td>To repair their old cycle-van and buy another ...</td>\n",
       "      <td>IN</td>\n",
       "      <td>India</td>\n",
       "      <td>Maynaguri</td>\n",
       "      <td>INR</td>\n",
       "      <td>334.0</td>\n",
       "      <td>2014-01-01 09:58:07+00:00</td>\n",
       "      <td>2013-12-17 08:00:00+00:00</td>\n",
       "      <td>2014-01-01 16:01:36+00:00</td>\n",
       "      <td>43.0</td>\n",
       "      <td>6</td>\n",
       "      <td>user_favorite, user_favorite</td>\n",
       "      <td>female</td>\n",
       "      <td>bullet</td>\n",
       "      <td>2014-01-01</td>\n",
       "    </tr>\n",
       "    <tr>\n",
       "      <th>3</th>\n",
       "      <td>653063</td>\n",
       "      <td>200.0</td>\n",
       "      <td>200.0</td>\n",
       "      <td>Embroidery</td>\n",
       "      <td>Arts</td>\n",
       "      <td>to purchase an embroidery machine and a variet...</td>\n",
       "      <td>PK</td>\n",
       "      <td>Pakistan</td>\n",
       "      <td>Lahore</td>\n",
       "      <td>PKR</td>\n",
       "      <td>247.0</td>\n",
       "      <td>2014-01-01 08:03:11+00:00</td>\n",
       "      <td>2013-12-24 08:00:00+00:00</td>\n",
       "      <td>2014-01-01 13:00:00+00:00</td>\n",
       "      <td>11.0</td>\n",
       "      <td>8</td>\n",
       "      <td>NaN</td>\n",
       "      <td>female</td>\n",
       "      <td>irregular</td>\n",
       "      <td>2014-01-01</td>\n",
       "    </tr>\n",
       "    <tr>\n",
       "      <th>4</th>\n",
       "      <td>653084</td>\n",
       "      <td>400.0</td>\n",
       "      <td>400.0</td>\n",
       "      <td>Milk Sales</td>\n",
       "      <td>Food</td>\n",
       "      <td>to purchase one buffalo.</td>\n",
       "      <td>PK</td>\n",
       "      <td>Pakistan</td>\n",
       "      <td>Abdul Hakeem</td>\n",
       "      <td>PKR</td>\n",
       "      <td>245.0</td>\n",
       "      <td>2014-01-01 11:53:19+00:00</td>\n",
       "      <td>2013-12-17 08:00:00+00:00</td>\n",
       "      <td>2014-01-01 19:18:51+00:00</td>\n",
       "      <td>14.0</td>\n",
       "      <td>16</td>\n",
       "      <td>NaN</td>\n",
       "      <td>female</td>\n",
       "      <td>monthly</td>\n",
       "      <td>2014-01-01</td>\n",
       "    </tr>\n",
       "  </tbody>\n",
       "</table>\n",
       "</div>"
      ],
      "text/plain": [
       "       id  funded_amount  loan_amount             activity          sector  \\\n",
       "0  653051          300.0        300.0  Fruits & Vegetables            Food   \n",
       "1  653053          575.0        575.0             Rickshaw  Transportation   \n",
       "2  653068          150.0        150.0       Transportation  Transportation   \n",
       "3  653063          200.0        200.0           Embroidery            Arts   \n",
       "4  653084          400.0        400.0           Milk Sales            Food   \n",
       "\n",
       "                                                 use country_code   country  \\\n",
       "0            To buy seasonal, fresh fruits to sell.            PK  Pakistan   \n",
       "1  to repair and maintain the auto rickshaw used ...           PK  Pakistan   \n",
       "2  To repair their old cycle-van and buy another ...           IN     India   \n",
       "3  to purchase an embroidery machine and a variet...           PK  Pakistan   \n",
       "4                           to purchase one buffalo.           PK  Pakistan   \n",
       "\n",
       "         region currency  partner_id                posted_time  \\\n",
       "0        Lahore      PKR       247.0  2014-01-01 06:12:39+00:00   \n",
       "1        Lahore      PKR       247.0  2014-01-01 06:51:08+00:00   \n",
       "2     Maynaguri      INR       334.0  2014-01-01 09:58:07+00:00   \n",
       "3        Lahore      PKR       247.0  2014-01-01 08:03:11+00:00   \n",
       "4  Abdul Hakeem      PKR       245.0  2014-01-01 11:53:19+00:00   \n",
       "\n",
       "              disbursed_time                funded_time  term_in_months  \\\n",
       "0  2013-12-17 08:00:00+00:00  2014-01-02 10:06:32+00:00            12.0   \n",
       "1  2013-12-17 08:00:00+00:00  2014-01-02 09:17:23+00:00            11.0   \n",
       "2  2013-12-17 08:00:00+00:00  2014-01-01 16:01:36+00:00            43.0   \n",
       "3  2013-12-24 08:00:00+00:00  2014-01-01 13:00:00+00:00            11.0   \n",
       "4  2013-12-17 08:00:00+00:00  2014-01-01 19:18:51+00:00            14.0   \n",
       "\n",
       "   lender_count                          tags borrower_genders  \\\n",
       "0            12                           NaN           female   \n",
       "1            14                           NaN   female, female   \n",
       "2             6  user_favorite, user_favorite           female   \n",
       "3             8                           NaN           female   \n",
       "4            16                           NaN           female   \n",
       "\n",
       "  repayment_interval        date  \n",
       "0          irregular  2014-01-01  \n",
       "1          irregular  2014-01-01  \n",
       "2             bullet  2014-01-01  \n",
       "3          irregular  2014-01-01  \n",
       "4            monthly  2014-01-01  "
      ]
     },
     "execution_count": 4,
     "metadata": {},
     "output_type": "execute_result"
    }
   ],
   "source": [
    "loans.head()"
   ]
  },
  {
   "cell_type": "code",
   "execution_count": 5,
   "metadata": {
    "ExecuteTime": {
     "end_time": "2021-03-06T06:49:42.914792Z",
     "start_time": "2021-03-06T06:49:42.789025Z"
    }
   },
   "outputs": [
    {
     "data": {
      "text/html": [
       "<div>\n",
       "<style scoped>\n",
       "    .dataframe tbody tr th:only-of-type {\n",
       "        vertical-align: middle;\n",
       "    }\n",
       "\n",
       "    .dataframe tbody tr th {\n",
       "        vertical-align: top;\n",
       "    }\n",
       "\n",
       "    .dataframe thead th {\n",
       "        text-align: right;\n",
       "    }\n",
       "</style>\n",
       "<table border=\"1\" class=\"dataframe\">\n",
       "  <thead>\n",
       "    <tr style=\"text-align: right;\">\n",
       "      <th></th>\n",
       "      <th>id</th>\n",
       "      <th>funded_amount</th>\n",
       "      <th>loan_amount</th>\n",
       "      <th>activity</th>\n",
       "      <th>sector</th>\n",
       "      <th>use</th>\n",
       "      <th>country_code</th>\n",
       "      <th>country</th>\n",
       "      <th>region</th>\n",
       "      <th>currency</th>\n",
       "      <th>partner_id</th>\n",
       "      <th>posted_time</th>\n",
       "      <th>disbursed_time</th>\n",
       "      <th>funded_time</th>\n",
       "      <th>term_in_months</th>\n",
       "      <th>lender_count</th>\n",
       "      <th>tags</th>\n",
       "      <th>borrower_genders</th>\n",
       "      <th>repayment_interval</th>\n",
       "      <th>date</th>\n",
       "    </tr>\n",
       "  </thead>\n",
       "  <tbody>\n",
       "    <tr>\n",
       "      <th>671200</th>\n",
       "      <td>1340323</td>\n",
       "      <td>0.0</td>\n",
       "      <td>25.0</td>\n",
       "      <td>Livestock</td>\n",
       "      <td>Agriculture</td>\n",
       "      <td>[True, u'para compara: cemento, arenya y ladri...</td>\n",
       "      <td>PY</td>\n",
       "      <td>Paraguay</td>\n",
       "      <td>Concepción</td>\n",
       "      <td>USD</td>\n",
       "      <td>58.0</td>\n",
       "      <td>2017-07-25 16:55:34+00:00</td>\n",
       "      <td>2017-07-25 07:00:00+00:00</td>\n",
       "      <td>NaN</td>\n",
       "      <td>13.0</td>\n",
       "      <td>0</td>\n",
       "      <td>NaN</td>\n",
       "      <td>female</td>\n",
       "      <td>monthly</td>\n",
       "      <td>2017-07-25</td>\n",
       "    </tr>\n",
       "    <tr>\n",
       "      <th>671201</th>\n",
       "      <td>1340316</td>\n",
       "      <td>25.0</td>\n",
       "      <td>25.0</td>\n",
       "      <td>Livestock</td>\n",
       "      <td>Agriculture</td>\n",
       "      <td>[True, u'to start a turducken farm.'] - this l...</td>\n",
       "      <td>KE</td>\n",
       "      <td>Kenya</td>\n",
       "      <td>NaN</td>\n",
       "      <td>KES</td>\n",
       "      <td>138.0</td>\n",
       "      <td>2017-07-25 06:14:08+00:00</td>\n",
       "      <td>2017-07-24 07:00:00+00:00</td>\n",
       "      <td>2017-07-26 02:09:43+00:00</td>\n",
       "      <td>13.0</td>\n",
       "      <td>1</td>\n",
       "      <td>NaN</td>\n",
       "      <td>female</td>\n",
       "      <td>monthly</td>\n",
       "      <td>2017-07-25</td>\n",
       "    </tr>\n",
       "    <tr>\n",
       "      <th>671202</th>\n",
       "      <td>1340334</td>\n",
       "      <td>0.0</td>\n",
       "      <td>25.0</td>\n",
       "      <td>Games</td>\n",
       "      <td>Entertainment</td>\n",
       "      <td>NaN</td>\n",
       "      <td>KE</td>\n",
       "      <td>Kenya</td>\n",
       "      <td>NaN</td>\n",
       "      <td>KES</td>\n",
       "      <td>138.0</td>\n",
       "      <td>2017-07-26 00:02:07+00:00</td>\n",
       "      <td>2017-07-25 07:00:00+00:00</td>\n",
       "      <td>NaN</td>\n",
       "      <td>13.0</td>\n",
       "      <td>0</td>\n",
       "      <td>NaN</td>\n",
       "      <td>NaN</td>\n",
       "      <td>monthly</td>\n",
       "      <td>2017-07-26</td>\n",
       "    </tr>\n",
       "    <tr>\n",
       "      <th>671203</th>\n",
       "      <td>1340338</td>\n",
       "      <td>0.0</td>\n",
       "      <td>25.0</td>\n",
       "      <td>Livestock</td>\n",
       "      <td>Agriculture</td>\n",
       "      <td>[True, u'to start a turducken farm.'] - this l...</td>\n",
       "      <td>KE</td>\n",
       "      <td>Kenya</td>\n",
       "      <td>NaN</td>\n",
       "      <td>KES</td>\n",
       "      <td>138.0</td>\n",
       "      <td>2017-07-26 06:12:55+00:00</td>\n",
       "      <td>2017-07-25 07:00:00+00:00</td>\n",
       "      <td>NaN</td>\n",
       "      <td>13.0</td>\n",
       "      <td>0</td>\n",
       "      <td>NaN</td>\n",
       "      <td>female</td>\n",
       "      <td>monthly</td>\n",
       "      <td>2017-07-26</td>\n",
       "    </tr>\n",
       "    <tr>\n",
       "      <th>671204</th>\n",
       "      <td>1340339</td>\n",
       "      <td>0.0</td>\n",
       "      <td>25.0</td>\n",
       "      <td>Livestock</td>\n",
       "      <td>Agriculture</td>\n",
       "      <td>[True, u'to start a turducken farm.'] - this l...</td>\n",
       "      <td>KE</td>\n",
       "      <td>Kenya</td>\n",
       "      <td>NaN</td>\n",
       "      <td>KES</td>\n",
       "      <td>138.0</td>\n",
       "      <td>2017-07-26 06:31:46+00:00</td>\n",
       "      <td>2017-07-25 07:00:00+00:00</td>\n",
       "      <td>NaN</td>\n",
       "      <td>13.0</td>\n",
       "      <td>0</td>\n",
       "      <td>NaN</td>\n",
       "      <td>female</td>\n",
       "      <td>monthly</td>\n",
       "      <td>2017-07-26</td>\n",
       "    </tr>\n",
       "  </tbody>\n",
       "</table>\n",
       "</div>"
      ],
      "text/plain": [
       "             id  funded_amount  loan_amount   activity         sector  \\\n",
       "671200  1340323            0.0         25.0  Livestock    Agriculture   \n",
       "671201  1340316           25.0         25.0  Livestock    Agriculture   \n",
       "671202  1340334            0.0         25.0      Games  Entertainment   \n",
       "671203  1340338            0.0         25.0  Livestock    Agriculture   \n",
       "671204  1340339            0.0         25.0  Livestock    Agriculture   \n",
       "\n",
       "                                                      use country_code  \\\n",
       "671200  [True, u'para compara: cemento, arenya y ladri...           PY   \n",
       "671201  [True, u'to start a turducken farm.'] - this l...           KE   \n",
       "671202                                                NaN           KE   \n",
       "671203  [True, u'to start a turducken farm.'] - this l...           KE   \n",
       "671204  [True, u'to start a turducken farm.'] - this l...           KE   \n",
       "\n",
       "         country      region currency  partner_id                posted_time  \\\n",
       "671200  Paraguay  Concepción      USD        58.0  2017-07-25 16:55:34+00:00   \n",
       "671201     Kenya         NaN      KES       138.0  2017-07-25 06:14:08+00:00   \n",
       "671202     Kenya         NaN      KES       138.0  2017-07-26 00:02:07+00:00   \n",
       "671203     Kenya         NaN      KES       138.0  2017-07-26 06:12:55+00:00   \n",
       "671204     Kenya         NaN      KES       138.0  2017-07-26 06:31:46+00:00   \n",
       "\n",
       "                   disbursed_time                funded_time  term_in_months  \\\n",
       "671200  2017-07-25 07:00:00+00:00                        NaN            13.0   \n",
       "671201  2017-07-24 07:00:00+00:00  2017-07-26 02:09:43+00:00            13.0   \n",
       "671202  2017-07-25 07:00:00+00:00                        NaN            13.0   \n",
       "671203  2017-07-25 07:00:00+00:00                        NaN            13.0   \n",
       "671204  2017-07-25 07:00:00+00:00                        NaN            13.0   \n",
       "\n",
       "        lender_count tags borrower_genders repayment_interval        date  \n",
       "671200             0  NaN           female            monthly  2017-07-25  \n",
       "671201             1  NaN           female            monthly  2017-07-25  \n",
       "671202             0  NaN              NaN            monthly  2017-07-26  \n",
       "671203             0  NaN           female            monthly  2017-07-26  \n",
       "671204             0  NaN           female            monthly  2017-07-26  "
      ]
     },
     "execution_count": 5,
     "metadata": {},
     "output_type": "execute_result"
    }
   ],
   "source": [
    "loans.tail()"
   ]
  },
  {
   "cell_type": "markdown",
   "metadata": {},
   "source": [
    "### Loans_Missing Value"
   ]
  },
  {
   "cell_type": "code",
   "execution_count": 6,
   "metadata": {
    "ExecuteTime": {
     "end_time": "2021-03-06T06:49:44.396638Z",
     "start_time": "2021-03-06T06:49:42.958716Z"
    }
   },
   "outputs": [
    {
     "data": {
      "text/html": [
       "<div>\n",
       "<style scoped>\n",
       "    .dataframe tbody tr th:only-of-type {\n",
       "        vertical-align: middle;\n",
       "    }\n",
       "\n",
       "    .dataframe tbody tr th {\n",
       "        vertical-align: top;\n",
       "    }\n",
       "\n",
       "    .dataframe thead th {\n",
       "        text-align: right;\n",
       "    }\n",
       "</style>\n",
       "<table border=\"1\" class=\"dataframe\">\n",
       "  <thead>\n",
       "    <tr style=\"text-align: right;\">\n",
       "      <th></th>\n",
       "      <th>Column Name</th>\n",
       "      <th>Missings</th>\n",
       "      <th>Missing_pct</th>\n",
       "    </tr>\n",
       "  </thead>\n",
       "  <tbody>\n",
       "    <tr>\n",
       "      <th>0</th>\n",
       "      <td>tags</td>\n",
       "      <td>171416</td>\n",
       "      <td>0.26</td>\n",
       "    </tr>\n",
       "    <tr>\n",
       "      <th>1</th>\n",
       "      <td>region</td>\n",
       "      <td>56800</td>\n",
       "      <td>0.08</td>\n",
       "    </tr>\n",
       "    <tr>\n",
       "      <th>2</th>\n",
       "      <td>funded_time</td>\n",
       "      <td>48331</td>\n",
       "      <td>0.07</td>\n",
       "    </tr>\n",
       "    <tr>\n",
       "      <th>3</th>\n",
       "      <td>partner_id</td>\n",
       "      <td>13507</td>\n",
       "      <td>0.02</td>\n",
       "    </tr>\n",
       "    <tr>\n",
       "      <th>4</th>\n",
       "      <td>use</td>\n",
       "      <td>4232</td>\n",
       "      <td>0.01</td>\n",
       "    </tr>\n",
       "    <tr>\n",
       "      <th>5</th>\n",
       "      <td>borrower_genders</td>\n",
       "      <td>4221</td>\n",
       "      <td>0.01</td>\n",
       "    </tr>\n",
       "    <tr>\n",
       "      <th>6</th>\n",
       "      <td>disbursed_time</td>\n",
       "      <td>2396</td>\n",
       "      <td>0.00</td>\n",
       "    </tr>\n",
       "    <tr>\n",
       "      <th>7</th>\n",
       "      <td>country_code</td>\n",
       "      <td>8</td>\n",
       "      <td>0.00</td>\n",
       "    </tr>\n",
       "  </tbody>\n",
       "</table>\n",
       "</div>"
      ],
      "text/plain": [
       "        Column Name  Missings  Missing_pct\n",
       "0              tags    171416         0.26\n",
       "1            region     56800         0.08\n",
       "2       funded_time     48331         0.07\n",
       "3        partner_id     13507         0.02\n",
       "4               use      4232         0.01\n",
       "5  borrower_genders      4221         0.01\n",
       "6    disbursed_time      2396         0.00\n",
       "7      country_code         8         0.00"
      ]
     },
     "execution_count": 6,
     "metadata": {},
     "output_type": "execute_result"
    }
   ],
   "source": [
    "# Check missing values\n",
    "def missing_vals(data_):\n",
    "    miss_     = data_.isnull().sum()\n",
    "    miss_pct  = data_.isnull().sum()/data_.shape[0]\n",
    "    \n",
    "    miss_pct  = pd.concat([miss_, miss_pct], axis =1)\n",
    "    miss_pct.reset_index(inplace=True)\n",
    "    miss_cols = miss_pct.rename(columns={'index':'Column Name', 0:'Missings', 1:'Missing_pct'})\n",
    "    \n",
    "    miss_cols = miss_cols[miss_cols.iloc[:,1]!=0].sort_values('Missing_pct', ascending=False).round(2)\n",
    "    miss_cols.reset_index(inplace=True, drop=True)\n",
    "    \n",
    "    return miss_cols\n",
    "\n",
    "miss_loans = missing_vals(loans)\n",
    "miss_loans"
   ]
  },
  {
   "cell_type": "code",
   "execution_count": 7,
   "metadata": {
    "ExecuteTime": {
     "end_time": "2021-03-06T06:49:51.859776Z",
     "start_time": "2021-03-06T06:49:44.409587Z"
    }
   },
   "outputs": [
    {
     "data": {
      "image/png": "[encoded data removed]",
      "text/plain": [
       "<Figure size 1800x720 with 2 Axes>"
      ]
     },
     "metadata": {
      "needs_background": "light"
     },
     "output_type": "display_data"
    }
   ],
   "source": [
    "# Check missing values' destription\n",
    "_ = msno.matrix(loans)"
   ]
  },
  {
   "cell_type": "markdown",
   "metadata": {},
   "source": [
    "The dataset seems clean except the top three factors; Missing values distribute randomly:\n",
    "* `tags` provide some interesting information about the special loans such as 'user favorite', 'women-owned business', and so on. **It will be kept temporally just in case.**\n",
    "* `rigion` is important for localization, which **will be handled together with other data sets**.\n",
    "* `funded-time` is the time at which the loan posted to Kiva gets funded by lenders completely. The missing values can be explained in different ways. **It will be kept temporally just in case.**"
   ]
  },
  {
   "cell_type": "markdown",
   "metadata": {},
   "source": [
    "### Redundant columns\n",
    "According to the column description, `disbursed_date`, `date`, and `currency` are redundant or not related to the project closely, which will be removed."
   ]
  },
  {
   "cell_type": "code",
   "execution_count": 8,
   "metadata": {
    "ExecuteTime": {
     "end_time": "2021-03-06T06:49:52.101575Z",
     "start_time": "2021-03-06T06:49:51.863458Z"
    }
   },
   "outputs": [
    {
     "data": {
      "text/plain": [
       "Index(['id', 'funded_amount', 'loan_amount', 'activity', 'sector', 'use',\n",
       "       'country_code', 'country', 'region', 'partner_id', 'posted_time',\n",
       "       'funded_time', 'term_in_months', 'lender_count', 'tags',\n",
       "       'borrower_genders', 'repayment_interval'],\n",
       "      dtype='object')"
      ]
     },
     "execution_count": 8,
     "metadata": {},
     "output_type": "execute_result"
    }
   ],
   "source": [
    "loans_dropped = loans.drop(['disbursed_time', 'date', 'currency'], axis=1)\n",
    "loans_dropped.columns"
   ]
  },
  {
   "cell_type": "markdown",
   "metadata": {},
   "source": [
    "### Country code"
   ]
  },
  {
   "cell_type": "markdown",
   "metadata": {},
   "source": [
    "There are two issues of the `country_code`:\n",
    "* There are 8 missing values\n",
    "* In the `loans` dataset, `country_code` is a two-letter code, which dose not match the three-letter ISO code in  `mpi_region_locations` dataset.\n",
    "\n",
    "`loans` and `mpi_region_locations` datasets can be aligned on country name or country code. Country name is more describable, but I will keep both here just in case there are some non-matching of the country names in the different datasets, such as spelling, upper case and lower case, space, and so on. "
   ]
  },
  {
   "cell_type": "markdown",
   "metadata": {},
   "source": [
    "#### Country code_missing value"
   ]
  },
  {
   "cell_type": "code",
   "execution_count": 9,
   "metadata": {
    "ExecuteTime": {
     "end_time": "2021-03-06T06:49:52.324964Z",
     "start_time": "2021-03-06T06:49:52.163394Z"
    }
   },
   "outputs": [
    {
     "data": {
      "text/plain": [
       "8"
      ]
     },
     "execution_count": 9,
     "metadata": {},
     "output_type": "execute_result"
    }
   ],
   "source": [
    "loans_dropped.country_code.isnull().sum()"
   ]
  },
  {
   "cell_type": "code",
   "execution_count": 10,
   "metadata": {
    "ExecuteTime": {
     "end_time": "2021-03-06T06:49:52.447190Z",
     "start_time": "2021-03-06T06:49:52.351959Z"
    }
   },
   "outputs": [
    {
     "data": {
      "text/html": [
       "<div>\n",
       "<style scoped>\n",
       "    .dataframe tbody tr th:only-of-type {\n",
       "        vertical-align: middle;\n",
       "    }\n",
       "\n",
       "    .dataframe tbody tr th {\n",
       "        vertical-align: top;\n",
       "    }\n",
       "\n",
       "    .dataframe thead th {\n",
       "        text-align: right;\n",
       "    }\n",
       "</style>\n",
       "<table border=\"1\" class=\"dataframe\">\n",
       "  <thead>\n",
       "    <tr style=\"text-align: right;\">\n",
       "      <th></th>\n",
       "      <th>country</th>\n",
       "    </tr>\n",
       "  </thead>\n",
       "  <tbody>\n",
       "    <tr>\n",
       "      <th>202537</th>\n",
       "      <td>Namibia</td>\n",
       "    </tr>\n",
       "    <tr>\n",
       "      <th>202823</th>\n",
       "      <td>Namibia</td>\n",
       "    </tr>\n",
       "    <tr>\n",
       "      <th>344929</th>\n",
       "      <td>Namibia</td>\n",
       "    </tr>\n",
       "    <tr>\n",
       "      <th>351177</th>\n",
       "      <td>Namibia</td>\n",
       "    </tr>\n",
       "    <tr>\n",
       "      <th>420953</th>\n",
       "      <td>Namibia</td>\n",
       "    </tr>\n",
       "    <tr>\n",
       "      <th>421218</th>\n",
       "      <td>Namibia</td>\n",
       "    </tr>\n",
       "    <tr>\n",
       "      <th>487207</th>\n",
       "      <td>Namibia</td>\n",
       "    </tr>\n",
       "    <tr>\n",
       "      <th>487653</th>\n",
       "      <td>Namibia</td>\n",
       "    </tr>\n",
       "  </tbody>\n",
       "</table>\n",
       "</div>"
      ],
      "text/plain": [
       "        country\n",
       "202537  Namibia\n",
       "202823  Namibia\n",
       "344929  Namibia\n",
       "351177  Namibia\n",
       "420953  Namibia\n",
       "421218  Namibia\n",
       "487207  Namibia\n",
       "487653  Namibia"
      ]
     },
     "execution_count": 10,
     "metadata": {},
     "output_type": "execute_result"
    }
   ],
   "source": [
    "loans_dropped[loans.country_code.isna()][['country']]"
   ]
  },
  {
   "cell_type": "markdown",
   "metadata": {},
   "source": [
    "All missing values of country_code come from Namibia whose ISO code is 'NA'([countrycode.org](https://countrycode.org/))"
   ]
  },
  {
   "cell_type": "code",
   "execution_count": 11,
   "metadata": {
    "ExecuteTime": {
     "end_time": "2021-03-06T06:49:52.511254Z",
     "start_time": "2021-03-06T06:49:52.452018Z"
    },
    "scrolled": true
   },
   "outputs": [],
   "source": [
    "# Fill null value with 'NA'\n",
    "loans_dropped.country_code.fillna('NA', inplace=True)"
   ]
  },
  {
   "cell_type": "code",
   "execution_count": 12,
   "metadata": {
    "ExecuteTime": {
     "end_time": "2021-03-06T06:49:52.582075Z",
     "start_time": "2021-03-06T06:49:52.513935Z"
    }
   },
   "outputs": [
    {
     "data": {
      "text/plain": [
       "0"
      ]
     },
     "execution_count": 12,
     "metadata": {},
     "output_type": "execute_result"
    }
   ],
   "source": [
    "loans_dropped.country_code.isnull().sum()"
   ]
  },
  {
   "cell_type": "markdown",
   "metadata": {},
   "source": [
    "#### Convert 2-letter country_code to 3-letter Country ISO Code"
   ]
  },
  {
   "cell_type": "code",
   "execution_count": 13,
   "metadata": {
    "ExecuteTime": {
     "end_time": "2021-03-06T06:49:52.610490Z",
     "start_time": "2021-03-06T06:49:52.594445Z"
    }
   },
   "outputs": [],
   "source": [
    "# Import ISO_country_code table\n",
    "country_ISO = pd.read_csv('/Users/lasayin/Desktop/Springboard/GitHub/Springboard_DS_Capstone2/RawData/AdditionalData/wikipedia-iso-country-codes.csv')"
   ]
  },
  {
   "cell_type": "code",
   "execution_count": 14,
   "metadata": {
    "ExecuteTime": {
     "end_time": "2021-03-06T06:49:52.650115Z",
     "start_time": "2021-03-06T06:49:52.615333Z"
    }
   },
   "outputs": [
    {
     "name": "stdout",
     "output_type": "stream",
     "text": [
      "<class 'pandas.core.frame.DataFrame'>\n",
      "RangeIndex: 246 entries, 0 to 245\n",
      "Data columns (total 5 columns):\n",
      " #   Column                         Non-Null Count  Dtype \n",
      "---  ------                         --------------  ----- \n",
      " 0   English short name lower case  246 non-null    object\n",
      " 1   Alpha-2 code                   245 non-null    object\n",
      " 2   Alpha-3 code                   246 non-null    object\n",
      " 3   Numeric code                   246 non-null    int64 \n",
      " 4   ISO 3166-2                     246 non-null    object\n",
      "dtypes: int64(1), object(4)\n",
      "memory usage: 9.7+ KB\n"
     ]
    }
   ],
   "source": [
    "country_ISO.info()"
   ]
  },
  {
   "cell_type": "code",
   "execution_count": 15,
   "metadata": {
    "ExecuteTime": {
     "end_time": "2021-03-06T06:49:52.683117Z",
     "start_time": "2021-03-06T06:49:52.660411Z"
    }
   },
   "outputs": [
    {
     "data": {
      "text/html": [
       "<div>\n",
       "<style scoped>\n",
       "    .dataframe tbody tr th:only-of-type {\n",
       "        vertical-align: middle;\n",
       "    }\n",
       "\n",
       "    .dataframe tbody tr th {\n",
       "        vertical-align: top;\n",
       "    }\n",
       "\n",
       "    .dataframe thead th {\n",
       "        text-align: right;\n",
       "    }\n",
       "</style>\n",
       "<table border=\"1\" class=\"dataframe\">\n",
       "  <thead>\n",
       "    <tr style=\"text-align: right;\">\n",
       "      <th></th>\n",
       "      <th>English short name lower case</th>\n",
       "      <th>Alpha-2 code</th>\n",
       "      <th>Alpha-3 code</th>\n",
       "      <th>Numeric code</th>\n",
       "      <th>ISO 3166-2</th>\n",
       "    </tr>\n",
       "  </thead>\n",
       "  <tbody>\n",
       "    <tr>\n",
       "      <th>0</th>\n",
       "      <td>Afghanistan</td>\n",
       "      <td>AF</td>\n",
       "      <td>AFG</td>\n",
       "      <td>4</td>\n",
       "      <td>ISO 3166-2:AF</td>\n",
       "    </tr>\n",
       "    <tr>\n",
       "      <th>1</th>\n",
       "      <td>Åland Islands</td>\n",
       "      <td>AX</td>\n",
       "      <td>ALA</td>\n",
       "      <td>248</td>\n",
       "      <td>ISO 3166-2:AX</td>\n",
       "    </tr>\n",
       "    <tr>\n",
       "      <th>2</th>\n",
       "      <td>Albania</td>\n",
       "      <td>AL</td>\n",
       "      <td>ALB</td>\n",
       "      <td>8</td>\n",
       "      <td>ISO 3166-2:AL</td>\n",
       "    </tr>\n",
       "    <tr>\n",
       "      <th>3</th>\n",
       "      <td>Algeria</td>\n",
       "      <td>DZ</td>\n",
       "      <td>DZA</td>\n",
       "      <td>12</td>\n",
       "      <td>ISO 3166-2:DZ</td>\n",
       "    </tr>\n",
       "    <tr>\n",
       "      <th>4</th>\n",
       "      <td>American Samoa</td>\n",
       "      <td>AS</td>\n",
       "      <td>ASM</td>\n",
       "      <td>16</td>\n",
       "      <td>ISO 3166-2:AS</td>\n",
       "    </tr>\n",
       "  </tbody>\n",
       "</table>\n",
       "</div>"
      ],
      "text/plain": [
       "  English short name lower case Alpha-2 code Alpha-3 code  Numeric code  \\\n",
       "0                   Afghanistan           AF          AFG             4   \n",
       "1                 Åland Islands           AX          ALA           248   \n",
       "2                       Albania           AL          ALB             8   \n",
       "3                       Algeria           DZ          DZA            12   \n",
       "4                American Samoa           AS          ASM            16   \n",
       "\n",
       "      ISO 3166-2  \n",
       "0  ISO 3166-2:AF  \n",
       "1  ISO 3166-2:AX  \n",
       "2  ISO 3166-2:AL  \n",
       "3  ISO 3166-2:DZ  \n",
       "4  ISO 3166-2:AS  "
      ]
     },
     "execution_count": 15,
     "metadata": {},
     "output_type": "execute_result"
    }
   ],
   "source": [
    "country_ISO.head()"
   ]
  },
  {
   "cell_type": "code",
   "execution_count": 16,
   "metadata": {
    "ExecuteTime": {
     "end_time": "2021-03-06T06:49:52.713842Z",
     "start_time": "2021-03-06T06:49:52.693304Z"
    }
   },
   "outputs": [
    {
     "data": {
      "text/html": [
       "<div>\n",
       "<style scoped>\n",
       "    .dataframe tbody tr th:only-of-type {\n",
       "        vertical-align: middle;\n",
       "    }\n",
       "\n",
       "    .dataframe tbody tr th {\n",
       "        vertical-align: top;\n",
       "    }\n",
       "\n",
       "    .dataframe thead th {\n",
       "        text-align: right;\n",
       "    }\n",
       "</style>\n",
       "<table border=\"1\" class=\"dataframe\">\n",
       "  <thead>\n",
       "    <tr style=\"text-align: right;\">\n",
       "      <th></th>\n",
       "      <th>country_code</th>\n",
       "      <th>Alpha-3 code</th>\n",
       "    </tr>\n",
       "  </thead>\n",
       "  <tbody>\n",
       "    <tr>\n",
       "      <th>0</th>\n",
       "      <td>AF</td>\n",
       "      <td>AFG</td>\n",
       "    </tr>\n",
       "    <tr>\n",
       "      <th>1</th>\n",
       "      <td>AX</td>\n",
       "      <td>ALA</td>\n",
       "    </tr>\n",
       "    <tr>\n",
       "      <th>2</th>\n",
       "      <td>AL</td>\n",
       "      <td>ALB</td>\n",
       "    </tr>\n",
       "    <tr>\n",
       "      <th>3</th>\n",
       "      <td>DZ</td>\n",
       "      <td>DZA</td>\n",
       "    </tr>\n",
       "    <tr>\n",
       "      <th>4</th>\n",
       "      <td>AS</td>\n",
       "      <td>ASM</td>\n",
       "    </tr>\n",
       "  </tbody>\n",
       "</table>\n",
       "</div>"
      ],
      "text/plain": [
       "  country_code Alpha-3 code\n",
       "0           AF          AFG\n",
       "1           AX          ALA\n",
       "2           AL          ALB\n",
       "3           DZ          DZA\n",
       "4           AS          ASM"
      ]
     },
     "execution_count": 16,
     "metadata": {},
     "output_type": "execute_result"
    }
   ],
   "source": [
    "# Keep code columns only and rename\n",
    "ISO = country_ISO.iloc[:, 1:3]\n",
    "ISO.rename({'Alpha-2 code':'country_code'}, axis=1, inplace=True)\n",
    "ISO.head()"
   ]
  },
  {
   "cell_type": "code",
   "execution_count": 17,
   "metadata": {
    "ExecuteTime": {
     "end_time": "2021-03-06T06:49:54.234515Z",
     "start_time": "2021-03-06T06:49:52.717195Z"
    }
   },
   "outputs": [],
   "source": [
    "loans_ISO = pd.merge(loans_dropped, ISO, on=['country_code'], how='left')"
   ]
  },
  {
   "cell_type": "markdown",
   "metadata": {},
   "source": [
    "To check the result"
   ]
  },
  {
   "cell_type": "code",
   "execution_count": 18,
   "metadata": {
    "ExecuteTime": {
     "end_time": "2021-03-06T06:49:54.298071Z",
     "start_time": "2021-03-06T06:49:54.249303Z"
    }
   },
   "outputs": [
    {
     "data": {
      "text/plain": [
       "1587"
      ]
     },
     "execution_count": 18,
     "metadata": {},
     "output_type": "execute_result"
    }
   ],
   "source": [
    "loans_ISO['Alpha-3 code'].isnull().sum()"
   ]
  },
  {
   "cell_type": "code",
   "execution_count": 19,
   "metadata": {
    "ExecuteTime": {
     "end_time": "2021-03-06T06:49:54.952541Z",
     "start_time": "2021-03-06T06:49:54.313342Z"
    }
   },
   "outputs": [
    {
     "data": {
      "text/plain": [
       "array(['Kosovo', 'South Sudan', 'Namibia'], dtype=object)"
      ]
     },
     "execution_count": 19,
     "metadata": {},
     "output_type": "execute_result"
    }
   ],
   "source": [
    "loans_ISO[loans_ISO['Alpha-3 code'].isnull()]['country'].unique()"
   ]
  },
  {
   "cell_type": "markdown",
   "metadata": {},
   "source": [
    "According to [countrycode.org](https://countrycode.org/), the 3-letter ISO codes of Kosovo, South Sudan and Namibia are 'XKX, 'SSD' and 'NAM'， respectively."
   ]
  },
  {
   "cell_type": "code",
   "execution_count": 20,
   "metadata": {
    "ExecuteTime": {
     "end_time": "2021-03-06T06:49:55.234904Z",
     "start_time": "2021-03-06T06:49:54.962675Z"
    }
   },
   "outputs": [
    {
     "data": {
      "text/plain": [
       "0"
      ]
     },
     "execution_count": 20,
     "metadata": {},
     "output_type": "execute_result"
    }
   ],
   "source": [
    "# Fill Null values\n",
    "d = {'Kosovo': \"XKX\", 'South Sudan':'SSD', 'Namibia':'NAM'}\n",
    "s = loans_ISO.country.map(d)\n",
    "loans_ISO['Alpha-3 code'] = loans_ISO['Alpha-3 code'].combine_first(s)\n",
    "\n",
    "# Check result\n",
    "loans_ISO['Alpha-3 code'].isnull().sum()"
   ]
  },
  {
   "cell_type": "code",
   "execution_count": 21,
   "metadata": {
    "ExecuteTime": {
     "end_time": "2021-03-06T06:49:56.207852Z",
     "start_time": "2021-03-06T06:49:55.246417Z"
    }
   },
   "outputs": [],
   "source": [
    "loans_ISO.insert(6, 'ISO', loans_ISO['Alpha-3 code'])\n",
    "loans_ISO.drop(columns=['country_code','Alpha-3 code'],inplace=True)"
   ]
  },
  {
   "cell_type": "code",
   "execution_count": 22,
   "metadata": {
    "ExecuteTime": {
     "end_time": "2021-03-06T06:49:57.369631Z",
     "start_time": "2021-03-06T06:49:56.214556Z"
    }
   },
   "outputs": [
    {
     "name": "stdout",
     "output_type": "stream",
     "text": [
      "<class 'pandas.core.frame.DataFrame'>\n",
      "Int64Index: 671205 entries, 0 to 671204\n",
      "Data columns (total 17 columns):\n",
      " #   Column              Non-Null Count   Dtype  \n",
      "---  ------              --------------   -----  \n",
      " 0   id                  671205 non-null  int64  \n",
      " 1   funded_amount       671205 non-null  float64\n",
      " 2   loan_amount         671205 non-null  float64\n",
      " 3   activity            671205 non-null  object \n",
      " 4   sector              671205 non-null  object \n",
      " 5   use                 666973 non-null  object \n",
      " 6   ISO                 671205 non-null  object \n",
      " 7   country             671205 non-null  object \n",
      " 8   region              614405 non-null  object \n",
      " 9   partner_id          657698 non-null  float64\n",
      " 10  posted_time         671205 non-null  object \n",
      " 11  funded_time         622874 non-null  object \n",
      " 12  term_in_months      671205 non-null  float64\n",
      " 13  lender_count        671205 non-null  int64  \n",
      " 14  tags                499789 non-null  object \n",
      " 15  borrower_genders    666984 non-null  object \n",
      " 16  repayment_interval  671205 non-null  object \n",
      "dtypes: float64(4), int64(2), object(11)\n",
      "memory usage: 92.2+ MB\n"
     ]
    }
   ],
   "source": [
    "loans_ISO.info()"
   ]
  },
  {
   "cell_type": "markdown",
   "metadata": {},
   "source": [
    "### Posted time and funded time\n",
    "The `posted_time` is the time at which the loan is posted on Kiva by the field agent; `funded_time` is the time when the loan posted to Kiva gets funded by lenders completely. From the two time, we can get the information about how long a loan gets the full fund on Kiva platform."
   ]
  },
  {
   "cell_type": "code",
   "execution_count": 23,
   "metadata": {
    "ExecuteTime": {
     "end_time": "2021-03-06T06:49:57.521297Z",
     "start_time": "2021-03-06T06:49:57.377442Z"
    }
   },
   "outputs": [],
   "source": [
    "times = loans[['posted_time', 'funded_time']]"
   ]
  },
  {
   "cell_type": "code",
   "execution_count": 24,
   "metadata": {
    "ExecuteTime": {
     "end_time": "2021-03-06T06:49:57.929410Z",
     "start_time": "2021-03-06T06:49:57.532196Z"
    }
   },
   "outputs": [
    {
     "name": "stdout",
     "output_type": "stream",
     "text": [
      "<class 'pandas.core.frame.DataFrame'>\n",
      "RangeIndex: 671205 entries, 0 to 671204\n",
      "Data columns (total 2 columns):\n",
      " #   Column       Non-Null Count   Dtype \n",
      "---  ------       --------------   ----- \n",
      " 0   posted_time  671205 non-null  object\n",
      " 1   funded_time  622874 non-null  object\n",
      "dtypes: object(2)\n",
      "memory usage: 10.2+ MB\n"
     ]
    }
   ],
   "source": [
    "times.info()"
   ]
  },
  {
   "cell_type": "code",
   "execution_count": 25,
   "metadata": {
    "ExecuteTime": {
     "end_time": "2021-03-06T06:49:57.982367Z",
     "start_time": "2021-03-06T06:49:57.953393Z"
    }
   },
   "outputs": [
    {
     "data": {
      "text/html": [
       "<div>\n",
       "<style scoped>\n",
       "    .dataframe tbody tr th:only-of-type {\n",
       "        vertical-align: middle;\n",
       "    }\n",
       "\n",
       "    .dataframe tbody tr th {\n",
       "        vertical-align: top;\n",
       "    }\n",
       "\n",
       "    .dataframe thead th {\n",
       "        text-align: right;\n",
       "    }\n",
       "</style>\n",
       "<table border=\"1\" class=\"dataframe\">\n",
       "  <thead>\n",
       "    <tr style=\"text-align: right;\">\n",
       "      <th></th>\n",
       "      <th>posted_time</th>\n",
       "      <th>funded_time</th>\n",
       "    </tr>\n",
       "  </thead>\n",
       "  <tbody>\n",
       "    <tr>\n",
       "      <th>0</th>\n",
       "      <td>2014-01-01 06:12:39+00:00</td>\n",
       "      <td>2014-01-02 10:06:32+00:00</td>\n",
       "    </tr>\n",
       "    <tr>\n",
       "      <th>1</th>\n",
       "      <td>2014-01-01 06:51:08+00:00</td>\n",
       "      <td>2014-01-02 09:17:23+00:00</td>\n",
       "    </tr>\n",
       "    <tr>\n",
       "      <th>2</th>\n",
       "      <td>2014-01-01 09:58:07+00:00</td>\n",
       "      <td>2014-01-01 16:01:36+00:00</td>\n",
       "    </tr>\n",
       "    <tr>\n",
       "      <th>3</th>\n",
       "      <td>2014-01-01 08:03:11+00:00</td>\n",
       "      <td>2014-01-01 13:00:00+00:00</td>\n",
       "    </tr>\n",
       "    <tr>\n",
       "      <th>4</th>\n",
       "      <td>2014-01-01 11:53:19+00:00</td>\n",
       "      <td>2014-01-01 19:18:51+00:00</td>\n",
       "    </tr>\n",
       "  </tbody>\n",
       "</table>\n",
       "</div>"
      ],
      "text/plain": [
       "                 posted_time                funded_time\n",
       "0  2014-01-01 06:12:39+00:00  2014-01-02 10:06:32+00:00\n",
       "1  2014-01-01 06:51:08+00:00  2014-01-02 09:17:23+00:00\n",
       "2  2014-01-01 09:58:07+00:00  2014-01-01 16:01:36+00:00\n",
       "3  2014-01-01 08:03:11+00:00  2014-01-01 13:00:00+00:00\n",
       "4  2014-01-01 11:53:19+00:00  2014-01-01 19:18:51+00:00"
      ]
     },
     "execution_count": 25,
     "metadata": {},
     "output_type": "execute_result"
    }
   ],
   "source": [
    "times.head()"
   ]
  },
  {
   "cell_type": "markdown",
   "metadata": {},
   "source": [
    "#### Convert to datetime"
   ]
  },
  {
   "cell_type": "code",
   "execution_count": 26,
   "metadata": {
    "ExecuteTime": {
     "end_time": "2021-03-06T06:50:36.077446Z",
     "start_time": "2021-03-06T06:49:58.003951Z"
    }
   },
   "outputs": [
    {
     "data": {
      "text/html": [
       "<div>\n",
       "<style scoped>\n",
       "    .dataframe tbody tr th:only-of-type {\n",
       "        vertical-align: middle;\n",
       "    }\n",
       "\n",
       "    .dataframe tbody tr th {\n",
       "        vertical-align: top;\n",
       "    }\n",
       "\n",
       "    .dataframe thead th {\n",
       "        text-align: right;\n",
       "    }\n",
       "</style>\n",
       "<table border=\"1\" class=\"dataframe\">\n",
       "  <thead>\n",
       "    <tr style=\"text-align: right;\">\n",
       "      <th></th>\n",
       "      <th>posted_time</th>\n",
       "      <th>funded_time</th>\n",
       "    </tr>\n",
       "  </thead>\n",
       "  <tbody>\n",
       "    <tr>\n",
       "      <th>0</th>\n",
       "      <td>2014-01-01 06:12:39+00:00</td>\n",
       "      <td>2014-01-02 10:06:32+00:00</td>\n",
       "    </tr>\n",
       "    <tr>\n",
       "      <th>1</th>\n",
       "      <td>2014-01-01 06:51:08+00:00</td>\n",
       "      <td>2014-01-02 09:17:23+00:00</td>\n",
       "    </tr>\n",
       "    <tr>\n",
       "      <th>2</th>\n",
       "      <td>2014-01-01 09:58:07+00:00</td>\n",
       "      <td>2014-01-01 16:01:36+00:00</td>\n",
       "    </tr>\n",
       "    <tr>\n",
       "      <th>3</th>\n",
       "      <td>2014-01-01 08:03:11+00:00</td>\n",
       "      <td>2014-01-01 13:00:00+00:00</td>\n",
       "    </tr>\n",
       "    <tr>\n",
       "      <th>4</th>\n",
       "      <td>2014-01-01 11:53:19+00:00</td>\n",
       "      <td>2014-01-01 19:18:51+00:00</td>\n",
       "    </tr>\n",
       "  </tbody>\n",
       "</table>\n",
       "</div>"
      ],
      "text/plain": [
       "                posted_time               funded_time\n",
       "0 2014-01-01 06:12:39+00:00 2014-01-02 10:06:32+00:00\n",
       "1 2014-01-01 06:51:08+00:00 2014-01-02 09:17:23+00:00\n",
       "2 2014-01-01 09:58:07+00:00 2014-01-01 16:01:36+00:00\n",
       "3 2014-01-01 08:03:11+00:00 2014-01-01 13:00:00+00:00\n",
       "4 2014-01-01 11:53:19+00:00 2014-01-01 19:18:51+00:00"
      ]
     },
     "execution_count": 26,
     "metadata": {},
     "output_type": "execute_result"
    }
   ],
   "source": [
    "# Parese string to datetime\n",
    "times_parsed = times.applymap(lambda x: dt.strptime(x,'%Y-%m-%d %H:%M:%S%z'),na_action='ignore')\n",
    "times_parsed.head()"
   ]
  },
  {
   "cell_type": "markdown",
   "metadata": {},
   "source": [
    "#### funded time_missing value"
   ]
  },
  {
   "cell_type": "code",
   "execution_count": 27,
   "metadata": {
    "ExecuteTime": {
     "end_time": "2021-03-06T06:50:36.109789Z",
     "start_time": "2021-03-06T06:50:36.090227Z"
    }
   },
   "outputs": [
    {
     "data": {
      "text/plain": [
       "48331"
      ]
     },
     "execution_count": 27,
     "metadata": {},
     "output_type": "execute_result"
    }
   ],
   "source": [
    "(times_parsed.funded_time.isnull()).sum()"
   ]
  },
  {
   "cell_type": "code",
   "execution_count": 28,
   "metadata": {
    "ExecuteTime": {
     "end_time": "2021-03-06T06:50:36.128251Z",
     "start_time": "2021-03-06T06:50:36.119111Z"
    }
   },
   "outputs": [],
   "source": [
    "# Set posted_time as index\n",
    "times_parsed_index = times_parsed.set_index('posted_time',drop=False)"
   ]
  },
  {
   "cell_type": "code",
   "execution_count": 29,
   "metadata": {
    "ExecuteTime": {
     "end_time": "2021-03-06T06:50:36.710292Z",
     "start_time": "2021-03-06T06:50:36.136217Z"
    }
   },
   "outputs": [],
   "source": [
    "# Resample the time by month and calculate the number of loans\n",
    "time_monthly_count = times_parsed_index.resample('M').count()\n",
    "time_monthly_count.rename(columns={'posted_time': 'loans_posted','funded_time': 'loans_funded_completely'}, inplace=True)\n",
    "\n",
    "# Add the posted/funded count ratio\n",
    "time_monthly_count['ratio'] = round(time_monthly_count.loans_funded_completely / time_monthly_count.loans_posted, 2)"
   ]
  },
  {
   "cell_type": "code",
   "execution_count": 30,
   "metadata": {
    "ExecuteTime": {
     "end_time": "2021-03-06T06:50:37.199617Z",
     "start_time": "2021-03-06T06:50:36.721358Z"
    }
   },
   "outputs": [
    {
     "data": {
      "image/png": "[encoded data removed]",
      "text/plain": [
       "<Figure size 432x288 with 1 Axes>"
      ]
     },
     "metadata": {
      "needs_background": "light"
     },
     "output_type": "display_data"
    }
   ],
   "source": [
    "# The number of loans posted and of the number of loans completely funded month by month\n",
    "_ = plt.plot(time_monthly_count[['loans_posted', 'loans_funded_completely']])\n",
    "_ = plt.legend(['loans posted', 'loans funded completely'])\n",
    "_ = plt.ylabel('Number of loans')"
   ]
  },
  {
   "cell_type": "code",
   "execution_count": 31,
   "metadata": {
    "ExecuteTime": {
     "end_time": "2021-03-06T06:50:37.744237Z",
     "start_time": "2021-03-06T06:50:37.209077Z"
    }
   },
   "outputs": [
    {
     "data": {
      "image/png": "[encoded data removed]",
      "text/plain": [
       "<Figure size 432x288 with 1 Axes>"
      ]
     },
     "metadata": {
      "needs_background": "light"
     },
     "output_type": "display_data"
    }
   ],
   "source": [
    "# The ratio of loans completely funded and loans posted month by month\n",
    "_ = plt.plot(time_monthly_count.ratio, label='funded/posted ratio')\n",
    "_ = plt.ylabel('Completely-funded/posted Ratio')\n",
    "_ = plt.legend()"
   ]
  },
  {
   "cell_type": "code",
   "execution_count": 55,
   "metadata": {
    "ExecuteTime": {
     "end_time": "2021-03-06T07:08:35.198317Z",
     "start_time": "2021-03-06T07:08:35.164051Z"
    }
   },
   "outputs": [
    {
     "data": {
      "text/html": [
       "<div>\n",
       "<style scoped>\n",
       "    .dataframe tbody tr th:only-of-type {\n",
       "        vertical-align: middle;\n",
       "    }\n",
       "\n",
       "    .dataframe tbody tr th {\n",
       "        vertical-align: top;\n",
       "    }\n",
       "\n",
       "    .dataframe thead th {\n",
       "        text-align: right;\n",
       "    }\n",
       "</style>\n",
       "<table border=\"1\" class=\"dataframe\">\n",
       "  <thead>\n",
       "    <tr style=\"text-align: right;\">\n",
       "      <th></th>\n",
       "      <th>loans_posted</th>\n",
       "      <th>loans_funded_completely</th>\n",
       "      <th>ratio</th>\n",
       "    </tr>\n",
       "    <tr>\n",
       "      <th>posted_time</th>\n",
       "      <th></th>\n",
       "      <th></th>\n",
       "      <th></th>\n",
       "    </tr>\n",
       "  </thead>\n",
       "  <tbody>\n",
       "    <tr>\n",
       "      <th>2016-10-31 00:00:00+00:00</th>\n",
       "      <td>16638</td>\n",
       "      <td>14988</td>\n",
       "      <td>0.90</td>\n",
       "    </tr>\n",
       "    <tr>\n",
       "      <th>2016-11-30 00:00:00+00:00</th>\n",
       "      <td>18474</td>\n",
       "      <td>16899</td>\n",
       "      <td>0.91</td>\n",
       "    </tr>\n",
       "    <tr>\n",
       "      <th>2016-12-31 00:00:00+00:00</th>\n",
       "      <td>16997</td>\n",
       "      <td>15970</td>\n",
       "      <td>0.94</td>\n",
       "    </tr>\n",
       "    <tr>\n",
       "      <th>2017-01-31 00:00:00+00:00</th>\n",
       "      <td>16114</td>\n",
       "      <td>15129</td>\n",
       "      <td>0.94</td>\n",
       "    </tr>\n",
       "    <tr>\n",
       "      <th>2017-02-28 00:00:00+00:00</th>\n",
       "      <td>17695</td>\n",
       "      <td>17361</td>\n",
       "      <td>0.98</td>\n",
       "    </tr>\n",
       "    <tr>\n",
       "      <th>2017-03-31 00:00:00+00:00</th>\n",
       "      <td>22951</td>\n",
       "      <td>22171</td>\n",
       "      <td>0.97</td>\n",
       "    </tr>\n",
       "    <tr>\n",
       "      <th>2017-04-30 00:00:00+00:00</th>\n",
       "      <td>17766</td>\n",
       "      <td>17518</td>\n",
       "      <td>0.99</td>\n",
       "    </tr>\n",
       "    <tr>\n",
       "      <th>2017-05-31 00:00:00+00:00</th>\n",
       "      <td>21263</td>\n",
       "      <td>20076</td>\n",
       "      <td>0.94</td>\n",
       "    </tr>\n",
       "    <tr>\n",
       "      <th>2017-06-30 00:00:00+00:00</th>\n",
       "      <td>18407</td>\n",
       "      <td>13986</td>\n",
       "      <td>0.76</td>\n",
       "    </tr>\n",
       "    <tr>\n",
       "      <th>2017-07-31 00:00:00+00:00</th>\n",
       "      <td>3706</td>\n",
       "      <td>1309</td>\n",
       "      <td>0.35</td>\n",
       "    </tr>\n",
       "  </tbody>\n",
       "</table>\n",
       "</div>"
      ],
      "text/plain": [
       "                           loans_posted  loans_funded_completely  ratio\n",
       "posted_time                                                            \n",
       "2016-10-31 00:00:00+00:00         16638                    14988   0.90\n",
       "2016-11-30 00:00:00+00:00         18474                    16899   0.91\n",
       "2016-12-31 00:00:00+00:00         16997                    15970   0.94\n",
       "2017-01-31 00:00:00+00:00         16114                    15129   0.94\n",
       "2017-02-28 00:00:00+00:00         17695                    17361   0.98\n",
       "2017-03-31 00:00:00+00:00         22951                    22171   0.97\n",
       "2017-04-30 00:00:00+00:00         17766                    17518   0.99\n",
       "2017-05-31 00:00:00+00:00         21263                    20076   0.94\n",
       "2017-06-30 00:00:00+00:00         18407                    13986   0.76\n",
       "2017-07-31 00:00:00+00:00          3706                     1309   0.35"
      ]
     },
     "execution_count": 55,
     "metadata": {},
     "output_type": "execute_result"
    }
   ],
   "source": [
    "# Check the last few month\n",
    "time_monthly_count.tail(10)"
   ]
  },
  {
   "cell_type": "code",
   "execution_count": 33,
   "metadata": {
    "ExecuteTime": {
     "end_time": "2021-03-06T06:50:37.825779Z",
     "start_time": "2021-03-06T06:50:37.777074Z"
    }
   },
   "outputs": [
    {
     "data": {
      "text/html": [
       "<div>\n",
       "<style scoped>\n",
       "    .dataframe tbody tr th:only-of-type {\n",
       "        vertical-align: middle;\n",
       "    }\n",
       "\n",
       "    .dataframe tbody tr th {\n",
       "        vertical-align: top;\n",
       "    }\n",
       "\n",
       "    .dataframe thead th {\n",
       "        text-align: right;\n",
       "    }\n",
       "</style>\n",
       "<table border=\"1\" class=\"dataframe\">\n",
       "  <thead>\n",
       "    <tr style=\"text-align: right;\">\n",
       "      <th></th>\n",
       "      <th>loans_posted</th>\n",
       "      <th>loans_funded_completely</th>\n",
       "      <th>ratio</th>\n",
       "    </tr>\n",
       "  </thead>\n",
       "  <tbody>\n",
       "    <tr>\n",
       "      <th>count</th>\n",
       "      <td>43.000000</td>\n",
       "      <td>43.000000</td>\n",
       "      <td>43.000000</td>\n",
       "    </tr>\n",
       "    <tr>\n",
       "      <th>mean</th>\n",
       "      <td>15609.418605</td>\n",
       "      <td>14485.441860</td>\n",
       "      <td>0.917907</td>\n",
       "    </tr>\n",
       "    <tr>\n",
       "      <th>std</th>\n",
       "      <td>2777.194115</td>\n",
       "      <td>2846.428893</td>\n",
       "      <td>0.097847</td>\n",
       "    </tr>\n",
       "    <tr>\n",
       "      <th>min</th>\n",
       "      <td>3706.000000</td>\n",
       "      <td>1309.000000</td>\n",
       "      <td>0.350000</td>\n",
       "    </tr>\n",
       "    <tr>\n",
       "      <th>25%</th>\n",
       "      <td>14512.000000</td>\n",
       "      <td>13482.500000</td>\n",
       "      <td>0.905000</td>\n",
       "    </tr>\n",
       "    <tr>\n",
       "      <th>50%</th>\n",
       "      <td>15930.000000</td>\n",
       "      <td>14485.000000</td>\n",
       "      <td>0.940000</td>\n",
       "    </tr>\n",
       "    <tr>\n",
       "      <th>75%</th>\n",
       "      <td>16701.000000</td>\n",
       "      <td>15392.000000</td>\n",
       "      <td>0.960000</td>\n",
       "    </tr>\n",
       "    <tr>\n",
       "      <th>max</th>\n",
       "      <td>22951.000000</td>\n",
       "      <td>22171.000000</td>\n",
       "      <td>0.990000</td>\n",
       "    </tr>\n",
       "  </tbody>\n",
       "</table>\n",
       "</div>"
      ],
      "text/plain": [
       "       loans_posted  loans_funded_completely      ratio\n",
       "count     43.000000                43.000000  43.000000\n",
       "mean   15609.418605             14485.441860   0.917907\n",
       "std     2777.194115              2846.428893   0.097847\n",
       "min     3706.000000              1309.000000   0.350000\n",
       "25%    14512.000000             13482.500000   0.905000\n",
       "50%    15930.000000             14485.000000   0.940000\n",
       "75%    16701.000000             15392.000000   0.960000\n",
       "max    22951.000000             22171.000000   0.990000"
      ]
     },
     "execution_count": 33,
     "metadata": {},
     "output_type": "execute_result"
    }
   ],
   "source": [
    "time_monthly_count.describe()"
   ]
  },
  {
   "cell_type": "markdown",
   "metadata": {},
   "source": [
    "The completely-funded rate of the loans posted in 2017-07 is much lower than the other months. 2017-07 is the last month in the dataset, in which many loans posted had no enough time to be funded completely. The performance of 2017-06, the month before last, is also not as good as the previous months. \n",
    "\n",
    "Before handling the missing value in these two months, let's check the difference between the posted time and the funded time month by month."
   ]
  },
  {
   "cell_type": "code",
   "execution_count": 45,
   "metadata": {
    "ExecuteTime": {
     "end_time": "2021-03-06T07:02:13.273045Z",
     "start_time": "2021-03-06T07:02:04.002251Z"
    }
   },
   "outputs": [],
   "source": [
    "# The date difference between posted time and funded time in the whole time period\n",
    "posted_funded_diff_index = times_parsed_index.funded_time - times_parsed_index.posted_time\n",
    "diff_days = posted_funded_diff_index.apply(lambda x: x.days)"
   ]
  },
  {
   "cell_type": "code",
   "execution_count": 35,
   "metadata": {
    "ExecuteTime": {
     "end_time": "2021-03-06T06:50:48.357888Z",
     "start_time": "2021-03-06T06:50:47.238631Z"
    }
   },
   "outputs": [
    {
     "data": {
      "image/png": "[encoded data removed]",
      "text/plain": [
       "<Figure size 432x288 with 1 Axes>"
      ]
     },
     "metadata": {
      "needs_background": "light"
     },
     "output_type": "display_data"
    }
   ],
   "source": [
    "# Resample the time by month and check mean, median, and standard deviation\n",
    "diff_by_month = diff_days.resample('M')\n",
    "\n",
    "diff_median = diff_by_month.median()\n",
    "\n",
    "diff_mean = diff_by_month.mean()\n",
    "\n",
    "diff_std = diff_by_month.std()\n",
    "\n",
    "diff_stat = pd.DataFrame({'mean': diff_mean, 'median': diff_median, 'std':diff_std})\n",
    "\n",
    "_ = diff_stat.plot()"
   ]
  },
  {
   "cell_type": "markdown",
   "metadata": {},
   "source": [
    "The distribution of the difference between posted time and funded time shows that:\n",
    "\n",
    "* The mean and median of the difference changed month by month. \n",
    "* The standard deviation is pretty high in the second half of 2014, which impacted more on the mean value than the median. \n",
    "* The minimal standard deviation in the last two month resulted from the relatively few data points in that time.\n",
    "\n",
    "Considering that the completely-funded rate is too low in the last month, 2017-7 will be drop. We will impute the missing value in all the previous months with the monthly median."
   ]
  },
  {
   "cell_type": "code",
   "execution_count": 36,
   "metadata": {
    "ExecuteTime": {
     "end_time": "2021-03-06T06:50:48.654832Z",
     "start_time": "2021-03-06T06:50:48.368857Z"
    }
   },
   "outputs": [],
   "source": [
    "# Drop the last month\n",
    "times_parsed.drop(times_parsed[(times_parsed.posted_time.dt.year==2017) & (times_parsed.posted_time.dt.month==7)].index, inplace=True)"
   ]
  },
  {
   "cell_type": "code",
   "execution_count": 37,
   "metadata": {
    "ExecuteTime": {
     "end_time": "2021-03-06T06:50:48.752669Z",
     "start_time": "2021-03-06T06:50:48.664541Z"
    }
   },
   "outputs": [
    {
     "name": "stderr",
     "output_type": "stream",
     "text": [
      "/Users/lasayin/opt/anaconda3/lib/python3.8/site-packages/pandas/core/arrays/datetimes.py:1101: UserWarning: Converting to PeriodArray/Index representation will drop timezone information.\n",
      "  warnings.warn(\n"
     ]
    },
    {
     "data": {
      "text/html": [
       "<div>\n",
       "<style scoped>\n",
       "    .dataframe tbody tr th:only-of-type {\n",
       "        vertical-align: middle;\n",
       "    }\n",
       "\n",
       "    .dataframe tbody tr th {\n",
       "        vertical-align: top;\n",
       "    }\n",
       "\n",
       "    .dataframe thead th {\n",
       "        text-align: right;\n",
       "    }\n",
       "</style>\n",
       "<table border=\"1\" class=\"dataframe\">\n",
       "  <thead>\n",
       "    <tr style=\"text-align: right;\">\n",
       "      <th></th>\n",
       "      <th>posted_time</th>\n",
       "      <th>funded_time</th>\n",
       "      <th>posted_time_m</th>\n",
       "    </tr>\n",
       "  </thead>\n",
       "  <tbody>\n",
       "    <tr>\n",
       "      <th>667494</th>\n",
       "      <td>2017-06-30 13:13:08+00:00</td>\n",
       "      <td>2017-07-01 19:46:07+00:00</td>\n",
       "      <td>2017-06</td>\n",
       "    </tr>\n",
       "    <tr>\n",
       "      <th>667495</th>\n",
       "      <td>2017-06-30 17:08:33+00:00</td>\n",
       "      <td>NaT</td>\n",
       "      <td>2017-06</td>\n",
       "    </tr>\n",
       "    <tr>\n",
       "      <th>667496</th>\n",
       "      <td>2017-06-30 01:56:16+00:00</td>\n",
       "      <td>NaT</td>\n",
       "      <td>2017-06</td>\n",
       "    </tr>\n",
       "    <tr>\n",
       "      <th>667497</th>\n",
       "      <td>2017-06-30 15:05:11+00:00</td>\n",
       "      <td>NaT</td>\n",
       "      <td>2017-06</td>\n",
       "    </tr>\n",
       "    <tr>\n",
       "      <th>667498</th>\n",
       "      <td>2017-06-30 16:35:00+00:00</td>\n",
       "      <td>2017-07-01 23:38:23+00:00</td>\n",
       "      <td>2017-06</td>\n",
       "    </tr>\n",
       "  </tbody>\n",
       "</table>\n",
       "</div>"
      ],
      "text/plain": [
       "                     posted_time               funded_time posted_time_m\n",
       "667494 2017-06-30 13:13:08+00:00 2017-07-01 19:46:07+00:00       2017-06\n",
       "667495 2017-06-30 17:08:33+00:00                       NaT       2017-06\n",
       "667496 2017-06-30 01:56:16+00:00                       NaT       2017-06\n",
       "667497 2017-06-30 15:05:11+00:00                       NaT       2017-06\n",
       "667498 2017-06-30 16:35:00+00:00 2017-07-01 23:38:23+00:00       2017-06"
      ]
     },
     "execution_count": 37,
     "metadata": {},
     "output_type": "execute_result"
    }
   ],
   "source": [
    "# Add a monthly column\n",
    "times_parsed['posted_time_m'] = times_parsed['posted_time'].dt.to_period('M')\n",
    "times_parsed.tail()"
   ]
  },
  {
   "cell_type": "code",
   "execution_count": 38,
   "metadata": {
    "ExecuteTime": {
     "end_time": "2021-03-06T06:50:49.204394Z",
     "start_time": "2021-03-06T06:50:48.755034Z"
    }
   },
   "outputs": [
    {
     "data": {
      "text/plain": [
       "0"
      ]
     },
     "execution_count": 38,
     "metadata": {},
     "output_type": "execute_result"
    }
   ],
   "source": [
    "# Fill the missing value in funded_time with the monthly median\n",
    "func = (times_parsed.funded_time - times_parsed.posted_time).median() + times_parsed.posted_time\n",
    "times_parsed.funded_time = times_parsed.groupby('posted_time_m').funded_time.transform(lambda x: x.fillna(func))\n",
    "times_parsed.funded_time.isna().sum()"
   ]
  },
  {
   "cell_type": "code",
   "execution_count": 39,
   "metadata": {
    "ExecuteTime": {
     "end_time": "2021-03-06T06:50:49.238665Z",
     "start_time": "2021-03-06T06:50:49.212614Z"
    }
   },
   "outputs": [],
   "source": [
    "# Drop posted_time_m\n",
    "times_parsed.drop(columns=['posted_time_m'], inplace=True)"
   ]
  },
  {
   "cell_type": "code",
   "execution_count": 40,
   "metadata": {
    "ExecuteTime": {
     "end_time": "2021-03-06T06:50:57.667560Z",
     "start_time": "2021-03-06T06:50:49.265290Z"
    }
   },
   "outputs": [],
   "source": [
    "# Convert the date and time to the date\n",
    "times_parsed = times_parsed.applymap(lambda x: x.date())"
   ]
  },
  {
   "cell_type": "markdown",
   "metadata": {},
   "source": [
    "#### Combine the result of the process above to the main dataset"
   ]
  },
  {
   "cell_type": "code",
   "execution_count": 43,
   "metadata": {
    "ExecuteTime": {
     "end_time": "2021-03-06T06:53:31.206413Z",
     "start_time": "2021-03-06T06:53:29.861964Z"
    }
   },
   "outputs": [
    {
     "name": "stdout",
     "output_type": "stream",
     "text": [
      "<class 'pandas.core.frame.DataFrame'>\n",
      "Int64Index: 667499 entries, 0 to 667498\n",
      "Data columns (total 17 columns):\n",
      " #   Column              Non-Null Count   Dtype  \n",
      "---  ------              --------------   -----  \n",
      " 0   id                  667499 non-null  int64  \n",
      " 1   funded_amount       667499 non-null  float64\n",
      " 2   loan_amount         667499 non-null  float64\n",
      " 3   activity            667499 non-null  object \n",
      " 4   sector              667499 non-null  object \n",
      " 5   use                 663272 non-null  object \n",
      " 6   ISO                 667499 non-null  object \n",
      " 7   country             667499 non-null  object \n",
      " 8   region              610938 non-null  object \n",
      " 9   partner_id          654017 non-null  float64\n",
      " 10  term_in_months      667499 non-null  float64\n",
      " 11  lender_count        667499 non-null  int64  \n",
      " 12  tags                496651 non-null  object \n",
      " 13  borrower_genders    663283 non-null  object \n",
      " 14  repayment_interval  667499 non-null  object \n",
      " 15  posted_date         667499 non-null  object \n",
      " 16  funded_date         667499 non-null  object \n",
      "dtypes: float64(4), int64(2), object(11)\n",
      "memory usage: 91.7+ MB\n"
     ]
    }
   ],
   "source": [
    "last_index = times_parsed.index[-1]\n",
    "loans_df = loans_ISO.iloc[:(last_index+1)].assign(posted_date=times_parsed.posted_time, funded_date=times_parsed.funded_time)\n",
    "loans_df.drop(columns=['posted_time','funded_time'],inplace=True)\n",
    "loans_df.info()"
   ]
  },
  {
   "cell_type": "markdown",
   "metadata": {},
   "source": [
    "### Borrowers gender"
   ]
  },
  {
   "cell_type": "markdown",
   "metadata": {},
   "source": [
    "#### Borrowers gender_missing value"
   ]
  },
  {
   "cell_type": "code",
   "execution_count": 56,
   "metadata": {
    "ExecuteTime": {
     "end_time": "2021-03-06T07:10:42.254926Z",
     "start_time": "2021-03-06T07:10:42.191069Z"
    }
   },
   "outputs": [
    {
     "data": {
      "text/plain": [
       "4216"
      ]
     },
     "execution_count": 56,
     "metadata": {},
     "output_type": "execute_result"
    }
   ],
   "source": [
    "loans_df.borrower_genders.isna().sum()"
   ]
  },
  {
   "cell_type": "code",
   "execution_count": 57,
   "metadata": {
    "ExecuteTime": {
     "end_time": "2021-03-06T07:10:56.572602Z",
     "start_time": "2021-03-06T07:10:55.820013Z"
    }
   },
   "outputs": [
    {
     "data": {
      "text/plain": [
       "<matplotlib.axes._subplots.AxesSubplot at 0x12613c880>"
      ]
     },
     "execution_count": 57,
     "metadata": {},
     "output_type": "execute_result"
    },
    {
     "data": {
      "image/png": "[encoded data removed]",
      "text/plain": [
       "<Figure size 432x288 with 1 Axes>"
      ]
     },
     "metadata": {
      "needs_background": "light"
     },
     "output_type": "display_data"
    }
   ],
   "source": [
    "loans_df[loans_df.borrower_genders.isna()].posted_date.hist()"
   ]
  },
  {
   "cell_type": "code",
   "execution_count": 58,
   "metadata": {
    "ExecuteTime": {
     "end_time": "2021-03-06T07:11:09.271386Z",
     "start_time": "2021-03-06T07:11:09.174272Z"
    }
   },
   "outputs": [
    {
     "data": {
      "text/plain": [
       "Colombia         777\n",
       "Kenya            707\n",
       "El Salvador      554\n",
       "Uganda           211\n",
       "United States    160\n",
       "                ... \n",
       "China              1\n",
       "Bhutan             1\n",
       "Chile              1\n",
       "Kyrgyzstan         1\n",
       "South Africa       1\n",
       "Name: country, Length: 69, dtype: int64"
      ]
     },
     "execution_count": 58,
     "metadata": {},
     "output_type": "execute_result"
    }
   ],
   "source": [
    "loans_df[loans_df.borrower_genders.isna()].country.value_counts()"
   ]
  },
  {
   "cell_type": "markdown",
   "metadata": {},
   "source": [
    "Most of the missing values happens during 2014 and 2015, up to 69 countries involved. We will fill the missing value with 'unknown'."
   ]
  },
  {
   "cell_type": "code",
   "execution_count": 59,
   "metadata": {
    "ExecuteTime": {
     "end_time": "2021-03-06T07:11:20.274139Z",
     "start_time": "2021-03-06T07:11:20.210312Z"
    }
   },
   "outputs": [],
   "source": [
    "loans_df.borrower_genders.fillna('unknown',inplace=True)"
   ]
  },
  {
   "cell_type": "markdown",
   "metadata": {},
   "source": [
    "#### Classify borrowers gender"
   ]
  },
  {
   "cell_type": "code",
   "execution_count": 60,
   "metadata": {
    "ExecuteTime": {
     "end_time": "2021-03-06T07:11:30.450953Z",
     "start_time": "2021-03-06T07:11:30.299964Z"
    }
   },
   "outputs": [
    {
     "data": {
      "text/plain": [
       "female                                                                                                                                                                                                                                                                                                                              424245\n",
       "male                                                                                                                                                                                                                                                                                                                                133714\n",
       "female, female                                                                                                                                                                                                                                                                                                                       12108\n",
       "female, female, female                                                                                                                                                                                                                                                                                                               11617\n",
       "female, female, female, female                                                                                                                                                                                                                                                                                                        9011\n",
       "                                                                                                                                                                                                                                                                                                                                     ...  \n",
       "female, male, female, female, male, male, male, female, male, female, female, male, male, female, male                                                                                                                                                                                                                                   1\n",
       "female, male, female, male, female, male, female, female, female, female, female, female, male, female, female, female, male, male, female, female                                                                                                                                                                                       1\n",
       "female, female, female, female, female, female, female, female, female, female, female, female, female, female, female, male, female, female, female                                                                                                                                                                                     1\n",
       "male, female, female, male, male, female, female, female, female, female, female                                                                                                                                                                                                                                                         1\n",
       "female, female, female, female, female, female, female, female, female, female, male, female, female, female, female, female, female, female, female, female, female, female, female, male, female, female, female, female, female, female, female, female, female, female, male, female, female, female, female, female, female         1\n",
       "Name: borrower_genders, Length: 11278, dtype: int64"
      ]
     },
     "execution_count": 60,
     "metadata": {},
     "output_type": "execute_result"
    }
   ],
   "source": [
    "loans_df.borrower_genders.value_counts()"
   ]
  },
  {
   "cell_type": "markdown",
   "metadata": {},
   "source": [
    "The borrowers gender is composed of all the individual or individuals' gender involved in a loan, which includes single female, single male, female group, male group, and the group mixed with female and male. We will classify borrowers gender for simplicity:\n",
    "* The female group will be labeled as 'female'\n",
    "* The male group will be labeled as 'male'\n",
    "* The group mixed with female and male will be labeled as 'mixed'"
   ]
  },
  {
   "cell_type": "code",
   "execution_count": 61,
   "metadata": {
    "ExecuteTime": {
     "end_time": "2021-03-06T07:11:44.706476Z",
     "start_time": "2021-03-06T07:11:43.772783Z"
    }
   },
   "outputs": [],
   "source": [
    "def genders(x): \n",
    "    # Classify borrowers gender\n",
    "    if x == 'unknown':\n",
    "        gender = 'unknown' \n",
    "    else:\n",
    "        gender_list = [y.strip(' ') for y in x.split(',')]\n",
    "        if 'female' not in gender_list:\n",
    "            gender = 'male'\n",
    "        elif 'male' not in gender_list:\n",
    "            gender = 'female'\n",
    "        else: gender = 'mixed'\n",
    "            \n",
    "    return gender\n",
    "        \n",
    "gender_group = loans_df.borrower_genders.apply(genders)"
   ]
  },
  {
   "cell_type": "code",
   "execution_count": 62,
   "metadata": {
    "ExecuteTime": {
     "end_time": "2021-03-06T07:11:44.808242Z",
     "start_time": "2021-03-06T07:11:44.709278Z"
    }
   },
   "outputs": [
    {
     "data": {
      "text/plain": [
       "female     485532\n",
       "male       137505\n",
       "mixed       40246\n",
       "unknown      4216\n",
       "Name: borrower_genders, dtype: int64"
      ]
     },
     "execution_count": 62,
     "metadata": {},
     "output_type": "execute_result"
    }
   ],
   "source": [
    "gender_group.value_counts()"
   ]
  },
  {
   "cell_type": "code",
   "execution_count": 63,
   "metadata": {
    "ExecuteTime": {
     "end_time": "2021-03-06T07:11:49.371654Z",
     "start_time": "2021-03-06T07:11:49.349367Z"
    }
   },
   "outputs": [],
   "source": [
    "loans_df.borrower_genders = gender_group"
   ]
  },
  {
   "cell_type": "markdown",
   "metadata": {},
   "source": [
    "### Tags of the loans"
   ]
  },
  {
   "cell_type": "markdown",
   "metadata": {},
   "source": [
    "#### Tags_missing value"
   ]
  },
  {
   "cell_type": "code",
   "execution_count": 64,
   "metadata": {
    "ExecuteTime": {
     "end_time": "2021-03-06T07:12:16.095602Z",
     "start_time": "2021-03-06T07:12:15.994915Z"
    }
   },
   "outputs": [
    {
     "data": {
      "text/plain": [
       "170848"
      ]
     },
     "execution_count": 64,
     "metadata": {},
     "output_type": "execute_result"
    }
   ],
   "source": [
    "loans_df.tags.isna().sum()"
   ]
  },
  {
   "cell_type": "markdown",
   "metadata": {},
   "source": [
    "`tags` is used to annotate the particular loans such as woman owned business, or user favorite. We will fill the missing value with 'No_tag'"
   ]
  },
  {
   "cell_type": "code",
   "execution_count": 65,
   "metadata": {
    "ExecuteTime": {
     "end_time": "2021-03-06T07:12:20.798723Z",
     "start_time": "2021-03-06T07:12:18.729897Z"
    }
   },
   "outputs": [
    {
     "data": {
      "text/plain": [
       "0"
      ]
     },
     "execution_count": 65,
     "metadata": {},
     "output_type": "execute_result"
    }
   ],
   "source": [
    "loans_df[loans_df.tags.notnull()].tags.str.contains('No_tag').sum()"
   ]
  },
  {
   "cell_type": "code",
   "execution_count": 66,
   "metadata": {
    "ExecuteTime": {
     "end_time": "2021-03-06T07:12:21.008150Z",
     "start_time": "2021-03-06T07:12:20.824047Z"
    }
   },
   "outputs": [],
   "source": [
    "# Fill missing values with 'No_tag'\n",
    "loans_df.tags.fillna('No_tag', inplace=True)"
   ]
  },
  {
   "cell_type": "markdown",
   "metadata": {},
   "source": [
    "#### Duplicated tags"
   ]
  },
  {
   "cell_type": "code",
   "execution_count": 67,
   "metadata": {
    "ExecuteTime": {
     "end_time": "2021-03-06T07:12:29.684325Z",
     "start_time": "2021-03-06T07:12:29.384251Z"
    }
   },
   "outputs": [
    {
     "data": {
      "text/plain": [
       "user_favorite                                                                                                                                              27088\n",
       "#Parent, #Woman Owned Biz                                                                                                                                  16597\n",
       "#Woman Owned Biz                                                                                                                                           12557\n",
       "#Parent                                                                                                                                                    11671\n",
       "#Elderly                                                                                                                                                    6482\n",
       "                                                                                                                                                           ...  \n",
       "#Animals, #Biz Durable Asset, #Eco-friendly, #Health and Sanitation, #Parent, #Technology, #Sustainable Ag, user_favorite, user_favorite, user_favorite        1\n",
       "#Animals, #Repeat Borrower, #Parent, #Low-profit FP                                                                                                            1\n",
       "user_favorite, user_favorite, #Woman Owned Biz, #Parent, #Biz Durable Asset                                                                                    1\n",
       "volunteer_like, #Repeat Borrower, #Woman Owned Biz, #Single Parent, #Parent, #Woman Owned Biz                                                                  1\n",
       "volunteer_pick, #Elderly, #Woman Owned Biz, #Vegan, #Interesting Photo, #Repeat Borrower                                                                       1\n",
       "Name: tags, Length: 86719, dtype: int64"
      ]
     },
     "execution_count": 67,
     "metadata": {},
     "output_type": "execute_result"
    }
   ],
   "source": [
    "loans.tags.value_counts()"
   ]
  },
  {
   "cell_type": "code",
   "execution_count": 68,
   "metadata": {
    "ExecuteTime": {
     "end_time": "2021-03-06T07:12:29.980531Z",
     "start_time": "2021-03-06T07:12:29.687672Z"
    }
   },
   "outputs": [
    {
     "data": {
      "text/plain": [
       "86720"
      ]
     },
     "execution_count": 68,
     "metadata": {},
     "output_type": "execute_result"
    }
   ],
   "source": [
    "len(loans.tags.unique())"
   ]
  },
  {
   "cell_type": "markdown",
   "metadata": {},
   "source": [
    "There are totally 86720 unique tags, among which some seems be duplicated, such as `user_favorite` and `user_favorite, user_favorite`, `#Parent, #Woman Owned Biz` and `#Woman Owned Biz, #Parent`. We will union the duplicated taps which are in the top 10 list."
   ]
  },
  {
   "cell_type": "code",
   "execution_count": 69,
   "metadata": {
    "ExecuteTime": {
     "end_time": "2021-03-06T07:12:32.640157Z",
     "start_time": "2021-03-06T07:12:30.932585Z"
    }
   },
   "outputs": [],
   "source": [
    "loans_df.tags = loans_df.tags.str.replace('user_favorite, user_favorite', 'user_favorite')\n",
    "loans_df.tags = loans_df.tags.str.replace('#Woman Owned Biz, #Parent', '#Parent, #Woman Owned Biz')"
   ]
  },
  {
   "cell_type": "markdown",
   "metadata": {},
   "source": [
    "### Loans_Summary"
   ]
  },
  {
   "cell_type": "code",
   "execution_count": 70,
   "metadata": {
    "ExecuteTime": {
     "end_time": "2021-03-06T07:13:26.743582Z",
     "start_time": "2021-03-06T07:13:26.286446Z"
    }
   },
   "outputs": [
    {
     "name": "stdout",
     "output_type": "stream",
     "text": [
      "<class 'pandas.core.frame.DataFrame'>\n",
      "Int64Index: 667499 entries, 0 to 667498\n",
      "Data columns (total 17 columns):\n",
      " #   Column              Non-Null Count   Dtype  \n",
      "---  ------              --------------   -----  \n",
      " 0   id                  667499 non-null  int64  \n",
      " 1   funded_amount       667499 non-null  float64\n",
      " 2   loan_amount         667499 non-null  float64\n",
      " 3   activity            667499 non-null  object \n",
      " 4   sector              667499 non-null  object \n",
      " 5   use                 663272 non-null  object \n",
      " 6   ISO                 667499 non-null  object \n",
      " 7   country             667499 non-null  object \n",
      " 8   region              610938 non-null  object \n",
      " 9   partner_id          654017 non-null  float64\n",
      " 10  term_in_months      667499 non-null  float64\n",
      " 11  lender_count        667499 non-null  int64  \n",
      " 12  tags                667499 non-null  object \n",
      " 13  borrower_genders    667499 non-null  object \n",
      " 14  repayment_interval  667499 non-null  object \n",
      " 15  posted_date         667499 non-null  object \n",
      " 16  funded_date         667499 non-null  object \n",
      "dtypes: float64(4), int64(2), object(11)\n",
      "memory usage: 91.7+ MB\n"
     ]
    }
   ],
   "source": [
    "loans_df.info()"
   ]
  },
  {
   "cell_type": "markdown",
   "metadata": {},
   "source": [
    "In the `loans` dataset wrangling process, several main steps are taken as follows:\n",
    "* Remove the columns of `disbursed_date`, `date` and `currency`, which are redundant or not related to the project closely.\n",
    "* Convert 2-letter country code to 3-letter Country ISO Code to align with other datasets\n",
    "* Convert posted time and funded time to datetime; drop all the loans' data which are posted in 2017-07; fill the missing value of funded time with median.\n",
    "* Classify borrowers gender\n",
    "* Fill tags missing value with 'No_tag'; name the duplicate tags uniformly\n",
    "\n",
    "There are still missing value in several columns, which will be handled in EDA"
   ]
  },
  {
   "cell_type": "markdown",
   "metadata": {},
   "source": [
    "## MPI by the location of region"
   ]
  },
  {
   "cell_type": "markdown",
   "metadata": {},
   "source": [
    "### MPI_Data Description"
   ]
  },
  {
   "cell_type": "code",
   "execution_count": 71,
   "metadata": {
    "ExecuteTime": {
     "end_time": "2021-03-06T07:13:37.041685Z",
     "start_time": "2021-03-06T07:13:36.985195Z"
    }
   },
   "outputs": [
    {
     "name": "stdout",
     "output_type": "stream",
     "text": [
      "<class 'pandas.core.frame.DataFrame'>\n",
      "RangeIndex: 2772 entries, 0 to 2771\n",
      "Data columns (total 9 columns):\n",
      " #   Column        Non-Null Count  Dtype  \n",
      "---  ------        --------------  -----  \n",
      " 0   LocationName  984 non-null    object \n",
      " 1   ISO           1008 non-null   object \n",
      " 2   country       1008 non-null   object \n",
      " 3   region        984 non-null    object \n",
      " 4   world_region  1008 non-null   object \n",
      " 5   MPI           984 non-null    float64\n",
      " 6   geo           2772 non-null   object \n",
      " 7   lat           892 non-null    float64\n",
      " 8   lon           892 non-null    float64\n",
      "dtypes: float64(3), object(6)\n",
      "memory usage: 195.0+ KB\n"
     ]
    }
   ],
   "source": [
    "mpi_region_locations.info()"
   ]
  },
  {
   "cell_type": "markdown",
   "metadata": {},
   "source": [
    "* Column descriptions:\n",
    "\n",
    "    * LocationName: \"{region}, {country}\" - Unique ID for region\n",
    "    * ISO: Unique ID for country\n",
    "    * country: country name\n",
    "    * region: name of location within country\n",
    "    * world_region: General global region\n",
    "    * MPI: Multi-dimensional poverty index for this region\n",
    "    * geo: Lat-Lon pair\n",
    "    * lat: latitude\n",
    "    * lon: longitude\n"
   ]
  },
  {
   "cell_type": "markdown",
   "metadata": {},
   "source": [
    "### MPI_Missing value"
   ]
  },
  {
   "cell_type": "code",
   "execution_count": 72,
   "metadata": {
    "ExecuteTime": {
     "end_time": "2021-03-06T07:13:43.321053Z",
     "start_time": "2021-03-06T07:13:43.236108Z"
    }
   },
   "outputs": [
    {
     "data": {
      "text/html": [
       "<div>\n",
       "<style scoped>\n",
       "    .dataframe tbody tr th:only-of-type {\n",
       "        vertical-align: middle;\n",
       "    }\n",
       "\n",
       "    .dataframe tbody tr th {\n",
       "        vertical-align: top;\n",
       "    }\n",
       "\n",
       "    .dataframe thead th {\n",
       "        text-align: right;\n",
       "    }\n",
       "</style>\n",
       "<table border=\"1\" class=\"dataframe\">\n",
       "  <thead>\n",
       "    <tr style=\"text-align: right;\">\n",
       "      <th></th>\n",
       "      <th>Column Name</th>\n",
       "      <th>Missings</th>\n",
       "      <th>Missing_pct</th>\n",
       "    </tr>\n",
       "  </thead>\n",
       "  <tbody>\n",
       "    <tr>\n",
       "      <th>0</th>\n",
       "      <td>lat</td>\n",
       "      <td>1880</td>\n",
       "      <td>0.68</td>\n",
       "    </tr>\n",
       "    <tr>\n",
       "      <th>1</th>\n",
       "      <td>lon</td>\n",
       "      <td>1880</td>\n",
       "      <td>0.68</td>\n",
       "    </tr>\n",
       "    <tr>\n",
       "      <th>2</th>\n",
       "      <td>LocationName</td>\n",
       "      <td>1788</td>\n",
       "      <td>0.65</td>\n",
       "    </tr>\n",
       "    <tr>\n",
       "      <th>3</th>\n",
       "      <td>region</td>\n",
       "      <td>1788</td>\n",
       "      <td>0.65</td>\n",
       "    </tr>\n",
       "    <tr>\n",
       "      <th>4</th>\n",
       "      <td>MPI</td>\n",
       "      <td>1788</td>\n",
       "      <td>0.65</td>\n",
       "    </tr>\n",
       "    <tr>\n",
       "      <th>5</th>\n",
       "      <td>ISO</td>\n",
       "      <td>1764</td>\n",
       "      <td>0.64</td>\n",
       "    </tr>\n",
       "    <tr>\n",
       "      <th>6</th>\n",
       "      <td>country</td>\n",
       "      <td>1764</td>\n",
       "      <td>0.64</td>\n",
       "    </tr>\n",
       "    <tr>\n",
       "      <th>7</th>\n",
       "      <td>world_region</td>\n",
       "      <td>1764</td>\n",
       "      <td>0.64</td>\n",
       "    </tr>\n",
       "  </tbody>\n",
       "</table>\n",
       "</div>"
      ],
      "text/plain": [
       "    Column Name  Missings  Missing_pct\n",
       "0           lat      1880         0.68\n",
       "1           lon      1880         0.68\n",
       "2  LocationName      1788         0.65\n",
       "3        region      1788         0.65\n",
       "4           MPI      1788         0.65\n",
       "5           ISO      1764         0.64\n",
       "6       country      1764         0.64\n",
       "7  world_region      1764         0.64"
      ]
     },
     "execution_count": 72,
     "metadata": {},
     "output_type": "execute_result"
    }
   ],
   "source": [
    "def missing_vals(data_):\n",
    "    # Check the number of missing values and the percentage\n",
    "    miss_     = data_.isnull().sum()\n",
    "    miss_pct  = data_.isnull().sum()/data_.shape[0]\n",
    "    \n",
    "    miss_pct  = pd.concat([miss_, miss_pct], axis =1)\n",
    "    miss_pct.reset_index(inplace=True)\n",
    "    miss_cols = miss_pct.rename(columns={'index':'Column Name', 0:'Missings', 1:'Missing_pct'})\n",
    "    \n",
    "    miss_cols = miss_cols[miss_cols.iloc[:,1]!=0].sort_values('Missing_pct', ascending=False).round(2)\n",
    "    miss_cols.reset_index(inplace=True, drop=True)\n",
    "    \n",
    "    return miss_cols\n",
    "\n",
    "miss_MPI = missing_vals(mpi_region_locations)\n",
    "miss_MPI"
   ]
  },
  {
   "cell_type": "markdown",
   "metadata": {},
   "source": [
    "It looks wild that all the factors except `geo` have very high missing value rate."
   ]
  },
  {
   "cell_type": "code",
   "execution_count": 73,
   "metadata": {
    "ExecuteTime": {
     "end_time": "2021-03-06T07:13:48.233574Z",
     "start_time": "2021-03-06T07:13:47.688606Z"
    }
   },
   "outputs": [
    {
     "data": {
      "image/png": "[encoded data removed]",
      "text/plain": [
       "<Figure size 1800x720 with 2 Axes>"
      ]
     },
     "metadata": {
      "needs_background": "light"
     },
     "output_type": "display_data"
    }
   ],
   "source": [
    "# Check missing value ditribution\n",
    "_ = msno.matrix(mpi_region_locations)"
   ]
  },
  {
   "cell_type": "markdown",
   "metadata": {},
   "source": [
    "The missing values' pattern shows:\n",
    "\n",
    "* From a particular row on, all the columns expect `geo` are full-filled with missing values\n",
    "* `LocationName`, `region`, and `MPI` have the same pattern, which makes sense because `LocationName` combines `country` and `region`, and `MPI` is region-level. \n",
    "* `lat` and `lon` also have the same pattern."
   ]
  },
  {
   "cell_type": "code",
   "execution_count": 74,
   "metadata": {
    "ExecuteTime": {
     "end_time": "2021-03-06T07:13:57.436337Z",
     "start_time": "2021-03-06T07:13:57.407235Z"
    }
   },
   "outputs": [
    {
     "data": {
      "text/plain": [
       "1007"
      ]
     },
     "execution_count": 74,
     "metadata": {},
     "output_type": "execute_result"
    }
   ],
   "source": [
    "mpi_region_locations.country.last_valid_index()"
   ]
  },
  {
   "cell_type": "code",
   "execution_count": 75,
   "metadata": {
    "ExecuteTime": {
     "end_time": "2021-03-06T07:13:57.499622Z",
     "start_time": "2021-03-06T07:13:57.461421Z"
    }
   },
   "outputs": [
    {
     "name": "stdout",
     "output_type": "stream",
     "text": [
      "<class 'pandas.core.frame.DataFrame'>\n",
      "RangeIndex: 1764 entries, 1008 to 2771\n",
      "Data columns (total 9 columns):\n",
      " #   Column        Non-Null Count  Dtype  \n",
      "---  ------        --------------  -----  \n",
      " 0   LocationName  0 non-null      object \n",
      " 1   ISO           0 non-null      object \n",
      " 2   country       0 non-null      object \n",
      " 3   region        0 non-null      object \n",
      " 4   world_region  0 non-null      object \n",
      " 5   MPI           0 non-null      float64\n",
      " 6   geo           1764 non-null   object \n",
      " 7   lat           0 non-null      float64\n",
      " 8   lon           0 non-null      float64\n",
      "dtypes: float64(3), object(6)\n",
      "memory usage: 124.2+ KB\n"
     ]
    }
   ],
   "source": [
    "# Check the dataframe after the 1007th row\n",
    "mpi_region_locations_1008 = mpi_region_locations.iloc[1008:, :]\n",
    "mpi_region_locations_1008.info()"
   ]
  },
  {
   "cell_type": "markdown",
   "metadata": {},
   "source": [
    "All the rows after the 1007th row are invalid, which will be dropped."
   ]
  },
  {
   "cell_type": "code",
   "execution_count": 76,
   "metadata": {
    "ExecuteTime": {
     "end_time": "2021-03-06T07:13:58.715396Z",
     "start_time": "2021-03-06T07:13:58.658243Z"
    }
   },
   "outputs": [
    {
     "data": {
      "text/html": [
       "<div>\n",
       "<style scoped>\n",
       "    .dataframe tbody tr th:only-of-type {\n",
       "        vertical-align: middle;\n",
       "    }\n",
       "\n",
       "    .dataframe tbody tr th {\n",
       "        vertical-align: top;\n",
       "    }\n",
       "\n",
       "    .dataframe thead th {\n",
       "        text-align: right;\n",
       "    }\n",
       "</style>\n",
       "<table border=\"1\" class=\"dataframe\">\n",
       "  <thead>\n",
       "    <tr style=\"text-align: right;\">\n",
       "      <th></th>\n",
       "      <th>LocationName</th>\n",
       "      <th>ISO</th>\n",
       "      <th>country</th>\n",
       "      <th>region</th>\n",
       "      <th>world_region</th>\n",
       "      <th>MPI</th>\n",
       "      <th>geo</th>\n",
       "      <th>lat</th>\n",
       "      <th>lon</th>\n",
       "    </tr>\n",
       "  </thead>\n",
       "  <tbody>\n",
       "    <tr>\n",
       "      <th>0</th>\n",
       "      <td>Badakhshan, Afghanistan</td>\n",
       "      <td>AFG</td>\n",
       "      <td>Afghanistan</td>\n",
       "      <td>Badakhshan</td>\n",
       "      <td>South Asia</td>\n",
       "      <td>0.387</td>\n",
       "      <td>(36.7347725, 70.81199529999999)</td>\n",
       "      <td>36.734772</td>\n",
       "      <td>70.811995</td>\n",
       "    </tr>\n",
       "    <tr>\n",
       "      <th>1</th>\n",
       "      <td>Badghis, Afghanistan</td>\n",
       "      <td>AFG</td>\n",
       "      <td>Afghanistan</td>\n",
       "      <td>Badghis</td>\n",
       "      <td>South Asia</td>\n",
       "      <td>0.466</td>\n",
       "      <td>(35.1671339, 63.7695384)</td>\n",
       "      <td>35.167134</td>\n",
       "      <td>63.769538</td>\n",
       "    </tr>\n",
       "    <tr>\n",
       "      <th>2</th>\n",
       "      <td>Baghlan, Afghanistan</td>\n",
       "      <td>AFG</td>\n",
       "      <td>Afghanistan</td>\n",
       "      <td>Baghlan</td>\n",
       "      <td>South Asia</td>\n",
       "      <td>0.300</td>\n",
       "      <td>(35.8042947, 69.2877535)</td>\n",
       "      <td>35.804295</td>\n",
       "      <td>69.287754</td>\n",
       "    </tr>\n",
       "    <tr>\n",
       "      <th>3</th>\n",
       "      <td>Balkh, Afghanistan</td>\n",
       "      <td>AFG</td>\n",
       "      <td>Afghanistan</td>\n",
       "      <td>Balkh</td>\n",
       "      <td>South Asia</td>\n",
       "      <td>0.301</td>\n",
       "      <td>(36.7550603, 66.8975372)</td>\n",
       "      <td>36.755060</td>\n",
       "      <td>66.897537</td>\n",
       "    </tr>\n",
       "    <tr>\n",
       "      <th>4</th>\n",
       "      <td>Bamyan, Afghanistan</td>\n",
       "      <td>AFG</td>\n",
       "      <td>Afghanistan</td>\n",
       "      <td>Bamyan</td>\n",
       "      <td>South Asia</td>\n",
       "      <td>0.325</td>\n",
       "      <td>(34.8100067, 67.8212104)</td>\n",
       "      <td>34.810007</td>\n",
       "      <td>67.821210</td>\n",
       "    </tr>\n",
       "    <tr>\n",
       "      <th>...</th>\n",
       "      <td>...</td>\n",
       "      <td>...</td>\n",
       "      <td>...</td>\n",
       "      <td>...</td>\n",
       "      <td>...</td>\n",
       "      <td>...</td>\n",
       "      <td>...</td>\n",
       "      <td>...</td>\n",
       "      <td>...</td>\n",
       "    </tr>\n",
       "    <tr>\n",
       "      <th>1003</th>\n",
       "      <td>Mashonaland West, Zimbabwe</td>\n",
       "      <td>ZWE</td>\n",
       "      <td>Zimbabwe</td>\n",
       "      <td>Mashonaland West</td>\n",
       "      <td>Sub-Saharan Africa</td>\n",
       "      <td>0.192</td>\n",
       "      <td>(-17.4851029, 29.7889248)</td>\n",
       "      <td>-17.485103</td>\n",
       "      <td>29.788925</td>\n",
       "    </tr>\n",
       "    <tr>\n",
       "      <th>1004</th>\n",
       "      <td>Masvingo, Zimbabwe</td>\n",
       "      <td>ZWE</td>\n",
       "      <td>Zimbabwe</td>\n",
       "      <td>Masvingo</td>\n",
       "      <td>Sub-Saharan Africa</td>\n",
       "      <td>0.174</td>\n",
       "      <td>(-20.0791909, 30.8384093)</td>\n",
       "      <td>-20.079191</td>\n",
       "      <td>30.838409</td>\n",
       "    </tr>\n",
       "    <tr>\n",
       "      <th>1005</th>\n",
       "      <td>Matabeleland North, Zimbabwe</td>\n",
       "      <td>ZWE</td>\n",
       "      <td>Zimbabwe</td>\n",
       "      <td>Matabeleland North</td>\n",
       "      <td>Sub-Saharan Africa</td>\n",
       "      <td>0.238</td>\n",
       "      <td>(-18.5331566, 27.5495846)</td>\n",
       "      <td>-18.533157</td>\n",
       "      <td>27.549585</td>\n",
       "    </tr>\n",
       "    <tr>\n",
       "      <th>1006</th>\n",
       "      <td>Matabeleland South, Zimbabwe</td>\n",
       "      <td>ZWE</td>\n",
       "      <td>Zimbabwe</td>\n",
       "      <td>Matabeleland South</td>\n",
       "      <td>Sub-Saharan Africa</td>\n",
       "      <td>0.164</td>\n",
       "      <td>(-21.052337, 29.0459927)</td>\n",
       "      <td>-21.052337</td>\n",
       "      <td>29.045993</td>\n",
       "    </tr>\n",
       "    <tr>\n",
       "      <th>1007</th>\n",
       "      <td>Midlands, Zimbabwe</td>\n",
       "      <td>ZWE</td>\n",
       "      <td>Zimbabwe</td>\n",
       "      <td>Midlands</td>\n",
       "      <td>Sub-Saharan Africa</td>\n",
       "      <td>0.176</td>\n",
       "      <td>(-18.4070294, 14.8454619)</td>\n",
       "      <td>-18.407029</td>\n",
       "      <td>14.845462</td>\n",
       "    </tr>\n",
       "  </tbody>\n",
       "</table>\n",
       "<p>1008 rows × 9 columns</p>\n",
       "</div>"
      ],
      "text/plain": [
       "                      LocationName  ISO      country              region  \\\n",
       "0          Badakhshan, Afghanistan  AFG  Afghanistan          Badakhshan   \n",
       "1             Badghis, Afghanistan  AFG  Afghanistan             Badghis   \n",
       "2             Baghlan, Afghanistan  AFG  Afghanistan             Baghlan   \n",
       "3               Balkh, Afghanistan  AFG  Afghanistan               Balkh   \n",
       "4              Bamyan, Afghanistan  AFG  Afghanistan              Bamyan   \n",
       "...                            ...  ...          ...                 ...   \n",
       "1003    Mashonaland West, Zimbabwe  ZWE     Zimbabwe    Mashonaland West   \n",
       "1004            Masvingo, Zimbabwe  ZWE     Zimbabwe            Masvingo   \n",
       "1005  Matabeleland North, Zimbabwe  ZWE     Zimbabwe  Matabeleland North   \n",
       "1006  Matabeleland South, Zimbabwe  ZWE     Zimbabwe  Matabeleland South   \n",
       "1007            Midlands, Zimbabwe  ZWE     Zimbabwe            Midlands   \n",
       "\n",
       "            world_region    MPI                              geo        lat  \\\n",
       "0             South Asia  0.387  (36.7347725, 70.81199529999999)  36.734772   \n",
       "1             South Asia  0.466         (35.1671339, 63.7695384)  35.167134   \n",
       "2             South Asia  0.300         (35.8042947, 69.2877535)  35.804295   \n",
       "3             South Asia  0.301         (36.7550603, 66.8975372)  36.755060   \n",
       "4             South Asia  0.325         (34.8100067, 67.8212104)  34.810007   \n",
       "...                  ...    ...                              ...        ...   \n",
       "1003  Sub-Saharan Africa  0.192        (-17.4851029, 29.7889248) -17.485103   \n",
       "1004  Sub-Saharan Africa  0.174        (-20.0791909, 30.8384093) -20.079191   \n",
       "1005  Sub-Saharan Africa  0.238        (-18.5331566, 27.5495846) -18.533157   \n",
       "1006  Sub-Saharan Africa  0.164         (-21.052337, 29.0459927) -21.052337   \n",
       "1007  Sub-Saharan Africa  0.176        (-18.4070294, 14.8454619) -18.407029   \n",
       "\n",
       "            lon  \n",
       "0     70.811995  \n",
       "1     63.769538  \n",
       "2     69.287754  \n",
       "3     66.897537  \n",
       "4     67.821210  \n",
       "...         ...  \n",
       "1003  29.788925  \n",
       "1004  30.838409  \n",
       "1005  27.549585  \n",
       "1006  29.045993  \n",
       "1007  14.845462  \n",
       "\n",
       "[1008 rows x 9 columns]"
      ]
     },
     "execution_count": 76,
     "metadata": {},
     "output_type": "execute_result"
    }
   ],
   "source": [
    "# Drop the rows from the 1007th to the end\n",
    "mpi_region_locations_df = mpi_region_locations[:1008]\n",
    "mpi_region_locations_df"
   ]
  },
  {
   "cell_type": "code",
   "execution_count": 77,
   "metadata": {
    "ExecuteTime": {
     "end_time": "2021-03-06T07:13:58.762902Z",
     "start_time": "2021-03-06T07:13:58.727547Z"
    }
   },
   "outputs": [
    {
     "name": "stdout",
     "output_type": "stream",
     "text": [
      "<class 'pandas.core.frame.DataFrame'>\n",
      "RangeIndex: 1008 entries, 0 to 1007\n",
      "Data columns (total 9 columns):\n",
      " #   Column        Non-Null Count  Dtype  \n",
      "---  ------        --------------  -----  \n",
      " 0   LocationName  984 non-null    object \n",
      " 1   ISO           1008 non-null   object \n",
      " 2   country       1008 non-null   object \n",
      " 3   region        984 non-null    object \n",
      " 4   world_region  1008 non-null   object \n",
      " 5   MPI           984 non-null    float64\n",
      " 6   geo           1008 non-null   object \n",
      " 7   lat           892 non-null    float64\n",
      " 8   lon           892 non-null    float64\n",
      "dtypes: float64(3), object(6)\n",
      "memory usage: 71.0+ KB\n"
     ]
    }
   ],
   "source": [
    "mpi_region_locations_df.info()"
   ]
  },
  {
   "cell_type": "markdown",
   "metadata": {},
   "source": [
    "### Latitude and longitude"
   ]
  },
  {
   "cell_type": "code",
   "execution_count": 78,
   "metadata": {
    "ExecuteTime": {
     "end_time": "2021-03-06T07:14:02.807260Z",
     "start_time": "2021-03-06T07:14:02.743289Z"
    }
   },
   "outputs": [
    {
     "data": {
      "text/plain": [
       "34     (1000.0, 1000.0)\n",
       "35     (1000.0, 1000.0)\n",
       "36     (1000.0, 1000.0)\n",
       "51     (1000.0, 1000.0)\n",
       "63     (1000.0, 1000.0)\n",
       "             ...       \n",
       "958    (1000.0, 1000.0)\n",
       "960    (1000.0, 1000.0)\n",
       "965    (1000.0, 1000.0)\n",
       "985    (1000.0, 1000.0)\n",
       "987    (1000.0, 1000.0)\n",
       "Name: geo, Length: 116, dtype: object"
      ]
     },
     "execution_count": 78,
     "metadata": {},
     "output_type": "execute_result"
    }
   ],
   "source": [
    "# Check the missing value of Latitude based on geo column\n",
    "geo_with_null_lat = mpi_region_locations_df[mpi_region_locations_df.lat.isna()].geo\n",
    "geo_with_null_lat"
   ]
  },
  {
   "cell_type": "markdown",
   "metadata": {},
   "source": [
    "The geo info is invalid, which leads to the missing values of latitude and longitude"
   ]
  },
  {
   "cell_type": "markdown",
   "metadata": {},
   "source": [
    "* Check the invalid geo distribution"
   ]
  },
  {
   "cell_type": "code",
   "execution_count": 79,
   "metadata": {
    "ExecuteTime": {
     "end_time": "2021-03-06T07:14:10.474054Z",
     "start_time": "2021-03-06T07:14:10.196266Z"
    }
   },
   "outputs": [
    {
     "data": {
      "image/png": "[encoded data removed]",
      "text/plain": [
       "<Figure size 432x288 with 1 Axes>"
      ]
     },
     "metadata": {
      "needs_background": "light"
     },
     "output_type": "display_data"
    }
   ],
   "source": [
    "# Check the index of the invalid geo\n",
    "_ = sns.swarmplot(geo_with_null_lat.index,orient='v')\n",
    "_ = plt.ylabel('index of the invalid geo')"
   ]
  },
  {
   "cell_type": "code",
   "execution_count": 80,
   "metadata": {
    "ExecuteTime": {
     "end_time": "2021-03-06T07:14:10.510120Z",
     "start_time": "2021-03-06T07:14:10.479909Z"
    }
   },
   "outputs": [
    {
     "name": "stderr",
     "output_type": "stream",
     "text": [
      "<ipython-input-80-a0dc1da38efe>:2: UserWarning: Boolean Series key will be reindexed to match DataFrame index.\n",
      "  mpi_region_locations_df[mpi_region_locations.geo=='(1000.0, 1000.0)'].LocationName.value_counts()\n"
     ]
    },
    {
     "data": {
      "text/plain": [
       "Ngounið, Gabon                            1\n",
       "Qonitara, Syrian Arab Republic            1\n",
       "Western  Hill, Nepal                      1\n",
       "Santa Bðrbara, Honduras                   1\n",
       "Battambang & Pailin, Cambodia             1\n",
       "                                         ..\n",
       "Ogoouð-Ivindo, Gabon                      1\n",
       "Huðnuco, Peru                             1\n",
       "Sab, Guinea-Bissau                        1\n",
       "Ouham-Pendð, Central African Republic     1\n",
       "Nana-Mambðrð, Central African Republic    1\n",
       "Name: LocationName, Length: 92, dtype: int64"
      ]
     },
     "execution_count": 80,
     "metadata": {},
     "output_type": "execute_result"
    }
   ],
   "source": [
    "# Check the Location Name where the geo is invalid\n",
    "mpi_region_locations_df[mpi_region_locations.geo=='(1000.0, 1000.0)'].LocationName.value_counts()"
   ]
  },
  {
   "cell_type": "markdown",
   "metadata": {},
   "source": [
    "The invalid geo info seems distribute randomly. Here, we will keep it temporally just in case that the additional datasets can modify it."
   ]
  },
  {
   "cell_type": "markdown",
   "metadata": {},
   "source": [
    "### MPI_Summary\n",
    "The pattern of missing value is very clear; all the non-meaning rows are removed and the remained invalid geo data will be handled in EDA"
   ]
  }
 ],
 "metadata": {
  "hide_input": false,
  "kernelspec": {
   "display_name": "Python 3",
   "language": "python",
   "name": "python3"
  },
  "language_info": {
   "codemirror_mode": {
    "name": "ipython",
    "version": 3
   },
   "file_extension": ".py",
   "mimetype": "text/x-python",
   "name": "python",
   "nbconvert_exporter": "python",
   "pygments_lexer": "ipython3",
   "version": "3.8.3"
  },
  "toc": {
   "base_numbering": 1,
   "nav_menu": {},
   "number_sections": true,
   "sideBar": true,
   "skip_h1_title": true,
   "title_cell": "Kiva_Crowdfunding_Data_Wrangling",
   "title_sidebar": "Contents",
   "toc_cell": true,
   "toc_position": {
    "height": "calc(100% - 180px)",
    "left": "10px",
    "top": "150px",
    "width": "318px"
   },
   "toc_section_display": true,
   "toc_window_display": false
  },
  "varInspector": {
   "cols": {
    "lenName": 16,
    "lenType": 16,
    "lenVar": 40
   },
   "kernels_config": {
    "python": {
     "delete_cmd_postfix": "",
     "delete_cmd_prefix": "del ",
     "library": "var_list.py",
     "varRefreshCmd": "print(var_dic_list())"
    },
    "r": {
     "delete_cmd_postfix": ") ",
     "delete_cmd_prefix": "rm(",
     "library": "var_list.r",
     "varRefreshCmd": "cat(var_dic_list()) "
    }
   },
   "types_to_exclude": [
    "module",
    "function",
    "builtin_function_or_method",
    "instance",
    "_Feature"
   ],
   "window_display": false
  }
 },
 "nbformat": 4,
 "nbformat_minor": 4
}
