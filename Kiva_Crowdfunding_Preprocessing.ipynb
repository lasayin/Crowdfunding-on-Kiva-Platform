{
 "cells": [
  {
   "cell_type": "markdown",
   "metadata": {
    "toc": true
   },
   "source": [
    "<h1>Table of Contents<span class=\"tocSkip\"></span></h1>\n",
    "<div class=\"toc\"><ul class=\"toc-item\"><li><span><a href=\"#Load-Data\" data-toc-modified-id=\"Load-Data-1\"><span class=\"toc-item-num\">1&nbsp;&nbsp;</span>Load Data</a></span></li><li><span><a href=\"#Remove-Unnecessary-Columns\" data-toc-modified-id=\"Remove-Unnecessary-Columns-2\"><span class=\"toc-item-num\">2&nbsp;&nbsp;</span>Remove Unnecessary Columns</a></span></li><li><span><a href=\"#Target-feature\" data-toc-modified-id=\"Target-feature-3\"><span class=\"toc-item-num\">3&nbsp;&nbsp;</span>Target feature</a></span></li><li><span><a href=\"#Datetime-feature\" data-toc-modified-id=\"Datetime-feature-4\"><span class=\"toc-item-num\">4&nbsp;&nbsp;</span>Datetime feature</a></span></li><li><span><a href=\"#Categorical-features\" data-toc-modified-id=\"Categorical-features-5\"><span class=\"toc-item-num\">5&nbsp;&nbsp;</span>Categorical features</a></span><ul class=\"toc-item\"><li><span><a href=\"#Partner-id\" data-toc-modified-id=\"Partner-id-5.1\"><span class=\"toc-item-num\">5.1&nbsp;&nbsp;</span>Partner id</a></span></li><li><span><a href=\"#Tags-and-use\" data-toc-modified-id=\"Tags-and-use-5.2\"><span class=\"toc-item-num\">5.2&nbsp;&nbsp;</span>Tags and use</a></span></li><li><span><a href=\"#Sector\" data-toc-modified-id=\"Sector-5.3\"><span class=\"toc-item-num\">5.3&nbsp;&nbsp;</span>Sector</a></span></li><li><span><a href=\"#Country\" data-toc-modified-id=\"Country-5.4\"><span class=\"toc-item-num\">5.4&nbsp;&nbsp;</span>Country</a></span></li><li><span><a href=\"#Create-dummies-for-categorical-variables\" data-toc-modified-id=\"Create-dummies-for-categorical-variables-5.5\"><span class=\"toc-item-num\">5.5&nbsp;&nbsp;</span>Create dummies for categorical variables</a></span></li></ul></li><li><span><a href=\"#Numeric-features\" data-toc-modified-id=\"Numeric-features-6\"><span class=\"toc-item-num\">6&nbsp;&nbsp;</span>Numeric features</a></span></li><li><span><a href=\"#Converting-Numeric-Features-to-Categorical-Features\" data-toc-modified-id=\"Converting-Numeric-Features-to-Categorical-Features-7\"><span class=\"toc-item-num\">7&nbsp;&nbsp;</span>Converting Numeric Features to Categorical Features</a></span><ul class=\"toc-item\"><li><span><a href=\"#Binning-Numeric-Features\" data-toc-modified-id=\"Binning-Numeric-Features-7.1\"><span class=\"toc-item-num\">7.1&nbsp;&nbsp;</span>Binning Numeric Features</a></span></li><li><span><a href=\"#Converting-Numerical-Features-to-Categorical-Features\" data-toc-modified-id=\"Converting-Numerical-Features-to-Categorical-Features-7.2\"><span class=\"toc-item-num\">7.2&nbsp;&nbsp;</span>Converting Numerical Features to Categorical Features</a></span></li></ul></li><li><span><a href=\"#Train/Test-Split\" data-toc-modified-id=\"Train/Test-Split-8\"><span class=\"toc-item-num\">8&nbsp;&nbsp;</span>Train/Test Split</a></span><ul class=\"toc-item\"><li><span><a href=\"#Processing-All-the-Entries\" data-toc-modified-id=\"Processing-All-the-Entries-8.1\"><span class=\"toc-item-num\">8.1&nbsp;&nbsp;</span>Processing All the Entries</a></span><ul class=\"toc-item\"><li><span><a href=\"#Dataset-without-Numerical-Features\" data-toc-modified-id=\"Dataset-without-Numerical-Features-8.1.1\"><span class=\"toc-item-num\">8.1.1&nbsp;&nbsp;</span>Dataset without Numerical Features</a></span></li><li><span><a href=\"#Scale-Numeric-Features-with-StandardScaler()-and-MinMaxScaler()\" data-toc-modified-id=\"Scale-Numeric-Features-with-StandardScaler()-and-MinMaxScaler()-8.1.2\"><span class=\"toc-item-num\">8.1.2&nbsp;&nbsp;</span>Scale Numeric Features with <code>StandardScaler()</code> and <code>MinMaxScaler()</code></a></span></li></ul></li><li><span><a href=\"#Processing-the-Entries-without-Extreme-Outliers\" data-toc-modified-id=\"Processing-the-Entries-without-Extreme-Outliers-8.2\"><span class=\"toc-item-num\">8.2&nbsp;&nbsp;</span>Processing the Entries without Extreme Outliers</a></span></li><li><span><a href=\"#Comparing-Accuracy-Scores-with-Logistic-Regression\" data-toc-modified-id=\"Comparing-Accuracy-Scores-with-Logistic-Regression-8.3\"><span class=\"toc-item-num\">8.3&nbsp;&nbsp;</span>Comparing Accuracy Scores with Logistic Regression</a></span></li><li><span><a href=\"#Comparing-Accuracy-Scores-with-Random-Forest\" data-toc-modified-id=\"Comparing-Accuracy-Scores-with-Random-Forest-8.4\"><span class=\"toc-item-num\">8.4&nbsp;&nbsp;</span>Comparing Accuracy Scores with Random Forest</a></span></li><li><span><a href=\"#Comparing-the-Test-Data-Accuracy-Scores-of-Two-Models\" data-toc-modified-id=\"Comparing-the-Test-Data-Accuracy-Scores-of-Two-Models-8.5\"><span class=\"toc-item-num\">8.5&nbsp;&nbsp;</span>Comparing the Test Data Accuracy Scores of Two Models</a></span></li></ul></li><li><span><a href=\"#Heatmap-and-Feature-Selection\" data-toc-modified-id=\"Heatmap-and-Feature-Selection-9\"><span class=\"toc-item-num\">9&nbsp;&nbsp;</span>Heatmap and Feature Selection</a></span><ul class=\"toc-item\"><li><span><a href=\"#Heatmap-of-All-the-Features\" data-toc-modified-id=\"Heatmap-of-All-the-Features-9.1\"><span class=\"toc-item-num\">9.1&nbsp;&nbsp;</span>Heatmap of All the Features</a></span></li><li><span><a href=\"#Heatmap-of-the-uncorrelated-Features\" data-toc-modified-id=\"Heatmap-of-the-uncorrelated-Features-9.2\"><span class=\"toc-item-num\">9.2&nbsp;&nbsp;</span>Heatmap of the uncorrelated Features</a></span></li><li><span><a href=\"#Feature-Selection-with-RFECV\" data-toc-modified-id=\"Feature-Selection-with-RFECV-9.3\"><span class=\"toc-item-num\">9.3&nbsp;&nbsp;</span>Feature Selection with RFECV</a></span></li></ul></li><li><span><a href=\"#Comparing-Accuracy-with-Different-Number-of-Features\" data-toc-modified-id=\"Comparing-Accuracy-with-Different-Number-of-Features-10\"><span class=\"toc-item-num\">10&nbsp;&nbsp;</span>Comparing Accuracy with Different Number of Features</a></span></li><li><span><a href=\"#Save-processed-data\" data-toc-modified-id=\"Save-processed-data-11\"><span class=\"toc-item-num\">11&nbsp;&nbsp;</span>Save processed data</a></span></li></ul></div>"
   ]
  },
  {
   "cell_type": "code",
   "execution_count": 1,
   "metadata": {
    "ExecuteTime": {
     "end_time": "2021-07-21T22:10:06.043904Z",
     "start_time": "2021-07-21T22:10:03.057504Z"
    }
   },
   "outputs": [],
   "source": [
    "import pandas as pd\n",
    "import numpy as np\n",
    "import matplotlib\n",
    "import matplotlib.pyplot as plt\n",
    "import seaborn as sns\n",
    "from datetime import datetime as dt\n",
    "from sklearn.model_selection import train_test_split\n",
    "from sklearn.model_selection import cross_validate\n",
    "from sklearn.model_selection import GridSearchCV\n",
    "from sklearn.model_selection import cross_val_score\n",
    "from sklearn.preprocessing import StandardScaler\n",
    "from sklearn.preprocessing import MinMaxScaler\n",
    "from sklearn.feature_selection import RFECV\n",
    "from sklearn.ensemble import RandomForestClassifier\n",
    "from sklearn.linear_model import LogisticRegression\n",
    "\n",
    "sns.set()\n",
    "np.random.seed(1)"
   ]
  },
  {
   "cell_type": "markdown",
   "metadata": {},
   "source": [
    "## Load Data"
   ]
  },
  {
   "cell_type": "code",
   "execution_count": 2,
   "metadata": {
    "ExecuteTime": {
     "end_time": "2021-07-21T22:10:10.604018Z",
     "start_time": "2021-07-21T22:10:06.047400Z"
    }
   },
   "outputs": [],
   "source": [
    "loans_df = pd.read_csv('/Users/lasayin/Desktop/Springboard/GitHub/Springboard_DS_Capstone2/ProcessedData/loans_others.cvs',parse_dates=['posted_time', 'funded_time'])"
   ]
  },
  {
   "cell_type": "code",
   "execution_count": 3,
   "metadata": {
    "ExecuteTime": {
     "end_time": "2021-07-21T22:10:10.966542Z",
     "start_time": "2021-07-21T22:10:10.606684Z"
    }
   },
   "outputs": [
    {
     "name": "stdout",
     "output_type": "stream",
     "text": [
      "<class 'pandas.core.frame.DataFrame'>\n",
      "RangeIndex: 612393 entries, 0 to 612392\n",
      "Data columns (total 22 columns):\n",
      " #   Column                 Non-Null Count   Dtype         \n",
      "---  ------                 --------------   -----         \n",
      " 0   id                     612393 non-null  int64         \n",
      " 1   funded_amount          612393 non-null  float64       \n",
      " 2   loan_amount            612393 non-null  float64       \n",
      " 3   activity               612393 non-null  object        \n",
      " 4   sector                 612393 non-null  object        \n",
      " 5   use                    612393 non-null  object        \n",
      " 6   ISO                    612393 non-null  object        \n",
      " 7   country                612393 non-null  object        \n",
      " 8   partner_id             612393 non-null  object        \n",
      " 9   posted_time            612393 non-null  datetime64[ns]\n",
      " 10  funded_time            574603 non-null  datetime64[ns]\n",
      " 11  term_in_months         612393 non-null  float64       \n",
      " 12  lender_count           612393 non-null  int64         \n",
      " 13  tags                   612393 non-null  object        \n",
      " 14  borrower_genders       612393 non-null  object        \n",
      " 15  repayment_interval     612393 non-null  object        \n",
      " 16  funded_days            612393 non-null  float64       \n",
      " 17  world_region           612393 non-null  object        \n",
      " 18  MPI                    612393 non-null  float64       \n",
      " 19  funded_speed           574606 non-null  float64       \n",
      " 20  loan_amount_per_month  612393 non-null  float64       \n",
      " 21  funding_speed          612393 non-null  float64       \n",
      "dtypes: datetime64[ns](2), float64(8), int64(2), object(10)\n",
      "memory usage: 102.8+ MB\n"
     ]
    }
   ],
   "source": [
    "loans_df.info()"
   ]
  },
  {
   "cell_type": "code",
   "execution_count": 4,
   "metadata": {
    "ExecuteTime": {
     "end_time": "2021-07-21T22:10:11.026551Z",
     "start_time": "2021-07-21T22:10:10.973490Z"
    }
   },
   "outputs": [
    {
     "data": {
      "text/html": [
       "<div>\n",
       "<style scoped>\n",
       "    .dataframe tbody tr th:only-of-type {\n",
       "        vertical-align: middle;\n",
       "    }\n",
       "\n",
       "    .dataframe tbody tr th {\n",
       "        vertical-align: top;\n",
       "    }\n",
       "\n",
       "    .dataframe thead th {\n",
       "        text-align: right;\n",
       "    }\n",
       "</style>\n",
       "<table border=\"1\" class=\"dataframe\">\n",
       "  <thead>\n",
       "    <tr style=\"text-align: right;\">\n",
       "      <th></th>\n",
       "      <th>id</th>\n",
       "      <th>funded_amount</th>\n",
       "      <th>loan_amount</th>\n",
       "      <th>activity</th>\n",
       "      <th>sector</th>\n",
       "      <th>use</th>\n",
       "      <th>ISO</th>\n",
       "      <th>country</th>\n",
       "      <th>partner_id</th>\n",
       "      <th>posted_time</th>\n",
       "      <th>...</th>\n",
       "      <th>lender_count</th>\n",
       "      <th>tags</th>\n",
       "      <th>borrower_genders</th>\n",
       "      <th>repayment_interval</th>\n",
       "      <th>funded_days</th>\n",
       "      <th>world_region</th>\n",
       "      <th>MPI</th>\n",
       "      <th>funded_speed</th>\n",
       "      <th>loan_amount_per_month</th>\n",
       "      <th>funding_speed</th>\n",
       "    </tr>\n",
       "  </thead>\n",
       "  <tbody>\n",
       "    <tr>\n",
       "      <th>0</th>\n",
       "      <td>653051</td>\n",
       "      <td>300.0</td>\n",
       "      <td>300.0</td>\n",
       "      <td>Fruits &amp; Vegetables</td>\n",
       "      <td>Food</td>\n",
       "      <td>To buy seasonal, fresh fruits to sell.</td>\n",
       "      <td>PAK</td>\n",
       "      <td>Pakistan</td>\n",
       "      <td>With_partner</td>\n",
       "      <td>2014-01-01 06:12:39</td>\n",
       "      <td>...</td>\n",
       "      <td>12</td>\n",
       "      <td>No_tag</td>\n",
       "      <td>female</td>\n",
       "      <td>irregular</td>\n",
       "      <td>1.162419</td>\n",
       "      <td>South Asia</td>\n",
       "      <td>0.230320</td>\n",
       "      <td>258.1</td>\n",
       "      <td>25.0</td>\n",
       "      <td>258.0</td>\n",
       "    </tr>\n",
       "    <tr>\n",
       "      <th>1</th>\n",
       "      <td>653053</td>\n",
       "      <td>575.0</td>\n",
       "      <td>575.0</td>\n",
       "      <td>Rickshaw</td>\n",
       "      <td>Transportation</td>\n",
       "      <td>to repair and maintain the auto rickshaw used ...</td>\n",
       "      <td>PAK</td>\n",
       "      <td>Pakistan</td>\n",
       "      <td>With_partner</td>\n",
       "      <td>2014-01-01 06:51:08</td>\n",
       "      <td>...</td>\n",
       "      <td>14</td>\n",
       "      <td>No_tag</td>\n",
       "      <td>female</td>\n",
       "      <td>irregular</td>\n",
       "      <td>1.101562</td>\n",
       "      <td>South Asia</td>\n",
       "      <td>0.230320</td>\n",
       "      <td>522.0</td>\n",
       "      <td>52.0</td>\n",
       "      <td>522.0</td>\n",
       "    </tr>\n",
       "    <tr>\n",
       "      <th>2</th>\n",
       "      <td>653068</td>\n",
       "      <td>150.0</td>\n",
       "      <td>150.0</td>\n",
       "      <td>Transportation</td>\n",
       "      <td>Transportation</td>\n",
       "      <td>To repair their old cycle-van and buy another ...</td>\n",
       "      <td>IND</td>\n",
       "      <td>India</td>\n",
       "      <td>With_partner</td>\n",
       "      <td>2014-01-01 09:58:07</td>\n",
       "      <td>...</td>\n",
       "      <td>6</td>\n",
       "      <td>user_favorite, user_favorite</td>\n",
       "      <td>female</td>\n",
       "      <td>bullet</td>\n",
       "      <td>0.252419</td>\n",
       "      <td>South Asia</td>\n",
       "      <td>0.191099</td>\n",
       "      <td>594.3</td>\n",
       "      <td>3.0</td>\n",
       "      <td>594.0</td>\n",
       "    </tr>\n",
       "    <tr>\n",
       "      <th>3</th>\n",
       "      <td>653063</td>\n",
       "      <td>200.0</td>\n",
       "      <td>200.0</td>\n",
       "      <td>Embroidery</td>\n",
       "      <td>Arts</td>\n",
       "      <td>to purchase an embroidery machine and a variet...</td>\n",
       "      <td>PAK</td>\n",
       "      <td>Pakistan</td>\n",
       "      <td>With_partner</td>\n",
       "      <td>2014-01-01 08:03:11</td>\n",
       "      <td>...</td>\n",
       "      <td>8</td>\n",
       "      <td>No_tag</td>\n",
       "      <td>female</td>\n",
       "      <td>irregular</td>\n",
       "      <td>0.206123</td>\n",
       "      <td>South Asia</td>\n",
       "      <td>0.230320</td>\n",
       "      <td>970.3</td>\n",
       "      <td>18.0</td>\n",
       "      <td>970.0</td>\n",
       "    </tr>\n",
       "    <tr>\n",
       "      <th>4</th>\n",
       "      <td>653084</td>\n",
       "      <td>400.0</td>\n",
       "      <td>400.0</td>\n",
       "      <td>Milk Sales</td>\n",
       "      <td>Food</td>\n",
       "      <td>to purchase one buffalo.</td>\n",
       "      <td>PAK</td>\n",
       "      <td>Pakistan</td>\n",
       "      <td>With_partner</td>\n",
       "      <td>2014-01-01 11:53:19</td>\n",
       "      <td>...</td>\n",
       "      <td>16</td>\n",
       "      <td>No_tag</td>\n",
       "      <td>female</td>\n",
       "      <td>monthly</td>\n",
       "      <td>0.309398</td>\n",
       "      <td>South Asia</td>\n",
       "      <td>0.230320</td>\n",
       "      <td>1292.8</td>\n",
       "      <td>29.0</td>\n",
       "      <td>1293.0</td>\n",
       "    </tr>\n",
       "  </tbody>\n",
       "</table>\n",
       "<p>5 rows × 22 columns</p>\n",
       "</div>"
      ],
      "text/plain": [
       "       id  funded_amount  loan_amount             activity          sector  \\\n",
       "0  653051          300.0        300.0  Fruits & Vegetables            Food   \n",
       "1  653053          575.0        575.0             Rickshaw  Transportation   \n",
       "2  653068          150.0        150.0       Transportation  Transportation   \n",
       "3  653063          200.0        200.0           Embroidery            Arts   \n",
       "4  653084          400.0        400.0           Milk Sales            Food   \n",
       "\n",
       "                                                 use  ISO   country  \\\n",
       "0            To buy seasonal, fresh fruits to sell.   PAK  Pakistan   \n",
       "1  to repair and maintain the auto rickshaw used ...  PAK  Pakistan   \n",
       "2  To repair their old cycle-van and buy another ...  IND     India   \n",
       "3  to purchase an embroidery machine and a variet...  PAK  Pakistan   \n",
       "4                           to purchase one buffalo.  PAK  Pakistan   \n",
       "\n",
       "     partner_id         posted_time  ... lender_count  \\\n",
       "0  With_partner 2014-01-01 06:12:39  ...           12   \n",
       "1  With_partner 2014-01-01 06:51:08  ...           14   \n",
       "2  With_partner 2014-01-01 09:58:07  ...            6   \n",
       "3  With_partner 2014-01-01 08:03:11  ...            8   \n",
       "4  With_partner 2014-01-01 11:53:19  ...           16   \n",
       "\n",
       "                           tags  borrower_genders repayment_interval  \\\n",
       "0                        No_tag            female          irregular   \n",
       "1                        No_tag            female          irregular   \n",
       "2  user_favorite, user_favorite            female             bullet   \n",
       "3                        No_tag            female          irregular   \n",
       "4                        No_tag            female            monthly   \n",
       "\n",
       "  funded_days world_region       MPI funded_speed  loan_amount_per_month  \\\n",
       "0    1.162419   South Asia  0.230320        258.1                   25.0   \n",
       "1    1.101562   South Asia  0.230320        522.0                   52.0   \n",
       "2    0.252419   South Asia  0.191099        594.3                    3.0   \n",
       "3    0.206123   South Asia  0.230320        970.3                   18.0   \n",
       "4    0.309398   South Asia  0.230320       1292.8                   29.0   \n",
       "\n",
       "   funding_speed  \n",
       "0          258.0  \n",
       "1          522.0  \n",
       "2          594.0  \n",
       "3          970.0  \n",
       "4         1293.0  \n",
       "\n",
       "[5 rows x 22 columns]"
      ]
     },
     "execution_count": 4,
     "metadata": {},
     "output_type": "execute_result"
    }
   ],
   "source": [
    "loans_df.head()"
   ]
  },
  {
   "cell_type": "markdown",
   "metadata": {},
   "source": [
    "## Remove Unnecessary Columns"
   ]
  },
  {
   "cell_type": "markdown",
   "metadata": {},
   "source": [
    "Several columns will be removed, including the features that\n",
    "* don't affect a loan's funding, e.g., `id`\n",
    "* disclose information from the future, i.e., data leakage, such as `funded_amount`, `funded_time`,`funded_days`, `funded_speed`\n",
    "* contain redundant information, e.g., `ISO`\n",
    "* lead to collinearity issue, e.g., `lender_count`\n",
    "* require a lot of processing to turn into a useful feature, e.g., `activity`\n",
    "\n",
    "All the features mentioned above will be removed"
   ]
  },
  {
   "cell_type": "code",
   "execution_count": 5,
   "metadata": {
    "ExecuteTime": {
     "end_time": "2021-07-21T22:10:11.156221Z",
     "start_time": "2021-07-21T22:10:11.031361Z"
    }
   },
   "outputs": [],
   "source": [
    "loans_df = loans_df.drop(columns=['id', 'funded_amount', 'funded_days', 'funded_speed', 'ISO', 'funded_time', 'lender_count', 'activity'])"
   ]
  },
  {
   "cell_type": "code",
   "execution_count": 6,
   "metadata": {
    "ExecuteTime": {
     "end_time": "2021-07-21T22:10:11.484140Z",
     "start_time": "2021-07-21T22:10:11.159841Z"
    }
   },
   "outputs": [
    {
     "name": "stdout",
     "output_type": "stream",
     "text": [
      "<class 'pandas.core.frame.DataFrame'>\n",
      "RangeIndex: 612393 entries, 0 to 612392\n",
      "Data columns (total 14 columns):\n",
      " #   Column                 Non-Null Count   Dtype         \n",
      "---  ------                 --------------   -----         \n",
      " 0   loan_amount            612393 non-null  float64       \n",
      " 1   sector                 612393 non-null  object        \n",
      " 2   use                    612393 non-null  object        \n",
      " 3   country                612393 non-null  object        \n",
      " 4   partner_id             612393 non-null  object        \n",
      " 5   posted_time            612393 non-null  datetime64[ns]\n",
      " 6   term_in_months         612393 non-null  float64       \n",
      " 7   tags                   612393 non-null  object        \n",
      " 8   borrower_genders       612393 non-null  object        \n",
      " 9   repayment_interval     612393 non-null  object        \n",
      " 10  world_region           612393 non-null  object        \n",
      " 11  MPI                    612393 non-null  float64       \n",
      " 12  loan_amount_per_month  612393 non-null  float64       \n",
      " 13  funding_speed          612393 non-null  float64       \n",
      "dtypes: datetime64[ns](1), float64(5), object(8)\n",
      "memory usage: 65.4+ MB\n"
     ]
    }
   ],
   "source": [
    "loans_df.info()"
   ]
  },
  {
   "cell_type": "code",
   "execution_count": 7,
   "metadata": {
    "ExecuteTime": {
     "end_time": "2021-07-21T22:10:11.511818Z",
     "start_time": "2021-07-21T22:10:11.494812Z"
    },
    "scrolled": true
   },
   "outputs": [
    {
     "data": {
      "text/html": [
       "<div>\n",
       "<style scoped>\n",
       "    .dataframe tbody tr th:only-of-type {\n",
       "        vertical-align: middle;\n",
       "    }\n",
       "\n",
       "    .dataframe tbody tr th {\n",
       "        vertical-align: top;\n",
       "    }\n",
       "\n",
       "    .dataframe thead th {\n",
       "        text-align: right;\n",
       "    }\n",
       "</style>\n",
       "<table border=\"1\" class=\"dataframe\">\n",
       "  <thead>\n",
       "    <tr style=\"text-align: right;\">\n",
       "      <th></th>\n",
       "      <th>loan_amount</th>\n",
       "      <th>sector</th>\n",
       "      <th>use</th>\n",
       "      <th>country</th>\n",
       "      <th>partner_id</th>\n",
       "      <th>posted_time</th>\n",
       "      <th>term_in_months</th>\n",
       "      <th>tags</th>\n",
       "      <th>borrower_genders</th>\n",
       "      <th>repayment_interval</th>\n",
       "      <th>world_region</th>\n",
       "      <th>MPI</th>\n",
       "      <th>loan_amount_per_month</th>\n",
       "      <th>funding_speed</th>\n",
       "    </tr>\n",
       "  </thead>\n",
       "  <tbody>\n",
       "    <tr>\n",
       "      <th>0</th>\n",
       "      <td>300.0</td>\n",
       "      <td>Food</td>\n",
       "      <td>To buy seasonal, fresh fruits to sell.</td>\n",
       "      <td>Pakistan</td>\n",
       "      <td>With_partner</td>\n",
       "      <td>2014-01-01 06:12:39</td>\n",
       "      <td>12.0</td>\n",
       "      <td>No_tag</td>\n",
       "      <td>female</td>\n",
       "      <td>irregular</td>\n",
       "      <td>South Asia</td>\n",
       "      <td>0.23032</td>\n",
       "      <td>25.0</td>\n",
       "      <td>258.0</td>\n",
       "    </tr>\n",
       "  </tbody>\n",
       "</table>\n",
       "</div>"
      ],
      "text/plain": [
       "   loan_amount sector                                      use   country  \\\n",
       "0        300.0   Food  To buy seasonal, fresh fruits to sell.   Pakistan   \n",
       "\n",
       "     partner_id         posted_time  term_in_months    tags borrower_genders  \\\n",
       "0  With_partner 2014-01-01 06:12:39            12.0  No_tag           female   \n",
       "\n",
       "  repayment_interval world_region      MPI  loan_amount_per_month  \\\n",
       "0          irregular   South Asia  0.23032                   25.0   \n",
       "\n",
       "   funding_speed  \n",
       "0          258.0  "
      ]
     },
     "execution_count": 7,
     "metadata": {},
     "output_type": "execute_result"
    }
   ],
   "source": [
    "loans_df.head(1)"
   ]
  },
  {
   "cell_type": "markdown",
   "metadata": {},
   "source": [
    "## Target feature"
   ]
  },
  {
   "cell_type": "code",
   "execution_count": 8,
   "metadata": {
    "ExecuteTime": {
     "end_time": "2021-07-21T22:10:11.583248Z",
     "start_time": "2021-07-21T22:10:11.521416Z"
    }
   },
   "outputs": [
    {
     "data": {
      "text/plain": [
       "count    612393.000000\n",
       "mean        146.612378\n",
       "std        1078.561438\n",
       "min           0.000000\n",
       "25%          20.000000\n",
       "50%          40.000000\n",
       "75%          92.000000\n",
       "max      176327.000000\n",
       "Name: funding_speed, dtype: float64"
      ]
     },
     "execution_count": 8,
     "metadata": {},
     "output_type": "execute_result"
    }
   ],
   "source": [
    "loans_df.funding_speed.describe()"
   ]
  },
  {
   "cell_type": "markdown",
   "metadata": {},
   "source": [
    "This project aims to help Kiva make a judgment on whether a loan can get crowd-funded quickly such that Kiva can make a priority. But how fast is fast? That depends on the situation. If Kiva has sufficient funds, the threshold can be low to accept loans application as many as possible; if the funds are limited, might resulting from the decrease in the number of lenders, the threshold must be high enough to make sure the potential lenders are more motivated to lend.\n",
    "\n",
    "Here, we set the threshold of funding speed at the median, i.e., $40 per day. So the funding speed over 42 will be set as 1, and the funding speed that is less or equal to 40 will be 0."
   ]
  },
  {
   "cell_type": "code",
   "execution_count": 9,
   "metadata": {
    "ExecuteTime": {
     "end_time": "2021-07-21T22:10:11.656538Z",
     "start_time": "2021-07-21T22:10:11.597062Z"
    }
   },
   "outputs": [
    {
     "data": {
      "text/plain": [
       "0.0    307486\n",
       "1.0    304907\n",
       "Name: funding_speed, dtype: int64"
      ]
     },
     "execution_count": 9,
     "metadata": {},
     "output_type": "execute_result"
    }
   ],
   "source": [
    "loans_df.loc[loans_df.funding_speed <= 40, 'funding_speed'] = 0\n",
    "loans_df.loc[loans_df.funding_speed > 40, 'funding_speed'] = 1\n",
    "loans_df.funding_speed.value_counts()"
   ]
  },
  {
   "cell_type": "markdown",
   "metadata": {},
   "source": [
    "## Datetime feature"
   ]
  },
  {
   "cell_type": "code",
   "execution_count": 10,
   "metadata": {
    "ExecuteTime": {
     "end_time": "2021-07-21T22:10:11.671649Z",
     "start_time": "2021-07-21T22:10:11.659941Z"
    }
   },
   "outputs": [
    {
     "data": {
      "text/plain": [
       "0        2014-01-01 06:12:39\n",
       "1        2014-01-01 06:51:08\n",
       "2        2014-01-01 09:58:07\n",
       "3        2014-01-01 08:03:11\n",
       "4        2014-01-01 11:53:19\n",
       "                 ...        \n",
       "612388   2017-06-07 01:44:57\n",
       "612389   2017-06-07 00:35:52\n",
       "612390   2017-06-07 07:22:29\n",
       "612391   2017-06-07 10:59:42\n",
       "612392   2017-06-07 05:55:26\n",
       "Name: posted_time, Length: 612393, dtype: datetime64[ns]"
      ]
     },
     "execution_count": 10,
     "metadata": {},
     "output_type": "execute_result"
    }
   ],
   "source": [
    "loans_df.posted_time"
   ]
  },
  {
   "cell_type": "markdown",
   "metadata": {},
   "source": [
    "We will convert the month of `posted_time`, which is a datetime attribute, to categorical attribute, i.e., season: replace December, January, February with Winter; replace March, April, May with Spring; repalce June, July, August with Summer; replace September, October, November to Fall."
   ]
  },
  {
   "cell_type": "code",
   "execution_count": 11,
   "metadata": {
    "ExecuteTime": {
     "end_time": "2021-07-21T22:10:11.765179Z",
     "start_time": "2021-07-21T22:10:11.678034Z"
    }
   },
   "outputs": [],
   "source": [
    "# Convert the month to int\n",
    "loans_df.loc[:, 'posted_season'] = loans_df.posted_time.dt.month%12 // 3"
   ]
  },
  {
   "cell_type": "code",
   "execution_count": 12,
   "metadata": {
    "ExecuteTime": {
     "end_time": "2021-07-21T22:10:11.781522Z",
     "start_time": "2021-07-21T22:10:11.769650Z"
    },
    "scrolled": true
   },
   "outputs": [
    {
     "data": {
      "text/plain": [
       "0         0\n",
       "1         0\n",
       "2         0\n",
       "3         0\n",
       "4         0\n",
       "         ..\n",
       "612388    2\n",
       "612389    2\n",
       "612390    2\n",
       "612391    2\n",
       "612392    2\n",
       "Name: posted_season, Length: 612393, dtype: int64"
      ]
     },
     "execution_count": 12,
     "metadata": {},
     "output_type": "execute_result"
    }
   ],
   "source": [
    "loans_df.posted_season"
   ]
  },
  {
   "cell_type": "code",
   "execution_count": 13,
   "metadata": {
    "ExecuteTime": {
     "end_time": "2021-07-21T22:10:12.086119Z",
     "start_time": "2021-07-21T22:10:11.785045Z"
    }
   },
   "outputs": [
    {
     "data": {
      "text/plain": [
       "Spring    185974\n",
       "Winter    151350\n",
       "Fall      138701\n",
       "Summer    136368\n",
       "Name: posted_season, dtype: int64"
      ]
     },
     "execution_count": 13,
     "metadata": {},
     "output_type": "execute_result"
    }
   ],
   "source": [
    "# Convert numaric value to categorical value\n",
    "season = ['Winter', 'Spring', 'Summer', 'Fall']\n",
    "for i in range(4):\n",
    "    loans_df.loc[loans_df.posted_season == i, 'posted_season'] = season[i]\n",
    "\n",
    "# Check the result\n",
    "loans_df.posted_season.value_counts()"
   ]
  },
  {
   "cell_type": "code",
   "execution_count": 14,
   "metadata": {
    "ExecuteTime": {
     "end_time": "2021-07-21T22:10:12.345475Z",
     "start_time": "2021-07-21T22:10:12.090370Z"
    }
   },
   "outputs": [],
   "source": [
    "# Drop the posted_time feature\n",
    "loans_df.drop(columns='posted_time', inplace=True)"
   ]
  },
  {
   "cell_type": "markdown",
   "metadata": {},
   "source": [
    "## Categorical features"
   ]
  },
  {
   "cell_type": "code",
   "execution_count": 15,
   "metadata": {
    "ExecuteTime": {
     "end_time": "2021-07-21T22:10:13.921115Z",
     "start_time": "2021-07-21T22:10:12.351769Z"
    }
   },
   "outputs": [
    {
     "data": {
      "text/html": [
       "<div>\n",
       "<style scoped>\n",
       "    .dataframe tbody tr th:only-of-type {\n",
       "        vertical-align: middle;\n",
       "    }\n",
       "\n",
       "    .dataframe tbody tr th {\n",
       "        vertical-align: top;\n",
       "    }\n",
       "\n",
       "    .dataframe thead th {\n",
       "        text-align: right;\n",
       "    }\n",
       "</style>\n",
       "<table border=\"1\" class=\"dataframe\">\n",
       "  <thead>\n",
       "    <tr style=\"text-align: right;\">\n",
       "      <th></th>\n",
       "      <th>sector</th>\n",
       "      <th>use</th>\n",
       "      <th>country</th>\n",
       "      <th>partner_id</th>\n",
       "      <th>tags</th>\n",
       "      <th>borrower_genders</th>\n",
       "      <th>repayment_interval</th>\n",
       "      <th>world_region</th>\n",
       "      <th>posted_season</th>\n",
       "    </tr>\n",
       "  </thead>\n",
       "  <tbody>\n",
       "    <tr>\n",
       "      <th>count</th>\n",
       "      <td>612393</td>\n",
       "      <td>612393</td>\n",
       "      <td>612393</td>\n",
       "      <td>612393</td>\n",
       "      <td>612393</td>\n",
       "      <td>612393</td>\n",
       "      <td>612393</td>\n",
       "      <td>612393</td>\n",
       "      <td>612393</td>\n",
       "    </tr>\n",
       "    <tr>\n",
       "      <th>unique</th>\n",
       "      <td>15</td>\n",
       "      <td>382671</td>\n",
       "      <td>70</td>\n",
       "      <td>2</td>\n",
       "      <td>78306</td>\n",
       "      <td>4</td>\n",
       "      <td>4</td>\n",
       "      <td>6</td>\n",
       "      <td>4</td>\n",
       "    </tr>\n",
       "    <tr>\n",
       "      <th>top</th>\n",
       "      <td>Agriculture</td>\n",
       "      <td>to buy a water filter to provide safe drinking...</td>\n",
       "      <td>Philippines</td>\n",
       "      <td>With_partner</td>\n",
       "      <td>No_tag</td>\n",
       "      <td>female</td>\n",
       "      <td>monthly</td>\n",
       "      <td>East Asia and the Pacific</td>\n",
       "      <td>Spring</td>\n",
       "    </tr>\n",
       "    <tr>\n",
       "      <th>freq</th>\n",
       "      <td>169702</td>\n",
       "      <td>4961</td>\n",
       "      <td>156594</td>\n",
       "      <td>604021</td>\n",
       "      <td>159635</td>\n",
       "      <td>443583</td>\n",
       "      <td>309697</td>\n",
       "      <td>213710</td>\n",
       "      <td>185974</td>\n",
       "    </tr>\n",
       "  </tbody>\n",
       "</table>\n",
       "</div>"
      ],
      "text/plain": [
       "             sector                                                use  \\\n",
       "count        612393                                             612393   \n",
       "unique           15                                             382671   \n",
       "top     Agriculture  to buy a water filter to provide safe drinking...   \n",
       "freq         169702                                               4961   \n",
       "\n",
       "            country    partner_id    tags borrower_genders repayment_interval  \\\n",
       "count        612393        612393  612393           612393             612393   \n",
       "unique           70             2   78306                4                  4   \n",
       "top     Philippines  With_partner  No_tag           female            monthly   \n",
       "freq         156594        604021  159635           443583             309697   \n",
       "\n",
       "                     world_region posted_season  \n",
       "count                      612393        612393  \n",
       "unique                          6             4  \n",
       "top     East Asia and the Pacific        Spring  \n",
       "freq                       213710        185974  "
      ]
     },
     "execution_count": 15,
     "metadata": {},
     "output_type": "execute_result"
    }
   ],
   "source": [
    "loans_df.select_dtypes(include='object').describe()"
   ]
  },
  {
   "cell_type": "markdown",
   "metadata": {},
   "source": [
    "There are two issues with the categorical features: \n",
    "* The unique values of `use`, `tags`, `sector`, and `country`, are too many to do modeling.\n",
    "* Overwhelming majority of the loans had partners, so `partner_id` will be removed since it did not add any information to each loan application."
   ]
  },
  {
   "cell_type": "markdown",
   "metadata": {},
   "source": [
    "### Partner id"
   ]
  },
  {
   "cell_type": "code",
   "execution_count": 16,
   "metadata": {
    "ExecuteTime": {
     "end_time": "2021-07-21T22:10:14.047807Z",
     "start_time": "2021-07-21T22:10:13.924493Z"
    }
   },
   "outputs": [],
   "source": [
    "# Remove partner id attribute\n",
    "loans_df.drop(columns='partner_id', inplace=True)"
   ]
  },
  {
   "cell_type": "markdown",
   "metadata": {},
   "source": [
    "### Tags and use"
   ]
  },
  {
   "cell_type": "code",
   "execution_count": 17,
   "metadata": {
    "ExecuteTime": {
     "end_time": "2021-07-21T22:10:14.211099Z",
     "start_time": "2021-07-21T22:10:14.053859Z"
    }
   },
   "outputs": [
    {
     "data": {
      "text/plain": [
       "array(['No_tag', 'user_favorite, user_favorite',\n",
       "       '#Elderly, #Woman Owned Biz', ...,\n",
       "       '#Job Creator, #Vegan, #Woman Owned Biz, #Parent, #Schooling, user_favorite',\n",
       "       '#Elderly, #Vegan, #Woman Owned Biz, #Repeat Borrower, #Job Creator',\n",
       "       '#Elderly, #Health and Sanitation, #Technology, #Woman Owned Biz, #Parent, #Biz Durable Asset, user_favorite'],\n",
       "      dtype=object)"
      ]
     },
     "execution_count": 17,
     "metadata": {},
     "output_type": "execute_result"
    }
   ],
   "source": [
    "# Check tags unique values\n",
    "loans_df.tags.unique()"
   ]
  },
  {
   "cell_type": "code",
   "execution_count": 18,
   "metadata": {
    "ExecuteTime": {
     "end_time": "2021-07-21T22:10:14.514793Z",
     "start_time": "2021-07-21T22:10:14.215467Z"
    }
   },
   "outputs": [
    {
     "data": {
      "text/plain": [
       "array(['To buy seasonal, fresh fruits to sell. ',\n",
       "       'to repair and maintain the auto rickshaw used in their business.',\n",
       "       'To repair their old cycle-van and buy another one to rent out as a source of income',\n",
       "       ...,\n",
       "       'to cover the plowing costs and to purchase insecticides for cultivating rice.',\n",
       "       \"to buy fertilizer for her crops, and hire workers to help increase her farm's output.\",\n",
       "       'to buy an ultrasonography machine for her clinic.'], dtype=object)"
      ]
     },
     "execution_count": 18,
     "metadata": {},
     "output_type": "execute_result"
    }
   ],
   "source": [
    "# Check use unique values\n",
    "loans_df.use.unique()"
   ]
  },
  {
   "cell_type": "code",
   "execution_count": 19,
   "metadata": {
    "ExecuteTime": {
     "end_time": "2021-07-21T22:10:14.761533Z",
     "start_time": "2021-07-21T22:10:14.524551Z"
    }
   },
   "outputs": [],
   "source": [
    "# Replace all the loans having tags information with the label With_tag\n",
    "loans_df.loc[loans_df.tags != 'No_tag', 'tags'] = 'With_tag'\n",
    "# Replace all the loans having use information with the label With_use_info\n",
    "loans_df.loc[loans_df.use != 'No_use_info', 'use'] = 'With_use_info'"
   ]
  },
  {
   "cell_type": "code",
   "execution_count": 20,
   "metadata": {
    "ExecuteTime": {
     "end_time": "2021-07-21T22:10:14.845641Z",
     "start_time": "2021-07-21T22:10:14.764778Z"
    }
   },
   "outputs": [
    {
     "data": {
      "text/plain": [
       "With_tag    0.739326\n",
       "No_tag      0.260674\n",
       "Name: tags, dtype: float64"
      ]
     },
     "execution_count": 20,
     "metadata": {},
     "output_type": "execute_result"
    }
   ],
   "source": [
    "# Check the ratio of With_tag loan and No_tag loan\n",
    "loans_df.tags.value_counts(normalize=True)"
   ]
  },
  {
   "cell_type": "code",
   "execution_count": 21,
   "metadata": {
    "ExecuteTime": {
     "end_time": "2021-07-21T22:10:14.954982Z",
     "start_time": "2021-07-21T22:10:14.850660Z"
    }
   },
   "outputs": [
    {
     "data": {
      "text/plain": [
       "With_use_info    0.993623\n",
       "No_use_info      0.006377\n",
       "Name: use, dtype: float64"
      ]
     },
     "execution_count": 21,
     "metadata": {},
     "output_type": "execute_result"
    }
   ],
   "source": [
    "# Check the ratio of With_use_info loan and No_use_info loan\n",
    "loans_df.use.value_counts(normalize=True)"
   ]
  },
  {
   "cell_type": "markdown",
   "metadata": {},
   "source": [
    "`use` will be removed since less than 1% of the loans had no use information. Besides that, `sector` had provided similar but more general information."
   ]
  },
  {
   "cell_type": "code",
   "execution_count": 22,
   "metadata": {
    "ExecuteTime": {
     "end_time": "2021-07-21T22:10:15.033024Z",
     "start_time": "2021-07-21T22:10:14.970257Z"
    }
   },
   "outputs": [],
   "source": [
    "loans_df.drop(columns='use', inplace=True)"
   ]
  },
  {
   "cell_type": "markdown",
   "metadata": {},
   "source": [
    "### Sector"
   ]
  },
  {
   "cell_type": "code",
   "execution_count": 23,
   "metadata": {
    "ExecuteTime": {
     "end_time": "2021-07-21T22:10:15.140008Z",
     "start_time": "2021-07-21T22:10:15.045865Z"
    }
   },
   "outputs": [
    {
     "data": {
      "text/plain": [
       "Agriculture       0.277113\n",
       "Food              0.203578\n",
       "Retail            0.188817\n",
       "Services          0.062607\n",
       "Personal Use      0.056384\n",
       "Housing           0.052292\n",
       "Clothing          0.047385\n",
       "Education         0.038872\n",
       "Transportation    0.023273\n",
       "Arts              0.015972\n",
       "Health            0.013339\n",
       "Manufacturing     0.009463\n",
       "Construction      0.009082\n",
       "Wholesale         0.000957\n",
       "Entertainment     0.000867\n",
       "Name: sector, dtype: float64"
      ]
     },
     "execution_count": 23,
     "metadata": {},
     "output_type": "execute_result"
    }
   ],
   "source": [
    "loans_df.sector.value_counts(normalize=True)"
   ]
  },
  {
   "cell_type": "markdown",
   "metadata": {},
   "source": [
    "Q1: How to process sector and country?"
   ]
  },
  {
   "cell_type": "markdown",
   "metadata": {},
   "source": [
    "The loans under the sectors of Agriculture, Food, and Retail account for more than 75% of all the loans. The 15 sectors will be grouped to Agriculture, Food, Retail, and Others."
   ]
  },
  {
   "cell_type": "code",
   "execution_count": 24,
   "metadata": {
    "ExecuteTime": {
     "end_time": "2021-07-21T22:10:15.391383Z",
     "start_time": "2021-07-21T22:10:15.164080Z"
    }
   },
   "outputs": [],
   "source": [
    "loans_df.loc[loans_df.sector.apply(lambda x: x not in ['Agriculture', 'Food', 'Retail']), 'sector'] = 'Others'"
   ]
  },
  {
   "cell_type": "code",
   "execution_count": 25,
   "metadata": {
    "ExecuteTime": {
     "end_time": "2021-07-21T22:10:15.491400Z",
     "start_time": "2021-07-21T22:10:15.397025Z"
    }
   },
   "outputs": [
    {
     "data": {
      "text/plain": [
       "Others         0.330492\n",
       "Agriculture    0.277113\n",
       "Food           0.203578\n",
       "Retail         0.188817\n",
       "Name: sector, dtype: float64"
      ]
     },
     "execution_count": 25,
     "metadata": {},
     "output_type": "execute_result"
    }
   ],
   "source": [
    "loans_df.sector.value_counts(normalize=True)"
   ]
  },
  {
   "cell_type": "markdown",
   "metadata": {},
   "source": [
    "### Country"
   ]
  },
  {
   "cell_type": "code",
   "execution_count": 26,
   "metadata": {
    "ExecuteTime": {
     "end_time": "2021-07-21T22:10:15.645563Z",
     "start_time": "2021-07-21T22:10:15.508844Z"
    }
   },
   "outputs": [
    {
     "data": {
      "text/plain": [
       "Philippines      0.255708\n",
       "Kenya            0.121110\n",
       "El Salvador      0.063485\n",
       "Cambodia         0.054725\n",
       "Pakistan         0.042358\n",
       "                   ...   \n",
       "Namibia          0.000013\n",
       "Vanuatu          0.000007\n",
       "Afghanistan      0.000003\n",
       "Cote D'Ivoire    0.000002\n",
       "Mauritania       0.000002\n",
       "Name: country, Length: 70, dtype: float64"
      ]
     },
     "execution_count": 26,
     "metadata": {},
     "output_type": "execute_result"
    }
   ],
   "source": [
    "loans_df.country.value_counts(normalize=True)"
   ]
  },
  {
   "cell_type": "markdown",
   "metadata": {},
   "source": [
    "The loans from the countries of Philippines, Kenya, El Salvador, Cambodia, and Pakistan account for about 50% of all the loans. The 82 countries will be grouped to Philippines, Kenya, El Salvador, Cambodia, Pakistan, and Others."
   ]
  },
  {
   "cell_type": "code",
   "execution_count": 27,
   "metadata": {
    "ExecuteTime": {
     "end_time": "2021-07-21T22:10:15.985992Z",
     "start_time": "2021-07-21T22:10:15.648988Z"
    }
   },
   "outputs": [],
   "source": [
    "loans_df.loc[loans_df.country.apply(lambda x: x not in ['Philippines', 'Kenya', 'El Salvador', 'Cambodia', 'Pakistan']), 'country'] = 'Others'"
   ]
  },
  {
   "cell_type": "code",
   "execution_count": 28,
   "metadata": {
    "ExecuteTime": {
     "end_time": "2021-07-21T22:10:16.105319Z",
     "start_time": "2021-07-21T22:10:15.991802Z"
    }
   },
   "outputs": [
    {
     "data": {
      "text/plain": [
       "Others         0.462613\n",
       "Philippines    0.255708\n",
       "Kenya          0.121110\n",
       "El Salvador    0.063485\n",
       "Cambodia       0.054725\n",
       "Pakistan       0.042358\n",
       "Name: country, dtype: float64"
      ]
     },
     "execution_count": 28,
     "metadata": {},
     "output_type": "execute_result"
    }
   ],
   "source": [
    "loans_df.country.value_counts(normalize=True)"
   ]
  },
  {
   "cell_type": "code",
   "execution_count": 29,
   "metadata": {
    "ExecuteTime": {
     "end_time": "2021-07-21T22:10:16.864249Z",
     "start_time": "2021-07-21T22:10:16.108885Z"
    }
   },
   "outputs": [
    {
     "data": {
      "text/html": [
       "<div>\n",
       "<style scoped>\n",
       "    .dataframe tbody tr th:only-of-type {\n",
       "        vertical-align: middle;\n",
       "    }\n",
       "\n",
       "    .dataframe tbody tr th {\n",
       "        vertical-align: top;\n",
       "    }\n",
       "\n",
       "    .dataframe thead th {\n",
       "        text-align: right;\n",
       "    }\n",
       "</style>\n",
       "<table border=\"1\" class=\"dataframe\">\n",
       "  <thead>\n",
       "    <tr style=\"text-align: right;\">\n",
       "      <th></th>\n",
       "      <th>sector</th>\n",
       "      <th>country</th>\n",
       "      <th>tags</th>\n",
       "      <th>borrower_genders</th>\n",
       "      <th>repayment_interval</th>\n",
       "      <th>world_region</th>\n",
       "      <th>posted_season</th>\n",
       "    </tr>\n",
       "  </thead>\n",
       "  <tbody>\n",
       "    <tr>\n",
       "      <th>count</th>\n",
       "      <td>612393</td>\n",
       "      <td>612393</td>\n",
       "      <td>612393</td>\n",
       "      <td>612393</td>\n",
       "      <td>612393</td>\n",
       "      <td>612393</td>\n",
       "      <td>612393</td>\n",
       "    </tr>\n",
       "    <tr>\n",
       "      <th>unique</th>\n",
       "      <td>4</td>\n",
       "      <td>6</td>\n",
       "      <td>2</td>\n",
       "      <td>4</td>\n",
       "      <td>4</td>\n",
       "      <td>6</td>\n",
       "      <td>4</td>\n",
       "    </tr>\n",
       "    <tr>\n",
       "      <th>top</th>\n",
       "      <td>Others</td>\n",
       "      <td>Others</td>\n",
       "      <td>With_tag</td>\n",
       "      <td>female</td>\n",
       "      <td>monthly</td>\n",
       "      <td>East Asia and the Pacific</td>\n",
       "      <td>Spring</td>\n",
       "    </tr>\n",
       "    <tr>\n",
       "      <th>freq</th>\n",
       "      <td>202391</td>\n",
       "      <td>283301</td>\n",
       "      <td>452758</td>\n",
       "      <td>443583</td>\n",
       "      <td>309697</td>\n",
       "      <td>213710</td>\n",
       "      <td>185974</td>\n",
       "    </tr>\n",
       "  </tbody>\n",
       "</table>\n",
       "</div>"
      ],
      "text/plain": [
       "        sector country      tags borrower_genders repayment_interval  \\\n",
       "count   612393  612393    612393           612393             612393   \n",
       "unique       4       6         2                4                  4   \n",
       "top     Others  Others  With_tag           female            monthly   \n",
       "freq    202391  283301    452758           443583             309697   \n",
       "\n",
       "                     world_region posted_season  \n",
       "count                      612393        612393  \n",
       "unique                          6             4  \n",
       "top     East Asia and the Pacific        Spring  \n",
       "freq                       213710        185974  "
      ]
     },
     "execution_count": 29,
     "metadata": {},
     "output_type": "execute_result"
    }
   ],
   "source": [
    "loans_df.select_dtypes(include='object').describe()"
   ]
  },
  {
   "cell_type": "markdown",
   "metadata": {},
   "source": [
    "Now the number of unique values of all the categorical variables are acceptable."
   ]
  },
  {
   "cell_type": "markdown",
   "metadata": {},
   "source": [
    "### Create dummies for categorical variables "
   ]
  },
  {
   "cell_type": "code",
   "execution_count": 30,
   "metadata": {
    "ExecuteTime": {
     "end_time": "2021-07-21T22:10:17.474414Z",
     "start_time": "2021-07-21T22:10:16.868494Z"
    }
   },
   "outputs": [],
   "source": [
    "# Creat dummies for the features with more than two unique values\n",
    "dummy_category = pd.get_dummies(loans_df[['sector','country','borrower_genders','repayment_interval','world_region','posted_season']])\n",
    "\n",
    "# Creat dummies for the features with only two unique values\n",
    "dummy_category_drop_first = pd.get_dummies(loans_df['tags'], drop_first=True)\n",
    "\n",
    "dummy_category = pd.concat([dummy_category, dummy_category_drop_first], axis=1)"
   ]
  },
  {
   "cell_type": "code",
   "execution_count": 31,
   "metadata": {
    "ExecuteTime": {
     "end_time": "2021-07-21T22:10:17.611824Z",
     "start_time": "2021-07-21T22:10:17.476803Z"
    }
   },
   "outputs": [
    {
     "name": "stdout",
     "output_type": "stream",
     "text": [
      "<class 'pandas.core.frame.DataFrame'>\n",
      "RangeIndex: 612393 entries, 0 to 612392\n",
      "Data columns (total 34 columns):\n",
      " #   Column                                    Non-Null Count   Dtype  \n",
      "---  ------                                    --------------   -----  \n",
      " 0   loan_amount                               612393 non-null  float64\n",
      " 1   term_in_months                            612393 non-null  float64\n",
      " 2   MPI                                       612393 non-null  float64\n",
      " 3   loan_amount_per_month                     612393 non-null  float64\n",
      " 4   funding_speed                             612393 non-null  float64\n",
      " 5   sector_Agriculture                        612393 non-null  uint8  \n",
      " 6   sector_Food                               612393 non-null  uint8  \n",
      " 7   sector_Others                             612393 non-null  uint8  \n",
      " 8   sector_Retail                             612393 non-null  uint8  \n",
      " 9   country_Cambodia                          612393 non-null  uint8  \n",
      " 10  country_El Salvador                       612393 non-null  uint8  \n",
      " 11  country_Kenya                             612393 non-null  uint8  \n",
      " 12  country_Others                            612393 non-null  uint8  \n",
      " 13  country_Pakistan                          612393 non-null  uint8  \n",
      " 14  country_Philippines                       612393 non-null  uint8  \n",
      " 15  borrower_genders_female                   612393 non-null  uint8  \n",
      " 16  borrower_genders_male                     612393 non-null  uint8  \n",
      " 17  borrower_genders_mixed                    612393 non-null  uint8  \n",
      " 18  borrower_genders_unknown                  612393 non-null  uint8  \n",
      " 19  repayment_interval_bullet                 612393 non-null  uint8  \n",
      " 20  repayment_interval_irregular              612393 non-null  uint8  \n",
      " 21  repayment_interval_monthly                612393 non-null  uint8  \n",
      " 22  repayment_interval_weekly                 612393 non-null  uint8  \n",
      " 23  world_region_Arab States                  612393 non-null  uint8  \n",
      " 24  world_region_East Asia and the Pacific    612393 non-null  uint8  \n",
      " 25  world_region_Europe and Central Asia      612393 non-null  uint8  \n",
      " 26  world_region_Latin America and Caribbean  612393 non-null  uint8  \n",
      " 27  world_region_South Asia                   612393 non-null  uint8  \n",
      " 28  world_region_Sub-Saharan Africa           612393 non-null  uint8  \n",
      " 29  posted_season_Fall                        612393 non-null  uint8  \n",
      " 30  posted_season_Spring                      612393 non-null  uint8  \n",
      " 31  posted_season_Summer                      612393 non-null  uint8  \n",
      " 32  posted_season_Winter                      612393 non-null  uint8  \n",
      " 33  With_tag                                  612393 non-null  uint8  \n",
      "dtypes: float64(5), uint8(29)\n",
      "memory usage: 40.3 MB\n"
     ]
    }
   ],
   "source": [
    "# Merge dummy features to main dataset\n",
    "loans_df = loans_df.drop(columns=['sector', 'country','tags', 'borrower_genders', 'repayment_interval', 'world_region','posted_season'])\n",
    "loans_df = pd.concat([loans_df, dummy_category], axis=1)\n",
    "\n",
    "loans_df.info()"
   ]
  },
  {
   "cell_type": "code",
   "execution_count": 32,
   "metadata": {
    "ExecuteTime": {
     "end_time": "2021-07-21T22:10:17.652547Z",
     "start_time": "2021-07-21T22:10:17.615554Z"
    }
   },
   "outputs": [],
   "source": [
    "# Swap loan_amount_per_month and MPI\n",
    "MPI = loans_df.MPI\n",
    "loans_df.drop(columns='MPI', inplace=True)\n",
    "loans_df.insert(3,'MPI', MPI)"
   ]
  },
  {
   "cell_type": "code",
   "execution_count": 33,
   "metadata": {
    "ExecuteTime": {
     "end_time": "2021-07-21T22:10:17.843108Z",
     "start_time": "2021-07-21T22:10:17.655450Z"
    }
   },
   "outputs": [
    {
     "data": {
      "text/html": [
       "<div>\n",
       "<style scoped>\n",
       "    .dataframe tbody tr th:only-of-type {\n",
       "        vertical-align: middle;\n",
       "    }\n",
       "\n",
       "    .dataframe tbody tr th {\n",
       "        vertical-align: top;\n",
       "    }\n",
       "\n",
       "    .dataframe thead th {\n",
       "        text-align: right;\n",
       "    }\n",
       "</style>\n",
       "<table border=\"1\" class=\"dataframe\">\n",
       "  <thead>\n",
       "    <tr style=\"text-align: right;\">\n",
       "      <th></th>\n",
       "      <th>loan_amount</th>\n",
       "      <th>term_in_months</th>\n",
       "      <th>loan_amount_per_month</th>\n",
       "      <th>MPI</th>\n",
       "      <th>funding_speed</th>\n",
       "      <th>sector_Agriculture</th>\n",
       "      <th>sector_Food</th>\n",
       "      <th>sector_Others</th>\n",
       "      <th>sector_Retail</th>\n",
       "      <th>country_Cambodia</th>\n",
       "      <th>...</th>\n",
       "      <th>world_region_East Asia and the Pacific</th>\n",
       "      <th>world_region_Europe and Central Asia</th>\n",
       "      <th>world_region_Latin America and Caribbean</th>\n",
       "      <th>world_region_South Asia</th>\n",
       "      <th>world_region_Sub-Saharan Africa</th>\n",
       "      <th>posted_season_Fall</th>\n",
       "      <th>posted_season_Spring</th>\n",
       "      <th>posted_season_Summer</th>\n",
       "      <th>posted_season_Winter</th>\n",
       "      <th>With_tag</th>\n",
       "    </tr>\n",
       "  </thead>\n",
       "  <tbody>\n",
       "    <tr>\n",
       "      <th>0</th>\n",
       "      <td>300.0</td>\n",
       "      <td>12.0</td>\n",
       "      <td>25.0</td>\n",
       "      <td>0.230320</td>\n",
       "      <td>1.0</td>\n",
       "      <td>0</td>\n",
       "      <td>1</td>\n",
       "      <td>0</td>\n",
       "      <td>0</td>\n",
       "      <td>0</td>\n",
       "      <td>...</td>\n",
       "      <td>0</td>\n",
       "      <td>0</td>\n",
       "      <td>0</td>\n",
       "      <td>1</td>\n",
       "      <td>0</td>\n",
       "      <td>0</td>\n",
       "      <td>0</td>\n",
       "      <td>0</td>\n",
       "      <td>1</td>\n",
       "      <td>0</td>\n",
       "    </tr>\n",
       "    <tr>\n",
       "      <th>1</th>\n",
       "      <td>575.0</td>\n",
       "      <td>11.0</td>\n",
       "      <td>52.0</td>\n",
       "      <td>0.230320</td>\n",
       "      <td>1.0</td>\n",
       "      <td>0</td>\n",
       "      <td>0</td>\n",
       "      <td>1</td>\n",
       "      <td>0</td>\n",
       "      <td>0</td>\n",
       "      <td>...</td>\n",
       "      <td>0</td>\n",
       "      <td>0</td>\n",
       "      <td>0</td>\n",
       "      <td>1</td>\n",
       "      <td>0</td>\n",
       "      <td>0</td>\n",
       "      <td>0</td>\n",
       "      <td>0</td>\n",
       "      <td>1</td>\n",
       "      <td>0</td>\n",
       "    </tr>\n",
       "    <tr>\n",
       "      <th>2</th>\n",
       "      <td>150.0</td>\n",
       "      <td>43.0</td>\n",
       "      <td>3.0</td>\n",
       "      <td>0.191099</td>\n",
       "      <td>1.0</td>\n",
       "      <td>0</td>\n",
       "      <td>0</td>\n",
       "      <td>1</td>\n",
       "      <td>0</td>\n",
       "      <td>0</td>\n",
       "      <td>...</td>\n",
       "      <td>0</td>\n",
       "      <td>0</td>\n",
       "      <td>0</td>\n",
       "      <td>1</td>\n",
       "      <td>0</td>\n",
       "      <td>0</td>\n",
       "      <td>0</td>\n",
       "      <td>0</td>\n",
       "      <td>1</td>\n",
       "      <td>1</td>\n",
       "    </tr>\n",
       "    <tr>\n",
       "      <th>3</th>\n",
       "      <td>200.0</td>\n",
       "      <td>11.0</td>\n",
       "      <td>18.0</td>\n",
       "      <td>0.230320</td>\n",
       "      <td>1.0</td>\n",
       "      <td>0</td>\n",
       "      <td>0</td>\n",
       "      <td>1</td>\n",
       "      <td>0</td>\n",
       "      <td>0</td>\n",
       "      <td>...</td>\n",
       "      <td>0</td>\n",
       "      <td>0</td>\n",
       "      <td>0</td>\n",
       "      <td>1</td>\n",
       "      <td>0</td>\n",
       "      <td>0</td>\n",
       "      <td>0</td>\n",
       "      <td>0</td>\n",
       "      <td>1</td>\n",
       "      <td>0</td>\n",
       "    </tr>\n",
       "    <tr>\n",
       "      <th>4</th>\n",
       "      <td>400.0</td>\n",
       "      <td>14.0</td>\n",
       "      <td>29.0</td>\n",
       "      <td>0.230320</td>\n",
       "      <td>1.0</td>\n",
       "      <td>0</td>\n",
       "      <td>1</td>\n",
       "      <td>0</td>\n",
       "      <td>0</td>\n",
       "      <td>0</td>\n",
       "      <td>...</td>\n",
       "      <td>0</td>\n",
       "      <td>0</td>\n",
       "      <td>0</td>\n",
       "      <td>1</td>\n",
       "      <td>0</td>\n",
       "      <td>0</td>\n",
       "      <td>0</td>\n",
       "      <td>0</td>\n",
       "      <td>1</td>\n",
       "      <td>0</td>\n",
       "    </tr>\n",
       "    <tr>\n",
       "      <th>...</th>\n",
       "      <td>...</td>\n",
       "      <td>...</td>\n",
       "      <td>...</td>\n",
       "      <td>...</td>\n",
       "      <td>...</td>\n",
       "      <td>...</td>\n",
       "      <td>...</td>\n",
       "      <td>...</td>\n",
       "      <td>...</td>\n",
       "      <td>...</td>\n",
       "      <td>...</td>\n",
       "      <td>...</td>\n",
       "      <td>...</td>\n",
       "      <td>...</td>\n",
       "      <td>...</td>\n",
       "      <td>...</td>\n",
       "      <td>...</td>\n",
       "      <td>...</td>\n",
       "      <td>...</td>\n",
       "      <td>...</td>\n",
       "      <td>...</td>\n",
       "    </tr>\n",
       "    <tr>\n",
       "      <th>612388</th>\n",
       "      <td>325.0</td>\n",
       "      <td>8.0</td>\n",
       "      <td>41.0</td>\n",
       "      <td>0.052128</td>\n",
       "      <td>0.0</td>\n",
       "      <td>0</td>\n",
       "      <td>0</td>\n",
       "      <td>0</td>\n",
       "      <td>1</td>\n",
       "      <td>0</td>\n",
       "      <td>...</td>\n",
       "      <td>1</td>\n",
       "      <td>0</td>\n",
       "      <td>0</td>\n",
       "      <td>0</td>\n",
       "      <td>0</td>\n",
       "      <td>0</td>\n",
       "      <td>0</td>\n",
       "      <td>1</td>\n",
       "      <td>0</td>\n",
       "      <td>1</td>\n",
       "    </tr>\n",
       "    <tr>\n",
       "      <th>612389</th>\n",
       "      <td>225.0</td>\n",
       "      <td>13.0</td>\n",
       "      <td>17.0</td>\n",
       "      <td>0.052128</td>\n",
       "      <td>0.0</td>\n",
       "      <td>0</td>\n",
       "      <td>0</td>\n",
       "      <td>1</td>\n",
       "      <td>0</td>\n",
       "      <td>0</td>\n",
       "      <td>...</td>\n",
       "      <td>1</td>\n",
       "      <td>0</td>\n",
       "      <td>0</td>\n",
       "      <td>0</td>\n",
       "      <td>0</td>\n",
       "      <td>0</td>\n",
       "      <td>0</td>\n",
       "      <td>1</td>\n",
       "      <td>0</td>\n",
       "      <td>1</td>\n",
       "    </tr>\n",
       "    <tr>\n",
       "      <th>612390</th>\n",
       "      <td>1000.0</td>\n",
       "      <td>15.0</td>\n",
       "      <td>67.0</td>\n",
       "      <td>0.146371</td>\n",
       "      <td>0.0</td>\n",
       "      <td>1</td>\n",
       "      <td>0</td>\n",
       "      <td>0</td>\n",
       "      <td>0</td>\n",
       "      <td>1</td>\n",
       "      <td>...</td>\n",
       "      <td>1</td>\n",
       "      <td>0</td>\n",
       "      <td>0</td>\n",
       "      <td>0</td>\n",
       "      <td>0</td>\n",
       "      <td>0</td>\n",
       "      <td>0</td>\n",
       "      <td>1</td>\n",
       "      <td>0</td>\n",
       "      <td>1</td>\n",
       "    </tr>\n",
       "    <tr>\n",
       "      <th>612391</th>\n",
       "      <td>1675.0</td>\n",
       "      <td>13.0</td>\n",
       "      <td>129.0</td>\n",
       "      <td>0.146371</td>\n",
       "      <td>0.0</td>\n",
       "      <td>1</td>\n",
       "      <td>0</td>\n",
       "      <td>0</td>\n",
       "      <td>0</td>\n",
       "      <td>1</td>\n",
       "      <td>...</td>\n",
       "      <td>1</td>\n",
       "      <td>0</td>\n",
       "      <td>0</td>\n",
       "      <td>0</td>\n",
       "      <td>0</td>\n",
       "      <td>0</td>\n",
       "      <td>0</td>\n",
       "      <td>1</td>\n",
       "      <td>0</td>\n",
       "      <td>1</td>\n",
       "    </tr>\n",
       "    <tr>\n",
       "      <th>612392</th>\n",
       "      <td>675.0</td>\n",
       "      <td>14.0</td>\n",
       "      <td>48.0</td>\n",
       "      <td>0.230320</td>\n",
       "      <td>1.0</td>\n",
       "      <td>0</td>\n",
       "      <td>0</td>\n",
       "      <td>1</td>\n",
       "      <td>0</td>\n",
       "      <td>0</td>\n",
       "      <td>...</td>\n",
       "      <td>0</td>\n",
       "      <td>0</td>\n",
       "      <td>0</td>\n",
       "      <td>1</td>\n",
       "      <td>0</td>\n",
       "      <td>0</td>\n",
       "      <td>0</td>\n",
       "      <td>1</td>\n",
       "      <td>0</td>\n",
       "      <td>1</td>\n",
       "    </tr>\n",
       "  </tbody>\n",
       "</table>\n",
       "<p>612393 rows × 34 columns</p>\n",
       "</div>"
      ],
      "text/plain": [
       "        loan_amount  term_in_months  loan_amount_per_month       MPI  \\\n",
       "0             300.0            12.0                   25.0  0.230320   \n",
       "1             575.0            11.0                   52.0  0.230320   \n",
       "2             150.0            43.0                    3.0  0.191099   \n",
       "3             200.0            11.0                   18.0  0.230320   \n",
       "4             400.0            14.0                   29.0  0.230320   \n",
       "...             ...             ...                    ...       ...   \n",
       "612388        325.0             8.0                   41.0  0.052128   \n",
       "612389        225.0            13.0                   17.0  0.052128   \n",
       "612390       1000.0            15.0                   67.0  0.146371   \n",
       "612391       1675.0            13.0                  129.0  0.146371   \n",
       "612392        675.0            14.0                   48.0  0.230320   \n",
       "\n",
       "        funding_speed  sector_Agriculture  sector_Food  sector_Others  \\\n",
       "0                 1.0                   0            1              0   \n",
       "1                 1.0                   0            0              1   \n",
       "2                 1.0                   0            0              1   \n",
       "3                 1.0                   0            0              1   \n",
       "4                 1.0                   0            1              0   \n",
       "...               ...                 ...          ...            ...   \n",
       "612388            0.0                   0            0              0   \n",
       "612389            0.0                   0            0              1   \n",
       "612390            0.0                   1            0              0   \n",
       "612391            0.0                   1            0              0   \n",
       "612392            1.0                   0            0              1   \n",
       "\n",
       "        sector_Retail  country_Cambodia  ...  \\\n",
       "0                   0                 0  ...   \n",
       "1                   0                 0  ...   \n",
       "2                   0                 0  ...   \n",
       "3                   0                 0  ...   \n",
       "4                   0                 0  ...   \n",
       "...               ...               ...  ...   \n",
       "612388              1                 0  ...   \n",
       "612389              0                 0  ...   \n",
       "612390              0                 1  ...   \n",
       "612391              0                 1  ...   \n",
       "612392              0                 0  ...   \n",
       "\n",
       "        world_region_East Asia and the Pacific  \\\n",
       "0                                            0   \n",
       "1                                            0   \n",
       "2                                            0   \n",
       "3                                            0   \n",
       "4                                            0   \n",
       "...                                        ...   \n",
       "612388                                       1   \n",
       "612389                                       1   \n",
       "612390                                       1   \n",
       "612391                                       1   \n",
       "612392                                       0   \n",
       "\n",
       "        world_region_Europe and Central Asia  \\\n",
       "0                                          0   \n",
       "1                                          0   \n",
       "2                                          0   \n",
       "3                                          0   \n",
       "4                                          0   \n",
       "...                                      ...   \n",
       "612388                                     0   \n",
       "612389                                     0   \n",
       "612390                                     0   \n",
       "612391                                     0   \n",
       "612392                                     0   \n",
       "\n",
       "        world_region_Latin America and Caribbean  world_region_South Asia  \\\n",
       "0                                              0                        1   \n",
       "1                                              0                        1   \n",
       "2                                              0                        1   \n",
       "3                                              0                        1   \n",
       "4                                              0                        1   \n",
       "...                                          ...                      ...   \n",
       "612388                                         0                        0   \n",
       "612389                                         0                        0   \n",
       "612390                                         0                        0   \n",
       "612391                                         0                        0   \n",
       "612392                                         0                        1   \n",
       "\n",
       "        world_region_Sub-Saharan Africa  posted_season_Fall  \\\n",
       "0                                     0                   0   \n",
       "1                                     0                   0   \n",
       "2                                     0                   0   \n",
       "3                                     0                   0   \n",
       "4                                     0                   0   \n",
       "...                                 ...                 ...   \n",
       "612388                                0                   0   \n",
       "612389                                0                   0   \n",
       "612390                                0                   0   \n",
       "612391                                0                   0   \n",
       "612392                                0                   0   \n",
       "\n",
       "        posted_season_Spring  posted_season_Summer  posted_season_Winter  \\\n",
       "0                          0                     0                     1   \n",
       "1                          0                     0                     1   \n",
       "2                          0                     0                     1   \n",
       "3                          0                     0                     1   \n",
       "4                          0                     0                     1   \n",
       "...                      ...                   ...                   ...   \n",
       "612388                     0                     1                     0   \n",
       "612389                     0                     1                     0   \n",
       "612390                     0                     1                     0   \n",
       "612391                     0                     1                     0   \n",
       "612392                     0                     1                     0   \n",
       "\n",
       "        With_tag  \n",
       "0              0  \n",
       "1              0  \n",
       "2              1  \n",
       "3              0  \n",
       "4              0  \n",
       "...          ...  \n",
       "612388         1  \n",
       "612389         1  \n",
       "612390         1  \n",
       "612391         1  \n",
       "612392         1  \n",
       "\n",
       "[612393 rows x 34 columns]"
      ]
     },
     "execution_count": 33,
     "metadata": {},
     "output_type": "execute_result"
    }
   ],
   "source": [
    "loans_df"
   ]
  },
  {
   "cell_type": "markdown",
   "metadata": {},
   "source": [
    "## Numeric features"
   ]
  },
  {
   "cell_type": "code",
   "execution_count": 34,
   "metadata": {
    "ExecuteTime": {
     "end_time": "2021-07-21T22:10:17.881883Z",
     "start_time": "2021-07-21T22:10:17.846587Z"
    }
   },
   "outputs": [
    {
     "data": {
      "text/plain": [
       "Index(['loan_amount', 'term_in_months', 'loan_amount_per_month', 'MPI',\n",
       "       'funding_speed'],\n",
       "      dtype='object')"
      ]
     },
     "execution_count": 34,
     "metadata": {},
     "output_type": "execute_result"
    }
   ],
   "source": [
    "loans_df.select_dtypes(include='float').columns"
   ]
  },
  {
   "cell_type": "code",
   "execution_count": 35,
   "metadata": {
    "ExecuteTime": {
     "end_time": "2021-07-21T22:10:18.057695Z",
     "start_time": "2021-07-21T22:10:17.887018Z"
    }
   },
   "outputs": [
    {
     "data": {
      "text/html": [
       "<div>\n",
       "<style scoped>\n",
       "    .dataframe tbody tr th:only-of-type {\n",
       "        vertical-align: middle;\n",
       "    }\n",
       "\n",
       "    .dataframe tbody tr th {\n",
       "        vertical-align: top;\n",
       "    }\n",
       "\n",
       "    .dataframe thead th {\n",
       "        text-align: right;\n",
       "    }\n",
       "</style>\n",
       "<table border=\"1\" class=\"dataframe\">\n",
       "  <thead>\n",
       "    <tr style=\"text-align: right;\">\n",
       "      <th></th>\n",
       "      <th>loan_amount</th>\n",
       "      <th>term_in_months</th>\n",
       "      <th>MPI</th>\n",
       "      <th>loan_amount_per_month</th>\n",
       "    </tr>\n",
       "  </thead>\n",
       "  <tbody>\n",
       "    <tr>\n",
       "      <th>count</th>\n",
       "      <td>612393.000000</td>\n",
       "      <td>612393.000000</td>\n",
       "      <td>612393.000000</td>\n",
       "      <td>612393.000000</td>\n",
       "    </tr>\n",
       "    <tr>\n",
       "      <th>mean</th>\n",
       "      <td>757.595368</td>\n",
       "      <td>13.579701</td>\n",
       "      <td>0.124440</td>\n",
       "      <td>67.447404</td>\n",
       "    </tr>\n",
       "    <tr>\n",
       "      <th>std</th>\n",
       "      <td>1045.430707</td>\n",
       "      <td>8.617888</td>\n",
       "      <td>0.115893</td>\n",
       "      <td>117.134585</td>\n",
       "    </tr>\n",
       "    <tr>\n",
       "      <th>min</th>\n",
       "      <td>25.000000</td>\n",
       "      <td>1.000000</td>\n",
       "      <td>0.001155</td>\n",
       "      <td>0.000000</td>\n",
       "    </tr>\n",
       "    <tr>\n",
       "      <th>25%</th>\n",
       "      <td>250.000000</td>\n",
       "      <td>8.000000</td>\n",
       "      <td>0.052128</td>\n",
       "      <td>24.000000</td>\n",
       "    </tr>\n",
       "    <tr>\n",
       "      <th>50%</th>\n",
       "      <td>475.000000</td>\n",
       "      <td>13.000000</td>\n",
       "      <td>0.053851</td>\n",
       "      <td>38.000000</td>\n",
       "    </tr>\n",
       "    <tr>\n",
       "      <th>75%</th>\n",
       "      <td>900.000000</td>\n",
       "      <td>14.000000</td>\n",
       "      <td>0.187418</td>\n",
       "      <td>65.000000</td>\n",
       "    </tr>\n",
       "    <tr>\n",
       "      <th>max</th>\n",
       "      <td>100000.000000</td>\n",
       "      <td>158.000000</td>\n",
       "      <td>0.557405</td>\n",
       "      <td>10000.000000</td>\n",
       "    </tr>\n",
       "  </tbody>\n",
       "</table>\n",
       "</div>"
      ],
      "text/plain": [
       "         loan_amount  term_in_months            MPI  loan_amount_per_month\n",
       "count  612393.000000   612393.000000  612393.000000          612393.000000\n",
       "mean      757.595368       13.579701       0.124440              67.447404\n",
       "std      1045.430707        8.617888       0.115893             117.134585\n",
       "min        25.000000        1.000000       0.001155               0.000000\n",
       "25%       250.000000        8.000000       0.052128              24.000000\n",
       "50%       475.000000       13.000000       0.053851              38.000000\n",
       "75%       900.000000       14.000000       0.187418              65.000000\n",
       "max    100000.000000      158.000000       0.557405           10000.000000"
      ]
     },
     "execution_count": 35,
     "metadata": {},
     "output_type": "execute_result"
    }
   ],
   "source": [
    "numeric_feature = loans_df[['loan_amount', 'term_in_months', 'MPI', 'loan_amount_per_month']]\n",
    "numeric_feature.describe()"
   ]
  },
  {
   "cell_type": "code",
   "execution_count": 36,
   "metadata": {
    "ExecuteTime": {
     "end_time": "2021-07-21T22:10:19.601500Z",
     "start_time": "2021-07-21T22:10:18.061688Z"
    }
   },
   "outputs": [
    {
     "data": {
      "image/png": "[encoded data removed]",
      "text/plain": [
       "<Figure size 1152x432 with 4 Axes>"
      ]
     },
     "metadata": {},
     "output_type": "display_data"
    }
   ],
   "source": [
    "import warnings\n",
    "warnings.filterwarnings('ignore')\n",
    "numeric_feature.hist(layout=(2, 2), figsize=(16, 6),sharex=False,sharey=False, bins=50)\n",
    "plt.show(block=False)"
   ]
  },
  {
   "cell_type": "markdown",
   "metadata": {},
   "source": [
    "As we mentioned in EDA, all these numeric feature are right skewed, among which `loan_amount`, `term_in_months`, and `loan_amount_per_month` had extreme outliers."
   ]
  },
  {
   "cell_type": "code",
   "execution_count": 37,
   "metadata": {
    "ExecuteTime": {
     "end_time": "2021-07-21T22:10:20.744216Z",
     "start_time": "2021-07-21T22:10:19.604357Z"
    }
   },
   "outputs": [
    {
     "data": {
      "image/png": "[encoded data removed]",
      "text/plain": [
       "<Figure size 432x288 with 1 Axes>"
      ]
     },
     "metadata": {},
     "output_type": "display_data"
    },
    {
     "name": "stdout",
     "output_type": "stream",
     "text": [
      "For the feature of loan_amount, the data with a value greater than 2850.0 can be considered as extreme outliers.\n"
     ]
    },
    {
     "data": {
      "image/png": "[encoded data removed]",
      "text/plain": [
       "<Figure size 432x288 with 1 Axes>"
      ]
     },
     "metadata": {},
     "output_type": "display_data"
    },
    {
     "name": "stdout",
     "output_type": "stream",
     "text": [
      "For the feature of term_in_months, the data with a value greater than 32.0 can be considered as extreme outliers.\n"
     ]
    },
    {
     "data": {
      "image/png": "[encoded data removed]",
      "text/plain": [
       "<Figure size 432x288 with 1 Axes>"
      ]
     },
     "metadata": {},
     "output_type": "display_data"
    },
    {
     "name": "stdout",
     "output_type": "stream",
     "text": [
      "For the feature of loan_amount_per_month, the data with a value greater than 188.0 can be considered as extreme outliers.\n"
     ]
    },
    {
     "data": {
      "image/png": "[encoded data removed]",
      "text/plain": [
       "<Figure size 432x288 with 1 Axes>"
      ]
     },
     "metadata": {},
     "output_type": "display_data"
    },
    {
     "name": "stdout",
     "output_type": "stream",
     "text": [
      "For the feature of MPI, the data with a value greater than 0.5932897 can be considered as extreme outliers.\n"
     ]
    }
   ],
   "source": [
    "def outlier(columns):\n",
    "    for col in columns:\n",
    "        plt.boxplot(numeric_feature[col])\n",
    "        plt.show()\n",
    "        Q1, Q3 = numeric_feature[col].quantile([0.25, 0.75])\n",
    "        IQR = Q3 - Q1\n",
    "        extreme_outlier = Q3 + 3 * IQR\n",
    "        print('For the feature of {}, the data with a value greater than {} can be considered as extreme outliers.'.format(col,extreme_outlier))\n",
    "\n",
    "outlier(['loan_amount', 'term_in_months', 'loan_amount_per_month', 'MPI'])"
   ]
  },
  {
   "cell_type": "code",
   "execution_count": 38,
   "metadata": {
    "ExecuteTime": {
     "end_time": "2021-07-21T22:10:20.915389Z",
     "start_time": "2021-07-21T22:10:20.748411Z"
    }
   },
   "outputs": [
    {
     "name": "stdout",
     "output_type": "stream",
     "text": [
      "554865 entries remained, which accounted for 85.72% of the whole dataset.\n"
     ]
    }
   ],
   "source": [
    "# Drop all the entries which have extreme outliers\n",
    "loans_df_remove_outlier = loans_df[(loans_df.loan_amount_per_month < 188)  & (loans_df.term_in_months < 32) & (loans_df.loan_amount < 2850)]\n",
    "print('{} entries remained, which accounted for {:.2%} of the whole dataset.'.format(loans_df_remove_outlier.shape[0],loans_df_remove_outlier.shape[0]/647335))"
   ]
  },
  {
   "cell_type": "code",
   "execution_count": 39,
   "metadata": {
    "ExecuteTime": {
     "end_time": "2021-07-21T22:10:22.375172Z",
     "start_time": "2021-07-21T22:10:20.935054Z"
    }
   },
   "outputs": [
    {
     "data": {
      "image/png": "[encoded data removed]",
      "text/plain": [
       "<Figure size 1152x432 with 4 Axes>"
      ]
     },
     "metadata": {},
     "output_type": "display_data"
    }
   ],
   "source": [
    "import warnings\n",
    "warnings.filterwarnings('ignore')\n",
    "_ = loans_df_remove_outlier[['loan_amount', 'term_in_months', 'loan_amount_per_month','MPI']].hist(layout=(2, 2), figsize=(16, 6),sharex=False,sharey=False, bins=50)"
   ]
  },
  {
   "cell_type": "markdown",
   "metadata": {},
   "source": [
    "The entries without extreme outliers account for about 88% of all the entries."
   ]
  },
  {
   "cell_type": "markdown",
   "metadata": {},
   "source": [
    "There are three different ways to process numeric attributes: \n",
    "* **binning numeric attributes and convert them to categorical features** \n",
    "* **scaling numeric features with MinMaxScaler()**\n",
    "* **scaling numeric features with StandardScaler()**\n",
    "\n",
    "We will handle numeric features using different methods and compare the accuracy scores. Additionally, we will do the same things on the dataset without extreme outliers."
   ]
  },
  {
   "cell_type": "markdown",
   "metadata": {},
   "source": [
    "## Converting Numeric Features to Categorical Features"
   ]
  },
  {
   "cell_type": "markdown",
   "metadata": {},
   "source": [
    "### Binning Numeric Features"
   ]
  },
  {
   "cell_type": "code",
   "execution_count": 40,
   "metadata": {
    "ExecuteTime": {
     "end_time": "2021-07-21T22:10:22.421967Z",
     "start_time": "2021-07-21T22:10:22.378365Z"
    }
   },
   "outputs": [
    {
     "data": {
      "text/plain": [
       "25Q~50Q    157769\n",
       "0~25Q      157539\n",
       "75Q+       150900\n",
       "50Q~75Q    145918\n",
       "Name: loan_amount_cate, dtype: int64"
      ]
     },
     "execution_count": 40,
     "metadata": {},
     "output_type": "execute_result"
    }
   ],
   "source": [
    "# Bin loan_amount\n",
    "cut_points = [25,250,475,900,100001]\n",
    "label_names = [\"0~25Q\",\"25Q~50Q\",\"50Q~75Q\",'75Q+']\n",
    "loans_df[\"loan_amount_cate\"] = pd.cut(x=loans_df[\"loan_amount\"],bins=cut_points,labels=label_names)\n",
    "\n",
    "loans_df[\"loan_amount_cate\"].value_counts()"
   ]
  },
  {
   "cell_type": "code",
   "execution_count": 41,
   "metadata": {
    "ExecuteTime": {
     "end_time": "2021-07-21T22:10:22.482551Z",
     "start_time": "2021-07-21T22:10:22.425177Z"
    }
   },
   "outputs": [
    {
     "data": {
      "text/plain": [
       "0~25Q      205572\n",
       "50Q~75Q    149989\n",
       "75Q+       132705\n",
       "25Q~50Q    124096\n",
       "Name: term_in_months_cate, dtype: int64"
      ]
     },
     "execution_count": 41,
     "metadata": {},
     "output_type": "execute_result"
    }
   ],
   "source": [
    "# Bin term_in_months\n",
    "cut_points = [1,8,13,14,159]\n",
    "label_names = [\"0~25Q\",\"25Q~50Q\",\"50Q~75Q\",'75Q+']\n",
    "loans_df[\"term_in_months_cate\"] = pd.cut(x=loans_df[\"term_in_months\"],bins=cut_points,labels=label_names)\n",
    "\n",
    "loans_df[\"term_in_months_cate\"].value_counts()"
   ]
  },
  {
   "cell_type": "code",
   "execution_count": 42,
   "metadata": {
    "ExecuteTime": {
     "end_time": "2021-07-21T22:10:22.545139Z",
     "start_time": "2021-07-21T22:10:22.487084Z"
    }
   },
   "outputs": [
    {
     "data": {
      "text/plain": [
       "25Q~50Q    159092\n",
       "0~25Q      154560\n",
       "75Q+       152362\n",
       "50Q~75Q    146378\n",
       "Name: loan_amount_per_month_cate, dtype: int64"
      ]
     },
     "execution_count": 42,
     "metadata": {},
     "output_type": "execute_result"
    }
   ],
   "source": [
    "# Bin loan_amount_per_month\n",
    "cut_points = [0,24,38,65,10001]\n",
    "label_names = [\"0~25Q\",\"25Q~50Q\",\"50Q~75Q\",'75Q+']\n",
    "loans_df[\"loan_amount_per_month_cate\"] = pd.cut(x=loans_df[\"loan_amount_per_month\"],bins=cut_points,labels=label_names)\n",
    "\n",
    "loans_df[\"loan_amount_per_month_cate\"].value_counts()"
   ]
  },
  {
   "cell_type": "code",
   "execution_count": 43,
   "metadata": {
    "ExecuteTime": {
     "end_time": "2021-07-21T22:10:22.595849Z",
     "start_time": "2021-07-21T22:10:22.554032Z"
    }
   },
   "outputs": [
    {
     "data": {
      "text/plain": [
       "less_than_0.1    356107\n",
       "more_than_0.1    256286\n",
       "Name: MPI_cate, dtype: int64"
      ]
     },
     "execution_count": 43,
     "metadata": {},
     "output_type": "execute_result"
    }
   ],
   "source": [
    "# Bin MPI\n",
    "cut_points = [0, 0.1, 0.6]\n",
    "label_names = ['less_than_0.1', 'more_than_0.1']\n",
    "loans_df[\"MPI_cate\"] = pd.cut(x=loans_df['MPI'],bins=cut_points,labels=label_names)\n",
    "\n",
    "loans_df['MPI_cate'].value_counts()"
   ]
  },
  {
   "cell_type": "code",
   "execution_count": 44,
   "metadata": {
    "ExecuteTime": {
     "end_time": "2021-07-21T22:10:22.607424Z",
     "start_time": "2021-07-21T22:10:22.599148Z"
    },
    "scrolled": true
   },
   "outputs": [
    {
     "data": {
      "text/plain": [
       "Index(['loan_amount', 'term_in_months', 'loan_amount_per_month', 'MPI',\n",
       "       'funding_speed', 'sector_Agriculture', 'sector_Food', 'sector_Others',\n",
       "       'sector_Retail', 'country_Cambodia', 'country_El Salvador',\n",
       "       'country_Kenya', 'country_Others', 'country_Pakistan',\n",
       "       'country_Philippines', 'borrower_genders_female',\n",
       "       'borrower_genders_male', 'borrower_genders_mixed',\n",
       "       'borrower_genders_unknown', 'repayment_interval_bullet',\n",
       "       'repayment_interval_irregular', 'repayment_interval_monthly',\n",
       "       'repayment_interval_weekly', 'world_region_Arab States',\n",
       "       'world_region_East Asia and the Pacific',\n",
       "       'world_region_Europe and Central Asia',\n",
       "       'world_region_Latin America and Caribbean', 'world_region_South Asia',\n",
       "       'world_region_Sub-Saharan Africa', 'posted_season_Fall',\n",
       "       'posted_season_Spring', 'posted_season_Summer', 'posted_season_Winter',\n",
       "       'With_tag', 'loan_amount_cate', 'term_in_months_cate',\n",
       "       'loan_amount_per_month_cate', 'MPI_cate'],\n",
       "      dtype='object')"
      ]
     },
     "execution_count": 44,
     "metadata": {},
     "output_type": "execute_result"
    }
   ],
   "source": [
    "loans_df.columns"
   ]
  },
  {
   "cell_type": "markdown",
   "metadata": {},
   "source": [
    "### Converting Numerical Features to Categorical Features"
   ]
  },
  {
   "cell_type": "code",
   "execution_count": 45,
   "metadata": {
    "ExecuteTime": {
     "end_time": "2021-07-21T22:10:22.703015Z",
     "start_time": "2021-07-21T22:10:22.612220Z"
    }
   },
   "outputs": [],
   "source": [
    "dummy_category = pd.get_dummies(loans_df[['loan_amount_cate', 'term_in_months_cate', 'loan_amount_per_month_cate', 'MPI_cate']])"
   ]
  },
  {
   "cell_type": "code",
   "execution_count": 46,
   "metadata": {
    "ExecuteTime": {
     "end_time": "2021-07-21T22:10:22.795267Z",
     "start_time": "2021-07-21T22:10:22.706153Z"
    }
   },
   "outputs": [],
   "source": [
    "loans_df = loans_df.drop(columns=['loan_amount_cate', 'term_in_months_cate', 'loan_amount_per_month_cate', 'MPI_cate'])\n",
    "loans_df = pd.concat([loans_df, dummy_category], axis=1)"
   ]
  },
  {
   "cell_type": "code",
   "execution_count": 47,
   "metadata": {
    "ExecuteTime": {
     "end_time": "2021-07-21T22:10:22.808023Z",
     "start_time": "2021-07-21T22:10:22.799504Z"
    }
   },
   "outputs": [
    {
     "data": {
      "text/plain": [
       "Index(['loan_amount', 'term_in_months', 'loan_amount_per_month', 'MPI',\n",
       "       'funding_speed', 'sector_Agriculture', 'sector_Food', 'sector_Others',\n",
       "       'sector_Retail', 'country_Cambodia', 'country_El Salvador',\n",
       "       'country_Kenya', 'country_Others', 'country_Pakistan',\n",
       "       'country_Philippines', 'borrower_genders_female',\n",
       "       'borrower_genders_male', 'borrower_genders_mixed',\n",
       "       'borrower_genders_unknown', 'repayment_interval_bullet',\n",
       "       'repayment_interval_irregular', 'repayment_interval_monthly',\n",
       "       'repayment_interval_weekly', 'world_region_Arab States',\n",
       "       'world_region_East Asia and the Pacific',\n",
       "       'world_region_Europe and Central Asia',\n",
       "       'world_region_Latin America and Caribbean', 'world_region_South Asia',\n",
       "       'world_region_Sub-Saharan Africa', 'posted_season_Fall',\n",
       "       'posted_season_Spring', 'posted_season_Summer', 'posted_season_Winter',\n",
       "       'With_tag', 'loan_amount_cate_0~25Q', 'loan_amount_cate_25Q~50Q',\n",
       "       'loan_amount_cate_50Q~75Q', 'loan_amount_cate_75Q+',\n",
       "       'term_in_months_cate_0~25Q', 'term_in_months_cate_25Q~50Q',\n",
       "       'term_in_months_cate_50Q~75Q', 'term_in_months_cate_75Q+',\n",
       "       'loan_amount_per_month_cate_0~25Q',\n",
       "       'loan_amount_per_month_cate_25Q~50Q',\n",
       "       'loan_amount_per_month_cate_50Q~75Q', 'loan_amount_per_month_cate_75Q+',\n",
       "       'MPI_cate_less_than_0.1', 'MPI_cate_more_than_0.1'],\n",
       "      dtype='object')"
      ]
     },
     "execution_count": 47,
     "metadata": {},
     "output_type": "execute_result"
    }
   ],
   "source": [
    "loans_df.columns"
   ]
  },
  {
   "cell_type": "markdown",
   "metadata": {},
   "source": [
    "## Train/Test Split"
   ]
  },
  {
   "cell_type": "code",
   "execution_count": 48,
   "metadata": {
    "ExecuteTime": {
     "end_time": "2021-07-21T22:10:23.250238Z",
     "start_time": "2021-07-21T22:10:22.811329Z"
    }
   },
   "outputs": [],
   "source": [
    "X = loans_df.drop(columns='funding_speed')\n",
    "y = loans_df.funding_speed\n",
    "X_train, X_test, y_train, y_test = train_test_split(X, y, test_size=0.3, random_state=1)"
   ]
  },
  {
   "cell_type": "markdown",
   "metadata": {},
   "source": [
    "### Processing All the Entries"
   ]
  },
  {
   "cell_type": "markdown",
   "metadata": {},
   "source": [
    "#### Dataset without Numerical Features"
   ]
  },
  {
   "cell_type": "code",
   "execution_count": 49,
   "metadata": {
    "ExecuteTime": {
     "end_time": "2021-07-21T22:10:23.294026Z",
     "start_time": "2021-07-21T22:10:23.252727Z"
    }
   },
   "outputs": [],
   "source": [
    "drop_ca = ['loan_amount','term_in_months', 'loan_amount_per_month', 'MPI']\n",
    "X_tr_ca = X_train.drop(columns=drop_ca)\n",
    "X_te_ca = X_test.drop(columns=drop_ca) "
   ]
  },
  {
   "cell_type": "code",
   "execution_count": 50,
   "metadata": {
    "ExecuteTime": {
     "end_time": "2021-07-21T22:10:23.304184Z",
     "start_time": "2021-07-21T22:10:23.297149Z"
    }
   },
   "outputs": [
    {
     "data": {
      "text/plain": [
       "Index(['sector_Agriculture', 'sector_Food', 'sector_Others', 'sector_Retail',\n",
       "       'country_Cambodia', 'country_El Salvador', 'country_Kenya',\n",
       "       'country_Others', 'country_Pakistan', 'country_Philippines',\n",
       "       'borrower_genders_female', 'borrower_genders_male',\n",
       "       'borrower_genders_mixed', 'borrower_genders_unknown',\n",
       "       'repayment_interval_bullet', 'repayment_interval_irregular',\n",
       "       'repayment_interval_monthly', 'repayment_interval_weekly',\n",
       "       'world_region_Arab States', 'world_region_East Asia and the Pacific',\n",
       "       'world_region_Europe and Central Asia',\n",
       "       'world_region_Latin America and Caribbean', 'world_region_South Asia',\n",
       "       'world_region_Sub-Saharan Africa', 'posted_season_Fall',\n",
       "       'posted_season_Spring', 'posted_season_Summer', 'posted_season_Winter',\n",
       "       'With_tag', 'loan_amount_cate_0~25Q', 'loan_amount_cate_25Q~50Q',\n",
       "       'loan_amount_cate_50Q~75Q', 'loan_amount_cate_75Q+',\n",
       "       'term_in_months_cate_0~25Q', 'term_in_months_cate_25Q~50Q',\n",
       "       'term_in_months_cate_50Q~75Q', 'term_in_months_cate_75Q+',\n",
       "       'loan_amount_per_month_cate_0~25Q',\n",
       "       'loan_amount_per_month_cate_25Q~50Q',\n",
       "       'loan_amount_per_month_cate_50Q~75Q', 'loan_amount_per_month_cate_75Q+',\n",
       "       'MPI_cate_less_than_0.1', 'MPI_cate_more_than_0.1'],\n",
       "      dtype='object')"
      ]
     },
     "execution_count": 50,
     "metadata": {},
     "output_type": "execute_result"
    }
   ],
   "source": [
    "X_tr_ca.columns"
   ]
  },
  {
   "cell_type": "markdown",
   "metadata": {},
   "source": [
    "#### Scale Numeric Features with `StandardScaler()` and `MinMaxScaler()`"
   ]
  },
  {
   "cell_type": "code",
   "execution_count": 51,
   "metadata": {
    "ExecuteTime": {
     "end_time": "2021-07-21T22:10:23.347420Z",
     "start_time": "2021-07-21T22:10:23.307049Z"
    }
   },
   "outputs": [],
   "source": [
    "# Drop all the categorized numeric features\n",
    "drop_nu = ['loan_amount_cate_0~25Q', 'loan_amount_cate_25Q~50Q',\n",
    "       'loan_amount_cate_50Q~75Q', 'loan_amount_cate_75Q+',\n",
    "       'term_in_months_cate_0~25Q', 'term_in_months_cate_25Q~50Q',\n",
    "       'term_in_months_cate_50Q~75Q', 'term_in_months_cate_75Q+',\n",
    "       'loan_amount_per_month_cate_0~25Q',\n",
    "       'loan_amount_per_month_cate_25Q~50Q',\n",
    "       'loan_amount_per_month_cate_50Q~75Q', 'loan_amount_per_month_cate_75Q+',\n",
    "       'MPI_cate_less_than_0.1', 'MPI_cate_more_than_0.1']\n",
    "X_tr_nu = X_train.drop(columns=drop_nu)\n",
    "X_te_nu = X_test.drop(columns=drop_nu) "
   ]
  },
  {
   "cell_type": "code",
   "execution_count": 52,
   "metadata": {
    "ExecuteTime": {
     "end_time": "2021-07-21T22:10:23.356649Z",
     "start_time": "2021-07-21T22:10:23.349729Z"
    }
   },
   "outputs": [
    {
     "data": {
      "text/plain": [
       "Index(['loan_amount', 'term_in_months', 'loan_amount_per_month', 'MPI',\n",
       "       'sector_Agriculture', 'sector_Food', 'sector_Others', 'sector_Retail',\n",
       "       'country_Cambodia', 'country_El Salvador', 'country_Kenya',\n",
       "       'country_Others', 'country_Pakistan', 'country_Philippines',\n",
       "       'borrower_genders_female', 'borrower_genders_male',\n",
       "       'borrower_genders_mixed', 'borrower_genders_unknown',\n",
       "       'repayment_interval_bullet', 'repayment_interval_irregular',\n",
       "       'repayment_interval_monthly', 'repayment_interval_weekly',\n",
       "       'world_region_Arab States', 'world_region_East Asia and the Pacific',\n",
       "       'world_region_Europe and Central Asia',\n",
       "       'world_region_Latin America and Caribbean', 'world_region_South Asia',\n",
       "       'world_region_Sub-Saharan Africa', 'posted_season_Fall',\n",
       "       'posted_season_Spring', 'posted_season_Summer', 'posted_season_Winter',\n",
       "       'With_tag'],\n",
       "      dtype='object')"
      ]
     },
     "execution_count": 52,
     "metadata": {},
     "output_type": "execute_result"
    }
   ],
   "source": [
    "X_tr_nu.columns"
   ]
  },
  {
   "cell_type": "code",
   "execution_count": 53,
   "metadata": {
    "ExecuteTime": {
     "end_time": "2021-07-21T22:10:23.963566Z",
     "start_time": "2021-07-21T22:10:23.359380Z"
    }
   },
   "outputs": [],
   "source": [
    "# Scale numerical features with StandardScaler()\n",
    "X_tr_sd, X_te_sd = X_tr_nu, X_te_nu\n",
    "\n",
    "scaler = StandardScaler() \n",
    "X_tr_sd = pd.DataFrame(scaler.fit_transform(X_tr_sd), columns=X_tr_sd.columns)\n",
    "X_te_sd = pd.DataFrame(scaler.transform(X_te_sd), columns=X_te_sd.columns)"
   ]
  },
  {
   "cell_type": "code",
   "execution_count": 54,
   "metadata": {
    "ExecuteTime": {
     "end_time": "2021-07-21T22:10:24.303472Z",
     "start_time": "2021-07-21T22:10:23.966706Z"
    }
   },
   "outputs": [],
   "source": [
    "# Scale numerical features with MinMaxScaler()\n",
    "X_tr_mm, X_te_mm = X_tr_nu, X_te_nu\n",
    "\n",
    "scaler = MinMaxScaler() \n",
    "X_tr_mm = pd.DataFrame(scaler.fit_transform(X_tr_mm), columns=X_tr_mm.columns)\n",
    "X_te_mm = pd.DataFrame(scaler.transform(X_te_mm), columns=X_te_mm.columns)"
   ]
  },
  {
   "cell_type": "markdown",
   "metadata": {},
   "source": [
    "### Processing the Entries without Extreme Outliers"
   ]
  },
  {
   "cell_type": "code",
   "execution_count": 55,
   "metadata": {
    "ExecuteTime": {
     "end_time": "2021-07-21T22:10:24.706358Z",
     "start_time": "2021-07-21T22:10:24.305834Z"
    }
   },
   "outputs": [],
   "source": [
    "# Drop all the entries which have extreme outliers\n",
    "loans_df_remove_outlier = loans_df[(loans_df.loan_amount_per_month < 188)  & (loans_df.term_in_months < 32) & (loans_df.loan_amount < 2850)]\n",
    "X_out = loans_df_remove_outlier.drop(columns='funding_speed')\n",
    "y_out = loans_df_remove_outlier.funding_speed\n",
    "X_train_out, X_test_out, y_train_out, y_test_out = train_test_split(X_out, y_out, test_size=0.3)"
   ]
  },
  {
   "cell_type": "code",
   "execution_count": 56,
   "metadata": {
    "ExecuteTime": {
     "end_time": "2021-07-21T22:10:25.557885Z",
     "start_time": "2021-07-21T22:10:24.708782Z"
    }
   },
   "outputs": [],
   "source": [
    "# Dataset without Numerical Features\n",
    "X_tr_ca_out = X_train_out.drop(columns=drop_ca)\n",
    "X_te_ca_out = X_test_out.drop(columns=drop_ca) \n",
    "\n",
    "# Drop all the categorized numeric features\n",
    "X_tr_nu_out = X_train_out.drop(columns=drop_nu)\n",
    "X_te_nu_out = X_test_out.drop(columns=drop_nu)\n",
    "\n",
    "# Scale numerical features with StandardScaler()\n",
    "X_tr_sd_out, X_te_sd_out = X_tr_nu_out, X_te_nu_out\n",
    "scaler = StandardScaler() \n",
    "X_tr_sd_out = pd.DataFrame(scaler.fit_transform(X_tr_sd_out), columns=X_tr_sd_out.columns)\n",
    "X_te_sd_out = pd.DataFrame(scaler.transform(X_te_sd_out), columns=X_te_sd_out.columns)\n",
    "\n",
    "# Scale numerical features with MinMaxScaler()\n",
    "X_tr_mm_out, X_te_mm_out = X_tr_nu_out, X_te_nu_out\n",
    "scaler = MinMaxScaler() \n",
    "X_tr_mm_out = pd.DataFrame(scaler.fit_transform(X_tr_mm_out), columns=X_tr_mm_out.columns)\n",
    "X_te_mm_out = pd.DataFrame(scaler.transform(X_te_mm_out), columns=X_te_mm_out.columns)\n"
   ]
  },
  {
   "cell_type": "markdown",
   "metadata": {},
   "source": [
    "### Comparing Accuracy Scores with Logistic Regression"
   ]
  },
  {
   "cell_type": "code",
   "execution_count": 57,
   "metadata": {
    "ExecuteTime": {
     "end_time": "2021-07-21T22:15:35.076888Z",
     "start_time": "2021-07-21T22:10:25.560121Z"
    }
   },
   "outputs": [],
   "source": [
    "# Calculate accuracy scores of train data and test data\n",
    "\n",
    "X_train_list = [X_tr_ca, X_tr_sd, X_tr_mm, X_tr_ca_out, X_tr_sd_out, X_tr_mm_out]\n",
    "X_test_list = [X_te_ca, X_te_sd, X_te_mm, X_te_ca_out, X_te_sd_out, X_te_mm_out]\n",
    "y_train_list = [y_train, y_train, y_train, y_train_out, y_train_out, y_train_out]\n",
    "y_test_list = [y_test, y_test, y_test, y_test_out, y_test_out, y_test_out]\n",
    "\n",
    "score_accu_tr_list_lr = []\n",
    "score_accu_te_list_lr = []\n",
    "for i in range(len(X_train_list)):\n",
    "    # Initial classfier\n",
    "    lr = LogisticRegression(random_state=1, max_iter=500)\n",
    "    lr.fit(X_train_list[i], y_train_list[i])\n",
    "    score_accu_tr= cross_val_score(lr,X_train_list[i],y_train_list[i],cv=5,scoring='accuracy')\n",
    "    score_accu_te= cross_val_score(lr,X_test_list[i],y_test_list[i],cv=5,scoring='accuracy')\n",
    "    score_accu_tr_list_lr.append(score_accu_tr.mean().round(3))\n",
    "    score_accu_te_list_lr.append(score_accu_te.mean().round(3))"
   ]
  },
  {
   "cell_type": "code",
   "execution_count": 58,
   "metadata": {
    "ExecuteTime": {
     "end_time": "2021-07-21T22:15:35.100235Z",
     "start_time": "2021-07-21T22:15:35.078976Z"
    }
   },
   "outputs": [
    {
     "data": {
      "text/html": [
       "<div>\n",
       "<style scoped>\n",
       "    .dataframe tbody tr th:only-of-type {\n",
       "        vertical-align: middle;\n",
       "    }\n",
       "\n",
       "    .dataframe tbody tr th {\n",
       "        vertical-align: top;\n",
       "    }\n",
       "\n",
       "    .dataframe thead th {\n",
       "        text-align: right;\n",
       "    }\n",
       "</style>\n",
       "<table border=\"1\" class=\"dataframe\">\n",
       "  <thead>\n",
       "    <tr style=\"text-align: right;\">\n",
       "      <th></th>\n",
       "      <th>Method</th>\n",
       "      <th>Accuracy_train</th>\n",
       "      <th>Accuracy_test</th>\n",
       "    </tr>\n",
       "  </thead>\n",
       "  <tbody>\n",
       "    <tr>\n",
       "      <th>0</th>\n",
       "      <td>All_Categorical_Features</td>\n",
       "      <td>0.729</td>\n",
       "      <td>0.728</td>\n",
       "    </tr>\n",
       "    <tr>\n",
       "      <th>1</th>\n",
       "      <td>All_StandardScaler</td>\n",
       "      <td>0.729</td>\n",
       "      <td>0.727</td>\n",
       "    </tr>\n",
       "    <tr>\n",
       "      <th>2</th>\n",
       "      <td>All_MinMaxScaler</td>\n",
       "      <td>0.721</td>\n",
       "      <td>0.716</td>\n",
       "    </tr>\n",
       "    <tr>\n",
       "      <th>3</th>\n",
       "      <td>Categorical_Features_w/o_outliers</td>\n",
       "      <td>0.719</td>\n",
       "      <td>0.718</td>\n",
       "    </tr>\n",
       "    <tr>\n",
       "      <th>4</th>\n",
       "      <td>StandardScaler_w/o_outliers</td>\n",
       "      <td>0.717</td>\n",
       "      <td>0.717</td>\n",
       "    </tr>\n",
       "    <tr>\n",
       "      <th>5</th>\n",
       "      <td>MinMaxScaler_w/o_outliers</td>\n",
       "      <td>0.717</td>\n",
       "      <td>0.717</td>\n",
       "    </tr>\n",
       "  </tbody>\n",
       "</table>\n",
       "</div>"
      ],
      "text/plain": [
       "                              Method  Accuracy_train  Accuracy_test\n",
       "0           All_Categorical_Features           0.729          0.728\n",
       "1                 All_StandardScaler           0.729          0.727\n",
       "2                   All_MinMaxScaler           0.721          0.716\n",
       "3  Categorical_Features_w/o_outliers           0.719          0.718\n",
       "4        StandardScaler_w/o_outliers           0.717          0.717\n",
       "5          MinMaxScaler_w/o_outliers           0.717          0.717"
      ]
     },
     "execution_count": 58,
     "metadata": {},
     "output_type": "execute_result"
    }
   ],
   "source": [
    "methods = ['All_Categorical_Features',\n",
    "           'All_StandardScaler', \n",
    "           'All_MinMaxScaler', \n",
    "           'Categorical_Features_w/o_outliers',\n",
    "           'StandardScaler_w/o_outliers',\n",
    "           'MinMaxScaler_w/o_outliers']\n",
    "comparing_lr = pd.DataFrame({'Method': methods, \n",
    "                           'Accuracy_train': score_accu_tr_list_lr, \n",
    "                           'Accuracy_test': score_accu_te_list_lr})\n",
    "comparing_lr"
   ]
  },
  {
   "cell_type": "markdown",
   "metadata": {},
   "source": [
    "### Comparing Accuracy Scores with Random Forest"
   ]
  },
  {
   "cell_type": "code",
   "execution_count": 59,
   "metadata": {
    "ExecuteTime": {
     "end_time": "2021-07-21T23:09:19.132470Z",
     "start_time": "2021-07-21T22:15:35.118435Z"
    }
   },
   "outputs": [
    {
     "data": {
      "text/html": [
       "<div>\n",
       "<style scoped>\n",
       "    .dataframe tbody tr th:only-of-type {\n",
       "        vertical-align: middle;\n",
       "    }\n",
       "\n",
       "    .dataframe tbody tr th {\n",
       "        vertical-align: top;\n",
       "    }\n",
       "\n",
       "    .dataframe thead th {\n",
       "        text-align: right;\n",
       "    }\n",
       "</style>\n",
       "<table border=\"1\" class=\"dataframe\">\n",
       "  <thead>\n",
       "    <tr style=\"text-align: right;\">\n",
       "      <th></th>\n",
       "      <th>Method</th>\n",
       "      <th>Accuracy_train</th>\n",
       "      <th>Accuracy_test</th>\n",
       "    </tr>\n",
       "  </thead>\n",
       "  <tbody>\n",
       "    <tr>\n",
       "      <th>0</th>\n",
       "      <td>All_Categorical_Features</td>\n",
       "      <td>0.762</td>\n",
       "      <td>0.756</td>\n",
       "    </tr>\n",
       "    <tr>\n",
       "      <th>1</th>\n",
       "      <td>All_StandardScaler</td>\n",
       "      <td>0.772</td>\n",
       "      <td>0.763</td>\n",
       "    </tr>\n",
       "    <tr>\n",
       "      <th>2</th>\n",
       "      <td>All_MinMaxScaler</td>\n",
       "      <td>0.772</td>\n",
       "      <td>0.763</td>\n",
       "    </tr>\n",
       "    <tr>\n",
       "      <th>3</th>\n",
       "      <td>Categorical_Features_w/o_outliers</td>\n",
       "      <td>0.751</td>\n",
       "      <td>0.743</td>\n",
       "    </tr>\n",
       "    <tr>\n",
       "      <th>4</th>\n",
       "      <td>StandardScaler_w/o_outliers</td>\n",
       "      <td>0.761</td>\n",
       "      <td>0.751</td>\n",
       "    </tr>\n",
       "    <tr>\n",
       "      <th>5</th>\n",
       "      <td>MinMaxScaler_w/o_outliers</td>\n",
       "      <td>0.761</td>\n",
       "      <td>0.751</td>\n",
       "    </tr>\n",
       "  </tbody>\n",
       "</table>\n",
       "</div>"
      ],
      "text/plain": [
       "                              Method  Accuracy_train  Accuracy_test\n",
       "0           All_Categorical_Features           0.762          0.756\n",
       "1                 All_StandardScaler           0.772          0.763\n",
       "2                   All_MinMaxScaler           0.772          0.763\n",
       "3  Categorical_Features_w/o_outliers           0.751          0.743\n",
       "4        StandardScaler_w/o_outliers           0.761          0.751\n",
       "5          MinMaxScaler_w/o_outliers           0.761          0.751"
      ]
     },
     "execution_count": 59,
     "metadata": {},
     "output_type": "execute_result"
    }
   ],
   "source": [
    "# Calculate accuracy scores of train data and test data\n",
    "from sklearn.ensemble import RandomForestClassifier\n",
    "score_accu_tr_list_rf = []\n",
    "score_accu_te_list_rf = []\n",
    "\n",
    "for i in range(len(X_train_list)):\n",
    "    # Initial classfier\n",
    "    rf = RandomForestClassifier(random_state=1)\n",
    "    rf.fit(X_train_list[i], y_train_list[i])\n",
    "    score_accu_tr_rf= cross_val_score(rf,X_train_list[i],y_train_list[i],cv=5,scoring='accuracy')\n",
    "    score_accu_te_rf= cross_val_score(rf,X_test_list[i],y_test_list[i],cv=5,scoring='accuracy')\n",
    "    score_accu_tr_list_rf.append(score_accu_tr_rf.mean().round(3))\n",
    "    score_accu_te_list_rf.append(score_accu_te_rf.mean().round(3))\n",
    "\n",
    "# Build a dataframe to display result\n",
    "methods = ['All_Categorical_Features',\n",
    "           'All_StandardScaler', \n",
    "           'All_MinMaxScaler', \n",
    "           'Categorical_Features_w/o_outliers',\n",
    "           'StandardScaler_w/o_outliers',\n",
    "           'MinMaxScaler_w/o_outliers']\n",
    "comparing_rf = pd.DataFrame({'Method': methods, \n",
    "                           'Accuracy_train': score_accu_tr_list_rf, \n",
    "                           'Accuracy_test': score_accu_te_list_rf})\n",
    "comparing_rf"
   ]
  },
  {
   "cell_type": "markdown",
   "metadata": {},
   "source": [
    "### Comparing the Test Data Accuracy Scores of Two Models"
   ]
  },
  {
   "cell_type": "code",
   "execution_count": 60,
   "metadata": {
    "ExecuteTime": {
     "end_time": "2021-07-21T23:09:19.527302Z",
     "start_time": "2021-07-21T23:09:19.135415Z"
    }
   },
   "outputs": [
    {
     "name": "stdout",
     "output_type": "stream",
     "text": [
      "                              Method  Logistic Regression Score  \\\n",
      "0           All_Categorical_Features                      0.728   \n",
      "1                 All_StandardScaler                      0.727   \n",
      "2                   All_MinMaxScaler                      0.716   \n",
      "3  Categorical_Features_w/o_outliers                      0.718   \n",
      "4        StandardScaler_w/o_outliers                      0.717   \n",
      "5          MinMaxScaler_w/o_outliers                      0.717   \n",
      "\n",
      "   Random Forest Score  \n",
      "0                0.756  \n",
      "1                0.763  \n",
      "2                0.763  \n",
      "3                0.743  \n",
      "4                0.751  \n",
      "5                0.751  \n"
     ]
    },
    {
     "data": {
      "image/png": "[encoded data removed]",
      "text/plain": [
       "<Figure size 720x360 with 1 Axes>"
      ]
     },
     "metadata": {},
     "output_type": "display_data"
    }
   ],
   "source": [
    "# Displat the test data accuracy scores of two models\n",
    "accu_te_modles = pd.DataFrame({'Method': methods, \n",
    "                           'Logistic Regression Score': score_accu_te_list_lr, \n",
    "                           'Random Forest Score': score_accu_te_list_rf})\n",
    "print(accu_te_modles)\n",
    "\n",
    "# Plot test data accuracy score of two models\n",
    "index_lr=[1,2,3,4,5,6]\n",
    "index_rf=[1.2,2.2,3.2,4.2,5.2,6.2]\n",
    "plt.figure(figsize=(10,5))\n",
    "plt.xlabel('Models',fontsize=15)\n",
    "plt.ylabel ('Test Data Accuracy Scores',fontsize=15)\n",
    "plt.title('Comparison of the Accuracy',fontsize=15)\n",
    "plt.bar(index_lr,comparing_lr.Accuracy_test,color='b',alpha=0.6,label='Logistic Regression',edgecolor='k',width=0.2)\n",
    "plt.bar(index_rf,comparing_rf.Accuracy_test,color='cyan',alpha=0.8,label='Random Forest',edgecolor='k',width=0.2)\n",
    "plt.legend(loc='upper right')\n",
    "plt.xticks([1.1, 2.1,3.1,4.1, 5.1, 6.1], methods,rotation=45)\n",
    "plt.ylim(0.5)\n",
    "_ = plt.show()"
   ]
  },
  {
   "cell_type": "markdown",
   "metadata": {},
   "source": [
    "The accuracy scores of Random Forest are higher than Logistic Regression. We get the highest accuracy score when  scaling numerical features with `StandardScaler` and `MinMaxScaler`, although the score difference of the six methods are small.\n",
    "We will standardized numeric features in the following process with `StandardScaler`."
   ]
  },
  {
   "cell_type": "code",
   "execution_count": 61,
   "metadata": {
    "ExecuteTime": {
     "end_time": "2021-07-21T23:09:19.683889Z",
     "start_time": "2021-07-21T23:09:19.532449Z"
    }
   },
   "outputs": [],
   "source": [
    "# Remove all the redunted columns\n",
    "loans_df.drop(columns=['loan_amount_cate_0~25Q', 'loan_amount_cate_25Q~50Q',\n",
    "       'loan_amount_cate_50Q~75Q', 'loan_amount_cate_75Q+',\n",
    "       'term_in_months_cate_0~25Q', 'term_in_months_cate_25Q~50Q',\n",
    "       'term_in_months_cate_50Q~75Q', 'term_in_months_cate_75Q+',\n",
    "       'loan_amount_per_month_cate_0~25Q',\n",
    "       'loan_amount_per_month_cate_25Q~50Q',\n",
    "       'loan_amount_per_month_cate_50Q~75Q', 'loan_amount_per_month_cate_75Q+',\n",
    "       'MPI_cate_less_than_0.1', 'MPI_cate_more_than_0.1'], inplace=True)"
   ]
  },
  {
   "cell_type": "code",
   "execution_count": 62,
   "metadata": {
    "ExecuteTime": {
     "end_time": "2021-07-21T23:09:19.725749Z",
     "start_time": "2021-07-21T23:09:19.687348Z"
    },
    "scrolled": true
   },
   "outputs": [
    {
     "data": {
      "text/html": [
       "<div>\n",
       "<style scoped>\n",
       "    .dataframe tbody tr th:only-of-type {\n",
       "        vertical-align: middle;\n",
       "    }\n",
       "\n",
       "    .dataframe tbody tr th {\n",
       "        vertical-align: top;\n",
       "    }\n",
       "\n",
       "    .dataframe thead th {\n",
       "        text-align: right;\n",
       "    }\n",
       "</style>\n",
       "<table border=\"1\" class=\"dataframe\">\n",
       "  <thead>\n",
       "    <tr style=\"text-align: right;\">\n",
       "      <th></th>\n",
       "      <th>loan_amount</th>\n",
       "      <th>term_in_months</th>\n",
       "      <th>loan_amount_per_month</th>\n",
       "      <th>MPI</th>\n",
       "      <th>funding_speed</th>\n",
       "      <th>sector_Agriculture</th>\n",
       "      <th>sector_Food</th>\n",
       "      <th>sector_Others</th>\n",
       "      <th>sector_Retail</th>\n",
       "      <th>country_Cambodia</th>\n",
       "      <th>...</th>\n",
       "      <th>world_region_East Asia and the Pacific</th>\n",
       "      <th>world_region_Europe and Central Asia</th>\n",
       "      <th>world_region_Latin America and Caribbean</th>\n",
       "      <th>world_region_South Asia</th>\n",
       "      <th>world_region_Sub-Saharan Africa</th>\n",
       "      <th>posted_season_Fall</th>\n",
       "      <th>posted_season_Spring</th>\n",
       "      <th>posted_season_Summer</th>\n",
       "      <th>posted_season_Winter</th>\n",
       "      <th>With_tag</th>\n",
       "    </tr>\n",
       "  </thead>\n",
       "  <tbody>\n",
       "    <tr>\n",
       "      <th>0</th>\n",
       "      <td>300.0</td>\n",
       "      <td>12.0</td>\n",
       "      <td>25.0</td>\n",
       "      <td>0.230320</td>\n",
       "      <td>1.0</td>\n",
       "      <td>0</td>\n",
       "      <td>1</td>\n",
       "      <td>0</td>\n",
       "      <td>0</td>\n",
       "      <td>0</td>\n",
       "      <td>...</td>\n",
       "      <td>0</td>\n",
       "      <td>0</td>\n",
       "      <td>0</td>\n",
       "      <td>1</td>\n",
       "      <td>0</td>\n",
       "      <td>0</td>\n",
       "      <td>0</td>\n",
       "      <td>0</td>\n",
       "      <td>1</td>\n",
       "      <td>0</td>\n",
       "    </tr>\n",
       "    <tr>\n",
       "      <th>1</th>\n",
       "      <td>575.0</td>\n",
       "      <td>11.0</td>\n",
       "      <td>52.0</td>\n",
       "      <td>0.230320</td>\n",
       "      <td>1.0</td>\n",
       "      <td>0</td>\n",
       "      <td>0</td>\n",
       "      <td>1</td>\n",
       "      <td>0</td>\n",
       "      <td>0</td>\n",
       "      <td>...</td>\n",
       "      <td>0</td>\n",
       "      <td>0</td>\n",
       "      <td>0</td>\n",
       "      <td>1</td>\n",
       "      <td>0</td>\n",
       "      <td>0</td>\n",
       "      <td>0</td>\n",
       "      <td>0</td>\n",
       "      <td>1</td>\n",
       "      <td>0</td>\n",
       "    </tr>\n",
       "    <tr>\n",
       "      <th>2</th>\n",
       "      <td>150.0</td>\n",
       "      <td>43.0</td>\n",
       "      <td>3.0</td>\n",
       "      <td>0.191099</td>\n",
       "      <td>1.0</td>\n",
       "      <td>0</td>\n",
       "      <td>0</td>\n",
       "      <td>1</td>\n",
       "      <td>0</td>\n",
       "      <td>0</td>\n",
       "      <td>...</td>\n",
       "      <td>0</td>\n",
       "      <td>0</td>\n",
       "      <td>0</td>\n",
       "      <td>1</td>\n",
       "      <td>0</td>\n",
       "      <td>0</td>\n",
       "      <td>0</td>\n",
       "      <td>0</td>\n",
       "      <td>1</td>\n",
       "      <td>1</td>\n",
       "    </tr>\n",
       "    <tr>\n",
       "      <th>3</th>\n",
       "      <td>200.0</td>\n",
       "      <td>11.0</td>\n",
       "      <td>18.0</td>\n",
       "      <td>0.230320</td>\n",
       "      <td>1.0</td>\n",
       "      <td>0</td>\n",
       "      <td>0</td>\n",
       "      <td>1</td>\n",
       "      <td>0</td>\n",
       "      <td>0</td>\n",
       "      <td>...</td>\n",
       "      <td>0</td>\n",
       "      <td>0</td>\n",
       "      <td>0</td>\n",
       "      <td>1</td>\n",
       "      <td>0</td>\n",
       "      <td>0</td>\n",
       "      <td>0</td>\n",
       "      <td>0</td>\n",
       "      <td>1</td>\n",
       "      <td>0</td>\n",
       "    </tr>\n",
       "    <tr>\n",
       "      <th>4</th>\n",
       "      <td>400.0</td>\n",
       "      <td>14.0</td>\n",
       "      <td>29.0</td>\n",
       "      <td>0.230320</td>\n",
       "      <td>1.0</td>\n",
       "      <td>0</td>\n",
       "      <td>1</td>\n",
       "      <td>0</td>\n",
       "      <td>0</td>\n",
       "      <td>0</td>\n",
       "      <td>...</td>\n",
       "      <td>0</td>\n",
       "      <td>0</td>\n",
       "      <td>0</td>\n",
       "      <td>1</td>\n",
       "      <td>0</td>\n",
       "      <td>0</td>\n",
       "      <td>0</td>\n",
       "      <td>0</td>\n",
       "      <td>1</td>\n",
       "      <td>0</td>\n",
       "    </tr>\n",
       "  </tbody>\n",
       "</table>\n",
       "<p>5 rows × 34 columns</p>\n",
       "</div>"
      ],
      "text/plain": [
       "   loan_amount  term_in_months  loan_amount_per_month       MPI  \\\n",
       "0        300.0            12.0                   25.0  0.230320   \n",
       "1        575.0            11.0                   52.0  0.230320   \n",
       "2        150.0            43.0                    3.0  0.191099   \n",
       "3        200.0            11.0                   18.0  0.230320   \n",
       "4        400.0            14.0                   29.0  0.230320   \n",
       "\n",
       "   funding_speed  sector_Agriculture  sector_Food  sector_Others  \\\n",
       "0            1.0                   0            1              0   \n",
       "1            1.0                   0            0              1   \n",
       "2            1.0                   0            0              1   \n",
       "3            1.0                   0            0              1   \n",
       "4            1.0                   0            1              0   \n",
       "\n",
       "   sector_Retail  country_Cambodia  ...  \\\n",
       "0              0                 0  ...   \n",
       "1              0                 0  ...   \n",
       "2              0                 0  ...   \n",
       "3              0                 0  ...   \n",
       "4              0                 0  ...   \n",
       "\n",
       "   world_region_East Asia and the Pacific  \\\n",
       "0                                       0   \n",
       "1                                       0   \n",
       "2                                       0   \n",
       "3                                       0   \n",
       "4                                       0   \n",
       "\n",
       "   world_region_Europe and Central Asia  \\\n",
       "0                                     0   \n",
       "1                                     0   \n",
       "2                                     0   \n",
       "3                                     0   \n",
       "4                                     0   \n",
       "\n",
       "   world_region_Latin America and Caribbean  world_region_South Asia  \\\n",
       "0                                         0                        1   \n",
       "1                                         0                        1   \n",
       "2                                         0                        1   \n",
       "3                                         0                        1   \n",
       "4                                         0                        1   \n",
       "\n",
       "   world_region_Sub-Saharan Africa  posted_season_Fall  posted_season_Spring  \\\n",
       "0                                0                   0                     0   \n",
       "1                                0                   0                     0   \n",
       "2                                0                   0                     0   \n",
       "3                                0                   0                     0   \n",
       "4                                0                   0                     0   \n",
       "\n",
       "   posted_season_Summer  posted_season_Winter  With_tag  \n",
       "0                     0                     1         0  \n",
       "1                     0                     1         0  \n",
       "2                     0                     1         1  \n",
       "3                     0                     1         0  \n",
       "4                     0                     1         0  \n",
       "\n",
       "[5 rows x 34 columns]"
      ]
     },
     "execution_count": 62,
     "metadata": {},
     "output_type": "execute_result"
    }
   ],
   "source": [
    "loans_df.head()"
   ]
  },
  {
   "cell_type": "code",
   "execution_count": 63,
   "metadata": {
    "ExecuteTime": {
     "end_time": "2021-07-21T23:09:19.808338Z",
     "start_time": "2021-07-21T23:09:19.735367Z"
    }
   },
   "outputs": [
    {
     "name": "stdout",
     "output_type": "stream",
     "text": [
      "<class 'pandas.core.frame.DataFrame'>\n",
      "RangeIndex: 612393 entries, 0 to 612392\n",
      "Data columns (total 34 columns):\n",
      " #   Column                                    Non-Null Count   Dtype  \n",
      "---  ------                                    --------------   -----  \n",
      " 0   loan_amount                               612393 non-null  float64\n",
      " 1   term_in_months                            612393 non-null  float64\n",
      " 2   loan_amount_per_month                     612393 non-null  float64\n",
      " 3   MPI                                       612393 non-null  float64\n",
      " 4   funding_speed                             612393 non-null  float64\n",
      " 5   sector_Agriculture                        612393 non-null  uint8  \n",
      " 6   sector_Food                               612393 non-null  uint8  \n",
      " 7   sector_Others                             612393 non-null  uint8  \n",
      " 8   sector_Retail                             612393 non-null  uint8  \n",
      " 9   country_Cambodia                          612393 non-null  uint8  \n",
      " 10  country_El Salvador                       612393 non-null  uint8  \n",
      " 11  country_Kenya                             612393 non-null  uint8  \n",
      " 12  country_Others                            612393 non-null  uint8  \n",
      " 13  country_Pakistan                          612393 non-null  uint8  \n",
      " 14  country_Philippines                       612393 non-null  uint8  \n",
      " 15  borrower_genders_female                   612393 non-null  uint8  \n",
      " 16  borrower_genders_male                     612393 non-null  uint8  \n",
      " 17  borrower_genders_mixed                    612393 non-null  uint8  \n",
      " 18  borrower_genders_unknown                  612393 non-null  uint8  \n",
      " 19  repayment_interval_bullet                 612393 non-null  uint8  \n",
      " 20  repayment_interval_irregular              612393 non-null  uint8  \n",
      " 21  repayment_interval_monthly                612393 non-null  uint8  \n",
      " 22  repayment_interval_weekly                 612393 non-null  uint8  \n",
      " 23  world_region_Arab States                  612393 non-null  uint8  \n",
      " 24  world_region_East Asia and the Pacific    612393 non-null  uint8  \n",
      " 25  world_region_Europe and Central Asia      612393 non-null  uint8  \n",
      " 26  world_region_Latin America and Caribbean  612393 non-null  uint8  \n",
      " 27  world_region_South Asia                   612393 non-null  uint8  \n",
      " 28  world_region_Sub-Saharan Africa           612393 non-null  uint8  \n",
      " 29  posted_season_Fall                        612393 non-null  uint8  \n",
      " 30  posted_season_Spring                      612393 non-null  uint8  \n",
      " 31  posted_season_Summer                      612393 non-null  uint8  \n",
      " 32  posted_season_Winter                      612393 non-null  uint8  \n",
      " 33  With_tag                                  612393 non-null  uint8  \n",
      "dtypes: float64(5), uint8(29)\n",
      "memory usage: 40.3 MB\n"
     ]
    }
   ],
   "source": [
    "loans_df.info()"
   ]
  },
  {
   "cell_type": "markdown",
   "metadata": {},
   "source": [
    "## Heatmap and Feature Selection"
   ]
  },
  {
   "cell_type": "markdown",
   "metadata": {},
   "source": [
    "### Heatmap of All the Features"
   ]
  },
  {
   "cell_type": "code",
   "execution_count": 64,
   "metadata": {
    "ExecuteTime": {
     "end_time": "2021-07-21T23:09:26.313339Z",
     "start_time": "2021-07-21T23:09:19.810746Z"
    }
   },
   "outputs": [
    {
     "data": {
      "image/png": "[encoded data removed]",
      "text/plain": [
       "<Figure size 792x648 with 2 Axes>"
      ]
     },
     "metadata": {},
     "output_type": "display_data"
    }
   ],
   "source": [
    "sns.set(style='white')\n",
    "plt.subplots(figsize=(11,9))\n",
    "mask = np.zeros_like(loans_df.corr(), dtype=np.bool)\n",
    "mask[np.triu_indices_from(mask)] = True\n",
    "cmap = sns.diverging_palette(220, 10, as_cmap=True)\n",
    "sns.heatmap(loans_df.corr(), mask=mask, cmap=cmap, center=0,\n",
    "            square=True, linewidths=.5, cbar_kws={\"shrink\": .5})\n",
    "_ = plt.title('Heatmap of All the Features', fontsize=18)"
   ]
  },
  {
   "cell_type": "markdown",
   "metadata": {},
   "source": [
    "We can see there are strong correlation among some features:\n",
    "* Derived and original feature: `loan_amount` and `loan_amount_per_month`;\n",
    "* Geographic related: countries and corresponding world regions;\n",
    "* Dummy features: `borrower_genders_male` and `borrower_genders_female`,`repayment_interval_monthly` and `repayment_interval_irregular`, four sectors, four posted seasons, five countries, and six world regions;\n",
    "* Others: `world_region_Sub-Saharan Africa` and `MPI`"
   ]
  },
  {
   "cell_type": "markdown",
   "metadata": {},
   "source": [
    "### Heatmap of the uncorrelated Features"
   ]
  },
  {
   "cell_type": "markdown",
   "metadata": {},
   "source": [
    "The following features will be removed based on the above analysis:\n",
    "* All the country features, including `country_Cambodia`, `country_El Salvador`, `country_Kenya`, `country_Pakistan`, `country_Philippines` and `country_Others`\n",
    "* `loan_amount_per_month` \n",
    "* `borrower_genders_male`\n",
    "* `repayment_interval_irregular`\n",
    "* `world_region_Sub-Saharan Africa`\n",
    "* `posted_season_Winter`\n",
    "* `sector_Others`"
   ]
  },
  {
   "cell_type": "code",
   "execution_count": 65,
   "metadata": {
    "ExecuteTime": {
     "end_time": "2021-07-21T23:09:26.347796Z",
     "start_time": "2021-07-21T23:09:26.315574Z"
    }
   },
   "outputs": [],
   "source": [
    "drop_corr = ['country_Cambodia', 'country_El Salvador', 'country_Kenya', 'country_Pakistan', 'country_Philippines', \n",
    "             'country_Others', 'loan_amount_per_month', 'borrower_genders_male', \n",
    "             'repayment_interval_irregular', 'world_region_Sub-Saharan Africa', \n",
    "             'posted_season_Winter', 'sector_Others']\n",
    "loans_df_drop_corr = loans_df.drop(columns=drop_corr)"
   ]
  },
  {
   "cell_type": "code",
   "execution_count": 66,
   "metadata": {
    "ExecuteTime": {
     "end_time": "2021-07-21T23:09:29.830347Z",
     "start_time": "2021-07-21T23:09:26.350462Z"
    }
   },
   "outputs": [
    {
     "data": {
      "image/png": "[encoded data removed]",
      "text/plain": [
       "<Figure size 792x648 with 2 Axes>"
      ]
     },
     "metadata": {},
     "output_type": "display_data"
    }
   ],
   "source": [
    "# Heatmap after dropping correlated features\n",
    "sns.set(style='white')\n",
    "plt.subplots(figsize=(11,9))\n",
    "mask = np.zeros_like(loans_df_drop_corr.corr(), dtype=np.bool)\n",
    "mask[np.triu_indices_from(mask)] = True\n",
    "cmap = sns.diverging_palette(220, 10, as_cmap=True)\n",
    "sns.heatmap(loans_df_drop_corr.corr(), mask=mask, cmap=cmap, center=0,\n",
    "            square=True, linewidths=.5, cbar_kws={\"shrink\": .5})\n",
    "_ = plt.title('Heatmap After Dropping Strongly Correlated Features', fontsize=18)"
   ]
  },
  {
   "cell_type": "markdown",
   "metadata": {},
   "source": [
    "### Feature Selection with RFECV"
   ]
  },
  {
   "cell_type": "code",
   "execution_count": 67,
   "metadata": {
    "ExecuteTime": {
     "end_time": "2021-07-22T00:46:39.421978Z",
     "start_time": "2021-07-21T23:09:29.857269Z"
    },
    "scrolled": true
   },
   "outputs": [
    {
     "name": "stdout",
     "output_type": "stream",
     "text": [
      "Index(['loan_amount', 'term_in_months', 'MPI', 'sector_Agriculture',\n",
      "       'sector_Food', 'sector_Retail', 'borrower_genders_female',\n",
      "       'borrower_genders_mixed', 'repayment_interval_bullet',\n",
      "       'repayment_interval_monthly', 'world_region_Arab States',\n",
      "       'world_region_East Asia and the Pacific',\n",
      "       'world_region_Latin America and Caribbean', 'world_region_South Asia',\n",
      "       'posted_season_Fall', 'posted_season_Spring', 'posted_season_Summer',\n",
      "       'With_tag'],\n",
      "      dtype='object')\n"
     ]
    }
   ],
   "source": [
    "# Select features after dropping correlated features, y_train remains the same\n",
    "X_train_rfecv = X_tr_sd.drop(columns=drop_corr)\n",
    "y_train_rfecv = y_train\n",
    "rf = RandomForestClassifier(random_state=1)\n",
    "selector = RFECV(rf, cv=5)\n",
    "selector.fit(X_train_rfecv, y_train_rfecv)\n",
    "optimized_columns = X_train_rfecv.columns[selector.support_]\n",
    "print(optimized_columns)"
   ]
  },
  {
   "cell_type": "code",
   "execution_count": 68,
   "metadata": {
    "ExecuteTime": {
     "end_time": "2021-07-22T00:46:39.792670Z",
     "start_time": "2021-07-22T00:46:39.432656Z"
    }
   },
   "outputs": [
    {
     "name": "stdout",
     "output_type": "stream",
     "text": [
      "Optimal number of features : 18\n"
     ]
    },
    {
     "data": {
      "image/png": "[encoded data removed]",
      "text/plain": [
       "<Figure size 432x288 with 1 Axes>"
      ]
     },
     "metadata": {},
     "output_type": "display_data"
    }
   ],
   "source": [
    "print(\"Optimal number of features : %d\" % selector.n_features_)\n",
    "\n",
    "# Plot number of features VS. cross-validation scores\n",
    "sns.set(style='whitegrid')\n",
    "plt.figure()\n",
    "plt.xlabel(\"Number of features selected\")\n",
    "plt.ylabel(\"Cross validation score (nb of correct classifications)\")\n",
    "plt.plot(range(len(selector.grid_scores_)), selector.grid_scores_)\n",
    "plt.xticks(range(1,21,2))\n",
    "plt.show()"
   ]
  },
  {
   "cell_type": "markdown",
   "metadata": {},
   "source": [
    "The curve's elbow-point is at 5 or 6 features. Here We choose 6 important features to build models."
   ]
  },
  {
   "cell_type": "code",
   "execution_count": 69,
   "metadata": {
    "ExecuteTime": {
     "end_time": "2021-07-22T00:46:40.160967Z",
     "start_time": "2021-07-22T00:46:39.796747Z"
    }
   },
   "outputs": [
    {
     "name": "stdout",
     "output_type": "stream",
     "text": [
      "Index(['loan_amount', 'term_in_months', 'MPI', 'With_tag',\n",
      "       'posted_season_Summer', 'borrower_genders_female'],\n",
      "      dtype='object')\n"
     ]
    }
   ],
   "source": [
    "# Select top 6 features\n",
    "n = 6 \n",
    "feature_ranks = selector.estimator_.feature_importances_  # selector is the RFECV fitted object\n",
    "feature_ranks_with_idx = enumerate(feature_ranks)\n",
    "sorted_ranks_with_idx = sorted(feature_ranks_with_idx,key=lambda x: x[1], reverse=True)\n",
    "top_n_idx = [idx for idx, _ in sorted_ranks_with_idx[:n]]\n",
    "top_n_features = optimized_columns[top_n_idx]\n",
    "print(top_n_features)"
   ]
  },
  {
   "cell_type": "markdown",
   "metadata": {},
   "source": [
    "## Comparing Accuracy with Different Number of Features"
   ]
  },
  {
   "cell_type": "code",
   "execution_count": 70,
   "metadata": {
    "ExecuteTime": {
     "end_time": "2021-07-22T00:46:40.617715Z",
     "start_time": "2021-07-22T00:46:40.188463Z"
    }
   },
   "outputs": [],
   "source": [
    "# Preprocess with 17 important features\n",
    "X_tr_17, X_te_17 = X_tr_sd[optimized_columns], X_te_sd[optimized_columns]\n",
    "\n",
    "# Scale features with StandardScaler()\n",
    "scaler = StandardScaler() \n",
    "X_tr_17 = pd.DataFrame(scaler.fit_transform(X_tr_17), columns=X_tr_17.columns)\n",
    "X_te_17 = pd.DataFrame(scaler.transform(X_te_17), columns=X_te_17.columns)"
   ]
  },
  {
   "cell_type": "code",
   "execution_count": 71,
   "metadata": {
    "ExecuteTime": {
     "end_time": "2021-07-22T00:46:40.733364Z",
     "start_time": "2021-07-22T00:46:40.620203Z"
    }
   },
   "outputs": [],
   "source": [
    "# Preprocess with 6 important features\n",
    "impo_6 = ['loan_amount', 'term_in_months', 'MPI', 'With_tag', 'posted_season_Summer', 'borrower_genders_female']\n",
    "\n",
    "# Redefine train/test dataset\n",
    "X_tr_6, X_te_6 = X_tr_sd[impo_6], X_te_sd[impo_6]\n",
    "\n",
    "# Scale 6 important features with StandardScaler()\n",
    "scaler = StandardScaler() \n",
    "X_tr_6 = pd.DataFrame(scaler.fit_transform(X_tr_6), columns=X_tr_6.columns)\n",
    "X_te_6 = pd.DataFrame(scaler.transform(X_te_6), columns=X_te_6.columns)"
   ]
  },
  {
   "cell_type": "code",
   "execution_count": 72,
   "metadata": {
    "ExecuteTime": {
     "end_time": "2021-07-22T01:10:27.067400Z",
     "start_time": "2021-07-22T00:46:40.736331Z"
    }
   },
   "outputs": [],
   "source": [
    "# Calculate accuracy scores with Random Forest\n",
    "X_train_list = [X_tr_sd, X_tr_17, X_tr_6]\n",
    "X_test_list = [X_te_sd, X_te_17, X_te_6]\n",
    "\n",
    "# Build the lists to store accuracy scores\n",
    "score_accu_tr_list = []\n",
    "score_accu_te_list = []\n",
    "\n",
    "for i in range(len(X_train_list)):\n",
    "    # Initial classfier\n",
    "    rf = RandomForestClassifier(random_state=1)\n",
    "    rf.fit(X_train_list[i], y_train)\n",
    "    score_accu_tr= cross_val_score(rf,X_train_list[i],y_train,cv=5,scoring='accuracy')\n",
    "    score_accu_te= cross_val_score(rf,X_test_list[i],y_test,cv=5,scoring='accuracy')\n",
    "    score_accu_tr_list.append(score_accu_tr.mean().round(3))\n",
    "    score_accu_te_list.append(score_accu_te.mean().round(3))"
   ]
  },
  {
   "cell_type": "code",
   "execution_count": 73,
   "metadata": {
    "ExecuteTime": {
     "end_time": "2021-07-22T01:10:27.286526Z",
     "start_time": "2021-07-22T01:10:27.071554Z"
    }
   },
   "outputs": [
    {
     "name": "stdout",
     "output_type": "stream",
     "text": [
      "         Method  Accuracy_train  Accuracy_test\n",
      "0  All_Features           0.772          0.763\n",
      "1  Important_17           0.772          0.762\n",
      "2   Important_6           0.759          0.750\n"
     ]
    },
    {
     "data": {
      "image/png": "[encoded data removed]",
      "text/plain": [
       "<Figure size 720x360 with 1 Axes>"
      ]
     },
     "metadata": {},
     "output_type": "display_data"
    }
   ],
   "source": [
    "# Build a dataframe to compare accuracy with different number of features\n",
    "methods_feature = ['All_Features','Important_17', 'Important_6']\n",
    "comp_accu = pd.DataFrame({'Method': methods_feature, \n",
    "                           'Accuracy_train': score_accu_tr_list, \n",
    "                           'Accuracy_test': score_accu_te_list})\n",
    "print(comp_accu)\n",
    "\n",
    "# Plot the accuracy scores with different number of features\n",
    "methods = ['All Features', '17 Important Features', '6 Important Features']\n",
    "index_tr=[1,2,3]\n",
    "index_te=[1.2,2.2,3.2]\n",
    "plt.figure(figsize=(10,5))\n",
    "plt.xlabel('Features',fontsize=15)\n",
    "plt.ylabel ('Accuracy Scores',fontsize=15)\n",
    "plt.title('Comparison of the Accuracy Scores with Different Number of Features',fontsize=15)\n",
    "plt.bar(index_tr,comp_accu.Accuracy_train,color='b',alpha=0.6,label='Train Data',edgecolor='k',width=0.2)\n",
    "plt.bar(index_te,comp_accu.Accuracy_test,color='cyan',alpha=0.8,label='Test Data',edgecolor='k',width=0.2)\n",
    "plt.legend(loc='upper right')\n",
    "plt.xticks([1.1, 2.1,3.1], methods)\n",
    "plt.ylim(0.5)\n",
    "_ = plt.show()"
   ]
  },
  {
   "cell_type": "markdown",
   "metadata": {},
   "source": [
    "## Save processed data"
   ]
  },
  {
   "cell_type": "code",
   "execution_count": 74,
   "metadata": {
    "ExecuteTime": {
     "end_time": "2021-07-22T01:10:34.761214Z",
     "start_time": "2021-07-22T01:10:27.295767Z"
    }
   },
   "outputs": [],
   "source": [
    "# Save the whole dataset\n",
    "loans_df.to_csv('/Users/lasayin/Desktop/Springboard/GitHub/Springboard_DS_Capstone2/ProcessedData/loans_df.cvs', index=False)"
   ]
  },
  {
   "cell_type": "code",
   "execution_count": 75,
   "metadata": {
    "ExecuteTime": {
     "end_time": "2021-07-22T01:10:38.053850Z",
     "start_time": "2021-07-22T01:10:34.763394Z"
    }
   },
   "outputs": [],
   "source": [
    "# Save the dataset with 6 important features for modeling\n",
    "loans_impo_6 = loans_df[impo_6]\n",
    "loans_impo_6['funding_speed'] = loans_df['funding_speed']\n",
    "loans_impo_6.to_csv('/Users/lasayin/Desktop/Springboard/GitHub/Springboard_DS_Capstone2/ProcessedData/loans_impo_6.cvs', index=False)"
   ]
  },
  {
   "cell_type": "code",
   "execution_count": null,
   "metadata": {},
   "outputs": [],
   "source": []
  }
 ],
 "metadata": {
  "hide_input": false,
  "kernelspec": {
   "display_name": "Python 3",
   "language": "python",
   "name": "python3"
  },
  "language_info": {
   "codemirror_mode": {
    "name": "ipython",
    "version": 3
   },
   "file_extension": ".py",
   "mimetype": "text/x-python",
   "name": "python",
   "nbconvert_exporter": "python",
   "pygments_lexer": "ipython3",
   "version": "3.8.3"
  },
  "toc": {
   "base_numbering": 1,
   "nav_menu": {},
   "number_sections": true,
   "sideBar": true,
   "skip_h1_title": false,
   "title_cell": "Table of Contents",
   "title_sidebar": "Contents",
   "toc_cell": true,
   "toc_position": {},
   "toc_section_display": true,
   "toc_window_display": false
  },
  "varInspector": {
   "cols": {
    "lenName": 16,
    "lenType": 16,
    "lenVar": 40
   },
   "kernels_config": {
    "python": {
     "delete_cmd_postfix": "",
     "delete_cmd_prefix": "del ",
     "library": "var_list.py",
     "varRefreshCmd": "print(var_dic_list())"
    },
    "r": {
     "delete_cmd_postfix": ") ",
     "delete_cmd_prefix": "rm(",
     "library": "var_list.r",
     "varRefreshCmd": "cat(var_dic_list()) "
    }
   },
   "types_to_exclude": [
    "module",
    "function",
    "builtin_function_or_method",
    "instance",
    "_Feature"
   ],
   "window_display": false
  }
 },
 "nbformat": 4,
 "nbformat_minor": 4
}
