{
 "cells": [
  {
   "cell_type": "markdown",
   "metadata": {
    "toc": true
   },
   "source": [
    "<h1>Table of Contents<span class=\"tocSkip\"></span></h1>\n",
    "<div class=\"toc\"><ul class=\"toc-item\"><li><span><a href=\"#Load-Data\" data-toc-modified-id=\"Load-Data-1\"><span class=\"toc-item-num\">1&nbsp;&nbsp;</span>Load Data</a></span></li><li><span><a href=\"#Remove-Unnecessary-Columns\" data-toc-modified-id=\"Remove-Unnecessary-Columns-2\"><span class=\"toc-item-num\">2&nbsp;&nbsp;</span>Remove Unnecessary Columns</a></span></li><li><span><a href=\"#Target-feature\" data-toc-modified-id=\"Target-feature-3\"><span class=\"toc-item-num\">3&nbsp;&nbsp;</span>Target feature</a></span></li><li><span><a href=\"#Datetime-feature\" data-toc-modified-id=\"Datetime-feature-4\"><span class=\"toc-item-num\">4&nbsp;&nbsp;</span>Datetime feature</a></span></li><li><span><a href=\"#Categorical-features\" data-toc-modified-id=\"Categorical-features-5\"><span class=\"toc-item-num\">5&nbsp;&nbsp;</span>Categorical features</a></span><ul class=\"toc-item\"><li><span><a href=\"#Tags-and-use\" data-toc-modified-id=\"Tags-and-use-5.1\"><span class=\"toc-item-num\">5.1&nbsp;&nbsp;</span>Tags and use</a></span></li><li><span><a href=\"#Sector\" data-toc-modified-id=\"Sector-5.2\"><span class=\"toc-item-num\">5.2&nbsp;&nbsp;</span>Sector</a></span></li><li><span><a href=\"#Country\" data-toc-modified-id=\"Country-5.3\"><span class=\"toc-item-num\">5.3&nbsp;&nbsp;</span>Country</a></span></li><li><span><a href=\"#Create-dummy-or-indicator-features-for-categorical-variables\" data-toc-modified-id=\"Create-dummy-or-indicator-features-for-categorical-variables-5.4\"><span class=\"toc-item-num\">5.4&nbsp;&nbsp;</span>Create dummy or indicator features for categorical variables</a></span></li></ul></li><li><span><a href=\"#Numeric-features\" data-toc-modified-id=\"Numeric-features-6\"><span class=\"toc-item-num\">6&nbsp;&nbsp;</span>Numeric features</a></span></li><li><span><a href=\"#Train/Test-split\" data-toc-modified-id=\"Train/Test-split-7\"><span class=\"toc-item-num\">7&nbsp;&nbsp;</span>Train/Test split</a></span></li><li><span><a href=\"#Scale-the-numeric-features\" data-toc-modified-id=\"Scale-the-numeric-features-8\"><span class=\"toc-item-num\">8&nbsp;&nbsp;</span>Scale the numeric features</a></span></li><li><span><a href=\"#Save-processed-data\" data-toc-modified-id=\"Save-processed-data-9\"><span class=\"toc-item-num\">9&nbsp;&nbsp;</span>Save processed data</a></span></li><li><span><a href=\"#Optimized-features-and-heatmap\" data-toc-modified-id=\"Optimized-features-and-heatmap-10\"><span class=\"toc-item-num\">10&nbsp;&nbsp;</span>Optimized features and heatmap</a></span></li></ul></div>"
   ]
  },
  {
   "cell_type": "code",
   "execution_count": 1,
   "metadata": {
    "ExecuteTime": {
     "end_time": "2021-07-03T16:47:25.042863Z",
     "start_time": "2021-07-03T16:47:20.336263Z"
    }
   },
   "outputs": [],
   "source": [
    "import pandas as pd\n",
    "import numpy as np\n",
    "import matplotlib\n",
    "import matplotlib.pyplot as plt\n",
    "from datetime import datetime as dt\n",
    "import seaborn as sns\n",
    "from sklearn.model_selection import train_test_split, cross_validate, GridSearchCV, learning_curve\n",
    "from sklearn.preprocessing import StandardScaler, MinMaxScaler\n",
    "sns.set()"
   ]
  },
  {
   "cell_type": "markdown",
   "metadata": {},
   "source": [
    "## Load Data"
   ]
  },
  {
   "cell_type": "code",
   "execution_count": 2,
   "metadata": {
    "ExecuteTime": {
     "end_time": "2021-07-03T16:47:29.485080Z",
     "start_time": "2021-07-03T16:47:25.046738Z"
    }
   },
   "outputs": [],
   "source": [
    "loans_df = pd.read_csv('/Users/lasayin/Desktop/Springboard/GitHub/Springboard_DS_Capstone2/ProcessedData/loans_others.cvs',parse_dates=['posted_time', 'funded_time'])"
   ]
  },
  {
   "cell_type": "code",
   "execution_count": 3,
   "metadata": {
    "ExecuteTime": {
     "end_time": "2021-07-03T16:47:29.792580Z",
     "start_time": "2021-07-03T16:47:29.488372Z"
    }
   },
   "outputs": [
    {
     "name": "stdout",
     "output_type": "stream",
     "text": [
      "<class 'pandas.core.frame.DataFrame'>\n",
      "RangeIndex: 612393 entries, 0 to 612392\n",
      "Data columns (total 22 columns):\n",
      " #   Column                 Non-Null Count   Dtype         \n",
      "---  ------                 --------------   -----         \n",
      " 0   id                     612393 non-null  int64         \n",
      " 1   funded_amount          612393 non-null  float64       \n",
      " 2   loan_amount            612393 non-null  float64       \n",
      " 3   activity               612393 non-null  object        \n",
      " 4   sector                 612393 non-null  object        \n",
      " 5   use                    612393 non-null  object        \n",
      " 6   ISO                    612393 non-null  object        \n",
      " 7   country                612393 non-null  object        \n",
      " 8   partner_id             612393 non-null  object        \n",
      " 9   posted_time            612393 non-null  datetime64[ns]\n",
      " 10  funded_time            574603 non-null  datetime64[ns]\n",
      " 11  term_in_months         612393 non-null  float64       \n",
      " 12  lender_count           612393 non-null  int64         \n",
      " 13  tags                   612393 non-null  object        \n",
      " 14  borrower_genders       612393 non-null  object        \n",
      " 15  repayment_interval     612393 non-null  object        \n",
      " 16  funded_days            612393 non-null  float64       \n",
      " 17  world_region           612393 non-null  object        \n",
      " 18  MPI                    612393 non-null  float64       \n",
      " 19  funded_speed           574606 non-null  float64       \n",
      " 20  loan_amount_per_month  612393 non-null  float64       \n",
      " 21  funding_speed          612393 non-null  float64       \n",
      "dtypes: datetime64[ns](2), float64(8), int64(2), object(10)\n",
      "memory usage: 102.8+ MB\n"
     ]
    }
   ],
   "source": [
    "loans_df.info()"
   ]
  },
  {
   "cell_type": "code",
   "execution_count": 4,
   "metadata": {
    "ExecuteTime": {
     "end_time": "2021-07-03T16:47:29.837728Z",
     "start_time": "2021-07-03T16:47:29.796273Z"
    }
   },
   "outputs": [
    {
     "data": {
      "text/html": [
       "<div>\n",
       "<style scoped>\n",
       "    .dataframe tbody tr th:only-of-type {\n",
       "        vertical-align: middle;\n",
       "    }\n",
       "\n",
       "    .dataframe tbody tr th {\n",
       "        vertical-align: top;\n",
       "    }\n",
       "\n",
       "    .dataframe thead th {\n",
       "        text-align: right;\n",
       "    }\n",
       "</style>\n",
       "<table border=\"1\" class=\"dataframe\">\n",
       "  <thead>\n",
       "    <tr style=\"text-align: right;\">\n",
       "      <th></th>\n",
       "      <th>id</th>\n",
       "      <th>funded_amount</th>\n",
       "      <th>loan_amount</th>\n",
       "      <th>activity</th>\n",
       "      <th>sector</th>\n",
       "      <th>use</th>\n",
       "      <th>ISO</th>\n",
       "      <th>country</th>\n",
       "      <th>partner_id</th>\n",
       "      <th>posted_time</th>\n",
       "      <th>...</th>\n",
       "      <th>lender_count</th>\n",
       "      <th>tags</th>\n",
       "      <th>borrower_genders</th>\n",
       "      <th>repayment_interval</th>\n",
       "      <th>funded_days</th>\n",
       "      <th>world_region</th>\n",
       "      <th>MPI</th>\n",
       "      <th>funded_speed</th>\n",
       "      <th>loan_amount_per_month</th>\n",
       "      <th>funding_speed</th>\n",
       "    </tr>\n",
       "  </thead>\n",
       "  <tbody>\n",
       "    <tr>\n",
       "      <th>0</th>\n",
       "      <td>653051</td>\n",
       "      <td>300.0</td>\n",
       "      <td>300.0</td>\n",
       "      <td>Fruits &amp; Vegetables</td>\n",
       "      <td>Food</td>\n",
       "      <td>To buy seasonal, fresh fruits to sell.</td>\n",
       "      <td>PAK</td>\n",
       "      <td>Pakistan</td>\n",
       "      <td>With_partner</td>\n",
       "      <td>2014-01-01 06:12:39</td>\n",
       "      <td>...</td>\n",
       "      <td>12</td>\n",
       "      <td>No_tag</td>\n",
       "      <td>female</td>\n",
       "      <td>irregular</td>\n",
       "      <td>1.162419</td>\n",
       "      <td>South Asia</td>\n",
       "      <td>0.230320</td>\n",
       "      <td>258.1</td>\n",
       "      <td>25.0</td>\n",
       "      <td>258.0</td>\n",
       "    </tr>\n",
       "    <tr>\n",
       "      <th>1</th>\n",
       "      <td>653053</td>\n",
       "      <td>575.0</td>\n",
       "      <td>575.0</td>\n",
       "      <td>Rickshaw</td>\n",
       "      <td>Transportation</td>\n",
       "      <td>to repair and maintain the auto rickshaw used ...</td>\n",
       "      <td>PAK</td>\n",
       "      <td>Pakistan</td>\n",
       "      <td>With_partner</td>\n",
       "      <td>2014-01-01 06:51:08</td>\n",
       "      <td>...</td>\n",
       "      <td>14</td>\n",
       "      <td>No_tag</td>\n",
       "      <td>female</td>\n",
       "      <td>irregular</td>\n",
       "      <td>1.101562</td>\n",
       "      <td>South Asia</td>\n",
       "      <td>0.230320</td>\n",
       "      <td>522.0</td>\n",
       "      <td>52.0</td>\n",
       "      <td>522.0</td>\n",
       "    </tr>\n",
       "    <tr>\n",
       "      <th>2</th>\n",
       "      <td>653068</td>\n",
       "      <td>150.0</td>\n",
       "      <td>150.0</td>\n",
       "      <td>Transportation</td>\n",
       "      <td>Transportation</td>\n",
       "      <td>To repair their old cycle-van and buy another ...</td>\n",
       "      <td>IND</td>\n",
       "      <td>India</td>\n",
       "      <td>With_partner</td>\n",
       "      <td>2014-01-01 09:58:07</td>\n",
       "      <td>...</td>\n",
       "      <td>6</td>\n",
       "      <td>user_favorite, user_favorite</td>\n",
       "      <td>female</td>\n",
       "      <td>bullet</td>\n",
       "      <td>0.252419</td>\n",
       "      <td>South Asia</td>\n",
       "      <td>0.191099</td>\n",
       "      <td>594.3</td>\n",
       "      <td>3.0</td>\n",
       "      <td>594.0</td>\n",
       "    </tr>\n",
       "    <tr>\n",
       "      <th>3</th>\n",
       "      <td>653063</td>\n",
       "      <td>200.0</td>\n",
       "      <td>200.0</td>\n",
       "      <td>Embroidery</td>\n",
       "      <td>Arts</td>\n",
       "      <td>to purchase an embroidery machine and a variet...</td>\n",
       "      <td>PAK</td>\n",
       "      <td>Pakistan</td>\n",
       "      <td>With_partner</td>\n",
       "      <td>2014-01-01 08:03:11</td>\n",
       "      <td>...</td>\n",
       "      <td>8</td>\n",
       "      <td>No_tag</td>\n",
       "      <td>female</td>\n",
       "      <td>irregular</td>\n",
       "      <td>0.206123</td>\n",
       "      <td>South Asia</td>\n",
       "      <td>0.230320</td>\n",
       "      <td>970.3</td>\n",
       "      <td>18.0</td>\n",
       "      <td>970.0</td>\n",
       "    </tr>\n",
       "    <tr>\n",
       "      <th>4</th>\n",
       "      <td>653084</td>\n",
       "      <td>400.0</td>\n",
       "      <td>400.0</td>\n",
       "      <td>Milk Sales</td>\n",
       "      <td>Food</td>\n",
       "      <td>to purchase one buffalo.</td>\n",
       "      <td>PAK</td>\n",
       "      <td>Pakistan</td>\n",
       "      <td>With_partner</td>\n",
       "      <td>2014-01-01 11:53:19</td>\n",
       "      <td>...</td>\n",
       "      <td>16</td>\n",
       "      <td>No_tag</td>\n",
       "      <td>female</td>\n",
       "      <td>monthly</td>\n",
       "      <td>0.309398</td>\n",
       "      <td>South Asia</td>\n",
       "      <td>0.230320</td>\n",
       "      <td>1292.8</td>\n",
       "      <td>29.0</td>\n",
       "      <td>1293.0</td>\n",
       "    </tr>\n",
       "  </tbody>\n",
       "</table>\n",
       "<p>5 rows × 22 columns</p>\n",
       "</div>"
      ],
      "text/plain": [
       "       id  funded_amount  loan_amount             activity          sector  \\\n",
       "0  653051          300.0        300.0  Fruits & Vegetables            Food   \n",
       "1  653053          575.0        575.0             Rickshaw  Transportation   \n",
       "2  653068          150.0        150.0       Transportation  Transportation   \n",
       "3  653063          200.0        200.0           Embroidery            Arts   \n",
       "4  653084          400.0        400.0           Milk Sales            Food   \n",
       "\n",
       "                                                 use  ISO   country  \\\n",
       "0            To buy seasonal, fresh fruits to sell.   PAK  Pakistan   \n",
       "1  to repair and maintain the auto rickshaw used ...  PAK  Pakistan   \n",
       "2  To repair their old cycle-van and buy another ...  IND     India   \n",
       "3  to purchase an embroidery machine and a variet...  PAK  Pakistan   \n",
       "4                           to purchase one buffalo.  PAK  Pakistan   \n",
       "\n",
       "     partner_id         posted_time  ... lender_count  \\\n",
       "0  With_partner 2014-01-01 06:12:39  ...           12   \n",
       "1  With_partner 2014-01-01 06:51:08  ...           14   \n",
       "2  With_partner 2014-01-01 09:58:07  ...            6   \n",
       "3  With_partner 2014-01-01 08:03:11  ...            8   \n",
       "4  With_partner 2014-01-01 11:53:19  ...           16   \n",
       "\n",
       "                           tags  borrower_genders repayment_interval  \\\n",
       "0                        No_tag            female          irregular   \n",
       "1                        No_tag            female          irregular   \n",
       "2  user_favorite, user_favorite            female             bullet   \n",
       "3                        No_tag            female          irregular   \n",
       "4                        No_tag            female            monthly   \n",
       "\n",
       "  funded_days world_region       MPI funded_speed  loan_amount_per_month  \\\n",
       "0    1.162419   South Asia  0.230320        258.1                   25.0   \n",
       "1    1.101562   South Asia  0.230320        522.0                   52.0   \n",
       "2    0.252419   South Asia  0.191099        594.3                    3.0   \n",
       "3    0.206123   South Asia  0.230320        970.3                   18.0   \n",
       "4    0.309398   South Asia  0.230320       1292.8                   29.0   \n",
       "\n",
       "   funding_speed  \n",
       "0          258.0  \n",
       "1          522.0  \n",
       "2          594.0  \n",
       "3          970.0  \n",
       "4         1293.0  \n",
       "\n",
       "[5 rows x 22 columns]"
      ]
     },
     "execution_count": 4,
     "metadata": {},
     "output_type": "execute_result"
    }
   ],
   "source": [
    "loans_df.head()"
   ]
  },
  {
   "cell_type": "markdown",
   "metadata": {},
   "source": [
    "## Remove Unnecessary Columns"
   ]
  },
  {
   "cell_type": "markdown",
   "metadata": {},
   "source": [
    "Several columns will be removed, including the features that\n",
    "* don't affect a loan's funding, e.g., `id`\n",
    "* disclose information from the future, i.e., data leakage, such as `funded_amount`, `funded_time`,`funded_days`, `funded_speed`\n",
    "* contain redundant information, e.g., `ISO`\n",
    "* lead to collinearity issue, e.g., `lender_count`\n",
    "* require a lot of processing to turn into a useful feature, e.g., `activity`\n",
    "\n",
    "All the features mentioned above will be removed"
   ]
  },
  {
   "cell_type": "code",
   "execution_count": 5,
   "metadata": {
    "ExecuteTime": {
     "end_time": "2021-07-03T16:47:29.918099Z",
     "start_time": "2021-07-03T16:47:29.840188Z"
    }
   },
   "outputs": [],
   "source": [
    "loans_df = loans_df.drop(columns=['id', 'funded_amount', 'funded_days', 'funded_speed', 'ISO', 'funded_time', 'lender_count', 'activity'])"
   ]
  },
  {
   "cell_type": "code",
   "execution_count": 6,
   "metadata": {
    "ExecuteTime": {
     "end_time": "2021-07-03T16:47:30.150327Z",
     "start_time": "2021-07-03T16:47:29.921019Z"
    }
   },
   "outputs": [
    {
     "name": "stdout",
     "output_type": "stream",
     "text": [
      "<class 'pandas.core.frame.DataFrame'>\n",
      "RangeIndex: 612393 entries, 0 to 612392\n",
      "Data columns (total 14 columns):\n",
      " #   Column                 Non-Null Count   Dtype         \n",
      "---  ------                 --------------   -----         \n",
      " 0   loan_amount            612393 non-null  float64       \n",
      " 1   sector                 612393 non-null  object        \n",
      " 2   use                    612393 non-null  object        \n",
      " 3   country                612393 non-null  object        \n",
      " 4   partner_id             612393 non-null  object        \n",
      " 5   posted_time            612393 non-null  datetime64[ns]\n",
      " 6   term_in_months         612393 non-null  float64       \n",
      " 7   tags                   612393 non-null  object        \n",
      " 8   borrower_genders       612393 non-null  object        \n",
      " 9   repayment_interval     612393 non-null  object        \n",
      " 10  world_region           612393 non-null  object        \n",
      " 11  MPI                    612393 non-null  float64       \n",
      " 12  loan_amount_per_month  612393 non-null  float64       \n",
      " 13  funding_speed          612393 non-null  float64       \n",
      "dtypes: datetime64[ns](1), float64(5), object(8)\n",
      "memory usage: 65.4+ MB\n"
     ]
    }
   ],
   "source": [
    "loans_df.info()"
   ]
  },
  {
   "cell_type": "code",
   "execution_count": 7,
   "metadata": {
    "ExecuteTime": {
     "end_time": "2021-07-03T16:47:30.176140Z",
     "start_time": "2021-07-03T16:47:30.155253Z"
    }
   },
   "outputs": [
    {
     "data": {
      "text/html": [
       "<div>\n",
       "<style scoped>\n",
       "    .dataframe tbody tr th:only-of-type {\n",
       "        vertical-align: middle;\n",
       "    }\n",
       "\n",
       "    .dataframe tbody tr th {\n",
       "        vertical-align: top;\n",
       "    }\n",
       "\n",
       "    .dataframe thead th {\n",
       "        text-align: right;\n",
       "    }\n",
       "</style>\n",
       "<table border=\"1\" class=\"dataframe\">\n",
       "  <thead>\n",
       "    <tr style=\"text-align: right;\">\n",
       "      <th></th>\n",
       "      <th>loan_amount</th>\n",
       "      <th>sector</th>\n",
       "      <th>use</th>\n",
       "      <th>country</th>\n",
       "      <th>partner_id</th>\n",
       "      <th>posted_time</th>\n",
       "      <th>term_in_months</th>\n",
       "      <th>tags</th>\n",
       "      <th>borrower_genders</th>\n",
       "      <th>repayment_interval</th>\n",
       "      <th>world_region</th>\n",
       "      <th>MPI</th>\n",
       "      <th>loan_amount_per_month</th>\n",
       "      <th>funding_speed</th>\n",
       "    </tr>\n",
       "  </thead>\n",
       "  <tbody>\n",
       "    <tr>\n",
       "      <th>0</th>\n",
       "      <td>300.0</td>\n",
       "      <td>Food</td>\n",
       "      <td>To buy seasonal, fresh fruits to sell.</td>\n",
       "      <td>Pakistan</td>\n",
       "      <td>With_partner</td>\n",
       "      <td>2014-01-01 06:12:39</td>\n",
       "      <td>12.0</td>\n",
       "      <td>No_tag</td>\n",
       "      <td>female</td>\n",
       "      <td>irregular</td>\n",
       "      <td>South Asia</td>\n",
       "      <td>0.23032</td>\n",
       "      <td>25.0</td>\n",
       "      <td>258.0</td>\n",
       "    </tr>\n",
       "  </tbody>\n",
       "</table>\n",
       "</div>"
      ],
      "text/plain": [
       "   loan_amount sector                                      use   country  \\\n",
       "0        300.0   Food  To buy seasonal, fresh fruits to sell.   Pakistan   \n",
       "\n",
       "     partner_id         posted_time  term_in_months    tags borrower_genders  \\\n",
       "0  With_partner 2014-01-01 06:12:39            12.0  No_tag           female   \n",
       "\n",
       "  repayment_interval world_region      MPI  loan_amount_per_month  \\\n",
       "0          irregular   South Asia  0.23032                   25.0   \n",
       "\n",
       "   funding_speed  \n",
       "0          258.0  "
      ]
     },
     "execution_count": 7,
     "metadata": {},
     "output_type": "execute_result"
    }
   ],
   "source": [
    "loans_df.head(1)"
   ]
  },
  {
   "cell_type": "markdown",
   "metadata": {},
   "source": [
    "## Target feature"
   ]
  },
  {
   "cell_type": "code",
   "execution_count": 8,
   "metadata": {
    "ExecuteTime": {
     "end_time": "2021-07-03T16:47:30.218926Z",
     "start_time": "2021-07-03T16:47:30.181541Z"
    }
   },
   "outputs": [
    {
     "data": {
      "text/plain": [
       "count    612393.000000\n",
       "mean        146.612378\n",
       "std        1078.561438\n",
       "min           0.000000\n",
       "25%          20.000000\n",
       "50%          40.000000\n",
       "75%          92.000000\n",
       "max      176327.000000\n",
       "Name: funding_speed, dtype: float64"
      ]
     },
     "execution_count": 8,
     "metadata": {},
     "output_type": "execute_result"
    }
   ],
   "source": [
    "loans_df.funding_speed.describe()"
   ]
  },
  {
   "cell_type": "markdown",
   "metadata": {},
   "source": [
    "This project aims to help Kiva make a judgment on whether a loan can get crowd-funded quickly such that Kiva can make a priority. But how fast is fast? That depends on the situation. If Kiva has sufficient funds, the threshold can be low to accept loans application as many as possible; if the funds are limited, might resulting from the decrease in the number of lenders, the threshold must be high enough to make sure the potential lenders are more motivated to lend.\n",
    "\n",
    "Here, we set the threshold of funding speed at the median, i.e., $42 per day. So the funding speed over 42 will be set as 1, and the funding speed lower than 42 will be 0."
   ]
  },
  {
   "cell_type": "code",
   "execution_count": 9,
   "metadata": {
    "ExecuteTime": {
     "end_time": "2021-07-03T16:47:30.269454Z",
     "start_time": "2021-07-03T16:47:30.221962Z"
    }
   },
   "outputs": [
    {
     "data": {
      "text/plain": [
       "0.0    317754\n",
       "1.0    294639\n",
       "Name: funding_speed, dtype: int64"
      ]
     },
     "execution_count": 9,
     "metadata": {},
     "output_type": "execute_result"
    }
   ],
   "source": [
    "loans_df.loc[loans_df.funding_speed <= 42, 'funding_speed'] = 0\n",
    "loans_df.loc[loans_df.funding_speed > 42, 'funding_speed'] = 1\n",
    "loans_df.funding_speed.value_counts()"
   ]
  },
  {
   "cell_type": "markdown",
   "metadata": {},
   "source": [
    "## Datetime feature"
   ]
  },
  {
   "cell_type": "code",
   "execution_count": 10,
   "metadata": {
    "ExecuteTime": {
     "end_time": "2021-07-03T16:47:30.282568Z",
     "start_time": "2021-07-03T16:47:30.272306Z"
    }
   },
   "outputs": [
    {
     "data": {
      "text/plain": [
       "0        2014-01-01 06:12:39\n",
       "1        2014-01-01 06:51:08\n",
       "2        2014-01-01 09:58:07\n",
       "3        2014-01-01 08:03:11\n",
       "4        2014-01-01 11:53:19\n",
       "                 ...        \n",
       "612388   2017-06-07 01:44:57\n",
       "612389   2017-06-07 00:35:52\n",
       "612390   2017-06-07 07:22:29\n",
       "612391   2017-06-07 10:59:42\n",
       "612392   2017-06-07 05:55:26\n",
       "Name: posted_time, Length: 612393, dtype: datetime64[ns]"
      ]
     },
     "execution_count": 10,
     "metadata": {},
     "output_type": "execute_result"
    }
   ],
   "source": [
    "loans_df.posted_time"
   ]
  },
  {
   "cell_type": "markdown",
   "metadata": {},
   "source": [
    "We will convert the month of `posted_time`, which is a datetime attribute, to categorical attribute, i.e., season: replace December, January, February with Winter; replace March, April, May with Spring; repalce June, July, August with Summer; replace September, October, November to Fall."
   ]
  },
  {
   "cell_type": "code",
   "execution_count": 11,
   "metadata": {
    "ExecuteTime": {
     "end_time": "2021-07-03T16:47:30.342041Z",
     "start_time": "2021-07-03T16:47:30.285720Z"
    }
   },
   "outputs": [],
   "source": [
    "# Convert the month to int\n",
    "loans_df.loc[:, 'posted_season'] = loans_df.posted_time.dt.month%12 // 3"
   ]
  },
  {
   "cell_type": "code",
   "execution_count": 12,
   "metadata": {
    "ExecuteTime": {
     "end_time": "2021-07-03T16:47:30.351537Z",
     "start_time": "2021-07-03T16:47:30.344660Z"
    }
   },
   "outputs": [
    {
     "data": {
      "text/plain": [
       "0         0\n",
       "1         0\n",
       "2         0\n",
       "3         0\n",
       "4         0\n",
       "         ..\n",
       "612388    2\n",
       "612389    2\n",
       "612390    2\n",
       "612391    2\n",
       "612392    2\n",
       "Name: posted_season, Length: 612393, dtype: int64"
      ]
     },
     "execution_count": 12,
     "metadata": {},
     "output_type": "execute_result"
    }
   ],
   "source": [
    "loans_df.posted_season"
   ]
  },
  {
   "cell_type": "code",
   "execution_count": 13,
   "metadata": {
    "ExecuteTime": {
     "end_time": "2021-07-03T16:47:30.622493Z",
     "start_time": "2021-07-03T16:47:30.354230Z"
    }
   },
   "outputs": [],
   "source": [
    "# Convert int to object\n",
    "season = ['Winter', 'Spring', 'Summer', 'Fall']\n",
    "for i in range(4):\n",
    "    loans_df.loc[loans_df.posted_season == i, 'posted_season'] = season[i]"
   ]
  },
  {
   "cell_type": "code",
   "execution_count": 14,
   "metadata": {
    "ExecuteTime": {
     "end_time": "2021-07-03T16:47:30.687817Z",
     "start_time": "2021-07-03T16:47:30.626138Z"
    }
   },
   "outputs": [
    {
     "data": {
      "text/plain": [
       "Spring    185974\n",
       "Winter    151350\n",
       "Fall      138701\n",
       "Summer    136368\n",
       "Name: posted_season, dtype: int64"
      ]
     },
     "execution_count": 14,
     "metadata": {},
     "output_type": "execute_result"
    }
   ],
   "source": [
    "loans_df.posted_season.value_counts()"
   ]
  },
  {
   "cell_type": "code",
   "execution_count": 15,
   "metadata": {
    "ExecuteTime": {
     "end_time": "2021-07-03T16:47:30.894381Z",
     "start_time": "2021-07-03T16:47:30.691830Z"
    }
   },
   "outputs": [],
   "source": [
    "loans_df.drop(columns='posted_time', inplace=True)"
   ]
  },
  {
   "cell_type": "markdown",
   "metadata": {},
   "source": [
    "## Categorical features"
   ]
  },
  {
   "cell_type": "code",
   "execution_count": 16,
   "metadata": {
    "ExecuteTime": {
     "end_time": "2021-07-03T16:47:32.292284Z",
     "start_time": "2021-07-03T16:47:30.896681Z"
    }
   },
   "outputs": [
    {
     "data": {
      "text/html": [
       "<div>\n",
       "<style scoped>\n",
       "    .dataframe tbody tr th:only-of-type {\n",
       "        vertical-align: middle;\n",
       "    }\n",
       "\n",
       "    .dataframe tbody tr th {\n",
       "        vertical-align: top;\n",
       "    }\n",
       "\n",
       "    .dataframe thead th {\n",
       "        text-align: right;\n",
       "    }\n",
       "</style>\n",
       "<table border=\"1\" class=\"dataframe\">\n",
       "  <thead>\n",
       "    <tr style=\"text-align: right;\">\n",
       "      <th></th>\n",
       "      <th>sector</th>\n",
       "      <th>use</th>\n",
       "      <th>country</th>\n",
       "      <th>partner_id</th>\n",
       "      <th>tags</th>\n",
       "      <th>borrower_genders</th>\n",
       "      <th>repayment_interval</th>\n",
       "      <th>world_region</th>\n",
       "      <th>posted_season</th>\n",
       "    </tr>\n",
       "  </thead>\n",
       "  <tbody>\n",
       "    <tr>\n",
       "      <th>count</th>\n",
       "      <td>612393</td>\n",
       "      <td>612393</td>\n",
       "      <td>612393</td>\n",
       "      <td>612393</td>\n",
       "      <td>612393</td>\n",
       "      <td>612393</td>\n",
       "      <td>612393</td>\n",
       "      <td>612393</td>\n",
       "      <td>612393</td>\n",
       "    </tr>\n",
       "    <tr>\n",
       "      <th>unique</th>\n",
       "      <td>15</td>\n",
       "      <td>382671</td>\n",
       "      <td>70</td>\n",
       "      <td>2</td>\n",
       "      <td>78306</td>\n",
       "      <td>4</td>\n",
       "      <td>4</td>\n",
       "      <td>6</td>\n",
       "      <td>4</td>\n",
       "    </tr>\n",
       "    <tr>\n",
       "      <th>top</th>\n",
       "      <td>Agriculture</td>\n",
       "      <td>to buy a water filter to provide safe drinking...</td>\n",
       "      <td>Philippines</td>\n",
       "      <td>With_partner</td>\n",
       "      <td>No_tag</td>\n",
       "      <td>female</td>\n",
       "      <td>monthly</td>\n",
       "      <td>East Asia and the Pacific</td>\n",
       "      <td>Spring</td>\n",
       "    </tr>\n",
       "    <tr>\n",
       "      <th>freq</th>\n",
       "      <td>169702</td>\n",
       "      <td>4961</td>\n",
       "      <td>156594</td>\n",
       "      <td>604021</td>\n",
       "      <td>159635</td>\n",
       "      <td>443583</td>\n",
       "      <td>309697</td>\n",
       "      <td>213710</td>\n",
       "      <td>185974</td>\n",
       "    </tr>\n",
       "  </tbody>\n",
       "</table>\n",
       "</div>"
      ],
      "text/plain": [
       "             sector                                                use  \\\n",
       "count        612393                                             612393   \n",
       "unique           15                                             382671   \n",
       "top     Agriculture  to buy a water filter to provide safe drinking...   \n",
       "freq         169702                                               4961   \n",
       "\n",
       "            country    partner_id    tags borrower_genders repayment_interval  \\\n",
       "count        612393        612393  612393           612393             612393   \n",
       "unique           70             2   78306                4                  4   \n",
       "top     Philippines  With_partner  No_tag           female            monthly   \n",
       "freq         156594        604021  159635           443583             309697   \n",
       "\n",
       "                     world_region posted_season  \n",
       "count                      612393        612393  \n",
       "unique                          6             4  \n",
       "top     East Asia and the Pacific        Spring  \n",
       "freq                       213710        185974  "
      ]
     },
     "execution_count": 16,
     "metadata": {},
     "output_type": "execute_result"
    }
   ],
   "source": [
    "loans_df.select_dtypes(include='object').describe()"
   ]
  },
  {
   "cell_type": "markdown",
   "metadata": {},
   "source": [
    "The unique values of `use`, `tags`, `sector`, and `country`, are too many to do modeling."
   ]
  },
  {
   "cell_type": "markdown",
   "metadata": {},
   "source": [
    "### Tags and use"
   ]
  },
  {
   "cell_type": "code",
   "execution_count": 17,
   "metadata": {
    "ExecuteTime": {
     "end_time": "2021-07-03T16:47:32.403021Z",
     "start_time": "2021-07-03T16:47:32.294801Z"
    }
   },
   "outputs": [
    {
     "data": {
      "text/plain": [
       "array(['No_tag', 'user_favorite, user_favorite',\n",
       "       '#Elderly, #Woman Owned Biz', ...,\n",
       "       '#Job Creator, #Vegan, #Woman Owned Biz, #Parent, #Schooling, user_favorite',\n",
       "       '#Elderly, #Vegan, #Woman Owned Biz, #Repeat Borrower, #Job Creator',\n",
       "       '#Elderly, #Health and Sanitation, #Technology, #Woman Owned Biz, #Parent, #Biz Durable Asset, user_favorite'],\n",
       "      dtype=object)"
      ]
     },
     "execution_count": 17,
     "metadata": {},
     "output_type": "execute_result"
    }
   ],
   "source": [
    "loans_df.tags.unique()"
   ]
  },
  {
   "cell_type": "code",
   "execution_count": 18,
   "metadata": {
    "ExecuteTime": {
     "end_time": "2021-07-03T16:47:32.601928Z",
     "start_time": "2021-07-03T16:47:32.405655Z"
    }
   },
   "outputs": [
    {
     "data": {
      "text/plain": [
       "array(['To buy seasonal, fresh fruits to sell. ',\n",
       "       'to repair and maintain the auto rickshaw used in their business.',\n",
       "       'To repair their old cycle-van and buy another one to rent out as a source of income',\n",
       "       ...,\n",
       "       'to cover the plowing costs and to purchase insecticides for cultivating rice.',\n",
       "       \"to buy fertilizer for her crops, and hire workers to help increase her farm's output.\",\n",
       "       'to buy an ultrasonography machine for her clinic.'], dtype=object)"
      ]
     },
     "execution_count": 18,
     "metadata": {},
     "output_type": "execute_result"
    }
   ],
   "source": [
    "loans_df.use.unique()"
   ]
  },
  {
   "cell_type": "code",
   "execution_count": 19,
   "metadata": {
    "ExecuteTime": {
     "end_time": "2021-07-03T16:47:32.769663Z",
     "start_time": "2021-07-03T16:47:32.603992Z"
    }
   },
   "outputs": [],
   "source": [
    "loans_df.loc[loans_df.tags != 'No_tag', 'tags'] = 'With_tag'\n",
    "loans_df.loc[loans_df.use != 'No_use_info', 'use'] = 'With_use_info'"
   ]
  },
  {
   "cell_type": "code",
   "execution_count": 20,
   "metadata": {
    "ExecuteTime": {
     "end_time": "2021-07-03T16:47:32.837845Z",
     "start_time": "2021-07-03T16:47:32.772404Z"
    }
   },
   "outputs": [
    {
     "data": {
      "text/plain": [
       "With_tag    0.739326\n",
       "No_tag      0.260674\n",
       "Name: tags, dtype: float64"
      ]
     },
     "execution_count": 20,
     "metadata": {},
     "output_type": "execute_result"
    }
   ],
   "source": [
    "loans_df.tags.value_counts(normalize=True)"
   ]
  },
  {
   "cell_type": "code",
   "execution_count": 21,
   "metadata": {
    "ExecuteTime": {
     "end_time": "2021-07-03T16:47:32.906631Z",
     "start_time": "2021-07-03T16:47:32.839973Z"
    }
   },
   "outputs": [
    {
     "data": {
      "text/plain": [
       "With_use_info    0.993623\n",
       "No_use_info      0.006377\n",
       "Name: use, dtype: float64"
      ]
     },
     "execution_count": 21,
     "metadata": {},
     "output_type": "execute_result"
    }
   ],
   "source": [
    "loans_df.use.value_counts(normalize=True)"
   ]
  },
  {
   "cell_type": "markdown",
   "metadata": {},
   "source": [
    "About 25% of the loans had no tags while less than 1% of the loans had no use information. So `use` will be removed since it did not add any information to each loan application after. Besides that, the similar but more general information had been provided by `sector`."
   ]
  },
  {
   "cell_type": "code",
   "execution_count": 22,
   "metadata": {
    "ExecuteTime": {
     "end_time": "2021-07-03T16:47:33.005433Z",
     "start_time": "2021-07-03T16:47:32.922509Z"
    }
   },
   "outputs": [],
   "source": [
    "loans_df.drop(columns='use', inplace=True)"
   ]
  },
  {
   "cell_type": "markdown",
   "metadata": {},
   "source": [
    "### Sector"
   ]
  },
  {
   "cell_type": "code",
   "execution_count": 23,
   "metadata": {
    "ExecuteTime": {
     "end_time": "2021-07-03T16:47:33.099048Z",
     "start_time": "2021-07-03T16:47:33.013355Z"
    }
   },
   "outputs": [
    {
     "data": {
      "text/plain": [
       "Agriculture       0.277113\n",
       "Food              0.203578\n",
       "Retail            0.188817\n",
       "Services          0.062607\n",
       "Personal Use      0.056384\n",
       "Housing           0.052292\n",
       "Clothing          0.047385\n",
       "Education         0.038872\n",
       "Transportation    0.023273\n",
       "Arts              0.015972\n",
       "Health            0.013339\n",
       "Manufacturing     0.009463\n",
       "Construction      0.009082\n",
       "Wholesale         0.000957\n",
       "Entertainment     0.000867\n",
       "Name: sector, dtype: float64"
      ]
     },
     "execution_count": 23,
     "metadata": {},
     "output_type": "execute_result"
    }
   ],
   "source": [
    "loans_df.sector.value_counts(normalize=True)"
   ]
  },
  {
   "cell_type": "markdown",
   "metadata": {},
   "source": [
    "The loans under the sectors of Agriculture, Food, and Retail account for more than 75% of all the loans. The 15 sectors will be grouped to Agriculture, Food, Retail, and Others."
   ]
  },
  {
   "cell_type": "code",
   "execution_count": 24,
   "metadata": {
    "ExecuteTime": {
     "end_time": "2021-07-03T16:47:33.298298Z",
     "start_time": "2021-07-03T16:47:33.102833Z"
    }
   },
   "outputs": [],
   "source": [
    "loans_df.loc[loans_df.sector.apply(lambda x: x not in ['Agriculture', 'Food', 'Retail']), 'sector'] = 'Others'"
   ]
  },
  {
   "cell_type": "code",
   "execution_count": 25,
   "metadata": {
    "ExecuteTime": {
     "end_time": "2021-07-03T16:47:33.371456Z",
     "start_time": "2021-07-03T16:47:33.300710Z"
    }
   },
   "outputs": [
    {
     "data": {
      "text/plain": [
       "Others         0.330492\n",
       "Agriculture    0.277113\n",
       "Food           0.203578\n",
       "Retail         0.188817\n",
       "Name: sector, dtype: float64"
      ]
     },
     "execution_count": 25,
     "metadata": {},
     "output_type": "execute_result"
    }
   ],
   "source": [
    "loans_df.sector.value_counts(normalize=True)"
   ]
  },
  {
   "cell_type": "markdown",
   "metadata": {},
   "source": [
    "### Country"
   ]
  },
  {
   "cell_type": "code",
   "execution_count": 26,
   "metadata": {
    "ExecuteTime": {
     "end_time": "2021-07-03T16:47:33.458730Z",
     "start_time": "2021-07-03T16:47:33.376921Z"
    }
   },
   "outputs": [
    {
     "data": {
      "text/plain": [
       "Philippines      0.255708\n",
       "Kenya            0.121110\n",
       "El Salvador      0.063485\n",
       "Cambodia         0.054725\n",
       "Pakistan         0.042358\n",
       "                   ...   \n",
       "Namibia          0.000013\n",
       "Vanuatu          0.000007\n",
       "Afghanistan      0.000003\n",
       "Mauritania       0.000002\n",
       "Cote D'Ivoire    0.000002\n",
       "Name: country, Length: 70, dtype: float64"
      ]
     },
     "execution_count": 26,
     "metadata": {},
     "output_type": "execute_result"
    }
   ],
   "source": [
    "loans_df.country.value_counts(normalize=True)"
   ]
  },
  {
   "cell_type": "markdown",
   "metadata": {},
   "source": [
    "The loans from the countries of Philippines, Kenya, El Salvador, Cambodia, and Pakistan account for about 50% of all the loans. The 82 countries will be grouped to Philippines, Kenya, El Salvador, Cambodia, Pakistan, and Others."
   ]
  },
  {
   "cell_type": "code",
   "execution_count": 27,
   "metadata": {
    "ExecuteTime": {
     "end_time": "2021-07-03T16:47:33.644023Z",
     "start_time": "2021-07-03T16:47:33.463241Z"
    }
   },
   "outputs": [],
   "source": [
    "loans_df.loc[loans_df.country.apply(lambda x: x not in ['Philippines', 'Kenya', 'El Salvador', 'Cambodia', 'Pakistan']), 'country'] = 'Others'"
   ]
  },
  {
   "cell_type": "code",
   "execution_count": 28,
   "metadata": {
    "ExecuteTime": {
     "end_time": "2021-07-03T16:47:33.712836Z",
     "start_time": "2021-07-03T16:47:33.646301Z"
    }
   },
   "outputs": [
    {
     "data": {
      "text/plain": [
       "Others         0.462613\n",
       "Philippines    0.255708\n",
       "Kenya          0.121110\n",
       "El Salvador    0.063485\n",
       "Cambodia       0.054725\n",
       "Pakistan       0.042358\n",
       "Name: country, dtype: float64"
      ]
     },
     "execution_count": 28,
     "metadata": {},
     "output_type": "execute_result"
    }
   ],
   "source": [
    "loans_df.country.value_counts(normalize=True)"
   ]
  },
  {
   "cell_type": "code",
   "execution_count": 29,
   "metadata": {
    "ExecuteTime": {
     "end_time": "2021-07-03T16:47:34.483895Z",
     "start_time": "2021-07-03T16:47:33.716031Z"
    }
   },
   "outputs": [
    {
     "data": {
      "text/html": [
       "<div>\n",
       "<style scoped>\n",
       "    .dataframe tbody tr th:only-of-type {\n",
       "        vertical-align: middle;\n",
       "    }\n",
       "\n",
       "    .dataframe tbody tr th {\n",
       "        vertical-align: top;\n",
       "    }\n",
       "\n",
       "    .dataframe thead th {\n",
       "        text-align: right;\n",
       "    }\n",
       "</style>\n",
       "<table border=\"1\" class=\"dataframe\">\n",
       "  <thead>\n",
       "    <tr style=\"text-align: right;\">\n",
       "      <th></th>\n",
       "      <th>sector</th>\n",
       "      <th>country</th>\n",
       "      <th>partner_id</th>\n",
       "      <th>tags</th>\n",
       "      <th>borrower_genders</th>\n",
       "      <th>repayment_interval</th>\n",
       "      <th>world_region</th>\n",
       "      <th>posted_season</th>\n",
       "    </tr>\n",
       "  </thead>\n",
       "  <tbody>\n",
       "    <tr>\n",
       "      <th>count</th>\n",
       "      <td>612393</td>\n",
       "      <td>612393</td>\n",
       "      <td>612393</td>\n",
       "      <td>612393</td>\n",
       "      <td>612393</td>\n",
       "      <td>612393</td>\n",
       "      <td>612393</td>\n",
       "      <td>612393</td>\n",
       "    </tr>\n",
       "    <tr>\n",
       "      <th>unique</th>\n",
       "      <td>4</td>\n",
       "      <td>6</td>\n",
       "      <td>2</td>\n",
       "      <td>2</td>\n",
       "      <td>4</td>\n",
       "      <td>4</td>\n",
       "      <td>6</td>\n",
       "      <td>4</td>\n",
       "    </tr>\n",
       "    <tr>\n",
       "      <th>top</th>\n",
       "      <td>Others</td>\n",
       "      <td>Others</td>\n",
       "      <td>With_partner</td>\n",
       "      <td>With_tag</td>\n",
       "      <td>female</td>\n",
       "      <td>monthly</td>\n",
       "      <td>East Asia and the Pacific</td>\n",
       "      <td>Spring</td>\n",
       "    </tr>\n",
       "    <tr>\n",
       "      <th>freq</th>\n",
       "      <td>202391</td>\n",
       "      <td>283301</td>\n",
       "      <td>604021</td>\n",
       "      <td>452758</td>\n",
       "      <td>443583</td>\n",
       "      <td>309697</td>\n",
       "      <td>213710</td>\n",
       "      <td>185974</td>\n",
       "    </tr>\n",
       "  </tbody>\n",
       "</table>\n",
       "</div>"
      ],
      "text/plain": [
       "        sector country    partner_id      tags borrower_genders  \\\n",
       "count   612393  612393        612393    612393           612393   \n",
       "unique       4       6             2         2                4   \n",
       "top     Others  Others  With_partner  With_tag           female   \n",
       "freq    202391  283301        604021    452758           443583   \n",
       "\n",
       "       repayment_interval               world_region posted_season  \n",
       "count              612393                     612393        612393  \n",
       "unique                  4                          6             4  \n",
       "top               monthly  East Asia and the Pacific        Spring  \n",
       "freq               309697                     213710        185974  "
      ]
     },
     "execution_count": 29,
     "metadata": {},
     "output_type": "execute_result"
    }
   ],
   "source": [
    "loans_df.select_dtypes(include='object').describe()"
   ]
  },
  {
   "cell_type": "markdown",
   "metadata": {},
   "source": [
    "Now the number of unique values of all the categorical variables are acceptable."
   ]
  },
  {
   "cell_type": "markdown",
   "metadata": {},
   "source": [
    "### Create dummy or indicator features for categorical variables "
   ]
  },
  {
   "cell_type": "code",
   "execution_count": 30,
   "metadata": {
    "ExecuteTime": {
     "end_time": "2021-07-03T16:47:34.906430Z",
     "start_time": "2021-07-03T16:47:34.487355Z"
    }
   },
   "outputs": [],
   "source": [
    "dummy_category = pd.get_dummies(loans_df[['sector','country','borrower_genders','repayment_interval','world_region','posted_season']])"
   ]
  },
  {
   "cell_type": "code",
   "execution_count": 31,
   "metadata": {
    "ExecuteTime": {
     "end_time": "2021-07-03T16:47:35.041183Z",
     "start_time": "2021-07-03T16:47:34.908556Z"
    }
   },
   "outputs": [],
   "source": [
    "dummy_category_drop_first = pd.get_dummies(loans_df[['partner_id','tags']], drop_first=True)"
   ]
  },
  {
   "cell_type": "code",
   "execution_count": 32,
   "metadata": {
    "ExecuteTime": {
     "end_time": "2021-07-03T16:47:35.088914Z",
     "start_time": "2021-07-03T16:47:35.043481Z"
    }
   },
   "outputs": [],
   "source": [
    "dummy_category = pd.concat([dummy_category, dummy_category_drop_first], axis=1)"
   ]
  },
  {
   "cell_type": "code",
   "execution_count": 33,
   "metadata": {
    "ExecuteTime": {
     "end_time": "2021-07-03T16:47:35.098289Z",
     "start_time": "2021-07-03T16:47:35.091156Z"
    }
   },
   "outputs": [
    {
     "data": {
      "text/plain": [
       "Index(['loan_amount', 'sector', 'country', 'partner_id', 'term_in_months',\n",
       "       'tags', 'borrower_genders', 'repayment_interval', 'world_region', 'MPI',\n",
       "       'loan_amount_per_month', 'funding_speed', 'posted_season'],\n",
       "      dtype='object')"
      ]
     },
     "execution_count": 33,
     "metadata": {},
     "output_type": "execute_result"
    }
   ],
   "source": [
    "loans_df.columns"
   ]
  },
  {
   "cell_type": "code",
   "execution_count": 34,
   "metadata": {
    "ExecuteTime": {
     "end_time": "2021-07-03T16:47:35.170289Z",
     "start_time": "2021-07-03T16:47:35.100652Z"
    }
   },
   "outputs": [],
   "source": [
    "loans_df = loans_df.drop(columns=['sector', 'country', 'partner_id','tags', 'borrower_genders', 'repayment_interval', 'world_region','posted_season'])\n",
    "loans_df = pd.concat([loans_df, dummy_category], axis=1)"
   ]
  },
  {
   "cell_type": "code",
   "execution_count": 35,
   "metadata": {
    "ExecuteTime": {
     "end_time": "2021-07-03T16:47:35.229645Z",
     "start_time": "2021-07-03T16:47:35.172881Z"
    }
   },
   "outputs": [
    {
     "name": "stdout",
     "output_type": "stream",
     "text": [
      "<class 'pandas.core.frame.DataFrame'>\n",
      "RangeIndex: 612393 entries, 0 to 612392\n",
      "Data columns (total 35 columns):\n",
      " #   Column                                    Non-Null Count   Dtype  \n",
      "---  ------                                    --------------   -----  \n",
      " 0   loan_amount                               612393 non-null  float64\n",
      " 1   term_in_months                            612393 non-null  float64\n",
      " 2   MPI                                       612393 non-null  float64\n",
      " 3   loan_amount_per_month                     612393 non-null  float64\n",
      " 4   funding_speed                             612393 non-null  float64\n",
      " 5   sector_Agriculture                        612393 non-null  uint8  \n",
      " 6   sector_Food                               612393 non-null  uint8  \n",
      " 7   sector_Others                             612393 non-null  uint8  \n",
      " 8   sector_Retail                             612393 non-null  uint8  \n",
      " 9   country_Cambodia                          612393 non-null  uint8  \n",
      " 10  country_El Salvador                       612393 non-null  uint8  \n",
      " 11  country_Kenya                             612393 non-null  uint8  \n",
      " 12  country_Others                            612393 non-null  uint8  \n",
      " 13  country_Pakistan                          612393 non-null  uint8  \n",
      " 14  country_Philippines                       612393 non-null  uint8  \n",
      " 15  borrower_genders_female                   612393 non-null  uint8  \n",
      " 16  borrower_genders_male                     612393 non-null  uint8  \n",
      " 17  borrower_genders_mixed                    612393 non-null  uint8  \n",
      " 18  borrower_genders_unknown                  612393 non-null  uint8  \n",
      " 19  repayment_interval_bullet                 612393 non-null  uint8  \n",
      " 20  repayment_interval_irregular              612393 non-null  uint8  \n",
      " 21  repayment_interval_monthly                612393 non-null  uint8  \n",
      " 22  repayment_interval_weekly                 612393 non-null  uint8  \n",
      " 23  world_region_Arab States                  612393 non-null  uint8  \n",
      " 24  world_region_East Asia and the Pacific    612393 non-null  uint8  \n",
      " 25  world_region_Europe and Central Asia      612393 non-null  uint8  \n",
      " 26  world_region_Latin America and Caribbean  612393 non-null  uint8  \n",
      " 27  world_region_South Asia                   612393 non-null  uint8  \n",
      " 28  world_region_Sub-Saharan Africa           612393 non-null  uint8  \n",
      " 29  posted_season_Fall                        612393 non-null  uint8  \n",
      " 30  posted_season_Spring                      612393 non-null  uint8  \n",
      " 31  posted_season_Summer                      612393 non-null  uint8  \n",
      " 32  posted_season_Winter                      612393 non-null  uint8  \n",
      " 33  partner_id_With_partner                   612393 non-null  uint8  \n",
      " 34  tags_With_tag                             612393 non-null  uint8  \n",
      "dtypes: float64(5), uint8(30)\n",
      "memory usage: 40.9 MB\n"
     ]
    }
   ],
   "source": [
    "loans_df.info()"
   ]
  },
  {
   "cell_type": "markdown",
   "metadata": {},
   "source": [
    "## Numeric features"
   ]
  },
  {
   "cell_type": "code",
   "execution_count": 36,
   "metadata": {
    "ExecuteTime": {
     "end_time": "2021-07-03T16:47:35.246794Z",
     "start_time": "2021-07-03T16:47:35.232455Z"
    }
   },
   "outputs": [
    {
     "data": {
      "text/plain": [
       "Index(['loan_amount', 'term_in_months', 'MPI', 'loan_amount_per_month',\n",
       "       'funding_speed'],\n",
       "      dtype='object')"
      ]
     },
     "execution_count": 36,
     "metadata": {},
     "output_type": "execute_result"
    }
   ],
   "source": [
    "loans_df.select_dtypes(include='float').columns"
   ]
  },
  {
   "cell_type": "code",
   "execution_count": 37,
   "metadata": {
    "ExecuteTime": {
     "end_time": "2021-07-03T16:47:35.380225Z",
     "start_time": "2021-07-03T16:47:35.249246Z"
    }
   },
   "outputs": [
    {
     "data": {
      "text/html": [
       "<div>\n",
       "<style scoped>\n",
       "    .dataframe tbody tr th:only-of-type {\n",
       "        vertical-align: middle;\n",
       "    }\n",
       "\n",
       "    .dataframe tbody tr th {\n",
       "        vertical-align: top;\n",
       "    }\n",
       "\n",
       "    .dataframe thead th {\n",
       "        text-align: right;\n",
       "    }\n",
       "</style>\n",
       "<table border=\"1\" class=\"dataframe\">\n",
       "  <thead>\n",
       "    <tr style=\"text-align: right;\">\n",
       "      <th></th>\n",
       "      <th>loan_amount</th>\n",
       "      <th>term_in_months</th>\n",
       "      <th>MPI</th>\n",
       "      <th>loan_amount_per_month</th>\n",
       "    </tr>\n",
       "  </thead>\n",
       "  <tbody>\n",
       "    <tr>\n",
       "      <th>count</th>\n",
       "      <td>612393.000000</td>\n",
       "      <td>612393.000000</td>\n",
       "      <td>612393.000000</td>\n",
       "      <td>612393.000000</td>\n",
       "    </tr>\n",
       "    <tr>\n",
       "      <th>mean</th>\n",
       "      <td>757.595368</td>\n",
       "      <td>13.579701</td>\n",
       "      <td>0.124440</td>\n",
       "      <td>67.447404</td>\n",
       "    </tr>\n",
       "    <tr>\n",
       "      <th>std</th>\n",
       "      <td>1045.430707</td>\n",
       "      <td>8.617888</td>\n",
       "      <td>0.115893</td>\n",
       "      <td>117.134585</td>\n",
       "    </tr>\n",
       "    <tr>\n",
       "      <th>min</th>\n",
       "      <td>25.000000</td>\n",
       "      <td>1.000000</td>\n",
       "      <td>0.001155</td>\n",
       "      <td>0.000000</td>\n",
       "    </tr>\n",
       "    <tr>\n",
       "      <th>25%</th>\n",
       "      <td>250.000000</td>\n",
       "      <td>8.000000</td>\n",
       "      <td>0.052128</td>\n",
       "      <td>24.000000</td>\n",
       "    </tr>\n",
       "    <tr>\n",
       "      <th>50%</th>\n",
       "      <td>475.000000</td>\n",
       "      <td>13.000000</td>\n",
       "      <td>0.053851</td>\n",
       "      <td>38.000000</td>\n",
       "    </tr>\n",
       "    <tr>\n",
       "      <th>75%</th>\n",
       "      <td>900.000000</td>\n",
       "      <td>14.000000</td>\n",
       "      <td>0.187418</td>\n",
       "      <td>65.000000</td>\n",
       "    </tr>\n",
       "    <tr>\n",
       "      <th>max</th>\n",
       "      <td>100000.000000</td>\n",
       "      <td>158.000000</td>\n",
       "      <td>0.557405</td>\n",
       "      <td>10000.000000</td>\n",
       "    </tr>\n",
       "  </tbody>\n",
       "</table>\n",
       "</div>"
      ],
      "text/plain": [
       "         loan_amount  term_in_months            MPI  loan_amount_per_month\n",
       "count  612393.000000   612393.000000  612393.000000          612393.000000\n",
       "mean      757.595368       13.579701       0.124440              67.447404\n",
       "std      1045.430707        8.617888       0.115893             117.134585\n",
       "min        25.000000        1.000000       0.001155               0.000000\n",
       "25%       250.000000        8.000000       0.052128              24.000000\n",
       "50%       475.000000       13.000000       0.053851              38.000000\n",
       "75%       900.000000       14.000000       0.187418              65.000000\n",
       "max    100000.000000      158.000000       0.557405           10000.000000"
      ]
     },
     "execution_count": 37,
     "metadata": {},
     "output_type": "execute_result"
    }
   ],
   "source": [
    "numeric_feature = loans_df[['loan_amount', 'term_in_months', 'MPI', 'loan_amount_per_month']]\n",
    "numeric_feature.describe()"
   ]
  },
  {
   "cell_type": "code",
   "execution_count": 38,
   "metadata": {
    "ExecuteTime": {
     "end_time": "2021-07-03T16:47:37.062062Z",
     "start_time": "2021-07-03T16:47:35.384398Z"
    }
   },
   "outputs": [
    {
     "data": {
      "image/png": "[encoded data removed]",
      "text/plain": [
       "<Figure size 1152x432 with 4 Axes>"
      ]
     },
     "metadata": {},
     "output_type": "display_data"
    }
   ],
   "source": [
    "_ = numeric_feature.hist(layout=(2, 2), figsize=(16, 6),sharex=False,sharey=False, bins=50)"
   ]
  },
  {
   "cell_type": "markdown",
   "metadata": {},
   "source": [
    "As we mentioned in EDA, all these numeric feature are right skewed, among which `loan_amount`, `term_in_months`, and `loan_amount_per_month` had extreme outliers."
   ]
  },
  {
   "cell_type": "code",
   "execution_count": 39,
   "metadata": {
    "ExecuteTime": {
     "end_time": "2021-07-03T16:47:37.807544Z",
     "start_time": "2021-07-03T16:47:37.065090Z"
    }
   },
   "outputs": [
    {
     "data": {
      "image/png": "[encoded data removed]",
      "text/plain": [
       "<Figure size 432x288 with 1 Axes>"
      ]
     },
     "metadata": {},
     "output_type": "display_data"
    },
    {
     "name": "stdout",
     "output_type": "stream",
     "text": [
      "For the feature of loan_amount, the data more than 2850.0 can be considered as extreme outliers.\n"
     ]
    },
    {
     "data": {
      "image/png": "[encoded data removed]",
      "text/plain": [
       "<Figure size 432x288 with 1 Axes>"
      ]
     },
     "metadata": {},
     "output_type": "display_data"
    },
    {
     "name": "stdout",
     "output_type": "stream",
     "text": [
      "For the feature of term_in_months, the data more than 32.0 can be considered as extreme outliers.\n"
     ]
    },
    {
     "data": {
      "image/png": "[encoded data removed]",
      "text/plain": [
       "<Figure size 432x288 with 1 Axes>"
      ]
     },
     "metadata": {},
     "output_type": "display_data"
    },
    {
     "name": "stdout",
     "output_type": "stream",
     "text": [
      "For the feature of loan_amount_per_month, the data more than 188.0 can be considered as extreme outliers.\n"
     ]
    }
   ],
   "source": [
    "def outlier(columns):\n",
    "    for col in columns:\n",
    "        plt.boxplot(numeric_feature[col])\n",
    "        plt.show()\n",
    "        Q1, Q3 = numeric_feature[col].quantile([0.25, 0.75])\n",
    "        IQR = Q3 - Q1\n",
    "        extreme_outlier = Q3 + 3 * IQR\n",
    "        print('For the feature of {}, the data more than {} can be considered as extreme outliers.'.format(col,extreme_outlier))\n",
    "\n",
    "outlier(['loan_amount', 'term_in_months', 'loan_amount_per_month'])"
   ]
  },
  {
   "cell_type": "code",
   "execution_count": 40,
   "metadata": {
    "ExecuteTime": {
     "end_time": "2021-07-03T16:47:39.556603Z",
     "start_time": "2021-07-03T16:47:37.810760Z"
    }
   },
   "outputs": [
    {
     "name": "stdout",
     "output_type": "stream",
     "text": [
      "558235 0.8623587477890119\n"
     ]
    },
    {
     "data": {
      "image/png": "[encoded data removed]",
      "text/plain": [
       "<Figure size 1152x432 with 4 Axes>"
      ]
     },
     "metadata": {},
     "output_type": "display_data"
    }
   ],
   "source": [
    "# Drop all the entries which have extreme outliers\n",
    "loans_df_remove_outlier = loans_df[(loans_df.loan_amount_per_month < 197)  & (loans_df.term_in_months < 32) & (loans_df.loan_amount < 3075)]\n",
    "print(loans_df_remove_outlier.shape[0], loans_df_remove_outlier.shape[0]/647335)\n",
    "_ = loans_df_remove_outlier[['loan_amount', 'term_in_months', 'loan_amount_per_month','MPI']].hist(layout=(2, 2), figsize=(16, 6),sharex=False,sharey=False, bins=50)"
   ]
  },
  {
   "cell_type": "markdown",
   "metadata": {},
   "source": [
    "<div class=\"burk\">\n",
    "Q1: Remove the extreme outliers?</div><i class=\"fa fa-lightbulb-o \"></i>"
   ]
  },
  {
   "cell_type": "markdown",
   "metadata": {},
   "source": [
    "<div class=\"burk\">\n",
    "Q2: Binning, i.e., taking continuous feature and separate it out into several ranges to create a categorical feature?</div><i class=\"fa fa-lightbulb-o \"></i>"
   ]
  },
  {
   "cell_type": "markdown",
   "metadata": {},
   "source": [
    "## Train/Test split"
   ]
  },
  {
   "cell_type": "code",
   "execution_count": 41,
   "metadata": {
    "ExecuteTime": {
     "end_time": "2021-07-03T16:47:39.800895Z",
     "start_time": "2021-07-03T16:47:39.559898Z"
    }
   },
   "outputs": [],
   "source": [
    "X_train, X_test, y_train, y_test = train_test_split(loans_df.drop(columns='funding_speed'), \n",
    "                                                    loans_df.funding_speed, test_size=0.3, \n",
    "                                                    random_state=47)"
   ]
  },
  {
   "cell_type": "markdown",
   "metadata": {},
   "source": [
    "## Scale the numeric features"
   ]
  },
  {
   "cell_type": "code",
   "execution_count": 42,
   "metadata": {
    "ExecuteTime": {
     "end_time": "2021-07-03T16:47:40.302049Z",
     "start_time": "2021-07-03T16:47:39.803266Z"
    }
   },
   "outputs": [],
   "source": [
    "numeric_columns = ['loan_amount', 'term_in_months', 'loan_amount_per_month', 'MPI']\n",
    "\n",
    "scaler = StandardScaler() \n",
    "X_train[numeric_columns] = scaler.fit_transform(X_train[numeric_columns])\n",
    "X_test[numeric_columns] = scaler.transform(X_test[numeric_columns])"
   ]
  },
  {
   "cell_type": "code",
   "execution_count": 43,
   "metadata": {
    "ExecuteTime": {
     "end_time": "2021-07-03T16:47:40.743122Z",
     "start_time": "2021-07-03T16:47:40.304714Z"
    }
   },
   "outputs": [
    {
     "data": {
      "text/html": [
       "<div>\n",
       "<style scoped>\n",
       "    .dataframe tbody tr th:only-of-type {\n",
       "        vertical-align: middle;\n",
       "    }\n",
       "\n",
       "    .dataframe tbody tr th {\n",
       "        vertical-align: top;\n",
       "    }\n",
       "\n",
       "    .dataframe thead th {\n",
       "        text-align: right;\n",
       "    }\n",
       "</style>\n",
       "<table border=\"1\" class=\"dataframe\">\n",
       "  <thead>\n",
       "    <tr style=\"text-align: right;\">\n",
       "      <th></th>\n",
       "      <th>loan_amount</th>\n",
       "      <th>term_in_months</th>\n",
       "      <th>MPI</th>\n",
       "      <th>loan_amount_per_month</th>\n",
       "      <th>sector_Agriculture</th>\n",
       "      <th>sector_Food</th>\n",
       "      <th>sector_Others</th>\n",
       "      <th>sector_Retail</th>\n",
       "      <th>country_Cambodia</th>\n",
       "      <th>country_El Salvador</th>\n",
       "      <th>...</th>\n",
       "      <th>world_region_Europe and Central Asia</th>\n",
       "      <th>world_region_Latin America and Caribbean</th>\n",
       "      <th>world_region_South Asia</th>\n",
       "      <th>world_region_Sub-Saharan Africa</th>\n",
       "      <th>posted_season_Fall</th>\n",
       "      <th>posted_season_Spring</th>\n",
       "      <th>posted_season_Summer</th>\n",
       "      <th>posted_season_Winter</th>\n",
       "      <th>partner_id_With_partner</th>\n",
       "      <th>tags_With_tag</th>\n",
       "    </tr>\n",
       "  </thead>\n",
       "  <tbody>\n",
       "    <tr>\n",
       "      <th>count</th>\n",
       "      <td>4.286750e+05</td>\n",
       "      <td>4.286750e+05</td>\n",
       "      <td>4.286750e+05</td>\n",
       "      <td>4.286750e+05</td>\n",
       "      <td>428675.000000</td>\n",
       "      <td>428675.000000</td>\n",
       "      <td>428675.000000</td>\n",
       "      <td>428675.000000</td>\n",
       "      <td>428675.000000</td>\n",
       "      <td>428675.000000</td>\n",
       "      <td>...</td>\n",
       "      <td>428675.000000</td>\n",
       "      <td>428675.000000</td>\n",
       "      <td>428675.000000</td>\n",
       "      <td>428675.000000</td>\n",
       "      <td>428675.000000</td>\n",
       "      <td>428675.000000</td>\n",
       "      <td>428675.000000</td>\n",
       "      <td>428675.000000</td>\n",
       "      <td>428675.000000</td>\n",
       "      <td>428675.000000</td>\n",
       "    </tr>\n",
       "    <tr>\n",
       "      <th>mean</th>\n",
       "      <td>2.927174e-15</td>\n",
       "      <td>-4.870291e-16</td>\n",
       "      <td>1.794241e-15</td>\n",
       "      <td>-8.661383e-17</td>\n",
       "      <td>0.277532</td>\n",
       "      <td>0.203802</td>\n",
       "      <td>0.330267</td>\n",
       "      <td>0.188399</td>\n",
       "      <td>0.054701</td>\n",
       "      <td>0.063696</td>\n",
       "      <td>...</td>\n",
       "      <td>0.062777</td>\n",
       "      <td>0.226839</td>\n",
       "      <td>0.061350</td>\n",
       "      <td>0.272356</td>\n",
       "      <td>0.226512</td>\n",
       "      <td>0.303171</td>\n",
       "      <td>0.223321</td>\n",
       "      <td>0.246996</td>\n",
       "      <td>0.986304</td>\n",
       "      <td>0.739082</td>\n",
       "    </tr>\n",
       "    <tr>\n",
       "      <th>std</th>\n",
       "      <td>1.000001e+00</td>\n",
       "      <td>1.000001e+00</td>\n",
       "      <td>1.000001e+00</td>\n",
       "      <td>1.000001e+00</td>\n",
       "      <td>0.447782</td>\n",
       "      <td>0.402824</td>\n",
       "      <td>0.470310</td>\n",
       "      <td>0.391031</td>\n",
       "      <td>0.227396</td>\n",
       "      <td>0.244211</td>\n",
       "      <td>...</td>\n",
       "      <td>0.242562</td>\n",
       "      <td>0.418788</td>\n",
       "      <td>0.239971</td>\n",
       "      <td>0.445172</td>\n",
       "      <td>0.418575</td>\n",
       "      <td>0.459629</td>\n",
       "      <td>0.416472</td>\n",
       "      <td>0.431265</td>\n",
       "      <td>0.116225</td>\n",
       "      <td>0.439136</td>\n",
       "    </tr>\n",
       "    <tr>\n",
       "      <th>min</th>\n",
       "      <td>-7.005862e-01</td>\n",
       "      <td>-1.462002e+00</td>\n",
       "      <td>-1.063473e+00</td>\n",
       "      <td>-5.669022e-01</td>\n",
       "      <td>0.000000</td>\n",
       "      <td>0.000000</td>\n",
       "      <td>0.000000</td>\n",
       "      <td>0.000000</td>\n",
       "      <td>0.000000</td>\n",
       "      <td>0.000000</td>\n",
       "      <td>...</td>\n",
       "      <td>0.000000</td>\n",
       "      <td>0.000000</td>\n",
       "      <td>0.000000</td>\n",
       "      <td>0.000000</td>\n",
       "      <td>0.000000</td>\n",
       "      <td>0.000000</td>\n",
       "      <td>0.000000</td>\n",
       "      <td>0.000000</td>\n",
       "      <td>0.000000</td>\n",
       "      <td>0.000000</td>\n",
       "    </tr>\n",
       "    <tr>\n",
       "      <th>25%</th>\n",
       "      <td>-4.853755e-01</td>\n",
       "      <td>-6.486560e-01</td>\n",
       "      <td>-6.236666e-01</td>\n",
       "      <td>-3.705151e-01</td>\n",
       "      <td>0.000000</td>\n",
       "      <td>0.000000</td>\n",
       "      <td>0.000000</td>\n",
       "      <td>0.000000</td>\n",
       "      <td>0.000000</td>\n",
       "      <td>0.000000</td>\n",
       "      <td>...</td>\n",
       "      <td>0.000000</td>\n",
       "      <td>0.000000</td>\n",
       "      <td>0.000000</td>\n",
       "      <td>0.000000</td>\n",
       "      <td>0.000000</td>\n",
       "      <td>0.000000</td>\n",
       "      <td>0.000000</td>\n",
       "      <td>0.000000</td>\n",
       "      <td>1.000000</td>\n",
       "      <td>0.000000</td>\n",
       "    </tr>\n",
       "    <tr>\n",
       "      <th>50%</th>\n",
       "      <td>-2.701648e-01</td>\n",
       "      <td>-6.769420e-02</td>\n",
       "      <td>-6.087940e-01</td>\n",
       "      <td>-2.509752e-01</td>\n",
       "      <td>0.000000</td>\n",
       "      <td>0.000000</td>\n",
       "      <td>0.000000</td>\n",
       "      <td>0.000000</td>\n",
       "      <td>0.000000</td>\n",
       "      <td>0.000000</td>\n",
       "      <td>...</td>\n",
       "      <td>0.000000</td>\n",
       "      <td>0.000000</td>\n",
       "      <td>0.000000</td>\n",
       "      <td>0.000000</td>\n",
       "      <td>0.000000</td>\n",
       "      <td>0.000000</td>\n",
       "      <td>0.000000</td>\n",
       "      <td>0.000000</td>\n",
       "      <td>1.000000</td>\n",
       "      <td>1.000000</td>\n",
       "    </tr>\n",
       "    <tr>\n",
       "      <th>75%</th>\n",
       "      <td>1.363443e-01</td>\n",
       "      <td>4.849816e-02</td>\n",
       "      <td>5.436607e-01</td>\n",
       "      <td>-2.043394e-02</td>\n",
       "      <td>1.000000</td>\n",
       "      <td>0.000000</td>\n",
       "      <td>1.000000</td>\n",
       "      <td>0.000000</td>\n",
       "      <td>0.000000</td>\n",
       "      <td>0.000000</td>\n",
       "      <td>...</td>\n",
       "      <td>0.000000</td>\n",
       "      <td>0.000000</td>\n",
       "      <td>0.000000</td>\n",
       "      <td>1.000000</td>\n",
       "      <td>0.000000</td>\n",
       "      <td>1.000000</td>\n",
       "      <td>0.000000</td>\n",
       "      <td>0.000000</td>\n",
       "      <td>1.000000</td>\n",
       "      <td>1.000000</td>\n",
       "    </tr>\n",
       "    <tr>\n",
       "      <th>max</th>\n",
       "      <td>9.492470e+01</td>\n",
       "      <td>1.678020e+01</td>\n",
       "      <td>3.736022e+00</td>\n",
       "      <td>8.481022e+01</td>\n",
       "      <td>1.000000</td>\n",
       "      <td>1.000000</td>\n",
       "      <td>1.000000</td>\n",
       "      <td>1.000000</td>\n",
       "      <td>1.000000</td>\n",
       "      <td>1.000000</td>\n",
       "      <td>...</td>\n",
       "      <td>1.000000</td>\n",
       "      <td>1.000000</td>\n",
       "      <td>1.000000</td>\n",
       "      <td>1.000000</td>\n",
       "      <td>1.000000</td>\n",
       "      <td>1.000000</td>\n",
       "      <td>1.000000</td>\n",
       "      <td>1.000000</td>\n",
       "      <td>1.000000</td>\n",
       "      <td>1.000000</td>\n",
       "    </tr>\n",
       "  </tbody>\n",
       "</table>\n",
       "<p>8 rows × 34 columns</p>\n",
       "</div>"
      ],
      "text/plain": [
       "        loan_amount  term_in_months           MPI  loan_amount_per_month  \\\n",
       "count  4.286750e+05    4.286750e+05  4.286750e+05           4.286750e+05   \n",
       "mean   2.927174e-15   -4.870291e-16  1.794241e-15          -8.661383e-17   \n",
       "std    1.000001e+00    1.000001e+00  1.000001e+00           1.000001e+00   \n",
       "min   -7.005862e-01   -1.462002e+00 -1.063473e+00          -5.669022e-01   \n",
       "25%   -4.853755e-01   -6.486560e-01 -6.236666e-01          -3.705151e-01   \n",
       "50%   -2.701648e-01   -6.769420e-02 -6.087940e-01          -2.509752e-01   \n",
       "75%    1.363443e-01    4.849816e-02  5.436607e-01          -2.043394e-02   \n",
       "max    9.492470e+01    1.678020e+01  3.736022e+00           8.481022e+01   \n",
       "\n",
       "       sector_Agriculture    sector_Food  sector_Others  sector_Retail  \\\n",
       "count       428675.000000  428675.000000  428675.000000  428675.000000   \n",
       "mean             0.277532       0.203802       0.330267       0.188399   \n",
       "std              0.447782       0.402824       0.470310       0.391031   \n",
       "min              0.000000       0.000000       0.000000       0.000000   \n",
       "25%              0.000000       0.000000       0.000000       0.000000   \n",
       "50%              0.000000       0.000000       0.000000       0.000000   \n",
       "75%              1.000000       0.000000       1.000000       0.000000   \n",
       "max              1.000000       1.000000       1.000000       1.000000   \n",
       "\n",
       "       country_Cambodia  country_El Salvador  ...  \\\n",
       "count     428675.000000        428675.000000  ...   \n",
       "mean           0.054701             0.063696  ...   \n",
       "std            0.227396             0.244211  ...   \n",
       "min            0.000000             0.000000  ...   \n",
       "25%            0.000000             0.000000  ...   \n",
       "50%            0.000000             0.000000  ...   \n",
       "75%            0.000000             0.000000  ...   \n",
       "max            1.000000             1.000000  ...   \n",
       "\n",
       "       world_region_Europe and Central Asia  \\\n",
       "count                         428675.000000   \n",
       "mean                               0.062777   \n",
       "std                                0.242562   \n",
       "min                                0.000000   \n",
       "25%                                0.000000   \n",
       "50%                                0.000000   \n",
       "75%                                0.000000   \n",
       "max                                1.000000   \n",
       "\n",
       "       world_region_Latin America and Caribbean  world_region_South Asia  \\\n",
       "count                             428675.000000            428675.000000   \n",
       "mean                                   0.226839                 0.061350   \n",
       "std                                    0.418788                 0.239971   \n",
       "min                                    0.000000                 0.000000   \n",
       "25%                                    0.000000                 0.000000   \n",
       "50%                                    0.000000                 0.000000   \n",
       "75%                                    0.000000                 0.000000   \n",
       "max                                    1.000000                 1.000000   \n",
       "\n",
       "       world_region_Sub-Saharan Africa  posted_season_Fall  \\\n",
       "count                    428675.000000       428675.000000   \n",
       "mean                          0.272356            0.226512   \n",
       "std                           0.445172            0.418575   \n",
       "min                           0.000000            0.000000   \n",
       "25%                           0.000000            0.000000   \n",
       "50%                           0.000000            0.000000   \n",
       "75%                           1.000000            0.000000   \n",
       "max                           1.000000            1.000000   \n",
       "\n",
       "       posted_season_Spring  posted_season_Summer  posted_season_Winter  \\\n",
       "count         428675.000000         428675.000000         428675.000000   \n",
       "mean               0.303171              0.223321              0.246996   \n",
       "std                0.459629              0.416472              0.431265   \n",
       "min                0.000000              0.000000              0.000000   \n",
       "25%                0.000000              0.000000              0.000000   \n",
       "50%                0.000000              0.000000              0.000000   \n",
       "75%                1.000000              0.000000              0.000000   \n",
       "max                1.000000              1.000000              1.000000   \n",
       "\n",
       "       partner_id_With_partner  tags_With_tag  \n",
       "count            428675.000000  428675.000000  \n",
       "mean                  0.986304       0.739082  \n",
       "std                   0.116225       0.439136  \n",
       "min                   0.000000       0.000000  \n",
       "25%                   1.000000       0.000000  \n",
       "50%                   1.000000       1.000000  \n",
       "75%                   1.000000       1.000000  \n",
       "max                   1.000000       1.000000  \n",
       "\n",
       "[8 rows x 34 columns]"
      ]
     },
     "execution_count": 43,
     "metadata": {},
     "output_type": "execute_result"
    }
   ],
   "source": [
    "X_train.describe()"
   ]
  },
  {
   "cell_type": "code",
   "execution_count": 44,
   "metadata": {
    "ExecuteTime": {
     "end_time": "2021-07-03T16:47:40.750822Z",
     "start_time": "2021-07-03T16:47:40.746047Z"
    }
   },
   "outputs": [],
   "source": [
    "X_train.reset_index(drop=True, inplace=True)"
   ]
  },
  {
   "cell_type": "code",
   "execution_count": 45,
   "metadata": {
    "ExecuteTime": {
     "end_time": "2021-07-03T16:47:40.796991Z",
     "start_time": "2021-07-03T16:47:40.753339Z"
    }
   },
   "outputs": [
    {
     "name": "stdout",
     "output_type": "stream",
     "text": [
      "<class 'pandas.core.frame.DataFrame'>\n",
      "RangeIndex: 428675 entries, 0 to 428674\n",
      "Data columns (total 34 columns):\n",
      " #   Column                                    Non-Null Count   Dtype  \n",
      "---  ------                                    --------------   -----  \n",
      " 0   loan_amount                               428675 non-null  float64\n",
      " 1   term_in_months                            428675 non-null  float64\n",
      " 2   MPI                                       428675 non-null  float64\n",
      " 3   loan_amount_per_month                     428675 non-null  float64\n",
      " 4   sector_Agriculture                        428675 non-null  uint8  \n",
      " 5   sector_Food                               428675 non-null  uint8  \n",
      " 6   sector_Others                             428675 non-null  uint8  \n",
      " 7   sector_Retail                             428675 non-null  uint8  \n",
      " 8   country_Cambodia                          428675 non-null  uint8  \n",
      " 9   country_El Salvador                       428675 non-null  uint8  \n",
      " 10  country_Kenya                             428675 non-null  uint8  \n",
      " 11  country_Others                            428675 non-null  uint8  \n",
      " 12  country_Pakistan                          428675 non-null  uint8  \n",
      " 13  country_Philippines                       428675 non-null  uint8  \n",
      " 14  borrower_genders_female                   428675 non-null  uint8  \n",
      " 15  borrower_genders_male                     428675 non-null  uint8  \n",
      " 16  borrower_genders_mixed                    428675 non-null  uint8  \n",
      " 17  borrower_genders_unknown                  428675 non-null  uint8  \n",
      " 18  repayment_interval_bullet                 428675 non-null  uint8  \n",
      " 19  repayment_interval_irregular              428675 non-null  uint8  \n",
      " 20  repayment_interval_monthly                428675 non-null  uint8  \n",
      " 21  repayment_interval_weekly                 428675 non-null  uint8  \n",
      " 22  world_region_Arab States                  428675 non-null  uint8  \n",
      " 23  world_region_East Asia and the Pacific    428675 non-null  uint8  \n",
      " 24  world_region_Europe and Central Asia      428675 non-null  uint8  \n",
      " 25  world_region_Latin America and Caribbean  428675 non-null  uint8  \n",
      " 26  world_region_South Asia                   428675 non-null  uint8  \n",
      " 27  world_region_Sub-Saharan Africa           428675 non-null  uint8  \n",
      " 28  posted_season_Fall                        428675 non-null  uint8  \n",
      " 29  posted_season_Spring                      428675 non-null  uint8  \n",
      " 30  posted_season_Summer                      428675 non-null  uint8  \n",
      " 31  posted_season_Winter                      428675 non-null  uint8  \n",
      " 32  partner_id_With_partner                   428675 non-null  uint8  \n",
      " 33  tags_With_tag                             428675 non-null  uint8  \n",
      "dtypes: float64(4), uint8(30)\n",
      "memory usage: 25.3 MB\n"
     ]
    }
   ],
   "source": [
    "X_train.info()"
   ]
  },
  {
   "cell_type": "code",
   "execution_count": 46,
   "metadata": {
    "ExecuteTime": {
     "end_time": "2021-07-03T16:47:40.805990Z",
     "start_time": "2021-07-03T16:47:40.799690Z"
    }
   },
   "outputs": [],
   "source": [
    "y_train.reset_index(drop=True, inplace=True)"
   ]
  },
  {
   "cell_type": "code",
   "execution_count": 47,
   "metadata": {
    "ExecuteTime": {
     "end_time": "2021-07-03T16:47:40.816369Z",
     "start_time": "2021-07-03T16:47:40.808008Z"
    }
   },
   "outputs": [
    {
     "data": {
      "text/plain": [
       "0         0.0\n",
       "1         0.0\n",
       "2         0.0\n",
       "3         0.0\n",
       "4         1.0\n",
       "         ... \n",
       "428670    0.0\n",
       "428671    1.0\n",
       "428672    1.0\n",
       "428673    1.0\n",
       "428674    0.0\n",
       "Name: funding_speed, Length: 428675, dtype: float64"
      ]
     },
     "execution_count": 47,
     "metadata": {},
     "output_type": "execute_result"
    }
   ],
   "source": [
    "y_train"
   ]
  },
  {
   "cell_type": "markdown",
   "metadata": {},
   "source": [
    "## Save processed data"
   ]
  },
  {
   "cell_type": "code",
   "execution_count": 48,
   "metadata": {
    "ExecuteTime": {
     "end_time": "2021-07-03T16:47:52.529574Z",
     "start_time": "2021-07-03T16:47:40.819661Z"
    }
   },
   "outputs": [],
   "source": [
    "X_train.to_csv('/Users/lasayin/Desktop/Springboard/GitHub/Springboard_DS_Capstone2/ProcessedData/X_train.cvs', index=False)\n",
    "X_test.to_csv('/Users/lasayin/Desktop/Springboard/GitHub/Springboard_DS_Capstone2/ProcessedData/X_test.cvs', index=False)\n",
    "y_train.to_csv('/Users/lasayin/Desktop/Springboard/GitHub/Springboard_DS_Capstone2/ProcessedData/y_train.cvs', index=False)\n",
    "y_test.to_csv('/Users/lasayin/Desktop/Springboard/GitHub/Springboard_DS_Capstone2/ProcessedData/y_test.cvs', index=False)"
   ]
  },
  {
   "cell_type": "markdown",
   "metadata": {},
   "source": [
    "## Optimized features and heatmap"
   ]
  },
  {
   "cell_type": "code",
   "execution_count": 51,
   "metadata": {
    "ExecuteTime": {
     "end_time": "2021-07-03T19:42:01.842388Z",
     "start_time": "2021-07-03T19:21:54.253204Z"
    }
   },
   "outputs": [],
   "source": [
    "from sklearn.feature_selection import RFECV\n",
    "from sklearn.linear_model import LogisticRegression\n",
    "lr = LogisticRegression(solver='lbfgs', max_iter=1000)\n",
    "selector = RFECV(lr, cv=5)\n",
    "selector.fit(X_train, y_train)\n",
    "optimized_columns = X_train.columns[selector.support_]"
   ]
  },
  {
   "cell_type": "code",
   "execution_count": 52,
   "metadata": {
    "ExecuteTime": {
     "end_time": "2021-07-03T19:57:15.228804Z",
     "start_time": "2021-07-03T19:57:15.219567Z"
    }
   },
   "outputs": [
    {
     "data": {
      "text/plain": [
       "Index(['loan_amount', 'term_in_months', 'MPI', 'loan_amount_per_month',\n",
       "       'sector_Food', 'sector_Others', 'sector_Retail', 'country_El Salvador',\n",
       "       'country_Kenya', 'country_Others', 'country_Pakistan',\n",
       "       'country_Philippines', 'borrower_genders_female',\n",
       "       'borrower_genders_male', 'borrower_genders_mixed',\n",
       "       'borrower_genders_unknown', 'repayment_interval_bullet',\n",
       "       'repayment_interval_monthly', 'repayment_interval_weekly',\n",
       "       'world_region_Arab States', 'world_region_East Asia and the Pacific',\n",
       "       'world_region_Europe and Central Asia',\n",
       "       'world_region_Latin America and Caribbean',\n",
       "       'world_region_Sub-Saharan Africa', 'posted_season_Fall',\n",
       "       'posted_season_Summer', 'posted_season_Winter',\n",
       "       'partner_id_With_partner', 'tags_With_tag'],\n",
       "      dtype='object')"
      ]
     },
     "execution_count": 52,
     "metadata": {},
     "output_type": "execute_result"
    }
   ],
   "source": [
    "optimized_columns"
   ]
  },
  {
   "cell_type": "code",
   "execution_count": 54,
   "metadata": {
    "ExecuteTime": {
     "end_time": "2021-07-03T19:59:24.843621Z",
     "start_time": "2021-07-03T19:59:21.541922Z"
    }
   },
   "outputs": [
    {
     "data": {
      "text/plain": [
       "<matplotlib.axes._subplots.AxesSubplot at 0x12d2463a0>"
      ]
     },
     "execution_count": 54,
     "metadata": {},
     "output_type": "execute_result"
    },
    {
     "data": {
      "image/png": "[encoded data removed]",
      "text/plain": [
       "<Figure size 720x720 with 2 Axes>"
      ]
     },
     "metadata": {},
     "output_type": "display_data"
    }
   ],
   "source": [
    "_ = plt.subplots(figsize=(10,10))\n",
    "sns.heatmap(X_train.corr())"
   ]
  },
  {
   "cell_type": "code",
   "execution_count": null,
   "metadata": {},
   "outputs": [],
   "source": []
  }
 ],
 "metadata": {
  "hide_input": false,
  "kernelspec": {
   "display_name": "Python 3",
   "language": "python",
   "name": "python3"
  },
  "language_info": {
   "codemirror_mode": {
    "name": "ipython",
    "version": 3
   },
   "file_extension": ".py",
   "mimetype": "text/x-python",
   "name": "python",
   "nbconvert_exporter": "python",
   "pygments_lexer": "ipython3",
   "version": "3.8.3"
  },
  "toc": {
   "base_numbering": 1,
   "nav_menu": {},
   "number_sections": true,
   "sideBar": true,
   "skip_h1_title": false,
   "title_cell": "Table of Contents",
   "title_sidebar": "Contents",
   "toc_cell": true,
   "toc_position": {},
   "toc_section_display": true,
   "toc_window_display": false
  },
  "varInspector": {
   "cols": {
    "lenName": 16,
    "lenType": 16,
    "lenVar": 40
   },
   "kernels_config": {
    "python": {
     "delete_cmd_postfix": "",
     "delete_cmd_prefix": "del ",
     "library": "var_list.py",
     "varRefreshCmd": "print(var_dic_list())"
    },
    "r": {
     "delete_cmd_postfix": ") ",
     "delete_cmd_prefix": "rm(",
     "library": "var_list.r",
     "varRefreshCmd": "cat(var_dic_list()) "
    }
   },
   "types_to_exclude": [
    "module",
    "function",
    "builtin_function_or_method",
    "instance",
    "_Feature"
   ],
   "window_display": false
  }
 },
 "nbformat": 4,
 "nbformat_minor": 4
}
