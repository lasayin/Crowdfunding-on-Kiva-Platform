{
 "cells": [
  {
   "cell_type": "markdown",
   "metadata": {
    "toc": true
   },
   "source": [
    "<h1>Table of Contents<span class=\"tocSkip\"></span></h1>\n",
    "<div class=\"toc\"><ul class=\"toc-item\"><li><span><a href=\"#Load-Data\" data-toc-modified-id=\"Load-Data-1\"><span class=\"toc-item-num\">1&nbsp;&nbsp;</span>Load Data</a></span></li><li><span><a href=\"#Remove-Unnecessary-Columns\" data-toc-modified-id=\"Remove-Unnecessary-Columns-2\"><span class=\"toc-item-num\">2&nbsp;&nbsp;</span>Remove Unnecessary Columns</a></span></li><li><span><a href=\"#Target-feature\" data-toc-modified-id=\"Target-feature-3\"><span class=\"toc-item-num\">3&nbsp;&nbsp;</span>Target feature</a></span></li><li><span><a href=\"#Datetime-feature\" data-toc-modified-id=\"Datetime-feature-4\"><span class=\"toc-item-num\">4&nbsp;&nbsp;</span>Datetime feature</a></span></li><li><span><a href=\"#Categorical-features\" data-toc-modified-id=\"Categorical-features-5\"><span class=\"toc-item-num\">5&nbsp;&nbsp;</span>Categorical features</a></span><ul class=\"toc-item\"><li><span><a href=\"#Partner-id\" data-toc-modified-id=\"Partner-id-5.1\"><span class=\"toc-item-num\">5.1&nbsp;&nbsp;</span>Partner id</a></span></li><li><span><a href=\"#Tags-and-use\" data-toc-modified-id=\"Tags-and-use-5.2\"><span class=\"toc-item-num\">5.2&nbsp;&nbsp;</span>Tags and use</a></span></li><li><span><a href=\"#Sector\" data-toc-modified-id=\"Sector-5.3\"><span class=\"toc-item-num\">5.3&nbsp;&nbsp;</span>Sector</a></span></li><li><span><a href=\"#Country\" data-toc-modified-id=\"Country-5.4\"><span class=\"toc-item-num\">5.4&nbsp;&nbsp;</span>Country</a></span></li><li><span><a href=\"#Create-dummies-for-categorical-variables\" data-toc-modified-id=\"Create-dummies-for-categorical-variables-5.5\"><span class=\"toc-item-num\">5.5&nbsp;&nbsp;</span>Create dummies for categorical variables</a></span></li></ul></li><li><span><a href=\"#Numeric-Features\" data-toc-modified-id=\"Numeric-Features-6\"><span class=\"toc-item-num\">6&nbsp;&nbsp;</span>Numeric Features</a></span><ul class=\"toc-item\"><li><span><a href=\"#Numeric-Features-Distribution\" data-toc-modified-id=\"Numeric-Features-Distribution-6.1\"><span class=\"toc-item-num\">6.1&nbsp;&nbsp;</span>Numeric Features Distribution</a></span></li><li><span><a href=\"#Binning-Numeric-Features\" data-toc-modified-id=\"Binning-Numeric-Features-6.2\"><span class=\"toc-item-num\">6.2&nbsp;&nbsp;</span>Binning Numeric Features</a></span></li><li><span><a href=\"#Scaling-Numeric-Features-with-StandardScaler()\" data-toc-modified-id=\"Scaling-Numeric-Features-with-StandardScaler()-6.3\"><span class=\"toc-item-num\">6.3&nbsp;&nbsp;</span>Scaling Numeric Features with <code>StandardScaler()</code></a></span></li><li><span><a href=\"#Scaling-Numeric-Features-with-MinMaxScaler()\" data-toc-modified-id=\"Scaling-Numeric-Features-with-MinMaxScaler()-6.4\"><span class=\"toc-item-num\">6.4&nbsp;&nbsp;</span>Scaling Numeric Features with <code>MinMaxScaler()</code></a></span></li><li><span><a href=\"#Processing-the-Numeric-Features-Having-No-Extreme-Outliers\" data-toc-modified-id=\"Processing-the-Numeric-Features-Having-No-Extreme-Outliers-6.5\"><span class=\"toc-item-num\">6.5&nbsp;&nbsp;</span>Processing the Numeric Features Having No Extreme Outliers</a></span></li><li><span><a href=\"#Comparing-Accuracy-Scores-with-Logistic-Regression\" data-toc-modified-id=\"Comparing-Accuracy-Scores-with-Logistic-Regression-6.6\"><span class=\"toc-item-num\">6.6&nbsp;&nbsp;</span>Comparing Accuracy Scores with Logistic Regression</a></span></li><li><span><a href=\"#Comparing-Accuracy-Scores-with-Random-Forest\" data-toc-modified-id=\"Comparing-Accuracy-Scores-with-Random-Forest-6.7\"><span class=\"toc-item-num\">6.7&nbsp;&nbsp;</span>Comparing Accuracy Scores with Random Forest</a></span></li><li><span><a href=\"#Comparing-the-Test-Data-Accuracy-Scores-of-Two-Models\" data-toc-modified-id=\"Comparing-the-Test-Data-Accuracy-Scores-of-Two-Models-6.8\"><span class=\"toc-item-num\">6.8&nbsp;&nbsp;</span>Comparing the Test Data Accuracy Scores of Two Models</a></span></li></ul></li><li><span><a href=\"#Feature-Selection\" data-toc-modified-id=\"Feature-Selection-7\"><span class=\"toc-item-num\">7&nbsp;&nbsp;</span>Feature Selection</a></span><ul class=\"toc-item\"><li><span><a href=\"#Heatmap-of-All-the-Features\" data-toc-modified-id=\"Heatmap-of-All-the-Features-7.1\"><span class=\"toc-item-num\">7.1&nbsp;&nbsp;</span>Heatmap of All the Features</a></span></li><li><span><a href=\"#Heatmap-of-the-uncorrelated-Features\" data-toc-modified-id=\"Heatmap-of-the-uncorrelated-Features-7.2\"><span class=\"toc-item-num\">7.2&nbsp;&nbsp;</span>Heatmap of the uncorrelated Features</a></span></li><li><span><a href=\"#Feature-Selection-with-RFECV\" data-toc-modified-id=\"Feature-Selection-with-RFECV-7.3\"><span class=\"toc-item-num\">7.3&nbsp;&nbsp;</span>Feature Selection with RFECV</a></span></li></ul></li><li><span><a href=\"#Comparing-Accuracy-with-Different-Number-of-Features\" data-toc-modified-id=\"Comparing-Accuracy-with-Different-Number-of-Features-8\"><span class=\"toc-item-num\">8&nbsp;&nbsp;</span>Comparing Accuracy with Different Number of Features</a></span></li><li><span><a href=\"#Save-processed-data\" data-toc-modified-id=\"Save-processed-data-9\"><span class=\"toc-item-num\">9&nbsp;&nbsp;</span>Save processed data</a></span></li><li><span><a href=\"#Summary\" data-toc-modified-id=\"Summary-10\"><span class=\"toc-item-num\">10&nbsp;&nbsp;</span>Summary</a></span></li></ul></div>"
   ]
  },
  {
   "cell_type": "code",
   "execution_count": 1,
   "metadata": {
    "ExecuteTime": {
     "end_time": "2021-08-07T18:27:30.271550Z",
     "start_time": "2021-08-07T18:27:27.921852Z"
    }
   },
   "outputs": [],
   "source": [
    "import pandas as pd\n",
    "import numpy as np\n",
    "import matplotlib\n",
    "import matplotlib.pyplot as plt\n",
    "import seaborn as sns\n",
    "from datetime import datetime as dt\n",
    "from sklearn.model_selection import train_test_split\n",
    "from sklearn.model_selection import cross_validate\n",
    "from sklearn.model_selection import GridSearchCV\n",
    "from sklearn.model_selection import cross_val_score\n",
    "from sklearn.preprocessing import StandardScaler\n",
    "from sklearn.preprocessing import MinMaxScaler\n",
    "from sklearn.feature_selection import RFECV\n",
    "from sklearn.ensemble import RandomForestClassifier\n",
    "from sklearn.linear_model import LogisticRegression\n",
    "sns.set()"
   ]
  },
  {
   "cell_type": "markdown",
   "metadata": {},
   "source": [
    "## Load Data"
   ]
  },
  {
   "cell_type": "code",
   "execution_count": 2,
   "metadata": {
    "ExecuteTime": {
     "end_time": "2021-08-07T18:27:35.493362Z",
     "start_time": "2021-08-07T18:27:30.716300Z"
    }
   },
   "outputs": [],
   "source": [
    "loans_df = pd.read_csv('/Users/lasayin/Desktop/Springboard/GitHub/Springboard_DS_Capstone2/ProcessedData/loans_others.cvs',parse_dates=['posted_time', 'funded_time'])"
   ]
  },
  {
   "cell_type": "code",
   "execution_count": 3,
   "metadata": {
    "ExecuteTime": {
     "end_time": "2021-08-07T18:27:42.360244Z",
     "start_time": "2021-08-07T18:27:42.037028Z"
    }
   },
   "outputs": [
    {
     "name": "stdout",
     "output_type": "stream",
     "text": [
      "<class 'pandas.core.frame.DataFrame'>\n",
      "RangeIndex: 612393 entries, 0 to 612392\n",
      "Data columns (total 22 columns):\n",
      " #   Column                 Non-Null Count   Dtype         \n",
      "---  ------                 --------------   -----         \n",
      " 0   id                     612393 non-null  int64         \n",
      " 1   funded_amount          612393 non-null  float64       \n",
      " 2   loan_amount            612393 non-null  float64       \n",
      " 3   activity               612393 non-null  object        \n",
      " 4   sector                 612393 non-null  object        \n",
      " 5   use                    612393 non-null  object        \n",
      " 6   ISO                    612393 non-null  object        \n",
      " 7   country                612393 non-null  object        \n",
      " 8   partner_id             612393 non-null  object        \n",
      " 9   posted_time            612393 non-null  datetime64[ns]\n",
      " 10  funded_time            574603 non-null  datetime64[ns]\n",
      " 11  term_in_months         612393 non-null  float64       \n",
      " 12  lender_count           612393 non-null  int64         \n",
      " 13  tags                   612393 non-null  object        \n",
      " 14  borrower_genders       612393 non-null  object        \n",
      " 15  repayment_interval     612393 non-null  object        \n",
      " 16  funded_days            612393 non-null  float64       \n",
      " 17  world_region           612393 non-null  object        \n",
      " 18  MPI                    612393 non-null  float64       \n",
      " 19  funded_speed           574606 non-null  float64       \n",
      " 20  loan_amount_per_month  612393 non-null  float64       \n",
      " 21  funding_speed          612393 non-null  float64       \n",
      "dtypes: datetime64[ns](2), float64(8), int64(2), object(10)\n",
      "memory usage: 102.8+ MB\n"
     ]
    }
   ],
   "source": [
    "loans_df.info()"
   ]
  },
  {
   "cell_type": "code",
   "execution_count": 4,
   "metadata": {
    "ExecuteTime": {
     "end_time": "2021-08-07T18:27:49.184438Z",
     "start_time": "2021-08-07T18:27:49.128939Z"
    }
   },
   "outputs": [
    {
     "data": {
      "text/html": [
       "<div>\n",
       "<style scoped>\n",
       "    .dataframe tbody tr th:only-of-type {\n",
       "        vertical-align: middle;\n",
       "    }\n",
       "\n",
       "    .dataframe tbody tr th {\n",
       "        vertical-align: top;\n",
       "    }\n",
       "\n",
       "    .dataframe thead th {\n",
       "        text-align: right;\n",
       "    }\n",
       "</style>\n",
       "<table border=\"1\" class=\"dataframe\">\n",
       "  <thead>\n",
       "    <tr style=\"text-align: right;\">\n",
       "      <th></th>\n",
       "      <th>id</th>\n",
       "      <th>funded_amount</th>\n",
       "      <th>loan_amount</th>\n",
       "      <th>activity</th>\n",
       "      <th>sector</th>\n",
       "      <th>use</th>\n",
       "      <th>ISO</th>\n",
       "      <th>country</th>\n",
       "      <th>partner_id</th>\n",
       "      <th>posted_time</th>\n",
       "      <th>...</th>\n",
       "      <th>lender_count</th>\n",
       "      <th>tags</th>\n",
       "      <th>borrower_genders</th>\n",
       "      <th>repayment_interval</th>\n",
       "      <th>funded_days</th>\n",
       "      <th>world_region</th>\n",
       "      <th>MPI</th>\n",
       "      <th>funded_speed</th>\n",
       "      <th>loan_amount_per_month</th>\n",
       "      <th>funding_speed</th>\n",
       "    </tr>\n",
       "  </thead>\n",
       "  <tbody>\n",
       "    <tr>\n",
       "      <th>0</th>\n",
       "      <td>653051</td>\n",
       "      <td>300.0</td>\n",
       "      <td>300.0</td>\n",
       "      <td>Fruits &amp; Vegetables</td>\n",
       "      <td>Food</td>\n",
       "      <td>To buy seasonal, fresh fruits to sell.</td>\n",
       "      <td>PAK</td>\n",
       "      <td>Pakistan</td>\n",
       "      <td>With_partner</td>\n",
       "      <td>2014-01-01 06:12:39</td>\n",
       "      <td>...</td>\n",
       "      <td>12</td>\n",
       "      <td>No_tag</td>\n",
       "      <td>female</td>\n",
       "      <td>irregular</td>\n",
       "      <td>1.162419</td>\n",
       "      <td>South Asia</td>\n",
       "      <td>0.230320</td>\n",
       "      <td>258.1</td>\n",
       "      <td>25.0</td>\n",
       "      <td>258.0</td>\n",
       "    </tr>\n",
       "    <tr>\n",
       "      <th>1</th>\n",
       "      <td>653053</td>\n",
       "      <td>575.0</td>\n",
       "      <td>575.0</td>\n",
       "      <td>Rickshaw</td>\n",
       "      <td>Transportation</td>\n",
       "      <td>to repair and maintain the auto rickshaw used ...</td>\n",
       "      <td>PAK</td>\n",
       "      <td>Pakistan</td>\n",
       "      <td>With_partner</td>\n",
       "      <td>2014-01-01 06:51:08</td>\n",
       "      <td>...</td>\n",
       "      <td>14</td>\n",
       "      <td>No_tag</td>\n",
       "      <td>female</td>\n",
       "      <td>irregular</td>\n",
       "      <td>1.101562</td>\n",
       "      <td>South Asia</td>\n",
       "      <td>0.230320</td>\n",
       "      <td>522.0</td>\n",
       "      <td>52.0</td>\n",
       "      <td>522.0</td>\n",
       "    </tr>\n",
       "    <tr>\n",
       "      <th>2</th>\n",
       "      <td>653068</td>\n",
       "      <td>150.0</td>\n",
       "      <td>150.0</td>\n",
       "      <td>Transportation</td>\n",
       "      <td>Transportation</td>\n",
       "      <td>To repair their old cycle-van and buy another ...</td>\n",
       "      <td>IND</td>\n",
       "      <td>India</td>\n",
       "      <td>With_partner</td>\n",
       "      <td>2014-01-01 09:58:07</td>\n",
       "      <td>...</td>\n",
       "      <td>6</td>\n",
       "      <td>user_favorite, user_favorite</td>\n",
       "      <td>female</td>\n",
       "      <td>bullet</td>\n",
       "      <td>0.252419</td>\n",
       "      <td>South Asia</td>\n",
       "      <td>0.191099</td>\n",
       "      <td>594.3</td>\n",
       "      <td>3.0</td>\n",
       "      <td>594.0</td>\n",
       "    </tr>\n",
       "    <tr>\n",
       "      <th>3</th>\n",
       "      <td>653063</td>\n",
       "      <td>200.0</td>\n",
       "      <td>200.0</td>\n",
       "      <td>Embroidery</td>\n",
       "      <td>Arts</td>\n",
       "      <td>to purchase an embroidery machine and a variet...</td>\n",
       "      <td>PAK</td>\n",
       "      <td>Pakistan</td>\n",
       "      <td>With_partner</td>\n",
       "      <td>2014-01-01 08:03:11</td>\n",
       "      <td>...</td>\n",
       "      <td>8</td>\n",
       "      <td>No_tag</td>\n",
       "      <td>female</td>\n",
       "      <td>irregular</td>\n",
       "      <td>0.206123</td>\n",
       "      <td>South Asia</td>\n",
       "      <td>0.230320</td>\n",
       "      <td>970.3</td>\n",
       "      <td>18.0</td>\n",
       "      <td>970.0</td>\n",
       "    </tr>\n",
       "    <tr>\n",
       "      <th>4</th>\n",
       "      <td>653084</td>\n",
       "      <td>400.0</td>\n",
       "      <td>400.0</td>\n",
       "      <td>Milk Sales</td>\n",
       "      <td>Food</td>\n",
       "      <td>to purchase one buffalo.</td>\n",
       "      <td>PAK</td>\n",
       "      <td>Pakistan</td>\n",
       "      <td>With_partner</td>\n",
       "      <td>2014-01-01 11:53:19</td>\n",
       "      <td>...</td>\n",
       "      <td>16</td>\n",
       "      <td>No_tag</td>\n",
       "      <td>female</td>\n",
       "      <td>monthly</td>\n",
       "      <td>0.309398</td>\n",
       "      <td>South Asia</td>\n",
       "      <td>0.230320</td>\n",
       "      <td>1292.8</td>\n",
       "      <td>29.0</td>\n",
       "      <td>1293.0</td>\n",
       "    </tr>\n",
       "  </tbody>\n",
       "</table>\n",
       "<p>5 rows × 22 columns</p>\n",
       "</div>"
      ],
      "text/plain": [
       "       id  funded_amount  loan_amount             activity          sector  \\\n",
       "0  653051          300.0        300.0  Fruits & Vegetables            Food   \n",
       "1  653053          575.0        575.0             Rickshaw  Transportation   \n",
       "2  653068          150.0        150.0       Transportation  Transportation   \n",
       "3  653063          200.0        200.0           Embroidery            Arts   \n",
       "4  653084          400.0        400.0           Milk Sales            Food   \n",
       "\n",
       "                                                 use  ISO   country  \\\n",
       "0            To buy seasonal, fresh fruits to sell.   PAK  Pakistan   \n",
       "1  to repair and maintain the auto rickshaw used ...  PAK  Pakistan   \n",
       "2  To repair their old cycle-van and buy another ...  IND     India   \n",
       "3  to purchase an embroidery machine and a variet...  PAK  Pakistan   \n",
       "4                           to purchase one buffalo.  PAK  Pakistan   \n",
       "\n",
       "     partner_id         posted_time  ... lender_count  \\\n",
       "0  With_partner 2014-01-01 06:12:39  ...           12   \n",
       "1  With_partner 2014-01-01 06:51:08  ...           14   \n",
       "2  With_partner 2014-01-01 09:58:07  ...            6   \n",
       "3  With_partner 2014-01-01 08:03:11  ...            8   \n",
       "4  With_partner 2014-01-01 11:53:19  ...           16   \n",
       "\n",
       "                           tags  borrower_genders repayment_interval  \\\n",
       "0                        No_tag            female          irregular   \n",
       "1                        No_tag            female          irregular   \n",
       "2  user_favorite, user_favorite            female             bullet   \n",
       "3                        No_tag            female          irregular   \n",
       "4                        No_tag            female            monthly   \n",
       "\n",
       "  funded_days world_region       MPI funded_speed  loan_amount_per_month  \\\n",
       "0    1.162419   South Asia  0.230320        258.1                   25.0   \n",
       "1    1.101562   South Asia  0.230320        522.0                   52.0   \n",
       "2    0.252419   South Asia  0.191099        594.3                    3.0   \n",
       "3    0.206123   South Asia  0.230320        970.3                   18.0   \n",
       "4    0.309398   South Asia  0.230320       1292.8                   29.0   \n",
       "\n",
       "   funding_speed  \n",
       "0          258.0  \n",
       "1          522.0  \n",
       "2          594.0  \n",
       "3          970.0  \n",
       "4         1293.0  \n",
       "\n",
       "[5 rows x 22 columns]"
      ]
     },
     "execution_count": 4,
     "metadata": {},
     "output_type": "execute_result"
    }
   ],
   "source": [
    "loans_df.head()"
   ]
  },
  {
   "cell_type": "markdown",
   "metadata": {},
   "source": [
    "## Remove Unnecessary Columns"
   ]
  },
  {
   "cell_type": "markdown",
   "metadata": {},
   "source": [
    "Several columns will be removed, including the features that\n",
    "* don't affect a loan's funding, e.g., `id`\n",
    "* disclose information from the future, i.e., data leakage, such as `funded_amount`, `funded_time`,`funded_days`, `funded_speed`\n",
    "* contain redundant information, e.g., `ISO`\n",
    "* lead to collinearity issue, e.g., `lender_count`\n",
    "* require a lot of processing to turn into a useful feature, e.g., `activity`\n",
    "\n",
    "All the features mentioned above will be removed"
   ]
  },
  {
   "cell_type": "code",
   "execution_count": 5,
   "metadata": {
    "ExecuteTime": {
     "end_time": "2021-08-07T18:27:55.307564Z",
     "start_time": "2021-08-07T18:27:55.233979Z"
    }
   },
   "outputs": [],
   "source": [
    "loans_df = loans_df.drop(columns=['id', 'funded_amount', 'funded_days', 'funded_speed', 'ISO', 'funded_time', 'lender_count', 'activity'])"
   ]
  },
  {
   "cell_type": "code",
   "execution_count": 6,
   "metadata": {
    "ExecuteTime": {
     "end_time": "2021-08-07T18:27:56.474048Z",
     "start_time": "2021-08-07T18:27:56.231925Z"
    }
   },
   "outputs": [
    {
     "name": "stdout",
     "output_type": "stream",
     "text": [
      "<class 'pandas.core.frame.DataFrame'>\n",
      "RangeIndex: 612393 entries, 0 to 612392\n",
      "Data columns (total 14 columns):\n",
      " #   Column                 Non-Null Count   Dtype         \n",
      "---  ------                 --------------   -----         \n",
      " 0   loan_amount            612393 non-null  float64       \n",
      " 1   sector                 612393 non-null  object        \n",
      " 2   use                    612393 non-null  object        \n",
      " 3   country                612393 non-null  object        \n",
      " 4   partner_id             612393 non-null  object        \n",
      " 5   posted_time            612393 non-null  datetime64[ns]\n",
      " 6   term_in_months         612393 non-null  float64       \n",
      " 7   tags                   612393 non-null  object        \n",
      " 8   borrower_genders       612393 non-null  object        \n",
      " 9   repayment_interval     612393 non-null  object        \n",
      " 10  world_region           612393 non-null  object        \n",
      " 11  MPI                    612393 non-null  float64       \n",
      " 12  loan_amount_per_month  612393 non-null  float64       \n",
      " 13  funding_speed          612393 non-null  float64       \n",
      "dtypes: datetime64[ns](1), float64(5), object(8)\n",
      "memory usage: 65.4+ MB\n"
     ]
    }
   ],
   "source": [
    "loans_df.info()"
   ]
  },
  {
   "cell_type": "code",
   "execution_count": 7,
   "metadata": {
    "ExecuteTime": {
     "end_time": "2021-08-07T18:27:57.449501Z",
     "start_time": "2021-08-07T18:27:57.418066Z"
    },
    "scrolled": true
   },
   "outputs": [
    {
     "data": {
      "text/html": [
       "<div>\n",
       "<style scoped>\n",
       "    .dataframe tbody tr th:only-of-type {\n",
       "        vertical-align: middle;\n",
       "    }\n",
       "\n",
       "    .dataframe tbody tr th {\n",
       "        vertical-align: top;\n",
       "    }\n",
       "\n",
       "    .dataframe thead th {\n",
       "        text-align: right;\n",
       "    }\n",
       "</style>\n",
       "<table border=\"1\" class=\"dataframe\">\n",
       "  <thead>\n",
       "    <tr style=\"text-align: right;\">\n",
       "      <th></th>\n",
       "      <th>loan_amount</th>\n",
       "      <th>sector</th>\n",
       "      <th>use</th>\n",
       "      <th>country</th>\n",
       "      <th>partner_id</th>\n",
       "      <th>posted_time</th>\n",
       "      <th>term_in_months</th>\n",
       "      <th>tags</th>\n",
       "      <th>borrower_genders</th>\n",
       "      <th>repayment_interval</th>\n",
       "      <th>world_region</th>\n",
       "      <th>MPI</th>\n",
       "      <th>loan_amount_per_month</th>\n",
       "      <th>funding_speed</th>\n",
       "    </tr>\n",
       "  </thead>\n",
       "  <tbody>\n",
       "    <tr>\n",
       "      <th>0</th>\n",
       "      <td>300.0</td>\n",
       "      <td>Food</td>\n",
       "      <td>To buy seasonal, fresh fruits to sell.</td>\n",
       "      <td>Pakistan</td>\n",
       "      <td>With_partner</td>\n",
       "      <td>2014-01-01 06:12:39</td>\n",
       "      <td>12.0</td>\n",
       "      <td>No_tag</td>\n",
       "      <td>female</td>\n",
       "      <td>irregular</td>\n",
       "      <td>South Asia</td>\n",
       "      <td>0.23032</td>\n",
       "      <td>25.0</td>\n",
       "      <td>258.0</td>\n",
       "    </tr>\n",
       "  </tbody>\n",
       "</table>\n",
       "</div>"
      ],
      "text/plain": [
       "   loan_amount sector                                      use   country  \\\n",
       "0        300.0   Food  To buy seasonal, fresh fruits to sell.   Pakistan   \n",
       "\n",
       "     partner_id         posted_time  term_in_months    tags borrower_genders  \\\n",
       "0  With_partner 2014-01-01 06:12:39            12.0  No_tag           female   \n",
       "\n",
       "  repayment_interval world_region      MPI  loan_amount_per_month  \\\n",
       "0          irregular   South Asia  0.23032                   25.0   \n",
       "\n",
       "   funding_speed  \n",
       "0          258.0  "
      ]
     },
     "execution_count": 7,
     "metadata": {},
     "output_type": "execute_result"
    }
   ],
   "source": [
    "loans_df.head(1)"
   ]
  },
  {
   "cell_type": "markdown",
   "metadata": {},
   "source": [
    "## Target feature"
   ]
  },
  {
   "cell_type": "code",
   "execution_count": 8,
   "metadata": {
    "ExecuteTime": {
     "end_time": "2021-08-07T18:27:58.477034Z",
     "start_time": "2021-08-07T18:27:58.439319Z"
    }
   },
   "outputs": [
    {
     "data": {
      "text/plain": [
       "count    612393.000000\n",
       "mean        146.612378\n",
       "std        1078.561438\n",
       "min           0.000000\n",
       "25%          20.000000\n",
       "50%          40.000000\n",
       "75%          92.000000\n",
       "max      176327.000000\n",
       "Name: funding_speed, dtype: float64"
      ]
     },
     "execution_count": 8,
     "metadata": {},
     "output_type": "execute_result"
    }
   ],
   "source": [
    "loans_df.funding_speed.describe()"
   ]
  },
  {
   "cell_type": "markdown",
   "metadata": {},
   "source": [
    "This project aims to help Kiva make a judgment on whether a loan can get crowd-funded quickly such that Kiva can make a priority. But how fast is fast? That depends on the situation. If Kiva has sufficient funds, the threshold can be low to accept loans application as many as possible; if the funds are limited, might resulting from the decrease in the number of lenders, the threshold must be high enough to make sure the potential lenders are more motivated to lend.\n",
    "\n",
    "Here, we set the threshold of funding speed at the median, i.e., $40 per day. So the funding speed over 40 will be set as 1, and the funding speed that is less or equal to 40 will be 0."
   ]
  },
  {
   "cell_type": "code",
   "execution_count": 9,
   "metadata": {
    "ExecuteTime": {
     "end_time": "2021-08-07T18:27:59.468531Z",
     "start_time": "2021-08-07T18:27:59.407174Z"
    }
   },
   "outputs": [
    {
     "data": {
      "text/plain": [
       "0.0    307486\n",
       "1.0    304907\n",
       "Name: funding_speed, dtype: int64"
      ]
     },
     "execution_count": 9,
     "metadata": {},
     "output_type": "execute_result"
    }
   ],
   "source": [
    "loans_df.loc[loans_df.funding_speed <= 40, 'funding_speed'] = 0\n",
    "loans_df.loc[loans_df.funding_speed > 40, 'funding_speed'] = 1\n",
    "loans_df.funding_speed.value_counts()"
   ]
  },
  {
   "cell_type": "markdown",
   "metadata": {},
   "source": [
    "## Datetime feature"
   ]
  },
  {
   "cell_type": "code",
   "execution_count": 10,
   "metadata": {
    "ExecuteTime": {
     "end_time": "2021-08-07T18:28:00.449992Z",
     "start_time": "2021-08-07T18:28:00.441844Z"
    }
   },
   "outputs": [
    {
     "data": {
      "text/plain": [
       "0        2014-01-01 06:12:39\n",
       "1        2014-01-01 06:51:08\n",
       "2        2014-01-01 09:58:07\n",
       "3        2014-01-01 08:03:11\n",
       "4        2014-01-01 11:53:19\n",
       "                 ...        \n",
       "612388   2017-06-07 01:44:57\n",
       "612389   2017-06-07 00:35:52\n",
       "612390   2017-06-07 07:22:29\n",
       "612391   2017-06-07 10:59:42\n",
       "612392   2017-06-07 05:55:26\n",
       "Name: posted_time, Length: 612393, dtype: datetime64[ns]"
      ]
     },
     "execution_count": 10,
     "metadata": {},
     "output_type": "execute_result"
    }
   ],
   "source": [
    "loans_df.posted_time"
   ]
  },
  {
   "cell_type": "markdown",
   "metadata": {},
   "source": [
    "We will convert the month of `posted_time`, which is a datetime attribute, to categorical attribute, i.e., season:\n",
    "* Replace December, January, February with Winter\n",
    "* Replace March, April, May with Spring\n",
    "* Replace June, July, August with Summer\n",
    "* Replace September, October, November to Fall"
   ]
  },
  {
   "cell_type": "code",
   "execution_count": 11,
   "metadata": {
    "ExecuteTime": {
     "end_time": "2021-08-07T18:28:01.470233Z",
     "start_time": "2021-08-07T18:28:01.403049Z"
    }
   },
   "outputs": [
    {
     "data": {
      "text/plain": [
       "0         0\n",
       "1         0\n",
       "2         0\n",
       "3         0\n",
       "4         0\n",
       "         ..\n",
       "612388    2\n",
       "612389    2\n",
       "612390    2\n",
       "612391    2\n",
       "612392    2\n",
       "Name: posted_season, Length: 612393, dtype: int64"
      ]
     },
     "execution_count": 11,
     "metadata": {},
     "output_type": "execute_result"
    }
   ],
   "source": [
    "# Convert the month to int\n",
    "loans_df.loc[:, 'posted_season'] = loans_df.posted_time.dt.month%12 // 3\n",
    "\n",
    "loans_df.posted_season"
   ]
  },
  {
   "cell_type": "code",
   "execution_count": 12,
   "metadata": {
    "ExecuteTime": {
     "end_time": "2021-08-07T18:28:02.675657Z",
     "start_time": "2021-08-07T18:28:02.436918Z"
    }
   },
   "outputs": [
    {
     "data": {
      "text/plain": [
       "Spring    185974\n",
       "Winter    151350\n",
       "Fall      138701\n",
       "Summer    136368\n",
       "Name: posted_season, dtype: int64"
      ]
     },
     "execution_count": 12,
     "metadata": {},
     "output_type": "execute_result"
    }
   ],
   "source": [
    "# Convert numaric value to categorical value\n",
    "season = ['Winter', 'Spring', 'Summer', 'Fall']\n",
    "for i in range(4):\n",
    "    loans_df.loc[loans_df.posted_season == i, 'posted_season'] = season[i]\n",
    "\n",
    "# Check the result\n",
    "loans_df.posted_season.value_counts()"
   ]
  },
  {
   "cell_type": "code",
   "execution_count": 13,
   "metadata": {
    "ExecuteTime": {
     "end_time": "2021-08-07T18:28:03.875970Z",
     "start_time": "2021-08-07T18:28:03.670106Z"
    }
   },
   "outputs": [],
   "source": [
    "# Drop the posted_time feature\n",
    "loans_df.drop(columns='posted_time', inplace=True)"
   ]
  },
  {
   "cell_type": "markdown",
   "metadata": {},
   "source": [
    "The number of loans posted in Spring was higher than the other seasons but the difference was not significant."
   ]
  },
  {
   "cell_type": "markdown",
   "metadata": {},
   "source": [
    "## Categorical features"
   ]
  },
  {
   "cell_type": "code",
   "execution_count": 14,
   "metadata": {
    "ExecuteTime": {
     "end_time": "2021-08-07T18:28:06.185125Z",
     "start_time": "2021-08-07T18:28:04.861782Z"
    }
   },
   "outputs": [
    {
     "data": {
      "text/html": [
       "<div>\n",
       "<style scoped>\n",
       "    .dataframe tbody tr th:only-of-type {\n",
       "        vertical-align: middle;\n",
       "    }\n",
       "\n",
       "    .dataframe tbody tr th {\n",
       "        vertical-align: top;\n",
       "    }\n",
       "\n",
       "    .dataframe thead th {\n",
       "        text-align: right;\n",
       "    }\n",
       "</style>\n",
       "<table border=\"1\" class=\"dataframe\">\n",
       "  <thead>\n",
       "    <tr style=\"text-align: right;\">\n",
       "      <th></th>\n",
       "      <th>sector</th>\n",
       "      <th>use</th>\n",
       "      <th>country</th>\n",
       "      <th>partner_id</th>\n",
       "      <th>tags</th>\n",
       "      <th>borrower_genders</th>\n",
       "      <th>repayment_interval</th>\n",
       "      <th>world_region</th>\n",
       "      <th>posted_season</th>\n",
       "    </tr>\n",
       "  </thead>\n",
       "  <tbody>\n",
       "    <tr>\n",
       "      <th>count</th>\n",
       "      <td>612393</td>\n",
       "      <td>612393</td>\n",
       "      <td>612393</td>\n",
       "      <td>612393</td>\n",
       "      <td>612393</td>\n",
       "      <td>612393</td>\n",
       "      <td>612393</td>\n",
       "      <td>612393</td>\n",
       "      <td>612393</td>\n",
       "    </tr>\n",
       "    <tr>\n",
       "      <th>unique</th>\n",
       "      <td>15</td>\n",
       "      <td>382671</td>\n",
       "      <td>70</td>\n",
       "      <td>2</td>\n",
       "      <td>78306</td>\n",
       "      <td>4</td>\n",
       "      <td>4</td>\n",
       "      <td>6</td>\n",
       "      <td>4</td>\n",
       "    </tr>\n",
       "    <tr>\n",
       "      <th>top</th>\n",
       "      <td>Agriculture</td>\n",
       "      <td>to buy a water filter to provide safe drinking...</td>\n",
       "      <td>Philippines</td>\n",
       "      <td>With_partner</td>\n",
       "      <td>No_tag</td>\n",
       "      <td>female</td>\n",
       "      <td>monthly</td>\n",
       "      <td>East Asia and the Pacific</td>\n",
       "      <td>Spring</td>\n",
       "    </tr>\n",
       "    <tr>\n",
       "      <th>freq</th>\n",
       "      <td>169702</td>\n",
       "      <td>4961</td>\n",
       "      <td>156594</td>\n",
       "      <td>604021</td>\n",
       "      <td>159635</td>\n",
       "      <td>443583</td>\n",
       "      <td>309697</td>\n",
       "      <td>213710</td>\n",
       "      <td>185974</td>\n",
       "    </tr>\n",
       "  </tbody>\n",
       "</table>\n",
       "</div>"
      ],
      "text/plain": [
       "             sector                                                use  \\\n",
       "count        612393                                             612393   \n",
       "unique           15                                             382671   \n",
       "top     Agriculture  to buy a water filter to provide safe drinking...   \n",
       "freq         169702                                               4961   \n",
       "\n",
       "            country    partner_id    tags borrower_genders repayment_interval  \\\n",
       "count        612393        612393  612393           612393             612393   \n",
       "unique           70             2   78306                4                  4   \n",
       "top     Philippines  With_partner  No_tag           female            monthly   \n",
       "freq         156594        604021  159635           443583             309697   \n",
       "\n",
       "                     world_region posted_season  \n",
       "count                      612393        612393  \n",
       "unique                          6             4  \n",
       "top     East Asia and the Pacific        Spring  \n",
       "freq                       213710        185974  "
      ]
     },
     "execution_count": 14,
     "metadata": {},
     "output_type": "execute_result"
    }
   ],
   "source": [
    "# Select the categorical features\n",
    "loans_df.select_dtypes(include='object').describe()"
   ]
  },
  {
   "cell_type": "markdown",
   "metadata": {},
   "source": [
    "There are two issues with the categorical features: \n",
    "* The unique values of `use`, `tags`, `sector`, and `country`, are too many to do modeling.\n",
    "* Overwhelming majority of the loans had partners, so `partner_id` will be removed since it did not add any information to each loan application."
   ]
  },
  {
   "cell_type": "markdown",
   "metadata": {},
   "source": [
    "### Partner id"
   ]
  },
  {
   "cell_type": "code",
   "execution_count": 15,
   "metadata": {
    "ExecuteTime": {
     "end_time": "2021-08-07T18:28:07.201956Z",
     "start_time": "2021-08-07T18:28:07.098020Z"
    }
   },
   "outputs": [],
   "source": [
    "# Remove partner id attribute\n",
    "loans_df.drop(columns='partner_id', inplace=True)"
   ]
  },
  {
   "cell_type": "markdown",
   "metadata": {},
   "source": [
    "### Tags and use"
   ]
  },
  {
   "cell_type": "code",
   "execution_count": 16,
   "metadata": {
    "ExecuteTime": {
     "end_time": "2021-08-07T18:28:08.245504Z",
     "start_time": "2021-08-07T18:28:08.134872Z"
    }
   },
   "outputs": [
    {
     "data": {
      "text/plain": [
       "array(['No_tag', 'user_favorite, user_favorite',\n",
       "       '#Elderly, #Woman Owned Biz', ...,\n",
       "       '#Job Creator, #Vegan, #Woman Owned Biz, #Parent, #Schooling, user_favorite',\n",
       "       '#Elderly, #Vegan, #Woman Owned Biz, #Repeat Borrower, #Job Creator',\n",
       "       '#Elderly, #Health and Sanitation, #Technology, #Woman Owned Biz, #Parent, #Biz Durable Asset, user_favorite'],\n",
       "      dtype=object)"
      ]
     },
     "execution_count": 16,
     "metadata": {},
     "output_type": "execute_result"
    }
   ],
   "source": [
    "# Check tags unique values\n",
    "loans_df.tags.unique()"
   ]
  },
  {
   "cell_type": "code",
   "execution_count": 17,
   "metadata": {
    "ExecuteTime": {
     "end_time": "2021-08-07T18:28:09.430463Z",
     "start_time": "2021-08-07T18:28:09.224150Z"
    }
   },
   "outputs": [
    {
     "data": {
      "text/plain": [
       "array(['To buy seasonal, fresh fruits to sell. ',\n",
       "       'to repair and maintain the auto rickshaw used in their business.',\n",
       "       'To repair their old cycle-van and buy another one to rent out as a source of income',\n",
       "       ...,\n",
       "       'to cover the plowing costs and to purchase insecticides for cultivating rice.',\n",
       "       \"to buy fertilizer for her crops, and hire workers to help increase her farm's output.\",\n",
       "       'to buy an ultrasonography machine for her clinic.'], dtype=object)"
      ]
     },
     "execution_count": 17,
     "metadata": {},
     "output_type": "execute_result"
    }
   ],
   "source": [
    "# Check use unique values\n",
    "loans_df.use.unique()"
   ]
  },
  {
   "cell_type": "code",
   "execution_count": 18,
   "metadata": {
    "ExecuteTime": {
     "end_time": "2021-08-07T18:28:10.512962Z",
     "start_time": "2021-08-07T18:28:10.336384Z"
    }
   },
   "outputs": [],
   "source": [
    "# Replace all the loans having tags information with the label With_tag\n",
    "loans_df.loc[loans_df.tags != 'No_tag', 'tags'] = 'With_tag'\n",
    "# Replace all the loans having use information with the label With_use_info\n",
    "loans_df.loc[loans_df.use != 'No_use_info', 'use'] = 'With_use_info'"
   ]
  },
  {
   "cell_type": "code",
   "execution_count": 19,
   "metadata": {
    "ExecuteTime": {
     "end_time": "2021-08-07T18:28:11.545119Z",
     "start_time": "2021-08-07T18:28:11.478536Z"
    }
   },
   "outputs": [
    {
     "data": {
      "text/plain": [
       "With_tag    0.739326\n",
       "No_tag      0.260674\n",
       "Name: tags, dtype: float64"
      ]
     },
     "execution_count": 19,
     "metadata": {},
     "output_type": "execute_result"
    }
   ],
   "source": [
    "# Check the ratio of With_tag loan and No_tag loan\n",
    "loans_df.tags.value_counts(normalize=True)"
   ]
  },
  {
   "cell_type": "code",
   "execution_count": 20,
   "metadata": {
    "ExecuteTime": {
     "end_time": "2021-08-07T18:28:12.538761Z",
     "start_time": "2021-08-07T18:28:12.482721Z"
    }
   },
   "outputs": [
    {
     "data": {
      "text/plain": [
       "With_use_info    0.993623\n",
       "No_use_info      0.006377\n",
       "Name: use, dtype: float64"
      ]
     },
     "execution_count": 20,
     "metadata": {},
     "output_type": "execute_result"
    }
   ],
   "source": [
    "# Check the ratio of With_use_info loan and No_use_info loan\n",
    "loans_df.use.value_counts(normalize=True)"
   ]
  },
  {
   "cell_type": "markdown",
   "metadata": {},
   "source": [
    "`use` will be removed since less than 1% of the loans had no use information. Besides that, `sector` had provided similar but more general information."
   ]
  },
  {
   "cell_type": "code",
   "execution_count": 21,
   "metadata": {
    "ExecuteTime": {
     "end_time": "2021-08-07T18:28:13.882658Z",
     "start_time": "2021-08-07T18:28:13.807828Z"
    }
   },
   "outputs": [],
   "source": [
    "loans_df.drop(columns='use', inplace=True)"
   ]
  },
  {
   "cell_type": "markdown",
   "metadata": {},
   "source": [
    "### Sector"
   ]
  },
  {
   "cell_type": "code",
   "execution_count": 22,
   "metadata": {
    "ExecuteTime": {
     "end_time": "2021-08-07T18:28:15.667231Z",
     "start_time": "2021-08-07T18:28:15.587250Z"
    }
   },
   "outputs": [
    {
     "data": {
      "text/plain": [
       "Agriculture       0.277113\n",
       "Food              0.203578\n",
       "Retail            0.188817\n",
       "Services          0.062607\n",
       "Personal Use      0.056384\n",
       "Housing           0.052292\n",
       "Clothing          0.047385\n",
       "Education         0.038872\n",
       "Transportation    0.023273\n",
       "Arts              0.015972\n",
       "Health            0.013339\n",
       "Manufacturing     0.009463\n",
       "Construction      0.009082\n",
       "Wholesale         0.000957\n",
       "Entertainment     0.000867\n",
       "Name: sector, dtype: float64"
      ]
     },
     "execution_count": 22,
     "metadata": {},
     "output_type": "execute_result"
    }
   ],
   "source": [
    "# Check the proportation of different sectors\n",
    "loans_df.sector.value_counts(normalize=True)"
   ]
  },
  {
   "cell_type": "markdown",
   "metadata": {},
   "source": [
    "The loans under the sectors of Agriculture, Food, and Retail account for more than 75% of all the loans. The 15 sectors will be grouped to Agriculture, Food, Retail, and Others."
   ]
  },
  {
   "cell_type": "code",
   "execution_count": 23,
   "metadata": {
    "ExecuteTime": {
     "end_time": "2021-08-07T18:28:16.805878Z",
     "start_time": "2021-08-07T18:28:16.565536Z"
    }
   },
   "outputs": [
    {
     "data": {
      "text/plain": [
       "Others         0.330492\n",
       "Agriculture    0.277113\n",
       "Food           0.203578\n",
       "Retail         0.188817\n",
       "Name: sector, dtype: float64"
      ]
     },
     "execution_count": 23,
     "metadata": {},
     "output_type": "execute_result"
    }
   ],
   "source": [
    "# Label the sectors, except top three, as 'Others'\n",
    "loans_df.loc[loans_df.sector.apply(lambda x: x not in ['Agriculture', 'Food', 'Retail']), 'sector'] = 'Others'\n",
    "\n",
    "loans_df.sector.value_counts(normalize=True)"
   ]
  },
  {
   "cell_type": "markdown",
   "metadata": {},
   "source": [
    "### Country"
   ]
  },
  {
   "cell_type": "code",
   "execution_count": 24,
   "metadata": {
    "ExecuteTime": {
     "end_time": "2021-08-07T18:28:17.758660Z",
     "start_time": "2021-08-07T18:28:17.685287Z"
    }
   },
   "outputs": [
    {
     "data": {
      "text/plain": [
       "Philippines      0.255708\n",
       "Kenya            0.121110\n",
       "El Salvador      0.063485\n",
       "Cambodia         0.054725\n",
       "Pakistan         0.042358\n",
       "                   ...   \n",
       "Namibia          0.000013\n",
       "Vanuatu          0.000007\n",
       "Afghanistan      0.000003\n",
       "Mauritania       0.000002\n",
       "Cote D'Ivoire    0.000002\n",
       "Name: country, Length: 70, dtype: float64"
      ]
     },
     "execution_count": 24,
     "metadata": {},
     "output_type": "execute_result"
    }
   ],
   "source": [
    "# Check the proportation of different countries\n",
    "loans_df.country.value_counts(normalize=True)"
   ]
  },
  {
   "cell_type": "markdown",
   "metadata": {},
   "source": [
    "The loans from the Top 5 countries, i.e., Philippines, Kenya, El Salvador, Cambodia, and Pakistan, accounted for about 50% of all the loans. The 70 countries will be grouped to Philippines, Kenya, El Salvador, Cambodia, Pakistan, and Others."
   ]
  },
  {
   "cell_type": "code",
   "execution_count": 25,
   "metadata": {
    "ExecuteTime": {
     "end_time": "2021-08-07T18:28:18.941263Z",
     "start_time": "2021-08-07T18:28:18.686103Z"
    }
   },
   "outputs": [
    {
     "data": {
      "text/plain": [
       "Others         0.462613\n",
       "Philippines    0.255708\n",
       "Kenya          0.121110\n",
       "El Salvador    0.063485\n",
       "Cambodia       0.054725\n",
       "Pakistan       0.042358\n",
       "Name: country, dtype: float64"
      ]
     },
     "execution_count": 25,
     "metadata": {},
     "output_type": "execute_result"
    }
   ],
   "source": [
    "# Label the countries, except top five, as 'Others'\n",
    "loans_df.loc[loans_df.country.apply(lambda x: x not in ['Philippines', 'Kenya', 'El Salvador', 'Cambodia', 'Pakistan']), 'country'] = 'Others'\n",
    "\n",
    "loans_df.country.value_counts(normalize=True)"
   ]
  },
  {
   "cell_type": "code",
   "execution_count": 26,
   "metadata": {
    "ExecuteTime": {
     "end_time": "2021-08-07T18:28:20.526730Z",
     "start_time": "2021-08-07T18:28:19.881638Z"
    }
   },
   "outputs": [
    {
     "data": {
      "text/html": [
       "<div>\n",
       "<style scoped>\n",
       "    .dataframe tbody tr th:only-of-type {\n",
       "        vertical-align: middle;\n",
       "    }\n",
       "\n",
       "    .dataframe tbody tr th {\n",
       "        vertical-align: top;\n",
       "    }\n",
       "\n",
       "    .dataframe thead th {\n",
       "        text-align: right;\n",
       "    }\n",
       "</style>\n",
       "<table border=\"1\" class=\"dataframe\">\n",
       "  <thead>\n",
       "    <tr style=\"text-align: right;\">\n",
       "      <th></th>\n",
       "      <th>sector</th>\n",
       "      <th>country</th>\n",
       "      <th>tags</th>\n",
       "      <th>borrower_genders</th>\n",
       "      <th>repayment_interval</th>\n",
       "      <th>world_region</th>\n",
       "      <th>posted_season</th>\n",
       "    </tr>\n",
       "  </thead>\n",
       "  <tbody>\n",
       "    <tr>\n",
       "      <th>count</th>\n",
       "      <td>612393</td>\n",
       "      <td>612393</td>\n",
       "      <td>612393</td>\n",
       "      <td>612393</td>\n",
       "      <td>612393</td>\n",
       "      <td>612393</td>\n",
       "      <td>612393</td>\n",
       "    </tr>\n",
       "    <tr>\n",
       "      <th>unique</th>\n",
       "      <td>4</td>\n",
       "      <td>6</td>\n",
       "      <td>2</td>\n",
       "      <td>4</td>\n",
       "      <td>4</td>\n",
       "      <td>6</td>\n",
       "      <td>4</td>\n",
       "    </tr>\n",
       "    <tr>\n",
       "      <th>top</th>\n",
       "      <td>Others</td>\n",
       "      <td>Others</td>\n",
       "      <td>With_tag</td>\n",
       "      <td>female</td>\n",
       "      <td>monthly</td>\n",
       "      <td>East Asia and the Pacific</td>\n",
       "      <td>Spring</td>\n",
       "    </tr>\n",
       "    <tr>\n",
       "      <th>freq</th>\n",
       "      <td>202391</td>\n",
       "      <td>283301</td>\n",
       "      <td>452758</td>\n",
       "      <td>443583</td>\n",
       "      <td>309697</td>\n",
       "      <td>213710</td>\n",
       "      <td>185974</td>\n",
       "    </tr>\n",
       "  </tbody>\n",
       "</table>\n",
       "</div>"
      ],
      "text/plain": [
       "        sector country      tags borrower_genders repayment_interval  \\\n",
       "count   612393  612393    612393           612393             612393   \n",
       "unique       4       6         2                4                  4   \n",
       "top     Others  Others  With_tag           female            monthly   \n",
       "freq    202391  283301    452758           443583             309697   \n",
       "\n",
       "                     world_region posted_season  \n",
       "count                      612393        612393  \n",
       "unique                          6             4  \n",
       "top     East Asia and the Pacific        Spring  \n",
       "freq                       213710        185974  "
      ]
     },
     "execution_count": 26,
     "metadata": {},
     "output_type": "execute_result"
    }
   ],
   "source": [
    "# Check the results\n",
    "loans_df.select_dtypes(include='object').describe()"
   ]
  },
  {
   "cell_type": "markdown",
   "metadata": {},
   "source": [
    "Now the number of unique values of all the categorical variables are acceptable."
   ]
  },
  {
   "cell_type": "markdown",
   "metadata": {},
   "source": [
    "### Create dummies for categorical variables "
   ]
  },
  {
   "cell_type": "code",
   "execution_count": 27,
   "metadata": {
    "ExecuteTime": {
     "end_time": "2021-08-07T18:28:21.910106Z",
     "start_time": "2021-08-07T18:28:21.422365Z"
    }
   },
   "outputs": [],
   "source": [
    "# Creat dummies for the features with more than two unique values\n",
    "dummy_category = pd.get_dummies(loans_df[\n",
    "    ['sector','country','borrower_genders','repayment_interval','world_region','posted_season']])\n",
    "# Creat dummies for the features with only two unique values\n",
    "dummy_category_drop_first = pd.get_dummies(loans_df['tags'], drop_first=True)\n",
    "# Concat the two dummy dataset\n",
    "dummy_category = pd.concat([dummy_category, dummy_category_drop_first], axis=1)"
   ]
  },
  {
   "cell_type": "code",
   "execution_count": 28,
   "metadata": {
    "ExecuteTime": {
     "end_time": "2021-08-07T18:28:23.957987Z",
     "start_time": "2021-08-07T18:28:23.854439Z"
    }
   },
   "outputs": [
    {
     "data": {
      "text/plain": [
       "Index(['loan_amount', 'term_in_months', 'MPI', 'loan_amount_per_month',\n",
       "       'funding_speed', 'sector_Agriculture', 'sector_Food', 'sector_Others',\n",
       "       'sector_Retail', 'country_Cambodia', 'country_El Salvador',\n",
       "       'country_Kenya', 'country_Others', 'country_Pakistan',\n",
       "       'country_Philippines', 'borrower_genders_female',\n",
       "       'borrower_genders_male', 'borrower_genders_mixed',\n",
       "       'borrower_genders_unknown', 'repayment_interval_bullet',\n",
       "       'repayment_interval_irregular', 'repayment_interval_monthly',\n",
       "       'repayment_interval_weekly', 'world_region_Arab States',\n",
       "       'world_region_East Asia and the Pacific',\n",
       "       'world_region_Europe and Central Asia',\n",
       "       'world_region_Latin America and Caribbean', 'world_region_South Asia',\n",
       "       'world_region_Sub-Saharan Africa', 'posted_season_Fall',\n",
       "       'posted_season_Spring', 'posted_season_Summer', 'posted_season_Winter',\n",
       "       'With_tag'],\n",
       "      dtype='object')"
      ]
     },
     "execution_count": 28,
     "metadata": {},
     "output_type": "execute_result"
    }
   ],
   "source": [
    "# Drop the orginal categorical features from loans dataset\n",
    "loans_df = loans_df.drop(columns=['sector', 'country','tags', 'borrower_genders', 'repayment_interval', 'world_region','posted_season'])\n",
    "# Concat loans dataset and dummy dataset\n",
    "loans_df = pd.concat([loans_df, dummy_category], axis=1)\n",
    "# Check the result\n",
    "loans_df.columns"
   ]
  },
  {
   "cell_type": "code",
   "execution_count": 29,
   "metadata": {
    "ExecuteTime": {
     "end_time": "2021-08-07T18:28:26.344005Z",
     "start_time": "2021-08-07T18:28:26.291173Z"
    }
   },
   "outputs": [
    {
     "data": {
      "text/plain": [
       "Index(['loan_amount', 'term_in_months', 'loan_amount_per_month', 'MPI',\n",
       "       'funding_speed', 'sector_Agriculture', 'sector_Food', 'sector_Others',\n",
       "       'sector_Retail', 'country_Cambodia', 'country_El Salvador',\n",
       "       'country_Kenya', 'country_Others', 'country_Pakistan',\n",
       "       'country_Philippines', 'borrower_genders_female',\n",
       "       'borrower_genders_male', 'borrower_genders_mixed',\n",
       "       'borrower_genders_unknown', 'repayment_interval_bullet',\n",
       "       'repayment_interval_irregular', 'repayment_interval_monthly',\n",
       "       'repayment_interval_weekly', 'world_region_Arab States',\n",
       "       'world_region_East Asia and the Pacific',\n",
       "       'world_region_Europe and Central Asia',\n",
       "       'world_region_Latin America and Caribbean', 'world_region_South Asia',\n",
       "       'world_region_Sub-Saharan Africa', 'posted_season_Fall',\n",
       "       'posted_season_Spring', 'posted_season_Summer', 'posted_season_Winter',\n",
       "       'With_tag'],\n",
       "      dtype='object')"
      ]
     },
     "execution_count": 29,
     "metadata": {},
     "output_type": "execute_result"
    }
   ],
   "source": [
    "# Swap loan_amount_per_month and MPI\n",
    "MPI = loans_df.MPI\n",
    "loans_df.drop(columns='MPI', inplace=True)\n",
    "loans_df.insert(3,'MPI', MPI)\n",
    "# Check result\n",
    "loans_df.columns"
   ]
  },
  {
   "cell_type": "markdown",
   "metadata": {},
   "source": [
    "## Numeric Features"
   ]
  },
  {
   "cell_type": "markdown",
   "metadata": {},
   "source": [
    "### Numeric Features Distribution"
   ]
  },
  {
   "cell_type": "code",
   "execution_count": 30,
   "metadata": {
    "ExecuteTime": {
     "end_time": "2021-08-07T18:28:29.588881Z",
     "start_time": "2021-08-07T18:28:29.561466Z"
    }
   },
   "outputs": [
    {
     "data": {
      "text/plain": [
       "Index(['loan_amount', 'term_in_months', 'loan_amount_per_month', 'MPI',\n",
       "       'funding_speed'],\n",
       "      dtype='object')"
      ]
     },
     "execution_count": 30,
     "metadata": {},
     "output_type": "execute_result"
    }
   ],
   "source": [
    "# Select the numeric features\n",
    "loans_df.select_dtypes(include='float').columns"
   ]
  },
  {
   "cell_type": "code",
   "execution_count": 31,
   "metadata": {
    "ExecuteTime": {
     "end_time": "2021-08-07T18:28:31.583393Z",
     "start_time": "2021-08-07T18:28:31.447193Z"
    }
   },
   "outputs": [
    {
     "data": {
      "text/html": [
       "<div>\n",
       "<style scoped>\n",
       "    .dataframe tbody tr th:only-of-type {\n",
       "        vertical-align: middle;\n",
       "    }\n",
       "\n",
       "    .dataframe tbody tr th {\n",
       "        vertical-align: top;\n",
       "    }\n",
       "\n",
       "    .dataframe thead th {\n",
       "        text-align: right;\n",
       "    }\n",
       "</style>\n",
       "<table border=\"1\" class=\"dataframe\">\n",
       "  <thead>\n",
       "    <tr style=\"text-align: right;\">\n",
       "      <th></th>\n",
       "      <th>loan_amount</th>\n",
       "      <th>term_in_months</th>\n",
       "      <th>MPI</th>\n",
       "      <th>loan_amount_per_month</th>\n",
       "    </tr>\n",
       "  </thead>\n",
       "  <tbody>\n",
       "    <tr>\n",
       "      <th>count</th>\n",
       "      <td>612393.000000</td>\n",
       "      <td>612393.000000</td>\n",
       "      <td>612393.000000</td>\n",
       "      <td>612393.000000</td>\n",
       "    </tr>\n",
       "    <tr>\n",
       "      <th>mean</th>\n",
       "      <td>757.595368</td>\n",
       "      <td>13.579701</td>\n",
       "      <td>0.124440</td>\n",
       "      <td>67.447404</td>\n",
       "    </tr>\n",
       "    <tr>\n",
       "      <th>std</th>\n",
       "      <td>1045.430707</td>\n",
       "      <td>8.617888</td>\n",
       "      <td>0.115893</td>\n",
       "      <td>117.134585</td>\n",
       "    </tr>\n",
       "    <tr>\n",
       "      <th>min</th>\n",
       "      <td>25.000000</td>\n",
       "      <td>1.000000</td>\n",
       "      <td>0.001155</td>\n",
       "      <td>0.000000</td>\n",
       "    </tr>\n",
       "    <tr>\n",
       "      <th>25%</th>\n",
       "      <td>250.000000</td>\n",
       "      <td>8.000000</td>\n",
       "      <td>0.052128</td>\n",
       "      <td>24.000000</td>\n",
       "    </tr>\n",
       "    <tr>\n",
       "      <th>50%</th>\n",
       "      <td>475.000000</td>\n",
       "      <td>13.000000</td>\n",
       "      <td>0.053851</td>\n",
       "      <td>38.000000</td>\n",
       "    </tr>\n",
       "    <tr>\n",
       "      <th>75%</th>\n",
       "      <td>900.000000</td>\n",
       "      <td>14.000000</td>\n",
       "      <td>0.187418</td>\n",
       "      <td>65.000000</td>\n",
       "    </tr>\n",
       "    <tr>\n",
       "      <th>max</th>\n",
       "      <td>100000.000000</td>\n",
       "      <td>158.000000</td>\n",
       "      <td>0.557405</td>\n",
       "      <td>10000.000000</td>\n",
       "    </tr>\n",
       "  </tbody>\n",
       "</table>\n",
       "</div>"
      ],
      "text/plain": [
       "         loan_amount  term_in_months            MPI  loan_amount_per_month\n",
       "count  612393.000000   612393.000000  612393.000000          612393.000000\n",
       "mean      757.595368       13.579701       0.124440              67.447404\n",
       "std      1045.430707        8.617888       0.115893             117.134585\n",
       "min        25.000000        1.000000       0.001155               0.000000\n",
       "25%       250.000000        8.000000       0.052128              24.000000\n",
       "50%       475.000000       13.000000       0.053851              38.000000\n",
       "75%       900.000000       14.000000       0.187418              65.000000\n",
       "max    100000.000000      158.000000       0.557405           10000.000000"
      ]
     },
     "execution_count": 31,
     "metadata": {},
     "output_type": "execute_result"
    }
   ],
   "source": [
    "numeric_feature = loans_df[['loan_amount', 'term_in_months', 'MPI', 'loan_amount_per_month']]\n",
    "numeric_feature.describe()"
   ]
  },
  {
   "cell_type": "code",
   "execution_count": 32,
   "metadata": {
    "ExecuteTime": {
     "end_time": "2021-08-07T18:28:35.363438Z",
     "start_time": "2021-08-07T18:28:33.760937Z"
    }
   },
   "outputs": [
    {
     "data": {
      "image/png": "[encoded data removed]",
      "text/plain": [
       "<Figure size 1152x432 with 4 Axes>"
      ]
     },
     "metadata": {},
     "output_type": "display_data"
    }
   ],
   "source": [
    "import warnings\n",
    "warnings.filterwarnings('ignore')\n",
    "# The numeric features distribution\n",
    "numeric_feature.hist(layout=(2, 2), figsize=(16, 6),sharex=False,sharey=False, bins=50)\n",
    "plt.show(block=False)"
   ]
  },
  {
   "cell_type": "markdown",
   "metadata": {},
   "source": [
    "As we mentioned in EDA, all these numeric feature are right skewed, among which `loan_amount`, `term_in_months`, and `loan_amount_per_month` had extreme outliers, i.e., the values that are greater than 0.75 quartile plus interquartile range."
   ]
  },
  {
   "cell_type": "code",
   "execution_count": 33,
   "metadata": {
    "ExecuteTime": {
     "end_time": "2021-08-07T18:28:38.813117Z",
     "start_time": "2021-08-07T18:28:37.651040Z"
    }
   },
   "outputs": [
    {
     "data": {
      "image/png": "[encoded data removed]",
      "text/plain": [
       "<Figure size 432x288 with 1 Axes>"
      ]
     },
     "metadata": {},
     "output_type": "display_data"
    },
    {
     "name": "stdout",
     "output_type": "stream",
     "text": [
      "For the feature of loan_amount, the data with a value greater than 2850.0 can be considered as extreme outliers.\n"
     ]
    },
    {
     "data": {
      "image/png": "[encoded data removed]",
      "text/plain": [
       "<Figure size 432x288 with 1 Axes>"
      ]
     },
     "metadata": {},
     "output_type": "display_data"
    },
    {
     "name": "stdout",
     "output_type": "stream",
     "text": [
      "For the feature of term_in_months, the data with a value greater than 32.0 can be considered as extreme outliers.\n"
     ]
    },
    {
     "data": {
      "image/png": "[encoded data removed]",
      "text/plain": [
       "<Figure size 432x288 with 1 Axes>"
      ]
     },
     "metadata": {},
     "output_type": "display_data"
    },
    {
     "name": "stdout",
     "output_type": "stream",
     "text": [
      "For the feature of loan_amount_per_month, the data with a value greater than 188.0 can be considered as extreme outliers.\n"
     ]
    },
    {
     "data": {
      "image/png": "[encoded data removed]",
      "text/plain": [
       "<Figure size 432x288 with 1 Axes>"
      ]
     },
     "metadata": {},
     "output_type": "display_data"
    },
    {
     "name": "stdout",
     "output_type": "stream",
     "text": [
      "For the feature of MPI, the data with a value greater than 0.5932897 can be considered as extreme outliers.\n"
     ]
    }
   ],
   "source": [
    "def outlier(columns):\n",
    "# Calculate the extreme outlier and show the box plot\n",
    "    for col in columns:\n",
    "        plt.boxplot(numeric_feature[col])\n",
    "        plt.show()\n",
    "        Q1, Q3 = numeric_feature[col].quantile([0.25, 0.75])\n",
    "        IQR = Q3 - Q1\n",
    "        extreme_outlier = Q3 + 3 * IQR\n",
    "        print('For the feature of {}, the data with a value greater than {} can be considered as extreme outliers.'.format(col,extreme_outlier))\n",
    "\n",
    "# Check the four numeric features \n",
    "outlier(['loan_amount', 'term_in_months', 'loan_amount_per_month', 'MPI'])"
   ]
  },
  {
   "cell_type": "markdown",
   "metadata": {},
   "source": [
    "We will drop all the entries with extreme outliers. Note: the extreme outlier of MPI was higher than the maximum, which meant MPI had no extreme outliers."
   ]
  },
  {
   "cell_type": "code",
   "execution_count": 34,
   "metadata": {
    "ExecuteTime": {
     "end_time": "2021-08-07T18:28:40.751054Z",
     "start_time": "2021-08-07T18:28:40.661812Z"
    }
   },
   "outputs": [
    {
     "name": "stdout",
     "output_type": "stream",
     "text": [
      "554865 entries remained, which accounted for 85.72% of the whole dataset.\n"
     ]
    }
   ],
   "source": [
    "# Drop all the entries which have extreme outliers\n",
    "loans_df_no_out = loans_df[(loans_df.loan_amount_per_month < 188)  & \n",
    "                                   (loans_df.term_in_months < 32) & (loans_df.loan_amount < 2850)]\n",
    "print('{} entries remained, which accounted for {:.2%} of the whole dataset.'.\n",
    "      format(loans_df_no_out.shape[0],loans_df_no_out.shape[0]/647335))"
   ]
  },
  {
   "cell_type": "code",
   "execution_count": 35,
   "metadata": {
    "ExecuteTime": {
     "end_time": "2021-08-07T18:28:45.018168Z",
     "start_time": "2021-08-07T18:28:43.809688Z"
    }
   },
   "outputs": [
    {
     "data": {
      "image/png": "[encoded data removed]",
      "text/plain": [
       "<Figure size 1152x432 with 4 Axes>"
      ]
     },
     "metadata": {},
     "output_type": "display_data"
    }
   ],
   "source": [
    "import warnings\n",
    "warnings.filterwarnings('ignore')\n",
    "# The numeric features distribution without extreme outliers\n",
    "_ = loans_df_no_out[['loan_amount', 'term_in_months', 'loan_amount_per_month','MPI']].hist(\n",
    "    layout=(2, 2), figsize=(16, 6),sharex=False,sharey=False, bins=50)"
   ]
  },
  {
   "cell_type": "code",
   "execution_count": 36,
   "metadata": {
    "ExecuteTime": {
     "end_time": "2021-08-07T18:28:47.935608Z",
     "start_time": "2021-08-07T18:28:47.825864Z"
    }
   },
   "outputs": [
    {
     "data": {
      "text/html": [
       "<div>\n",
       "<style scoped>\n",
       "    .dataframe tbody tr th:only-of-type {\n",
       "        vertical-align: middle;\n",
       "    }\n",
       "\n",
       "    .dataframe tbody tr th {\n",
       "        vertical-align: top;\n",
       "    }\n",
       "\n",
       "    .dataframe thead th {\n",
       "        text-align: right;\n",
       "    }\n",
       "</style>\n",
       "<table border=\"1\" class=\"dataframe\">\n",
       "  <thead>\n",
       "    <tr style=\"text-align: right;\">\n",
       "      <th></th>\n",
       "      <th>loan_amount</th>\n",
       "      <th>term_in_months</th>\n",
       "      <th>loan_amount_per_month</th>\n",
       "      <th>MPI</th>\n",
       "    </tr>\n",
       "  </thead>\n",
       "  <tbody>\n",
       "    <tr>\n",
       "      <th>count</th>\n",
       "      <td>554865.000000</td>\n",
       "      <td>554865.000000</td>\n",
       "      <td>554865.000000</td>\n",
       "      <td>554865.000000</td>\n",
       "    </tr>\n",
       "    <tr>\n",
       "      <th>mean</th>\n",
       "      <td>563.844313</td>\n",
       "      <td>12.623380</td>\n",
       "      <td>46.089031</td>\n",
       "      <td>0.120911</td>\n",
       "    </tr>\n",
       "    <tr>\n",
       "      <th>std</th>\n",
       "      <td>436.226359</td>\n",
       "      <td>5.225822</td>\n",
       "      <td>32.939432</td>\n",
       "      <td>0.112370</td>\n",
       "    </tr>\n",
       "    <tr>\n",
       "      <th>min</th>\n",
       "      <td>25.000000</td>\n",
       "      <td>1.000000</td>\n",
       "      <td>1.000000</td>\n",
       "      <td>0.001155</td>\n",
       "    </tr>\n",
       "    <tr>\n",
       "      <th>25%</th>\n",
       "      <td>250.000000</td>\n",
       "      <td>8.000000</td>\n",
       "      <td>23.000000</td>\n",
       "      <td>0.052128</td>\n",
       "    </tr>\n",
       "    <tr>\n",
       "      <th>50%</th>\n",
       "      <td>425.000000</td>\n",
       "      <td>13.000000</td>\n",
       "      <td>36.000000</td>\n",
       "      <td>0.052128</td>\n",
       "    </tr>\n",
       "    <tr>\n",
       "      <th>75%</th>\n",
       "      <td>750.000000</td>\n",
       "      <td>14.000000</td>\n",
       "      <td>58.000000</td>\n",
       "      <td>0.187418</td>\n",
       "    </tr>\n",
       "    <tr>\n",
       "      <th>max</th>\n",
       "      <td>2825.000000</td>\n",
       "      <td>31.000000</td>\n",
       "      <td>187.000000</td>\n",
       "      <td>0.557405</td>\n",
       "    </tr>\n",
       "  </tbody>\n",
       "</table>\n",
       "</div>"
      ],
      "text/plain": [
       "         loan_amount  term_in_months  loan_amount_per_month            MPI\n",
       "count  554865.000000   554865.000000          554865.000000  554865.000000\n",
       "mean      563.844313       12.623380              46.089031       0.120911\n",
       "std       436.226359        5.225822              32.939432       0.112370\n",
       "min        25.000000        1.000000               1.000000       0.001155\n",
       "25%       250.000000        8.000000              23.000000       0.052128\n",
       "50%       425.000000       13.000000              36.000000       0.052128\n",
       "75%       750.000000       14.000000              58.000000       0.187418\n",
       "max      2825.000000       31.000000             187.000000       0.557405"
      ]
     },
     "execution_count": 36,
     "metadata": {},
     "output_type": "execute_result"
    }
   ],
   "source": [
    "loans_df_no_out[['loan_amount', 'term_in_months', 'loan_amount_per_month','MPI']].describe()"
   ]
  },
  {
   "cell_type": "markdown",
   "metadata": {},
   "source": [
    "The entries without extreme outliers account for about 88% of all the entries."
   ]
  },
  {
   "cell_type": "markdown",
   "metadata": {},
   "source": [
    "There are three different ways to process numeric attributes: \n",
    "* binning numeric attributes and convert them to categorical features\n",
    "* scaling numeric features with `MinMaxScaler()`\n",
    "* scaling numeric features with `StandardScaler()`\n",
    "\n",
    "We will handle the numeric features of the original dataset that had all the entries, including the entries with extreme outliers, and the dataset that had no extreme values. For each dataset, we will use different methods mentioned above and compare the accuracy scores. "
   ]
  },
  {
   "cell_type": "markdown",
   "metadata": {},
   "source": [
    "### Binning Numeric Features"
   ]
  },
  {
   "cell_type": "code",
   "execution_count": 37,
   "metadata": {
    "ExecuteTime": {
     "end_time": "2021-08-07T18:28:50.767436Z",
     "start_time": "2021-08-07T18:28:50.676080Z"
    }
   },
   "outputs": [],
   "source": [
    "# Bin loan_amount\n",
    "cut_points = [25,250,475,900,100001]\n",
    "label_names = [\"0~25Q\",\"25Q~50Q\",\"50Q~75Q\",'75Q+']\n",
    "loans_df[\"loan_amount_cate\"] = pd.cut(\n",
    "    x=loans_df[\"loan_amount\"],bins=cut_points,labels=label_names)\n",
    "\n",
    "# Bin term_in_months\n",
    "cut_points = [1,8,13,14,159]\n",
    "label_names = [\"0~25Q\",\"25Q~50Q\",\"50Q~75Q\",'75Q+']\n",
    "loans_df[\"term_in_months_cate\"] = pd.cut(\n",
    "    x=loans_df[\"term_in_months\"],bins=cut_points,labels=label_names)\n",
    "\n",
    "# Bin loan_amount_per_month\n",
    "cut_points = [0,24,38,65,10001]\n",
    "label_names = [\"0~25Q\",\"25Q~50Q\",\"50Q~75Q\",'75Q+']\n",
    "loans_df[\"loan_amount_per_month_cate\"] = pd.cut(\n",
    "    x=loans_df[\"loan_amount_per_month\"],bins=cut_points,labels=label_names)\n",
    "\n",
    "# Bin MPI\n",
    "cut_points = [0, 0.1, 0.6]\n",
    "label_names = ['less_than_0.1', 'more_than_0.1']\n",
    "loans_df[\"MPI_cate\"] = pd.cut(x=loans_df['MPI'],bins=cut_points,labels=label_names)"
   ]
  },
  {
   "cell_type": "code",
   "execution_count": 38,
   "metadata": {
    "ExecuteTime": {
     "end_time": "2021-08-07T18:28:53.796226Z",
     "start_time": "2021-08-07T18:28:53.685668Z"
    }
   },
   "outputs": [
    {
     "data": {
      "text/plain": [
       "Index(['loan_amount', 'term_in_months', 'loan_amount_per_month', 'MPI',\n",
       "       'funding_speed', 'sector_Agriculture', 'sector_Food', 'sector_Others',\n",
       "       'sector_Retail', 'country_Cambodia', 'country_El Salvador',\n",
       "       'country_Kenya', 'country_Others', 'country_Pakistan',\n",
       "       'country_Philippines', 'borrower_genders_female',\n",
       "       'borrower_genders_male', 'borrower_genders_mixed',\n",
       "       'borrower_genders_unknown', 'repayment_interval_bullet',\n",
       "       'repayment_interval_irregular', 'repayment_interval_monthly',\n",
       "       'repayment_interval_weekly', 'world_region_Arab States',\n",
       "       'world_region_East Asia and the Pacific',\n",
       "       'world_region_Europe and Central Asia',\n",
       "       'world_region_Latin America and Caribbean', 'world_region_South Asia',\n",
       "       'world_region_Sub-Saharan Africa', 'posted_season_Fall',\n",
       "       'posted_season_Spring', 'posted_season_Summer', 'posted_season_Winter',\n",
       "       'With_tag', 'loan_amount_cate_0~25Q', 'loan_amount_cate_25Q~50Q',\n",
       "       'loan_amount_cate_50Q~75Q', 'loan_amount_cate_75Q+',\n",
       "       'term_in_months_cate_0~25Q', 'term_in_months_cate_25Q~50Q',\n",
       "       'term_in_months_cate_50Q~75Q', 'term_in_months_cate_75Q+',\n",
       "       'loan_amount_per_month_cate_0~25Q',\n",
       "       'loan_amount_per_month_cate_25Q~50Q',\n",
       "       'loan_amount_per_month_cate_50Q~75Q', 'loan_amount_per_month_cate_75Q+',\n",
       "       'MPI_cate_less_than_0.1', 'MPI_cate_more_than_0.1'],\n",
       "      dtype='object')"
      ]
     },
     "execution_count": 38,
     "metadata": {},
     "output_type": "execute_result"
    }
   ],
   "source": [
    "# Create dummy\n",
    "dummy_category = pd.get_dummies(loans_df[\n",
    "    ['loan_amount_cate', 'term_in_months_cate', 'loan_amount_per_month_cate', 'MPI_cate']])\n",
    "# Drop the categorical features\n",
    "loans_df = loans_df.drop(\n",
    "    columns=['loan_amount_cate', 'term_in_months_cate', 'loan_amount_per_month_cate', 'MPI_cate'])\n",
    "# Concat the two datasets\n",
    "loans_df = pd.concat([loans_df, dummy_category], axis=1)\n",
    "# Check the result\n",
    "loans_df.columns"
   ]
  },
  {
   "cell_type": "markdown",
   "metadata": {},
   "source": [
    "Here, to compare the performance of the different methods, we will do train/test split for modeling"
   ]
  },
  {
   "cell_type": "code",
   "execution_count": 39,
   "metadata": {
    "ExecuteTime": {
     "end_time": "2021-08-07T18:28:56.873111Z",
     "start_time": "2021-08-07T18:28:56.560976Z"
    }
   },
   "outputs": [],
   "source": [
    "X = loans_df.drop(columns='funding_speed')\n",
    "y = loans_df.funding_speed\n",
    "X_train, X_test, y_train, y_test = train_test_split(X, y, test_size=0.3, random_state=42)"
   ]
  },
  {
   "cell_type": "code",
   "execution_count": 40,
   "metadata": {
    "ExecuteTime": {
     "end_time": "2021-08-07T18:29:01.902265Z",
     "start_time": "2021-08-07T18:29:01.874745Z"
    }
   },
   "outputs": [],
   "source": [
    "# Drop all the numeric feature\n",
    "numeric = ['loan_amount','term_in_months', 'loan_amount_per_month', 'MPI']\n",
    "X_tr_bin = X_train.drop(columns=numeric)\n",
    "X_te_bin = X_test.drop(columns=numeric) "
   ]
  },
  {
   "cell_type": "markdown",
   "metadata": {},
   "source": [
    "### Scaling Numeric Features with `StandardScaler()`"
   ]
  },
  {
   "cell_type": "code",
   "execution_count": 41,
   "metadata": {
    "ExecuteTime": {
     "end_time": "2021-08-07T18:29:07.357025Z",
     "start_time": "2021-08-07T18:29:07.331359Z"
    }
   },
   "outputs": [],
   "source": [
    "# Drop all the categorized numeric features\n",
    "cate_num = ['loan_amount_cate_0~25Q', 'loan_amount_cate_25Q~50Q',\n",
    "       'loan_amount_cate_50Q~75Q', 'loan_amount_cate_75Q+',\n",
    "       'term_in_months_cate_0~25Q', 'term_in_months_cate_25Q~50Q',\n",
    "       'term_in_months_cate_50Q~75Q', 'term_in_months_cate_75Q+',\n",
    "       'loan_amount_per_month_cate_0~25Q',\n",
    "       'loan_amount_per_month_cate_25Q~50Q',\n",
    "       'loan_amount_per_month_cate_50Q~75Q', 'loan_amount_per_month_cate_75Q+',\n",
    "       'MPI_cate_less_than_0.1', 'MPI_cate_more_than_0.1']\n",
    "X_tr_num = X_train.drop(columns=cate_num)\n",
    "X_te_num = X_test.drop(columns=cate_num) "
   ]
  },
  {
   "cell_type": "code",
   "execution_count": 42,
   "metadata": {
    "ExecuteTime": {
     "end_time": "2021-08-07T18:29:14.318687Z",
     "start_time": "2021-08-07T18:29:13.828209Z"
    }
   },
   "outputs": [],
   "source": [
    "# Scale numerical features with StandardScaler()\n",
    "X_tr_sd, X_te_sd = X_tr_num, X_te_num\n",
    "\n",
    "scaler = StandardScaler() \n",
    "X_tr_sd = pd.DataFrame(scaler.fit_transform(X_tr_sd), columns=X_tr_sd.columns)\n",
    "X_te_sd = pd.DataFrame(scaler.transform(X_te_sd), columns=X_te_sd.columns)"
   ]
  },
  {
   "cell_type": "markdown",
   "metadata": {},
   "source": [
    "### Scaling Numeric Features with `MinMaxScaler()`"
   ]
  },
  {
   "cell_type": "code",
   "execution_count": 43,
   "metadata": {
    "ExecuteTime": {
     "end_time": "2021-08-07T18:29:22.742400Z",
     "start_time": "2021-08-07T18:29:22.420955Z"
    }
   },
   "outputs": [],
   "source": [
    "# Scale numerical features with MinMaxScaler()\n",
    "X_tr_mm, X_te_mm = X_tr_num, X_te_num\n",
    "\n",
    "scaler = MinMaxScaler() \n",
    "X_tr_mm = pd.DataFrame(scaler.fit_transform(X_tr_mm), columns=X_tr_mm.columns)\n",
    "X_te_mm = pd.DataFrame(scaler.transform(X_te_mm), columns=X_te_mm.columns)"
   ]
  },
  {
   "cell_type": "markdown",
   "metadata": {},
   "source": [
    "### Processing the Numeric Features Having No Extreme Outliers"
   ]
  },
  {
   "cell_type": "code",
   "execution_count": 44,
   "metadata": {
    "ExecuteTime": {
     "end_time": "2021-08-07T18:29:32.539338Z",
     "start_time": "2021-08-07T18:29:32.456359Z"
    }
   },
   "outputs": [],
   "source": [
    "# Bin loan_amount\n",
    "cut_points = [25,250,475,750,2827]\n",
    "label_names = [\"0~25Q\",\"25Q~50Q\",\"50Q~75Q\",'75Q+']\n",
    "loans_df_no_out[\"loan_amount_cate\"] = pd.cut(\n",
    "    x=loans_df_no_out[\"loan_amount\"],bins=cut_points,labels=label_names)\n",
    "\n",
    "# Bin term_in_months\n",
    "cut_points = [1,8,13,14,32]\n",
    "label_names = [\"0~25Q\",\"25Q~50Q\",\"50Q~75Q\",'75Q+']\n",
    "loans_df_no_out[\"term_in_months_cate\"] = pd.cut(\n",
    "    x=loans_df_no_out[\"term_in_months\"],bins=cut_points,labels=label_names)\n",
    "\n",
    "# Bin loan_amount_per_month\n",
    "cut_points = [0,24,38,58,188]\n",
    "label_names = [\"0~25Q\",\"25Q~50Q\",\"50Q~75Q\",'75Q+']\n",
    "loans_df_no_out[\"loan_amount_per_month_cate\"] = pd.cut(\n",
    "    x=loans_df_no_out[\"loan_amount_per_month\"],bins=cut_points,labels=label_names)\n",
    "\n",
    "# Bin MPI\n",
    "cut_points = [0, 0.1, 0.6]\n",
    "label_names = ['less_than_0.1', 'more_than_0.1']\n",
    "loans_df_no_out[\"MPI_cate\"] = pd.cut(x=loans_df_no_out['MPI'],bins=cut_points,labels=label_names)"
   ]
  },
  {
   "cell_type": "code",
   "execution_count": 45,
   "metadata": {
    "ExecuteTime": {
     "end_time": "2021-08-07T18:29:42.852363Z",
     "start_time": "2021-08-07T18:29:42.743555Z"
    }
   },
   "outputs": [
    {
     "data": {
      "text/plain": [
       "Index(['loan_amount', 'term_in_months', 'loan_amount_per_month', 'MPI',\n",
       "       'funding_speed', 'sector_Agriculture', 'sector_Food', 'sector_Others',\n",
       "       'sector_Retail', 'country_Cambodia', 'country_El Salvador',\n",
       "       'country_Kenya', 'country_Others', 'country_Pakistan',\n",
       "       'country_Philippines', 'borrower_genders_female',\n",
       "       'borrower_genders_male', 'borrower_genders_mixed',\n",
       "       'borrower_genders_unknown', 'repayment_interval_bullet',\n",
       "       'repayment_interval_irregular', 'repayment_interval_monthly',\n",
       "       'repayment_interval_weekly', 'world_region_Arab States',\n",
       "       'world_region_East Asia and the Pacific',\n",
       "       'world_region_Europe and Central Asia',\n",
       "       'world_region_Latin America and Caribbean', 'world_region_South Asia',\n",
       "       'world_region_Sub-Saharan Africa', 'posted_season_Fall',\n",
       "       'posted_season_Spring', 'posted_season_Summer', 'posted_season_Winter',\n",
       "       'With_tag', 'loan_amount_cate_0~25Q', 'loan_amount_cate_25Q~50Q',\n",
       "       'loan_amount_cate_50Q~75Q', 'loan_amount_cate_75Q+',\n",
       "       'term_in_months_cate_0~25Q', 'term_in_months_cate_25Q~50Q',\n",
       "       'term_in_months_cate_50Q~75Q', 'term_in_months_cate_75Q+',\n",
       "       'loan_amount_per_month_cate_0~25Q',\n",
       "       'loan_amount_per_month_cate_25Q~50Q',\n",
       "       'loan_amount_per_month_cate_50Q~75Q', 'loan_amount_per_month_cate_75Q+',\n",
       "       'MPI_cate_less_than_0.1', 'MPI_cate_more_than_0.1'],\n",
       "      dtype='object')"
      ]
     },
     "execution_count": 45,
     "metadata": {},
     "output_type": "execute_result"
    }
   ],
   "source": [
    "# Create dummy\n",
    "dummy_category = pd.get_dummies(loans_df_no_out[\n",
    "    ['loan_amount_cate', 'term_in_months_cate', 'loan_amount_per_month_cate', 'MPI_cate']])\n",
    "# Drop the categorical features\n",
    "loans_df_no_out = loans_df_no_out.drop(\n",
    "    columns=['loan_amount_cate', 'term_in_months_cate', 'loan_amount_per_month_cate', 'MPI_cate'])\n",
    "# Concat the two datasets\n",
    "loans_df_no_out = pd.concat([loans_df_no_out, dummy_category], axis=1)\n",
    "# Check the result\n",
    "loans_df_no_out.columns"
   ]
  },
  {
   "cell_type": "code",
   "execution_count": 46,
   "metadata": {
    "ExecuteTime": {
     "end_time": "2021-08-07T18:29:52.788447Z",
     "start_time": "2021-08-07T18:29:52.553375Z"
    }
   },
   "outputs": [],
   "source": [
    "# Split dataset that had no extreme outliers\n",
    "X_no_out = loans_df_no_out.drop(columns='funding_speed')\n",
    "y_no_out = loans_df_no_out.funding_speed\n",
    "X_tr_no_out, X_te_no_out, y_tr_no_out, y_te_no_out = train_test_split(\n",
    "    X_no_out, y_no_out, test_size=0.3, random_state=42)"
   ]
  },
  {
   "cell_type": "code",
   "execution_count": 47,
   "metadata": {
    "ExecuteTime": {
     "end_time": "2021-08-07T18:30:06.451141Z",
     "start_time": "2021-08-07T18:30:05.696133Z"
    }
   },
   "outputs": [],
   "source": [
    "# Drop all numerical features for binning\n",
    "X_tr_no_out_bin = X_tr_no_out.drop(columns=numeric)\n",
    "X_te_no_out_bin = X_te_no_out.drop(columns=numeric) \n",
    "\n",
    "# Drop all the categorized numeric features for scaling\n",
    "X_tr_no_out_num = X_tr_no_out.drop(columns=cate_num)\n",
    "X_te_no_out_num = X_te_no_out.drop(columns=cate_num)\n",
    "\n",
    "# Scale numerical features with StandardScaler()\n",
    "X_tr_no_out_sd, X_te_no_out_sd = X_tr_no_out_num, X_te_no_out_num\n",
    "scaler = StandardScaler() \n",
    "X_tr_no_out_sd = pd.DataFrame(scaler.fit_transform(X_tr_no_out_sd), columns=X_tr_no_out_sd.columns)\n",
    "X_te_no_out_sd = pd.DataFrame(scaler.transform(X_te_no_out_sd), columns=X_te_no_out_sd.columns)\n",
    "\n",
    "# Scale numerical features with MinMaxScaler()\n",
    "X_tr_no_out_mm, X_te_no_out_mm = X_tr_no_out_num, X_te_no_out_num\n",
    "scaler = MinMaxScaler() \n",
    "X_tr_no_out_mm = pd.DataFrame(scaler.fit_transform(X_tr_no_out_mm), columns=X_tr_no_out_mm.columns)\n",
    "X_te_no_out_mm = pd.DataFrame(scaler.transform(X_te_no_out_mm), columns=X_te_no_out_mm.columns)\n"
   ]
  },
  {
   "cell_type": "markdown",
   "metadata": {},
   "source": [
    "### Comparing Accuracy Scores with Logistic Regression"
   ]
  },
  {
   "cell_type": "code",
   "execution_count": 48,
   "metadata": {
    "ExecuteTime": {
     "end_time": "2021-08-07T18:37:25.708078Z",
     "start_time": "2021-08-07T18:30:22.854655Z"
    }
   },
   "outputs": [],
   "source": [
    "# Calculate accuracy scores of train data and test data\n",
    "X_train_list = [X_tr_bin, X_tr_sd, X_tr_mm, X_tr_no_out_bin, X_tr_no_out_sd, X_tr_no_out_mm]\n",
    "X_test_list = [X_te_bin, X_te_sd, X_te_mm, X_te_no_out_bin, X_te_no_out_sd, X_te_no_out_mm]\n",
    "y_train_list = [y_train, y_train, y_train, y_tr_no_out, y_tr_no_out, y_tr_no_out]\n",
    "y_test_list = [y_test, y_test, y_test, y_te_no_out, y_te_no_out, y_te_no_out]\n",
    "\n",
    "score_accu_tr_list_lr = []\n",
    "score_accu_te_list_lr = []\n",
    "for i in range(len(X_train_list)):\n",
    "    # Initial classfier\n",
    "    lr = LogisticRegression(random_state=1, max_iter=500)\n",
    "    lr.fit(X_train_list[i], y_train_list[i])\n",
    "    # Caluculate accuracy score\n",
    "    score_accu_tr= cross_val_score(lr,X_train_list[i],y_train_list[i],cv=5,scoring='accuracy')\n",
    "    score_accu_te= cross_val_score(lr,X_test_list[i],y_test_list[i],cv=5,scoring='accuracy')\n",
    "    score_accu_tr_list_lr.append(score_accu_tr.mean().round(3))\n",
    "    score_accu_te_list_lr.append(score_accu_te.mean().round(3))"
   ]
  },
  {
   "cell_type": "code",
   "execution_count": 49,
   "metadata": {
    "ExecuteTime": {
     "end_time": "2021-08-07T18:37:50.091829Z",
     "start_time": "2021-08-07T18:37:50.055755Z"
    }
   },
   "outputs": [
    {
     "data": {
      "text/html": [
       "<div>\n",
       "<style scoped>\n",
       "    .dataframe tbody tr th:only-of-type {\n",
       "        vertical-align: middle;\n",
       "    }\n",
       "\n",
       "    .dataframe tbody tr th {\n",
       "        vertical-align: top;\n",
       "    }\n",
       "\n",
       "    .dataframe thead th {\n",
       "        text-align: right;\n",
       "    }\n",
       "</style>\n",
       "<table border=\"1\" class=\"dataframe\">\n",
       "  <thead>\n",
       "    <tr style=\"text-align: right;\">\n",
       "      <th></th>\n",
       "      <th>Method</th>\n",
       "      <th>Accuracy_train</th>\n",
       "      <th>Accuracy_test</th>\n",
       "    </tr>\n",
       "  </thead>\n",
       "  <tbody>\n",
       "    <tr>\n",
       "      <th>0</th>\n",
       "      <td>Binning</td>\n",
       "      <td>0.729</td>\n",
       "      <td>0.729</td>\n",
       "    </tr>\n",
       "    <tr>\n",
       "      <th>1</th>\n",
       "      <td>Scaling_SD</td>\n",
       "      <td>0.728</td>\n",
       "      <td>0.730</td>\n",
       "    </tr>\n",
       "    <tr>\n",
       "      <th>2</th>\n",
       "      <td>Scaling_MM</td>\n",
       "      <td>0.718</td>\n",
       "      <td>0.712</td>\n",
       "    </tr>\n",
       "    <tr>\n",
       "      <th>3</th>\n",
       "      <td>Binning_No_Extreme_Outliers</td>\n",
       "      <td>0.718</td>\n",
       "      <td>0.718</td>\n",
       "    </tr>\n",
       "    <tr>\n",
       "      <th>4</th>\n",
       "      <td>Scaling_SD_No_Extreme_Outliers</td>\n",
       "      <td>0.716</td>\n",
       "      <td>0.718</td>\n",
       "    </tr>\n",
       "    <tr>\n",
       "      <th>5</th>\n",
       "      <td>Scaling_MM_No_Extreme_Outliers</td>\n",
       "      <td>0.716</td>\n",
       "      <td>0.717</td>\n",
       "    </tr>\n",
       "  </tbody>\n",
       "</table>\n",
       "</div>"
      ],
      "text/plain": [
       "                           Method  Accuracy_train  Accuracy_test\n",
       "0                         Binning           0.729          0.729\n",
       "1                      Scaling_SD           0.728          0.730\n",
       "2                      Scaling_MM           0.718          0.712\n",
       "3     Binning_No_Extreme_Outliers           0.718          0.718\n",
       "4  Scaling_SD_No_Extreme_Outliers           0.716          0.718\n",
       "5  Scaling_MM_No_Extreme_Outliers           0.716          0.717"
      ]
     },
     "execution_count": 49,
     "metadata": {},
     "output_type": "execute_result"
    }
   ],
   "source": [
    "# Build a dataframe to display result\n",
    "methods = ['Binning',\n",
    "           'Scaling_SD', \n",
    "           'Scaling_MM', \n",
    "           'Binning_No_Extreme_Outliers',\n",
    "           'Scaling_SD_No_Extreme_Outliers',\n",
    "           'Scaling_MM_No_Extreme_Outliers']\n",
    "comparing_lr = pd.DataFrame({'Method': methods, \n",
    "                           'Accuracy_train': score_accu_tr_list_lr, \n",
    "                           'Accuracy_test': score_accu_te_list_lr})\n",
    "comparing_lr"
   ]
  },
  {
   "cell_type": "markdown",
   "metadata": {},
   "source": [
    "### Comparing Accuracy Scores with Random Forest"
   ]
  },
  {
   "cell_type": "code",
   "execution_count": 50,
   "metadata": {
    "ExecuteTime": {
     "end_time": "2021-08-07T19:33:09.614889Z",
     "start_time": "2021-08-07T18:38:14.769145Z"
    }
   },
   "outputs": [
    {
     "data": {
      "text/html": [
       "<div>\n",
       "<style scoped>\n",
       "    .dataframe tbody tr th:only-of-type {\n",
       "        vertical-align: middle;\n",
       "    }\n",
       "\n",
       "    .dataframe tbody tr th {\n",
       "        vertical-align: top;\n",
       "    }\n",
       "\n",
       "    .dataframe thead th {\n",
       "        text-align: right;\n",
       "    }\n",
       "</style>\n",
       "<table border=\"1\" class=\"dataframe\">\n",
       "  <thead>\n",
       "    <tr style=\"text-align: right;\">\n",
       "      <th></th>\n",
       "      <th>Method</th>\n",
       "      <th>Accuracy_train</th>\n",
       "      <th>Accuracy_test</th>\n",
       "    </tr>\n",
       "  </thead>\n",
       "  <tbody>\n",
       "    <tr>\n",
       "      <th>0</th>\n",
       "      <td>Binning</td>\n",
       "      <td>0.763</td>\n",
       "      <td>0.758</td>\n",
       "    </tr>\n",
       "    <tr>\n",
       "      <th>1</th>\n",
       "      <td>Scaling_SD</td>\n",
       "      <td>0.772</td>\n",
       "      <td>0.765</td>\n",
       "    </tr>\n",
       "    <tr>\n",
       "      <th>2</th>\n",
       "      <td>Scaling_MM</td>\n",
       "      <td>0.772</td>\n",
       "      <td>0.764</td>\n",
       "    </tr>\n",
       "    <tr>\n",
       "      <th>3</th>\n",
       "      <td>Binning_No_Extreme_Outliers</td>\n",
       "      <td>0.750</td>\n",
       "      <td>0.743</td>\n",
       "    </tr>\n",
       "    <tr>\n",
       "      <th>4</th>\n",
       "      <td>Scaling_SD_No_Extreme_Outliers</td>\n",
       "      <td>0.760</td>\n",
       "      <td>0.750</td>\n",
       "    </tr>\n",
       "    <tr>\n",
       "      <th>5</th>\n",
       "      <td>Scaling_MM_No_Extreme_Outliers</td>\n",
       "      <td>0.760</td>\n",
       "      <td>0.750</td>\n",
       "    </tr>\n",
       "  </tbody>\n",
       "</table>\n",
       "</div>"
      ],
      "text/plain": [
       "                           Method  Accuracy_train  Accuracy_test\n",
       "0                         Binning           0.763          0.758\n",
       "1                      Scaling_SD           0.772          0.765\n",
       "2                      Scaling_MM           0.772          0.764\n",
       "3     Binning_No_Extreme_Outliers           0.750          0.743\n",
       "4  Scaling_SD_No_Extreme_Outliers           0.760          0.750\n",
       "5  Scaling_MM_No_Extreme_Outliers           0.760          0.750"
      ]
     },
     "execution_count": 50,
     "metadata": {},
     "output_type": "execute_result"
    }
   ],
   "source": [
    "# Calculate accuracy scores of train data and test data\n",
    "from sklearn.ensemble import RandomForestClassifier\n",
    "score_accu_tr_list_rf = []\n",
    "score_accu_te_list_rf = []\n",
    "\n",
    "for i in range(len(X_train_list)):\n",
    "    # Initial classfier\n",
    "    rf = RandomForestClassifier(random_state=1)\n",
    "    rf.fit(X_train_list[i], y_train_list[i])\n",
    "    # Caluculate accuracy score\n",
    "    score_accu_tr_rf= cross_val_score(rf,X_train_list[i],y_train_list[i],cv=5,scoring='accuracy')\n",
    "    score_accu_te_rf= cross_val_score(rf,X_test_list[i],y_test_list[i],cv=5,scoring='accuracy')\n",
    "    score_accu_tr_list_rf.append(score_accu_tr_rf.mean().round(3))\n",
    "    score_accu_te_list_rf.append(score_accu_te_rf.mean().round(3))\n",
    "\n",
    "# Build a dataframe to display result\n",
    "comparing_rf = pd.DataFrame({'Method': methods, \n",
    "                           'Accuracy_train': score_accu_tr_list_rf, \n",
    "                           'Accuracy_test': score_accu_te_list_rf})\n",
    "comparing_rf"
   ]
  },
  {
   "cell_type": "markdown",
   "metadata": {},
   "source": [
    "### Comparing the Test Data Accuracy Scores of Two Models"
   ]
  },
  {
   "cell_type": "code",
   "execution_count": 51,
   "metadata": {
    "ExecuteTime": {
     "end_time": "2021-08-07T19:33:46.014728Z",
     "start_time": "2021-08-07T19:33:45.713506Z"
    }
   },
   "outputs": [
    {
     "name": "stdout",
     "output_type": "stream",
     "text": [
      "                           Method  Logistic Regression Score  \\\n",
      "0                         Binning                      0.729   \n",
      "1                      Scaling_SD                      0.730   \n",
      "2                      Scaling_MM                      0.712   \n",
      "3     Binning_No_Extreme_Outliers                      0.718   \n",
      "4  Scaling_SD_No_Extreme_Outliers                      0.718   \n",
      "5  Scaling_MM_No_Extreme_Outliers                      0.717   \n",
      "\n",
      "   Random Forest Score  \n",
      "0                0.758  \n",
      "1                0.765  \n",
      "2                0.764  \n",
      "3                0.743  \n",
      "4                0.750  \n",
      "5                0.750  \n"
     ]
    },
    {
     "data": {
      "image/png": "[encoded data removed]",
      "text/plain": [
       "<Figure size 720x360 with 1 Axes>"
      ]
     },
     "metadata": {},
     "output_type": "display_data"
    }
   ],
   "source": [
    "# Displat the test data accuracy scores of two models\n",
    "accu_te_modles = pd.DataFrame({'Method': methods, \n",
    "                           'Logistic Regression Score': score_accu_te_list_lr, \n",
    "                           'Random Forest Score': score_accu_te_list_rf})\n",
    "print(accu_te_modles)\n",
    "\n",
    "# Plot test data accuracy score of two models\n",
    "index_lr=[1,2,3,4,5,6]\n",
    "index_rf=[1.2,2.2,3.2,4.2,5.2,6.2]\n",
    "plt.figure(figsize=(10,5))\n",
    "plt.xlabel('Models',fontsize=15)\n",
    "plt.ylabel ('Test Data Accuracy Scores',fontsize=15)\n",
    "plt.title('Comparison of the Accuracy',fontsize=15)\n",
    "plt.bar(index_lr,comparing_lr.Accuracy_test,color='b',alpha=0.6,label='Logistic Regression',edgecolor='k',width=0.2)\n",
    "plt.bar(index_rf,comparing_rf.Accuracy_test,color='cyan',alpha=0.8,label='Random Forest',edgecolor='k',width=0.2)\n",
    "plt.legend(loc='upper right')\n",
    "plt.xticks([1.1, 2.1,3.1,4.1, 5.1, 6.1], methods,rotation=45)\n",
    "plt.ylim(0.5)\n",
    "_ = plt.show()"
   ]
  },
  {
   "cell_type": "markdown",
   "metadata": {},
   "source": [
    "The accuracy scores were higher when we took all the entries into account, including the entries with extreme outliers. We get the highest accuracy score when scaling numerical features with `StandardScaler`, although the score difference of the six methods are not significant.\n",
    "We will standardized numeric features in the following process with `StandardScaler`."
   ]
  },
  {
   "cell_type": "code",
   "execution_count": 52,
   "metadata": {
    "ExecuteTime": {
     "end_time": "2021-08-07T19:34:19.934962Z",
     "start_time": "2021-08-07T19:34:19.860455Z"
    }
   },
   "outputs": [],
   "source": [
    "# Remove all the redunted columns\n",
    "loans_df.drop(columns=['loan_amount_cate_0~25Q', 'loan_amount_cate_25Q~50Q',\n",
    "       'loan_amount_cate_50Q~75Q', 'loan_amount_cate_75Q+',\n",
    "       'term_in_months_cate_0~25Q', 'term_in_months_cate_25Q~50Q',\n",
    "       'term_in_months_cate_50Q~75Q', 'term_in_months_cate_75Q+',\n",
    "       'loan_amount_per_month_cate_0~25Q',\n",
    "       'loan_amount_per_month_cate_25Q~50Q',\n",
    "       'loan_amount_per_month_cate_50Q~75Q', 'loan_amount_per_month_cate_75Q+',\n",
    "       'MPI_cate_less_than_0.1', 'MPI_cate_more_than_0.1'], inplace=True)"
   ]
  },
  {
   "cell_type": "code",
   "execution_count": 53,
   "metadata": {
    "ExecuteTime": {
     "end_time": "2021-08-07T19:34:45.720088Z",
     "start_time": "2021-08-07T19:34:45.714846Z"
    },
    "scrolled": true
   },
   "outputs": [
    {
     "data": {
      "text/plain": [
       "Index(['loan_amount', 'term_in_months', 'loan_amount_per_month', 'MPI',\n",
       "       'funding_speed', 'sector_Agriculture', 'sector_Food', 'sector_Others',\n",
       "       'sector_Retail', 'country_Cambodia', 'country_El Salvador',\n",
       "       'country_Kenya', 'country_Others', 'country_Pakistan',\n",
       "       'country_Philippines', 'borrower_genders_female',\n",
       "       'borrower_genders_male', 'borrower_genders_mixed',\n",
       "       'borrower_genders_unknown', 'repayment_interval_bullet',\n",
       "       'repayment_interval_irregular', 'repayment_interval_monthly',\n",
       "       'repayment_interval_weekly', 'world_region_Arab States',\n",
       "       'world_region_East Asia and the Pacific',\n",
       "       'world_region_Europe and Central Asia',\n",
       "       'world_region_Latin America and Caribbean', 'world_region_South Asia',\n",
       "       'world_region_Sub-Saharan Africa', 'posted_season_Fall',\n",
       "       'posted_season_Spring', 'posted_season_Summer', 'posted_season_Winter',\n",
       "       'With_tag'],\n",
       "      dtype='object')"
      ]
     },
     "execution_count": 53,
     "metadata": {},
     "output_type": "execute_result"
    }
   ],
   "source": [
    "loans_df.columns"
   ]
  },
  {
   "cell_type": "markdown",
   "metadata": {},
   "source": [
    "## Feature Selection"
   ]
  },
  {
   "cell_type": "markdown",
   "metadata": {},
   "source": [
    "### Heatmap of All the Features"
   ]
  },
  {
   "cell_type": "code",
   "execution_count": 54,
   "metadata": {
    "ExecuteTime": {
     "end_time": "2021-08-07T19:35:17.333766Z",
     "start_time": "2021-08-07T19:35:11.851892Z"
    }
   },
   "outputs": [
    {
     "data": {
      "image/png": "[encoded data removed]",
      "text/plain": [
       "<Figure size 792x648 with 2 Axes>"
      ]
     },
     "metadata": {},
     "output_type": "display_data"
    }
   ],
   "source": [
    "sns.set(style='white')\n",
    "plt.subplots(figsize=(11,9))\n",
    "mask = np.zeros_like(loans_df.corr(), dtype=np.bool)\n",
    "mask[np.triu_indices_from(mask)] = True\n",
    "cmap = sns.diverging_palette(220, 10, as_cmap=True)\n",
    "sns.heatmap(loans_df.corr(), mask=mask, cmap=cmap, center=0,\n",
    "            square=True, linewidths=.5, cbar_kws={\"shrink\": .5})\n",
    "_ = plt.title('Heatmap of All the Features', fontsize=18)"
   ]
  },
  {
   "cell_type": "markdown",
   "metadata": {},
   "source": [
    "We can see there are strong correlation among some features:\n",
    "* Derived and original feature: `loan_amount` and `loan_amount_per_month`;\n",
    "* Geographic related: countries and corresponding world regions;\n",
    "* Dummy features: `borrower_genders_male` and `borrower_genders_female`,`repayment_interval_monthly` and `repayment_interval_irregular`, four sectors, four posted seasons, five countries, and six world regions;\n",
    "* Others: `world_region_Sub-Saharan Africa` and `MPI`"
   ]
  },
  {
   "cell_type": "markdown",
   "metadata": {},
   "source": [
    "### Heatmap of the uncorrelated Features"
   ]
  },
  {
   "cell_type": "markdown",
   "metadata": {},
   "source": [
    "The following features will be removed based on the above analysis:\n",
    "* All the country features, including `country_Cambodia`, `country_El Salvador`, `country_Kenya`, `country_Pakistan`, `country_Philippines` and `country_Others`\n",
    "* `loan_amount_per_month` \n",
    "* `borrower_genders_male`\n",
    "* `repayment_interval_irregular`\n",
    "* `world_region_Sub-Saharan Africa`\n",
    "* `posted_season_Winter`\n",
    "* `sector_Others`"
   ]
  },
  {
   "cell_type": "code",
   "execution_count": 55,
   "metadata": {
    "ExecuteTime": {
     "end_time": "2021-08-07T19:35:42.980766Z",
     "start_time": "2021-08-07T19:35:42.963403Z"
    }
   },
   "outputs": [],
   "source": [
    "drop_corr = ['country_Cambodia', 'country_El Salvador', 'country_Kenya', 'country_Pakistan', 'country_Philippines', \n",
    "             'country_Others', 'loan_amount_per_month', 'borrower_genders_male', \n",
    "             'repayment_interval_irregular', 'world_region_Sub-Saharan Africa', \n",
    "             'posted_season_Winter', 'sector_Others']\n",
    "loans_df_drop_corr = loans_df.drop(columns=drop_corr)"
   ]
  },
  {
   "cell_type": "code",
   "execution_count": 56,
   "metadata": {
    "ExecuteTime": {
     "end_time": "2021-08-07T19:36:10.713669Z",
     "start_time": "2021-08-07T19:36:08.024047Z"
    }
   },
   "outputs": [
    {
     "data": {
      "image/png": "[encoded data removed]",
      "text/plain": [
       "<Figure size 792x648 with 2 Axes>"
      ]
     },
     "metadata": {},
     "output_type": "display_data"
    }
   ],
   "source": [
    "# Heatmap after dropping correlated features\n",
    "sns.set(style='white')\n",
    "plt.subplots(figsize=(11,9))\n",
    "mask = np.zeros_like(loans_df_drop_corr.corr(), dtype=np.bool)\n",
    "mask[np.triu_indices_from(mask)] = True\n",
    "cmap = sns.diverging_palette(220, 10, as_cmap=True)\n",
    "sns.heatmap(loans_df_drop_corr.corr(), mask=mask, cmap=cmap, center=0,\n",
    "            square=True, linewidths=.5, cbar_kws={\"shrink\": .5})\n",
    "_ = plt.title('Heatmap After Dropping Strongly Correlated Features', fontsize=18)"
   ]
  },
  {
   "cell_type": "markdown",
   "metadata": {},
   "source": [
    "### Feature Selection with RFECV"
   ]
  },
  {
   "cell_type": "code",
   "execution_count": 57,
   "metadata": {
    "ExecuteTime": {
     "end_time": "2021-08-07T21:15:47.706452Z",
     "start_time": "2021-08-07T19:36:36.254452Z"
    },
    "scrolled": true
   },
   "outputs": [
    {
     "name": "stdout",
     "output_type": "stream",
     "text": [
      "Index(['loan_amount', 'term_in_months', 'MPI', 'sector_Agriculture',\n",
      "       'sector_Food', 'sector_Retail', 'borrower_genders_female',\n",
      "       'borrower_genders_mixed', 'repayment_interval_bullet',\n",
      "       'repayment_interval_monthly', 'world_region_Arab States',\n",
      "       'world_region_East Asia and the Pacific',\n",
      "       'world_region_Latin America and Caribbean', 'world_region_South Asia',\n",
      "       'posted_season_Fall', 'posted_season_Spring', 'posted_season_Summer',\n",
      "       'With_tag'],\n",
      "      dtype='object')\n"
     ]
    }
   ],
   "source": [
    "# Select features after dropping correlated features, y_train remains the same\n",
    "X_train_rfecv = X_tr_sd.drop(columns=drop_corr)\n",
    "y_train_rfecv = y_train\n",
    "rf = RandomForestClassifier(random_state=42)\n",
    "selector = RFECV(rf, cv=5)\n",
    "selector.fit(X_train_rfecv, y_train_rfecv)\n",
    "optimized_columns = X_train_rfecv.columns[selector.support_]\n",
    "print(optimized_columns)"
   ]
  },
  {
   "cell_type": "code",
   "execution_count": 58,
   "metadata": {
    "ExecuteTime": {
     "end_time": "2021-08-07T21:16:16.705542Z",
     "start_time": "2021-08-07T21:16:16.439238Z"
    }
   },
   "outputs": [
    {
     "name": "stdout",
     "output_type": "stream",
     "text": [
      "Optimal number of features : 18\n"
     ]
    },
    {
     "data": {
      "image/png": "[encoded data removed]",
      "text/plain": [
       "<Figure size 432x288 with 1 Axes>"
      ]
     },
     "metadata": {},
     "output_type": "display_data"
    }
   ],
   "source": [
    "print(\"Optimal number of features : %d\" % selector.n_features_)\n",
    "\n",
    "# Plot number of features VS. cross-validation scores\n",
    "sns.set(style='whitegrid')\n",
    "plt.figure()\n",
    "plt.xlabel(\"Number of features selected\")\n",
    "plt.ylabel(\"Cross validation score (nb of correct classifications)\")\n",
    "plt.plot(range(len(selector.grid_scores_)), selector.grid_scores_)\n",
    "plt.xticks(range(1,21,2))\n",
    "plt.show()"
   ]
  },
  {
   "cell_type": "markdown",
   "metadata": {},
   "source": [
    "The curve's elbow-point is at 5 or 6 features. Here We choose 6 important features to build models."
   ]
  },
  {
   "cell_type": "code",
   "execution_count": 59,
   "metadata": {
    "ExecuteTime": {
     "end_time": "2021-08-07T23:13:04.379382Z",
     "start_time": "2021-08-07T23:13:03.094015Z"
    }
   },
   "outputs": [
    {
     "name": "stdout",
     "output_type": "stream",
     "text": [
      "Index(['loan_amount', 'term_in_months', 'MPI', 'With_tag',\n",
      "       'posted_season_Summer', 'borrower_genders_female'],\n",
      "      dtype='object')\n"
     ]
    }
   ],
   "source": [
    "# Select top 6 features\n",
    "n = 6 \n",
    "feature_ranks = selector.estimator_.feature_importances_  # selector is the RFECV fitted object\n",
    "feature_ranks_with_idx = enumerate(feature_ranks)\n",
    "sorted_ranks_with_idx = sorted(feature_ranks_with_idx,key=lambda x: x[1], reverse=True)\n",
    "top_n_idx = [idx for idx, _ in sorted_ranks_with_idx[:n]]\n",
    "top_n_features = optimized_columns[top_n_idx]\n",
    "print(top_n_features)"
   ]
  },
  {
   "cell_type": "markdown",
   "metadata": {},
   "source": [
    "## Comparing Accuracy with Different Number of Features"
   ]
  },
  {
   "cell_type": "code",
   "execution_count": 60,
   "metadata": {
    "ExecuteTime": {
     "end_time": "2021-08-07T23:13:44.160524Z",
     "start_time": "2021-08-07T23:13:43.887387Z"
    }
   },
   "outputs": [],
   "source": [
    "# Preprocess with 18 important features\n",
    "X_tr_18, X_te_18 = X_tr_sd[optimized_columns], X_te_sd[optimized_columns]\n",
    "\n",
    "# Scale features with StandardScaler()\n",
    "scaler = StandardScaler() \n",
    "X_tr_18 = pd.DataFrame(scaler.fit_transform(X_tr_18), columns=X_tr_18.columns)\n",
    "X_te_18 = pd.DataFrame(scaler.transform(X_te_18), columns=X_te_18.columns)"
   ]
  },
  {
   "cell_type": "code",
   "execution_count": 61,
   "metadata": {
    "ExecuteTime": {
     "end_time": "2021-08-07T23:14:13.363004Z",
     "start_time": "2021-08-07T23:14:13.280453Z"
    }
   },
   "outputs": [],
   "source": [
    "# Preprocess with 6 important features\n",
    "impo_6 = ['loan_amount', 'term_in_months', 'MPI', 'With_tag', 'posted_season_Summer', 'borrower_genders_female']\n",
    "\n",
    "# Redefine train/test dataset\n",
    "X_tr_6, X_te_6 = X_tr_sd[impo_6], X_te_sd[impo_6]\n",
    "\n",
    "# Scale 6 important features with StandardScaler()\n",
    "scaler = StandardScaler() \n",
    "X_tr_6 = pd.DataFrame(scaler.fit_transform(X_tr_6), columns=X_tr_6.columns)\n",
    "X_te_6 = pd.DataFrame(scaler.transform(X_te_6), columns=X_te_6.columns)"
   ]
  },
  {
   "cell_type": "code",
   "execution_count": 62,
   "metadata": {
    "ExecuteTime": {
     "end_time": "2021-08-07T23:40:45.619725Z",
     "start_time": "2021-08-07T23:14:43.002620Z"
    }
   },
   "outputs": [],
   "source": [
    "# Calculate accuracy scores with Random Forest\n",
    "X_train_list = [X_tr_sd, X_tr_18, X_tr_6]\n",
    "X_test_list = [X_te_sd, X_te_18, X_te_6]\n",
    "\n",
    "# Build the lists to store accuracy scores\n",
    "score_accu_tr_list = []\n",
    "score_accu_te_list = []\n",
    "\n",
    "for i in range(len(X_train_list)):\n",
    "    # Initial classfier\n",
    "    rf = RandomForestClassifier(random_state=1)\n",
    "    rf.fit(X_train_list[i], y_train)\n",
    "    score_accu_tr= cross_val_score(rf,X_train_list[i],y_train,cv=5,scoring='accuracy')\n",
    "    score_accu_te= cross_val_score(rf,X_test_list[i],y_test,cv=5,scoring='accuracy')\n",
    "    score_accu_tr_list.append(score_accu_tr.mean().round(3))\n",
    "    score_accu_te_list.append(score_accu_te.mean().round(3))"
   ]
  },
  {
   "cell_type": "code",
   "execution_count": 63,
   "metadata": {
    "ExecuteTime": {
     "end_time": "2021-08-07T23:41:11.262124Z",
     "start_time": "2021-08-07T23:41:11.010485Z"
    }
   },
   "outputs": [
    {
     "name": "stdout",
     "output_type": "stream",
     "text": [
      "         Method  Accuracy_train  Accuracy_test\n",
      "0  All_Features           0.772          0.765\n",
      "1  Important_18           0.771          0.763\n",
      "2   Important_6           0.758          0.750\n"
     ]
    },
    {
     "data": {
      "image/png": "[encoded data removed]",
      "text/plain": [
       "<Figure size 720x360 with 1 Axes>"
      ]
     },
     "metadata": {},
     "output_type": "display_data"
    }
   ],
   "source": [
    "# Build a dataframe to compare accuracy scores with different number of features\n",
    "methods_feature = ['All_Features','Important_18', 'Important_6']\n",
    "comp_accu = pd.DataFrame({'Method': methods_feature, \n",
    "                           'Accuracy_train': score_accu_tr_list, \n",
    "                           'Accuracy_test': score_accu_te_list})\n",
    "print(comp_accu)\n",
    "\n",
    "# Plot the accuracy scores with different number of features\n",
    "methods = ['All Features', '18 Important Features', '6 Important Features']\n",
    "index_tr=[1,2,3]\n",
    "index_te=[1.2,2.2,3.2]\n",
    "plt.figure(figsize=(10,5))\n",
    "plt.xlabel('Features',fontsize=15)\n",
    "plt.ylabel ('Accuracy Scores',fontsize=15)\n",
    "plt.title('Comparison of the Accuracy Scores with Different Number of Features',fontsize=15)\n",
    "plt.bar(index_tr,comp_accu.Accuracy_train,color='b',alpha=0.6,label='Train Data',edgecolor='k',width=0.2)\n",
    "plt.bar(index_te,comp_accu.Accuracy_test,color='cyan',alpha=0.8,label='Test Data',edgecolor='k',width=0.2)\n",
    "plt.legend(loc='upper right')\n",
    "plt.xticks([1.1, 2.1,3.1], methods)\n",
    "plt.ylim(0.5)\n",
    "_ = plt.show()"
   ]
  },
  {
   "cell_type": "markdown",
   "metadata": {},
   "source": [
    "The result showed that the accuracy scores of the datasets with all features and 18 important features were a little bit higher than 6 important features. But the number of features will heavily impact the computation time when building models. Here, we choose the 6 important features as the final features."
   ]
  },
  {
   "cell_type": "markdown",
   "metadata": {},
   "source": [
    "## Save processed data"
   ]
  },
  {
   "cell_type": "code",
   "execution_count": 64,
   "metadata": {
    "ExecuteTime": {
     "end_time": "2021-08-07T23:41:43.278779Z",
     "start_time": "2021-08-07T23:41:35.573729Z"
    }
   },
   "outputs": [],
   "source": [
    "# Save the whole dataset\n",
    "loans_df.to_csv('/Users/lasayin/Desktop/Springboard/GitHub/Springboard_DS_Capstone2/ProcessedData/loans_df.cvs', index=False)"
   ]
  },
  {
   "cell_type": "code",
   "execution_count": 65,
   "metadata": {
    "ExecuteTime": {
     "end_time": "2021-08-07T23:42:10.606108Z",
     "start_time": "2021-08-07T23:42:07.417309Z"
    }
   },
   "outputs": [],
   "source": [
    "# Save the dataset with 6 important features for modeling\n",
    "loans_impo_6 = loans_df[impo_6]\n",
    "loans_impo_6['funding_speed'] = loans_df['funding_speed']\n",
    "loans_impo_6.to_csv('/Users/lasayin/Desktop/Springboard/GitHub/Springboard_DS_Capstone2/ProcessedData/loans_impo_6.cvs', index=False)"
   ]
  },
  {
   "cell_type": "markdown",
   "metadata": {},
   "source": [
    "## Summary"
   ]
  },
  {
   "cell_type": "markdown",
   "metadata": {},
   "source": [
    "The main steps taken in the data preprocessing are as follows:\n",
    "\n",
    "* Removed the columns that would result some issues, such as data leakage, collinearity, redundancy, as so on\n",
    "* Set the threshold of the target feature, funding speed, at the median, i.e., $40 per day. So the funding speed over 40 was set as 1, and the funding speed that is less or equal to 40 was set as 0\n",
    "* Convert the posted time to categorical feature, i.e., season\n",
    "* Removed some categorical features that have no attribution to modeling, such as partner id; reduced the number of  unique values of some categorical features, such as sector and country, to acceptable levels.\n",
    "* Created dummies for the remained categorical variables\n",
    "* Processed the numerical features, with or without extreme values, in different ways, including binning, scaling with `MinMaxScaler` and scaling with `StandardScaler`, and compared the accuracy scores with logistic regression and random forest. As a result, we standardized numeric features with `StandardScaler`.\n",
    "* Removed all the strongly correlated features based on heatmap; selected important features based on RFECV; compared the performance of the datasets with different number of features and finally selected 6 important features. "
   ]
  }
 ],
 "metadata": {
  "hide_input": false,
  "kernelspec": {
   "display_name": "Python 3",
   "language": "python",
   "name": "python3"
  },
  "language_info": {
   "codemirror_mode": {
    "name": "ipython",
    "version": 3
   },
   "file_extension": ".py",
   "mimetype": "text/x-python",
   "name": "python",
   "nbconvert_exporter": "python",
   "pygments_lexer": "ipython3",
   "version": "3.8.3"
  },
  "toc": {
   "base_numbering": 1,
   "nav_menu": {},
   "number_sections": true,
   "sideBar": true,
   "skip_h1_title": false,
   "title_cell": "Table of Contents",
   "title_sidebar": "Contents",
   "toc_cell": true,
   "toc_position": {},
   "toc_section_display": true,
   "toc_window_display": true
  },
  "varInspector": {
   "cols": {
    "lenName": 16,
    "lenType": 16,
    "lenVar": 40
   },
   "kernels_config": {
    "python": {
     "delete_cmd_postfix": "",
     "delete_cmd_prefix": "del ",
     "library": "var_list.py",
     "varRefreshCmd": "print(var_dic_list())"
    },
    "r": {
     "delete_cmd_postfix": ") ",
     "delete_cmd_prefix": "rm(",
     "library": "var_list.r",
     "varRefreshCmd": "cat(var_dic_list()) "
    }
   },
   "types_to_exclude": [
    "module",
    "function",
    "builtin_function_or_method",
    "instance",
    "_Feature"
   ],
   "window_display": false
  }
 },
 "nbformat": 4,
 "nbformat_minor": 4
}
