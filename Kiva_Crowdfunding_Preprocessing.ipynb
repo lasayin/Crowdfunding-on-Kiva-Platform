{
 "cells": [
  {
   "cell_type": "markdown",
   "metadata": {
    "toc": true
   },
   "source": [
    "<h1>Table of Contents<span class=\"tocSkip\"></span></h1>\n",
    "<div class=\"toc\"><ul class=\"toc-item\"><li><span><a href=\"#Load-Data\" data-toc-modified-id=\"Load-Data-1\"><span class=\"toc-item-num\">1&nbsp;&nbsp;</span>Load Data</a></span></li><li><span><a href=\"#Remove-Unnecessary-Columns\" data-toc-modified-id=\"Remove-Unnecessary-Columns-2\"><span class=\"toc-item-num\">2&nbsp;&nbsp;</span>Remove Unnecessary Columns</a></span></li><li><span><a href=\"#Target-feature\" data-toc-modified-id=\"Target-feature-3\"><span class=\"toc-item-num\">3&nbsp;&nbsp;</span>Target feature</a></span></li><li><span><a href=\"#Datetime-feature\" data-toc-modified-id=\"Datetime-feature-4\"><span class=\"toc-item-num\">4&nbsp;&nbsp;</span>Datetime feature</a></span></li><li><span><a href=\"#Categorical-features\" data-toc-modified-id=\"Categorical-features-5\"><span class=\"toc-item-num\">5&nbsp;&nbsp;</span>Categorical features</a></span><ul class=\"toc-item\"><li><span><a href=\"#Tags-and-use\" data-toc-modified-id=\"Tags-and-use-5.1\"><span class=\"toc-item-num\">5.1&nbsp;&nbsp;</span>Tags and use</a></span></li><li><span><a href=\"#Sector\" data-toc-modified-id=\"Sector-5.2\"><span class=\"toc-item-num\">5.2&nbsp;&nbsp;</span>Sector</a></span></li><li><span><a href=\"#Country\" data-toc-modified-id=\"Country-5.3\"><span class=\"toc-item-num\">5.3&nbsp;&nbsp;</span>Country</a></span></li><li><span><a href=\"#Create-dummy-or-indicator-features-for-categorical-variables\" data-toc-modified-id=\"Create-dummy-or-indicator-features-for-categorical-variables-5.4\"><span class=\"toc-item-num\">5.4&nbsp;&nbsp;</span>Create dummy or indicator features for categorical variables</a></span></li></ul></li><li><span><a href=\"#Numeric-features\" data-toc-modified-id=\"Numeric-features-6\"><span class=\"toc-item-num\">6&nbsp;&nbsp;</span>Numeric features</a></span></li><li><span><a href=\"#Train/Test-split\" data-toc-modified-id=\"Train/Test-split-7\"><span class=\"toc-item-num\">7&nbsp;&nbsp;</span>Train/Test split</a></span></li><li><span><a href=\"#Scale-the-numeric-features\" data-toc-modified-id=\"Scale-the-numeric-features-8\"><span class=\"toc-item-num\">8&nbsp;&nbsp;</span>Scale the numeric features</a></span></li><li><span><a href=\"#Save-processed-data\" data-toc-modified-id=\"Save-processed-data-9\"><span class=\"toc-item-num\">9&nbsp;&nbsp;</span>Save processed data</a></span></li></ul></div>"
   ]
  },
  {
   "cell_type": "code",
   "execution_count": 1,
   "metadata": {
    "ExecuteTime": {
     "end_time": "2021-07-03T06:20:35.516453Z",
     "start_time": "2021-07-03T06:20:32.804145Z"
    }
   },
   "outputs": [],
   "source": [
    "import pandas as pd\n",
    "import numpy as np\n",
    "import matplotlib\n",
    "import matplotlib.pyplot as plt\n",
    "from datetime import datetime as dt\n",
    "import seaborn as sns\n",
    "from sklearn.model_selection import train_test_split, cross_validate, GridSearchCV, learning_curve\n",
    "from sklearn.preprocessing import StandardScaler, MinMaxScaler\n",
    "sns.set()"
   ]
  },
  {
   "cell_type": "markdown",
   "metadata": {},
   "source": [
    "## Load Data"
   ]
  },
  {
   "cell_type": "code",
   "execution_count": 2,
   "metadata": {
    "ExecuteTime": {
     "end_time": "2021-07-03T06:20:40.005160Z",
     "start_time": "2021-07-03T06:20:35.519836Z"
    }
   },
   "outputs": [],
   "source": [
    "loans_df = pd.read_csv('/Users/lasayin/Desktop/Springboard/GitHub/Springboard_DS_Capstone2/ProcessedData/loans_others.cvs',parse_dates=['posted_time', 'funded_time'])"
   ]
  },
  {
   "cell_type": "code",
   "execution_count": 3,
   "metadata": {
    "ExecuteTime": {
     "end_time": "2021-07-03T06:20:40.337081Z",
     "start_time": "2021-07-03T06:20:40.007790Z"
    }
   },
   "outputs": [
    {
     "name": "stdout",
     "output_type": "stream",
     "text": [
      "<class 'pandas.core.frame.DataFrame'>\n",
      "RangeIndex: 647335 entries, 0 to 647334\n",
      "Data columns (total 22 columns):\n",
      " #   Column                 Non-Null Count   Dtype         \n",
      "---  ------                 --------------   -----         \n",
      " 0   id                     647335 non-null  int64         \n",
      " 1   funded_amount          647335 non-null  float64       \n",
      " 2   loan_amount            647335 non-null  float64       \n",
      " 3   activity               647335 non-null  object        \n",
      " 4   sector                 647335 non-null  object        \n",
      " 5   use                    647335 non-null  object        \n",
      " 6   ISO                    647335 non-null  object        \n",
      " 7   country                647335 non-null  object        \n",
      " 8   partner_id             647335 non-null  object        \n",
      " 9   posted_time            647335 non-null  datetime64[ns]\n",
      " 10  funded_time            607606 non-null  datetime64[ns]\n",
      " 11  term_in_months         647335 non-null  float64       \n",
      " 12  lender_count           647335 non-null  int64         \n",
      " 13  tags                   647335 non-null  object        \n",
      " 14  borrower_genders       647335 non-null  object        \n",
      " 15  repayment_interval     647335 non-null  object        \n",
      " 16  funded_days            647335 non-null  float64       \n",
      " 17  world_region           647335 non-null  object        \n",
      " 18  MPI                    612393 non-null  float64       \n",
      " 19  funded_speed           607609 non-null  float64       \n",
      " 20  loan_amount_per_month  647335 non-null  float64       \n",
      " 21  funding_speed          647335 non-null  float64       \n",
      "dtypes: datetime64[ns](2), float64(8), int64(2), object(10)\n",
      "memory usage: 108.7+ MB\n"
     ]
    }
   ],
   "source": [
    "loans_df.info()"
   ]
  },
  {
   "cell_type": "code",
   "execution_count": 4,
   "metadata": {
    "ExecuteTime": {
     "end_time": "2021-07-03T06:20:40.382574Z",
     "start_time": "2021-07-03T06:20:40.342597Z"
    }
   },
   "outputs": [
    {
     "data": {
      "text/html": [
       "<div>\n",
       "<style scoped>\n",
       "    .dataframe tbody tr th:only-of-type {\n",
       "        vertical-align: middle;\n",
       "    }\n",
       "\n",
       "    .dataframe tbody tr th {\n",
       "        vertical-align: top;\n",
       "    }\n",
       "\n",
       "    .dataframe thead th {\n",
       "        text-align: right;\n",
       "    }\n",
       "</style>\n",
       "<table border=\"1\" class=\"dataframe\">\n",
       "  <thead>\n",
       "    <tr style=\"text-align: right;\">\n",
       "      <th></th>\n",
       "      <th>id</th>\n",
       "      <th>funded_amount</th>\n",
       "      <th>loan_amount</th>\n",
       "      <th>activity</th>\n",
       "      <th>sector</th>\n",
       "      <th>use</th>\n",
       "      <th>ISO</th>\n",
       "      <th>country</th>\n",
       "      <th>partner_id</th>\n",
       "      <th>posted_time</th>\n",
       "      <th>...</th>\n",
       "      <th>lender_count</th>\n",
       "      <th>tags</th>\n",
       "      <th>borrower_genders</th>\n",
       "      <th>repayment_interval</th>\n",
       "      <th>funded_days</th>\n",
       "      <th>world_region</th>\n",
       "      <th>MPI</th>\n",
       "      <th>funded_speed</th>\n",
       "      <th>loan_amount_per_month</th>\n",
       "      <th>funding_speed</th>\n",
       "    </tr>\n",
       "  </thead>\n",
       "  <tbody>\n",
       "    <tr>\n",
       "      <th>0</th>\n",
       "      <td>653051</td>\n",
       "      <td>300.0</td>\n",
       "      <td>300.0</td>\n",
       "      <td>Fruits &amp; Vegetables</td>\n",
       "      <td>Food</td>\n",
       "      <td>To buy seasonal, fresh fruits to sell.</td>\n",
       "      <td>PAK</td>\n",
       "      <td>Pakistan</td>\n",
       "      <td>With_partner</td>\n",
       "      <td>2014-01-01 06:12:39</td>\n",
       "      <td>...</td>\n",
       "      <td>12</td>\n",
       "      <td>No_tag</td>\n",
       "      <td>female</td>\n",
       "      <td>irregular</td>\n",
       "      <td>1.162419</td>\n",
       "      <td>South Asia</td>\n",
       "      <td>0.230320</td>\n",
       "      <td>258.1</td>\n",
       "      <td>25.0</td>\n",
       "      <td>258.0</td>\n",
       "    </tr>\n",
       "    <tr>\n",
       "      <th>1</th>\n",
       "      <td>653053</td>\n",
       "      <td>575.0</td>\n",
       "      <td>575.0</td>\n",
       "      <td>Rickshaw</td>\n",
       "      <td>Transportation</td>\n",
       "      <td>to repair and maintain the auto rickshaw used ...</td>\n",
       "      <td>PAK</td>\n",
       "      <td>Pakistan</td>\n",
       "      <td>With_partner</td>\n",
       "      <td>2014-01-01 06:51:08</td>\n",
       "      <td>...</td>\n",
       "      <td>14</td>\n",
       "      <td>No_tag</td>\n",
       "      <td>female</td>\n",
       "      <td>irregular</td>\n",
       "      <td>1.101562</td>\n",
       "      <td>South Asia</td>\n",
       "      <td>0.230320</td>\n",
       "      <td>522.0</td>\n",
       "      <td>52.0</td>\n",
       "      <td>522.0</td>\n",
       "    </tr>\n",
       "    <tr>\n",
       "      <th>2</th>\n",
       "      <td>653068</td>\n",
       "      <td>150.0</td>\n",
       "      <td>150.0</td>\n",
       "      <td>Transportation</td>\n",
       "      <td>Transportation</td>\n",
       "      <td>To repair their old cycle-van and buy another ...</td>\n",
       "      <td>IND</td>\n",
       "      <td>India</td>\n",
       "      <td>With_partner</td>\n",
       "      <td>2014-01-01 09:58:07</td>\n",
       "      <td>...</td>\n",
       "      <td>6</td>\n",
       "      <td>user_favorite, user_favorite</td>\n",
       "      <td>female</td>\n",
       "      <td>bullet</td>\n",
       "      <td>0.252419</td>\n",
       "      <td>South Asia</td>\n",
       "      <td>0.191099</td>\n",
       "      <td>594.3</td>\n",
       "      <td>3.0</td>\n",
       "      <td>594.0</td>\n",
       "    </tr>\n",
       "    <tr>\n",
       "      <th>3</th>\n",
       "      <td>653063</td>\n",
       "      <td>200.0</td>\n",
       "      <td>200.0</td>\n",
       "      <td>Embroidery</td>\n",
       "      <td>Arts</td>\n",
       "      <td>to purchase an embroidery machine and a variet...</td>\n",
       "      <td>PAK</td>\n",
       "      <td>Pakistan</td>\n",
       "      <td>With_partner</td>\n",
       "      <td>2014-01-01 08:03:11</td>\n",
       "      <td>...</td>\n",
       "      <td>8</td>\n",
       "      <td>No_tag</td>\n",
       "      <td>female</td>\n",
       "      <td>irregular</td>\n",
       "      <td>0.206123</td>\n",
       "      <td>South Asia</td>\n",
       "      <td>0.230320</td>\n",
       "      <td>970.3</td>\n",
       "      <td>18.0</td>\n",
       "      <td>970.0</td>\n",
       "    </tr>\n",
       "    <tr>\n",
       "      <th>4</th>\n",
       "      <td>653084</td>\n",
       "      <td>400.0</td>\n",
       "      <td>400.0</td>\n",
       "      <td>Milk Sales</td>\n",
       "      <td>Food</td>\n",
       "      <td>to purchase one buffalo.</td>\n",
       "      <td>PAK</td>\n",
       "      <td>Pakistan</td>\n",
       "      <td>With_partner</td>\n",
       "      <td>2014-01-01 11:53:19</td>\n",
       "      <td>...</td>\n",
       "      <td>16</td>\n",
       "      <td>No_tag</td>\n",
       "      <td>female</td>\n",
       "      <td>monthly</td>\n",
       "      <td>0.309398</td>\n",
       "      <td>South Asia</td>\n",
       "      <td>0.230320</td>\n",
       "      <td>1292.8</td>\n",
       "      <td>29.0</td>\n",
       "      <td>1293.0</td>\n",
       "    </tr>\n",
       "  </tbody>\n",
       "</table>\n",
       "<p>5 rows × 22 columns</p>\n",
       "</div>"
      ],
      "text/plain": [
       "       id  funded_amount  loan_amount             activity          sector  \\\n",
       "0  653051          300.0        300.0  Fruits & Vegetables            Food   \n",
       "1  653053          575.0        575.0             Rickshaw  Transportation   \n",
       "2  653068          150.0        150.0       Transportation  Transportation   \n",
       "3  653063          200.0        200.0           Embroidery            Arts   \n",
       "4  653084          400.0        400.0           Milk Sales            Food   \n",
       "\n",
       "                                                 use  ISO   country  \\\n",
       "0            To buy seasonal, fresh fruits to sell.   PAK  Pakistan   \n",
       "1  to repair and maintain the auto rickshaw used ...  PAK  Pakistan   \n",
       "2  To repair their old cycle-van and buy another ...  IND     India   \n",
       "3  to purchase an embroidery machine and a variet...  PAK  Pakistan   \n",
       "4                           to purchase one buffalo.  PAK  Pakistan   \n",
       "\n",
       "     partner_id         posted_time  ... lender_count  \\\n",
       "0  With_partner 2014-01-01 06:12:39  ...           12   \n",
       "1  With_partner 2014-01-01 06:51:08  ...           14   \n",
       "2  With_partner 2014-01-01 09:58:07  ...            6   \n",
       "3  With_partner 2014-01-01 08:03:11  ...            8   \n",
       "4  With_partner 2014-01-01 11:53:19  ...           16   \n",
       "\n",
       "                           tags  borrower_genders repayment_interval  \\\n",
       "0                        No_tag            female          irregular   \n",
       "1                        No_tag            female          irregular   \n",
       "2  user_favorite, user_favorite            female             bullet   \n",
       "3                        No_tag            female          irregular   \n",
       "4                        No_tag            female            monthly   \n",
       "\n",
       "  funded_days world_region       MPI funded_speed  loan_amount_per_month  \\\n",
       "0    1.162419   South Asia  0.230320        258.1                   25.0   \n",
       "1    1.101562   South Asia  0.230320        522.0                   52.0   \n",
       "2    0.252419   South Asia  0.191099        594.3                    3.0   \n",
       "3    0.206123   South Asia  0.230320        970.3                   18.0   \n",
       "4    0.309398   South Asia  0.230320       1292.8                   29.0   \n",
       "\n",
       "   funding_speed  \n",
       "0          258.0  \n",
       "1          522.0  \n",
       "2          594.0  \n",
       "3          970.0  \n",
       "4         1293.0  \n",
       "\n",
       "[5 rows x 22 columns]"
      ]
     },
     "execution_count": 4,
     "metadata": {},
     "output_type": "execute_result"
    }
   ],
   "source": [
    "loans_df.head()"
   ]
  },
  {
   "cell_type": "markdown",
   "metadata": {},
   "source": [
    "## Remove Unnecessary Columns"
   ]
  },
  {
   "cell_type": "markdown",
   "metadata": {},
   "source": [
    "Several columns will be removed, including the features that\n",
    "* don't affect a loan's funding, e.g., `id`\n",
    "* disclose information from the future, i.e., data leakage, such as `funded_amount`, `funded_time`,`funded_days`, `funded_speed`\n",
    "* contain redundant information, e.g., `ISO`\n",
    "* lead to collinearity issue, e.g., `lender_count`\n",
    "* require a lot of processing to turn into a useful feature, e.g., `activity`\n",
    "\n",
    "All the features mentioned above will be removed"
   ]
  },
  {
   "cell_type": "code",
   "execution_count": 5,
   "metadata": {
    "ExecuteTime": {
     "end_time": "2021-07-03T06:20:40.523421Z",
     "start_time": "2021-07-03T06:20:40.387271Z"
    }
   },
   "outputs": [],
   "source": [
    "loans_df = loans_df.drop(columns=['id', 'funded_amount', 'funded_days', 'funded_speed', 'ISO', 'funded_time', 'lender_count', 'activity'])"
   ]
  },
  {
   "cell_type": "code",
   "execution_count": 6,
   "metadata": {
    "ExecuteTime": {
     "end_time": "2021-07-03T06:20:40.805405Z",
     "start_time": "2021-07-03T06:20:40.532168Z"
    }
   },
   "outputs": [
    {
     "name": "stdout",
     "output_type": "stream",
     "text": [
      "<class 'pandas.core.frame.DataFrame'>\n",
      "RangeIndex: 647335 entries, 0 to 647334\n",
      "Data columns (total 14 columns):\n",
      " #   Column                 Non-Null Count   Dtype         \n",
      "---  ------                 --------------   -----         \n",
      " 0   loan_amount            647335 non-null  float64       \n",
      " 1   sector                 647335 non-null  object        \n",
      " 2   use                    647335 non-null  object        \n",
      " 3   country                647335 non-null  object        \n",
      " 4   partner_id             647335 non-null  object        \n",
      " 5   posted_time            647335 non-null  datetime64[ns]\n",
      " 6   term_in_months         647335 non-null  float64       \n",
      " 7   tags                   647335 non-null  object        \n",
      " 8   borrower_genders       647335 non-null  object        \n",
      " 9   repayment_interval     647335 non-null  object        \n",
      " 10  world_region           647335 non-null  object        \n",
      " 11  MPI                    612393 non-null  float64       \n",
      " 12  loan_amount_per_month  647335 non-null  float64       \n",
      " 13  funding_speed          647335 non-null  float64       \n",
      "dtypes: datetime64[ns](1), float64(5), object(8)\n",
      "memory usage: 69.1+ MB\n"
     ]
    }
   ],
   "source": [
    "loans_df.info()"
   ]
  },
  {
   "cell_type": "code",
   "execution_count": 7,
   "metadata": {
    "ExecuteTime": {
     "end_time": "2021-07-03T06:20:40.831864Z",
     "start_time": "2021-07-03T06:20:40.812182Z"
    }
   },
   "outputs": [
    {
     "data": {
      "text/html": [
       "<div>\n",
       "<style scoped>\n",
       "    .dataframe tbody tr th:only-of-type {\n",
       "        vertical-align: middle;\n",
       "    }\n",
       "\n",
       "    .dataframe tbody tr th {\n",
       "        vertical-align: top;\n",
       "    }\n",
       "\n",
       "    .dataframe thead th {\n",
       "        text-align: right;\n",
       "    }\n",
       "</style>\n",
       "<table border=\"1\" class=\"dataframe\">\n",
       "  <thead>\n",
       "    <tr style=\"text-align: right;\">\n",
       "      <th></th>\n",
       "      <th>loan_amount</th>\n",
       "      <th>sector</th>\n",
       "      <th>use</th>\n",
       "      <th>country</th>\n",
       "      <th>partner_id</th>\n",
       "      <th>posted_time</th>\n",
       "      <th>term_in_months</th>\n",
       "      <th>tags</th>\n",
       "      <th>borrower_genders</th>\n",
       "      <th>repayment_interval</th>\n",
       "      <th>world_region</th>\n",
       "      <th>MPI</th>\n",
       "      <th>loan_amount_per_month</th>\n",
       "      <th>funding_speed</th>\n",
       "    </tr>\n",
       "  </thead>\n",
       "  <tbody>\n",
       "    <tr>\n",
       "      <th>0</th>\n",
       "      <td>300.0</td>\n",
       "      <td>Food</td>\n",
       "      <td>To buy seasonal, fresh fruits to sell.</td>\n",
       "      <td>Pakistan</td>\n",
       "      <td>With_partner</td>\n",
       "      <td>2014-01-01 06:12:39</td>\n",
       "      <td>12.0</td>\n",
       "      <td>No_tag</td>\n",
       "      <td>female</td>\n",
       "      <td>irregular</td>\n",
       "      <td>South Asia</td>\n",
       "      <td>0.23032</td>\n",
       "      <td>25.0</td>\n",
       "      <td>258.0</td>\n",
       "    </tr>\n",
       "  </tbody>\n",
       "</table>\n",
       "</div>"
      ],
      "text/plain": [
       "   loan_amount sector                                      use   country  \\\n",
       "0        300.0   Food  To buy seasonal, fresh fruits to sell.   Pakistan   \n",
       "\n",
       "     partner_id         posted_time  term_in_months    tags borrower_genders  \\\n",
       "0  With_partner 2014-01-01 06:12:39            12.0  No_tag           female   \n",
       "\n",
       "  repayment_interval world_region      MPI  loan_amount_per_month  \\\n",
       "0          irregular   South Asia  0.23032                   25.0   \n",
       "\n",
       "   funding_speed  \n",
       "0          258.0  "
      ]
     },
     "execution_count": 7,
     "metadata": {},
     "output_type": "execute_result"
    }
   ],
   "source": [
    "loans_df.head(1)"
   ]
  },
  {
   "cell_type": "markdown",
   "metadata": {},
   "source": [
    "## Target feature"
   ]
  },
  {
   "cell_type": "code",
   "execution_count": 8,
   "metadata": {
    "ExecuteTime": {
     "end_time": "2021-07-03T06:20:40.895201Z",
     "start_time": "2021-07-03T06:20:40.837945Z"
    }
   },
   "outputs": [
    {
     "data": {
      "text/plain": [
       "count    647335.000000\n",
       "mean        161.112401\n",
       "std        1218.394127\n",
       "min           0.000000\n",
       "25%          20.000000\n",
       "50%          42.000000\n",
       "75%          97.000000\n",
       "max      227368.000000\n",
       "Name: funding_speed, dtype: float64"
      ]
     },
     "execution_count": 8,
     "metadata": {},
     "output_type": "execute_result"
    }
   ],
   "source": [
    "loans_df.funding_speed.describe()"
   ]
  },
  {
   "cell_type": "markdown",
   "metadata": {},
   "source": [
    "This project aims to help Kiva make a judgment on whether a loan can get crowd-funded quickly such that Kiva can make a priority. But how fast is fast? That depends on the situation. If Kiva has sufficient funds, the threshold can be low to accept loans application as many as possible; if the funds are limited, might resulting from the decrease in the number of lenders, the threshold must be high enough to make sure the potential lenders are more motivated to lend.\n",
    "\n",
    "Here, we set the threshold of funding speed at the median, i.e., $42 per day. So the funding speed over 42 will be set as 1, and the funding speed lower than 42 will be 0."
   ]
  },
  {
   "cell_type": "code",
   "execution_count": 9,
   "metadata": {
    "ExecuteTime": {
     "end_time": "2021-07-03T06:20:40.979528Z",
     "start_time": "2021-07-03T06:20:40.902279Z"
    }
   },
   "outputs": [
    {
     "data": {
      "text/plain": [
       "0.0    326808\n",
       "1.0    320527\n",
       "Name: funding_speed, dtype: int64"
      ]
     },
     "execution_count": 9,
     "metadata": {},
     "output_type": "execute_result"
    }
   ],
   "source": [
    "loans_df.loc[loans_df.funding_speed <= 42, 'funding_speed'] = 0\n",
    "loans_df.loc[loans_df.funding_speed > 42, 'funding_speed'] = 1\n",
    "loans_df.funding_speed.value_counts()"
   ]
  },
  {
   "cell_type": "markdown",
   "metadata": {},
   "source": [
    "## Datetime feature"
   ]
  },
  {
   "cell_type": "code",
   "execution_count": 10,
   "metadata": {
    "ExecuteTime": {
     "end_time": "2021-07-03T06:20:41.006449Z",
     "start_time": "2021-07-03T06:20:40.994018Z"
    }
   },
   "outputs": [
    {
     "data": {
      "text/plain": [
       "0        2014-01-01 06:12:39\n",
       "1        2014-01-01 06:51:08\n",
       "2        2014-01-01 09:58:07\n",
       "3        2014-01-01 08:03:11\n",
       "4        2014-01-01 11:53:19\n",
       "                 ...        \n",
       "647330   2017-06-07 01:44:57\n",
       "647331   2017-06-07 00:35:52\n",
       "647332   2017-06-07 07:22:29\n",
       "647333   2017-06-07 10:59:42\n",
       "647334   2017-06-07 05:55:26\n",
       "Name: posted_time, Length: 647335, dtype: datetime64[ns]"
      ]
     },
     "execution_count": 10,
     "metadata": {},
     "output_type": "execute_result"
    }
   ],
   "source": [
    "loans_df.posted_time"
   ]
  },
  {
   "cell_type": "markdown",
   "metadata": {},
   "source": [
    "We will convert the month of `posted_time`, which is a datetime attribute, to categorical attribute, i.e., season: replace December, January, February with Winter; replace March, April, May with Spring; repalce June, July, August with Summer; replace September, October, November to Fall."
   ]
  },
  {
   "cell_type": "code",
   "execution_count": 11,
   "metadata": {
    "ExecuteTime": {
     "end_time": "2021-07-03T06:20:41.095268Z",
     "start_time": "2021-07-03T06:20:41.017360Z"
    }
   },
   "outputs": [],
   "source": [
    "# Convert the month to int\n",
    "loans_df.loc[:, 'posted_season'] = loans_df.posted_time.dt.month%12 // 3"
   ]
  },
  {
   "cell_type": "code",
   "execution_count": 12,
   "metadata": {
    "ExecuteTime": {
     "end_time": "2021-07-03T06:20:41.112607Z",
     "start_time": "2021-07-03T06:20:41.102860Z"
    }
   },
   "outputs": [
    {
     "data": {
      "text/plain": [
       "0         0\n",
       "1         0\n",
       "2         0\n",
       "3         0\n",
       "4         0\n",
       "         ..\n",
       "647330    2\n",
       "647331    2\n",
       "647332    2\n",
       "647333    2\n",
       "647334    2\n",
       "Name: posted_season, Length: 647335, dtype: int64"
      ]
     },
     "execution_count": 12,
     "metadata": {},
     "output_type": "execute_result"
    }
   ],
   "source": [
    "loans_df.posted_season"
   ]
  },
  {
   "cell_type": "code",
   "execution_count": 13,
   "metadata": {
    "ExecuteTime": {
     "end_time": "2021-07-03T06:20:41.347961Z",
     "start_time": "2021-07-03T06:20:41.115819Z"
    }
   },
   "outputs": [],
   "source": [
    "# Convert int to object\n",
    "season = ['Winter', 'Spring', 'Summer', 'Fall']\n",
    "for i in range(4):\n",
    "    loans_df.loc[loans_df.posted_season == i, 'posted_season'] = season[i]"
   ]
  },
  {
   "cell_type": "code",
   "execution_count": 14,
   "metadata": {
    "ExecuteTime": {
     "end_time": "2021-07-03T06:20:41.420344Z",
     "start_time": "2021-07-03T06:20:41.353043Z"
    }
   },
   "outputs": [
    {
     "data": {
      "text/plain": [
       "Spring    196492\n",
       "Winter    159661\n",
       "Fall      146667\n",
       "Summer    144515\n",
       "Name: posted_season, dtype: int64"
      ]
     },
     "execution_count": 14,
     "metadata": {},
     "output_type": "execute_result"
    }
   ],
   "source": [
    "loans_df.posted_season.value_counts()"
   ]
  },
  {
   "cell_type": "code",
   "execution_count": 15,
   "metadata": {
    "ExecuteTime": {
     "end_time": "2021-07-03T06:20:41.682471Z",
     "start_time": "2021-07-03T06:20:41.425174Z"
    }
   },
   "outputs": [],
   "source": [
    "loans_df.drop(columns='posted_time', inplace=True)"
   ]
  },
  {
   "cell_type": "markdown",
   "metadata": {},
   "source": [
    "## Categorical features"
   ]
  },
  {
   "cell_type": "code",
   "execution_count": 16,
   "metadata": {
    "ExecuteTime": {
     "end_time": "2021-07-03T06:20:44.066356Z",
     "start_time": "2021-07-03T06:20:41.687056Z"
    }
   },
   "outputs": [
    {
     "data": {
      "text/html": [
       "<div>\n",
       "<style scoped>\n",
       "    .dataframe tbody tr th:only-of-type {\n",
       "        vertical-align: middle;\n",
       "    }\n",
       "\n",
       "    .dataframe tbody tr th {\n",
       "        vertical-align: top;\n",
       "    }\n",
       "\n",
       "    .dataframe thead th {\n",
       "        text-align: right;\n",
       "    }\n",
       "</style>\n",
       "<table border=\"1\" class=\"dataframe\">\n",
       "  <thead>\n",
       "    <tr style=\"text-align: right;\">\n",
       "      <th></th>\n",
       "      <th>sector</th>\n",
       "      <th>use</th>\n",
       "      <th>country</th>\n",
       "      <th>partner_id</th>\n",
       "      <th>tags</th>\n",
       "      <th>borrower_genders</th>\n",
       "      <th>repayment_interval</th>\n",
       "      <th>world_region</th>\n",
       "      <th>posted_season</th>\n",
       "    </tr>\n",
       "  </thead>\n",
       "  <tbody>\n",
       "    <tr>\n",
       "      <th>count</th>\n",
       "      <td>647335</td>\n",
       "      <td>647335</td>\n",
       "      <td>647335</td>\n",
       "      <td>647335</td>\n",
       "      <td>647335</td>\n",
       "      <td>647335</td>\n",
       "      <td>647335</td>\n",
       "      <td>647335</td>\n",
       "      <td>647335</td>\n",
       "    </tr>\n",
       "    <tr>\n",
       "      <th>unique</th>\n",
       "      <td>15</td>\n",
       "      <td>408560</td>\n",
       "      <td>82</td>\n",
       "      <td>2</td>\n",
       "      <td>83639</td>\n",
       "      <td>4</td>\n",
       "      <td>4</td>\n",
       "      <td>6</td>\n",
       "      <td>4</td>\n",
       "    </tr>\n",
       "    <tr>\n",
       "      <th>top</th>\n",
       "      <td>Agriculture</td>\n",
       "      <td>to buy a water filter to provide safe drinking...</td>\n",
       "      <td>Philippines</td>\n",
       "      <td>With_partner</td>\n",
       "      <td>No_tag</td>\n",
       "      <td>female</td>\n",
       "      <td>monthly</td>\n",
       "      <td>East Asia and the Pacific</td>\n",
       "      <td>Spring</td>\n",
       "    </tr>\n",
       "    <tr>\n",
       "      <th>freq</th>\n",
       "      <td>174923</td>\n",
       "      <td>4961</td>\n",
       "      <td>156594</td>\n",
       "      <td>638963</td>\n",
       "      <td>165450</td>\n",
       "      <td>471477</td>\n",
       "      <td>329110</td>\n",
       "      <td>221400</td>\n",
       "      <td>196492</td>\n",
       "    </tr>\n",
       "  </tbody>\n",
       "</table>\n",
       "</div>"
      ],
      "text/plain": [
       "             sector                                                use  \\\n",
       "count        647335                                             647335   \n",
       "unique           15                                             408560   \n",
       "top     Agriculture  to buy a water filter to provide safe drinking...   \n",
       "freq         174923                                               4961   \n",
       "\n",
       "            country    partner_id    tags borrower_genders repayment_interval  \\\n",
       "count        647335        647335  647335           647335             647335   \n",
       "unique           82             2   83639                4                  4   \n",
       "top     Philippines  With_partner  No_tag           female            monthly   \n",
       "freq         156594        638963  165450           471477             329110   \n",
       "\n",
       "                     world_region posted_season  \n",
       "count                      647335        647335  \n",
       "unique                          6             4  \n",
       "top     East Asia and the Pacific        Spring  \n",
       "freq                       221400        196492  "
      ]
     },
     "execution_count": 16,
     "metadata": {},
     "output_type": "execute_result"
    }
   ],
   "source": [
    "loans_df.select_dtypes(include='object').describe()"
   ]
  },
  {
   "cell_type": "markdown",
   "metadata": {},
   "source": [
    "The unique values of `use`, `tags`, `sector`, and `country`, are too many to do modeling."
   ]
  },
  {
   "cell_type": "markdown",
   "metadata": {},
   "source": [
    "### Tags and use"
   ]
  },
  {
   "cell_type": "code",
   "execution_count": 17,
   "metadata": {
    "ExecuteTime": {
     "end_time": "2021-07-03T06:20:44.236463Z",
     "start_time": "2021-07-03T06:20:44.082402Z"
    }
   },
   "outputs": [
    {
     "data": {
      "text/plain": [
       "array(['No_tag', 'user_favorite, user_favorite',\n",
       "       '#Elderly, #Woman Owned Biz', ...,\n",
       "       '#Job Creator, #Vegan, #Woman Owned Biz, #Parent, #Schooling, user_favorite',\n",
       "       '#Elderly, #Vegan, #Woman Owned Biz, #Repeat Borrower, #Job Creator',\n",
       "       '#Elderly, #Health and Sanitation, #Technology, #Woman Owned Biz, #Parent, #Biz Durable Asset, user_favorite'],\n",
       "      dtype=object)"
      ]
     },
     "execution_count": 17,
     "metadata": {},
     "output_type": "execute_result"
    }
   ],
   "source": [
    "loans_df.tags.unique()"
   ]
  },
  {
   "cell_type": "code",
   "execution_count": 18,
   "metadata": {
    "ExecuteTime": {
     "end_time": "2021-07-03T06:20:44.531503Z",
     "start_time": "2021-07-03T06:20:44.246179Z"
    }
   },
   "outputs": [
    {
     "data": {
      "text/plain": [
       "array(['To buy seasonal, fresh fruits to sell. ',\n",
       "       'to repair and maintain the auto rickshaw used in their business.',\n",
       "       'To repair their old cycle-van and buy another one to rent out as a source of income',\n",
       "       ...,\n",
       "       'to cover the plowing costs and to purchase insecticides for cultivating rice.',\n",
       "       \"to buy fertilizer for her crops, and hire workers to help increase her farm's output.\",\n",
       "       'to buy an ultrasonography machine for her clinic.'], dtype=object)"
      ]
     },
     "execution_count": 18,
     "metadata": {},
     "output_type": "execute_result"
    }
   ],
   "source": [
    "loans_df.use.unique()"
   ]
  },
  {
   "cell_type": "code",
   "execution_count": 19,
   "metadata": {
    "ExecuteTime": {
     "end_time": "2021-07-03T06:20:44.859598Z",
     "start_time": "2021-07-03T06:20:44.533832Z"
    }
   },
   "outputs": [],
   "source": [
    "loans_df.loc[loans_df.tags != 'No_tag', 'tags'] = 'With_tag'\n",
    "loans_df.loc[loans_df.use != 'No_use_info', 'use'] = 'With_use_info'"
   ]
  },
  {
   "cell_type": "code",
   "execution_count": 20,
   "metadata": {
    "ExecuteTime": {
     "end_time": "2021-07-03T06:20:44.933033Z",
     "start_time": "2021-07-03T06:20:44.862065Z"
    }
   },
   "outputs": [
    {
     "data": {
      "text/plain": [
       "With_tag    0.744414\n",
       "No_tag      0.255586\n",
       "Name: tags, dtype: float64"
      ]
     },
     "execution_count": 20,
     "metadata": {},
     "output_type": "execute_result"
    }
   ],
   "source": [
    "loans_df.tags.value_counts(normalize=True)"
   ]
  },
  {
   "cell_type": "code",
   "execution_count": 21,
   "metadata": {
    "ExecuteTime": {
     "end_time": "2021-07-03T06:20:45.031535Z",
     "start_time": "2021-07-03T06:20:44.935360Z"
    }
   },
   "outputs": [
    {
     "data": {
      "text/plain": [
       "With_use_info    0.993734\n",
       "No_use_info      0.006266\n",
       "Name: use, dtype: float64"
      ]
     },
     "execution_count": 21,
     "metadata": {},
     "output_type": "execute_result"
    }
   ],
   "source": [
    "loans_df.use.value_counts(normalize=True)"
   ]
  },
  {
   "cell_type": "markdown",
   "metadata": {},
   "source": [
    "About 25% of the loans had no tags while less than 1% of the loans had no use information. So `use` will be removed since it did not add any information to each loan application after. Besides that, the similar but more general information had been provided by `sector`."
   ]
  },
  {
   "cell_type": "code",
   "execution_count": 22,
   "metadata": {
    "ExecuteTime": {
     "end_time": "2021-07-03T06:20:45.179184Z",
     "start_time": "2021-07-03T06:20:45.062329Z"
    }
   },
   "outputs": [],
   "source": [
    "loans_df.drop(columns='use', inplace=True)"
   ]
  },
  {
   "cell_type": "markdown",
   "metadata": {},
   "source": [
    "### Sector"
   ]
  },
  {
   "cell_type": "code",
   "execution_count": 23,
   "metadata": {
    "ExecuteTime": {
     "end_time": "2021-07-03T06:20:45.282494Z",
     "start_time": "2021-07-03T06:20:45.184815Z"
    }
   },
   "outputs": [
    {
     "data": {
      "text/plain": [
       "Agriculture       0.270220\n",
       "Food              0.203762\n",
       "Retail            0.186383\n",
       "Services          0.064820\n",
       "Personal Use      0.054176\n",
       "Housing           0.050725\n",
       "Clothing          0.048692\n",
       "Education         0.046572\n",
       "Transportation    0.023169\n",
       "Arts              0.017411\n",
       "Health            0.013639\n",
       "Manufacturing     0.009269\n",
       "Construction      0.009266\n",
       "Entertainment     0.000965\n",
       "Wholesale         0.000932\n",
       "Name: sector, dtype: float64"
      ]
     },
     "execution_count": 23,
     "metadata": {},
     "output_type": "execute_result"
    }
   ],
   "source": [
    "loans_df.sector.value_counts(normalize=True)"
   ]
  },
  {
   "cell_type": "markdown",
   "metadata": {},
   "source": [
    "The loans under the sectors of Agriculture, Food, and Retail account for more than 75% of all the loans. The 15 sectors will be grouped to Agriculture, Food, Retail, and Others."
   ]
  },
  {
   "cell_type": "code",
   "execution_count": 24,
   "metadata": {
    "ExecuteTime": {
     "end_time": "2021-07-03T06:20:45.493369Z",
     "start_time": "2021-07-03T06:20:45.289511Z"
    }
   },
   "outputs": [],
   "source": [
    "loans_df.loc[loans_df.sector.apply(lambda x: x not in ['Agriculture', 'Food', 'Retail']), 'sector'] = 'Others'"
   ]
  },
  {
   "cell_type": "code",
   "execution_count": 25,
   "metadata": {
    "ExecuteTime": {
     "end_time": "2021-07-03T06:20:45.579045Z",
     "start_time": "2021-07-03T06:20:45.496934Z"
    }
   },
   "outputs": [
    {
     "data": {
      "text/plain": [
       "Others         0.339636\n",
       "Agriculture    0.270220\n",
       "Food           0.203762\n",
       "Retail         0.186383\n",
       "Name: sector, dtype: float64"
      ]
     },
     "execution_count": 25,
     "metadata": {},
     "output_type": "execute_result"
    }
   ],
   "source": [
    "loans_df.sector.value_counts(normalize=True)"
   ]
  },
  {
   "cell_type": "markdown",
   "metadata": {},
   "source": [
    "### Country"
   ]
  },
  {
   "cell_type": "code",
   "execution_count": 26,
   "metadata": {
    "ExecuteTime": {
     "end_time": "2021-07-03T06:20:45.708803Z",
     "start_time": "2021-07-03T06:20:45.581696Z"
    }
   },
   "outputs": [
    {
     "data": {
      "text/plain": [
       "Philippines      0.241906\n",
       "Kenya            0.114573\n",
       "El Salvador      0.060059\n",
       "Cambodia         0.051771\n",
       "Pakistan         0.040072\n",
       "                   ...   \n",
       "Namibia          0.000012\n",
       "Vanuatu          0.000006\n",
       "Afghanistan      0.000003\n",
       "Mauritania       0.000002\n",
       "Cote D'Ivoire    0.000002\n",
       "Name: country, Length: 82, dtype: float64"
      ]
     },
     "execution_count": 26,
     "metadata": {},
     "output_type": "execute_result"
    }
   ],
   "source": [
    "loans_df.country.value_counts(normalize=True)"
   ]
  },
  {
   "cell_type": "markdown",
   "metadata": {},
   "source": [
    "The loans from the countries of Philippines, Kenya, El Salvador, Cambodia, and Pakistan account for about 50% of all the loans. The 82 countries will be grouped to Philippines, Kenya, El Salvador, Cambodia, Pakistan, and Others."
   ]
  },
  {
   "cell_type": "code",
   "execution_count": 27,
   "metadata": {
    "ExecuteTime": {
     "end_time": "2021-07-03T06:20:45.925379Z",
     "start_time": "2021-07-03T06:20:45.712540Z"
    }
   },
   "outputs": [],
   "source": [
    "loans_df.loc[loans_df.country.apply(lambda x: x not in ['Philippines', 'Kenya', 'El Salvador', 'Cambodia', 'Pakistan']), 'country'] = 'Others'"
   ]
  },
  {
   "cell_type": "code",
   "execution_count": 28,
   "metadata": {
    "ExecuteTime": {
     "end_time": "2021-07-03T06:20:46.010529Z",
     "start_time": "2021-07-03T06:20:45.927935Z"
    }
   },
   "outputs": [
    {
     "data": {
      "text/plain": [
       "Others         0.491620\n",
       "Philippines    0.241906\n",
       "Kenya          0.114573\n",
       "El Salvador    0.060059\n",
       "Cambodia       0.051771\n",
       "Pakistan       0.040072\n",
       "Name: country, dtype: float64"
      ]
     },
     "execution_count": 28,
     "metadata": {},
     "output_type": "execute_result"
    }
   ],
   "source": [
    "loans_df.country.value_counts(normalize=True)"
   ]
  },
  {
   "cell_type": "code",
   "execution_count": 29,
   "metadata": {
    "ExecuteTime": {
     "end_time": "2021-07-03T06:20:46.885017Z",
     "start_time": "2021-07-03T06:20:46.015997Z"
    }
   },
   "outputs": [
    {
     "data": {
      "text/html": [
       "<div>\n",
       "<style scoped>\n",
       "    .dataframe tbody tr th:only-of-type {\n",
       "        vertical-align: middle;\n",
       "    }\n",
       "\n",
       "    .dataframe tbody tr th {\n",
       "        vertical-align: top;\n",
       "    }\n",
       "\n",
       "    .dataframe thead th {\n",
       "        text-align: right;\n",
       "    }\n",
       "</style>\n",
       "<table border=\"1\" class=\"dataframe\">\n",
       "  <thead>\n",
       "    <tr style=\"text-align: right;\">\n",
       "      <th></th>\n",
       "      <th>sector</th>\n",
       "      <th>country</th>\n",
       "      <th>partner_id</th>\n",
       "      <th>tags</th>\n",
       "      <th>borrower_genders</th>\n",
       "      <th>repayment_interval</th>\n",
       "      <th>world_region</th>\n",
       "      <th>posted_season</th>\n",
       "    </tr>\n",
       "  </thead>\n",
       "  <tbody>\n",
       "    <tr>\n",
       "      <th>count</th>\n",
       "      <td>647335</td>\n",
       "      <td>647335</td>\n",
       "      <td>647335</td>\n",
       "      <td>647335</td>\n",
       "      <td>647335</td>\n",
       "      <td>647335</td>\n",
       "      <td>647335</td>\n",
       "      <td>647335</td>\n",
       "    </tr>\n",
       "    <tr>\n",
       "      <th>unique</th>\n",
       "      <td>4</td>\n",
       "      <td>6</td>\n",
       "      <td>2</td>\n",
       "      <td>2</td>\n",
       "      <td>4</td>\n",
       "      <td>4</td>\n",
       "      <td>6</td>\n",
       "      <td>4</td>\n",
       "    </tr>\n",
       "    <tr>\n",
       "      <th>top</th>\n",
       "      <td>Others</td>\n",
       "      <td>Others</td>\n",
       "      <td>With_partner</td>\n",
       "      <td>With_tag</td>\n",
       "      <td>female</td>\n",
       "      <td>monthly</td>\n",
       "      <td>East Asia and the Pacific</td>\n",
       "      <td>Spring</td>\n",
       "    </tr>\n",
       "    <tr>\n",
       "      <th>freq</th>\n",
       "      <td>219858</td>\n",
       "      <td>318243</td>\n",
       "      <td>638963</td>\n",
       "      <td>481885</td>\n",
       "      <td>471477</td>\n",
       "      <td>329110</td>\n",
       "      <td>221400</td>\n",
       "      <td>196492</td>\n",
       "    </tr>\n",
       "  </tbody>\n",
       "</table>\n",
       "</div>"
      ],
      "text/plain": [
       "        sector country    partner_id      tags borrower_genders  \\\n",
       "count   647335  647335        647335    647335           647335   \n",
       "unique       4       6             2         2                4   \n",
       "top     Others  Others  With_partner  With_tag           female   \n",
       "freq    219858  318243        638963    481885           471477   \n",
       "\n",
       "       repayment_interval               world_region posted_season  \n",
       "count              647335                     647335        647335  \n",
       "unique                  4                          6             4  \n",
       "top               monthly  East Asia and the Pacific        Spring  \n",
       "freq               329110                     221400        196492  "
      ]
     },
     "execution_count": 29,
     "metadata": {},
     "output_type": "execute_result"
    }
   ],
   "source": [
    "loans_df.select_dtypes(include='object').describe()"
   ]
  },
  {
   "cell_type": "markdown",
   "metadata": {},
   "source": [
    "Now the number of unique values of all the categorical variables are acceptable."
   ]
  },
  {
   "cell_type": "markdown",
   "metadata": {},
   "source": [
    "### Create dummy or indicator features for categorical variables "
   ]
  },
  {
   "cell_type": "code",
   "execution_count": 30,
   "metadata": {
    "ExecuteTime": {
     "end_time": "2021-07-03T06:20:47.371698Z",
     "start_time": "2021-07-03T06:20:46.887722Z"
    }
   },
   "outputs": [],
   "source": [
    "dummy_category = pd.get_dummies(loans_df[['sector','country','borrower_genders','repayment_interval','world_region','posted_season']])"
   ]
  },
  {
   "cell_type": "code",
   "execution_count": 31,
   "metadata": {
    "ExecuteTime": {
     "end_time": "2021-07-03T06:20:47.526966Z",
     "start_time": "2021-07-03T06:20:47.374020Z"
    }
   },
   "outputs": [],
   "source": [
    "dummy_category_drop_first = pd.get_dummies(loans_df[['partner_id','tags']], drop_first=True)"
   ]
  },
  {
   "cell_type": "code",
   "execution_count": 32,
   "metadata": {
    "ExecuteTime": {
     "end_time": "2021-07-03T06:20:47.571490Z",
     "start_time": "2021-07-03T06:20:47.529206Z"
    }
   },
   "outputs": [],
   "source": [
    "dummy_category = pd.concat([dummy_category, dummy_category_drop_first], axis=1)"
   ]
  },
  {
   "cell_type": "code",
   "execution_count": 33,
   "metadata": {
    "ExecuteTime": {
     "end_time": "2021-07-03T06:20:47.582916Z",
     "start_time": "2021-07-03T06:20:47.575668Z"
    }
   },
   "outputs": [
    {
     "data": {
      "text/plain": [
       "Index(['loan_amount', 'sector', 'country', 'partner_id', 'term_in_months',\n",
       "       'tags', 'borrower_genders', 'repayment_interval', 'world_region', 'MPI',\n",
       "       'loan_amount_per_month', 'funding_speed', 'posted_season'],\n",
       "      dtype='object')"
      ]
     },
     "execution_count": 33,
     "metadata": {},
     "output_type": "execute_result"
    }
   ],
   "source": [
    "loans_df.columns"
   ]
  },
  {
   "cell_type": "code",
   "execution_count": 34,
   "metadata": {
    "ExecuteTime": {
     "end_time": "2021-07-03T06:20:47.697331Z",
     "start_time": "2021-07-03T06:20:47.586058Z"
    }
   },
   "outputs": [],
   "source": [
    "loans_df = loans_df.drop(columns=['sector', 'country', 'partner_id','tags', 'borrower_genders', 'repayment_interval', 'world_region','posted_season'])\n",
    "loans_df = pd.concat([loans_df, dummy_category], axis=1)"
   ]
  },
  {
   "cell_type": "code",
   "execution_count": 35,
   "metadata": {
    "ExecuteTime": {
     "end_time": "2021-07-03T06:20:47.779796Z",
     "start_time": "2021-07-03T06:20:47.701419Z"
    }
   },
   "outputs": [
    {
     "name": "stdout",
     "output_type": "stream",
     "text": [
      "<class 'pandas.core.frame.DataFrame'>\n",
      "RangeIndex: 647335 entries, 0 to 647334\n",
      "Data columns (total 35 columns):\n",
      " #   Column                                    Non-Null Count   Dtype  \n",
      "---  ------                                    --------------   -----  \n",
      " 0   loan_amount                               647335 non-null  float64\n",
      " 1   term_in_months                            647335 non-null  float64\n",
      " 2   MPI                                       612393 non-null  float64\n",
      " 3   loan_amount_per_month                     647335 non-null  float64\n",
      " 4   funding_speed                             647335 non-null  float64\n",
      " 5   sector_Agriculture                        647335 non-null  uint8  \n",
      " 6   sector_Food                               647335 non-null  uint8  \n",
      " 7   sector_Others                             647335 non-null  uint8  \n",
      " 8   sector_Retail                             647335 non-null  uint8  \n",
      " 9   country_Cambodia                          647335 non-null  uint8  \n",
      " 10  country_El Salvador                       647335 non-null  uint8  \n",
      " 11  country_Kenya                             647335 non-null  uint8  \n",
      " 12  country_Others                            647335 non-null  uint8  \n",
      " 13  country_Pakistan                          647335 non-null  uint8  \n",
      " 14  country_Philippines                       647335 non-null  uint8  \n",
      " 15  borrower_genders_female                   647335 non-null  uint8  \n",
      " 16  borrower_genders_male                     647335 non-null  uint8  \n",
      " 17  borrower_genders_mixed                    647335 non-null  uint8  \n",
      " 18  borrower_genders_unknown                  647335 non-null  uint8  \n",
      " 19  repayment_interval_bullet                 647335 non-null  uint8  \n",
      " 20  repayment_interval_irregular              647335 non-null  uint8  \n",
      " 21  repayment_interval_monthly                647335 non-null  uint8  \n",
      " 22  repayment_interval_weekly                 647335 non-null  uint8  \n",
      " 23  world_region_Arab States                  647335 non-null  uint8  \n",
      " 24  world_region_East Asia and the Pacific    647335 non-null  uint8  \n",
      " 25  world_region_Europe and Central Asia      647335 non-null  uint8  \n",
      " 26  world_region_Latin America and Caribbean  647335 non-null  uint8  \n",
      " 27  world_region_South Asia                   647335 non-null  uint8  \n",
      " 28  world_region_Sub-Saharan Africa           647335 non-null  uint8  \n",
      " 29  posted_season_Fall                        647335 non-null  uint8  \n",
      " 30  posted_season_Spring                      647335 non-null  uint8  \n",
      " 31  posted_season_Summer                      647335 non-null  uint8  \n",
      " 32  posted_season_Winter                      647335 non-null  uint8  \n",
      " 33  partner_id_With_partner                   647335 non-null  uint8  \n",
      " 34  tags_With_tag                             647335 non-null  uint8  \n",
      "dtypes: float64(5), uint8(30)\n",
      "memory usage: 43.2 MB\n"
     ]
    }
   ],
   "source": [
    "loans_df.info()"
   ]
  },
  {
   "cell_type": "markdown",
   "metadata": {},
   "source": [
    "## Numeric features"
   ]
  },
  {
   "cell_type": "code",
   "execution_count": 36,
   "metadata": {
    "ExecuteTime": {
     "end_time": "2021-07-03T06:20:47.805565Z",
     "start_time": "2021-07-03T06:20:47.782582Z"
    }
   },
   "outputs": [
    {
     "data": {
      "text/plain": [
       "Index(['loan_amount', 'term_in_months', 'MPI', 'loan_amount_per_month',\n",
       "       'funding_speed'],\n",
       "      dtype='object')"
      ]
     },
     "execution_count": 36,
     "metadata": {},
     "output_type": "execute_result"
    }
   ],
   "source": [
    "loans_df.select_dtypes(include='float').columns"
   ]
  },
  {
   "cell_type": "code",
   "execution_count": 37,
   "metadata": {
    "ExecuteTime": {
     "end_time": "2021-07-03T06:20:48.006288Z",
     "start_time": "2021-07-03T06:20:47.808447Z"
    }
   },
   "outputs": [
    {
     "data": {
      "text/html": [
       "<div>\n",
       "<style scoped>\n",
       "    .dataframe tbody tr th:only-of-type {\n",
       "        vertical-align: middle;\n",
       "    }\n",
       "\n",
       "    .dataframe tbody tr th {\n",
       "        vertical-align: top;\n",
       "    }\n",
       "\n",
       "    .dataframe thead th {\n",
       "        text-align: right;\n",
       "    }\n",
       "</style>\n",
       "<table border=\"1\" class=\"dataframe\">\n",
       "  <thead>\n",
       "    <tr style=\"text-align: right;\">\n",
       "      <th></th>\n",
       "      <th>loan_amount</th>\n",
       "      <th>term_in_months</th>\n",
       "      <th>MPI</th>\n",
       "      <th>loan_amount_per_month</th>\n",
       "    </tr>\n",
       "  </thead>\n",
       "  <tbody>\n",
       "    <tr>\n",
       "      <th>count</th>\n",
       "      <td>647335.000000</td>\n",
       "      <td>647335.000000</td>\n",
       "      <td>612393.000000</td>\n",
       "      <td>647335.000000</td>\n",
       "    </tr>\n",
       "    <tr>\n",
       "      <th>mean</th>\n",
       "      <td>803.726548</td>\n",
       "      <td>13.621496</td>\n",
       "      <td>0.124440</td>\n",
       "      <td>72.801537</td>\n",
       "    </tr>\n",
       "    <tr>\n",
       "      <th>std</th>\n",
       "      <td>1089.278243</td>\n",
       "      <td>8.550289</td>\n",
       "      <td>0.115893</td>\n",
       "      <td>127.650886</td>\n",
       "    </tr>\n",
       "    <tr>\n",
       "      <th>min</th>\n",
       "      <td>25.000000</td>\n",
       "      <td>1.000000</td>\n",
       "      <td>0.001155</td>\n",
       "      <td>0.000000</td>\n",
       "    </tr>\n",
       "    <tr>\n",
       "      <th>25%</th>\n",
       "      <td>275.000000</td>\n",
       "      <td>8.000000</td>\n",
       "      <td>0.052128</td>\n",
       "      <td>25.000000</td>\n",
       "    </tr>\n",
       "    <tr>\n",
       "      <th>50%</th>\n",
       "      <td>500.000000</td>\n",
       "      <td>13.000000</td>\n",
       "      <td>0.053851</td>\n",
       "      <td>39.000000</td>\n",
       "    </tr>\n",
       "    <tr>\n",
       "      <th>75%</th>\n",
       "      <td>975.000000</td>\n",
       "      <td>14.000000</td>\n",
       "      <td>0.187418</td>\n",
       "      <td>68.000000</td>\n",
       "    </tr>\n",
       "    <tr>\n",
       "      <th>max</th>\n",
       "      <td>100000.000000</td>\n",
       "      <td>158.000000</td>\n",
       "      <td>0.557405</td>\n",
       "      <td>10000.000000</td>\n",
       "    </tr>\n",
       "  </tbody>\n",
       "</table>\n",
       "</div>"
      ],
      "text/plain": [
       "         loan_amount  term_in_months            MPI  loan_amount_per_month\n",
       "count  647335.000000   647335.000000  612393.000000          647335.000000\n",
       "mean      803.726548       13.621496       0.124440              72.801537\n",
       "std      1089.278243        8.550289       0.115893             127.650886\n",
       "min        25.000000        1.000000       0.001155               0.000000\n",
       "25%       275.000000        8.000000       0.052128              25.000000\n",
       "50%       500.000000       13.000000       0.053851              39.000000\n",
       "75%       975.000000       14.000000       0.187418              68.000000\n",
       "max    100000.000000      158.000000       0.557405           10000.000000"
      ]
     },
     "execution_count": 37,
     "metadata": {},
     "output_type": "execute_result"
    }
   ],
   "source": [
    "numeric_feature = loans_df[['loan_amount', 'term_in_months', 'MPI', 'loan_amount_per_month']]\n",
    "numeric_feature.describe()"
   ]
  },
  {
   "cell_type": "code",
   "execution_count": 38,
   "metadata": {
    "ExecuteTime": {
     "end_time": "2021-07-03T06:20:49.608437Z",
     "start_time": "2021-07-03T06:20:48.013210Z"
    }
   },
   "outputs": [
    {
     "data": {
      "image/png": "[encoded data removed]",
      "text/plain": [
       "<Figure size 1152x432 with 4 Axes>"
      ]
     },
     "metadata": {},
     "output_type": "display_data"
    }
   ],
   "source": [
    "_ = numeric_feature.hist(layout=(2, 2), figsize=(16, 6),sharex=False,sharey=False, bins=50)"
   ]
  },
  {
   "cell_type": "markdown",
   "metadata": {},
   "source": [
    "As we mentioned in EDA, all these numeric feature are right skewed, among which `loan_amount`, `term_in_months`, and `loan_amount_per_month` had extreme outliers."
   ]
  },
  {
   "cell_type": "code",
   "execution_count": 39,
   "metadata": {
    "ExecuteTime": {
     "end_time": "2021-07-03T06:20:50.361922Z",
     "start_time": "2021-07-03T06:20:49.612167Z"
    }
   },
   "outputs": [
    {
     "data": {
      "image/png": "[encoded data removed]",
      "text/plain": [
       "<Figure size 432x288 with 1 Axes>"
      ]
     },
     "metadata": {},
     "output_type": "display_data"
    },
    {
     "name": "stdout",
     "output_type": "stream",
     "text": [
      "For the feature of loan_amount, the data more than 3075.0 can be considered as extreme outliers.\n"
     ]
    },
    {
     "data": {
      "image/png": "[encoded data removed]",
      "text/plain": [
       "<Figure size 432x288 with 1 Axes>"
      ]
     },
     "metadata": {},
     "output_type": "display_data"
    },
    {
     "name": "stdout",
     "output_type": "stream",
     "text": [
      "For the feature of term_in_months, the data more than 32.0 can be considered as extreme outliers.\n"
     ]
    },
    {
     "data": {
      "image/png": "[encoded data removed]",
      "text/plain": [
       "<Figure size 432x288 with 1 Axes>"
      ]
     },
     "metadata": {},
     "output_type": "display_data"
    },
    {
     "name": "stdout",
     "output_type": "stream",
     "text": [
      "For the feature of loan_amount_per_month, the data more than 197.0 can be considered as extreme outliers.\n"
     ]
    }
   ],
   "source": [
    "def outlier(columns):\n",
    "    for col in columns:\n",
    "        plt.boxplot(numeric_feature[col])\n",
    "        plt.show()\n",
    "        Q1, Q3 = numeric_feature[col].quantile([0.25, 0.75])\n",
    "        IQR = Q3 - Q1\n",
    "        extreme_outlier = Q3 + 3 * IQR\n",
    "        print('For the feature of {}, the data more than {} can be considered as extreme outliers.'.format(col,extreme_outlier))\n",
    "\n",
    "outlier(['loan_amount', 'term_in_months', 'loan_amount_per_month'])"
   ]
  },
  {
   "cell_type": "code",
   "execution_count": 40,
   "metadata": {
    "ExecuteTime": {
     "end_time": "2021-07-03T06:20:52.099908Z",
     "start_time": "2021-07-03T06:20:50.365224Z"
    }
   },
   "outputs": [
    {
     "name": "stdout",
     "output_type": "stream",
     "text": [
      "584461 0.9028725466721249\n"
     ]
    },
    {
     "data": {
      "image/png": "[encoded data removed]",
      "text/plain": [
       "<Figure size 1152x432 with 4 Axes>"
      ]
     },
     "metadata": {},
     "output_type": "display_data"
    }
   ],
   "source": [
    "# Drop all the entries which have extreme outliers\n",
    "loans_df_remove_outlier = loans_df[(loans_df.loan_amount_per_month < 197)  & (loans_df.term_in_months < 32) & (loans_df.loan_amount < 3075)]\n",
    "print(loans_df_remove_outlier.shape[0], loans_df_remove_outlier.shape[0]/647335)\n",
    "_ = loans_df_remove_outlier[['loan_amount', 'term_in_months', 'loan_amount_per_month','MPI']].hist(layout=(2, 2), figsize=(16, 6),sharex=False,sharey=False, bins=50)"
   ]
  },
  {
   "cell_type": "markdown",
   "metadata": {},
   "source": [
    "<div class=\"burk\">\n",
    "Q1: Remove the extreme outliers?</div><i class=\"fa fa-lightbulb-o \"></i>"
   ]
  },
  {
   "cell_type": "markdown",
   "metadata": {},
   "source": [
    "<div class=\"burk\">\n",
    "Q2: Binning, i.e., taking continuous feature and separate it out into several ranges to create a categorical feature?</div><i class=\"fa fa-lightbulb-o \"></i>"
   ]
  },
  {
   "cell_type": "markdown",
   "metadata": {},
   "source": [
    "## Train/Test split"
   ]
  },
  {
   "cell_type": "code",
   "execution_count": 41,
   "metadata": {
    "ExecuteTime": {
     "end_time": "2021-07-03T06:20:52.427239Z",
     "start_time": "2021-07-03T06:20:52.103558Z"
    }
   },
   "outputs": [],
   "source": [
    "X_train, X_test, y_train, y_test = train_test_split(loans_df.drop(columns='funding_speed'), \n",
    "                                                    loans_df.funding_speed, test_size=0.3, \n",
    "                                                    random_state=47)"
   ]
  },
  {
   "cell_type": "markdown",
   "metadata": {},
   "source": [
    "## Scale the numeric features"
   ]
  },
  {
   "cell_type": "code",
   "execution_count": 42,
   "metadata": {
    "ExecuteTime": {
     "end_time": "2021-07-03T06:20:52.518550Z",
     "start_time": "2021-07-03T06:20:52.429852Z"
    }
   },
   "outputs": [],
   "source": [
    "numeric_columns = ['loan_amount', 'term_in_months', 'loan_amount_per_month', 'MPI']\n",
    "\n",
    "scaler = StandardScaler() \n",
    "train_numeric_scaled = scaler.fit_transform(X_train[numeric_columns])\n",
    "train_numeric_scaled = pd.DataFrame(train_numeric_scaled, columns=numeric_columns)\n",
    "\n",
    "test_numeric_scaled = scaler.transform(X_test[numeric_columns])\n",
    "test_numeric_scaled = pd.DataFrame(test_numeric_scaled, columns=numeric_columns)"
   ]
  },
  {
   "cell_type": "code",
   "execution_count": 43,
   "metadata": {
    "ExecuteTime": {
     "end_time": "2021-07-03T06:20:53.212767Z",
     "start_time": "2021-07-03T06:20:52.522175Z"
    }
   },
   "outputs": [],
   "source": [
    "X_train = pd.concat([X_train.drop(columns=numeric_columns), train_numeric_scaled], axis=1)\n",
    "X_test = pd.concat([X_test.drop(columns=numeric_columns), test_numeric_scaled], axis=1)"
   ]
  },
  {
   "cell_type": "markdown",
   "metadata": {},
   "source": [
    "## Save processed data"
   ]
  },
  {
   "cell_type": "code",
   "execution_count": null,
   "metadata": {
    "ExecuteTime": {
     "start_time": "2021-07-03T06:20:33.093Z"
    }
   },
   "outputs": [],
   "source": [
    "X_train.to_csv('/Users/lasayin/Desktop/Springboard/GitHub/Springboard_DS_Capstone2/ProcessedData/X_train.cvs', index=False)\n",
    "X_test.to_csv('/Users/lasayin/Desktop/Springboard/GitHub/Springboard_DS_Capstone2/ProcessedData/X_test.cvs', index=False)\n",
    "y_train.to_csv('/Users/lasayin/Desktop/Springboard/GitHub/Springboard_DS_Capstone2/ProcessedData/y_train.cvs', index=False)\n",
    "y_test.to_csv('/Users/lasayin/Desktop/Springboard/GitHub/Springboard_DS_Capstone2/ProcessedData/y_test.cvs', index=False)"
   ]
  },
  {
   "cell_type": "code",
   "execution_count": null,
   "metadata": {},
   "outputs": [],
   "source": []
  }
 ],
 "metadata": {
  "hide_input": false,
  "kernelspec": {
   "display_name": "Python 3",
   "language": "python",
   "name": "python3"
  },
  "language_info": {
   "codemirror_mode": {
    "name": "ipython",
    "version": 3
   },
   "file_extension": ".py",
   "mimetype": "text/x-python",
   "name": "python",
   "nbconvert_exporter": "python",
   "pygments_lexer": "ipython3",
   "version": "3.8.3"
  },
  "toc": {
   "base_numbering": 1,
   "nav_menu": {},
   "number_sections": true,
   "sideBar": true,
   "skip_h1_title": false,
   "title_cell": "Table of Contents",
   "title_sidebar": "Contents",
   "toc_cell": true,
   "toc_position": {},
   "toc_section_display": true,
   "toc_window_display": false
  },
  "varInspector": {
   "cols": {
    "lenName": 16,
    "lenType": 16,
    "lenVar": 40
   },
   "kernels_config": {
    "python": {
     "delete_cmd_postfix": "",
     "delete_cmd_prefix": "del ",
     "library": "var_list.py",
     "varRefreshCmd": "print(var_dic_list())"
    },
    "r": {
     "delete_cmd_postfix": ") ",
     "delete_cmd_prefix": "rm(",
     "library": "var_list.r",
     "varRefreshCmd": "cat(var_dic_list()) "
    }
   },
   "types_to_exclude": [
    "module",
    "function",
    "builtin_function_or_method",
    "instance",
    "_Feature"
   ],
   "window_display": false
  }
 },
 "nbformat": 4,
 "nbformat_minor": 4
}
