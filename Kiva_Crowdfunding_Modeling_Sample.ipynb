{
 "cells": [
  {
   "cell_type": "markdown",
   "metadata": {
    "toc": true
   },
   "source": [
    "<h1>Table of Contents<span class=\"tocSkip\"></span></h1>\n",
    "<div class=\"toc\"><ul class=\"toc-item\"><li><span><a href=\"#Preparing-for-modeling\" data-toc-modified-id=\"Preparing-for-modeling-1\"><span class=\"toc-item-num\">1&nbsp;&nbsp;</span>Preparing for modeling</a></span><ul class=\"toc-item\"><li><span><a href=\"#Load-Data\" data-toc-modified-id=\"Load-Data-1.1\"><span class=\"toc-item-num\">1.1&nbsp;&nbsp;</span>Load Data</a></span></li><li><span><a href=\"#Train/Test-Split\" data-toc-modified-id=\"Train/Test-Split-1.2\"><span class=\"toc-item-num\">1.2&nbsp;&nbsp;</span>Train/Test Split</a></span></li><li><span><a href=\"#Scale-the-numeric-features\" data-toc-modified-id=\"Scale-the-numeric-features-1.3\"><span class=\"toc-item-num\">1.3&nbsp;&nbsp;</span>Scale the numeric features</a></span></li><li><span><a href=\"#Define-Evaluation-Functions\" data-toc-modified-id=\"Define-Evaluation-Functions-1.4\"><span class=\"toc-item-num\">1.4&nbsp;&nbsp;</span>Define Evaluation Functions</a></span><ul class=\"toc-item\"><li><span><a href=\"#Cross-Validation-Accuracy-Scores\" data-toc-modified-id=\"Cross-Validation-Accuracy-Scores-1.4.1\"><span class=\"toc-item-num\">1.4.1&nbsp;&nbsp;</span>Cross Validation Accuracy Scores</a></span></li><li><span><a href=\"#True-Positive-Rate-and-False-Positive-Rate\" data-toc-modified-id=\"True-Positive-Rate-and-False-Positive-Rate-1.4.2\"><span class=\"toc-item-num\">1.4.2&nbsp;&nbsp;</span>True Positive Rate and False Positive Rate</a></span></li><li><span><a href=\"#AUROC-and-Plot\" data-toc-modified-id=\"AUROC-and-Plot-1.4.3\"><span class=\"toc-item-num\">1.4.3&nbsp;&nbsp;</span>AUROC and Plot</a></span></li><li><span><a href=\"#Feature-Coefficient\" data-toc-modified-id=\"Feature-Coefficient-1.4.4\"><span class=\"toc-item-num\">1.4.4&nbsp;&nbsp;</span>Feature Coefficient</a></span></li><li><span><a href=\"#Feature-Importance\" data-toc-modified-id=\"Feature-Importance-1.4.5\"><span class=\"toc-item-num\">1.4.5&nbsp;&nbsp;</span>Feature Importance</a></span></li></ul></li></ul></li><li><span><a href=\"#Model-Tuning-and-Training\" data-toc-modified-id=\"Model-Tuning-and-Training-2\"><span class=\"toc-item-num\">2&nbsp;&nbsp;</span>Model Tuning and Training</a></span><ul class=\"toc-item\"><li><span><a href=\"#Baseline-Model:-Logistic-Regression\" data-toc-modified-id=\"Baseline-Model:-Logistic-Regression-2.1\"><span class=\"toc-item-num\">2.1&nbsp;&nbsp;</span>Baseline Model: Logistic Regression</a></span><ul class=\"toc-item\"><li><span><a href=\"#Logistic-Regression-with-default-parameters\" data-toc-modified-id=\"Logistic-Regression-with-default-parameters-2.1.1\"><span class=\"toc-item-num\">2.1.1&nbsp;&nbsp;</span>Logistic Regression with default parameters</a></span></li><li><span><a href=\"#Changing-the-inverse-of-regularization-strength(C-parameter)\" data-toc-modified-id=\"Changing-the-inverse-of-regularization-strength(C-parameter)-2.1.2\"><span class=\"toc-item-num\">2.1.2&nbsp;&nbsp;</span>Changing the inverse of regularization strength(C parameter)</a></span></li></ul></li><li><span><a href=\"#KNN\" data-toc-modified-id=\"KNN-2.2\"><span class=\"toc-item-num\">2.2&nbsp;&nbsp;</span>KNN</a></span><ul class=\"toc-item\"><li><span><a href=\"#KNN-with-default-parameters\" data-toc-modified-id=\"KNN-with-default-parameters-2.2.1\"><span class=\"toc-item-num\">2.2.1&nbsp;&nbsp;</span>KNN with default parameters</a></span></li><li><span><a href=\"#The-optimized-number-of-neighbors\" data-toc-modified-id=\"The-optimized-number-of-neighbors-2.2.2\"><span class=\"toc-item-num\">2.2.2&nbsp;&nbsp;</span>The optimized number of neighbors</a></span></li><li><span><a href=\"#KNN-Hyper-parameters-tuning\" data-toc-modified-id=\"KNN-Hyper-parameters-tuning-2.2.3\"><span class=\"toc-item-num\">2.2.3&nbsp;&nbsp;</span>KNN Hyper-parameters tuning</a></span></li><li><span><a href=\"#Best-KNN-training-and-evaluation\" data-toc-modified-id=\"Best-KNN-training-and-evaluation-2.2.4\"><span class=\"toc-item-num\">2.2.4&nbsp;&nbsp;</span>Best KNN training and evaluation</a></span></li></ul></li><li><span><a href=\"#Random-Forest\" data-toc-modified-id=\"Random-Forest-2.3\"><span class=\"toc-item-num\">2.3&nbsp;&nbsp;</span>Random Forest</a></span><ul class=\"toc-item\"><li><span><a href=\"#Random-forest-with-default-parameters\" data-toc-modified-id=\"Random-forest-with-default-parameters-2.3.1\"><span class=\"toc-item-num\">2.3.1&nbsp;&nbsp;</span>Random forest with default parameters</a></span></li><li><span><a href=\"#Random-forest-hyper-parameters-tuning\" data-toc-modified-id=\"Random-forest-hyper-parameters-tuning-2.3.2\"><span class=\"toc-item-num\">2.3.2&nbsp;&nbsp;</span>Random forest hyper-parameters tuning</a></span></li><li><span><a href=\"#Best-random-forest-training-and-evaluation\" data-toc-modified-id=\"Best-random-forest-training-and-evaluation-2.3.3\"><span class=\"toc-item-num\">2.3.3&nbsp;&nbsp;</span>Best random forest training and evaluation</a></span></li></ul></li><li><span><a href=\"#Gradient-Boosting\" data-toc-modified-id=\"Gradient-Boosting-2.4\"><span class=\"toc-item-num\">2.4&nbsp;&nbsp;</span>Gradient Boosting</a></span><ul class=\"toc-item\"><li><span><a href=\"#Gradient-Boosting-with-default-parameters\" data-toc-modified-id=\"Gradient-Boosting-with-default-parameters-2.4.1\"><span class=\"toc-item-num\">2.4.1&nbsp;&nbsp;</span>Gradient Boosting with default parameters</a></span></li><li><span><a href=\"#Gradient-boosting-hyper-parameters-tuning\" data-toc-modified-id=\"Gradient-boosting-hyper-parameters-tuning-2.4.2\"><span class=\"toc-item-num\">2.4.2&nbsp;&nbsp;</span>Gradient boosting hyper-parameters tuning</a></span></li><li><span><a href=\"#Best-gradient-boosting-training-and-evaluation\" data-toc-modified-id=\"Best-gradient-boosting-training-and-evaluation-2.4.3\"><span class=\"toc-item-num\">2.4.3&nbsp;&nbsp;</span>Best gradient boosting training and evaluation</a></span></li></ul></li></ul></li><li><span><a href=\"#Comparing-Models\" data-toc-modified-id=\"Comparing-Models-3\"><span class=\"toc-item-num\">3&nbsp;&nbsp;</span>Comparing Models</a></span><ul class=\"toc-item\"><li><span><a href=\"#Comparing-Accuracy\" data-toc-modified-id=\"Comparing-Accuracy-3.1\"><span class=\"toc-item-num\">3.1&nbsp;&nbsp;</span>Comparing Accuracy</a></span></li><li><span><a href=\"#Comparing-TPR,-FPR-and-AUROC\" data-toc-modified-id=\"Comparing-TPR,-FPR-and-AUROC-3.2\"><span class=\"toc-item-num\">3.2&nbsp;&nbsp;</span>Comparing TPR, FPR and AUROC</a></span></li></ul></li><li><span><a href=\"#Conclution\" data-toc-modified-id=\"Conclution-4\"><span class=\"toc-item-num\">4&nbsp;&nbsp;</span>Conclution</a></span></li><li><span><a href=\"#Next-Steps\" data-toc-modified-id=\"Next-Steps-5\"><span class=\"toc-item-num\">5&nbsp;&nbsp;</span>Next Steps</a></span></li></ul></div>"
   ]
  },
  {
   "cell_type": "code",
   "execution_count": 1,
   "metadata": {
    "ExecuteTime": {
     "end_time": "2021-07-05T20:55:22.154203Z",
     "start_time": "2021-07-05T20:55:18.369942Z"
    }
   },
   "outputs": [],
   "source": [
    "import pandas as pd\n",
    "import numpy as np\n",
    "import matplotlib.pyplot as plt\n",
    "import seaborn as sns\n",
    "from sklearn.model_selection import train_test_split\n",
    "from sklearn.preprocessing import StandardScaler\n",
    "from sklearn.model_selection import cross_val_score\n",
    "from sklearn.preprocessing import MinMaxScaler\n",
    "from sklearn.linear_model import LogisticRegression\n",
    "from sklearn.model_selection import GridSearchCV\n",
    "from sklearn.metrics import accuracy_score\n",
    "from sklearn.model_selection import validation_curve\n",
    "from sklearn.metrics import confusion_matrix\n",
    "from sklearn.neighbors import KNeighborsClassifier\n",
    "from sklearn.ensemble import RandomForestClassifier\n",
    "from sklearn.ensemble import ExtraTreesClassifier, GradientBoostingClassifier\n",
    "from sklearn.metrics import auc, roc_curve, roc_auc_score"
   ]
  },
  {
   "cell_type": "code",
   "execution_count": 2,
   "metadata": {
    "ExecuteTime": {
     "end_time": "2021-07-05T20:55:22.173411Z",
     "start_time": "2021-07-05T20:55:22.158873Z"
    }
   },
   "outputs": [],
   "source": [
    "pd.options.mode.chained_assignment = None"
   ]
  },
  {
   "cell_type": "code",
   "execution_count": 3,
   "metadata": {
    "ExecuteTime": {
     "end_time": "2021-07-05T20:55:22.187063Z",
     "start_time": "2021-07-05T20:55:22.177616Z"
    }
   },
   "outputs": [],
   "source": [
    "np.random.seed(1)"
   ]
  },
  {
   "cell_type": "markdown",
   "metadata": {},
   "source": [
    "## Preparing for modeling"
   ]
  },
  {
   "cell_type": "markdown",
   "metadata": {},
   "source": [
    "### Load Data"
   ]
  },
  {
   "cell_type": "code",
   "execution_count": 4,
   "metadata": {
    "ExecuteTime": {
     "end_time": "2021-07-05T20:55:26.462265Z",
     "start_time": "2021-07-05T20:55:22.197120Z"
    }
   },
   "outputs": [],
   "source": [
    "loans_df = pd.read_csv('/Users/lasayin/Desktop/Springboard/GitHub/Springboard_DS_Capstone2/ProcessedData/loans_df.cvs')"
   ]
  },
  {
   "cell_type": "code",
   "execution_count": 5,
   "metadata": {
    "ExecuteTime": {
     "end_time": "2021-07-05T20:55:26.543236Z",
     "start_time": "2021-07-05T20:55:26.468749Z"
    }
   },
   "outputs": [],
   "source": [
    "sample = loans_df.sample(1000).reset_index(drop=True)"
   ]
  },
  {
   "cell_type": "code",
   "execution_count": 6,
   "metadata": {
    "ExecuteTime": {
     "end_time": "2021-07-05T20:55:26.629939Z",
     "start_time": "2021-07-05T20:55:26.576138Z"
    }
   },
   "outputs": [
    {
     "name": "stdout",
     "output_type": "stream",
     "text": [
      "<class 'pandas.core.frame.DataFrame'>\n",
      "RangeIndex: 1000 entries, 0 to 999\n",
      "Data columns (total 34 columns):\n",
      " #   Column                                    Non-Null Count  Dtype  \n",
      "---  ------                                    --------------  -----  \n",
      " 0   loan_amount                               1000 non-null   float64\n",
      " 1   term_in_months                            1000 non-null   float64\n",
      " 2   MPI                                       1000 non-null   float64\n",
      " 3   loan_amount_per_month                     1000 non-null   float64\n",
      " 4   funding_speed                             1000 non-null   float64\n",
      " 5   sector_Agriculture                        1000 non-null   int64  \n",
      " 6   sector_Food                               1000 non-null   int64  \n",
      " 7   sector_Others                             1000 non-null   int64  \n",
      " 8   sector_Retail                             1000 non-null   int64  \n",
      " 9   country_Cambodia                          1000 non-null   int64  \n",
      " 10  country_El Salvador                       1000 non-null   int64  \n",
      " 11  country_Kenya                             1000 non-null   int64  \n",
      " 12  country_Others                            1000 non-null   int64  \n",
      " 13  country_Pakistan                          1000 non-null   int64  \n",
      " 14  country_Philippines                       1000 non-null   int64  \n",
      " 15  borrower_genders_female                   1000 non-null   int64  \n",
      " 16  borrower_genders_male                     1000 non-null   int64  \n",
      " 17  borrower_genders_mixed                    1000 non-null   int64  \n",
      " 18  borrower_genders_unknown                  1000 non-null   int64  \n",
      " 19  repayment_interval_bullet                 1000 non-null   int64  \n",
      " 20  repayment_interval_irregular              1000 non-null   int64  \n",
      " 21  repayment_interval_monthly                1000 non-null   int64  \n",
      " 22  repayment_interval_weekly                 1000 non-null   int64  \n",
      " 23  world_region_Arab States                  1000 non-null   int64  \n",
      " 24  world_region_East Asia and the Pacific    1000 non-null   int64  \n",
      " 25  world_region_Europe and Central Asia      1000 non-null   int64  \n",
      " 26  world_region_Latin America and Caribbean  1000 non-null   int64  \n",
      " 27  world_region_South Asia                   1000 non-null   int64  \n",
      " 28  world_region_Sub-Saharan Africa           1000 non-null   int64  \n",
      " 29  posted_season_Fall                        1000 non-null   int64  \n",
      " 30  posted_season_Spring                      1000 non-null   int64  \n",
      " 31  posted_season_Summer                      1000 non-null   int64  \n",
      " 32  posted_season_Winter                      1000 non-null   int64  \n",
      " 33  With_tag                                  1000 non-null   int64  \n",
      "dtypes: float64(5), int64(29)\n",
      "memory usage: 265.8 KB\n"
     ]
    }
   ],
   "source": [
    "sample.info()"
   ]
  },
  {
   "cell_type": "code",
   "execution_count": 7,
   "metadata": {
    "ExecuteTime": {
     "end_time": "2021-07-05T20:55:26.771205Z",
     "start_time": "2021-07-05T20:55:26.717458Z"
    }
   },
   "outputs": [
    {
     "data": {
      "text/html": [
       "<div>\n",
       "<style scoped>\n",
       "    .dataframe tbody tr th:only-of-type {\n",
       "        vertical-align: middle;\n",
       "    }\n",
       "\n",
       "    .dataframe tbody tr th {\n",
       "        vertical-align: top;\n",
       "    }\n",
       "\n",
       "    .dataframe thead th {\n",
       "        text-align: right;\n",
       "    }\n",
       "</style>\n",
       "<table border=\"1\" class=\"dataframe\">\n",
       "  <thead>\n",
       "    <tr style=\"text-align: right;\">\n",
       "      <th></th>\n",
       "      <th>loan_amount</th>\n",
       "      <th>term_in_months</th>\n",
       "      <th>MPI</th>\n",
       "      <th>loan_amount_per_month</th>\n",
       "      <th>funding_speed</th>\n",
       "      <th>sector_Agriculture</th>\n",
       "      <th>sector_Food</th>\n",
       "      <th>sector_Others</th>\n",
       "      <th>sector_Retail</th>\n",
       "      <th>country_Cambodia</th>\n",
       "      <th>...</th>\n",
       "      <th>world_region_East Asia and the Pacific</th>\n",
       "      <th>world_region_Europe and Central Asia</th>\n",
       "      <th>world_region_Latin America and Caribbean</th>\n",
       "      <th>world_region_South Asia</th>\n",
       "      <th>world_region_Sub-Saharan Africa</th>\n",
       "      <th>posted_season_Fall</th>\n",
       "      <th>posted_season_Spring</th>\n",
       "      <th>posted_season_Summer</th>\n",
       "      <th>posted_season_Winter</th>\n",
       "      <th>With_tag</th>\n",
       "    </tr>\n",
       "  </thead>\n",
       "  <tbody>\n",
       "    <tr>\n",
       "      <th>0</th>\n",
       "      <td>475.0</td>\n",
       "      <td>14.0</td>\n",
       "      <td>0.230320</td>\n",
       "      <td>34.0</td>\n",
       "      <td>1.0</td>\n",
       "      <td>0</td>\n",
       "      <td>1</td>\n",
       "      <td>0</td>\n",
       "      <td>0</td>\n",
       "      <td>0</td>\n",
       "      <td>...</td>\n",
       "      <td>0</td>\n",
       "      <td>0</td>\n",
       "      <td>0</td>\n",
       "      <td>1</td>\n",
       "      <td>0</td>\n",
       "      <td>0</td>\n",
       "      <td>0</td>\n",
       "      <td>1</td>\n",
       "      <td>0</td>\n",
       "      <td>1</td>\n",
       "    </tr>\n",
       "    <tr>\n",
       "      <th>1</th>\n",
       "      <td>900.0</td>\n",
       "      <td>8.0</td>\n",
       "      <td>0.043095</td>\n",
       "      <td>112.0</td>\n",
       "      <td>1.0</td>\n",
       "      <td>1</td>\n",
       "      <td>0</td>\n",
       "      <td>0</td>\n",
       "      <td>0</td>\n",
       "      <td>0</td>\n",
       "      <td>...</td>\n",
       "      <td>0</td>\n",
       "      <td>0</td>\n",
       "      <td>1</td>\n",
       "      <td>0</td>\n",
       "      <td>0</td>\n",
       "      <td>0</td>\n",
       "      <td>0</td>\n",
       "      <td>1</td>\n",
       "      <td>0</td>\n",
       "      <td>1</td>\n",
       "    </tr>\n",
       "    <tr>\n",
       "      <th>2</th>\n",
       "      <td>600.0</td>\n",
       "      <td>13.0</td>\n",
       "      <td>0.001873</td>\n",
       "      <td>46.0</td>\n",
       "      <td>0.0</td>\n",
       "      <td>1</td>\n",
       "      <td>0</td>\n",
       "      <td>0</td>\n",
       "      <td>0</td>\n",
       "      <td>0</td>\n",
       "      <td>...</td>\n",
       "      <td>0</td>\n",
       "      <td>1</td>\n",
       "      <td>0</td>\n",
       "      <td>0</td>\n",
       "      <td>0</td>\n",
       "      <td>1</td>\n",
       "      <td>0</td>\n",
       "      <td>0</td>\n",
       "      <td>0</td>\n",
       "      <td>1</td>\n",
       "    </tr>\n",
       "    <tr>\n",
       "      <th>3</th>\n",
       "      <td>600.0</td>\n",
       "      <td>8.0</td>\n",
       "      <td>0.155682</td>\n",
       "      <td>75.0</td>\n",
       "      <td>1.0</td>\n",
       "      <td>0</td>\n",
       "      <td>0</td>\n",
       "      <td>0</td>\n",
       "      <td>1</td>\n",
       "      <td>0</td>\n",
       "      <td>...</td>\n",
       "      <td>0</td>\n",
       "      <td>0</td>\n",
       "      <td>0</td>\n",
       "      <td>0</td>\n",
       "      <td>1</td>\n",
       "      <td>1</td>\n",
       "      <td>0</td>\n",
       "      <td>0</td>\n",
       "      <td>0</td>\n",
       "      <td>1</td>\n",
       "    </tr>\n",
       "    <tr>\n",
       "      <th>4</th>\n",
       "      <td>75.0</td>\n",
       "      <td>14.0</td>\n",
       "      <td>0.302671</td>\n",
       "      <td>5.0</td>\n",
       "      <td>0.0</td>\n",
       "      <td>0</td>\n",
       "      <td>0</td>\n",
       "      <td>1</td>\n",
       "      <td>0</td>\n",
       "      <td>0</td>\n",
       "      <td>...</td>\n",
       "      <td>0</td>\n",
       "      <td>0</td>\n",
       "      <td>0</td>\n",
       "      <td>0</td>\n",
       "      <td>1</td>\n",
       "      <td>0</td>\n",
       "      <td>0</td>\n",
       "      <td>0</td>\n",
       "      <td>1</td>\n",
       "      <td>0</td>\n",
       "    </tr>\n",
       "  </tbody>\n",
       "</table>\n",
       "<p>5 rows × 34 columns</p>\n",
       "</div>"
      ],
      "text/plain": [
       "   loan_amount  term_in_months       MPI  loan_amount_per_month  \\\n",
       "0        475.0            14.0  0.230320                   34.0   \n",
       "1        900.0             8.0  0.043095                  112.0   \n",
       "2        600.0            13.0  0.001873                   46.0   \n",
       "3        600.0             8.0  0.155682                   75.0   \n",
       "4         75.0            14.0  0.302671                    5.0   \n",
       "\n",
       "   funding_speed  sector_Agriculture  sector_Food  sector_Others  \\\n",
       "0            1.0                   0            1              0   \n",
       "1            1.0                   1            0              0   \n",
       "2            0.0                   1            0              0   \n",
       "3            1.0                   0            0              0   \n",
       "4            0.0                   0            0              1   \n",
       "\n",
       "   sector_Retail  country_Cambodia  ...  \\\n",
       "0              0                 0  ...   \n",
       "1              0                 0  ...   \n",
       "2              0                 0  ...   \n",
       "3              1                 0  ...   \n",
       "4              0                 0  ...   \n",
       "\n",
       "   world_region_East Asia and the Pacific  \\\n",
       "0                                       0   \n",
       "1                                       0   \n",
       "2                                       0   \n",
       "3                                       0   \n",
       "4                                       0   \n",
       "\n",
       "   world_region_Europe and Central Asia  \\\n",
       "0                                     0   \n",
       "1                                     0   \n",
       "2                                     1   \n",
       "3                                     0   \n",
       "4                                     0   \n",
       "\n",
       "   world_region_Latin America and Caribbean  world_region_South Asia  \\\n",
       "0                                         0                        1   \n",
       "1                                         1                        0   \n",
       "2                                         0                        0   \n",
       "3                                         0                        0   \n",
       "4                                         0                        0   \n",
       "\n",
       "   world_region_Sub-Saharan Africa  posted_season_Fall  posted_season_Spring  \\\n",
       "0                                0                   0                     0   \n",
       "1                                0                   0                     0   \n",
       "2                                0                   1                     0   \n",
       "3                                1                   1                     0   \n",
       "4                                1                   0                     0   \n",
       "\n",
       "   posted_season_Summer  posted_season_Winter  With_tag  \n",
       "0                     1                     0         1  \n",
       "1                     1                     0         1  \n",
       "2                     0                     0         1  \n",
       "3                     0                     0         1  \n",
       "4                     0                     1         0  \n",
       "\n",
       "[5 rows x 34 columns]"
      ]
     },
     "execution_count": 7,
     "metadata": {},
     "output_type": "execute_result"
    }
   ],
   "source": [
    "sample.head()"
   ]
  },
  {
   "cell_type": "markdown",
   "metadata": {},
   "source": [
    "### Train/Test Split"
   ]
  },
  {
   "cell_type": "code",
   "execution_count": 8,
   "metadata": {
    "ExecuteTime": {
     "end_time": "2021-07-05T20:55:26.802501Z",
     "start_time": "2021-07-05T20:55:26.798511Z"
    }
   },
   "outputs": [],
   "source": [
    "X = sample.drop(columns='funding_speed')\n",
    "y = sample.funding_speed"
   ]
  },
  {
   "cell_type": "code",
   "execution_count": 9,
   "metadata": {
    "ExecuteTime": {
     "end_time": "2021-07-05T20:55:26.817760Z",
     "start_time": "2021-07-05T20:55:26.806152Z"
    }
   },
   "outputs": [],
   "source": [
    "X_train, X_test, y_train, y_test = train_test_split(X, y, test_size=0.3)"
   ]
  },
  {
   "cell_type": "markdown",
   "metadata": {},
   "source": [
    "### Scale the numeric features"
   ]
  },
  {
   "cell_type": "code",
   "execution_count": 10,
   "metadata": {
    "ExecuteTime": {
     "end_time": "2021-07-05T20:55:26.841973Z",
     "start_time": "2021-07-05T20:55:26.821025Z"
    }
   },
   "outputs": [],
   "source": [
    "numeric_columns = ['loan_amount', 'term_in_months', 'loan_amount_per_month', 'MPI']\n",
    "\n",
    "scaler = StandardScaler() \n",
    "X_train[numeric_columns] = scaler.fit_transform(X_train[numeric_columns])\n",
    "X_test[numeric_columns] = scaler.transform(X_test[numeric_columns])"
   ]
  },
  {
   "cell_type": "markdown",
   "metadata": {},
   "source": [
    "### Define Evaluation Functions"
   ]
  },
  {
   "cell_type": "markdown",
   "metadata": {},
   "source": [
    "#### Cross Validation Accuracy Scores"
   ]
  },
  {
   "cell_type": "code",
   "execution_count": 11,
   "metadata": {
    "ExecuteTime": {
     "end_time": "2021-07-05T20:55:26.854622Z",
     "start_time": "2021-07-05T20:55:26.846296Z"
    }
   },
   "outputs": [],
   "source": [
    "def CV_accuracy(clf):\n",
    "    # Train/Test accuary score\n",
    "    score_accu_tr= cross_val_score(clf,X_train,y_train,cv=5,scoring='accuracy')\n",
    "    score_accu_te= cross_val_score(clf,X_test,y_test,cv=5,scoring='accuracy')\n",
    "    print('Mean CV accuracy score for train data is:', score_accu_tr.mean().round(3))\n",
    "    print('Mean CV accuracy score for test data is:', score_accu_te.mean().round(3))\n",
    "    return score_accu_tr.mean(), score_accu_te.mean()"
   ]
  },
  {
   "cell_type": "markdown",
   "metadata": {},
   "source": [
    "#### True Positive Rate and False Positive Rate"
   ]
  },
  {
   "cell_type": "code",
   "execution_count": 12,
   "metadata": {
    "ExecuteTime": {
     "end_time": "2021-07-05T20:55:26.871107Z",
     "start_time": "2021-07-05T20:55:26.860141Z"
    }
   },
   "outputs": [],
   "source": [
    "def TPR_FPR(clf):\n",
    "    # Calcute true positive rate and false positive rate \n",
    "    predictions = clf.predict(X_test)\n",
    "    tn, fp, fn, tp = confusion_matrix(y_test, predictions).reshape(-1)\n",
    "    TPR = (tp / (tp + fn)).round(3)\n",
    "    FPR = (fp / (fp + tn)).round(3)\n",
    "    print('True positive rate is:', TPR)\n",
    "    print('False positive rate is:', FPR)\n",
    "    return TPR, FPR"
   ]
  },
  {
   "cell_type": "markdown",
   "metadata": {},
   "source": [
    "#### AUROC and Plot"
   ]
  },
  {
   "cell_type": "code",
   "execution_count": 45,
   "metadata": {
    "ExecuteTime": {
     "end_time": "2021-07-05T23:08:06.959431Z",
     "start_time": "2021-07-05T23:08:06.923569Z"
    }
   },
   "outputs": [],
   "source": [
    "def ROC_AUC(clf):\n",
    "    # Calcute Compute Area Under the Receiver Operating Characteristic Curve (ROC AUC)\n",
    "    auroc = roc_auc_score(y_test, clf.predict_proba(X_test)[:, 1]).round(3)\n",
    "    print(\"ROC-AUC Score is:\", auroc)\n",
    "    \n",
    "    # Plot ROC Curve\n",
    "    fpr, tpr, thresholds = roc_curve(y_test, clf.predict_proba(X_test)[:, 1])\n",
    "    plt.plot(fpr, tpr, linewidth=2)\n",
    "    plt.plot([0, 1], [0, 1], 'r', linewidth=4)\n",
    "    plt.axis([0, 1, 0, 1])\n",
    "    plt.xlabel('False Positive Rate (FPR)', fontsize=15)\n",
    "    plt.ylabel('True Positive Rate (TPR)', fontsize=15)\n",
    "    plt.title('ROC Curve',fontsize=15)\n",
    "    _ = plt.show()\n",
    "    \n",
    "    return auroc"
   ]
  },
  {
   "cell_type": "markdown",
   "metadata": {},
   "source": [
    "#### Feature Coefficient"
   ]
  },
  {
   "cell_type": "code",
   "execution_count": 14,
   "metadata": {
    "ExecuteTime": {
     "end_time": "2021-07-05T20:55:26.906312Z",
     "start_time": "2021-07-05T20:55:26.892754Z"
    }
   },
   "outputs": [],
   "source": [
    "def feature_coef(clf):\n",
    "    coefficients = clf.coef_\n",
    "    ordered_feature_coef = pd.Series(coefficients[0], index=X_train.columns).abs().sort_values(ascending=False)   \n",
    "    plt.figure(figsize=(10, 6))\n",
    "    ordered_feature_coef.nlargest(10).sort_values().plot.barh()\n",
    "    plt.xlabel('Coefficient',fontsize=15)\n",
    "    plt.ylabel('Features',fontsize=15)\n",
    "    plt.title('Feature Coefficient (Top 10)',fontsize=15)   \n",
    "    _ = plt.show()\n",
    "    print(ordered_feature_coef)"
   ]
  },
  {
   "cell_type": "markdown",
   "metadata": {},
   "source": [
    "#### Feature Importance"
   ]
  },
  {
   "cell_type": "code",
   "execution_count": 59,
   "metadata": {
    "ExecuteTime": {
     "end_time": "2021-07-05T23:14:59.788499Z",
     "start_time": "2021-07-05T23:14:59.779169Z"
    }
   },
   "outputs": [],
   "source": [
    "def feature_importance(clf):\n",
    "    ordered_feature_importance = pd.Series(clf.feature_importances_, index=X_train.columns).abs().sort_values(ascending=False) \n",
    "    plt.figure(figsize=(10, 6))\n",
    "    ordered_feature_importance.nlargest(10).sort_values().plot.barh()\n",
    "    plt.xlabel('Importance',fontsize=15)\n",
    "    plt.ylabel('Features',fontsize=15)\n",
    "    plt.title('Feature Importance',fontsize=15)  \n",
    "    _ = plt.show()\n",
    "    print(ordered_feature_importance)"
   ]
  },
  {
   "cell_type": "markdown",
   "metadata": {},
   "source": [
    "## Model Tuning and Training"
   ]
  },
  {
   "cell_type": "markdown",
   "metadata": {},
   "source": [
    "### Baseline Model: Logistic Regression"
   ]
  },
  {
   "cell_type": "markdown",
   "metadata": {},
   "source": [
    "#### Logistic Regression with default parameters"
   ]
  },
  {
   "cell_type": "code",
   "execution_count": 94,
   "metadata": {
    "ExecuteTime": {
     "end_time": "2021-07-06T01:41:04.441867Z",
     "start_time": "2021-07-06T01:41:03.949753Z"
    }
   },
   "outputs": [
    {
     "name": "stdout",
     "output_type": "stream",
     "text": [
      "Mean CV accuracy score for train data is: 0.72\n",
      "Mean CV accuracy score for test data is: 0.633\n"
     ]
    }
   ],
   "source": [
    "lr_default = LogisticRegression()\n",
    "lr_default.fit(X_train, y_train)\n",
    "\n",
    "# Calculate cross validation accuracy scores\n",
    "_ = CV_accuracy(lr_default)"
   ]
  },
  {
   "cell_type": "markdown",
   "metadata": {},
   "source": [
    "#### Changing the inverse of regularization strength(C parameter)"
   ]
  },
  {
   "cell_type": "code",
   "execution_count": 16,
   "metadata": {
    "ExecuteTime": {
     "end_time": "2021-07-05T20:55:28.623551Z",
     "start_time": "2021-07-05T20:55:26.927179Z"
    }
   },
   "outputs": [
    {
     "data": {
      "text/html": [
       "<div>\n",
       "<style scoped>\n",
       "    .dataframe tbody tr th:only-of-type {\n",
       "        vertical-align: middle;\n",
       "    }\n",
       "\n",
       "    .dataframe tbody tr th {\n",
       "        vertical-align: top;\n",
       "    }\n",
       "\n",
       "    .dataframe thead th {\n",
       "        text-align: right;\n",
       "    }\n",
       "</style>\n",
       "<table border=\"1\" class=\"dataframe\">\n",
       "  <thead>\n",
       "    <tr style=\"text-align: right;\">\n",
       "      <th></th>\n",
       "      <th>C_parameter</th>\n",
       "      <th>train_accuracy</th>\n",
       "      <th>test_accuracy</th>\n",
       "    </tr>\n",
       "  </thead>\n",
       "  <tbody>\n",
       "    <tr>\n",
       "      <th>0</th>\n",
       "      <td>0.001</td>\n",
       "      <td>0.662857</td>\n",
       "      <td>0.586667</td>\n",
       "    </tr>\n",
       "    <tr>\n",
       "      <th>1</th>\n",
       "      <td>0.010</td>\n",
       "      <td>0.694286</td>\n",
       "      <td>0.63</td>\n",
       "    </tr>\n",
       "    <tr>\n",
       "      <th>2</th>\n",
       "      <td>0.100</td>\n",
       "      <td>0.715714</td>\n",
       "      <td>0.636667</td>\n",
       "    </tr>\n",
       "    <tr>\n",
       "      <th>3</th>\n",
       "      <td>1.000</td>\n",
       "      <td>0.721429</td>\n",
       "      <td>0.636667</td>\n",
       "    </tr>\n",
       "    <tr>\n",
       "      <th>4</th>\n",
       "      <td>10.000</td>\n",
       "      <td>0.722857</td>\n",
       "      <td>0.643333</td>\n",
       "    </tr>\n",
       "    <tr>\n",
       "      <th>5</th>\n",
       "      <td>100.000</td>\n",
       "      <td>0.721429</td>\n",
       "      <td>0.636667</td>\n",
       "    </tr>\n",
       "  </tbody>\n",
       "</table>\n",
       "</div>"
      ],
      "text/plain": [
       "   C_parameter train_accuracy test_accuracy\n",
       "0        0.001       0.662857      0.586667\n",
       "1        0.010       0.694286          0.63\n",
       "2        0.100       0.715714      0.636667\n",
       "3        1.000       0.721429      0.636667\n",
       "4       10.000       0.722857      0.643333\n",
       "5      100.000       0.721429      0.636667"
      ]
     },
     "execution_count": 16,
     "metadata": {},
     "output_type": "execute_result"
    }
   ],
   "source": [
    "C_param_range = [0.001,0.01,0.1,1,10,100]\n",
    "lr_C_accuracy = pd.DataFrame(columns = ['C_parameter','train_accuracy', 'test_accuracy'])\n",
    "lr_C_accuracy['C_parameter'] = C_param_range\n",
    "\n",
    "index = 0\n",
    "for i in C_param_range:\n",
    "    lr = LogisticRegression(C = i, solver='liblinear') # The default solver 'lbfgs' raise an AttributeError\n",
    "    scores_lr_train= cross_val_score(lr,X_train,y_train,cv=5,scoring='accuracy')\n",
    "    scores_lr_test= cross_val_score(lr,X_test,y_test,cv=5,scoring='accuracy')\n",
    "    lr_C_accuracy.iloc[index, 1] = scores_lr_train.mean()\n",
    "    lr_C_accuracy.iloc[index, 2] = scores_lr_test.mean()\n",
    "    index += 1\n",
    "    \n",
    "lr_C_accuracy"
   ]
  },
  {
   "cell_type": "code",
   "execution_count": 17,
   "metadata": {
    "ExecuteTime": {
     "end_time": "2021-07-05T20:55:28.667403Z",
     "start_time": "2021-07-05T20:55:28.638620Z"
    }
   },
   "outputs": [
    {
     "data": {
      "text/plain": [
       "LogisticRegression(C=1, solver='liblinear')"
      ]
     },
     "execution_count": 17,
     "metadata": {},
     "output_type": "execute_result"
    }
   ],
   "source": [
    "# Initial classfier\n",
    "lr = LogisticRegression(solver='liblinear', C=1)\n",
    "lr.fit(X_train, y_train)"
   ]
  },
  {
   "cell_type": "code",
   "execution_count": 18,
   "metadata": {
    "ExecuteTime": {
     "end_time": "2021-07-05T20:55:28.921522Z",
     "start_time": "2021-07-05T20:55:28.677997Z"
    }
   },
   "outputs": [
    {
     "name": "stdout",
     "output_type": "stream",
     "text": [
      "Mean CV accuracy score for train data is: 0.721\n",
      "Mean CV accuracy score for test data is: 0.637\n"
     ]
    }
   ],
   "source": [
    "# Calculate cross validation accuracy scores\n",
    "cv_accuracy_train_lr, cv_accuracy_test_lr = CV_accuracy(lr)"
   ]
  },
  {
   "cell_type": "code",
   "execution_count": 19,
   "metadata": {
    "ExecuteTime": {
     "end_time": "2021-07-05T20:55:28.955529Z",
     "start_time": "2021-07-05T20:55:28.931007Z"
    }
   },
   "outputs": [
    {
     "name": "stdout",
     "output_type": "stream",
     "text": [
      "True positive rate is: 0.63\n",
      "False positive rate is: 0.309\n"
     ]
    }
   ],
   "source": [
    "# Calculate true positive rate and false positive ate\n",
    "TPR_lr, FPR_lr = TPR_FPR(lr)"
   ]
  },
  {
   "cell_type": "code",
   "execution_count": 81,
   "metadata": {
    "ExecuteTime": {
     "end_time": "2021-07-06T01:20:04.481617Z",
     "start_time": "2021-07-06T01:20:04.146679Z"
    }
   },
   "outputs": [
    {
     "name": "stdout",
     "output_type": "stream",
     "text": [
      "ROC-AUC Score is: 0.736\n"
     ]
    },
    {
     "data": {
      "image/png": "[encoded data removed]",
      "text/plain": [
       "<Figure size 432x288 with 1 Axes>"
      ]
     },
     "metadata": {
      "needs_background": "light"
     },
     "output_type": "display_data"
    }
   ],
   "source": [
    "# Calculate AUROC\n",
    "auroc_lr = ROC_AUC(lr)"
   ]
  },
  {
   "cell_type": "code",
   "execution_count": 21,
   "metadata": {
    "ExecuteTime": {
     "end_time": "2021-07-05T20:55:29.969838Z",
     "start_time": "2021-07-05T20:55:29.664359Z"
    }
   },
   "outputs": [
    {
     "data": {
      "image/png": "[encoded data removed]",
      "text/plain": [
       "<Figure size 720x432 with 1 Axes>"
      ]
     },
     "metadata": {
      "needs_background": "light"
     },
     "output_type": "display_data"
    },
    {
     "name": "stdout",
     "output_type": "stream",
     "text": [
      "loan_amount_per_month                       2.053613\n",
      "With_tag                                    1.251475\n",
      "posted_season_Winter                        0.787128\n",
      "country_Others                              0.743977\n",
      "loan_amount                                 0.689384\n",
      "world_region_East Asia and the Pacific      0.593982\n",
      "posted_season_Summer                        0.588386\n",
      "borrower_genders_female                     0.545423\n",
      "world_region_Latin America and Caribbean    0.515513\n",
      "country_El Salvador                         0.495057\n",
      "sector_Others                               0.466735\n",
      "country_Philippines                         0.400575\n",
      "repayment_interval_irregular                0.390506\n",
      "posted_season_Fall                          0.385860\n",
      "posted_season_Spring                        0.370919\n",
      "sector_Retail                               0.342977\n",
      "world_region_Sub-Saharan Africa             0.333420\n",
      "borrower_genders_mixed                      0.326360\n",
      "world_region_Europe and Central Asia        0.299642\n",
      "country_Cambodia                            0.265872\n",
      "country_Kenya                               0.254634\n",
      "MPI                                         0.218501\n",
      "term_in_months                              0.204573\n",
      "country_Pakistan                            0.185050\n",
      "sector_Agriculture                          0.158787\n",
      "repayment_interval_bullet                   0.152720\n",
      "borrower_genders_unknown                    0.100975\n",
      "sector_Food                                 0.098744\n",
      "world_region_Arab States                    0.067168\n",
      "borrower_genders_male                       0.065712\n",
      "repayment_interval_monthly                  0.053985\n",
      "world_region_South Asia                     0.004386\n",
      "repayment_interval_weekly                   0.000000\n",
      "dtype: float64\n"
     ]
    }
   ],
   "source": [
    "# Calculate feature coefficient\n",
    "feature_coef(lr)"
   ]
  },
  {
   "cell_type": "markdown",
   "metadata": {},
   "source": [
    "### KNN"
   ]
  },
  {
   "cell_type": "markdown",
   "metadata": {},
   "source": [
    "#### KNN with default parameters"
   ]
  },
  {
   "cell_type": "code",
   "execution_count": 76,
   "metadata": {
    "ExecuteTime": {
     "end_time": "2021-07-06T01:12:24.992720Z",
     "start_time": "2021-07-06T01:12:24.748399Z"
    }
   },
   "outputs": [
    {
     "name": "stdout",
     "output_type": "stream",
     "text": [
      "Mean CV accuracy score for train data is: 0.65\n",
      "Mean CV accuracy score for test data is: 0.657\n"
     ]
    }
   ],
   "source": [
    "knn_default = KNeighborsClassifier()\n",
    "knn_default.fit(X_train, y_train)\n",
    "\n",
    "# Calculate cross validation accuracy scores\n",
    "_ = CV_accuracy(knn_default)"
   ]
  },
  {
   "cell_type": "markdown",
   "metadata": {},
   "source": [
    "#### The optimized number of neighbors"
   ]
  },
  {
   "cell_type": "code",
   "execution_count": 25,
   "metadata": {
    "ExecuteTime": {
     "end_time": "2021-07-05T21:01:41.468636Z",
     "start_time": "2021-07-05T21:01:36.221091Z"
    }
   },
   "outputs": [
    {
     "data": {
      "image/png": "[encoded data removed]",
      "text/plain": [
       "<Figure size 864x360 with 1 Axes>"
      ]
     },
     "metadata": {
      "needs_background": "light"
     },
     "output_type": "display_data"
    }
   ],
   "source": [
    "scores_train = []\n",
    "scores_test = []\n",
    "\n",
    "for i in range(1,30):\n",
    "    knn = KNeighborsClassifier(i)\n",
    "    score_train = cross_val_score(knn, X_train, y_train, cv=5).mean()\n",
    "    score_test = cross_val_score(knn, X_test, y_test, cv=5).mean()\n",
    "    \n",
    "    scores_train.append(score_train)\n",
    "    scores_test.append(score_test)\n",
    "    \n",
    "plt.figure(figsize=(12,5))\n",
    "n_neighbors = range(1,30)\n",
    "sns.lineplot(x=n_neighbors,y=scores_train,marker='*',label='Train Score')\n",
    "sns.lineplot(x=n_neighbors,y=scores_test,marker='o',label='Test Score')\n",
    "plt.xlabel('Number of Neighbors')\n",
    "_ = plt.ylabel('Train/Test Score')"
   ]
  },
  {
   "cell_type": "markdown",
   "metadata": {},
   "source": [
    "#### KNN Hyper-parameters tuning"
   ]
  },
  {
   "cell_type": "code",
   "execution_count": 95,
   "metadata": {
    "ExecuteTime": {
     "end_time": "2021-07-06T01:43:44.282016Z",
     "start_time": "2021-07-06T01:43:34.553903Z"
    }
   },
   "outputs": [
    {
     "name": "stdout",
     "output_type": "stream",
     "text": [
      "{'n_neighbors': 11, 'p': 2, 'weights': 'uniform'}\n",
      "0.6757142857142857\n",
      "KNeighborsClassifier(n_neighbors=11)\n"
     ]
    }
   ],
   "source": [
    "hyperparameters = {\n",
    "    \"n_neighbors\": range(1,20),\n",
    "    \"weights\": [\"distance\", \"uniform\"],\n",
    "    \"p\": [1,2]\n",
    "}\n",
    "\n",
    "knn = KNeighborsClassifier()\n",
    "grid = GridSearchCV(knn, param_grid=hyperparameters, cv=5)\n",
    "grid.fit(X_train, y_train)\n",
    "best_params = grid.best_params_\n",
    "best_score = grid.best_score_\n",
    "best_estimator = grid.best_estimator_\n",
    "print(best_params)\n",
    "print(best_score)\n",
    "print(best_estimator)"
   ]
  },
  {
   "cell_type": "markdown",
   "metadata": {},
   "source": [
    "#### Best KNN training and evaluation"
   ]
  },
  {
   "cell_type": "code",
   "execution_count": 27,
   "metadata": {
    "ExecuteTime": {
     "end_time": "2021-07-05T21:44:08.871257Z",
     "start_time": "2021-07-05T21:44:08.844580Z"
    }
   },
   "outputs": [
    {
     "data": {
      "text/plain": [
       "KNeighborsClassifier(n_neighbors=11)"
      ]
     },
     "execution_count": 27,
     "metadata": {},
     "output_type": "execute_result"
    }
   ],
   "source": [
    "# Initial classfier\n",
    "knn_best = KNeighborsClassifier(n_neighbors = 11)\n",
    "knn_best.fit(X_train, y_train)"
   ]
  },
  {
   "cell_type": "code",
   "execution_count": 28,
   "metadata": {
    "ExecuteTime": {
     "end_time": "2021-07-05T21:44:52.573865Z",
     "start_time": "2021-07-05T21:44:52.285408Z"
    }
   },
   "outputs": [
    {
     "name": "stdout",
     "output_type": "stream",
     "text": [
      "Mean CV accuracy score for train data is: 0.676\n",
      "Mean CV accuracy score for test data is: 0.617\n"
     ]
    }
   ],
   "source": [
    "# Calculate cross validation accuracy scores\n",
    "cv_accuracy_train_knn, cv_accuracy_test_knn = CV_accuracy(knn_best)"
   ]
  },
  {
   "cell_type": "code",
   "execution_count": 29,
   "metadata": {
    "ExecuteTime": {
     "end_time": "2021-07-05T21:45:44.235597Z",
     "start_time": "2021-07-05T21:45:44.189294Z"
    }
   },
   "outputs": [
    {
     "name": "stdout",
     "output_type": "stream",
     "text": [
      "True positive rate is: 0.558\n",
      "False positive rate is: 0.272\n"
     ]
    }
   ],
   "source": [
    "# Calculate true positive rate and false positive ate\n",
    "TPR_knn, FPR_knn = TPR_FPR(knn_best)"
   ]
  },
  {
   "cell_type": "code",
   "execution_count": 47,
   "metadata": {
    "ExecuteTime": {
     "end_time": "2021-07-05T23:08:28.588739Z",
     "start_time": "2021-07-05T23:08:28.290596Z"
    }
   },
   "outputs": [
    {
     "name": "stdout",
     "output_type": "stream",
     "text": [
      "ROC-AUC Score is: 0.712\n"
     ]
    },
    {
     "data": {
      "image/png": "[encoded data removed]",
      "text/plain": [
       "<Figure size 432x288 with 1 Axes>"
      ]
     },
     "metadata": {
      "needs_background": "light"
     },
     "output_type": "display_data"
    }
   ],
   "source": [
    "# Calculate AUROC\n",
    "auroc_knn = ROC_AUC(knn_best)"
   ]
  },
  {
   "cell_type": "markdown",
   "metadata": {},
   "source": [
    "### Random Forest"
   ]
  },
  {
   "cell_type": "markdown",
   "metadata": {},
   "source": [
    "#### Random forest with default parameters"
   ]
  },
  {
   "cell_type": "code",
   "execution_count": 75,
   "metadata": {
    "ExecuteTime": {
     "end_time": "2021-07-06T01:11:48.151800Z",
     "start_time": "2021-07-06T01:11:45.281840Z"
    }
   },
   "outputs": [
    {
     "name": "stdout",
     "output_type": "stream",
     "text": [
      "Mean CV accuracy score for train data is: 0.71\n",
      "Mean CV accuracy score for test data is: 0.68\n"
     ]
    }
   ],
   "source": [
    "rf_default = RandomForestClassifier()\n",
    "rf_default.fit(X_train, y_train)\n",
    "\n",
    "# Calculate cross validation accuracy scores\n",
    "_ = CV_accuracy(rf_default)"
   ]
  },
  {
   "cell_type": "markdown",
   "metadata": {},
   "source": [
    "#### Random forest hyper-parameters tuning"
   ]
  },
  {
   "cell_type": "code",
   "execution_count": 36,
   "metadata": {
    "ExecuteTime": {
     "end_time": "2021-07-05T22:53:43.406547Z",
     "start_time": "2021-07-05T22:27:44.655816Z"
    }
   },
   "outputs": [
    {
     "name": "stdout",
     "output_type": "stream",
     "text": [
      "{'criterion': 'gini', 'max_depth': 15, 'max_features': 'sqrt', 'min_samples_leaf': 5, 'min_samples_split': 3, 'n_estimators': 100}\n",
      "0.7414285714285714\n",
      "RandomForestClassifier(max_depth=15, max_features='sqrt', min_samples_leaf=5,\n",
      "                       min_samples_split=3)\n"
     ]
    }
   ],
   "source": [
    "hyperparameters = {\"criterion\": [\"entropy\", \"gini\"],\n",
    "                   \"max_depth\": [5, 10, 15],\n",
    "                   \"max_features\": [\"log2\", \"sqrt\"],\n",
    "                   \"min_samples_leaf\": [1, 5],\n",
    "                   \"min_samples_split\": [3, 5],\n",
    "                   \"n_estimators\": [50,100,400,700,1000]\n",
    "}\n",
    "\n",
    "rf = RandomForestClassifier()\n",
    "grid = GridSearchCV(rf,param_grid=hyperparameters,cv=5)\n",
    "\n",
    "grid.fit(X_train, y_train)\n",
    "\n",
    "best_estimator = grid.best_estimator_\n",
    "best_params = grid.best_params_\n",
    "best_score = grid.best_score_\n",
    "print(best_params)\n",
    "print(best_score)\n",
    "print(best_estimator)"
   ]
  },
  {
   "cell_type": "markdown",
   "metadata": {},
   "source": [
    "#### Best random forest training and evaluation"
   ]
  },
  {
   "cell_type": "code",
   "execution_count": 38,
   "metadata": {
    "ExecuteTime": {
     "end_time": "2021-07-05T23:04:38.064034Z",
     "start_time": "2021-07-05T23:04:37.814989Z"
    }
   },
   "outputs": [
    {
     "data": {
      "text/plain": [
       "RandomForestClassifier(max_depth=15, max_features='sqrt', min_samples_leaf=5,\n",
       "                       min_samples_split=3)"
      ]
     },
     "execution_count": 38,
     "metadata": {},
     "output_type": "execute_result"
    }
   ],
   "source": [
    "# Initial classfier\n",
    "rf_best = RandomForestClassifier(max_depth=15, max_features='sqrt', min_samples_leaf=5, min_samples_split=3)\n",
    "rf_best.fit(X_train, y_train)"
   ]
  },
  {
   "cell_type": "code",
   "execution_count": 39,
   "metadata": {
    "ExecuteTime": {
     "end_time": "2021-07-05T23:04:49.415864Z",
     "start_time": "2021-07-05T23:04:46.290734Z"
    }
   },
   "outputs": [
    {
     "name": "stdout",
     "output_type": "stream",
     "text": [
      "Mean CV accuracy score for train data is: 0.729\n",
      "Mean CV accuracy score for test data is: 0.687\n"
     ]
    }
   ],
   "source": [
    "# Calculate cross validation accuracy scores\n",
    "cv_accuracy_train_rf, cv_accuracy_test_rf = CV_accuracy(rf_best)"
   ]
  },
  {
   "cell_type": "code",
   "execution_count": 40,
   "metadata": {
    "ExecuteTime": {
     "end_time": "2021-07-05T23:04:57.675000Z",
     "start_time": "2021-07-05T23:04:57.634117Z"
    }
   },
   "outputs": [
    {
     "name": "stdout",
     "output_type": "stream",
     "text": [
      "True positive rate is: 0.645\n",
      "False positive rate is: 0.228\n"
     ]
    }
   ],
   "source": [
    "# Calculate true positive rate and false positive ate\n",
    "TPR_rf, FPR_rf = TPR_FPR(rf_best)"
   ]
  },
  {
   "cell_type": "code",
   "execution_count": 48,
   "metadata": {
    "ExecuteTime": {
     "end_time": "2021-07-05T23:08:38.857283Z",
     "start_time": "2021-07-05T23:08:38.605384Z"
    }
   },
   "outputs": [
    {
     "name": "stdout",
     "output_type": "stream",
     "text": [
      "ROC-AUC Score is: 0.752\n"
     ]
    },
    {
     "data": {
      "image/png": "[encoded data removed]",
      "text/plain": [
       "<Figure size 432x288 with 1 Axes>"
      ]
     },
     "metadata": {
      "needs_background": "light"
     },
     "output_type": "display_data"
    }
   ],
   "source": [
    "# Calculate AUROC\n",
    "auroc_rf = ROC_AUC(rf_best)"
   ]
  },
  {
   "cell_type": "code",
   "execution_count": 60,
   "metadata": {
    "ExecuteTime": {
     "end_time": "2021-07-05T23:15:13.498871Z",
     "start_time": "2021-07-05T23:15:13.160109Z"
    }
   },
   "outputs": [
    {
     "data": {
      "image/png": "[encoded data removed]",
      "text/plain": [
       "<Figure size 720x432 with 1 Axes>"
      ]
     },
     "metadata": {
      "needs_background": "light"
     },
     "output_type": "display_data"
    },
    {
     "name": "stdout",
     "output_type": "stream",
     "text": [
      "loan_amount_per_month                       0.253883\n",
      "loan_amount                                 0.188424\n",
      "term_in_months                              0.084795\n",
      "MPI                                         0.062554\n",
      "With_tag                                    0.052360\n",
      "posted_season_Winter                        0.040598\n",
      "country_Others                              0.034197\n",
      "posted_season_Summer                        0.031744\n",
      "posted_season_Spring                        0.023478\n",
      "posted_season_Fall                          0.023243\n",
      "country_El Salvador                         0.023234\n",
      "sector_Others                               0.019155\n",
      "repayment_interval_irregular                0.016607\n",
      "borrower_genders_female                     0.016160\n",
      "repayment_interval_monthly                  0.013506\n",
      "world_region_Latin America and Caribbean    0.013286\n",
      "sector_Agriculture                          0.011682\n",
      "borrower_genders_mixed                      0.010283\n",
      "world_region_East Asia and the Pacific      0.009100\n",
      "sector_Food                                 0.009022\n",
      "sector_Retail                               0.008516\n",
      "world_region_Sub-Saharan Africa             0.008461\n",
      "borrower_genders_male                       0.008294\n",
      "country_Philippines                         0.007137\n",
      "country_Kenya                               0.006509\n",
      "country_Pakistan                            0.006111\n",
      "country_Cambodia                            0.005522\n",
      "repayment_interval_bullet                   0.004996\n",
      "world_region_Europe and Central Asia        0.003731\n",
      "world_region_South Asia                     0.002965\n",
      "world_region_Arab States                    0.000445\n",
      "borrower_genders_unknown                    0.000000\n",
      "repayment_interval_weekly                   0.000000\n",
      "dtype: float64\n"
     ]
    }
   ],
   "source": [
    "# Check feature importance\n",
    "feature_importance(rf_best)"
   ]
  },
  {
   "cell_type": "markdown",
   "metadata": {},
   "source": [
    "### Gradient Boosting"
   ]
  },
  {
   "cell_type": "markdown",
   "metadata": {},
   "source": [
    "#### Gradient Boosting with default parameters"
   ]
  },
  {
   "cell_type": "code",
   "execution_count": 73,
   "metadata": {
    "ExecuteTime": {
     "end_time": "2021-07-06T01:10:31.727639Z",
     "start_time": "2021-07-06T01:10:29.897505Z"
    }
   },
   "outputs": [
    {
     "name": "stdout",
     "output_type": "stream",
     "text": [
      "Mean CV accuracy score for train data is: 0.703\n",
      "Mean CV accuracy score for test data is: 0.653\n"
     ]
    },
    {
     "data": {
      "text/plain": [
       "(0.7028571428571428, 0.6533333333333333)"
      ]
     },
     "execution_count": 73,
     "metadata": {},
     "output_type": "execute_result"
    }
   ],
   "source": [
    "gb_default = GradientBoostingClassifier()\n",
    "gb_default.fit(X_train, y_train)\n",
    "\n",
    "# Calculate cross validation accuracy scores\n",
    "_ = CV_accuracy(gb_default)"
   ]
  },
  {
   "cell_type": "markdown",
   "metadata": {},
   "source": [
    "#### Gradient boosting hyper-parameters tuning"
   ]
  },
  {
   "cell_type": "code",
   "execution_count": 72,
   "metadata": {
    "ExecuteTime": {
     "end_time": "2021-07-06T01:10:21.073161Z",
     "start_time": "2021-07-06T00:50:14.499885Z"
    }
   },
   "outputs": [
    {
     "name": "stdout",
     "output_type": "stream",
     "text": [
      "{'learning_rate': 0.3, 'loss': 'deviance', 'max_depth': 4, 'max_features': 'sqrt', 'min_samples_leaf': 100, 'n_estimators': 200}\n",
      "0.7414285714285714\n",
      "GradientBoostingClassifier(learning_rate=0.3, max_depth=4, max_features='sqrt',\n",
      "                           min_samples_leaf=100, n_estimators=200)\n"
     ]
    }
   ],
   "source": [
    "hyperparameters = {'loss' : ['deviance', 'exponential'],\n",
    "                   'n_estimators' : [100, 150, 200, 250, 300],\n",
    "                   'learning_rate': [0.3, 0.2, 0.1, 0.05],\n",
    "                   'max_depth': [2, 4, 8, 10, 12],\n",
    "                   'min_samples_leaf': [100,150, 200, 250],\n",
    "                   'max_features': ['sqrt', 'log2'] \n",
    "                   }\n",
    "\n",
    "gb = GradientBoostingClassifier()\n",
    "grid = GridSearchCV(gb, param_grid=hyperparameters, cv=5)\n",
    "grid.fit(X_train, y_train)\n",
    "\n",
    "best_estimator = grid.best_estimator_\n",
    "best_params = grid.best_params_\n",
    "best_score = grid.best_score_\n",
    "print(best_params)\n",
    "print(best_score)\n",
    "print(best_estimator)"
   ]
  },
  {
   "cell_type": "code",
   "execution_count": null,
   "metadata": {},
   "outputs": [],
   "source": []
  },
  {
   "cell_type": "markdown",
   "metadata": {},
   "source": [
    "#### Best gradient boosting training and evaluation"
   ]
  },
  {
   "cell_type": "code",
   "execution_count": 64,
   "metadata": {
    "ExecuteTime": {
     "end_time": "2021-07-06T00:37:12.956478Z",
     "start_time": "2021-07-06T00:37:12.691504Z"
    }
   },
   "outputs": [
    {
     "data": {
      "text/plain": [
       "GradientBoostingClassifier(learning_rate=0.2, max_depth=8, max_features='log2',\n",
       "                           min_samples_leaf=50, n_estimators=150)"
      ]
     },
     "execution_count": 64,
     "metadata": {},
     "output_type": "execute_result"
    }
   ],
   "source": [
    "# Initial classfier\n",
    "gb_best = GradientBoostingClassifier(learning_rate=0.2, max_depth=8, max_features='log2', min_samples_leaf=50, n_estimators=150)\n",
    "gb_best.fit(X_train, y_train)"
   ]
  },
  {
   "cell_type": "code",
   "execution_count": 65,
   "metadata": {
    "ExecuteTime": {
     "end_time": "2021-07-06T00:37:22.637300Z",
     "start_time": "2021-07-06T00:37:21.250255Z"
    }
   },
   "outputs": [
    {
     "name": "stdout",
     "output_type": "stream",
     "text": [
      "Mean CV accuracy score for train data is: 0.724\n",
      "Mean CV accuracy score for test data is: 0.653\n"
     ]
    }
   ],
   "source": [
    "# Calculate cross validation accuracy scores\n",
    "cv_accuracy_train_gb, cv_accuracy_test_gb = CV_accuracy(gb_best)"
   ]
  },
  {
   "cell_type": "code",
   "execution_count": 66,
   "metadata": {
    "ExecuteTime": {
     "end_time": "2021-07-06T00:37:43.482060Z",
     "start_time": "2021-07-06T00:37:43.466758Z"
    }
   },
   "outputs": [
    {
     "name": "stdout",
     "output_type": "stream",
     "text": [
      "True positive rate is: 0.681\n",
      "False positive rate is: 0.296\n"
     ]
    }
   ],
   "source": [
    "# Calculate true positive rate and false positive ate\n",
    "TPR_gb, FPR_gb = TPR_FPR(gb_best)"
   ]
  },
  {
   "cell_type": "code",
   "execution_count": 67,
   "metadata": {
    "ExecuteTime": {
     "end_time": "2021-07-06T00:37:52.120253Z",
     "start_time": "2021-07-06T00:37:51.862159Z"
    }
   },
   "outputs": [
    {
     "name": "stdout",
     "output_type": "stream",
     "text": [
      "ROC-AUC Score is: 0.771\n"
     ]
    },
    {
     "data": {
      "image/png": "[encoded data removed]",
      "text/plain": [
       "<Figure size 432x288 with 1 Axes>"
      ]
     },
     "metadata": {
      "needs_background": "light"
     },
     "output_type": "display_data"
    }
   ],
   "source": [
    "# Calculate AUROC\n",
    "auroc_gb = ROC_AUC(gb_best)"
   ]
  },
  {
   "cell_type": "code",
   "execution_count": 68,
   "metadata": {
    "ExecuteTime": {
     "end_time": "2021-07-06T00:38:01.290754Z",
     "start_time": "2021-07-06T00:38:01.028333Z"
    }
   },
   "outputs": [
    {
     "data": {
      "image/png": "[encoded data removed]",
      "text/plain": [
       "<Figure size 720x432 with 1 Axes>"
      ]
     },
     "metadata": {
      "needs_background": "light"
     },
     "output_type": "display_data"
    },
    {
     "name": "stdout",
     "output_type": "stream",
     "text": [
      "loan_amount_per_month                       0.357402\n",
      "loan_amount                                 0.110427\n",
      "term_in_months                              0.092500\n",
      "MPI                                         0.063650\n",
      "With_tag                                    0.062021\n",
      "posted_season_Winter                        0.054267\n",
      "posted_season_Summer                        0.032665\n",
      "country_Others                              0.028567\n",
      "sector_Others                               0.023918\n",
      "repayment_interval_monthly                  0.023276\n",
      "world_region_East Asia and the Pacific      0.023229\n",
      "posted_season_Spring                        0.020762\n",
      "posted_season_Fall                          0.018478\n",
      "world_region_Latin America and Caribbean    0.017881\n",
      "borrower_genders_female                     0.013951\n",
      "repayment_interval_irregular                0.012664\n",
      "sector_Agriculture                          0.010573\n",
      "sector_Retail                               0.007763\n",
      "borrower_genders_male                       0.006926\n",
      "world_region_Sub-Saharan Africa             0.004619\n",
      "sector_Food                                 0.004365\n",
      "country_Philippines                         0.003866\n",
      "country_Kenya                               0.002801\n",
      "repayment_interval_bullet                   0.001482\n",
      "country_El Salvador                         0.001030\n",
      "borrower_genders_mixed                      0.000917\n",
      "repayment_interval_weekly                   0.000000\n",
      "world_region_Arab States                    0.000000\n",
      "world_region_Europe and Central Asia        0.000000\n",
      "borrower_genders_unknown                    0.000000\n",
      "world_region_South Asia                     0.000000\n",
      "country_Pakistan                            0.000000\n",
      "country_Cambodia                            0.000000\n",
      "dtype: float64\n"
     ]
    }
   ],
   "source": [
    "# Check feature importance\n",
    "feature_importance(gb_best)"
   ]
  },
  {
   "cell_type": "code",
   "execution_count": null,
   "metadata": {},
   "outputs": [],
   "source": []
  },
  {
   "cell_type": "markdown",
   "metadata": {},
   "source": [
    "## Comparing Models"
   ]
  },
  {
   "cell_type": "markdown",
   "metadata": {},
   "source": [
    "### Comparing Accuracy"
   ]
  },
  {
   "cell_type": "code",
   "execution_count": 77,
   "metadata": {
    "ExecuteTime": {
     "end_time": "2021-07-06T01:17:52.530569Z",
     "start_time": "2021-07-06T01:17:52.504885Z"
    }
   },
   "outputs": [
    {
     "name": "stdout",
     "output_type": "stream",
     "text": [
      "                 Model  Accuracy_train  Accuracy_test\n",
      "0  Logistic Regression        0.721429       0.636667\n",
      "1                  KNN        0.675714       0.616667\n",
      "2        Random Forest        0.728571       0.686667\n",
      "3    Gradient Boosting        0.724286       0.653333\n"
     ]
    }
   ],
   "source": [
    "# Built accuracy dataframe\n",
    "models = ['Logistic Regression', 'KNN', 'Random Forest', 'Gradient Boosting']\n",
    "accuracy_train = [cv_accuracy_train_lr, cv_accuracy_train_knn, cv_accuracy_train_rf, cv_accuracy_train_gb] \n",
    "accuracy_test = [cv_accuracy_test_lr, cv_accuracy_test_knn, cv_accuracy_test_rf, cv_accuracy_test_gb]\n",
    "columns = ['Model', 'Accuracy_train', 'Accuracy_test']\n",
    "accuracy_comparing = pd.DataFrame({'Model': models, \n",
    "                                   'Accuracy_train': accuracy_train, \n",
    "                                   'Accuracy_test': accuracy_test})\n",
    "print(accuracy_comparing)"
   ]
  },
  {
   "cell_type": "code",
   "execution_count": 91,
   "metadata": {
    "ExecuteTime": {
     "end_time": "2021-07-06T01:38:29.956620Z",
     "start_time": "2021-07-06T01:38:29.673091Z"
    }
   },
   "outputs": [
    {
     "data": {
      "image/png": "[encoded data removed]",
      "text/plain": [
       "<Figure size 720x360 with 1 Axes>"
      ]
     },
     "metadata": {
      "needs_background": "light"
     },
     "output_type": "display_data"
    }
   ],
   "source": [
    "# Plot accuracy for comparing\n",
    "index_train=[1,2,3,4]\n",
    "index_test=[1.2,2.2,3.2,4.2]\n",
    "plt.figure(figsize=(10,5))\n",
    "plt.xlabel('Models',fontsize=15)\n",
    "plt.ylabel ('Accuracy Scores',fontsize=15)\n",
    "plt.title('Comparison of the Accuracy',fontsize=15)\n",
    "plt.bar(index_train,accuracy_train,color='b',alpha=0.6,label='Training',edgecolor='k',width=0.2)\n",
    "plt.bar(index_test,accuracy_test,color='cyan',alpha=0.8,label='Test',edgecolor='k',width=0.2)\n",
    "plt.legend(loc='upper center')\n",
    "plt.xticks([1.1, 2.1,3.1,4.1], models)\n",
    "_ = plt.show()"
   ]
  },
  {
   "cell_type": "code",
   "execution_count": null,
   "metadata": {},
   "outputs": [],
   "source": []
  },
  {
   "cell_type": "markdown",
   "metadata": {},
   "source": [
    "### Comparing TPR, FPR and AUROC"
   ]
  },
  {
   "cell_type": "code",
   "execution_count": 82,
   "metadata": {
    "ExecuteTime": {
     "end_time": "2021-07-06T01:20:16.673609Z",
     "start_time": "2021-07-06T01:20:16.651245Z"
    }
   },
   "outputs": [
    {
     "name": "stdout",
     "output_type": "stream",
     "text": [
      "                 Model  AUROC  True Positive Rate  False Positive Rate\n",
      "0  Logistic Regression  0.736               0.630                0.309\n",
      "1                  KNN  0.712               0.558                0.272\n",
      "2        Random Forest  0.752               0.645                0.228\n",
      "3    Gradient Boosting  0.771               0.681                0.296\n"
     ]
    }
   ],
   "source": [
    "# Build AUROC, true positive rate, and false positive rate dataframe\n",
    "TPR = [TPR_lr, TPR_knn, TPR_rf, TPR_gb] \n",
    "FPR = [FPR_lr, FPR_knn, FPR_rf, FPR_gb] \n",
    "AUROC = [auroc_lr, auroc_knn, auroc_rf, auroc_gb]\n",
    "columns = ['Model', 'AUROC', 'True Positive Rate', 'False Positive Rate']\n",
    "tpr_fpr_aurco_comparing = pd.DataFrame({'Model': models, \n",
    "                                        'AUROC': AUROC,\n",
    "                                        'True Positive Rate': TPR, \n",
    "                                        'False Positive Rate': FPR\n",
    "                                        })\n",
    "print(tpr_fpr_aurco_comparing)"
   ]
  },
  {
   "cell_type": "code",
   "execution_count": 92,
   "metadata": {
    "ExecuteTime": {
     "end_time": "2021-07-06T01:38:51.617953Z",
     "start_time": "2021-07-06T01:38:51.336365Z"
    }
   },
   "outputs": [
    {
     "data": {
      "image/png": "[encoded data removed]",
      "text/plain": [
       "<Figure size 720x360 with 1 Axes>"
      ]
     },
     "metadata": {
      "needs_background": "light"
     },
     "output_type": "display_data"
    }
   ],
   "source": [
    "# Plot AUROC, TPR, FPR for comparing\n",
    "index_auroc=[1,2,3,4]\n",
    "index_tpr=[1.2,2.2,3.2,4.2]\n",
    "index_fpr=[1.4,2.4,3.4,4.4]\n",
    "plt.figure(figsize=(10,5))\n",
    "plt.xlabel('Models',fontsize=15)\n",
    "plt.ylabel ('AUROC/TPR/FPR',fontsize=15)\n",
    "plt.title('Comparison of AUROC, TPR, and FPR',fontsize=15)\n",
    "plt.bar(index_auroc, AUROC, color='b', alpha=0.6, label='AUROC',edgecolor='k',width=0.2)\n",
    "plt.bar(index_tpr, TPR, color='cyan',alpha=0.6, label='TPR', edgecolor='k', width=0.2)\n",
    "plt.bar(index_fpr, FPR, color='g', alpha=0.6, label='FPR', edgecolor='k', width=0.2)\n",
    "plt.legend(loc = 'upper center')\n",
    "plt.xticks([1.2, 2.2, 3.2, 4.2], models)\n",
    "_ = plt.show()"
   ]
  },
  {
   "cell_type": "code",
   "execution_count": null,
   "metadata": {},
   "outputs": [],
   "source": []
  },
  {
   "cell_type": "markdown",
   "metadata": {},
   "source": [
    "## Conclution"
   ]
  },
  {
   "cell_type": "code",
   "execution_count": null,
   "metadata": {},
   "outputs": [],
   "source": []
  },
  {
   "cell_type": "code",
   "execution_count": null,
   "metadata": {},
   "outputs": [],
   "source": []
  },
  {
   "cell_type": "markdown",
   "metadata": {},
   "source": [
    "## Next Steps"
   ]
  },
  {
   "cell_type": "markdown",
   "metadata": {},
   "source": [
    "* There are different ways to handle numeric features. "
   ]
  },
  {
   "cell_type": "code",
   "execution_count": null,
   "metadata": {},
   "outputs": [],
   "source": []
  },
  {
   "cell_type": "code",
   "execution_count": null,
   "metadata": {},
   "outputs": [],
   "source": []
  },
  {
   "cell_type": "code",
   "execution_count": null,
   "metadata": {},
   "outputs": [],
   "source": []
  },
  {
   "cell_type": "code",
   "execution_count": null,
   "metadata": {},
   "outputs": [],
   "source": []
  },
  {
   "cell_type": "code",
   "execution_count": null,
   "metadata": {},
   "outputs": [],
   "source": []
  },
  {
   "cell_type": "code",
   "execution_count": null,
   "metadata": {},
   "outputs": [],
   "source": []
  },
  {
   "cell_type": "code",
   "execution_count": null,
   "metadata": {},
   "outputs": [],
   "source": []
  },
  {
   "cell_type": "code",
   "execution_count": null,
   "metadata": {},
   "outputs": [],
   "source": []
  },
  {
   "cell_type": "code",
   "execution_count": null,
   "metadata": {},
   "outputs": [],
   "source": []
  },
  {
   "cell_type": "code",
   "execution_count": null,
   "metadata": {},
   "outputs": [],
   "source": []
  },
  {
   "cell_type": "code",
   "execution_count": null,
   "metadata": {},
   "outputs": [],
   "source": []
  },
  {
   "cell_type": "code",
   "execution_count": null,
   "metadata": {},
   "outputs": [],
   "source": []
  },
  {
   "cell_type": "code",
   "execution_count": null,
   "metadata": {},
   "outputs": [],
   "source": []
  },
  {
   "cell_type": "code",
   "execution_count": null,
   "metadata": {},
   "outputs": [],
   "source": []
  },
  {
   "cell_type": "code",
   "execution_count": null,
   "metadata": {},
   "outputs": [],
   "source": []
  },
  {
   "cell_type": "code",
   "execution_count": null,
   "metadata": {},
   "outputs": [],
   "source": []
  },
  {
   "cell_type": "code",
   "execution_count": null,
   "metadata": {},
   "outputs": [],
   "source": []
  },
  {
   "cell_type": "code",
   "execution_count": null,
   "metadata": {},
   "outputs": [],
   "source": []
  }
 ],
 "metadata": {
  "hide_input": false,
  "kernelspec": {
   "display_name": "Python 3",
   "language": "python",
   "name": "python3"
  },
  "language_info": {
   "codemirror_mode": {
    "name": "ipython",
    "version": 3
   },
   "file_extension": ".py",
   "mimetype": "text/x-python",
   "name": "python",
   "nbconvert_exporter": "python",
   "pygments_lexer": "ipython3",
   "version": "3.8.3"
  },
  "toc": {
   "base_numbering": 1,
   "nav_menu": {},
   "number_sections": true,
   "sideBar": true,
   "skip_h1_title": false,
   "title_cell": "Table of Contents",
   "title_sidebar": "Contents",
   "toc_cell": true,
   "toc_position": {},
   "toc_section_display": true,
   "toc_window_display": false
  },
  "varInspector": {
   "cols": {
    "lenName": 16,
    "lenType": 16,
    "lenVar": 40
   },
   "kernels_config": {
    "python": {
     "delete_cmd_postfix": "",
     "delete_cmd_prefix": "del ",
     "library": "var_list.py",
     "varRefreshCmd": "print(var_dic_list())"
    },
    "r": {
     "delete_cmd_postfix": ") ",
     "delete_cmd_prefix": "rm(",
     "library": "var_list.r",
     "varRefreshCmd": "cat(var_dic_list()) "
    }
   },
   "types_to_exclude": [
    "module",
    "function",
    "builtin_function_or_method",
    "instance",
    "_Feature"
   ],
   "window_display": false
  }
 },
 "nbformat": 4,
 "nbformat_minor": 4
}
