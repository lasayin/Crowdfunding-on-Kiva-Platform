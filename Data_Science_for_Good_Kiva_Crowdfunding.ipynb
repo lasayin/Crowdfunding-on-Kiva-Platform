{
 "cells": [
  {
   "cell_type": "markdown",
   "metadata": {},
   "source": [
    "## Problem Statement_[Data Science for Good: Kiva Crowdfunding](https://www.kaggle.com/kiva/data-science-for-good-kiva-crowdfunding)\n",
    "Kiva.org is an online crowdfunding platform to extend financial services to poor and financially excluded people around the world. For the locations in which Kiva has active loans, your objective is to pair Kiva's data with additional data sources to estimate the welfare level of borrowers in specific regions, based on shared economic and demographic characteristics.\n",
    "\n",
    "A good solution would connect the features of each loan or product to one of several poverty mapping datasets, which indicate the average level of welfare in a region on as granular a level as possible. Many datasets indicate the poverty rate in a given area, with varying levels of granularity. Kiva would like to be able to disaggregate these regional averages by gender, sector, or borrowing behavior in order to estimate a Kiva borrower’s level of welfare using all of the relevant information about them. Strong submissions will attempt to map vaguely described locations to more accurate geocodes.\n",
    "\n",
    "Kernels submitted will be evaluated based on the following criteria:\n",
    "\n",
    "1. Localization - How well does a submission account for highly localized borrower situations? Leveraging a variety of external datasets and successfully building them into a single submission will be crucial.\n",
    "\n",
    "2. Execution - Submissions should be efficiently built and clearly explained so that Kiva’s team can readily employ them in their impact calculations.\n",
    "\n",
    "3. Ingenuity - While there are many best practices to learn from in the field, there is no one way of using data to assess welfare levels. It’s a challenging, nuanced field and participants should experiment with new methods and diverse datasets."
   ]
  },
  {
   "cell_type": "code",
   "execution_count": 1,
   "metadata": {
    "ExecuteTime": {
     "end_time": "2021-02-22T08:54:36.170798Z",
     "start_time": "2021-02-22T08:54:34.323381Z"
    }
   },
   "outputs": [],
   "source": [
    "import pandas as pd\n",
    "import numpy as np\n",
    "import matplotlib.pyplot as plt\n",
    "from datetime import datetime as dt"
   ]
  },
  {
   "cell_type": "markdown",
   "metadata": {},
   "source": [
    "## Original Data From Kaggle"
   ]
  },
  {
   "cell_type": "markdown",
   "metadata": {},
   "source": [
    "### The loans"
   ]
  },
  {
   "cell_type": "code",
   "execution_count": 2,
   "metadata": {
    "ExecuteTime": {
     "end_time": "2021-02-22T08:54:40.608943Z",
     "start_time": "2021-02-22T08:54:36.186998Z"
    }
   },
   "outputs": [],
   "source": [
    "loans = pd.read_csv('/Users/lasayin/Desktop/Springboard/GitHub/Springboard_DS_Capstone2/RawData/KivaData/kiva_loans.csv')"
   ]
  },
  {
   "cell_type": "code",
   "execution_count": 3,
   "metadata": {
    "ExecuteTime": {
     "end_time": "2021-02-22T08:54:41.194453Z",
     "start_time": "2021-02-22T08:54:40.612401Z"
    }
   },
   "outputs": [
    {
     "name": "stdout",
     "output_type": "stream",
     "text": [
      "<class 'pandas.core.frame.DataFrame'>\n",
      "RangeIndex: 671205 entries, 0 to 671204\n",
      "Data columns (total 20 columns):\n",
      " #   Column              Non-Null Count   Dtype  \n",
      "---  ------              --------------   -----  \n",
      " 0   id                  671205 non-null  int64  \n",
      " 1   funded_amount       671205 non-null  float64\n",
      " 2   loan_amount         671205 non-null  float64\n",
      " 3   activity            671205 non-null  object \n",
      " 4   sector              671205 non-null  object \n",
      " 5   use                 666973 non-null  object \n",
      " 6   country_code        671197 non-null  object \n",
      " 7   country             671205 non-null  object \n",
      " 8   region              614405 non-null  object \n",
      " 9   currency            671205 non-null  object \n",
      " 10  partner_id          657698 non-null  float64\n",
      " 11  posted_time         671205 non-null  object \n",
      " 12  disbursed_time      668809 non-null  object \n",
      " 13  funded_time         622874 non-null  object \n",
      " 14  term_in_months      671205 non-null  float64\n",
      " 15  lender_count        671205 non-null  int64  \n",
      " 16  tags                499789 non-null  object \n",
      " 17  borrower_genders    666984 non-null  object \n",
      " 18  repayment_interval  671205 non-null  object \n",
      " 19  date                671205 non-null  object \n",
      "dtypes: float64(4), int64(2), object(14)\n",
      "memory usage: 102.4+ MB\n"
     ]
    }
   ],
   "source": [
    "loans.info()"
   ]
  },
  {
   "cell_type": "code",
   "execution_count": 4,
   "metadata": {
    "ExecuteTime": {
     "end_time": "2021-02-22T08:54:41.246740Z",
     "start_time": "2021-02-22T08:54:41.198892Z"
    }
   },
   "outputs": [
    {
     "data": {
      "text/html": [
       "<div>\n",
       "<style scoped>\n",
       "    .dataframe tbody tr th:only-of-type {\n",
       "        vertical-align: middle;\n",
       "    }\n",
       "\n",
       "    .dataframe tbody tr th {\n",
       "        vertical-align: top;\n",
       "    }\n",
       "\n",
       "    .dataframe thead th {\n",
       "        text-align: right;\n",
       "    }\n",
       "</style>\n",
       "<table border=\"1\" class=\"dataframe\">\n",
       "  <thead>\n",
       "    <tr style=\"text-align: right;\">\n",
       "      <th></th>\n",
       "      <th>id</th>\n",
       "      <th>funded_amount</th>\n",
       "      <th>loan_amount</th>\n",
       "      <th>activity</th>\n",
       "      <th>sector</th>\n",
       "      <th>use</th>\n",
       "      <th>country_code</th>\n",
       "      <th>country</th>\n",
       "      <th>region</th>\n",
       "      <th>currency</th>\n",
       "      <th>partner_id</th>\n",
       "      <th>posted_time</th>\n",
       "      <th>disbursed_time</th>\n",
       "      <th>funded_time</th>\n",
       "      <th>term_in_months</th>\n",
       "      <th>lender_count</th>\n",
       "      <th>tags</th>\n",
       "      <th>borrower_genders</th>\n",
       "      <th>repayment_interval</th>\n",
       "      <th>date</th>\n",
       "    </tr>\n",
       "  </thead>\n",
       "  <tbody>\n",
       "    <tr>\n",
       "      <th>0</th>\n",
       "      <td>653051</td>\n",
       "      <td>300.0</td>\n",
       "      <td>300.0</td>\n",
       "      <td>Fruits &amp; Vegetables</td>\n",
       "      <td>Food</td>\n",
       "      <td>To buy seasonal, fresh fruits to sell.</td>\n",
       "      <td>PK</td>\n",
       "      <td>Pakistan</td>\n",
       "      <td>Lahore</td>\n",
       "      <td>PKR</td>\n",
       "      <td>247.0</td>\n",
       "      <td>2014-01-01 06:12:39+00:00</td>\n",
       "      <td>2013-12-17 08:00:00+00:00</td>\n",
       "      <td>2014-01-02 10:06:32+00:00</td>\n",
       "      <td>12.0</td>\n",
       "      <td>12</td>\n",
       "      <td>NaN</td>\n",
       "      <td>female</td>\n",
       "      <td>irregular</td>\n",
       "      <td>2014-01-01</td>\n",
       "    </tr>\n",
       "    <tr>\n",
       "      <th>1</th>\n",
       "      <td>653053</td>\n",
       "      <td>575.0</td>\n",
       "      <td>575.0</td>\n",
       "      <td>Rickshaw</td>\n",
       "      <td>Transportation</td>\n",
       "      <td>to repair and maintain the auto rickshaw used ...</td>\n",
       "      <td>PK</td>\n",
       "      <td>Pakistan</td>\n",
       "      <td>Lahore</td>\n",
       "      <td>PKR</td>\n",
       "      <td>247.0</td>\n",
       "      <td>2014-01-01 06:51:08+00:00</td>\n",
       "      <td>2013-12-17 08:00:00+00:00</td>\n",
       "      <td>2014-01-02 09:17:23+00:00</td>\n",
       "      <td>11.0</td>\n",
       "      <td>14</td>\n",
       "      <td>NaN</td>\n",
       "      <td>female, female</td>\n",
       "      <td>irregular</td>\n",
       "      <td>2014-01-01</td>\n",
       "    </tr>\n",
       "    <tr>\n",
       "      <th>2</th>\n",
       "      <td>653068</td>\n",
       "      <td>150.0</td>\n",
       "      <td>150.0</td>\n",
       "      <td>Transportation</td>\n",
       "      <td>Transportation</td>\n",
       "      <td>To repair their old cycle-van and buy another ...</td>\n",
       "      <td>IN</td>\n",
       "      <td>India</td>\n",
       "      <td>Maynaguri</td>\n",
       "      <td>INR</td>\n",
       "      <td>334.0</td>\n",
       "      <td>2014-01-01 09:58:07+00:00</td>\n",
       "      <td>2013-12-17 08:00:00+00:00</td>\n",
       "      <td>2014-01-01 16:01:36+00:00</td>\n",
       "      <td>43.0</td>\n",
       "      <td>6</td>\n",
       "      <td>user_favorite, user_favorite</td>\n",
       "      <td>female</td>\n",
       "      <td>bullet</td>\n",
       "      <td>2014-01-01</td>\n",
       "    </tr>\n",
       "    <tr>\n",
       "      <th>3</th>\n",
       "      <td>653063</td>\n",
       "      <td>200.0</td>\n",
       "      <td>200.0</td>\n",
       "      <td>Embroidery</td>\n",
       "      <td>Arts</td>\n",
       "      <td>to purchase an embroidery machine and a variet...</td>\n",
       "      <td>PK</td>\n",
       "      <td>Pakistan</td>\n",
       "      <td>Lahore</td>\n",
       "      <td>PKR</td>\n",
       "      <td>247.0</td>\n",
       "      <td>2014-01-01 08:03:11+00:00</td>\n",
       "      <td>2013-12-24 08:00:00+00:00</td>\n",
       "      <td>2014-01-01 13:00:00+00:00</td>\n",
       "      <td>11.0</td>\n",
       "      <td>8</td>\n",
       "      <td>NaN</td>\n",
       "      <td>female</td>\n",
       "      <td>irregular</td>\n",
       "      <td>2014-01-01</td>\n",
       "    </tr>\n",
       "    <tr>\n",
       "      <th>4</th>\n",
       "      <td>653084</td>\n",
       "      <td>400.0</td>\n",
       "      <td>400.0</td>\n",
       "      <td>Milk Sales</td>\n",
       "      <td>Food</td>\n",
       "      <td>to purchase one buffalo.</td>\n",
       "      <td>PK</td>\n",
       "      <td>Pakistan</td>\n",
       "      <td>Abdul Hakeem</td>\n",
       "      <td>PKR</td>\n",
       "      <td>245.0</td>\n",
       "      <td>2014-01-01 11:53:19+00:00</td>\n",
       "      <td>2013-12-17 08:00:00+00:00</td>\n",
       "      <td>2014-01-01 19:18:51+00:00</td>\n",
       "      <td>14.0</td>\n",
       "      <td>16</td>\n",
       "      <td>NaN</td>\n",
       "      <td>female</td>\n",
       "      <td>monthly</td>\n",
       "      <td>2014-01-01</td>\n",
       "    </tr>\n",
       "  </tbody>\n",
       "</table>\n",
       "</div>"
      ],
      "text/plain": [
       "       id  funded_amount  loan_amount             activity          sector  \\\n",
       "0  653051          300.0        300.0  Fruits & Vegetables            Food   \n",
       "1  653053          575.0        575.0             Rickshaw  Transportation   \n",
       "2  653068          150.0        150.0       Transportation  Transportation   \n",
       "3  653063          200.0        200.0           Embroidery            Arts   \n",
       "4  653084          400.0        400.0           Milk Sales            Food   \n",
       "\n",
       "                                                 use country_code   country  \\\n",
       "0            To buy seasonal, fresh fruits to sell.            PK  Pakistan   \n",
       "1  to repair and maintain the auto rickshaw used ...           PK  Pakistan   \n",
       "2  To repair their old cycle-van and buy another ...           IN     India   \n",
       "3  to purchase an embroidery machine and a variet...           PK  Pakistan   \n",
       "4                           to purchase one buffalo.           PK  Pakistan   \n",
       "\n",
       "         region currency  partner_id                posted_time  \\\n",
       "0        Lahore      PKR       247.0  2014-01-01 06:12:39+00:00   \n",
       "1        Lahore      PKR       247.0  2014-01-01 06:51:08+00:00   \n",
       "2     Maynaguri      INR       334.0  2014-01-01 09:58:07+00:00   \n",
       "3        Lahore      PKR       247.0  2014-01-01 08:03:11+00:00   \n",
       "4  Abdul Hakeem      PKR       245.0  2014-01-01 11:53:19+00:00   \n",
       "\n",
       "              disbursed_time                funded_time  term_in_months  \\\n",
       "0  2013-12-17 08:00:00+00:00  2014-01-02 10:06:32+00:00            12.0   \n",
       "1  2013-12-17 08:00:00+00:00  2014-01-02 09:17:23+00:00            11.0   \n",
       "2  2013-12-17 08:00:00+00:00  2014-01-01 16:01:36+00:00            43.0   \n",
       "3  2013-12-24 08:00:00+00:00  2014-01-01 13:00:00+00:00            11.0   \n",
       "4  2013-12-17 08:00:00+00:00  2014-01-01 19:18:51+00:00            14.0   \n",
       "\n",
       "   lender_count                          tags borrower_genders  \\\n",
       "0            12                           NaN           female   \n",
       "1            14                           NaN   female, female   \n",
       "2             6  user_favorite, user_favorite           female   \n",
       "3             8                           NaN           female   \n",
       "4            16                           NaN           female   \n",
       "\n",
       "  repayment_interval        date  \n",
       "0          irregular  2014-01-01  \n",
       "1          irregular  2014-01-01  \n",
       "2             bullet  2014-01-01  \n",
       "3          irregular  2014-01-01  \n",
       "4            monthly  2014-01-01  "
      ]
     },
     "execution_count": 4,
     "metadata": {},
     "output_type": "execute_result"
    }
   ],
   "source": [
    "loans.head()"
   ]
  },
  {
   "cell_type": "markdown",
   "metadata": {},
   "source": [
    "#### `funded_amout` v.s. `the loan_amout`\n",
    "\n",
    "* `funded_amount`: The amount disbursed by Kiva to the field agent(USD)\n",
    "\n",
    "* `loan_amount`: The amount disbursed by the field agent to the borrower(USD)"
   ]
  },
  {
   "cell_type": "code",
   "execution_count": 5,
   "metadata": {
    "ExecuteTime": {
     "end_time": "2021-02-22T08:54:41.302574Z",
     "start_time": "2021-02-22T08:54:41.250829Z"
    }
   },
   "outputs": [
    {
     "data": {
      "text/plain": [
       "True     622875\n",
       "False     48330\n",
       "dtype: int64"
      ]
     },
     "execution_count": 5,
     "metadata": {},
     "output_type": "execute_result"
    }
   ],
   "source": [
    "(loans.funded_amount == loans.loan_amount).value_counts()"
   ]
  },
  {
   "cell_type": "code",
   "execution_count": 6,
   "metadata": {
    "ExecuteTime": {
     "end_time": "2021-02-22T08:54:41.344757Z",
     "start_time": "2021-02-22T08:54:41.334649Z"
    }
   },
   "outputs": [
    {
     "data": {
      "text/plain": [
       "0.07759181216134858"
      ]
     },
     "execution_count": 6,
     "metadata": {},
     "output_type": "execute_result"
    }
   ],
   "source": [
    "48330/622875"
   ]
  },
  {
   "cell_type": "code",
   "execution_count": 7,
   "metadata": {
    "ExecuteTime": {
     "end_time": "2021-02-22T08:54:41.433744Z",
     "start_time": "2021-02-22T08:54:41.354812Z"
    }
   },
   "outputs": [
    {
     "data": {
      "text/html": [
       "<div>\n",
       "<style scoped>\n",
       "    .dataframe tbody tr th:only-of-type {\n",
       "        vertical-align: middle;\n",
       "    }\n",
       "\n",
       "    .dataframe tbody tr th {\n",
       "        vertical-align: top;\n",
       "    }\n",
       "\n",
       "    .dataframe thead th {\n",
       "        text-align: right;\n",
       "    }\n",
       "</style>\n",
       "<table border=\"1\" class=\"dataframe\">\n",
       "  <thead>\n",
       "    <tr style=\"text-align: right;\">\n",
       "      <th></th>\n",
       "      <th>id</th>\n",
       "      <th>funded_amount</th>\n",
       "      <th>loan_amount</th>\n",
       "      <th>activity</th>\n",
       "      <th>sector</th>\n",
       "      <th>use</th>\n",
       "      <th>country_code</th>\n",
       "      <th>country</th>\n",
       "      <th>region</th>\n",
       "      <th>currency</th>\n",
       "      <th>partner_id</th>\n",
       "      <th>posted_time</th>\n",
       "      <th>disbursed_time</th>\n",
       "      <th>funded_time</th>\n",
       "      <th>term_in_months</th>\n",
       "      <th>lender_count</th>\n",
       "      <th>tags</th>\n",
       "      <th>borrower_genders</th>\n",
       "      <th>repayment_interval</th>\n",
       "      <th>date</th>\n",
       "    </tr>\n",
       "  </thead>\n",
       "  <tbody>\n",
       "    <tr>\n",
       "      <th>87</th>\n",
       "      <td>653261</td>\n",
       "      <td>4275.0</td>\n",
       "      <td>5000.0</td>\n",
       "      <td>Personal Housing Expenses</td>\n",
       "      <td>Housing</td>\n",
       "      <td>to pave the ground and repair the ceiling, to ...</td>\n",
       "      <td>PS</td>\n",
       "      <td>Palestine</td>\n",
       "      <td>jenin</td>\n",
       "      <td>USD</td>\n",
       "      <td>122.0</td>\n",
       "      <td>2014-01-02 09:53:45+00:00</td>\n",
       "      <td>2013-12-24 08:00:00+00:00</td>\n",
       "      <td>NaN</td>\n",
       "      <td>39.0</td>\n",
       "      <td>58</td>\n",
       "      <td>#Supporting Family, #Interesting Photo, user_f...</td>\n",
       "      <td>male</td>\n",
       "      <td>monthly</td>\n",
       "      <td>2014-01-02</td>\n",
       "    </tr>\n",
       "    <tr>\n",
       "      <th>112</th>\n",
       "      <td>653256</td>\n",
       "      <td>1925.0</td>\n",
       "      <td>2400.0</td>\n",
       "      <td>Electronics Repair</td>\n",
       "      <td>Services</td>\n",
       "      <td>to pay the annual rent for his shop</td>\n",
       "      <td>IQ</td>\n",
       "      <td>Iraq</td>\n",
       "      <td>NaN</td>\n",
       "      <td>USD</td>\n",
       "      <td>166.0</td>\n",
       "      <td>2014-01-02 09:44:10+00:00</td>\n",
       "      <td>2013-12-29 08:00:00+00:00</td>\n",
       "      <td>NaN</td>\n",
       "      <td>15.0</td>\n",
       "      <td>41</td>\n",
       "      <td>#Single, #Supporting Family, #Eco-friendly, us...</td>\n",
       "      <td>male</td>\n",
       "      <td>monthly</td>\n",
       "      <td>2014-01-02</td>\n",
       "    </tr>\n",
       "    <tr>\n",
       "      <th>186</th>\n",
       "      <td>653253</td>\n",
       "      <td>2625.0</td>\n",
       "      <td>3000.0</td>\n",
       "      <td>Grocery Store</td>\n",
       "      <td>Food</td>\n",
       "      <td>to pay the annual rent on his grocery store an...</td>\n",
       "      <td>IQ</td>\n",
       "      <td>Iraq</td>\n",
       "      <td>NaN</td>\n",
       "      <td>USD</td>\n",
       "      <td>166.0</td>\n",
       "      <td>2014-01-02 09:35:12+00:00</td>\n",
       "      <td>2013-12-29 08:00:00+00:00</td>\n",
       "      <td>NaN</td>\n",
       "      <td>15.0</td>\n",
       "      <td>72</td>\n",
       "      <td>#First Loan, #Biz Durable Asset, #Single, user...</td>\n",
       "      <td>male</td>\n",
       "      <td>monthly</td>\n",
       "      <td>2014-01-02</td>\n",
       "    </tr>\n",
       "    <tr>\n",
       "      <th>309</th>\n",
       "      <td>653259</td>\n",
       "      <td>2750.0</td>\n",
       "      <td>3000.0</td>\n",
       "      <td>Grocery Store</td>\n",
       "      <td>Food</td>\n",
       "      <td>to install a new floor in his grocery store an...</td>\n",
       "      <td>IQ</td>\n",
       "      <td>Iraq</td>\n",
       "      <td>NaN</td>\n",
       "      <td>USD</td>\n",
       "      <td>166.0</td>\n",
       "      <td>2014-01-02 09:51:47+00:00</td>\n",
       "      <td>2013-12-30 08:00:00+00:00</td>\n",
       "      <td>NaN</td>\n",
       "      <td>15.0</td>\n",
       "      <td>44</td>\n",
       "      <td>#Biz Durable Asset, #Supporting Family, user_f...</td>\n",
       "      <td>male</td>\n",
       "      <td>monthly</td>\n",
       "      <td>2014-01-02</td>\n",
       "    </tr>\n",
       "    <tr>\n",
       "      <th>313</th>\n",
       "      <td>653263</td>\n",
       "      <td>1300.0</td>\n",
       "      <td>3000.0</td>\n",
       "      <td>Clothing</td>\n",
       "      <td>Clothing</td>\n",
       "      <td>to buy shoes and clothes to sell.</td>\n",
       "      <td>PS</td>\n",
       "      <td>Palestine</td>\n",
       "      <td>jenin</td>\n",
       "      <td>USD</td>\n",
       "      <td>122.0</td>\n",
       "      <td>2014-01-02 10:03:18+00:00</td>\n",
       "      <td>2013-12-24 08:00:00+00:00</td>\n",
       "      <td>NaN</td>\n",
       "      <td>27.0</td>\n",
       "      <td>35</td>\n",
       "      <td>#Parent, user_favorite</td>\n",
       "      <td>female</td>\n",
       "      <td>monthly</td>\n",
       "      <td>2014-01-02</td>\n",
       "    </tr>\n",
       "  </tbody>\n",
       "</table>\n",
       "</div>"
      ],
      "text/plain": [
       "         id  funded_amount  loan_amount                   activity    sector  \\\n",
       "87   653261         4275.0       5000.0  Personal Housing Expenses   Housing   \n",
       "112  653256         1925.0       2400.0         Electronics Repair  Services   \n",
       "186  653253         2625.0       3000.0              Grocery Store      Food   \n",
       "309  653259         2750.0       3000.0              Grocery Store      Food   \n",
       "313  653263         1300.0       3000.0                   Clothing  Clothing   \n",
       "\n",
       "                                                   use country_code  \\\n",
       "87   to pave the ground and repair the ceiling, to ...           PS   \n",
       "112                to pay the annual rent for his shop           IQ   \n",
       "186  to pay the annual rent on his grocery store an...           IQ   \n",
       "309  to install a new floor in his grocery store an...           IQ   \n",
       "313                  to buy shoes and clothes to sell.           PS   \n",
       "\n",
       "       country region currency  partner_id                posted_time  \\\n",
       "87   Palestine  jenin      USD       122.0  2014-01-02 09:53:45+00:00   \n",
       "112       Iraq    NaN      USD       166.0  2014-01-02 09:44:10+00:00   \n",
       "186       Iraq    NaN      USD       166.0  2014-01-02 09:35:12+00:00   \n",
       "309       Iraq    NaN      USD       166.0  2014-01-02 09:51:47+00:00   \n",
       "313  Palestine  jenin      USD       122.0  2014-01-02 10:03:18+00:00   \n",
       "\n",
       "                disbursed_time funded_time  term_in_months  lender_count  \\\n",
       "87   2013-12-24 08:00:00+00:00         NaN            39.0            58   \n",
       "112  2013-12-29 08:00:00+00:00         NaN            15.0            41   \n",
       "186  2013-12-29 08:00:00+00:00         NaN            15.0            72   \n",
       "309  2013-12-30 08:00:00+00:00         NaN            15.0            44   \n",
       "313  2013-12-24 08:00:00+00:00         NaN            27.0            35   \n",
       "\n",
       "                                                  tags borrower_genders  \\\n",
       "87   #Supporting Family, #Interesting Photo, user_f...             male   \n",
       "112  #Single, #Supporting Family, #Eco-friendly, us...             male   \n",
       "186  #First Loan, #Biz Durable Asset, #Single, user...             male   \n",
       "309  #Biz Durable Asset, #Supporting Family, user_f...             male   \n",
       "313                             #Parent, user_favorite           female   \n",
       "\n",
       "    repayment_interval        date  \n",
       "87             monthly  2014-01-02  \n",
       "112            monthly  2014-01-02  \n",
       "186            monthly  2014-01-02  \n",
       "309            monthly  2014-01-02  \n",
       "313            monthly  2014-01-02  "
      ]
     },
     "execution_count": 7,
     "metadata": {},
     "output_type": "execute_result"
    }
   ],
   "source": [
    "loans[loans.funded_amount != loans.loan_amount].head()"
   ]
  },
  {
   "cell_type": "markdown",
   "metadata": {},
   "source": [
    "For about 8% of the cases, the funded amount is not equal to the loan amount."
   ]
  },
  {
   "cell_type": "code",
   "execution_count": 8,
   "metadata": {
    "ExecuteTime": {
     "end_time": "2021-02-22T08:54:41.471413Z",
     "start_time": "2021-02-22T08:54:41.453292Z"
    }
   },
   "outputs": [
    {
     "data": {
      "text/plain": [
       "2"
      ]
     },
     "execution_count": 8,
     "metadata": {},
     "output_type": "execute_result"
    }
   ],
   "source": [
    "(loans.funded_amount > loans.loan_amount).sum()"
   ]
  },
  {
   "cell_type": "code",
   "execution_count": 9,
   "metadata": {
    "ExecuteTime": {
     "end_time": "2021-02-22T08:54:41.505276Z",
     "start_time": "2021-02-22T08:54:41.475155Z"
    }
   },
   "outputs": [
    {
     "data": {
      "text/html": [
       "<div>\n",
       "<style scoped>\n",
       "    .dataframe tbody tr th:only-of-type {\n",
       "        vertical-align: middle;\n",
       "    }\n",
       "\n",
       "    .dataframe tbody tr th {\n",
       "        vertical-align: top;\n",
       "    }\n",
       "\n",
       "    .dataframe thead th {\n",
       "        text-align: right;\n",
       "    }\n",
       "</style>\n",
       "<table border=\"1\" class=\"dataframe\">\n",
       "  <thead>\n",
       "    <tr style=\"text-align: right;\">\n",
       "      <th></th>\n",
       "      <th>id</th>\n",
       "      <th>funded_amount</th>\n",
       "      <th>loan_amount</th>\n",
       "      <th>activity</th>\n",
       "      <th>sector</th>\n",
       "      <th>use</th>\n",
       "      <th>country_code</th>\n",
       "      <th>country</th>\n",
       "      <th>region</th>\n",
       "      <th>currency</th>\n",
       "      <th>partner_id</th>\n",
       "      <th>posted_time</th>\n",
       "      <th>disbursed_time</th>\n",
       "      <th>funded_time</th>\n",
       "      <th>term_in_months</th>\n",
       "      <th>lender_count</th>\n",
       "      <th>tags</th>\n",
       "      <th>borrower_genders</th>\n",
       "      <th>repayment_interval</th>\n",
       "      <th>date</th>\n",
       "    </tr>\n",
       "  </thead>\n",
       "  <tbody>\n",
       "    <tr>\n",
       "      <th>277188</th>\n",
       "      <td>924149</td>\n",
       "      <td>425.0</td>\n",
       "      <td>400.0</td>\n",
       "      <td>General Store</td>\n",
       "      <td>Retail</td>\n",
       "      <td>to buy beverages, rice, laundry detergent, sug...</td>\n",
       "      <td>MZ</td>\n",
       "      <td>Mozambique</td>\n",
       "      <td>Boane, Maputo</td>\n",
       "      <td>MZN</td>\n",
       "      <td>23.0</td>\n",
       "      <td>2015-07-28 07:14:04+00:00</td>\n",
       "      <td>2015-07-22 07:00:00+00:00</td>\n",
       "      <td>NaN</td>\n",
       "      <td>17.0</td>\n",
       "      <td>11</td>\n",
       "      <td>#Parent, user_favorite</td>\n",
       "      <td>male</td>\n",
       "      <td>monthly</td>\n",
       "      <td>2015-07-28</td>\n",
       "    </tr>\n",
       "    <tr>\n",
       "      <th>338159</th>\n",
       "      <td>985199</td>\n",
       "      <td>3400.0</td>\n",
       "      <td>3000.0</td>\n",
       "      <td>Farm Supplies</td>\n",
       "      <td>Agriculture</td>\n",
       "      <td>to pay for wires for the grape orchard, cover ...</td>\n",
       "      <td>AM</td>\n",
       "      <td>Armenia</td>\n",
       "      <td>Hoktember village, Armavir region</td>\n",
       "      <td>USD</td>\n",
       "      <td>169.0</td>\n",
       "      <td>2015-11-25 10:53:00+00:00</td>\n",
       "      <td>2015-10-29 07:00:00+00:00</td>\n",
       "      <td>NaN</td>\n",
       "      <td>38.0</td>\n",
       "      <td>84</td>\n",
       "      <td>#Elderly, #Job Creator, #Trees, #Vegan, user_f...</td>\n",
       "      <td>male</td>\n",
       "      <td>monthly</td>\n",
       "      <td>2015-11-25</td>\n",
       "    </tr>\n",
       "  </tbody>\n",
       "</table>\n",
       "</div>"
      ],
      "text/plain": [
       "            id  funded_amount  loan_amount       activity       sector  \\\n",
       "277188  924149          425.0        400.0  General Store       Retail   \n",
       "338159  985199         3400.0       3000.0  Farm Supplies  Agriculture   \n",
       "\n",
       "                                                      use country_code  \\\n",
       "277188  to buy beverages, rice, laundry detergent, sug...           MZ   \n",
       "338159  to pay for wires for the grape orchard, cover ...           AM   \n",
       "\n",
       "           country                             region currency  partner_id  \\\n",
       "277188  Mozambique                      Boane, Maputo      MZN        23.0   \n",
       "338159     Armenia  Hoktember village, Armavir region      USD       169.0   \n",
       "\n",
       "                      posted_time             disbursed_time funded_time  \\\n",
       "277188  2015-07-28 07:14:04+00:00  2015-07-22 07:00:00+00:00         NaN   \n",
       "338159  2015-11-25 10:53:00+00:00  2015-10-29 07:00:00+00:00         NaN   \n",
       "\n",
       "        term_in_months  lender_count  \\\n",
       "277188            17.0            11   \n",
       "338159            38.0            84   \n",
       "\n",
       "                                                     tags borrower_genders  \\\n",
       "277188                             #Parent, user_favorite             male   \n",
       "338159  #Elderly, #Job Creator, #Trees, #Vegan, user_f...             male   \n",
       "\n",
       "       repayment_interval        date  \n",
       "277188            monthly  2015-07-28  \n",
       "338159            monthly  2015-11-25  "
      ]
     },
     "execution_count": 9,
     "metadata": {},
     "output_type": "execute_result"
    }
   ],
   "source": [
    "loans[(loans.funded_amount > loans.loan_amount)]"
   ]
  },
  {
   "cell_type": "markdown",
   "metadata": {},
   "source": [
    "There are only two cases where the loan got more fund."
   ]
  },
  {
   "cell_type": "markdown",
   "metadata": {},
   "source": [
    "#### `sector` ,  `activity`, and `use`\n",
    "* `sector`: High level category\n",
    "* `activity`: More granular category\n",
    "\n",
    "* <span class=\"burk\">`use`: Exact usage of loan amount</span>"
   ]
  },
  {
   "cell_type": "code",
   "execution_count": 10,
   "metadata": {
    "ExecuteTime": {
     "end_time": "2021-02-22T08:54:41.620452Z",
     "start_time": "2021-02-22T08:54:41.509535Z"
    }
   },
   "outputs": [
    {
     "data": {
      "text/plain": [
       "Agriculture       180302\n",
       "Food              136657\n",
       "Retail            124494\n",
       "Services           45140\n",
       "Personal Use       36385\n",
       "Housing            33731\n",
       "Clothing           32742\n",
       "Education          31013\n",
       "Transportation     15518\n",
       "Arts               12060\n",
       "Health              9223\n",
       "Construction        6268\n",
       "Manufacturing       6208\n",
       "Entertainment        830\n",
       "Wholesale            634\n",
       "Name: sector, dtype: int64"
      ]
     },
     "execution_count": 10,
     "metadata": {},
     "output_type": "execute_result"
    }
   ],
   "source": [
    "loans.sector.value_counts()"
   ]
  },
  {
   "cell_type": "markdown",
   "metadata": {},
   "source": [
    "The main sectors are Agriculture, Food and Retail"
   ]
  },
  {
   "cell_type": "code",
   "execution_count": 11,
   "metadata": {
    "ExecuteTime": {
     "end_time": "2021-02-22T08:54:42.147623Z",
     "start_time": "2021-02-22T08:54:41.633499Z"
    }
   },
   "outputs": [
    {
     "name": "stdout",
     "output_type": "stream",
     "text": [
      "Activity in Agriculture:\n",
      " Farming             72955\n",
      "Agriculture         27023\n",
      "Pigs                26624\n",
      "Livestock           13095\n",
      "Poultry              9783\n",
      "Animal Sales         9237\n",
      "Dairy                7914\n",
      "Cattle               7865\n",
      "Farm Supplies        4352\n",
      "Flowers               821\n",
      "Land Rental           277\n",
      "Veterinary Sales      198\n",
      "Aquaculture           108\n",
      "Beekeeping             50\n",
      "Name: activity, dtype: int64\n",
      "\n",
      "\n",
      "Activity in Food:\n",
      " Food Production/Sales         28106\n",
      "Fruits & Vegetables           16610\n",
      "Grocery Store                 15102\n",
      "Fish Selling                  13060\n",
      "Food                          10197\n",
      "Fishing                       10066\n",
      "Food Stall                     8905\n",
      "Cereals                        7898\n",
      "Food Market                    7091\n",
      "Restaurant                     4981\n",
      "Bakery                         3620\n",
      "Beverages                      2357\n",
      "Butcher Shop                   1968\n",
      "Milk Sales                     1771\n",
      "Liquor Store / Off-License     1558\n",
      "Cafe                           1404\n",
      "Pub                             902\n",
      "Catering                        653\n",
      "Cheese Making                   347\n",
      "Balut-Making                     61\n",
      "Name: activity, dtype: int64\n",
      "\n",
      "\n",
      "Activity in Retail:\n",
      " General Store                   64729\n",
      "Retail                          24771\n",
      "Cosmetics Sales                  4740\n",
      "Charcoal Sales                   4421\n",
      "Personal Products Sales          3866\n",
      "Home Products Sales              3817\n",
      "Shoe Sales                       2760\n",
      "Cloth & Dressmaking Supplies     2071\n",
      "Fuel/Firewood                    1925\n",
      "Jewelry                          1371\n",
      "Spare Parts                      1260\n",
      "Phone Use Sales                  1019\n",
      "Hardware                          953\n",
      "Recycled Materials                819\n",
      "Mobile Phones                     657\n",
      "Renewable Energy Products         585\n",
      "Plastics Sales                    568\n",
      "Electronics Sales                 546\n",
      "Phone Accessories                 486\n",
      "Bookstore                         442\n",
      "Electrical Goods                  409\n",
      "Decorations Sales                 385\n",
      "Office Supplies                   362\n",
      "Perfumes                          328\n",
      "Paper Sales                       289\n",
      "Souvenir Sales                    180\n",
      "Traveling Sales                   144\n",
      "Movie Tapes & DVDs                135\n",
      "Party Supplies                    110\n",
      "Music Discs & Tapes                81\n",
      "Sporting Good Sales                78\n",
      "Religious Articles                 68\n",
      "Florist                            65\n",
      "Bicycle Sales                      54\n",
      "Name: activity, dtype: int64\n",
      "\n",
      "\n"
     ]
    }
   ],
   "source": [
    "main_sectors = ['Agriculture', 'Food', 'Retail']\n",
    "for sector in main_sectors:\n",
    "    print('Activity in {}:\\n'.format(sector), loans[loans.sector == sector].activity.value_counts())\n",
    "    print('\\n')"
   ]
  },
  {
   "cell_type": "markdown",
   "metadata": {},
   "source": [
    "#### `country_code`, `country` and  `region`: will be used for merging and grouping\n",
    "* `country_code`: ISO country code of country in which loan was disbursed\n",
    "\n",
    "* `country`: Full country name of country in which loan was disbursed\n",
    "\n",
    "* `region`: Full region name within the country"
   ]
  },
  {
   "cell_type": "markdown",
   "metadata": {},
   "source": [
    "There are some null value in country_code and region"
   ]
  },
  {
   "cell_type": "code",
   "execution_count": 12,
   "metadata": {
    "ExecuteTime": {
     "end_time": "2021-02-22T08:54:42.196451Z",
     "start_time": "2021-02-22T08:54:42.151621Z"
    }
   },
   "outputs": [
    {
     "data": {
      "text/plain": [
       "8"
      ]
     },
     "execution_count": 12,
     "metadata": {},
     "output_type": "execute_result"
    }
   ],
   "source": [
    "loans.country_code.isnull().sum()"
   ]
  },
  {
   "cell_type": "code",
   "execution_count": 13,
   "metadata": {
    "ExecuteTime": {
     "end_time": "2021-02-22T08:54:42.254040Z",
     "start_time": "2021-02-22T08:54:42.200983Z"
    }
   },
   "outputs": [
    {
     "data": {
      "text/html": [
       "<div>\n",
       "<style scoped>\n",
       "    .dataframe tbody tr th:only-of-type {\n",
       "        vertical-align: middle;\n",
       "    }\n",
       "\n",
       "    .dataframe tbody tr th {\n",
       "        vertical-align: top;\n",
       "    }\n",
       "\n",
       "    .dataframe thead th {\n",
       "        text-align: right;\n",
       "    }\n",
       "</style>\n",
       "<table border=\"1\" class=\"dataframe\">\n",
       "  <thead>\n",
       "    <tr style=\"text-align: right;\">\n",
       "      <th></th>\n",
       "      <th>country_code</th>\n",
       "      <th>country</th>\n",
       "    </tr>\n",
       "  </thead>\n",
       "  <tbody>\n",
       "    <tr>\n",
       "      <th>202537</th>\n",
       "      <td>NaN</td>\n",
       "      <td>Namibia</td>\n",
       "    </tr>\n",
       "    <tr>\n",
       "      <th>202823</th>\n",
       "      <td>NaN</td>\n",
       "      <td>Namibia</td>\n",
       "    </tr>\n",
       "    <tr>\n",
       "      <th>344929</th>\n",
       "      <td>NaN</td>\n",
       "      <td>Namibia</td>\n",
       "    </tr>\n",
       "    <tr>\n",
       "      <th>351177</th>\n",
       "      <td>NaN</td>\n",
       "      <td>Namibia</td>\n",
       "    </tr>\n",
       "    <tr>\n",
       "      <th>420953</th>\n",
       "      <td>NaN</td>\n",
       "      <td>Namibia</td>\n",
       "    </tr>\n",
       "    <tr>\n",
       "      <th>421218</th>\n",
       "      <td>NaN</td>\n",
       "      <td>Namibia</td>\n",
       "    </tr>\n",
       "    <tr>\n",
       "      <th>487207</th>\n",
       "      <td>NaN</td>\n",
       "      <td>Namibia</td>\n",
       "    </tr>\n",
       "    <tr>\n",
       "      <th>487653</th>\n",
       "      <td>NaN</td>\n",
       "      <td>Namibia</td>\n",
       "    </tr>\n",
       "  </tbody>\n",
       "</table>\n",
       "</div>"
      ],
      "text/plain": [
       "       country_code  country\n",
       "202537          NaN  Namibia\n",
       "202823          NaN  Namibia\n",
       "344929          NaN  Namibia\n",
       "351177          NaN  Namibia\n",
       "420953          NaN  Namibia\n",
       "421218          NaN  Namibia\n",
       "487207          NaN  Namibia\n",
       "487653          NaN  Namibia"
      ]
     },
     "execution_count": 13,
     "metadata": {},
     "output_type": "execute_result"
    }
   ],
   "source": [
    "loans[loans.country_code.isna()][['country_code','country']]"
   ]
  },
  {
   "cell_type": "markdown",
   "metadata": {},
   "source": [
    "All missing values of country_code come from Namibia whose ISO code is NA([countrycode.org](https://countrycode.org/))"
   ]
  },
  {
   "cell_type": "code",
   "execution_count": 14,
   "metadata": {
    "ExecuteTime": {
     "end_time": "2021-02-22T08:54:42.306011Z",
     "start_time": "2021-02-22T08:54:42.257670Z"
    },
    "scrolled": true
   },
   "outputs": [],
   "source": [
    "loans.country_code.fillna('NA', inplace=True)"
   ]
  },
  {
   "cell_type": "code",
   "execution_count": 15,
   "metadata": {
    "ExecuteTime": {
     "end_time": "2021-02-22T08:54:42.351085Z",
     "start_time": "2021-02-22T08:54:42.311623Z"
    }
   },
   "outputs": [
    {
     "data": {
      "text/plain": [
       "0"
      ]
     },
     "execution_count": 15,
     "metadata": {},
     "output_type": "execute_result"
    }
   ],
   "source": [
    "loans.country_code.isnull().sum()"
   ]
  },
  {
   "cell_type": "markdown",
   "metadata": {},
   "source": [
    "In the `loans` dataset, the type of `country_code` is ISO 3166-1 alpha-2 code, which is a two-letter code representing countries. However, in the `mpi_region_locations` and `loan_themes_by_region` datasets, the type of `ISO` is ISO 3166-1 alpha-3 code, which is a three-letter code representing the same countries with ISO 3166-1 alpha-2 code.\n",
    "\n",
    "Here, they will be aligned to the same code type, ISO 3166-1 alpha-3."
   ]
  },
  {
   "cell_type": "code",
   "execution_count": 16,
   "metadata": {
    "ExecuteTime": {
     "end_time": "2021-02-22T08:54:42.375531Z",
     "start_time": "2021-02-22T08:54:42.358985Z"
    }
   },
   "outputs": [],
   "source": [
    "ISO_country_code = pd.read_csv('/Users/lasayin/Desktop/Springboard/GitHub/Springboard_DS_Capstone2/RawData/AdditionalData/wikipedia-iso-country-codes.csv')"
   ]
  },
  {
   "cell_type": "code",
   "execution_count": 17,
   "metadata": {
    "ExecuteTime": {
     "end_time": "2021-02-22T08:54:42.399760Z",
     "start_time": "2021-02-22T08:54:42.380024Z"
    }
   },
   "outputs": [
    {
     "data": {
      "text/html": [
       "<div>\n",
       "<style scoped>\n",
       "    .dataframe tbody tr th:only-of-type {\n",
       "        vertical-align: middle;\n",
       "    }\n",
       "\n",
       "    .dataframe tbody tr th {\n",
       "        vertical-align: top;\n",
       "    }\n",
       "\n",
       "    .dataframe thead th {\n",
       "        text-align: right;\n",
       "    }\n",
       "</style>\n",
       "<table border=\"1\" class=\"dataframe\">\n",
       "  <thead>\n",
       "    <tr style=\"text-align: right;\">\n",
       "      <th></th>\n",
       "      <th>English short name lower case</th>\n",
       "      <th>Alpha-2 code</th>\n",
       "      <th>Alpha-3 code</th>\n",
       "      <th>Numeric code</th>\n",
       "      <th>ISO 3166-2</th>\n",
       "    </tr>\n",
       "  </thead>\n",
       "  <tbody>\n",
       "    <tr>\n",
       "      <th>0</th>\n",
       "      <td>Afghanistan</td>\n",
       "      <td>AF</td>\n",
       "      <td>AFG</td>\n",
       "      <td>4</td>\n",
       "      <td>ISO 3166-2:AF</td>\n",
       "    </tr>\n",
       "    <tr>\n",
       "      <th>1</th>\n",
       "      <td>Åland Islands</td>\n",
       "      <td>AX</td>\n",
       "      <td>ALA</td>\n",
       "      <td>248</td>\n",
       "      <td>ISO 3166-2:AX</td>\n",
       "    </tr>\n",
       "    <tr>\n",
       "      <th>2</th>\n",
       "      <td>Albania</td>\n",
       "      <td>AL</td>\n",
       "      <td>ALB</td>\n",
       "      <td>8</td>\n",
       "      <td>ISO 3166-2:AL</td>\n",
       "    </tr>\n",
       "    <tr>\n",
       "      <th>3</th>\n",
       "      <td>Algeria</td>\n",
       "      <td>DZ</td>\n",
       "      <td>DZA</td>\n",
       "      <td>12</td>\n",
       "      <td>ISO 3166-2:DZ</td>\n",
       "    </tr>\n",
       "    <tr>\n",
       "      <th>4</th>\n",
       "      <td>American Samoa</td>\n",
       "      <td>AS</td>\n",
       "      <td>ASM</td>\n",
       "      <td>16</td>\n",
       "      <td>ISO 3166-2:AS</td>\n",
       "    </tr>\n",
       "  </tbody>\n",
       "</table>\n",
       "</div>"
      ],
      "text/plain": [
       "  English short name lower case Alpha-2 code Alpha-3 code  Numeric code  \\\n",
       "0                   Afghanistan           AF          AFG             4   \n",
       "1                 Åland Islands           AX          ALA           248   \n",
       "2                       Albania           AL          ALB             8   \n",
       "3                       Algeria           DZ          DZA            12   \n",
       "4                American Samoa           AS          ASM            16   \n",
       "\n",
       "      ISO 3166-2  \n",
       "0  ISO 3166-2:AF  \n",
       "1  ISO 3166-2:AX  \n",
       "2  ISO 3166-2:AL  \n",
       "3  ISO 3166-2:DZ  \n",
       "4  ISO 3166-2:AS  "
      ]
     },
     "execution_count": 17,
     "metadata": {},
     "output_type": "execute_result"
    }
   ],
   "source": [
    "ISO_country_code.head()"
   ]
  },
  {
   "cell_type": "code",
   "execution_count": 18,
   "metadata": {
    "ExecuteTime": {
     "end_time": "2021-02-22T08:54:42.417808Z",
     "start_time": "2021-02-22T08:54:42.404923Z"
    }
   },
   "outputs": [
    {
     "name": "stdout",
     "output_type": "stream",
     "text": [
      "<class 'pandas.core.frame.DataFrame'>\n",
      "RangeIndex: 246 entries, 0 to 245\n",
      "Data columns (total 5 columns):\n",
      " #   Column                         Non-Null Count  Dtype \n",
      "---  ------                         --------------  ----- \n",
      " 0   English short name lower case  246 non-null    object\n",
      " 1   Alpha-2 code                   245 non-null    object\n",
      " 2   Alpha-3 code                   246 non-null    object\n",
      " 3   Numeric code                   246 non-null    int64 \n",
      " 4   ISO 3166-2                     246 non-null    object\n",
      "dtypes: int64(1), object(4)\n",
      "memory usage: 9.7+ KB\n"
     ]
    }
   ],
   "source": [
    "ISO_country_code.info()"
   ]
  },
  {
   "cell_type": "code",
   "execution_count": 19,
   "metadata": {
    "ExecuteTime": {
     "end_time": "2021-02-22T08:54:42.428380Z",
     "start_time": "2021-02-22T08:54:42.423477Z"
    }
   },
   "outputs": [],
   "source": [
    "ISO_2_3 = ISO_country_code.iloc[:, 0:3]"
   ]
  },
  {
   "cell_type": "code",
   "execution_count": 20,
   "metadata": {
    "ExecuteTime": {
     "end_time": "2021-02-22T08:54:42.441182Z",
     "start_time": "2021-02-22T08:54:42.433174Z"
    }
   },
   "outputs": [],
   "source": [
    "ISO_2_3.rename({'English short name lower case':'country', 'Alpha-2 code':'country_code', 'Alpha-3 code':'ISO'}, axis=1, inplace=True)"
   ]
  },
  {
   "cell_type": "code",
   "execution_count": 21,
   "metadata": {
    "ExecuteTime": {
     "end_time": "2021-02-22T08:54:42.462286Z",
     "start_time": "2021-02-22T08:54:42.445499Z"
    },
    "scrolled": true
   },
   "outputs": [
    {
     "data": {
      "text/html": [
       "<div>\n",
       "<style scoped>\n",
       "    .dataframe tbody tr th:only-of-type {\n",
       "        vertical-align: middle;\n",
       "    }\n",
       "\n",
       "    .dataframe tbody tr th {\n",
       "        vertical-align: top;\n",
       "    }\n",
       "\n",
       "    .dataframe thead th {\n",
       "        text-align: right;\n",
       "    }\n",
       "</style>\n",
       "<table border=\"1\" class=\"dataframe\">\n",
       "  <thead>\n",
       "    <tr style=\"text-align: right;\">\n",
       "      <th></th>\n",
       "      <th>country</th>\n",
       "      <th>country_code</th>\n",
       "      <th>ISO</th>\n",
       "    </tr>\n",
       "  </thead>\n",
       "  <tbody>\n",
       "    <tr>\n",
       "      <th>0</th>\n",
       "      <td>Afghanistan</td>\n",
       "      <td>AF</td>\n",
       "      <td>AFG</td>\n",
       "    </tr>\n",
       "    <tr>\n",
       "      <th>1</th>\n",
       "      <td>Åland Islands</td>\n",
       "      <td>AX</td>\n",
       "      <td>ALA</td>\n",
       "    </tr>\n",
       "    <tr>\n",
       "      <th>2</th>\n",
       "      <td>Albania</td>\n",
       "      <td>AL</td>\n",
       "      <td>ALB</td>\n",
       "    </tr>\n",
       "    <tr>\n",
       "      <th>3</th>\n",
       "      <td>Algeria</td>\n",
       "      <td>DZ</td>\n",
       "      <td>DZA</td>\n",
       "    </tr>\n",
       "    <tr>\n",
       "      <th>4</th>\n",
       "      <td>American Samoa</td>\n",
       "      <td>AS</td>\n",
       "      <td>ASM</td>\n",
       "    </tr>\n",
       "  </tbody>\n",
       "</table>\n",
       "</div>"
      ],
      "text/plain": [
       "          country country_code  ISO\n",
       "0     Afghanistan           AF  AFG\n",
       "1   Åland Islands           AX  ALA\n",
       "2         Albania           AL  ALB\n",
       "3         Algeria           DZ  DZA\n",
       "4  American Samoa           AS  ASM"
      ]
     },
     "execution_count": 21,
     "metadata": {},
     "output_type": "execute_result"
    }
   ],
   "source": [
    "ISO_2_3.head()"
   ]
  },
  {
   "cell_type": "code",
   "execution_count": 22,
   "metadata": {
    "ExecuteTime": {
     "end_time": "2021-02-22T08:54:43.600629Z",
     "start_time": "2021-02-22T08:54:42.491822Z"
    }
   },
   "outputs": [],
   "source": [
    "loans_ISO_2_3 = pd.merge(loans, ISO_2_3, on=['country','country_code'], how='left')"
   ]
  },
  {
   "cell_type": "markdown",
   "metadata": {},
   "source": [
    "To check the result"
   ]
  },
  {
   "cell_type": "code",
   "execution_count": 23,
   "metadata": {
    "ExecuteTime": {
     "end_time": "2021-02-22T08:54:43.684223Z",
     "start_time": "2021-02-22T08:54:43.628878Z"
    }
   },
   "outputs": [
    {
     "data": {
      "text/plain": [
       "87"
      ]
     },
     "execution_count": 23,
     "metadata": {},
     "output_type": "execute_result"
    }
   ],
   "source": [
    "len(loans_ISO_2_3.country.unique())"
   ]
  },
  {
   "cell_type": "code",
   "execution_count": 24,
   "metadata": {
    "ExecuteTime": {
     "end_time": "2021-02-22T08:54:43.728680Z",
     "start_time": "2021-02-22T08:54:43.689185Z"
    }
   },
   "outputs": [
    {
     "data": {
      "text/plain": [
       "87"
      ]
     },
     "execution_count": 24,
     "metadata": {},
     "output_type": "execute_result"
    }
   ],
   "source": [
    "len(loans_ISO_2_3.country_code.unique())"
   ]
  },
  {
   "cell_type": "code",
   "execution_count": 25,
   "metadata": {
    "ExecuteTime": {
     "end_time": "2021-02-22T08:54:43.782209Z",
     "start_time": "2021-02-22T08:54:43.732825Z"
    }
   },
   "outputs": [
    {
     "data": {
      "text/plain": [
       "77"
      ]
     },
     "execution_count": 25,
     "metadata": {},
     "output_type": "execute_result"
    }
   ],
   "source": [
    "len(loans_ISO_2_3.ISO.unique())"
   ]
  },
  {
   "cell_type": "code",
   "execution_count": 26,
   "metadata": {
    "ExecuteTime": {
     "end_time": "2021-02-22T08:54:43.839601Z",
     "start_time": "2021-02-22T08:54:43.791263Z"
    }
   },
   "outputs": [
    {
     "data": {
      "text/plain": [
       "26360"
      ]
     },
     "execution_count": 26,
     "metadata": {},
     "output_type": "execute_result"
    }
   ],
   "source": [
    "loans_ISO_2_3.ISO.isnull().sum()"
   ]
  },
  {
   "cell_type": "code",
   "execution_count": 27,
   "metadata": {
    "ExecuteTime": {
     "end_time": "2021-02-22T08:54:44.005817Z",
     "start_time": "2021-02-22T08:54:43.854127Z"
    }
   },
   "outputs": [
    {
     "data": {
      "text/plain": [
       "array(['Tanzania', 'Palestine', 'United States', 'Kosovo',\n",
       "       'The Democratic Republic of the Congo', 'Virgin Islands',\n",
       "       'Myanmar (Burma)', 'Moldova', 'South Sudan', 'Namibia',\n",
       "       \"Cote D'Ivoire\"], dtype=object)"
      ]
     },
     "execution_count": 27,
     "metadata": {},
     "output_type": "execute_result"
    }
   ],
   "source": [
    "loans[loans_ISO_2_3.ISO.isnull()].country.unique()"
   ]
  },
  {
   "cell_type": "markdown",
   "metadata": {},
   "source": [
    "There is inconsistency of countries' name between two datasets, so merging will be done only on `country_code`"
   ]
  },
  {
   "cell_type": "code",
   "execution_count": 28,
   "metadata": {
    "ExecuteTime": {
     "end_time": "2021-02-22T08:54:44.020248Z",
     "start_time": "2021-02-22T08:54:44.016447Z"
    }
   },
   "outputs": [],
   "source": [
    "ISO_2_3_revised = ISO_2_3.iloc[:,1:]"
   ]
  },
  {
   "cell_type": "code",
   "execution_count": 29,
   "metadata": {
    "ExecuteTime": {
     "end_time": "2021-02-22T08:54:45.086746Z",
     "start_time": "2021-02-22T08:54:44.023868Z"
    }
   },
   "outputs": [],
   "source": [
    "loans_ISO_2_3_revised = pd.merge(loans, ISO_2_3_revised, on='country_code', how='left')"
   ]
  },
  {
   "cell_type": "code",
   "execution_count": 30,
   "metadata": {
    "ExecuteTime": {
     "end_time": "2021-02-22T08:54:45.170674Z",
     "start_time": "2021-02-22T08:54:45.090334Z"
    }
   },
   "outputs": [
    {
     "data": {
      "text/plain": [
       "1587"
      ]
     },
     "execution_count": 30,
     "metadata": {},
     "output_type": "execute_result"
    }
   ],
   "source": [
    "loans_ISO_2_3_revised.ISO.isnull().sum()"
   ]
  },
  {
   "cell_type": "markdown",
   "metadata": {},
   "source": [
    "There are still Nan values in `ISO`."
   ]
  },
  {
   "cell_type": "code",
   "execution_count": 31,
   "metadata": {
    "ExecuteTime": {
     "end_time": "2021-02-22T08:54:45.282572Z",
     "start_time": "2021-02-22T08:54:45.189838Z"
    }
   },
   "outputs": [
    {
     "data": {
      "text/plain": [
       "array(['XK', 'SS', 'NA'], dtype=object)"
      ]
     },
     "execution_count": 31,
     "metadata": {},
     "output_type": "execute_result"
    }
   ],
   "source": [
    "loans[loans_ISO_2_3_revised.ISO.isnull()].country_code.unique()"
   ]
  },
  {
   "cell_type": "code",
   "execution_count": 32,
   "metadata": {
    "ExecuteTime": {
     "end_time": "2021-02-22T08:54:45.366639Z",
     "start_time": "2021-02-22T08:54:45.291301Z"
    }
   },
   "outputs": [
    {
     "data": {
      "text/plain": [
       "array(['Kosovo'], dtype=object)"
      ]
     },
     "execution_count": 32,
     "metadata": {},
     "output_type": "execute_result"
    }
   ],
   "source": [
    "loans[loans.country_code=='XK'].country.unique()"
   ]
  },
  {
   "cell_type": "code",
   "execution_count": 33,
   "metadata": {
    "ExecuteTime": {
     "end_time": "2021-02-22T08:54:45.491040Z",
     "start_time": "2021-02-22T08:54:45.377802Z"
    }
   },
   "outputs": [
    {
     "data": {
      "text/plain": [
       "array(['South Sudan'], dtype=object)"
      ]
     },
     "execution_count": 33,
     "metadata": {},
     "output_type": "execute_result"
    }
   ],
   "source": [
    "loans[loans.country_code=='SS'].country.unique()"
   ]
  },
  {
   "cell_type": "markdown",
   "metadata": {},
   "source": [
    "According to [countrycode.org](https://countrycode.org/), the 3-digit ISO code of Kosovo, whose 2-digit code is 'XK', is 'XKX'; the 3-digit ISO code of South Sudan, whose 2-digit code is 'SS', is 'SSD'."
   ]
  },
  {
   "cell_type": "code",
   "execution_count": 34,
   "metadata": {
    "ExecuteTime": {
     "end_time": "2021-02-22T08:54:45.826171Z",
     "start_time": "2021-02-22T08:54:45.497307Z"
    }
   },
   "outputs": [
    {
     "data": {
      "text/plain": [
       "8"
      ]
     },
     "execution_count": 34,
     "metadata": {},
     "output_type": "execute_result"
    }
   ],
   "source": [
    "d = {'XK': \"XKX\", 'SS':'SSD'}\n",
    "s = loans_ISO_2_3_revised.country_code.map(d)\n",
    "\n",
    "loans_ISO_2_3_revised.ISO = loans_ISO_2_3_revised.ISO.combine_first(s)\n",
    "loans_ISO_2_3_revised.ISO.isnull().sum()"
   ]
  },
  {
   "cell_type": "code",
   "execution_count": 35,
   "metadata": {
    "ExecuteTime": {
     "end_time": "2021-02-22T08:54:46.003811Z",
     "start_time": "2021-02-22T08:54:45.842485Z"
    }
   },
   "outputs": [],
   "source": [
    "loans_ISO = loans.drop('country_code', axis=1)\n",
    "loans_ISO['ISO'] = loans_ISO_2_3_revised.ISO"
   ]
  },
  {
   "cell_type": "code",
   "execution_count": 36,
   "metadata": {
    "ExecuteTime": {
     "end_time": "2021-02-22T08:54:46.997881Z",
     "start_time": "2021-02-22T08:54:46.035853Z"
    }
   },
   "outputs": [
    {
     "name": "stdout",
     "output_type": "stream",
     "text": [
      "<class 'pandas.core.frame.DataFrame'>\n",
      "RangeIndex: 671205 entries, 0 to 671204\n",
      "Data columns (total 20 columns):\n",
      " #   Column              Non-Null Count   Dtype  \n",
      "---  ------              --------------   -----  \n",
      " 0   id                  671205 non-null  int64  \n",
      " 1   funded_amount       671205 non-null  float64\n",
      " 2   loan_amount         671205 non-null  float64\n",
      " 3   activity            671205 non-null  object \n",
      " 4   sector              671205 non-null  object \n",
      " 5   use                 666973 non-null  object \n",
      " 6   country             671205 non-null  object \n",
      " 7   region              614405 non-null  object \n",
      " 8   currency            671205 non-null  object \n",
      " 9   partner_id          657698 non-null  float64\n",
      " 10  posted_time         671205 non-null  object \n",
      " 11  disbursed_time      668809 non-null  object \n",
      " 12  funded_time         622874 non-null  object \n",
      " 13  term_in_months      671205 non-null  float64\n",
      " 14  lender_count        671205 non-null  int64  \n",
      " 15  tags                499789 non-null  object \n",
      " 16  borrower_genders    666984 non-null  object \n",
      " 17  repayment_interval  671205 non-null  object \n",
      " 18  date                671205 non-null  object \n",
      " 19  ISO                 671197 non-null  object \n",
      "dtypes: float64(4), int64(2), object(14)\n",
      "memory usage: 102.4+ MB\n"
     ]
    }
   ],
   "source": [
    "loans_ISO.info()"
   ]
  },
  {
   "cell_type": "markdown",
   "metadata": {},
   "source": [
    "Now, `country_code` column has been removed and `ISO` factor is added without missing values"
   ]
  },
  {
   "cell_type": "code",
   "execution_count": 37,
   "metadata": {
    "ExecuteTime": {
     "end_time": "2021-02-22T08:54:47.194468Z",
     "start_time": "2021-02-22T08:54:47.005300Z"
    }
   },
   "outputs": [
    {
     "data": {
      "text/plain": [
       "El Salvador      20251\n",
       "Kenya             8752\n",
       "Rwanda            6138\n",
       "United States     5173\n",
       "Senegal           3231\n",
       "                 ...  \n",
       "Bhutan               1\n",
       "China                1\n",
       "Kyrgyzstan           1\n",
       "Guam                 1\n",
       "Georgia              1\n",
       "Name: country, Length: 72, dtype: int64"
      ]
     },
     "execution_count": 37,
     "metadata": {},
     "output_type": "execute_result"
    }
   ],
   "source": [
    "loans[loans.region.isnull()]['country'].value_counts()"
   ]
  },
  {
   "cell_type": "markdown",
   "metadata": {},
   "source": [
    "<span class=\"burk\">The 58000 entries having no region information involves 72 countries.</span>"
   ]
  },
  {
   "cell_type": "markdown",
   "metadata": {},
   "source": [
    "#### <span class=\"burk\">`curreny` and `partner_id`</span> \n",
    "* `currency`: The currency in which the loan was disbursed\n",
    "\n",
    "* `partner_id`: ID of partner organization"
   ]
  },
  {
   "cell_type": "markdown",
   "metadata": {},
   "source": [
    "#### <span class=\"burk\">`posted_time`, `disbursed_time`, `funded_time` and `date`: timezone issue</span>\n",
    "* `posted_time`: The time at which the loan is posted on Kiva by the field agent\n",
    "\n",
    "* `disbursed_time`: The time at which the loan is disbursed by the field agent to the borrower\n",
    "\n",
    "* `funded_time`: The time at which the loan posted to Kiva gets funded by lenders completely\n",
    "\n",
    "* `date`: No descprition."
   ]
  },
  {
   "cell_type": "code",
   "execution_count": 38,
   "metadata": {
    "ExecuteTime": {
     "end_time": "2021-02-22T08:54:47.302153Z",
     "start_time": "2021-02-22T08:54:47.210915Z"
    }
   },
   "outputs": [],
   "source": [
    "times = loans[['posted_time', 'disbursed_time', 'funded_time', 'date']]"
   ]
  },
  {
   "cell_type": "code",
   "execution_count": 39,
   "metadata": {
    "ExecuteTime": {
     "end_time": "2021-02-22T08:54:47.655421Z",
     "start_time": "2021-02-22T08:54:47.310231Z"
    }
   },
   "outputs": [
    {
     "name": "stdout",
     "output_type": "stream",
     "text": [
      "<class 'pandas.core.frame.DataFrame'>\n",
      "RangeIndex: 671205 entries, 0 to 671204\n",
      "Data columns (total 4 columns):\n",
      " #   Column          Non-Null Count   Dtype \n",
      "---  ------          --------------   ----- \n",
      " 0   posted_time     671205 non-null  object\n",
      " 1   disbursed_time  668809 non-null  object\n",
      " 2   funded_time     622874 non-null  object\n",
      " 3   date            671205 non-null  object\n",
      "dtypes: object(4)\n",
      "memory usage: 20.5+ MB\n"
     ]
    }
   ],
   "source": [
    "times.info()"
   ]
  },
  {
   "cell_type": "code",
   "execution_count": 40,
   "metadata": {
    "ExecuteTime": {
     "end_time": "2021-02-22T08:54:47.718512Z",
     "start_time": "2021-02-22T08:54:47.669814Z"
    }
   },
   "outputs": [
    {
     "data": {
      "text/html": [
       "<div>\n",
       "<style scoped>\n",
       "    .dataframe tbody tr th:only-of-type {\n",
       "        vertical-align: middle;\n",
       "    }\n",
       "\n",
       "    .dataframe tbody tr th {\n",
       "        vertical-align: top;\n",
       "    }\n",
       "\n",
       "    .dataframe thead th {\n",
       "        text-align: right;\n",
       "    }\n",
       "</style>\n",
       "<table border=\"1\" class=\"dataframe\">\n",
       "  <thead>\n",
       "    <tr style=\"text-align: right;\">\n",
       "      <th></th>\n",
       "      <th>posted_time</th>\n",
       "      <th>disbursed_time</th>\n",
       "      <th>funded_time</th>\n",
       "      <th>date</th>\n",
       "    </tr>\n",
       "  </thead>\n",
       "  <tbody>\n",
       "    <tr>\n",
       "      <th>0</th>\n",
       "      <td>2014-01-01 06:12:39+00:00</td>\n",
       "      <td>2013-12-17 08:00:00+00:00</td>\n",
       "      <td>2014-01-02 10:06:32+00:00</td>\n",
       "      <td>2014-01-01</td>\n",
       "    </tr>\n",
       "    <tr>\n",
       "      <th>1</th>\n",
       "      <td>2014-01-01 06:51:08+00:00</td>\n",
       "      <td>2013-12-17 08:00:00+00:00</td>\n",
       "      <td>2014-01-02 09:17:23+00:00</td>\n",
       "      <td>2014-01-01</td>\n",
       "    </tr>\n",
       "    <tr>\n",
       "      <th>2</th>\n",
       "      <td>2014-01-01 09:58:07+00:00</td>\n",
       "      <td>2013-12-17 08:00:00+00:00</td>\n",
       "      <td>2014-01-01 16:01:36+00:00</td>\n",
       "      <td>2014-01-01</td>\n",
       "    </tr>\n",
       "    <tr>\n",
       "      <th>3</th>\n",
       "      <td>2014-01-01 08:03:11+00:00</td>\n",
       "      <td>2013-12-24 08:00:00+00:00</td>\n",
       "      <td>2014-01-01 13:00:00+00:00</td>\n",
       "      <td>2014-01-01</td>\n",
       "    </tr>\n",
       "    <tr>\n",
       "      <th>4</th>\n",
       "      <td>2014-01-01 11:53:19+00:00</td>\n",
       "      <td>2013-12-17 08:00:00+00:00</td>\n",
       "      <td>2014-01-01 19:18:51+00:00</td>\n",
       "      <td>2014-01-01</td>\n",
       "    </tr>\n",
       "  </tbody>\n",
       "</table>\n",
       "</div>"
      ],
      "text/plain": [
       "                 posted_time             disbursed_time  \\\n",
       "0  2014-01-01 06:12:39+00:00  2013-12-17 08:00:00+00:00   \n",
       "1  2014-01-01 06:51:08+00:00  2013-12-17 08:00:00+00:00   \n",
       "2  2014-01-01 09:58:07+00:00  2013-12-17 08:00:00+00:00   \n",
       "3  2014-01-01 08:03:11+00:00  2013-12-24 08:00:00+00:00   \n",
       "4  2014-01-01 11:53:19+00:00  2013-12-17 08:00:00+00:00   \n",
       "\n",
       "                 funded_time        date  \n",
       "0  2014-01-02 10:06:32+00:00  2014-01-01  \n",
       "1  2014-01-02 09:17:23+00:00  2014-01-01  \n",
       "2  2014-01-01 16:01:36+00:00  2014-01-01  \n",
       "3  2014-01-01 13:00:00+00:00  2014-01-01  \n",
       "4  2014-01-01 19:18:51+00:00  2014-01-01  "
      ]
     },
     "execution_count": 40,
     "metadata": {},
     "output_type": "execute_result"
    }
   ],
   "source": [
    "times.head()"
   ]
  },
  {
   "cell_type": "code",
   "execution_count": 41,
   "metadata": {
    "ExecuteTime": {
     "end_time": "2021-02-22T08:54:49.651236Z",
     "start_time": "2021-02-22T08:54:47.725571Z"
    }
   },
   "outputs": [],
   "source": [
    "# Keep the date only\n",
    "times = times.apply(lambda x: x.str[:10])"
   ]
  },
  {
   "cell_type": "code",
   "execution_count": 42,
   "metadata": {
    "ExecuteTime": {
     "end_time": "2021-02-22T08:54:49.720596Z",
     "start_time": "2021-02-22T08:54:49.653722Z"
    }
   },
   "outputs": [
    {
     "data": {
      "text/html": [
       "<div>\n",
       "<style scoped>\n",
       "    .dataframe tbody tr th:only-of-type {\n",
       "        vertical-align: middle;\n",
       "    }\n",
       "\n",
       "    .dataframe tbody tr th {\n",
       "        vertical-align: top;\n",
       "    }\n",
       "\n",
       "    .dataframe thead th {\n",
       "        text-align: right;\n",
       "    }\n",
       "</style>\n",
       "<table border=\"1\" class=\"dataframe\">\n",
       "  <thead>\n",
       "    <tr style=\"text-align: right;\">\n",
       "      <th></th>\n",
       "      <th>posted_time</th>\n",
       "      <th>disbursed_time</th>\n",
       "      <th>funded_time</th>\n",
       "      <th>date</th>\n",
       "    </tr>\n",
       "  </thead>\n",
       "  <tbody>\n",
       "    <tr>\n",
       "      <th>0</th>\n",
       "      <td>2014-01-01</td>\n",
       "      <td>2013-12-17</td>\n",
       "      <td>2014-01-02</td>\n",
       "      <td>2014-01-01</td>\n",
       "    </tr>\n",
       "    <tr>\n",
       "      <th>1</th>\n",
       "      <td>2014-01-01</td>\n",
       "      <td>2013-12-17</td>\n",
       "      <td>2014-01-02</td>\n",
       "      <td>2014-01-01</td>\n",
       "    </tr>\n",
       "    <tr>\n",
       "      <th>2</th>\n",
       "      <td>2014-01-01</td>\n",
       "      <td>2013-12-17</td>\n",
       "      <td>2014-01-01</td>\n",
       "      <td>2014-01-01</td>\n",
       "    </tr>\n",
       "    <tr>\n",
       "      <th>3</th>\n",
       "      <td>2014-01-01</td>\n",
       "      <td>2013-12-24</td>\n",
       "      <td>2014-01-01</td>\n",
       "      <td>2014-01-01</td>\n",
       "    </tr>\n",
       "    <tr>\n",
       "      <th>4</th>\n",
       "      <td>2014-01-01</td>\n",
       "      <td>2013-12-17</td>\n",
       "      <td>2014-01-01</td>\n",
       "      <td>2014-01-01</td>\n",
       "    </tr>\n",
       "    <tr>\n",
       "      <th>...</th>\n",
       "      <td>...</td>\n",
       "      <td>...</td>\n",
       "      <td>...</td>\n",
       "      <td>...</td>\n",
       "    </tr>\n",
       "    <tr>\n",
       "      <th>671200</th>\n",
       "      <td>2017-07-25</td>\n",
       "      <td>2017-07-25</td>\n",
       "      <td>NaN</td>\n",
       "      <td>2017-07-25</td>\n",
       "    </tr>\n",
       "    <tr>\n",
       "      <th>671201</th>\n",
       "      <td>2017-07-25</td>\n",
       "      <td>2017-07-24</td>\n",
       "      <td>2017-07-26</td>\n",
       "      <td>2017-07-25</td>\n",
       "    </tr>\n",
       "    <tr>\n",
       "      <th>671202</th>\n",
       "      <td>2017-07-26</td>\n",
       "      <td>2017-07-25</td>\n",
       "      <td>NaN</td>\n",
       "      <td>2017-07-26</td>\n",
       "    </tr>\n",
       "    <tr>\n",
       "      <th>671203</th>\n",
       "      <td>2017-07-26</td>\n",
       "      <td>2017-07-25</td>\n",
       "      <td>NaN</td>\n",
       "      <td>2017-07-26</td>\n",
       "    </tr>\n",
       "    <tr>\n",
       "      <th>671204</th>\n",
       "      <td>2017-07-26</td>\n",
       "      <td>2017-07-25</td>\n",
       "      <td>NaN</td>\n",
       "      <td>2017-07-26</td>\n",
       "    </tr>\n",
       "  </tbody>\n",
       "</table>\n",
       "<p>671205 rows × 4 columns</p>\n",
       "</div>"
      ],
      "text/plain": [
       "       posted_time disbursed_time funded_time        date\n",
       "0       2014-01-01     2013-12-17  2014-01-02  2014-01-01\n",
       "1       2014-01-01     2013-12-17  2014-01-02  2014-01-01\n",
       "2       2014-01-01     2013-12-17  2014-01-01  2014-01-01\n",
       "3       2014-01-01     2013-12-24  2014-01-01  2014-01-01\n",
       "4       2014-01-01     2013-12-17  2014-01-01  2014-01-01\n",
       "...            ...            ...         ...         ...\n",
       "671200  2017-07-25     2017-07-25         NaN  2017-07-25\n",
       "671201  2017-07-25     2017-07-24  2017-07-26  2017-07-25\n",
       "671202  2017-07-26     2017-07-25         NaN  2017-07-26\n",
       "671203  2017-07-26     2017-07-25         NaN  2017-07-26\n",
       "671204  2017-07-26     2017-07-25         NaN  2017-07-26\n",
       "\n",
       "[671205 rows x 4 columns]"
      ]
     },
     "execution_count": 42,
     "metadata": {},
     "output_type": "execute_result"
    }
   ],
   "source": [
    "times"
   ]
  },
  {
   "cell_type": "markdown",
   "metadata": {},
   "source": [
    "* `posted_time` and `date`"
   ]
  },
  {
   "cell_type": "code",
   "execution_count": 43,
   "metadata": {
    "ExecuteTime": {
     "end_time": "2021-02-22T08:54:49.919558Z",
     "start_time": "2021-02-22T08:54:49.754021Z"
    }
   },
   "outputs": [
    {
     "data": {
      "text/plain": [
       "0"
      ]
     },
     "execution_count": 43,
     "metadata": {},
     "output_type": "execute_result"
    }
   ],
   "source": [
    "(times.posted_time != times.date).sum()"
   ]
  },
  {
   "cell_type": "markdown",
   "metadata": {},
   "source": [
    "The dates of `posted_time` and `date` are the same, both of which have no null value."
   ]
  },
  {
   "cell_type": "markdown",
   "metadata": {},
   "source": [
    "* `disbursed_time` and `funded_time`"
   ]
  },
  {
   "cell_type": "code",
   "execution_count": 44,
   "metadata": {
    "ExecuteTime": {
     "end_time": "2021-02-22T08:54:50.060808Z",
     "start_time": "2021-02-22T08:54:49.952056Z"
    }
   },
   "outputs": [
    {
     "data": {
      "text/plain": [
       "2396"
      ]
     },
     "execution_count": 44,
     "metadata": {},
     "output_type": "execute_result"
    }
   ],
   "source": [
    "(times.disbursed_time.isnull()).sum()"
   ]
  },
  {
   "cell_type": "code",
   "execution_count": 45,
   "metadata": {
    "ExecuteTime": {
     "end_time": "2021-02-22T08:54:50.214173Z",
     "start_time": "2021-02-22T08:54:50.073303Z"
    }
   },
   "outputs": [
    {
     "data": {
      "text/html": [
       "<div>\n",
       "<style scoped>\n",
       "    .dataframe tbody tr th:only-of-type {\n",
       "        vertical-align: middle;\n",
       "    }\n",
       "\n",
       "    .dataframe tbody tr th {\n",
       "        vertical-align: top;\n",
       "    }\n",
       "\n",
       "    .dataframe thead th {\n",
       "        text-align: right;\n",
       "    }\n",
       "</style>\n",
       "<table border=\"1\" class=\"dataframe\">\n",
       "  <thead>\n",
       "    <tr style=\"text-align: right;\">\n",
       "      <th></th>\n",
       "      <th>id</th>\n",
       "      <th>funded_amount</th>\n",
       "      <th>loan_amount</th>\n",
       "      <th>activity</th>\n",
       "      <th>sector</th>\n",
       "      <th>use</th>\n",
       "      <th>country_code</th>\n",
       "      <th>country</th>\n",
       "      <th>region</th>\n",
       "      <th>currency</th>\n",
       "      <th>partner_id</th>\n",
       "      <th>posted_time</th>\n",
       "      <th>disbursed_time</th>\n",
       "      <th>funded_time</th>\n",
       "      <th>term_in_months</th>\n",
       "      <th>lender_count</th>\n",
       "      <th>tags</th>\n",
       "      <th>borrower_genders</th>\n",
       "      <th>repayment_interval</th>\n",
       "      <th>date</th>\n",
       "    </tr>\n",
       "  </thead>\n",
       "  <tbody>\n",
       "    <tr>\n",
       "      <th>2221</th>\n",
       "      <td>1080194</td>\n",
       "      <td>30.0</td>\n",
       "      <td>4500.0</td>\n",
       "      <td>Clothing</td>\n",
       "      <td>Clothing</td>\n",
       "      <td>increase the inventory of my online clothing b...</td>\n",
       "      <td>US</td>\n",
       "      <td>United States</td>\n",
       "      <td>NaN</td>\n",
       "      <td>USD</td>\n",
       "      <td>NaN</td>\n",
       "      <td>2014-01-08 22:40:15+00:00</td>\n",
       "      <td>NaN</td>\n",
       "      <td>NaN</td>\n",
       "      <td>24.0</td>\n",
       "      <td>2</td>\n",
       "      <td>NaN</td>\n",
       "      <td>female</td>\n",
       "      <td>bullet</td>\n",
       "      <td>2014-01-08</td>\n",
       "    </tr>\n",
       "    <tr>\n",
       "      <th>2514</th>\n",
       "      <td>1080215</td>\n",
       "      <td>50.0</td>\n",
       "      <td>2500.0</td>\n",
       "      <td>Crafts</td>\n",
       "      <td>Arts</td>\n",
       "      <td>start a new photography business by providing ...</td>\n",
       "      <td>US</td>\n",
       "      <td>United States</td>\n",
       "      <td>NaN</td>\n",
       "      <td>USD</td>\n",
       "      <td>NaN</td>\n",
       "      <td>2014-01-09 23:55:12+00:00</td>\n",
       "      <td>NaN</td>\n",
       "      <td>NaN</td>\n",
       "      <td>13.0</td>\n",
       "      <td>2</td>\n",
       "      <td>NaN</td>\n",
       "      <td>male</td>\n",
       "      <td>bullet</td>\n",
       "      <td>2014-01-09</td>\n",
       "    </tr>\n",
       "    <tr>\n",
       "      <th>3065</th>\n",
       "      <td>1080225</td>\n",
       "      <td>10.0</td>\n",
       "      <td>5000.0</td>\n",
       "      <td>Services</td>\n",
       "      <td>Services</td>\n",
       "      <td>help my partner and I couch women in the fashi...</td>\n",
       "      <td>US</td>\n",
       "      <td>United States</td>\n",
       "      <td>NaN</td>\n",
       "      <td>USD</td>\n",
       "      <td>NaN</td>\n",
       "      <td>2014-01-10 17:22:31+00:00</td>\n",
       "      <td>NaN</td>\n",
       "      <td>NaN</td>\n",
       "      <td>30.0</td>\n",
       "      <td>1</td>\n",
       "      <td>NaN</td>\n",
       "      <td>female</td>\n",
       "      <td>bullet</td>\n",
       "      <td>2014-01-10</td>\n",
       "    </tr>\n",
       "    <tr>\n",
       "      <th>3072</th>\n",
       "      <td>1080216</td>\n",
       "      <td>755.0</td>\n",
       "      <td>10000.0</td>\n",
       "      <td>Services</td>\n",
       "      <td>Services</td>\n",
       "      <td>NaN</td>\n",
       "      <td>US</td>\n",
       "      <td>United States</td>\n",
       "      <td>NaN</td>\n",
       "      <td>USD</td>\n",
       "      <td>NaN</td>\n",
       "      <td>2014-01-10 00:18:32+00:00</td>\n",
       "      <td>NaN</td>\n",
       "      <td>NaN</td>\n",
       "      <td>24.0</td>\n",
       "      <td>55</td>\n",
       "      <td>NaN</td>\n",
       "      <td>NaN</td>\n",
       "      <td>bullet</td>\n",
       "      <td>2014-01-10</td>\n",
       "    </tr>\n",
       "    <tr>\n",
       "      <th>3847</th>\n",
       "      <td>1080244</td>\n",
       "      <td>125.0</td>\n",
       "      <td>125.0</td>\n",
       "      <td>Services</td>\n",
       "      <td>Services</td>\n",
       "      <td>NaN</td>\n",
       "      <td>KE</td>\n",
       "      <td>Kenya</td>\n",
       "      <td>NaN</td>\n",
       "      <td>KES</td>\n",
       "      <td>NaN</td>\n",
       "      <td>2014-01-14 08:13:48+00:00</td>\n",
       "      <td>NaN</td>\n",
       "      <td>2014-01-23 13:38:53+00:00</td>\n",
       "      <td>2.0</td>\n",
       "      <td>6</td>\n",
       "      <td>NaN</td>\n",
       "      <td>NaN</td>\n",
       "      <td>bullet</td>\n",
       "      <td>2014-01-14</td>\n",
       "    </tr>\n",
       "    <tr>\n",
       "      <th>...</th>\n",
       "      <td>...</td>\n",
       "      <td>...</td>\n",
       "      <td>...</td>\n",
       "      <td>...</td>\n",
       "      <td>...</td>\n",
       "      <td>...</td>\n",
       "      <td>...</td>\n",
       "      <td>...</td>\n",
       "      <td>...</td>\n",
       "      <td>...</td>\n",
       "      <td>...</td>\n",
       "      <td>...</td>\n",
       "      <td>...</td>\n",
       "      <td>...</td>\n",
       "      <td>...</td>\n",
       "      <td>...</td>\n",
       "      <td>...</td>\n",
       "      <td>...</td>\n",
       "      <td>...</td>\n",
       "      <td>...</td>\n",
       "    </tr>\n",
       "    <tr>\n",
       "      <th>670825</th>\n",
       "      <td>1337741</td>\n",
       "      <td>0.0</td>\n",
       "      <td>2000.0</td>\n",
       "      <td>Cleaning Services</td>\n",
       "      <td>Services</td>\n",
       "      <td>me purchase a new commercial vacuum cleaner an...</td>\n",
       "      <td>US</td>\n",
       "      <td>United States</td>\n",
       "      <td>NaN</td>\n",
       "      <td>USD</td>\n",
       "      <td>NaN</td>\n",
       "      <td>2017-07-11 00:00:00+00:00</td>\n",
       "      <td>NaN</td>\n",
       "      <td>NaN</td>\n",
       "      <td>18.0</td>\n",
       "      <td>0</td>\n",
       "      <td>NaN</td>\n",
       "      <td>female</td>\n",
       "      <td>bullet</td>\n",
       "      <td>2017-07-11</td>\n",
       "    </tr>\n",
       "    <tr>\n",
       "      <th>670833</th>\n",
       "      <td>1337927</td>\n",
       "      <td>500.0</td>\n",
       "      <td>10000.0</td>\n",
       "      <td>Retail</td>\n",
       "      <td>Retail</td>\n",
       "      <td>me remodel and expand my new storefront.</td>\n",
       "      <td>US</td>\n",
       "      <td>United States</td>\n",
       "      <td>NaN</td>\n",
       "      <td>USD</td>\n",
       "      <td>NaN</td>\n",
       "      <td>2017-07-11 00:00:00+00:00</td>\n",
       "      <td>NaN</td>\n",
       "      <td>NaN</td>\n",
       "      <td>36.0</td>\n",
       "      <td>9</td>\n",
       "      <td>NaN</td>\n",
       "      <td>female</td>\n",
       "      <td>bullet</td>\n",
       "      <td>2017-07-11</td>\n",
       "    </tr>\n",
       "    <tr>\n",
       "      <th>670883</th>\n",
       "      <td>1337787</td>\n",
       "      <td>1350.0</td>\n",
       "      <td>2000.0</td>\n",
       "      <td>Grocery Store</td>\n",
       "      <td>Food</td>\n",
       "      <td>me to to buy more fruit, prep materials and pu...</td>\n",
       "      <td>US</td>\n",
       "      <td>United States</td>\n",
       "      <td>NaN</td>\n",
       "      <td>USD</td>\n",
       "      <td>NaN</td>\n",
       "      <td>2017-07-11 00:00:00+00:00</td>\n",
       "      <td>NaN</td>\n",
       "      <td>NaN</td>\n",
       "      <td>18.0</td>\n",
       "      <td>21</td>\n",
       "      <td>user_favorite, user_favorite, user_favorite, #...</td>\n",
       "      <td>male</td>\n",
       "      <td>bullet</td>\n",
       "      <td>2017-07-11</td>\n",
       "    </tr>\n",
       "    <tr>\n",
       "      <th>670914</th>\n",
       "      <td>1337780</td>\n",
       "      <td>1000.0</td>\n",
       "      <td>7000.0</td>\n",
       "      <td>Arts</td>\n",
       "      <td>Arts</td>\n",
       "      <td>us get a U.S. patent, and update our website &amp;...</td>\n",
       "      <td>US</td>\n",
       "      <td>United States</td>\n",
       "      <td>NaN</td>\n",
       "      <td>USD</td>\n",
       "      <td>NaN</td>\n",
       "      <td>2017-07-11 00:00:00+00:00</td>\n",
       "      <td>NaN</td>\n",
       "      <td>NaN</td>\n",
       "      <td>36.0</td>\n",
       "      <td>7</td>\n",
       "      <td>NaN</td>\n",
       "      <td>female</td>\n",
       "      <td>bullet</td>\n",
       "      <td>2017-07-11</td>\n",
       "    </tr>\n",
       "    <tr>\n",
       "      <th>670915</th>\n",
       "      <td>1337785</td>\n",
       "      <td>500.0</td>\n",
       "      <td>2000.0</td>\n",
       "      <td>Restaurant</td>\n",
       "      <td>Food</td>\n",
       "      <td>me to build out my food truck!</td>\n",
       "      <td>US</td>\n",
       "      <td>United States</td>\n",
       "      <td>NaN</td>\n",
       "      <td>USD</td>\n",
       "      <td>NaN</td>\n",
       "      <td>2017-07-11 00:00:00+00:00</td>\n",
       "      <td>NaN</td>\n",
       "      <td>NaN</td>\n",
       "      <td>18.0</td>\n",
       "      <td>10</td>\n",
       "      <td>user_favorite, user_favorite, user_favorite, u...</td>\n",
       "      <td>female</td>\n",
       "      <td>bullet</td>\n",
       "      <td>2017-07-11</td>\n",
       "    </tr>\n",
       "  </tbody>\n",
       "</table>\n",
       "<p>2396 rows × 20 columns</p>\n",
       "</div>"
      ],
      "text/plain": [
       "             id  funded_amount  loan_amount           activity    sector  \\\n",
       "2221    1080194           30.0       4500.0           Clothing  Clothing   \n",
       "2514    1080215           50.0       2500.0             Crafts      Arts   \n",
       "3065    1080225           10.0       5000.0           Services  Services   \n",
       "3072    1080216          755.0      10000.0           Services  Services   \n",
       "3847    1080244          125.0        125.0           Services  Services   \n",
       "...         ...            ...          ...                ...       ...   \n",
       "670825  1337741            0.0       2000.0  Cleaning Services  Services   \n",
       "670833  1337927          500.0      10000.0             Retail    Retail   \n",
       "670883  1337787         1350.0       2000.0      Grocery Store      Food   \n",
       "670914  1337780         1000.0       7000.0               Arts      Arts   \n",
       "670915  1337785          500.0       2000.0         Restaurant      Food   \n",
       "\n",
       "                                                      use country_code  \\\n",
       "2221    increase the inventory of my online clothing b...           US   \n",
       "2514    start a new photography business by providing ...           US   \n",
       "3065    help my partner and I couch women in the fashi...           US   \n",
       "3072                                                  NaN           US   \n",
       "3847                                                  NaN           KE   \n",
       "...                                                   ...          ...   \n",
       "670825  me purchase a new commercial vacuum cleaner an...           US   \n",
       "670833          me remodel and expand my new storefront.            US   \n",
       "670883  me to to buy more fruit, prep materials and pu...           US   \n",
       "670914  us get a U.S. patent, and update our website &...           US   \n",
       "670915                     me to build out my food truck!           US   \n",
       "\n",
       "              country region currency  partner_id                posted_time  \\\n",
       "2221    United States    NaN      USD         NaN  2014-01-08 22:40:15+00:00   \n",
       "2514    United States    NaN      USD         NaN  2014-01-09 23:55:12+00:00   \n",
       "3065    United States    NaN      USD         NaN  2014-01-10 17:22:31+00:00   \n",
       "3072    United States    NaN      USD         NaN  2014-01-10 00:18:32+00:00   \n",
       "3847            Kenya    NaN      KES         NaN  2014-01-14 08:13:48+00:00   \n",
       "...               ...    ...      ...         ...                        ...   \n",
       "670825  United States    NaN      USD         NaN  2017-07-11 00:00:00+00:00   \n",
       "670833  United States    NaN      USD         NaN  2017-07-11 00:00:00+00:00   \n",
       "670883  United States    NaN      USD         NaN  2017-07-11 00:00:00+00:00   \n",
       "670914  United States    NaN      USD         NaN  2017-07-11 00:00:00+00:00   \n",
       "670915  United States    NaN      USD         NaN  2017-07-11 00:00:00+00:00   \n",
       "\n",
       "       disbursed_time                funded_time  term_in_months  \\\n",
       "2221              NaN                        NaN            24.0   \n",
       "2514              NaN                        NaN            13.0   \n",
       "3065              NaN                        NaN            30.0   \n",
       "3072              NaN                        NaN            24.0   \n",
       "3847              NaN  2014-01-23 13:38:53+00:00             2.0   \n",
       "...               ...                        ...             ...   \n",
       "670825            NaN                        NaN            18.0   \n",
       "670833            NaN                        NaN            36.0   \n",
       "670883            NaN                        NaN            18.0   \n",
       "670914            NaN                        NaN            36.0   \n",
       "670915            NaN                        NaN            18.0   \n",
       "\n",
       "        lender_count                                               tags  \\\n",
       "2221               2                                                NaN   \n",
       "2514               2                                                NaN   \n",
       "3065               1                                                NaN   \n",
       "3072              55                                                NaN   \n",
       "3847               6                                                NaN   \n",
       "...              ...                                                ...   \n",
       "670825             0                                                NaN   \n",
       "670833             9                                                NaN   \n",
       "670883            21  user_favorite, user_favorite, user_favorite, #...   \n",
       "670914             7                                                NaN   \n",
       "670915            10  user_favorite, user_favorite, user_favorite, u...   \n",
       "\n",
       "       borrower_genders repayment_interval        date  \n",
       "2221             female             bullet  2014-01-08  \n",
       "2514               male             bullet  2014-01-09  \n",
       "3065             female             bullet  2014-01-10  \n",
       "3072                NaN             bullet  2014-01-10  \n",
       "3847                NaN             bullet  2014-01-14  \n",
       "...                 ...                ...         ...  \n",
       "670825           female             bullet  2017-07-11  \n",
       "670833           female             bullet  2017-07-11  \n",
       "670883             male             bullet  2017-07-11  \n",
       "670914           female             bullet  2017-07-11  \n",
       "670915           female             bullet  2017-07-11  \n",
       "\n",
       "[2396 rows x 20 columns]"
      ]
     },
     "execution_count": 45,
     "metadata": {},
     "output_type": "execute_result"
    }
   ],
   "source": [
    "loans[times.disbursed_time.isnull()]"
   ]
  },
  {
   "cell_type": "code",
   "execution_count": 46,
   "metadata": {
    "ExecuteTime": {
     "end_time": "2021-02-22T08:54:50.389677Z",
     "start_time": "2021-02-22T08:54:50.218237Z"
    }
   },
   "outputs": [
    {
     "data": {
      "text/plain": [
       "US    1995\n",
       "KE     381\n",
       "PR      17\n",
       "VI       2\n",
       "GU       1\n",
       "Name: country_code, dtype: int64"
      ]
     },
     "execution_count": 46,
     "metadata": {},
     "output_type": "execute_result"
    }
   ],
   "source": [
    "loans[times.disbursed_time.isnull()].country_code.value_counts()"
   ]
  },
  {
   "cell_type": "code",
   "execution_count": 47,
   "metadata": {
    "ExecuteTime": {
     "end_time": "2021-02-22T08:54:50.552757Z",
     "start_time": "2021-02-22T08:54:50.400647Z"
    }
   },
   "outputs": [
    {
     "data": {
      "text/plain": [
       "6093"
      ]
     },
     "execution_count": 47,
     "metadata": {},
     "output_type": "execute_result"
    }
   ],
   "source": [
    "loans[loans.country_code == 'US'].country_code.count()"
   ]
  },
  {
   "cell_type": "code",
   "execution_count": 48,
   "metadata": {
    "ExecuteTime": {
     "end_time": "2021-02-22T08:54:50.597247Z",
     "start_time": "2021-02-22T08:54:50.573958Z"
    }
   },
   "outputs": [
    {
     "data": {
      "text/plain": [
       "0.327424913835549"
      ]
     },
     "execution_count": 48,
     "metadata": {},
     "output_type": "execute_result"
    }
   ],
   "source": [
    "1995 / 6093"
   ]
  },
  {
   "cell_type": "markdown",
   "metadata": {
    "ExecuteTime": {
     "end_time": "2021-02-21T23:17:46.905902Z",
     "start_time": "2021-02-21T23:17:46.900143Z"
    }
   },
   "source": [
    "About one-third of loans disbursed in the United States has no information of the disbursed time, which accounts for the majority of the all countries losing this info."
   ]
  },
  {
   "cell_type": "code",
   "execution_count": 49,
   "metadata": {
    "ExecuteTime": {
     "end_time": "2021-02-22T08:54:50.737641Z",
     "start_time": "2021-02-22T08:54:50.622335Z"
    }
   },
   "outputs": [],
   "source": [
    "posted_nan_disbursed = times[times.disbursed_time.isnull()].posted_time\n",
    "posted_nan_disbursed = posted_nan_disbursed.apply(lambda x: dt.strptime(x, '%Y-%m-%d'))"
   ]
  },
  {
   "cell_type": "code",
   "execution_count": 50,
   "metadata": {
    "ExecuteTime": {
     "end_time": "2021-02-22T08:54:51.423812Z",
     "start_time": "2021-02-22T08:54:50.756980Z"
    }
   },
   "outputs": [
    {
     "data": {
      "image/png": "[encoded data removed]",
      "text/plain": [
       "<Figure size 432x288 with 1 Axes>"
      ]
     },
     "metadata": {
      "needs_background": "light"
     },
     "output_type": "display_data"
    }
   ],
   "source": [
    "_ = posted_nan_disbursed.hist(bins=20)"
   ]
  },
  {
   "cell_type": "markdown",
   "metadata": {},
   "source": [
    "It seems that the loans which were posted around the middle of the year tend to lose disbursed time info"
   ]
  },
  {
   "cell_type": "code",
   "execution_count": 51,
   "metadata": {
    "ExecuteTime": {
     "end_time": "2021-02-22T08:54:51.563546Z",
     "start_time": "2021-02-22T08:54:51.437606Z"
    }
   },
   "outputs": [
    {
     "data": {
      "text/plain": [
       "48331"
      ]
     },
     "execution_count": 51,
     "metadata": {},
     "output_type": "execute_result"
    }
   ],
   "source": [
    "(times.funded_time.isnull()).sum()"
   ]
  },
  {
   "cell_type": "code",
   "execution_count": 52,
   "metadata": {
    "ExecuteTime": {
     "end_time": "2021-02-22T08:54:52.449619Z",
     "start_time": "2021-02-22T08:54:51.570656Z"
    }
   },
   "outputs": [],
   "source": [
    "posted_nan_funded = times[times.funded_time.isnull()].posted_time\n",
    "posted_nan_funded = posted_nan_funded.apply(lambda x: dt.strptime(x, '%Y-%m-%d'))"
   ]
  },
  {
   "cell_type": "code",
   "execution_count": 53,
   "metadata": {
    "ExecuteTime": {
     "end_time": "2021-02-22T08:54:52.942665Z",
     "start_time": "2021-02-22T08:54:52.452500Z"
    }
   },
   "outputs": [
    {
     "data": {
      "image/png": "[encoded data removed]",
      "text/plain": [
       "<Figure size 432x288 with 1 Axes>"
      ]
     },
     "metadata": {
      "needs_background": "light"
     },
     "output_type": "display_data"
    }
   ],
   "source": [
    "_ = posted_nan_funded.hist(bins=20)"
   ]
  },
  {
   "cell_type": "markdown",
   "metadata": {},
   "source": [
    "The loans posted in the last month of the dataset, 2017-7, tended to lost funded time info."
   ]
  },
  {
   "cell_type": "code",
   "execution_count": 54,
   "metadata": {
    "ExecuteTime": {
     "end_time": "2021-02-22T08:55:00.150412Z",
     "start_time": "2021-02-22T08:54:52.948427Z"
    }
   },
   "outputs": [
    {
     "data": {
      "image/png": "[encoded data removed]",
      "text/plain": [
       "<Figure size 432x288 with 1 Axes>"
      ]
     },
     "metadata": {
      "needs_background": "light"
     },
     "output_type": "display_data"
    }
   ],
   "source": [
    "posted = times.posted_time.apply(lambda x: dt.strptime(x, '%Y-%m-%d'))\n",
    "_ = posted.hist(bins=20, density=True)"
   ]
  },
  {
   "cell_type": "markdown",
   "metadata": {
    "ExecuteTime": {
     "end_time": "2021-02-22T01:31:26.663452Z",
     "start_time": "2021-02-22T01:31:26.654884Z"
    }
   },
   "source": [
    "During the time period of the dataset, the loans posted on the platform were distributed evenly."
   ]
  },
  {
   "cell_type": "markdown",
   "metadata": {},
   "source": [
    "<div class=\"burk\">\n",
    "Check more about the patterns of the null value of disbursed time and funded time</div><i class=\"fa fa-lightbulb-o \"></i>"
   ]
  },
  {
   "cell_type": "markdown",
   "metadata": {},
   "source": [
    "#### `term_in_months` ,  `lender_count` and `repayment_interval` : No missing values\n",
    "* `term_in_months`: The duration for which the loan was disbursed in months\n",
    "\n",
    "* `lender_count`: The total number of lenders that contributed to this loan\n",
    "\n",
    "* `repayment_interval`: No description"
   ]
  },
  {
   "cell_type": "code",
   "execution_count": 55,
   "metadata": {
    "ExecuteTime": {
     "end_time": "2021-02-22T08:55:00.184613Z",
     "start_time": "2021-02-22T08:55:00.153748Z"
    }
   },
   "outputs": [
    {
     "data": {
      "text/plain": [
       "count    671205.000000\n",
       "mean         13.739022\n",
       "std           8.598919\n",
       "min           1.000000\n",
       "25%           8.000000\n",
       "50%          13.000000\n",
       "75%          14.000000\n",
       "max         158.000000\n",
       "Name: term_in_months, dtype: float64"
      ]
     },
     "execution_count": 55,
     "metadata": {},
     "output_type": "execute_result"
    }
   ],
   "source": [
    "loans.term_in_months.describe()"
   ]
  },
  {
   "cell_type": "code",
   "execution_count": 56,
   "metadata": {
    "ExecuteTime": {
     "end_time": "2021-02-22T08:55:00.225251Z",
     "start_time": "2021-02-22T08:55:00.187294Z"
    }
   },
   "outputs": [
    {
     "data": {
      "text/plain": [
       "count    671205.000000\n",
       "mean         20.590922\n",
       "std          28.459551\n",
       "min           0.000000\n",
       "25%           7.000000\n",
       "50%          13.000000\n",
       "75%          24.000000\n",
       "max        2986.000000\n",
       "Name: lender_count, dtype: float64"
      ]
     },
     "execution_count": 56,
     "metadata": {},
     "output_type": "execute_result"
    }
   ],
   "source": [
    "loans.lender_count.describe()"
   ]
  },
  {
   "cell_type": "code",
   "execution_count": 57,
   "metadata": {
    "ExecuteTime": {
     "end_time": "2021-02-22T08:55:00.372429Z",
     "start_time": "2021-02-22T08:55:00.233270Z"
    }
   },
   "outputs": [
    {
     "data": {
      "text/plain": [
       "monthly      342717\n",
       "irregular    257158\n",
       "bullet        70728\n",
       "weekly          602\n",
       "Name: repayment_interval, dtype: int64"
      ]
     },
     "execution_count": 57,
     "metadata": {},
     "output_type": "execute_result"
    }
   ],
   "source": [
    "loans.repayment_interval.value_counts()"
   ]
  },
  {
   "cell_type": "markdown",
   "metadata": {},
   "source": [
    "#### `borrower_genders`\n",
    "* `borrower_genders`: Comma separated M,F letters, where each instance represents a single male/female in the group"
   ]
  },
  {
   "cell_type": "code",
   "execution_count": 58,
   "metadata": {
    "ExecuteTime": {
     "end_time": "2021-02-22T08:55:00.422895Z",
     "start_time": "2021-02-22T08:55:00.382031Z"
    }
   },
   "outputs": [
    {
     "data": {
      "text/plain": [
       "4221"
      ]
     },
     "execution_count": 58,
     "metadata": {},
     "output_type": "execute_result"
    }
   ],
   "source": [
    "loans.borrower_genders.isna().sum()"
   ]
  },
  {
   "cell_type": "code",
   "execution_count": 59,
   "metadata": {
    "ExecuteTime": {
     "end_time": "2021-02-22T08:55:00.529943Z",
     "start_time": "2021-02-22T08:55:00.428309Z"
    }
   },
   "outputs": [
    {
     "data": {
      "text/html": [
       "<div>\n",
       "<style scoped>\n",
       "    .dataframe tbody tr th:only-of-type {\n",
       "        vertical-align: middle;\n",
       "    }\n",
       "\n",
       "    .dataframe tbody tr th {\n",
       "        vertical-align: top;\n",
       "    }\n",
       "\n",
       "    .dataframe thead th {\n",
       "        text-align: right;\n",
       "    }\n",
       "</style>\n",
       "<table border=\"1\" class=\"dataframe\">\n",
       "  <thead>\n",
       "    <tr style=\"text-align: right;\">\n",
       "      <th></th>\n",
       "      <th>id</th>\n",
       "      <th>funded_amount</th>\n",
       "      <th>loan_amount</th>\n",
       "      <th>activity</th>\n",
       "      <th>sector</th>\n",
       "      <th>use</th>\n",
       "      <th>country_code</th>\n",
       "      <th>country</th>\n",
       "      <th>region</th>\n",
       "      <th>currency</th>\n",
       "      <th>partner_id</th>\n",
       "      <th>posted_time</th>\n",
       "      <th>disbursed_time</th>\n",
       "      <th>funded_time</th>\n",
       "      <th>term_in_months</th>\n",
       "      <th>lender_count</th>\n",
       "      <th>tags</th>\n",
       "      <th>borrower_genders</th>\n",
       "      <th>repayment_interval</th>\n",
       "      <th>date</th>\n",
       "    </tr>\n",
       "  </thead>\n",
       "  <tbody>\n",
       "    <tr>\n",
       "      <th>140</th>\n",
       "      <td>653375</td>\n",
       "      <td>2975.0</td>\n",
       "      <td>2975.0</td>\n",
       "      <td>Food Production/Sales</td>\n",
       "      <td>Food</td>\n",
       "      <td>NaN</td>\n",
       "      <td>TZ</td>\n",
       "      <td>Tanzania</td>\n",
       "      <td>NaN</td>\n",
       "      <td>TZS</td>\n",
       "      <td>87.0</td>\n",
       "      <td>2014-01-02 15:31:52+00:00</td>\n",
       "      <td>2013-12-24 08:00:00+00:00</td>\n",
       "      <td>2014-01-22 13:42:40+00:00</td>\n",
       "      <td>10.0</td>\n",
       "      <td>110</td>\n",
       "      <td>user_favorite</td>\n",
       "      <td>NaN</td>\n",
       "      <td>monthly</td>\n",
       "      <td>2014-01-02</td>\n",
       "    </tr>\n",
       "    <tr>\n",
       "      <th>145</th>\n",
       "      <td>653427</td>\n",
       "      <td>1200.0</td>\n",
       "      <td>1200.0</td>\n",
       "      <td>Personal Expenses</td>\n",
       "      <td>Personal Use</td>\n",
       "      <td>NaN</td>\n",
       "      <td>PE</td>\n",
       "      <td>Peru</td>\n",
       "      <td>NaN</td>\n",
       "      <td>PEN</td>\n",
       "      <td>139.0</td>\n",
       "      <td>2014-01-02 22:43:24+00:00</td>\n",
       "      <td>2013-12-17 08:00:00+00:00</td>\n",
       "      <td>2014-02-01 23:49:27+00:00</td>\n",
       "      <td>20.0</td>\n",
       "      <td>44</td>\n",
       "      <td>#Single, user_favorite, user_favorite</td>\n",
       "      <td>NaN</td>\n",
       "      <td>monthly</td>\n",
       "      <td>2014-01-02</td>\n",
       "    </tr>\n",
       "    <tr>\n",
       "      <th>170</th>\n",
       "      <td>653177</td>\n",
       "      <td>4250.0</td>\n",
       "      <td>4250.0</td>\n",
       "      <td>Catering</td>\n",
       "      <td>Food</td>\n",
       "      <td>NaN</td>\n",
       "      <td>TZ</td>\n",
       "      <td>Tanzania</td>\n",
       "      <td>NaN</td>\n",
       "      <td>TZS</td>\n",
       "      <td>87.0</td>\n",
       "      <td>2014-01-02 06:46:10+00:00</td>\n",
       "      <td>2013-12-26 08:00:00+00:00</td>\n",
       "      <td>2014-01-23 16:52:15+00:00</td>\n",
       "      <td>10.0</td>\n",
       "      <td>116</td>\n",
       "      <td>#Schooling, #Repeat Borrower, #Woman Owned Biz...</td>\n",
       "      <td>NaN</td>\n",
       "      <td>monthly</td>\n",
       "      <td>2014-01-02</td>\n",
       "    </tr>\n",
       "    <tr>\n",
       "      <th>412</th>\n",
       "      <td>653513</td>\n",
       "      <td>2350.0</td>\n",
       "      <td>2350.0</td>\n",
       "      <td>Beauty Salon</td>\n",
       "      <td>Services</td>\n",
       "      <td>NaN</td>\n",
       "      <td>TZ</td>\n",
       "      <td>Tanzania</td>\n",
       "      <td>NaN</td>\n",
       "      <td>TZS</td>\n",
       "      <td>87.0</td>\n",
       "      <td>2014-01-03 05:08:11+00:00</td>\n",
       "      <td>2013-12-31 08:00:00+00:00</td>\n",
       "      <td>2014-01-21 15:33:01+00:00</td>\n",
       "      <td>10.0</td>\n",
       "      <td>75</td>\n",
       "      <td>user_favorite, #Parent, #Woman Owned Biz, user...</td>\n",
       "      <td>NaN</td>\n",
       "      <td>monthly</td>\n",
       "      <td>2014-01-03</td>\n",
       "    </tr>\n",
       "    <tr>\n",
       "      <th>414</th>\n",
       "      <td>653775</td>\n",
       "      <td>725.0</td>\n",
       "      <td>725.0</td>\n",
       "      <td>Agriculture</td>\n",
       "      <td>Agriculture</td>\n",
       "      <td>NaN</td>\n",
       "      <td>SV</td>\n",
       "      <td>El Salvador</td>\n",
       "      <td>NaN</td>\n",
       "      <td>USD</td>\n",
       "      <td>199.0</td>\n",
       "      <td>2014-01-03 21:41:23+00:00</td>\n",
       "      <td>2013-12-16 08:00:00+00:00</td>\n",
       "      <td>2014-01-28 17:28:43+00:00</td>\n",
       "      <td>20.0</td>\n",
       "      <td>19</td>\n",
       "      <td>#Animals, #Repeat Borrower, #Schooling, user_f...</td>\n",
       "      <td>NaN</td>\n",
       "      <td>monthly</td>\n",
       "      <td>2014-01-03</td>\n",
       "    </tr>\n",
       "    <tr>\n",
       "      <th>...</th>\n",
       "      <td>...</td>\n",
       "      <td>...</td>\n",
       "      <td>...</td>\n",
       "      <td>...</td>\n",
       "      <td>...</td>\n",
       "      <td>...</td>\n",
       "      <td>...</td>\n",
       "      <td>...</td>\n",
       "      <td>...</td>\n",
       "      <td>...</td>\n",
       "      <td>...</td>\n",
       "      <td>...</td>\n",
       "      <td>...</td>\n",
       "      <td>...</td>\n",
       "      <td>...</td>\n",
       "      <td>...</td>\n",
       "      <td>...</td>\n",
       "      <td>...</td>\n",
       "      <td>...</td>\n",
       "      <td>...</td>\n",
       "    </tr>\n",
       "    <tr>\n",
       "      <th>671151</th>\n",
       "      <td>1340245</td>\n",
       "      <td>0.0</td>\n",
       "      <td>25.0</td>\n",
       "      <td>Livestock</td>\n",
       "      <td>Agriculture</td>\n",
       "      <td>NaN</td>\n",
       "      <td>KE</td>\n",
       "      <td>Kenya</td>\n",
       "      <td>NaN</td>\n",
       "      <td>KES</td>\n",
       "      <td>138.0</td>\n",
       "      <td>2017-07-20 23:13:01+00:00</td>\n",
       "      <td>2017-07-20 07:00:00+00:00</td>\n",
       "      <td>NaN</td>\n",
       "      <td>13.0</td>\n",
       "      <td>0</td>\n",
       "      <td>NaN</td>\n",
       "      <td>NaN</td>\n",
       "      <td>monthly</td>\n",
       "      <td>2017-07-20</td>\n",
       "    </tr>\n",
       "    <tr>\n",
       "      <th>671174</th>\n",
       "      <td>1340275</td>\n",
       "      <td>0.0</td>\n",
       "      <td>25.0</td>\n",
       "      <td>Games</td>\n",
       "      <td>Entertainment</td>\n",
       "      <td>NaN</td>\n",
       "      <td>KE</td>\n",
       "      <td>Kenya</td>\n",
       "      <td>NaN</td>\n",
       "      <td>KES</td>\n",
       "      <td>138.0</td>\n",
       "      <td>2017-07-21 23:51:18+00:00</td>\n",
       "      <td>2017-07-21 07:00:00+00:00</td>\n",
       "      <td>NaN</td>\n",
       "      <td>13.0</td>\n",
       "      <td>0</td>\n",
       "      <td>NaN</td>\n",
       "      <td>NaN</td>\n",
       "      <td>monthly</td>\n",
       "      <td>2017-07-21</td>\n",
       "    </tr>\n",
       "    <tr>\n",
       "      <th>671178</th>\n",
       "      <td>1340280</td>\n",
       "      <td>0.0</td>\n",
       "      <td>25.0</td>\n",
       "      <td>Livestock</td>\n",
       "      <td>Agriculture</td>\n",
       "      <td>NaN</td>\n",
       "      <td>KE</td>\n",
       "      <td>Kenya</td>\n",
       "      <td>NaN</td>\n",
       "      <td>KES</td>\n",
       "      <td>138.0</td>\n",
       "      <td>2017-07-22 06:16:55+00:00</td>\n",
       "      <td>2017-07-21 07:00:00+00:00</td>\n",
       "      <td>NaN</td>\n",
       "      <td>13.0</td>\n",
       "      <td>0</td>\n",
       "      <td>NaN</td>\n",
       "      <td>NaN</td>\n",
       "      <td>monthly</td>\n",
       "      <td>2017-07-22</td>\n",
       "    </tr>\n",
       "    <tr>\n",
       "      <th>671185</th>\n",
       "      <td>1340298</td>\n",
       "      <td>0.0</td>\n",
       "      <td>25.0</td>\n",
       "      <td>Livestock</td>\n",
       "      <td>Agriculture</td>\n",
       "      <td>NaN</td>\n",
       "      <td>KE</td>\n",
       "      <td>Kenya</td>\n",
       "      <td>NaN</td>\n",
       "      <td>KES</td>\n",
       "      <td>138.0</td>\n",
       "      <td>2017-07-24 07:34:50+00:00</td>\n",
       "      <td>2017-07-17 07:00:00+00:00</td>\n",
       "      <td>NaN</td>\n",
       "      <td>13.0</td>\n",
       "      <td>0</td>\n",
       "      <td>NaN</td>\n",
       "      <td>NaN</td>\n",
       "      <td>monthly</td>\n",
       "      <td>2017-07-24</td>\n",
       "    </tr>\n",
       "    <tr>\n",
       "      <th>671202</th>\n",
       "      <td>1340334</td>\n",
       "      <td>0.0</td>\n",
       "      <td>25.0</td>\n",
       "      <td>Games</td>\n",
       "      <td>Entertainment</td>\n",
       "      <td>NaN</td>\n",
       "      <td>KE</td>\n",
       "      <td>Kenya</td>\n",
       "      <td>NaN</td>\n",
       "      <td>KES</td>\n",
       "      <td>138.0</td>\n",
       "      <td>2017-07-26 00:02:07+00:00</td>\n",
       "      <td>2017-07-25 07:00:00+00:00</td>\n",
       "      <td>NaN</td>\n",
       "      <td>13.0</td>\n",
       "      <td>0</td>\n",
       "      <td>NaN</td>\n",
       "      <td>NaN</td>\n",
       "      <td>monthly</td>\n",
       "      <td>2017-07-26</td>\n",
       "    </tr>\n",
       "  </tbody>\n",
       "</table>\n",
       "<p>4221 rows × 20 columns</p>\n",
       "</div>"
      ],
      "text/plain": [
       "             id  funded_amount  loan_amount               activity  \\\n",
       "140      653375         2975.0       2975.0  Food Production/Sales   \n",
       "145      653427         1200.0       1200.0      Personal Expenses   \n",
       "170      653177         4250.0       4250.0               Catering   \n",
       "412      653513         2350.0       2350.0           Beauty Salon   \n",
       "414      653775          725.0        725.0            Agriculture   \n",
       "...         ...            ...          ...                    ...   \n",
       "671151  1340245            0.0         25.0              Livestock   \n",
       "671174  1340275            0.0         25.0                  Games   \n",
       "671178  1340280            0.0         25.0              Livestock   \n",
       "671185  1340298            0.0         25.0              Livestock   \n",
       "671202  1340334            0.0         25.0                  Games   \n",
       "\n",
       "               sector  use country_code      country region currency  \\\n",
       "140              Food  NaN           TZ     Tanzania    NaN      TZS   \n",
       "145      Personal Use  NaN           PE         Peru    NaN      PEN   \n",
       "170              Food  NaN           TZ     Tanzania    NaN      TZS   \n",
       "412          Services  NaN           TZ     Tanzania    NaN      TZS   \n",
       "414       Agriculture  NaN           SV  El Salvador    NaN      USD   \n",
       "...               ...  ...          ...          ...    ...      ...   \n",
       "671151    Agriculture  NaN           KE        Kenya    NaN      KES   \n",
       "671174  Entertainment  NaN           KE        Kenya    NaN      KES   \n",
       "671178    Agriculture  NaN           KE        Kenya    NaN      KES   \n",
       "671185    Agriculture  NaN           KE        Kenya    NaN      KES   \n",
       "671202  Entertainment  NaN           KE        Kenya    NaN      KES   \n",
       "\n",
       "        partner_id                posted_time             disbursed_time  \\\n",
       "140           87.0  2014-01-02 15:31:52+00:00  2013-12-24 08:00:00+00:00   \n",
       "145          139.0  2014-01-02 22:43:24+00:00  2013-12-17 08:00:00+00:00   \n",
       "170           87.0  2014-01-02 06:46:10+00:00  2013-12-26 08:00:00+00:00   \n",
       "412           87.0  2014-01-03 05:08:11+00:00  2013-12-31 08:00:00+00:00   \n",
       "414          199.0  2014-01-03 21:41:23+00:00  2013-12-16 08:00:00+00:00   \n",
       "...            ...                        ...                        ...   \n",
       "671151       138.0  2017-07-20 23:13:01+00:00  2017-07-20 07:00:00+00:00   \n",
       "671174       138.0  2017-07-21 23:51:18+00:00  2017-07-21 07:00:00+00:00   \n",
       "671178       138.0  2017-07-22 06:16:55+00:00  2017-07-21 07:00:00+00:00   \n",
       "671185       138.0  2017-07-24 07:34:50+00:00  2017-07-17 07:00:00+00:00   \n",
       "671202       138.0  2017-07-26 00:02:07+00:00  2017-07-25 07:00:00+00:00   \n",
       "\n",
       "                      funded_time  term_in_months  lender_count  \\\n",
       "140     2014-01-22 13:42:40+00:00            10.0           110   \n",
       "145     2014-02-01 23:49:27+00:00            20.0            44   \n",
       "170     2014-01-23 16:52:15+00:00            10.0           116   \n",
       "412     2014-01-21 15:33:01+00:00            10.0            75   \n",
       "414     2014-01-28 17:28:43+00:00            20.0            19   \n",
       "...                           ...             ...           ...   \n",
       "671151                        NaN            13.0             0   \n",
       "671174                        NaN            13.0             0   \n",
       "671178                        NaN            13.0             0   \n",
       "671185                        NaN            13.0             0   \n",
       "671202                        NaN            13.0             0   \n",
       "\n",
       "                                                     tags borrower_genders  \\\n",
       "140                                         user_favorite              NaN   \n",
       "145                 #Single, user_favorite, user_favorite              NaN   \n",
       "170     #Schooling, #Repeat Borrower, #Woman Owned Biz...              NaN   \n",
       "412     user_favorite, #Parent, #Woman Owned Biz, user...              NaN   \n",
       "414     #Animals, #Repeat Borrower, #Schooling, user_f...              NaN   \n",
       "...                                                   ...              ...   \n",
       "671151                                                NaN              NaN   \n",
       "671174                                                NaN              NaN   \n",
       "671178                                                NaN              NaN   \n",
       "671185                                                NaN              NaN   \n",
       "671202                                                NaN              NaN   \n",
       "\n",
       "       repayment_interval        date  \n",
       "140               monthly  2014-01-02  \n",
       "145               monthly  2014-01-02  \n",
       "170               monthly  2014-01-02  \n",
       "412               monthly  2014-01-03  \n",
       "414               monthly  2014-01-03  \n",
       "...                   ...         ...  \n",
       "671151            monthly  2017-07-20  \n",
       "671174            monthly  2017-07-21  \n",
       "671178            monthly  2017-07-22  \n",
       "671185            monthly  2017-07-24  \n",
       "671202            monthly  2017-07-26  \n",
       "\n",
       "[4221 rows x 20 columns]"
      ]
     },
     "execution_count": 59,
     "metadata": {},
     "output_type": "execute_result"
    }
   ],
   "source": [
    "loans[loans.borrower_genders.isna()]"
   ]
  },
  {
   "cell_type": "markdown",
   "metadata": {},
   "source": [
    "<div class=\"burk\">\n",
    "Check more about the patterns of the null value of the borrowers' gender</div><i class=\"fa fa-lightbulb-o \"></i>"
   ]
  },
  {
   "cell_type": "code",
   "execution_count": 60,
   "metadata": {
    "ExecuteTime": {
     "end_time": "2021-02-22T08:55:00.656981Z",
     "start_time": "2021-02-22T08:55:00.533769Z"
    }
   },
   "outputs": [
    {
     "data": {
      "text/plain": [
       "female                                                                                                                                                                                                                                                          426502\n",
       "male                                                                                                                                                                                                                                                            134710\n",
       "female, female                                                                                                                                                                                                                                                   12164\n",
       "female, female, female                                                                                                                                                                                                                                           11676\n",
       "female, female, female, female                                                                                                                                                                                                                                    9052\n",
       "                                                                                                                                                                                                                                                                 ...  \n",
       "female, female, female, female, male, female, male, female, female, female, female, female, female, female, female, male, female, female, female, female, female, male, female, female, female, female, female, male, female, female, female, female, female         1\n",
       "female, male, male, female, female, female, female, female, male, male, female, female, male, female                                                                                                                                                                 1\n",
       "female, female, female, male, female, male, female, male, male, female, female, female, female, female, male, male, female, female, female, female, female, male, male, female                                                                                       1\n",
       "male, male, female, male, female, male, male, male, male, male, male, male, female, male, male                                                                                                                                                                       1\n",
       "male, female, male, female, female, female, female, male, male, female, male, male                                                                                                                                                                                   1\n",
       "Name: borrower_genders, Length: 11298, dtype: int64"
      ]
     },
     "execution_count": 60,
     "metadata": {},
     "output_type": "execute_result"
    }
   ],
   "source": [
    "loans.borrower_genders.value_counts()"
   ]
  },
  {
   "cell_type": "code",
   "execution_count": 61,
   "metadata": {
    "ExecuteTime": {
     "end_time": "2021-02-22T08:55:00.787606Z",
     "start_time": "2021-02-22T08:55:00.665693Z"
    }
   },
   "outputs": [
    {
     "data": {
      "text/plain": [
       "female                                                                            426502\n",
       "male                                                                              134710\n",
       "female, female                                                                     12164\n",
       "female, female, female                                                             11676\n",
       "female, female, female, female                                                      9052\n",
       "female, female, female, female, female                                              7568\n",
       "female, female, female, female, female, female                                      2674\n",
       "female, female, female, female, female, female, female, female, female, female      2185\n",
       "female, female, female, female, female, female, female                              2127\n",
       "female, female, female, female, female, female, female, female                      1936\n",
       "Name: borrower_genders, dtype: int64"
      ]
     },
     "execution_count": 61,
     "metadata": {},
     "output_type": "execute_result"
    }
   ],
   "source": [
    "loans.borrower_genders.value_counts().head(10)"
   ]
  },
  {
   "cell_type": "markdown",
   "metadata": {},
   "source": [
    "Female borrowers make up the majority"
   ]
  },
  {
   "cell_type": "markdown",
   "metadata": {},
   "source": [
    "#### `tags`"
   ]
  },
  {
   "cell_type": "code",
   "execution_count": 62,
   "metadata": {
    "ExecuteTime": {
     "end_time": "2021-02-22T08:55:00.835028Z",
     "start_time": "2021-02-22T08:55:00.790440Z"
    }
   },
   "outputs": [
    {
     "data": {
      "text/plain": [
       "171416"
      ]
     },
     "execution_count": 62,
     "metadata": {},
     "output_type": "execute_result"
    }
   ],
   "source": [
    "loans.tags.isna().sum()"
   ]
  },
  {
   "cell_type": "code",
   "execution_count": 63,
   "metadata": {
    "ExecuteTime": {
     "end_time": "2021-02-22T08:55:01.109736Z",
     "start_time": "2021-02-22T08:55:00.843049Z"
    }
   },
   "outputs": [
    {
     "data": {
      "text/plain": [
       "user_favorite                                                                                                                           27088\n",
       "#Parent, #Woman Owned Biz                                                                                                               16597\n",
       "#Woman Owned Biz                                                                                                                        12557\n",
       "#Parent                                                                                                                                 11671\n",
       "#Elderly                                                                                                                                 6482\n",
       "                                                                                                                                        ...  \n",
       "user_favorite, user_favorite, #Animals, #Biz Durable Asset, #Parent, #Sustainable Ag, #Woman Owned Biz, user_favorite, user_favorite        1\n",
       "#Repeat Borrower, #Biz Durable Asset, #Woman Owned Biz, #Parent, user_favorite, #Single Parent, user_favorite                               1\n",
       "#Fabrics, #Single, #Woman Owned Biz, user_favorite, #Interesting Photo, #Supporting Family                                                  1\n",
       "#Repair Renew Replace, #Parent, #Repair Renew Replace, #Eco-friendly, #Elderly, #Job Creator, #Parent                                       1\n",
       "user_favorite, #Trees, #Elderly, #Sustainable Ag, #Vegan, #Unique, #Parent, user_favorite                                                   1\n",
       "Name: tags, Length: 86719, dtype: int64"
      ]
     },
     "execution_count": 63,
     "metadata": {},
     "output_type": "execute_result"
    }
   ],
   "source": [
    "loans.tags.value_counts()"
   ]
  },
  {
   "cell_type": "code",
   "execution_count": 64,
   "metadata": {
    "ExecuteTime": {
     "end_time": "2021-02-22T08:55:01.337373Z",
     "start_time": "2021-02-22T08:55:01.114170Z"
    }
   },
   "outputs": [
    {
     "data": {
      "text/plain": [
       "user_favorite                                         27088\n",
       "#Parent, #Woman Owned Biz                             16597\n",
       "#Woman Owned Biz                                      12557\n",
       "#Parent                                               11671\n",
       "#Elderly                                               6482\n",
       "#Eco-friendly, #Health and Sanitation, #Technology     5887\n",
       "#Animals                                               5610\n",
       "user_favorite, user_favorite                           5594\n",
       "#Repeat Borrower                                       4627\n",
       "#Woman Owned Biz, #Parent                              4305\n",
       "Name: tags, dtype: int64"
      ]
     },
     "execution_count": 64,
     "metadata": {},
     "output_type": "execute_result"
    }
   ],
   "source": [
    "loans.tags.value_counts().head(10)"
   ]
  },
  {
   "cell_type": "markdown",
   "metadata": {},
   "source": [
    "There are some duplicate tags such as `user_favorite` and `user_favorite, user_favorite`, `#Parent, #Woman Owned Biz` and `#Woman Owned Biz, #Parent`"
   ]
  },
  {
   "cell_type": "markdown",
   "metadata": {},
   "source": [
    "### MPI by the location of region"
   ]
  },
  {
   "cell_type": "code",
   "execution_count": 65,
   "metadata": {
    "ExecuteTime": {
     "end_time": "2021-02-22T08:55:01.380483Z",
     "start_time": "2021-02-22T08:55:01.341719Z"
    }
   },
   "outputs": [],
   "source": [
    "mpi_region_locations = pd.read_csv('/Users/lasayin/Desktop/Springboard/GitHub/Springboard_DS_Capstone2/RawData/KivaData/kiva_mpi_region_locations.csv')"
   ]
  },
  {
   "cell_type": "code",
   "execution_count": 66,
   "metadata": {
    "ExecuteTime": {
     "end_time": "2021-02-22T08:55:01.395362Z",
     "start_time": "2021-02-22T08:55:01.382921Z"
    }
   },
   "outputs": [
    {
     "name": "stdout",
     "output_type": "stream",
     "text": [
      "<class 'pandas.core.frame.DataFrame'>\n",
      "RangeIndex: 2772 entries, 0 to 2771\n",
      "Data columns (total 9 columns):\n",
      " #   Column        Non-Null Count  Dtype  \n",
      "---  ------        --------------  -----  \n",
      " 0   LocationName  984 non-null    object \n",
      " 1   ISO           1008 non-null   object \n",
      " 2   country       1008 non-null   object \n",
      " 3   region        984 non-null    object \n",
      " 4   world_region  1008 non-null   object \n",
      " 5   MPI           984 non-null    float64\n",
      " 6   geo           2772 non-null   object \n",
      " 7   lat           892 non-null    float64\n",
      " 8   lon           892 non-null    float64\n",
      "dtypes: float64(3), object(6)\n",
      "memory usage: 195.0+ KB\n"
     ]
    }
   ],
   "source": [
    "mpi_region_locations.info()"
   ]
  },
  {
   "cell_type": "markdown",
   "metadata": {},
   "source": [
    "Column descriptions:\n",
    "\n",
    "0. LocationName: region, country\n",
    "\n",
    "1. ISO: some sort of unique abbreviation for country\n",
    "2. country\n",
    "\n",
    "3. region\n",
    "4. world_region: parts of the world\n",
    "5. MPI: multidimensional poverty index\n",
    "6. geo: (latitude, longitude)\n",
    "7. lat\n",
    "8. lon"
   ]
  },
  {
   "cell_type": "code",
   "execution_count": 67,
   "metadata": {
    "ExecuteTime": {
     "end_time": "2021-02-22T08:55:01.474600Z",
     "start_time": "2021-02-22T08:55:01.446546Z"
    },
    "scrolled": true
   },
   "outputs": [
    {
     "data": {
      "text/html": [
       "<div>\n",
       "<style scoped>\n",
       "    .dataframe tbody tr th:only-of-type {\n",
       "        vertical-align: middle;\n",
       "    }\n",
       "\n",
       "    .dataframe tbody tr th {\n",
       "        vertical-align: top;\n",
       "    }\n",
       "\n",
       "    .dataframe thead th {\n",
       "        text-align: right;\n",
       "    }\n",
       "</style>\n",
       "<table border=\"1\" class=\"dataframe\">\n",
       "  <thead>\n",
       "    <tr style=\"text-align: right;\">\n",
       "      <th></th>\n",
       "      <th>LocationName</th>\n",
       "      <th>ISO</th>\n",
       "      <th>country</th>\n",
       "      <th>region</th>\n",
       "      <th>world_region</th>\n",
       "      <th>MPI</th>\n",
       "      <th>geo</th>\n",
       "      <th>lat</th>\n",
       "      <th>lon</th>\n",
       "    </tr>\n",
       "  </thead>\n",
       "  <tbody>\n",
       "    <tr>\n",
       "      <th>0</th>\n",
       "      <td>Badakhshan, Afghanistan</td>\n",
       "      <td>AFG</td>\n",
       "      <td>Afghanistan</td>\n",
       "      <td>Badakhshan</td>\n",
       "      <td>South Asia</td>\n",
       "      <td>0.387</td>\n",
       "      <td>(36.7347725, 70.81199529999999)</td>\n",
       "      <td>36.734772</td>\n",
       "      <td>70.811995</td>\n",
       "    </tr>\n",
       "    <tr>\n",
       "      <th>1</th>\n",
       "      <td>Badghis, Afghanistan</td>\n",
       "      <td>AFG</td>\n",
       "      <td>Afghanistan</td>\n",
       "      <td>Badghis</td>\n",
       "      <td>South Asia</td>\n",
       "      <td>0.466</td>\n",
       "      <td>(35.1671339, 63.7695384)</td>\n",
       "      <td>35.167134</td>\n",
       "      <td>63.769538</td>\n",
       "    </tr>\n",
       "    <tr>\n",
       "      <th>2</th>\n",
       "      <td>Baghlan, Afghanistan</td>\n",
       "      <td>AFG</td>\n",
       "      <td>Afghanistan</td>\n",
       "      <td>Baghlan</td>\n",
       "      <td>South Asia</td>\n",
       "      <td>0.300</td>\n",
       "      <td>(35.8042947, 69.2877535)</td>\n",
       "      <td>35.804295</td>\n",
       "      <td>69.287754</td>\n",
       "    </tr>\n",
       "    <tr>\n",
       "      <th>3</th>\n",
       "      <td>Balkh, Afghanistan</td>\n",
       "      <td>AFG</td>\n",
       "      <td>Afghanistan</td>\n",
       "      <td>Balkh</td>\n",
       "      <td>South Asia</td>\n",
       "      <td>0.301</td>\n",
       "      <td>(36.7550603, 66.8975372)</td>\n",
       "      <td>36.755060</td>\n",
       "      <td>66.897537</td>\n",
       "    </tr>\n",
       "    <tr>\n",
       "      <th>4</th>\n",
       "      <td>Bamyan, Afghanistan</td>\n",
       "      <td>AFG</td>\n",
       "      <td>Afghanistan</td>\n",
       "      <td>Bamyan</td>\n",
       "      <td>South Asia</td>\n",
       "      <td>0.325</td>\n",
       "      <td>(34.8100067, 67.8212104)</td>\n",
       "      <td>34.810007</td>\n",
       "      <td>67.821210</td>\n",
       "    </tr>\n",
       "  </tbody>\n",
       "</table>\n",
       "</div>"
      ],
      "text/plain": [
       "              LocationName  ISO      country      region world_region    MPI  \\\n",
       "0  Badakhshan, Afghanistan  AFG  Afghanistan  Badakhshan   South Asia  0.387   \n",
       "1     Badghis, Afghanistan  AFG  Afghanistan     Badghis   South Asia  0.466   \n",
       "2     Baghlan, Afghanistan  AFG  Afghanistan     Baghlan   South Asia  0.300   \n",
       "3       Balkh, Afghanistan  AFG  Afghanistan       Balkh   South Asia  0.301   \n",
       "4      Bamyan, Afghanistan  AFG  Afghanistan      Bamyan   South Asia  0.325   \n",
       "\n",
       "                               geo        lat        lon  \n",
       "0  (36.7347725, 70.81199529999999)  36.734772  70.811995  \n",
       "1         (35.1671339, 63.7695384)  35.167134  63.769538  \n",
       "2         (35.8042947, 69.2877535)  35.804295  69.287754  \n",
       "3         (36.7550603, 66.8975372)  36.755060  66.897537  \n",
       "4         (34.8100067, 67.8212104)  34.810007  67.821210  "
      ]
     },
     "execution_count": 67,
     "metadata": {},
     "output_type": "execute_result"
    }
   ],
   "source": [
    "mpi_region_locations.head()"
   ]
  },
  {
   "cell_type": "code",
   "execution_count": null,
   "metadata": {},
   "outputs": [],
   "source": []
  },
  {
   "cell_type": "markdown",
   "metadata": {},
   "source": [
    "### Loan themes"
   ]
  },
  {
   "cell_type": "code",
   "execution_count": 68,
   "metadata": {
    "ExecuteTime": {
     "end_time": "2021-02-22T08:55:02.006120Z",
     "start_time": "2021-02-22T08:55:01.490689Z"
    }
   },
   "outputs": [],
   "source": [
    "loan_theme_ids = pd.read_csv('/Users/lasayin/Desktop/Springboard/GitHub/Springboard_DS_Capstone2/RawData/KivaData/loan_theme_ids.csv')"
   ]
  },
  {
   "cell_type": "code",
   "execution_count": 69,
   "metadata": {
    "ExecuteTime": {
     "end_time": "2021-02-22T08:55:02.093350Z",
     "start_time": "2021-02-22T08:55:02.009315Z"
    }
   },
   "outputs": [
    {
     "name": "stdout",
     "output_type": "stream",
     "text": [
      "<class 'pandas.core.frame.DataFrame'>\n",
      "RangeIndex: 779092 entries, 0 to 779091\n",
      "Data columns (total 4 columns):\n",
      " #   Column           Non-Null Count   Dtype  \n",
      "---  ------           --------------   -----  \n",
      " 0   id               779092 non-null  int64  \n",
      " 1   Loan Theme ID    764279 non-null  object \n",
      " 2   Loan Theme Type  764279 non-null  object \n",
      " 3   Partner ID       764279 non-null  float64\n",
      "dtypes: float64(1), int64(1), object(2)\n",
      "memory usage: 23.8+ MB\n"
     ]
    }
   ],
   "source": [
    "loan_theme_ids.info()"
   ]
  },
  {
   "cell_type": "markdown",
   "metadata": {},
   "source": [
    "Column descriptions:\n",
    "\n",
    "0. id:\n",
    "\n",
    "1. Loan Theme ID: Unique ID for loan theme\n",
    "\n",
    "2. Loan Theme Type: General description of the loan theme category\n",
    "\n",
    "3. Partner ID: Unique ID for field partners\n"
   ]
  },
  {
   "cell_type": "code",
   "execution_count": 70,
   "metadata": {
    "ExecuteTime": {
     "end_time": "2021-02-22T08:55:02.119348Z",
     "start_time": "2021-02-22T08:55:02.096400Z"
    }
   },
   "outputs": [
    {
     "data": {
      "text/html": [
       "<div>\n",
       "<style scoped>\n",
       "    .dataframe tbody tr th:only-of-type {\n",
       "        vertical-align: middle;\n",
       "    }\n",
       "\n",
       "    .dataframe tbody tr th {\n",
       "        vertical-align: top;\n",
       "    }\n",
       "\n",
       "    .dataframe thead th {\n",
       "        text-align: right;\n",
       "    }\n",
       "</style>\n",
       "<table border=\"1\" class=\"dataframe\">\n",
       "  <thead>\n",
       "    <tr style=\"text-align: right;\">\n",
       "      <th></th>\n",
       "      <th>id</th>\n",
       "      <th>Loan Theme ID</th>\n",
       "      <th>Loan Theme Type</th>\n",
       "      <th>Partner ID</th>\n",
       "    </tr>\n",
       "  </thead>\n",
       "  <tbody>\n",
       "    <tr>\n",
       "      <th>0</th>\n",
       "      <td>638631</td>\n",
       "      <td>a1050000000skGl</td>\n",
       "      <td>General</td>\n",
       "      <td>151.0</td>\n",
       "    </tr>\n",
       "    <tr>\n",
       "      <th>1</th>\n",
       "      <td>640322</td>\n",
       "      <td>a1050000000skGl</td>\n",
       "      <td>General</td>\n",
       "      <td>151.0</td>\n",
       "    </tr>\n",
       "    <tr>\n",
       "      <th>2</th>\n",
       "      <td>641006</td>\n",
       "      <td>a1050000002X1ij</td>\n",
       "      <td>Higher Education</td>\n",
       "      <td>160.0</td>\n",
       "    </tr>\n",
       "    <tr>\n",
       "      <th>3</th>\n",
       "      <td>641019</td>\n",
       "      <td>a1050000002X1ij</td>\n",
       "      <td>Higher Education</td>\n",
       "      <td>160.0</td>\n",
       "    </tr>\n",
       "    <tr>\n",
       "      <th>4</th>\n",
       "      <td>641594</td>\n",
       "      <td>a1050000002VbsW</td>\n",
       "      <td>Subsistence Agriculture</td>\n",
       "      <td>336.0</td>\n",
       "    </tr>\n",
       "    <tr>\n",
       "      <th>5</th>\n",
       "      <td>642256</td>\n",
       "      <td>a1050000000T3oX</td>\n",
       "      <td>Extreme Poverty</td>\n",
       "      <td>217.0</td>\n",
       "    </tr>\n",
       "    <tr>\n",
       "      <th>6</th>\n",
       "      <td>642311</td>\n",
       "      <td>a1050000000snTK</td>\n",
       "      <td>General</td>\n",
       "      <td>57.0</td>\n",
       "    </tr>\n",
       "    <tr>\n",
       "      <th>7</th>\n",
       "      <td>642353</td>\n",
       "      <td>a1050000000T3oX</td>\n",
       "      <td>Extreme Poverty</td>\n",
       "      <td>217.0</td>\n",
       "    </tr>\n",
       "    <tr>\n",
       "      <th>8</th>\n",
       "      <td>642386</td>\n",
       "      <td>a1050000000wf0f</td>\n",
       "      <td>General</td>\n",
       "      <td>133.0</td>\n",
       "    </tr>\n",
       "    <tr>\n",
       "      <th>9</th>\n",
       "      <td>642429</td>\n",
       "      <td>a1050000000wezJ</td>\n",
       "      <td>General</td>\n",
       "      <td>48.0</td>\n",
       "    </tr>\n",
       "    <tr>\n",
       "      <th>10</th>\n",
       "      <td>642836</td>\n",
       "      <td>a1050000000wf0f</td>\n",
       "      <td>General</td>\n",
       "      <td>133.0</td>\n",
       "    </tr>\n",
       "    <tr>\n",
       "      <th>11</th>\n",
       "      <td>643267</td>\n",
       "      <td>a1050000000T3oX</td>\n",
       "      <td>Extreme Poverty</td>\n",
       "      <td>217.0</td>\n",
       "    </tr>\n",
       "    <tr>\n",
       "      <th>12</th>\n",
       "      <td>643288</td>\n",
       "      <td>a1050000000wezk</td>\n",
       "      <td>General</td>\n",
       "      <td>77.0</td>\n",
       "    </tr>\n",
       "    <tr>\n",
       "      <th>13</th>\n",
       "      <td>643402</td>\n",
       "      <td>a1050000000wezk</td>\n",
       "      <td>General</td>\n",
       "      <td>77.0</td>\n",
       "    </tr>\n",
       "    <tr>\n",
       "      <th>14</th>\n",
       "      <td>643414</td>\n",
       "      <td>a1050000002VkWz</td>\n",
       "      <td>Underserved</td>\n",
       "      <td>334.0</td>\n",
       "    </tr>\n",
       "    <tr>\n",
       "      <th>15</th>\n",
       "      <td>643435</td>\n",
       "      <td>a1050000002VkWz</td>\n",
       "      <td>Underserved</td>\n",
       "      <td>334.0</td>\n",
       "    </tr>\n",
       "    <tr>\n",
       "      <th>16</th>\n",
       "      <td>643447</td>\n",
       "      <td>a1050000000shPp</td>\n",
       "      <td>Extreme Poverty</td>\n",
       "      <td>40.0</td>\n",
       "    </tr>\n",
       "    <tr>\n",
       "      <th>17</th>\n",
       "      <td>643557</td>\n",
       "      <td>a1050000000skGl</td>\n",
       "      <td>General</td>\n",
       "      <td>151.0</td>\n",
       "    </tr>\n",
       "    <tr>\n",
       "      <th>18</th>\n",
       "      <td>643761</td>\n",
       "      <td>a1050000000wf1a</td>\n",
       "      <td>General</td>\n",
       "      <td>205.0</td>\n",
       "    </tr>\n",
       "    <tr>\n",
       "      <th>19</th>\n",
       "      <td>644101</td>\n",
       "      <td>a1050000000snTK</td>\n",
       "      <td>General</td>\n",
       "      <td>57.0</td>\n",
       "    </tr>\n",
       "  </tbody>\n",
       "</table>\n",
       "</div>"
      ],
      "text/plain": [
       "        id    Loan Theme ID          Loan Theme Type  Partner ID\n",
       "0   638631  a1050000000skGl                  General       151.0\n",
       "1   640322  a1050000000skGl                  General       151.0\n",
       "2   641006  a1050000002X1ij         Higher Education       160.0\n",
       "3   641019  a1050000002X1ij         Higher Education       160.0\n",
       "4   641594  a1050000002VbsW  Subsistence Agriculture       336.0\n",
       "5   642256  a1050000000T3oX          Extreme Poverty       217.0\n",
       "6   642311  a1050000000snTK                  General        57.0\n",
       "7   642353  a1050000000T3oX          Extreme Poverty       217.0\n",
       "8   642386  a1050000000wf0f                  General       133.0\n",
       "9   642429  a1050000000wezJ                  General        48.0\n",
       "10  642836  a1050000000wf0f                  General       133.0\n",
       "11  643267  a1050000000T3oX          Extreme Poverty       217.0\n",
       "12  643288  a1050000000wezk                  General        77.0\n",
       "13  643402  a1050000000wezk                  General        77.0\n",
       "14  643414  a1050000002VkWz              Underserved       334.0\n",
       "15  643435  a1050000002VkWz              Underserved       334.0\n",
       "16  643447  a1050000000shPp          Extreme Poverty        40.0\n",
       "17  643557  a1050000000skGl                  General       151.0\n",
       "18  643761  a1050000000wf1a                  General       205.0\n",
       "19  644101  a1050000000snTK                  General        57.0"
      ]
     },
     "execution_count": 70,
     "metadata": {},
     "output_type": "execute_result"
    }
   ],
   "source": [
    "loan_theme_ids.head(20)"
   ]
  },
  {
   "cell_type": "markdown",
   "metadata": {},
   "source": [
    "It seems that `Loan Theme ID` is unique to the pair of `Loan Theme Type` and `Partner ID`. For example, for the pair of 'General'(`Loan Theme Type`) and '151'(`Partner ID`), `Loan Theme ID` is 'a1050000000skGl', while for the pair of 'General'(`Loan Theme Type`) and '57'(`Partner ID`), `Loan Theme ID` is 'a1050000000snTK'."
   ]
  },
  {
   "cell_type": "markdown",
   "metadata": {},
   "source": [
    "<span class=\"burk\">Unique id for loans is 779092 in the `loan_theme_ids` dataset, while it is 671205 in the `loans` dataset. In other words， the 100,000 entries without the detailed loan information can be used for the loan-theme-type analysis but might be dropped when doing modeling.</span>"
   ]
  },
  {
   "cell_type": "markdown",
   "metadata": {},
   "source": [
    "### Loan themes by region"
   ]
  },
  {
   "cell_type": "code",
   "execution_count": 74,
   "metadata": {
    "ExecuteTime": {
     "end_time": "2021-02-22T08:55:02.588527Z",
     "start_time": "2021-02-22T08:55:02.432513Z"
    }
   },
   "outputs": [],
   "source": [
    "loan_themes_by_region = pd.read_csv('/Users/lasayin/Desktop/Springboard/GitHub/Springboard_DS_Capstone2/RawData/KivaData/loan_themes_by_region.csv')"
   ]
  },
  {
   "cell_type": "code",
   "execution_count": 75,
   "metadata": {
    "ExecuteTime": {
     "end_time": "2021-02-22T08:55:02.647921Z",
     "start_time": "2021-02-22T08:55:02.593517Z"
    }
   },
   "outputs": [
    {
     "name": "stdout",
     "output_type": "stream",
     "text": [
      "<class 'pandas.core.frame.DataFrame'>\n",
      "RangeIndex: 15736 entries, 0 to 15735\n",
      "Data columns (total 21 columns):\n",
      " #   Column              Non-Null Count  Dtype  \n",
      "---  ------              --------------  -----  \n",
      " 0   Partner ID          15736 non-null  int64  \n",
      " 1   Field Partner Name  15736 non-null  object \n",
      " 2   sector              15736 non-null  object \n",
      " 3   Loan Theme ID       15736 non-null  object \n",
      " 4   Loan Theme Type     15736 non-null  object \n",
      " 5   country             15736 non-null  object \n",
      " 6   forkiva             15736 non-null  object \n",
      " 7   region              15736 non-null  object \n",
      " 8   geocode_old         1200 non-null   object \n",
      " 9   ISO                 15722 non-null  object \n",
      " 10  number              15736 non-null  int64  \n",
      " 11  amount              15736 non-null  int64  \n",
      " 12  LocationName        15736 non-null  object \n",
      " 13  geocode             13662 non-null  object \n",
      " 14  names               13661 non-null  object \n",
      " 15  geo                 15736 non-null  object \n",
      " 16  lat                 13662 non-null  float64\n",
      " 17  lon                 13662 non-null  float64\n",
      " 18  mpi_region          15722 non-null  object \n",
      " 19  mpi_geo             9671 non-null   object \n",
      " 20  rural_pct           14344 non-null  float64\n",
      "dtypes: float64(3), int64(3), object(15)\n",
      "memory usage: 2.5+ MB\n"
     ]
    }
   ],
   "source": [
    "loan_themes_by_region.info()"
   ]
  },
  {
   "cell_type": "code",
   "execution_count": 76,
   "metadata": {
    "ExecuteTime": {
     "end_time": "2021-02-22T08:55:02.707466Z",
     "start_time": "2021-02-22T08:55:02.653852Z"
    }
   },
   "outputs": [
    {
     "data": {
      "text/html": [
       "<div>\n",
       "<style scoped>\n",
       "    .dataframe tbody tr th:only-of-type {\n",
       "        vertical-align: middle;\n",
       "    }\n",
       "\n",
       "    .dataframe tbody tr th {\n",
       "        vertical-align: top;\n",
       "    }\n",
       "\n",
       "    .dataframe thead th {\n",
       "        text-align: right;\n",
       "    }\n",
       "</style>\n",
       "<table border=\"1\" class=\"dataframe\">\n",
       "  <thead>\n",
       "    <tr style=\"text-align: right;\">\n",
       "      <th></th>\n",
       "      <th>Partner ID</th>\n",
       "      <th>Field Partner Name</th>\n",
       "      <th>sector</th>\n",
       "      <th>Loan Theme ID</th>\n",
       "      <th>Loan Theme Type</th>\n",
       "      <th>country</th>\n",
       "      <th>forkiva</th>\n",
       "      <th>region</th>\n",
       "      <th>geocode_old</th>\n",
       "      <th>ISO</th>\n",
       "      <th>...</th>\n",
       "      <th>amount</th>\n",
       "      <th>LocationName</th>\n",
       "      <th>geocode</th>\n",
       "      <th>names</th>\n",
       "      <th>geo</th>\n",
       "      <th>lat</th>\n",
       "      <th>lon</th>\n",
       "      <th>mpi_region</th>\n",
       "      <th>mpi_geo</th>\n",
       "      <th>rural_pct</th>\n",
       "    </tr>\n",
       "  </thead>\n",
       "  <tbody>\n",
       "    <tr>\n",
       "      <th>0</th>\n",
       "      <td>9</td>\n",
       "      <td>KREDIT Microfinance Institution</td>\n",
       "      <td>General Financial Inclusion</td>\n",
       "      <td>a1050000000slfi</td>\n",
       "      <td>Higher Education</td>\n",
       "      <td>Cambodia</td>\n",
       "      <td>No</td>\n",
       "      <td>Banteay Meanchey</td>\n",
       "      <td>(13.75, 103.0)</td>\n",
       "      <td>KHM</td>\n",
       "      <td>...</td>\n",
       "      <td>450</td>\n",
       "      <td>Banteay Meanchey, Cambodia</td>\n",
       "      <td>[(13.6672596, 102.8975098)]</td>\n",
       "      <td>Banteay Meanchey Province; Cambodia</td>\n",
       "      <td>(13.6672596, 102.8975098)</td>\n",
       "      <td>13.667260</td>\n",
       "      <td>102.897510</td>\n",
       "      <td>Banteay Mean Chey, Cambodia</td>\n",
       "      <td>(13.6672596, 102.8975098)</td>\n",
       "      <td>90.0</td>\n",
       "    </tr>\n",
       "    <tr>\n",
       "      <th>1</th>\n",
       "      <td>9</td>\n",
       "      <td>KREDIT Microfinance Institution</td>\n",
       "      <td>General Financial Inclusion</td>\n",
       "      <td>a10500000068jPe</td>\n",
       "      <td>Vulnerable Populations</td>\n",
       "      <td>Cambodia</td>\n",
       "      <td>No</td>\n",
       "      <td>Battambang Province</td>\n",
       "      <td>NaN</td>\n",
       "      <td>KHM</td>\n",
       "      <td>...</td>\n",
       "      <td>20275</td>\n",
       "      <td>Battambang Province, Cambodia</td>\n",
       "      <td>[(13.0286971, 102.989615)]</td>\n",
       "      <td>Battambang Province; Cambodia</td>\n",
       "      <td>(13.0286971, 102.989615)</td>\n",
       "      <td>13.028697</td>\n",
       "      <td>102.989615</td>\n",
       "      <td>Banteay Mean Chey, Cambodia</td>\n",
       "      <td>(13.6672596, 102.8975098)</td>\n",
       "      <td>90.0</td>\n",
       "    </tr>\n",
       "    <tr>\n",
       "      <th>2</th>\n",
       "      <td>9</td>\n",
       "      <td>KREDIT Microfinance Institution</td>\n",
       "      <td>General Financial Inclusion</td>\n",
       "      <td>a1050000000slfi</td>\n",
       "      <td>Higher Education</td>\n",
       "      <td>Cambodia</td>\n",
       "      <td>No</td>\n",
       "      <td>Battambang Province</td>\n",
       "      <td>NaN</td>\n",
       "      <td>KHM</td>\n",
       "      <td>...</td>\n",
       "      <td>9150</td>\n",
       "      <td>Battambang Province, Cambodia</td>\n",
       "      <td>[(13.0286971, 102.989615)]</td>\n",
       "      <td>Battambang Province; Cambodia</td>\n",
       "      <td>(13.0286971, 102.989615)</td>\n",
       "      <td>13.028697</td>\n",
       "      <td>102.989615</td>\n",
       "      <td>Banteay Mean Chey, Cambodia</td>\n",
       "      <td>(13.6672596, 102.8975098)</td>\n",
       "      <td>90.0</td>\n",
       "    </tr>\n",
       "  </tbody>\n",
       "</table>\n",
       "<p>3 rows × 21 columns</p>\n",
       "</div>"
      ],
      "text/plain": [
       "   Partner ID               Field Partner Name                       sector  \\\n",
       "0           9  KREDIT Microfinance Institution  General Financial Inclusion   \n",
       "1           9  KREDIT Microfinance Institution  General Financial Inclusion   \n",
       "2           9  KREDIT Microfinance Institution  General Financial Inclusion   \n",
       "\n",
       "     Loan Theme ID         Loan Theme Type   country forkiva  \\\n",
       "0  a1050000000slfi        Higher Education  Cambodia      No   \n",
       "1  a10500000068jPe  Vulnerable Populations  Cambodia      No   \n",
       "2  a1050000000slfi        Higher Education  Cambodia      No   \n",
       "\n",
       "                region     geocode_old  ISO  ...  amount  \\\n",
       "0     Banteay Meanchey  (13.75, 103.0)  KHM  ...     450   \n",
       "1  Battambang Province             NaN  KHM  ...   20275   \n",
       "2  Battambang Province             NaN  KHM  ...    9150   \n",
       "\n",
       "                    LocationName                      geocode  \\\n",
       "0     Banteay Meanchey, Cambodia  [(13.6672596, 102.8975098)]   \n",
       "1  Battambang Province, Cambodia   [(13.0286971, 102.989615)]   \n",
       "2  Battambang Province, Cambodia   [(13.0286971, 102.989615)]   \n",
       "\n",
       "                                 names                        geo        lat  \\\n",
       "0  Banteay Meanchey Province; Cambodia  (13.6672596, 102.8975098)  13.667260   \n",
       "1        Battambang Province; Cambodia   (13.0286971, 102.989615)  13.028697   \n",
       "2        Battambang Province; Cambodia   (13.0286971, 102.989615)  13.028697   \n",
       "\n",
       "          lon                   mpi_region                    mpi_geo  \\\n",
       "0  102.897510  Banteay Mean Chey, Cambodia  (13.6672596, 102.8975098)   \n",
       "1  102.989615  Banteay Mean Chey, Cambodia  (13.6672596, 102.8975098)   \n",
       "2  102.989615  Banteay Mean Chey, Cambodia  (13.6672596, 102.8975098)   \n",
       "\n",
       "  rural_pct  \n",
       "0      90.0  \n",
       "1      90.0  \n",
       "2      90.0  \n",
       "\n",
       "[3 rows x 21 columns]"
      ]
     },
     "execution_count": 76,
     "metadata": {},
     "output_type": "execute_result"
    }
   ],
   "source": [
    "loan_themes_by_region.head(3)"
   ]
  },
  {
   "cell_type": "markdown",
   "metadata": {},
   "source": [
    "### Additional Data"
   ]
  },
  {
   "cell_type": "code",
   "execution_count": 77,
   "metadata": {
    "ExecuteTime": {
     "end_time": "2021-02-22T08:55:02.720585Z",
     "start_time": "2021-02-22T08:55:02.711905Z"
    }
   },
   "outputs": [],
   "source": [
    "MPI_national = pd.read_csv('/Users/lasayin/Desktop/Springboard/GitHub/Springboard_DS_Capstone2/RawData/AdditionalData/MPI_national.csv')"
   ]
  },
  {
   "cell_type": "code",
   "execution_count": 78,
   "metadata": {
    "ExecuteTime": {
     "end_time": "2021-02-22T08:55:02.738107Z",
     "start_time": "2021-02-22T08:55:02.724177Z"
    }
   },
   "outputs": [
    {
     "name": "stdout",
     "output_type": "stream",
     "text": [
      "<class 'pandas.core.frame.DataFrame'>\n",
      "RangeIndex: 102 entries, 0 to 101\n",
      "Data columns (total 8 columns):\n",
      " #   Column                          Non-Null Count  Dtype  \n",
      "---  ------                          --------------  -----  \n",
      " 0   ISO                             102 non-null    object \n",
      " 1   Country                         102 non-null    object \n",
      " 2   MPI Urban                       102 non-null    float64\n",
      " 3   Headcount Ratio Urban           102 non-null    float64\n",
      " 4   Intensity of Deprivation Urban  102 non-null    float64\n",
      " 5   MPI Rural                       102 non-null    float64\n",
      " 6   Headcount Ratio Rural           102 non-null    float64\n",
      " 7   Intensity of Deprivation Rural  102 non-null    float64\n",
      "dtypes: float64(6), object(2)\n",
      "memory usage: 6.5+ KB\n"
     ]
    }
   ],
   "source": [
    "MPI_national.info()"
   ]
  },
  {
   "cell_type": "code",
   "execution_count": 80,
   "metadata": {
    "ExecuteTime": {
     "end_time": "2021-02-22T08:56:59.343455Z",
     "start_time": "2021-02-22T08:56:59.314062Z"
    }
   },
   "outputs": [
    {
     "data": {
      "text/html": [
       "<div>\n",
       "<style scoped>\n",
       "    .dataframe tbody tr th:only-of-type {\n",
       "        vertical-align: middle;\n",
       "    }\n",
       "\n",
       "    .dataframe tbody tr th {\n",
       "        vertical-align: top;\n",
       "    }\n",
       "\n",
       "    .dataframe thead th {\n",
       "        text-align: right;\n",
       "    }\n",
       "</style>\n",
       "<table border=\"1\" class=\"dataframe\">\n",
       "  <thead>\n",
       "    <tr style=\"text-align: right;\">\n",
       "      <th></th>\n",
       "      <th>ISO</th>\n",
       "      <th>Country</th>\n",
       "      <th>MPI Urban</th>\n",
       "      <th>Headcount Ratio Urban</th>\n",
       "      <th>Intensity of Deprivation Urban</th>\n",
       "      <th>MPI Rural</th>\n",
       "      <th>Headcount Ratio Rural</th>\n",
       "      <th>Intensity of Deprivation Rural</th>\n",
       "    </tr>\n",
       "  </thead>\n",
       "  <tbody>\n",
       "    <tr>\n",
       "      <th>0</th>\n",
       "      <td>KAZ</td>\n",
       "      <td>Kazakhstan</td>\n",
       "      <td>0.000</td>\n",
       "      <td>0.0</td>\n",
       "      <td>33.3</td>\n",
       "      <td>0.000</td>\n",
       "      <td>0.09</td>\n",
       "      <td>33.3</td>\n",
       "    </tr>\n",
       "    <tr>\n",
       "      <th>1</th>\n",
       "      <td>SRB</td>\n",
       "      <td>Serbia</td>\n",
       "      <td>0.000</td>\n",
       "      <td>0.1</td>\n",
       "      <td>41.4</td>\n",
       "      <td>0.002</td>\n",
       "      <td>0.50</td>\n",
       "      <td>40.3</td>\n",
       "    </tr>\n",
       "    <tr>\n",
       "      <th>2</th>\n",
       "      <td>KGZ</td>\n",
       "      <td>Kyrgyzstan</td>\n",
       "      <td>0.000</td>\n",
       "      <td>0.1</td>\n",
       "      <td>40.2</td>\n",
       "      <td>0.003</td>\n",
       "      <td>0.70</td>\n",
       "      <td>37.1</td>\n",
       "    </tr>\n",
       "    <tr>\n",
       "      <th>3</th>\n",
       "      <td>TUN</td>\n",
       "      <td>Tunisia</td>\n",
       "      <td>0.000</td>\n",
       "      <td>0.1</td>\n",
       "      <td>35.6</td>\n",
       "      <td>0.012</td>\n",
       "      <td>3.18</td>\n",
       "      <td>38.7</td>\n",
       "    </tr>\n",
       "    <tr>\n",
       "      <th>4</th>\n",
       "      <td>ARM</td>\n",
       "      <td>Armenia</td>\n",
       "      <td>0.001</td>\n",
       "      <td>0.2</td>\n",
       "      <td>33.3</td>\n",
       "      <td>0.001</td>\n",
       "      <td>0.39</td>\n",
       "      <td>36.9</td>\n",
       "    </tr>\n",
       "  </tbody>\n",
       "</table>\n",
       "</div>"
      ],
      "text/plain": [
       "   ISO     Country  MPI Urban  Headcount Ratio Urban  \\\n",
       "0  KAZ  Kazakhstan      0.000                    0.0   \n",
       "1  SRB      Serbia      0.000                    0.1   \n",
       "2  KGZ  Kyrgyzstan      0.000                    0.1   \n",
       "3  TUN     Tunisia      0.000                    0.1   \n",
       "4  ARM     Armenia      0.001                    0.2   \n",
       "\n",
       "   Intensity of Deprivation Urban  MPI Rural  Headcount Ratio Rural  \\\n",
       "0                            33.3      0.000                   0.09   \n",
       "1                            41.4      0.002                   0.50   \n",
       "2                            40.2      0.003                   0.70   \n",
       "3                            35.6      0.012                   3.18   \n",
       "4                            33.3      0.001                   0.39   \n",
       "\n",
       "   Intensity of Deprivation Rural  \n",
       "0                            33.3  \n",
       "1                            40.3  \n",
       "2                            37.1  \n",
       "3                            38.7  \n",
       "4                            36.9  "
      ]
     },
     "execution_count": 80,
     "metadata": {},
     "output_type": "execute_result"
    }
   ],
   "source": [
    "MPI_national.head()"
   ]
  },
  {
   "cell_type": "code",
   "execution_count": 81,
   "metadata": {
    "ExecuteTime": {
     "end_time": "2021-02-22T08:57:05.513206Z",
     "start_time": "2021-02-22T08:57:05.470122Z"
    }
   },
   "outputs": [],
   "source": [
    "MPI_subnational = pd.read_csv('/Users/lasayin/Desktop/Springboard/GitHub/Springboard_DS_Capstone2/RawData/AdditionalData/MPI_subnational.csv')"
   ]
  },
  {
   "cell_type": "code",
   "execution_count": 82,
   "metadata": {
    "ExecuteTime": {
     "end_time": "2021-02-22T08:57:16.506075Z",
     "start_time": "2021-02-22T08:57:16.489242Z"
    }
   },
   "outputs": [
    {
     "name": "stdout",
     "output_type": "stream",
     "text": [
      "<class 'pandas.core.frame.DataFrame'>\n",
      "RangeIndex: 984 entries, 0 to 983\n",
      "Data columns (total 8 columns):\n",
      " #   Column                             Non-Null Count  Dtype  \n",
      "---  ------                             --------------  -----  \n",
      " 0   ISO country code                   984 non-null    object \n",
      " 1   Country                            984 non-null    object \n",
      " 2   Sub-national region                984 non-null    object \n",
      " 3   World region                       984 non-null    object \n",
      " 4   MPI National                       984 non-null    float64\n",
      " 5   MPI Regional                       984 non-null    float64\n",
      " 6   Headcount Ratio Regional           984 non-null    float64\n",
      " 7   Intensity of deprivation Regional  983 non-null    float64\n",
      "dtypes: float64(4), object(4)\n",
      "memory usage: 61.6+ KB\n"
     ]
    }
   ],
   "source": [
    "MPI_subnational.info()"
   ]
  },
  {
   "cell_type": "code",
   "execution_count": 83,
   "metadata": {
    "ExecuteTime": {
     "end_time": "2021-02-22T08:57:26.416268Z",
     "start_time": "2021-02-22T08:57:26.395562Z"
    }
   },
   "outputs": [
    {
     "data": {
      "text/html": [
       "<div>\n",
       "<style scoped>\n",
       "    .dataframe tbody tr th:only-of-type {\n",
       "        vertical-align: middle;\n",
       "    }\n",
       "\n",
       "    .dataframe tbody tr th {\n",
       "        vertical-align: top;\n",
       "    }\n",
       "\n",
       "    .dataframe thead th {\n",
       "        text-align: right;\n",
       "    }\n",
       "</style>\n",
       "<table border=\"1\" class=\"dataframe\">\n",
       "  <thead>\n",
       "    <tr style=\"text-align: right;\">\n",
       "      <th></th>\n",
       "      <th>ISO country code</th>\n",
       "      <th>Country</th>\n",
       "      <th>Sub-national region</th>\n",
       "      <th>World region</th>\n",
       "      <th>MPI National</th>\n",
       "      <th>MPI Regional</th>\n",
       "      <th>Headcount Ratio Regional</th>\n",
       "      <th>Intensity of deprivation Regional</th>\n",
       "    </tr>\n",
       "  </thead>\n",
       "  <tbody>\n",
       "    <tr>\n",
       "      <th>0</th>\n",
       "      <td>AFG</td>\n",
       "      <td>Afghanistan</td>\n",
       "      <td>Badakhshan</td>\n",
       "      <td>South Asia</td>\n",
       "      <td>0.295</td>\n",
       "      <td>0.387</td>\n",
       "      <td>67.5</td>\n",
       "      <td>57.3</td>\n",
       "    </tr>\n",
       "    <tr>\n",
       "      <th>1</th>\n",
       "      <td>AFG</td>\n",
       "      <td>Afghanistan</td>\n",
       "      <td>Badghis</td>\n",
       "      <td>South Asia</td>\n",
       "      <td>0.295</td>\n",
       "      <td>0.466</td>\n",
       "      <td>79.3</td>\n",
       "      <td>58.8</td>\n",
       "    </tr>\n",
       "    <tr>\n",
       "      <th>2</th>\n",
       "      <td>AFG</td>\n",
       "      <td>Afghanistan</td>\n",
       "      <td>Baghlan</td>\n",
       "      <td>South Asia</td>\n",
       "      <td>0.295</td>\n",
       "      <td>0.300</td>\n",
       "      <td>59.7</td>\n",
       "      <td>50.3</td>\n",
       "    </tr>\n",
       "    <tr>\n",
       "      <th>3</th>\n",
       "      <td>AFG</td>\n",
       "      <td>Afghanistan</td>\n",
       "      <td>Balkh</td>\n",
       "      <td>South Asia</td>\n",
       "      <td>0.295</td>\n",
       "      <td>0.301</td>\n",
       "      <td>55.7</td>\n",
       "      <td>54.1</td>\n",
       "    </tr>\n",
       "    <tr>\n",
       "      <th>4</th>\n",
       "      <td>AFG</td>\n",
       "      <td>Afghanistan</td>\n",
       "      <td>Bamyan</td>\n",
       "      <td>South Asia</td>\n",
       "      <td>0.295</td>\n",
       "      <td>0.325</td>\n",
       "      <td>61.0</td>\n",
       "      <td>53.3</td>\n",
       "    </tr>\n",
       "  </tbody>\n",
       "</table>\n",
       "</div>"
      ],
      "text/plain": [
       "  ISO country code      Country Sub-national region World region  \\\n",
       "0              AFG  Afghanistan          Badakhshan   South Asia   \n",
       "1              AFG  Afghanistan             Badghis   South Asia   \n",
       "2              AFG  Afghanistan             Baghlan   South Asia   \n",
       "3              AFG  Afghanistan               Balkh   South Asia   \n",
       "4              AFG  Afghanistan              Bamyan   South Asia   \n",
       "\n",
       "   MPI National  MPI Regional  Headcount Ratio Regional  \\\n",
       "0         0.295         0.387                      67.5   \n",
       "1         0.295         0.466                      79.3   \n",
       "2         0.295         0.300                      59.7   \n",
       "3         0.295         0.301                      55.7   \n",
       "4         0.295         0.325                      61.0   \n",
       "\n",
       "   Intensity of deprivation Regional  \n",
       "0                               57.3  \n",
       "1                               58.8  \n",
       "2                               50.3  \n",
       "3                               54.1  \n",
       "4                               53.3  "
      ]
     },
     "execution_count": 83,
     "metadata": {},
     "output_type": "execute_result"
    }
   ],
   "source": [
    "MPI_subnational.head()"
   ]
  },
  {
   "cell_type": "code",
   "execution_count": 84,
   "metadata": {
    "ExecuteTime": {
     "end_time": "2021-02-22T08:57:35.431965Z",
     "start_time": "2021-02-22T08:57:35.394610Z"
    }
   },
   "outputs": [],
   "source": [
    "World_population = pd.read_csv('/Users/lasayin/Desktop/Springboard/GitHub/Springboard_DS_Capstone2/RawData/AdditionalData/WorldPopulation.csv')"
   ]
  },
  {
   "cell_type": "code",
   "execution_count": 85,
   "metadata": {
    "ExecuteTime": {
     "end_time": "2021-02-22T08:57:44.516670Z",
     "start_time": "2021-02-22T08:57:44.469353Z"
    }
   },
   "outputs": [
    {
     "name": "stdout",
     "output_type": "stream",
     "text": [
      "<class 'pandas.core.frame.DataFrame'>\n",
      "RangeIndex: 217 entries, 0 to 216\n",
      "Data columns (total 62 columns):\n",
      " #   Column          Non-Null Count  Dtype  \n",
      "---  ------          --------------  -----  \n",
      " 0   Country         217 non-null    object \n",
      " 1   Country Code    217 non-null    object \n",
      " 2   Indicator Name  217 non-null    object \n",
      " 3   Indicator Code  217 non-null    object \n",
      " 4   1960            214 non-null    float64\n",
      " 5   1961            214 non-null    float64\n",
      " 6   1962            214 non-null    float64\n",
      " 7   1963            214 non-null    float64\n",
      " 8   1964            214 non-null    float64\n",
      " 9   1965            214 non-null    float64\n",
      " 10  1966            214 non-null    float64\n",
      " 11  1967            214 non-null    float64\n",
      " 12  1968            214 non-null    float64\n",
      " 13  1969            214 non-null    float64\n",
      " 14  1970            214 non-null    float64\n",
      " 15  1971            214 non-null    float64\n",
      " 16  1972            214 non-null    float64\n",
      " 17  1973            214 non-null    float64\n",
      " 18  1974            214 non-null    float64\n",
      " 19  1975            214 non-null    float64\n",
      " 20  1976            214 non-null    float64\n",
      " 21  1977            214 non-null    float64\n",
      " 22  1978            214 non-null    float64\n",
      " 23  1979            214 non-null    float64\n",
      " 24  1980            214 non-null    float64\n",
      " 25  1981            214 non-null    float64\n",
      " 26  1982            214 non-null    float64\n",
      " 27  1983            214 non-null    float64\n",
      " 28  1984            214 non-null    float64\n",
      " 29  1985            214 non-null    float64\n",
      " 30  1986            214 non-null    float64\n",
      " 31  1987            214 non-null    float64\n",
      " 32  1988            214 non-null    float64\n",
      " 33  1989            214 non-null    float64\n",
      " 34  1990            216 non-null    float64\n",
      " 35  1991            216 non-null    float64\n",
      " 36  1992            215 non-null    float64\n",
      " 37  1993            215 non-null    float64\n",
      " 38  1994            215 non-null    float64\n",
      " 39  1995            216 non-null    float64\n",
      " 40  1996            216 non-null    float64\n",
      " 41  1997            216 non-null    float64\n",
      " 42  1998            217 non-null    int64  \n",
      " 43  1999            217 non-null    int64  \n",
      " 44  2000            217 non-null    int64  \n",
      " 45  2001            217 non-null    int64  \n",
      " 46  2002            217 non-null    float64\n",
      " 47  2003            217 non-null    float64\n",
      " 48  2004            217 non-null    float64\n",
      " 49  2005            217 non-null    float64\n",
      " 50  2006            217 non-null    float64\n",
      " 51  2007            217 non-null    float64\n",
      " 52  2008            217 non-null    float64\n",
      " 53  2009            217 non-null    float64\n",
      " 54  2010            217 non-null    float64\n",
      " 55  2011            217 non-null    float64\n",
      " 56  2012            217 non-null    float64\n",
      " 57  2013            217 non-null    float64\n",
      " 58  2014            217 non-null    float64\n",
      " 59  2015            217 non-null    float64\n",
      " 60  2016            217 non-null    int64  \n",
      " 61  Unnamed: 61     0 non-null      float64\n",
      "dtypes: float64(53), int64(5), object(4)\n",
      "memory usage: 105.2+ KB\n"
     ]
    }
   ],
   "source": [
    "World_population.info()"
   ]
  },
  {
   "cell_type": "code",
   "execution_count": 86,
   "metadata": {
    "ExecuteTime": {
     "end_time": "2021-02-22T08:57:54.158892Z",
     "start_time": "2021-02-22T08:57:54.121373Z"
    }
   },
   "outputs": [
    {
     "data": {
      "text/html": [
       "<div>\n",
       "<style scoped>\n",
       "    .dataframe tbody tr th:only-of-type {\n",
       "        vertical-align: middle;\n",
       "    }\n",
       "\n",
       "    .dataframe tbody tr th {\n",
       "        vertical-align: top;\n",
       "    }\n",
       "\n",
       "    .dataframe thead th {\n",
       "        text-align: right;\n",
       "    }\n",
       "</style>\n",
       "<table border=\"1\" class=\"dataframe\">\n",
       "  <thead>\n",
       "    <tr style=\"text-align: right;\">\n",
       "      <th></th>\n",
       "      <th>Country</th>\n",
       "      <th>Country Code</th>\n",
       "      <th>Indicator Name</th>\n",
       "      <th>Indicator Code</th>\n",
       "      <th>1960</th>\n",
       "      <th>1961</th>\n",
       "      <th>1962</th>\n",
       "      <th>1963</th>\n",
       "      <th>1964</th>\n",
       "      <th>1965</th>\n",
       "      <th>...</th>\n",
       "      <th>2008</th>\n",
       "      <th>2009</th>\n",
       "      <th>2010</th>\n",
       "      <th>2011</th>\n",
       "      <th>2012</th>\n",
       "      <th>2013</th>\n",
       "      <th>2014</th>\n",
       "      <th>2015</th>\n",
       "      <th>2016</th>\n",
       "      <th>Unnamed: 61</th>\n",
       "    </tr>\n",
       "  </thead>\n",
       "  <tbody>\n",
       "    <tr>\n",
       "      <th>0</th>\n",
       "      <td>Aruba</td>\n",
       "      <td>ABW</td>\n",
       "      <td>Population, total</td>\n",
       "      <td>SP.POP.TOTL</td>\n",
       "      <td>54211.0</td>\n",
       "      <td>55438.0</td>\n",
       "      <td>56225.0</td>\n",
       "      <td>56695.0</td>\n",
       "      <td>57032.0</td>\n",
       "      <td>57360.0</td>\n",
       "      <td>...</td>\n",
       "      <td>101353.0</td>\n",
       "      <td>101453.0</td>\n",
       "      <td>101669.0</td>\n",
       "      <td>102053.0</td>\n",
       "      <td>102577.0</td>\n",
       "      <td>103187.0</td>\n",
       "      <td>103795.0</td>\n",
       "      <td>104341.0</td>\n",
       "      <td>104822</td>\n",
       "      <td>NaN</td>\n",
       "    </tr>\n",
       "    <tr>\n",
       "      <th>1</th>\n",
       "      <td>Afghanistan</td>\n",
       "      <td>AFG</td>\n",
       "      <td>Population, total</td>\n",
       "      <td>SP.POP.TOTL</td>\n",
       "      <td>8996351.0</td>\n",
       "      <td>9166764.0</td>\n",
       "      <td>9345868.0</td>\n",
       "      <td>9533954.0</td>\n",
       "      <td>9731361.0</td>\n",
       "      <td>9938414.0</td>\n",
       "      <td>...</td>\n",
       "      <td>27294031.0</td>\n",
       "      <td>28004331.0</td>\n",
       "      <td>28803167.0</td>\n",
       "      <td>29708599.0</td>\n",
       "      <td>30696958.0</td>\n",
       "      <td>31731688.0</td>\n",
       "      <td>32758020.0</td>\n",
       "      <td>33736494.0</td>\n",
       "      <td>34656032</td>\n",
       "      <td>NaN</td>\n",
       "    </tr>\n",
       "    <tr>\n",
       "      <th>2</th>\n",
       "      <td>Angola</td>\n",
       "      <td>AGO</td>\n",
       "      <td>Population, total</td>\n",
       "      <td>SP.POP.TOTL</td>\n",
       "      <td>5643182.0</td>\n",
       "      <td>5753024.0</td>\n",
       "      <td>5866061.0</td>\n",
       "      <td>5980417.0</td>\n",
       "      <td>6093321.0</td>\n",
       "      <td>6203299.0</td>\n",
       "      <td>...</td>\n",
       "      <td>21759420.0</td>\n",
       "      <td>22549547.0</td>\n",
       "      <td>23369131.0</td>\n",
       "      <td>24218565.0</td>\n",
       "      <td>25096150.0</td>\n",
       "      <td>25998340.0</td>\n",
       "      <td>26920466.0</td>\n",
       "      <td>27859305.0</td>\n",
       "      <td>28813463</td>\n",
       "      <td>NaN</td>\n",
       "    </tr>\n",
       "    <tr>\n",
       "      <th>3</th>\n",
       "      <td>Albania</td>\n",
       "      <td>ALB</td>\n",
       "      <td>Population, total</td>\n",
       "      <td>SP.POP.TOTL</td>\n",
       "      <td>1608800.0</td>\n",
       "      <td>1659800.0</td>\n",
       "      <td>1711319.0</td>\n",
       "      <td>1762621.0</td>\n",
       "      <td>1814135.0</td>\n",
       "      <td>1864791.0</td>\n",
       "      <td>...</td>\n",
       "      <td>2947314.0</td>\n",
       "      <td>2927519.0</td>\n",
       "      <td>2913021.0</td>\n",
       "      <td>2905195.0</td>\n",
       "      <td>2900401.0</td>\n",
       "      <td>2895092.0</td>\n",
       "      <td>2889104.0</td>\n",
       "      <td>2880703.0</td>\n",
       "      <td>2876101</td>\n",
       "      <td>NaN</td>\n",
       "    </tr>\n",
       "    <tr>\n",
       "      <th>4</th>\n",
       "      <td>Andorra</td>\n",
       "      <td>AND</td>\n",
       "      <td>Population, total</td>\n",
       "      <td>SP.POP.TOTL</td>\n",
       "      <td>13411.0</td>\n",
       "      <td>14375.0</td>\n",
       "      <td>15370.0</td>\n",
       "      <td>16412.0</td>\n",
       "      <td>17469.0</td>\n",
       "      <td>18549.0</td>\n",
       "      <td>...</td>\n",
       "      <td>83861.0</td>\n",
       "      <td>84462.0</td>\n",
       "      <td>84449.0</td>\n",
       "      <td>83751.0</td>\n",
       "      <td>82431.0</td>\n",
       "      <td>80788.0</td>\n",
       "      <td>79223.0</td>\n",
       "      <td>78014.0</td>\n",
       "      <td>77281</td>\n",
       "      <td>NaN</td>\n",
       "    </tr>\n",
       "  </tbody>\n",
       "</table>\n",
       "<p>5 rows × 62 columns</p>\n",
       "</div>"
      ],
      "text/plain": [
       "       Country Country Code     Indicator Name Indicator Code       1960  \\\n",
       "0        Aruba          ABW  Population, total    SP.POP.TOTL    54211.0   \n",
       "1  Afghanistan          AFG  Population, total    SP.POP.TOTL  8996351.0   \n",
       "2       Angola          AGO  Population, total    SP.POP.TOTL  5643182.0   \n",
       "3      Albania          ALB  Population, total    SP.POP.TOTL  1608800.0   \n",
       "4      Andorra          AND  Population, total    SP.POP.TOTL    13411.0   \n",
       "\n",
       "        1961       1962       1963       1964       1965  ...        2008  \\\n",
       "0    55438.0    56225.0    56695.0    57032.0    57360.0  ...    101353.0   \n",
       "1  9166764.0  9345868.0  9533954.0  9731361.0  9938414.0  ...  27294031.0   \n",
       "2  5753024.0  5866061.0  5980417.0  6093321.0  6203299.0  ...  21759420.0   \n",
       "3  1659800.0  1711319.0  1762621.0  1814135.0  1864791.0  ...   2947314.0   \n",
       "4    14375.0    15370.0    16412.0    17469.0    18549.0  ...     83861.0   \n",
       "\n",
       "         2009        2010        2011        2012        2013        2014  \\\n",
       "0    101453.0    101669.0    102053.0    102577.0    103187.0    103795.0   \n",
       "1  28004331.0  28803167.0  29708599.0  30696958.0  31731688.0  32758020.0   \n",
       "2  22549547.0  23369131.0  24218565.0  25096150.0  25998340.0  26920466.0   \n",
       "3   2927519.0   2913021.0   2905195.0   2900401.0   2895092.0   2889104.0   \n",
       "4     84462.0     84449.0     83751.0     82431.0     80788.0     79223.0   \n",
       "\n",
       "         2015      2016  Unnamed: 61  \n",
       "0    104341.0    104822          NaN  \n",
       "1  33736494.0  34656032          NaN  \n",
       "2  27859305.0  28813463          NaN  \n",
       "3   2880703.0   2876101          NaN  \n",
       "4     78014.0     77281          NaN  \n",
       "\n",
       "[5 rows x 62 columns]"
      ]
     },
     "execution_count": 86,
     "metadata": {},
     "output_type": "execute_result"
    }
   ],
   "source": [
    "World_population.head()"
   ]
  },
  {
   "cell_type": "code",
   "execution_count": 87,
   "metadata": {
    "ExecuteTime": {
     "end_time": "2021-02-22T08:58:27.760349Z",
     "start_time": "2021-02-22T08:58:27.722345Z"
    }
   },
   "outputs": [],
   "source": [
    "HDI = pd.read_csv('/Users/lasayin/Desktop/Springboard/GitHub/Springboard_DS_Capstone2/RawData/AdditionalData/Human Development Index (HDI).csv', encoding = \"ISO-8859-1\")"
   ]
  },
  {
   "cell_type": "code",
   "execution_count": 88,
   "metadata": {
    "ExecuteTime": {
     "end_time": "2021-02-22T08:58:37.389135Z",
     "start_time": "2021-02-22T08:58:37.323399Z"
    }
   },
   "outputs": [
    {
     "name": "stdout",
     "output_type": "stream",
     "text": [
      "<class 'pandas.core.frame.DataFrame'>\n",
      "RangeIndex: 207 entries, 0 to 206\n",
      "Data columns (total 62 columns):\n",
      " #   Column       Non-Null Count  Dtype  \n",
      "---  ------       --------------  -----  \n",
      " 0   HDI Rank     204 non-null    object \n",
      " 1   Country      206 non-null    object \n",
      " 2   1990         204 non-null    object \n",
      " 3   Unnamed: 3   0 non-null      float64\n",
      " 4   1991         206 non-null    object \n",
      " 5   Unnamed: 5   0 non-null      float64\n",
      " 6   1992         206 non-null    object \n",
      " 7   Unnamed: 7   0 non-null      float64\n",
      " 8   1993         206 non-null    object \n",
      " 9   Unnamed: 9   0 non-null      float64\n",
      " 10  1994         206 non-null    object \n",
      " 11  Unnamed: 11  0 non-null      float64\n",
      " 12  1995         206 non-null    object \n",
      " 13  Unnamed: 13  0 non-null      float64\n",
      " 14  1996         206 non-null    object \n",
      " 15  Unnamed: 15  0 non-null      float64\n",
      " 16  1997         206 non-null    object \n",
      " 17  Unnamed: 17  0 non-null      float64\n",
      " 18  1998         206 non-null    object \n",
      " 19  Unnamed: 19  0 non-null      float64\n",
      " 20  1999         206 non-null    object \n",
      " 21  Unnamed: 21  0 non-null      float64\n",
      " 22  2000         206 non-null    object \n",
      " 23  Unnamed: 23  0 non-null      float64\n",
      " 24  2001         206 non-null    object \n",
      " 25  Unnamed: 25  0 non-null      float64\n",
      " 26  2002         206 non-null    object \n",
      " 27  Unnamed: 27  0 non-null      float64\n",
      " 28  2003         206 non-null    object \n",
      " 29  Unnamed: 29  0 non-null      float64\n",
      " 30  2004         206 non-null    object \n",
      " 31  Unnamed: 31  0 non-null      float64\n",
      " 32  2005         206 non-null    object \n",
      " 33  Unnamed: 33  0 non-null      float64\n",
      " 34  2006         206 non-null    object \n",
      " 35  Unnamed: 35  0 non-null      float64\n",
      " 36  2007         206 non-null    object \n",
      " 37  Unnamed: 37  0 non-null      float64\n",
      " 38  2008         206 non-null    object \n",
      " 39  Unnamed: 39  0 non-null      float64\n",
      " 40  2009         206 non-null    object \n",
      " 41  Unnamed: 41  0 non-null      float64\n",
      " 42  2010         206 non-null    object \n",
      " 43  Unnamed: 43  0 non-null      float64\n",
      " 44  2011         206 non-null    object \n",
      " 45  Unnamed: 45  0 non-null      float64\n",
      " 46  2012         206 non-null    object \n",
      " 47  Unnamed: 47  0 non-null      float64\n",
      " 48  2013         206 non-null    object \n",
      " 49  Unnamed: 49  0 non-null      float64\n",
      " 50  2014         206 non-null    object \n",
      " 51  Unnamed: 51  0 non-null      float64\n",
      " 52  2015         206 non-null    object \n",
      " 53  Unnamed: 53  0 non-null      float64\n",
      " 54  2016         206 non-null    object \n",
      " 55  Unnamed: 55  0 non-null      float64\n",
      " 56  2017         206 non-null    object \n",
      " 57  Unnamed: 57  0 non-null      float64\n",
      " 58  2018         206 non-null    object \n",
      " 59  Unnamed: 59  0 non-null      float64\n",
      " 60  2019         206 non-null    object \n",
      " 61  Unnamed: 61  0 non-null      float64\n",
      "dtypes: float64(30), object(32)\n",
      "memory usage: 100.4+ KB\n"
     ]
    }
   ],
   "source": [
    "HDI.info()"
   ]
  },
  {
   "cell_type": "code",
   "execution_count": 89,
   "metadata": {
    "ExecuteTime": {
     "end_time": "2021-02-22T08:58:46.545062Z",
     "start_time": "2021-02-22T08:58:46.511846Z"
    }
   },
   "outputs": [
    {
     "data": {
      "text/html": [
       "<div>\n",
       "<style scoped>\n",
       "    .dataframe tbody tr th:only-of-type {\n",
       "        vertical-align: middle;\n",
       "    }\n",
       "\n",
       "    .dataframe tbody tr th {\n",
       "        vertical-align: top;\n",
       "    }\n",
       "\n",
       "    .dataframe thead th {\n",
       "        text-align: right;\n",
       "    }\n",
       "</style>\n",
       "<table border=\"1\" class=\"dataframe\">\n",
       "  <thead>\n",
       "    <tr style=\"text-align: right;\">\n",
       "      <th></th>\n",
       "      <th>HDI Rank</th>\n",
       "      <th>Country</th>\n",
       "      <th>1990</th>\n",
       "      <th>Unnamed: 3</th>\n",
       "      <th>1991</th>\n",
       "      <th>Unnamed: 5</th>\n",
       "      <th>1992</th>\n",
       "      <th>Unnamed: 7</th>\n",
       "      <th>1993</th>\n",
       "      <th>Unnamed: 9</th>\n",
       "      <th>...</th>\n",
       "      <th>2015</th>\n",
       "      <th>Unnamed: 53</th>\n",
       "      <th>2016</th>\n",
       "      <th>Unnamed: 55</th>\n",
       "      <th>2017</th>\n",
       "      <th>Unnamed: 57</th>\n",
       "      <th>2018</th>\n",
       "      <th>Unnamed: 59</th>\n",
       "      <th>2019</th>\n",
       "      <th>Unnamed: 61</th>\n",
       "    </tr>\n",
       "  </thead>\n",
       "  <tbody>\n",
       "    <tr>\n",
       "      <th>0</th>\n",
       "      <td>169</td>\n",
       "      <td>Afghanistan</td>\n",
       "      <td>0.302</td>\n",
       "      <td>NaN</td>\n",
       "      <td>0.307</td>\n",
       "      <td>NaN</td>\n",
       "      <td>0.316</td>\n",
       "      <td>NaN</td>\n",
       "      <td>0.312</td>\n",
       "      <td>NaN</td>\n",
       "      <td>...</td>\n",
       "      <td>0.500</td>\n",
       "      <td>NaN</td>\n",
       "      <td>0.502</td>\n",
       "      <td>NaN</td>\n",
       "      <td>0.506</td>\n",
       "      <td>NaN</td>\n",
       "      <td>0.509</td>\n",
       "      <td>NaN</td>\n",
       "      <td>0.511</td>\n",
       "      <td>NaN</td>\n",
       "    </tr>\n",
       "    <tr>\n",
       "      <th>1</th>\n",
       "      <td>69</td>\n",
       "      <td>Albania</td>\n",
       "      <td>0.650</td>\n",
       "      <td>NaN</td>\n",
       "      <td>0.631</td>\n",
       "      <td>NaN</td>\n",
       "      <td>0.615</td>\n",
       "      <td>NaN</td>\n",
       "      <td>0.618</td>\n",
       "      <td>NaN</td>\n",
       "      <td>...</td>\n",
       "      <td>0.788</td>\n",
       "      <td>NaN</td>\n",
       "      <td>0.788</td>\n",
       "      <td>NaN</td>\n",
       "      <td>0.790</td>\n",
       "      <td>NaN</td>\n",
       "      <td>0.792</td>\n",
       "      <td>NaN</td>\n",
       "      <td>0.795</td>\n",
       "      <td>NaN</td>\n",
       "    </tr>\n",
       "    <tr>\n",
       "      <th>2</th>\n",
       "      <td>91</td>\n",
       "      <td>Algeria</td>\n",
       "      <td>0.572</td>\n",
       "      <td>NaN</td>\n",
       "      <td>0.576</td>\n",
       "      <td>NaN</td>\n",
       "      <td>0.582</td>\n",
       "      <td>NaN</td>\n",
       "      <td>0.586</td>\n",
       "      <td>NaN</td>\n",
       "      <td>...</td>\n",
       "      <td>0.740</td>\n",
       "      <td>NaN</td>\n",
       "      <td>0.743</td>\n",
       "      <td>NaN</td>\n",
       "      <td>0.745</td>\n",
       "      <td>NaN</td>\n",
       "      <td>0.746</td>\n",
       "      <td>NaN</td>\n",
       "      <td>0.748</td>\n",
       "      <td>NaN</td>\n",
       "    </tr>\n",
       "    <tr>\n",
       "      <th>3</th>\n",
       "      <td>36</td>\n",
       "      <td>Andorra</td>\n",
       "      <td>..</td>\n",
       "      <td>NaN</td>\n",
       "      <td>..</td>\n",
       "      <td>NaN</td>\n",
       "      <td>..</td>\n",
       "      <td>NaN</td>\n",
       "      <td>..</td>\n",
       "      <td>NaN</td>\n",
       "      <td>...</td>\n",
       "      <td>0.862</td>\n",
       "      <td>NaN</td>\n",
       "      <td>0.866</td>\n",
       "      <td>NaN</td>\n",
       "      <td>0.863</td>\n",
       "      <td>NaN</td>\n",
       "      <td>0.867</td>\n",
       "      <td>NaN</td>\n",
       "      <td>0.868</td>\n",
       "      <td>NaN</td>\n",
       "    </tr>\n",
       "    <tr>\n",
       "      <th>4</th>\n",
       "      <td>148</td>\n",
       "      <td>Angola</td>\n",
       "      <td>..</td>\n",
       "      <td>NaN</td>\n",
       "      <td>..</td>\n",
       "      <td>NaN</td>\n",
       "      <td>..</td>\n",
       "      <td>NaN</td>\n",
       "      <td>..</td>\n",
       "      <td>NaN</td>\n",
       "      <td>...</td>\n",
       "      <td>0.572</td>\n",
       "      <td>NaN</td>\n",
       "      <td>0.578</td>\n",
       "      <td>NaN</td>\n",
       "      <td>0.582</td>\n",
       "      <td>NaN</td>\n",
       "      <td>0.582</td>\n",
       "      <td>NaN</td>\n",
       "      <td>0.581</td>\n",
       "      <td>NaN</td>\n",
       "    </tr>\n",
       "  </tbody>\n",
       "</table>\n",
       "<p>5 rows × 62 columns</p>\n",
       "</div>"
      ],
      "text/plain": [
       "  HDI Rank       Country   1990  Unnamed: 3   1991  Unnamed: 5   1992  \\\n",
       "0      169   Afghanistan  0.302         NaN  0.307         NaN  0.316   \n",
       "1       69       Albania  0.650         NaN  0.631         NaN  0.615   \n",
       "2       91       Algeria  0.572         NaN  0.576         NaN  0.582   \n",
       "3       36       Andorra     ..         NaN     ..         NaN     ..   \n",
       "4      148        Angola     ..         NaN     ..         NaN     ..   \n",
       "\n",
       "   Unnamed: 7   1993  Unnamed: 9  ...   2015  Unnamed: 53   2016  Unnamed: 55  \\\n",
       "0         NaN  0.312         NaN  ...  0.500          NaN  0.502          NaN   \n",
       "1         NaN  0.618         NaN  ...  0.788          NaN  0.788          NaN   \n",
       "2         NaN  0.586         NaN  ...  0.740          NaN  0.743          NaN   \n",
       "3         NaN     ..         NaN  ...  0.862          NaN  0.866          NaN   \n",
       "4         NaN     ..         NaN  ...  0.572          NaN  0.578          NaN   \n",
       "\n",
       "    2017  Unnamed: 57   2018  Unnamed: 59   2019  Unnamed: 61  \n",
       "0  0.506          NaN  0.509          NaN  0.511          NaN  \n",
       "1  0.790          NaN  0.792          NaN  0.795          NaN  \n",
       "2  0.745          NaN  0.746          NaN  0.748          NaN  \n",
       "3  0.863          NaN  0.867          NaN  0.868          NaN  \n",
       "4  0.582          NaN  0.582          NaN  0.581          NaN  \n",
       "\n",
       "[5 rows x 62 columns]"
      ]
     },
     "execution_count": 89,
     "metadata": {},
     "output_type": "execute_result"
    }
   ],
   "source": [
    "HDI.head()"
   ]
  },
  {
   "cell_type": "code",
   "execution_count": 90,
   "metadata": {
    "ExecuteTime": {
     "end_time": "2021-02-22T08:58:55.103677Z",
     "start_time": "2021-02-22T08:58:55.096924Z"
    }
   },
   "outputs": [],
   "source": [
    "HDI = HDI.loc[:,~HDI.columns.str.match('Unnamed')]"
   ]
  },
  {
   "cell_type": "code",
   "execution_count": 91,
   "metadata": {
    "ExecuteTime": {
     "end_time": "2021-02-22T08:59:03.231660Z",
     "start_time": "2021-02-22T08:59:03.218204Z"
    }
   },
   "outputs": [
    {
     "name": "stdout",
     "output_type": "stream",
     "text": [
      "<class 'pandas.core.frame.DataFrame'>\n",
      "RangeIndex: 207 entries, 0 to 206\n",
      "Data columns (total 32 columns):\n",
      " #   Column    Non-Null Count  Dtype \n",
      "---  ------    --------------  ----- \n",
      " 0   HDI Rank  204 non-null    object\n",
      " 1   Country   206 non-null    object\n",
      " 2   1990      204 non-null    object\n",
      " 3   1991      206 non-null    object\n",
      " 4   1992      206 non-null    object\n",
      " 5   1993      206 non-null    object\n",
      " 6   1994      206 non-null    object\n",
      " 7   1995      206 non-null    object\n",
      " 8   1996      206 non-null    object\n",
      " 9   1997      206 non-null    object\n",
      " 10  1998      206 non-null    object\n",
      " 11  1999      206 non-null    object\n",
      " 12  2000      206 non-null    object\n",
      " 13  2001      206 non-null    object\n",
      " 14  2002      206 non-null    object\n",
      " 15  2003      206 non-null    object\n",
      " 16  2004      206 non-null    object\n",
      " 17  2005      206 non-null    object\n",
      " 18  2006      206 non-null    object\n",
      " 19  2007      206 non-null    object\n",
      " 20  2008      206 non-null    object\n",
      " 21  2009      206 non-null    object\n",
      " 22  2010      206 non-null    object\n",
      " 23  2011      206 non-null    object\n",
      " 24  2012      206 non-null    object\n",
      " 25  2013      206 non-null    object\n",
      " 26  2014      206 non-null    object\n",
      " 27  2015      206 non-null    object\n",
      " 28  2016      206 non-null    object\n",
      " 29  2017      206 non-null    object\n",
      " 30  2018      206 non-null    object\n",
      " 31  2019      206 non-null    object\n",
      "dtypes: object(32)\n",
      "memory usage: 51.9+ KB\n"
     ]
    }
   ],
   "source": [
    "HDI.info()"
   ]
  },
  {
   "cell_type": "code",
   "execution_count": 92,
   "metadata": {
    "ExecuteTime": {
     "end_time": "2021-02-22T08:59:12.067239Z",
     "start_time": "2021-02-22T08:59:12.025998Z"
    }
   },
   "outputs": [
    {
     "data": {
      "text/html": [
       "<div>\n",
       "<style scoped>\n",
       "    .dataframe tbody tr th:only-of-type {\n",
       "        vertical-align: middle;\n",
       "    }\n",
       "\n",
       "    .dataframe tbody tr th {\n",
       "        vertical-align: top;\n",
       "    }\n",
       "\n",
       "    .dataframe thead th {\n",
       "        text-align: right;\n",
       "    }\n",
       "</style>\n",
       "<table border=\"1\" class=\"dataframe\">\n",
       "  <thead>\n",
       "    <tr style=\"text-align: right;\">\n",
       "      <th></th>\n",
       "      <th>HDI Rank</th>\n",
       "      <th>Country</th>\n",
       "      <th>1990</th>\n",
       "      <th>1991</th>\n",
       "      <th>1992</th>\n",
       "      <th>1993</th>\n",
       "      <th>1994</th>\n",
       "      <th>1995</th>\n",
       "      <th>1996</th>\n",
       "      <th>1997</th>\n",
       "      <th>...</th>\n",
       "      <th>2010</th>\n",
       "      <th>2011</th>\n",
       "      <th>2012</th>\n",
       "      <th>2013</th>\n",
       "      <th>2014</th>\n",
       "      <th>2015</th>\n",
       "      <th>2016</th>\n",
       "      <th>2017</th>\n",
       "      <th>2018</th>\n",
       "      <th>2019</th>\n",
       "    </tr>\n",
       "  </thead>\n",
       "  <tbody>\n",
       "    <tr>\n",
       "      <th>0</th>\n",
       "      <td>169</td>\n",
       "      <td>Afghanistan</td>\n",
       "      <td>0.302</td>\n",
       "      <td>0.307</td>\n",
       "      <td>0.316</td>\n",
       "      <td>0.312</td>\n",
       "      <td>0.307</td>\n",
       "      <td>0.331</td>\n",
       "      <td>0.335</td>\n",
       "      <td>0.339</td>\n",
       "      <td>...</td>\n",
       "      <td>0.472</td>\n",
       "      <td>0.477</td>\n",
       "      <td>0.489</td>\n",
       "      <td>0.496</td>\n",
       "      <td>0.500</td>\n",
       "      <td>0.500</td>\n",
       "      <td>0.502</td>\n",
       "      <td>0.506</td>\n",
       "      <td>0.509</td>\n",
       "      <td>0.511</td>\n",
       "    </tr>\n",
       "    <tr>\n",
       "      <th>1</th>\n",
       "      <td>69</td>\n",
       "      <td>Albania</td>\n",
       "      <td>0.650</td>\n",
       "      <td>0.631</td>\n",
       "      <td>0.615</td>\n",
       "      <td>0.618</td>\n",
       "      <td>0.624</td>\n",
       "      <td>0.637</td>\n",
       "      <td>0.646</td>\n",
       "      <td>0.645</td>\n",
       "      <td>...</td>\n",
       "      <td>0.745</td>\n",
       "      <td>0.764</td>\n",
       "      <td>0.775</td>\n",
       "      <td>0.782</td>\n",
       "      <td>0.787</td>\n",
       "      <td>0.788</td>\n",
       "      <td>0.788</td>\n",
       "      <td>0.790</td>\n",
       "      <td>0.792</td>\n",
       "      <td>0.795</td>\n",
       "    </tr>\n",
       "    <tr>\n",
       "      <th>2</th>\n",
       "      <td>91</td>\n",
       "      <td>Algeria</td>\n",
       "      <td>0.572</td>\n",
       "      <td>0.576</td>\n",
       "      <td>0.582</td>\n",
       "      <td>0.586</td>\n",
       "      <td>0.590</td>\n",
       "      <td>0.595</td>\n",
       "      <td>0.602</td>\n",
       "      <td>0.611</td>\n",
       "      <td>...</td>\n",
       "      <td>0.721</td>\n",
       "      <td>0.728</td>\n",
       "      <td>0.728</td>\n",
       "      <td>0.729</td>\n",
       "      <td>0.736</td>\n",
       "      <td>0.740</td>\n",
       "      <td>0.743</td>\n",
       "      <td>0.745</td>\n",
       "      <td>0.746</td>\n",
       "      <td>0.748</td>\n",
       "    </tr>\n",
       "    <tr>\n",
       "      <th>3</th>\n",
       "      <td>36</td>\n",
       "      <td>Andorra</td>\n",
       "      <td>..</td>\n",
       "      <td>..</td>\n",
       "      <td>..</td>\n",
       "      <td>..</td>\n",
       "      <td>..</td>\n",
       "      <td>..</td>\n",
       "      <td>..</td>\n",
       "      <td>..</td>\n",
       "      <td>...</td>\n",
       "      <td>0.837</td>\n",
       "      <td>0.836</td>\n",
       "      <td>0.858</td>\n",
       "      <td>0.856</td>\n",
       "      <td>0.863</td>\n",
       "      <td>0.862</td>\n",
       "      <td>0.866</td>\n",
       "      <td>0.863</td>\n",
       "      <td>0.867</td>\n",
       "      <td>0.868</td>\n",
       "    </tr>\n",
       "    <tr>\n",
       "      <th>4</th>\n",
       "      <td>148</td>\n",
       "      <td>Angola</td>\n",
       "      <td>..</td>\n",
       "      <td>..</td>\n",
       "      <td>..</td>\n",
       "      <td>..</td>\n",
       "      <td>..</td>\n",
       "      <td>..</td>\n",
       "      <td>..</td>\n",
       "      <td>..</td>\n",
       "      <td>...</td>\n",
       "      <td>0.517</td>\n",
       "      <td>0.533</td>\n",
       "      <td>0.544</td>\n",
       "      <td>0.555</td>\n",
       "      <td>0.565</td>\n",
       "      <td>0.572</td>\n",
       "      <td>0.578</td>\n",
       "      <td>0.582</td>\n",
       "      <td>0.582</td>\n",
       "      <td>0.581</td>\n",
       "    </tr>\n",
       "  </tbody>\n",
       "</table>\n",
       "<p>5 rows × 32 columns</p>\n",
       "</div>"
      ],
      "text/plain": [
       "  HDI Rank       Country   1990   1991   1992   1993   1994   1995   1996  \\\n",
       "0      169   Afghanistan  0.302  0.307  0.316  0.312  0.307  0.331  0.335   \n",
       "1       69       Albania  0.650  0.631  0.615  0.618  0.624  0.637  0.646   \n",
       "2       91       Algeria  0.572  0.576  0.582  0.586  0.590  0.595  0.602   \n",
       "3       36       Andorra     ..     ..     ..     ..     ..     ..     ..   \n",
       "4      148        Angola     ..     ..     ..     ..     ..     ..     ..   \n",
       "\n",
       "    1997  ...   2010   2011   2012   2013   2014   2015   2016   2017   2018  \\\n",
       "0  0.339  ...  0.472  0.477  0.489  0.496  0.500  0.500  0.502  0.506  0.509   \n",
       "1  0.645  ...  0.745  0.764  0.775  0.782  0.787  0.788  0.788  0.790  0.792   \n",
       "2  0.611  ...  0.721  0.728  0.728  0.729  0.736  0.740  0.743  0.745  0.746   \n",
       "3     ..  ...  0.837  0.836  0.858  0.856  0.863  0.862  0.866  0.863  0.867   \n",
       "4     ..  ...  0.517  0.533  0.544  0.555  0.565  0.572  0.578  0.582  0.582   \n",
       "\n",
       "    2019  \n",
       "0  0.511  \n",
       "1  0.795  \n",
       "2  0.748  \n",
       "3  0.868  \n",
       "4  0.581  \n",
       "\n",
       "[5 rows x 32 columns]"
      ]
     },
     "execution_count": 92,
     "metadata": {},
     "output_type": "execute_result"
    }
   ],
   "source": [
    "HDI.head()"
   ]
  },
  {
   "cell_type": "code",
   "execution_count": 93,
   "metadata": {
    "ExecuteTime": {
     "end_time": "2021-02-22T08:59:20.642024Z",
     "start_time": "2021-02-22T08:59:20.608326Z"
    }
   },
   "outputs": [],
   "source": [
    "IHDI = pd.read_csv('/Users/lasayin/Desktop/Springboard/GitHub/Springboard_DS_Capstone2/RawData/AdditionalData/Inequality-adjusted HDI (IHDI).csv', encoding = \"ISO-8859-1\")"
   ]
  },
  {
   "cell_type": "code",
   "execution_count": 94,
   "metadata": {
    "ExecuteTime": {
     "end_time": "2021-02-22T08:59:29.247456Z",
     "start_time": "2021-02-22T08:59:29.241270Z"
    }
   },
   "outputs": [],
   "source": [
    "IHDI = IHDI.loc[:, ~IHDI.columns.str.match('Unnamed')]"
   ]
  },
  {
   "cell_type": "code",
   "execution_count": 95,
   "metadata": {
    "ExecuteTime": {
     "end_time": "2021-02-22T08:59:37.632669Z",
     "start_time": "2021-02-22T08:59:37.618374Z"
    }
   },
   "outputs": [
    {
     "name": "stdout",
     "output_type": "stream",
     "text": [
      "<class 'pandas.core.frame.DataFrame'>\n",
      "RangeIndex: 207 entries, 0 to 206\n",
      "Data columns (total 12 columns):\n",
      " #   Column    Non-Null Count  Dtype \n",
      "---  ------    --------------  ----- \n",
      " 0   HDI Rank  204 non-null    object\n",
      " 1   Country   206 non-null    object\n",
      " 2   2010      204 non-null    object\n",
      " 3   2011      206 non-null    object\n",
      " 4   2012      206 non-null    object\n",
      " 5   2013      206 non-null    object\n",
      " 6   2014      206 non-null    object\n",
      " 7   2015      206 non-null    object\n",
      " 8   2016      206 non-null    object\n",
      " 9   2017      206 non-null    object\n",
      " 10  2018      206 non-null    object\n",
      " 11  2019      206 non-null    object\n",
      "dtypes: object(12)\n",
      "memory usage: 19.5+ KB\n"
     ]
    }
   ],
   "source": [
    "IHDI.info()"
   ]
  },
  {
   "cell_type": "code",
   "execution_count": 96,
   "metadata": {
    "ExecuteTime": {
     "end_time": "2021-02-22T08:59:46.199514Z",
     "start_time": "2021-02-22T08:59:46.173854Z"
    }
   },
   "outputs": [
    {
     "data": {
      "text/html": [
       "<div>\n",
       "<style scoped>\n",
       "    .dataframe tbody tr th:only-of-type {\n",
       "        vertical-align: middle;\n",
       "    }\n",
       "\n",
       "    .dataframe tbody tr th {\n",
       "        vertical-align: top;\n",
       "    }\n",
       "\n",
       "    .dataframe thead th {\n",
       "        text-align: right;\n",
       "    }\n",
       "</style>\n",
       "<table border=\"1\" class=\"dataframe\">\n",
       "  <thead>\n",
       "    <tr style=\"text-align: right;\">\n",
       "      <th></th>\n",
       "      <th>HDI Rank</th>\n",
       "      <th>Country</th>\n",
       "      <th>2010</th>\n",
       "      <th>2011</th>\n",
       "      <th>2012</th>\n",
       "      <th>2013</th>\n",
       "      <th>2014</th>\n",
       "      <th>2015</th>\n",
       "      <th>2016</th>\n",
       "      <th>2017</th>\n",
       "      <th>2018</th>\n",
       "      <th>2019</th>\n",
       "    </tr>\n",
       "  </thead>\n",
       "  <tbody>\n",
       "    <tr>\n",
       "      <th>0</th>\n",
       "      <td>169</td>\n",
       "      <td>Afghanistan</td>\n",
       "      <td>..</td>\n",
       "      <td>..</td>\n",
       "      <td>..</td>\n",
       "      <td>0.340</td>\n",
       "      <td>0.343</td>\n",
       "      <td>0.341</td>\n",
       "      <td>0.353</td>\n",
       "      <td>0.356</td>\n",
       "      <td>..</td>\n",
       "      <td>..</td>\n",
       "    </tr>\n",
       "    <tr>\n",
       "      <th>1</th>\n",
       "      <td>69</td>\n",
       "      <td>Albania</td>\n",
       "      <td>0.650</td>\n",
       "      <td>0.658</td>\n",
       "      <td>0.668</td>\n",
       "      <td>0.677</td>\n",
       "      <td>0.681</td>\n",
       "      <td>0.682</td>\n",
       "      <td>0.691</td>\n",
       "      <td>0.711</td>\n",
       "      <td>0.705</td>\n",
       "      <td>0.708</td>\n",
       "    </tr>\n",
       "    <tr>\n",
       "      <th>2</th>\n",
       "      <td>91</td>\n",
       "      <td>Algeria</td>\n",
       "      <td>..</td>\n",
       "      <td>..</td>\n",
       "      <td>..</td>\n",
       "      <td>..</td>\n",
       "      <td>..</td>\n",
       "      <td>..</td>\n",
       "      <td>..</td>\n",
       "      <td>0.591</td>\n",
       "      <td>0.594</td>\n",
       "      <td>0.596</td>\n",
       "    </tr>\n",
       "    <tr>\n",
       "      <th>3</th>\n",
       "      <td>148</td>\n",
       "      <td>Angola</td>\n",
       "      <td>0.311</td>\n",
       "      <td>..</td>\n",
       "      <td>0.305</td>\n",
       "      <td>0.311</td>\n",
       "      <td>0.356</td>\n",
       "      <td>0.361</td>\n",
       "      <td>0.391</td>\n",
       "      <td>0.394</td>\n",
       "      <td>0.397</td>\n",
       "      <td>0.397</td>\n",
       "    </tr>\n",
       "    <tr>\n",
       "      <th>4</th>\n",
       "      <td>46</td>\n",
       "      <td>Argentina</td>\n",
       "      <td>0.666</td>\n",
       "      <td>0.671</td>\n",
       "      <td>0.671</td>\n",
       "      <td>0.703</td>\n",
       "      <td>0.711</td>\n",
       "      <td>0.708</td>\n",
       "      <td>0.717</td>\n",
       "      <td>0.723</td>\n",
       "      <td>0.724</td>\n",
       "      <td>0.729</td>\n",
       "    </tr>\n",
       "  </tbody>\n",
       "</table>\n",
       "</div>"
      ],
      "text/plain": [
       "  HDI Rank       Country   2010   2011   2012   2013   2014   2015   2016  \\\n",
       "0      169   Afghanistan     ..     ..     ..  0.340  0.343  0.341  0.353   \n",
       "1       69       Albania  0.650  0.658  0.668  0.677  0.681  0.682  0.691   \n",
       "2       91       Algeria     ..     ..     ..     ..     ..     ..     ..   \n",
       "3      148        Angola  0.311     ..  0.305  0.311  0.356  0.361  0.391   \n",
       "4       46     Argentina  0.666  0.671  0.671  0.703  0.711  0.708  0.717   \n",
       "\n",
       "    2017   2018   2019  \n",
       "0  0.356     ..     ..  \n",
       "1  0.711  0.705  0.708  \n",
       "2  0.591  0.594  0.596  \n",
       "3  0.394  0.397  0.397  \n",
       "4  0.723  0.724  0.729  "
      ]
     },
     "execution_count": 96,
     "metadata": {},
     "output_type": "execute_result"
    }
   ],
   "source": [
    "IHDI.head()"
   ]
  }
 ],
 "metadata": {
  "hide_input": false,
  "kernelspec": {
   "display_name": "Python 3",
   "language": "python",
   "name": "python3"
  },
  "language_info": {
   "codemirror_mode": {
    "name": "ipython",
    "version": 3
   },
   "file_extension": ".py",
   "mimetype": "text/x-python",
   "name": "python",
   "nbconvert_exporter": "python",
   "pygments_lexer": "ipython3",
   "version": "3.8.3"
  },
  "toc": {
   "base_numbering": 1,
   "nav_menu": {},
   "number_sections": true,
   "sideBar": true,
   "skip_h1_title": true,
   "title_cell": "Table of Contents",
   "title_sidebar": "Contents",
   "toc_cell": false,
   "toc_position": {},
   "toc_section_display": true,
   "toc_window_display": false
  },
  "varInspector": {
   "cols": {
    "lenName": 16,
    "lenType": 16,
    "lenVar": 40
   },
   "kernels_config": {
    "python": {
     "delete_cmd_postfix": "",
     "delete_cmd_prefix": "del ",
     "library": "var_list.py",
     "varRefreshCmd": "print(var_dic_list())"
    },
    "r": {
     "delete_cmd_postfix": ") ",
     "delete_cmd_prefix": "rm(",
     "library": "var_list.r",
     "varRefreshCmd": "cat(var_dic_list()) "
    }
   },
   "types_to_exclude": [
    "module",
    "function",
    "builtin_function_or_method",
    "instance",
    "_Feature"
   ],
   "window_display": false
  }
 },
 "nbformat": 4,
 "nbformat_minor": 4
}
