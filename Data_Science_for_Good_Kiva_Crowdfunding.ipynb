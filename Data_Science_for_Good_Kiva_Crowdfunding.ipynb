{
 "cells": [
  {
   "cell_type": "markdown",
   "metadata": {},
   "source": [
    "## Problem Statement_[Data Science for Good: Kiva Crowdfunding](https://www.kaggle.com/kiva/data-science-for-good-kiva-crowdfunding)\n",
    "Kiva.org is an online crowdfunding platform to extend financial services to poor and financially excluded people around the world. For the locations in which Kiva has active loans, your objective is to pair Kiva's data with additional data sources to estimate the welfare level of borrowers in specific regions, based on shared economic and demographic characteristics.\n",
    "\n",
    "A good solution would connect the features of each loan or product to one of several poverty mapping datasets, which indicate the average level of welfare in a region on as granular a level as possible. Many datasets indicate the poverty rate in a given area, with varying levels of granularity. Kiva would like to be able to disaggregate these regional averages by gender, sector, or borrowing behavior in order to estimate a Kiva borrower’s level of welfare using all of the relevant information about them. Strong submissions will attempt to map vaguely described locations to more accurate geocodes.\n",
    "\n",
    "Kernels submitted will be evaluated based on the following criteria:\n",
    "\n",
    "1. Localization - How well does a submission account for highly localized borrower situations? Leveraging a variety of external datasets and successfully building them into a single submission will be crucial.\n",
    "\n",
    "2. Execution - Submissions should be efficiently built and clearly explained so that Kiva’s team can readily employ them in their impact calculations.\n",
    "\n",
    "3. Ingenuity - While there are many best practices to learn from in the field, there is no one way of using data to assess welfare levels. It’s a challenging, nuanced field and participants should experiment with new methods and diverse datasets."
   ]
  },
  {
   "cell_type": "code",
   "execution_count": 2,
   "metadata": {
    "ExecuteTime": {
     "end_time": "2021-02-24T05:40:22.718662Z",
     "start_time": "2021-02-24T05:40:21.356617Z"
    }
   },
   "outputs": [],
   "source": [
    "import pandas as pd\n",
    "import numpy as np\n",
    "import matplotlib.pyplot as plt\n",
    "from datetime import datetime as dt"
   ]
  },
  {
   "cell_type": "markdown",
   "metadata": {},
   "source": [
    "## Original Data From Kaggle"
   ]
  },
  {
   "cell_type": "markdown",
   "metadata": {},
   "source": [
    "### The loans"
   ]
  },
  {
   "cell_type": "code",
   "execution_count": 29,
   "metadata": {
    "ExecuteTime": {
     "end_time": "2021-02-24T06:10:16.931679Z",
     "start_time": "2021-02-24T06:10:10.346258Z"
    }
   },
   "outputs": [],
   "source": [
    "loans = pd.read_csv('/Users/lasayin/Desktop/Springboard/GitHub/Springboard_DS_Capstone2/RawData/KivaData/kiva_loans.csv')"
   ]
  },
  {
   "cell_type": "code",
   "execution_count": 3,
   "metadata": {
    "ExecuteTime": {
     "end_time": "2021-02-23T03:16:36.513746Z",
     "start_time": "2021-02-23T03:16:35.868439Z"
    }
   },
   "outputs": [
    {
     "name": "stdout",
     "output_type": "stream",
     "text": [
      "<class 'pandas.core.frame.DataFrame'>\n",
      "RangeIndex: 671205 entries, 0 to 671204\n",
      "Data columns (total 20 columns):\n",
      " #   Column              Non-Null Count   Dtype  \n",
      "---  ------              --------------   -----  \n",
      " 0   id                  671205 non-null  int64  \n",
      " 1   funded_amount       671205 non-null  float64\n",
      " 2   loan_amount         671205 non-null  float64\n",
      " 3   activity            671205 non-null  object \n",
      " 4   sector              671205 non-null  object \n",
      " 5   use                 666973 non-null  object \n",
      " 6   country_code        671197 non-null  object \n",
      " 7   country             671205 non-null  object \n",
      " 8   region              614405 non-null  object \n",
      " 9   currency            671205 non-null  object \n",
      " 10  partner_id          657698 non-null  float64\n",
      " 11  posted_time         671205 non-null  object \n",
      " 12  disbursed_time      668809 non-null  object \n",
      " 13  funded_time         622874 non-null  object \n",
      " 14  term_in_months      671205 non-null  float64\n",
      " 15  lender_count        671205 non-null  int64  \n",
      " 16  tags                499789 non-null  object \n",
      " 17  borrower_genders    666984 non-null  object \n",
      " 18  repayment_interval  671205 non-null  object \n",
      " 19  date                671205 non-null  object \n",
      "dtypes: float64(4), int64(2), object(14)\n",
      "memory usage: 102.4+ MB\n"
     ]
    }
   ],
   "source": [
    "loans.info()"
   ]
  },
  {
   "cell_type": "code",
   "execution_count": 4,
   "metadata": {
    "ExecuteTime": {
     "end_time": "2021-02-23T03:16:36.653032Z",
     "start_time": "2021-02-23T03:16:36.581102Z"
    }
   },
   "outputs": [
    {
     "data": {
      "text/html": [
       "<div>\n",
       "<style scoped>\n",
       "    .dataframe tbody tr th:only-of-type {\n",
       "        vertical-align: middle;\n",
       "    }\n",
       "\n",
       "    .dataframe tbody tr th {\n",
       "        vertical-align: top;\n",
       "    }\n",
       "\n",
       "    .dataframe thead th {\n",
       "        text-align: right;\n",
       "    }\n",
       "</style>\n",
       "<table border=\"1\" class=\"dataframe\">\n",
       "  <thead>\n",
       "    <tr style=\"text-align: right;\">\n",
       "      <th></th>\n",
       "      <th>id</th>\n",
       "      <th>funded_amount</th>\n",
       "      <th>loan_amount</th>\n",
       "      <th>activity</th>\n",
       "      <th>sector</th>\n",
       "      <th>use</th>\n",
       "      <th>country_code</th>\n",
       "      <th>country</th>\n",
       "      <th>region</th>\n",
       "      <th>currency</th>\n",
       "      <th>partner_id</th>\n",
       "      <th>posted_time</th>\n",
       "      <th>disbursed_time</th>\n",
       "      <th>funded_time</th>\n",
       "      <th>term_in_months</th>\n",
       "      <th>lender_count</th>\n",
       "      <th>tags</th>\n",
       "      <th>borrower_genders</th>\n",
       "      <th>repayment_interval</th>\n",
       "      <th>date</th>\n",
       "    </tr>\n",
       "  </thead>\n",
       "  <tbody>\n",
       "    <tr>\n",
       "      <th>0</th>\n",
       "      <td>653051</td>\n",
       "      <td>300.0</td>\n",
       "      <td>300.0</td>\n",
       "      <td>Fruits &amp; Vegetables</td>\n",
       "      <td>Food</td>\n",
       "      <td>To buy seasonal, fresh fruits to sell.</td>\n",
       "      <td>PK</td>\n",
       "      <td>Pakistan</td>\n",
       "      <td>Lahore</td>\n",
       "      <td>PKR</td>\n",
       "      <td>247.0</td>\n",
       "      <td>2014-01-01 06:12:39+00:00</td>\n",
       "      <td>2013-12-17 08:00:00+00:00</td>\n",
       "      <td>2014-01-02 10:06:32+00:00</td>\n",
       "      <td>12.0</td>\n",
       "      <td>12</td>\n",
       "      <td>NaN</td>\n",
       "      <td>female</td>\n",
       "      <td>irregular</td>\n",
       "      <td>2014-01-01</td>\n",
       "    </tr>\n",
       "    <tr>\n",
       "      <th>1</th>\n",
       "      <td>653053</td>\n",
       "      <td>575.0</td>\n",
       "      <td>575.0</td>\n",
       "      <td>Rickshaw</td>\n",
       "      <td>Transportation</td>\n",
       "      <td>to repair and maintain the auto rickshaw used ...</td>\n",
       "      <td>PK</td>\n",
       "      <td>Pakistan</td>\n",
       "      <td>Lahore</td>\n",
       "      <td>PKR</td>\n",
       "      <td>247.0</td>\n",
       "      <td>2014-01-01 06:51:08+00:00</td>\n",
       "      <td>2013-12-17 08:00:00+00:00</td>\n",
       "      <td>2014-01-02 09:17:23+00:00</td>\n",
       "      <td>11.0</td>\n",
       "      <td>14</td>\n",
       "      <td>NaN</td>\n",
       "      <td>female, female</td>\n",
       "      <td>irregular</td>\n",
       "      <td>2014-01-01</td>\n",
       "    </tr>\n",
       "    <tr>\n",
       "      <th>2</th>\n",
       "      <td>653068</td>\n",
       "      <td>150.0</td>\n",
       "      <td>150.0</td>\n",
       "      <td>Transportation</td>\n",
       "      <td>Transportation</td>\n",
       "      <td>To repair their old cycle-van and buy another ...</td>\n",
       "      <td>IN</td>\n",
       "      <td>India</td>\n",
       "      <td>Maynaguri</td>\n",
       "      <td>INR</td>\n",
       "      <td>334.0</td>\n",
       "      <td>2014-01-01 09:58:07+00:00</td>\n",
       "      <td>2013-12-17 08:00:00+00:00</td>\n",
       "      <td>2014-01-01 16:01:36+00:00</td>\n",
       "      <td>43.0</td>\n",
       "      <td>6</td>\n",
       "      <td>user_favorite, user_favorite</td>\n",
       "      <td>female</td>\n",
       "      <td>bullet</td>\n",
       "      <td>2014-01-01</td>\n",
       "    </tr>\n",
       "  </tbody>\n",
       "</table>\n",
       "</div>"
      ],
      "text/plain": [
       "       id  funded_amount  loan_amount             activity          sector  \\\n",
       "0  653051          300.0        300.0  Fruits & Vegetables            Food   \n",
       "1  653053          575.0        575.0             Rickshaw  Transportation   \n",
       "2  653068          150.0        150.0       Transportation  Transportation   \n",
       "\n",
       "                                                 use country_code   country  \\\n",
       "0            To buy seasonal, fresh fruits to sell.            PK  Pakistan   \n",
       "1  to repair and maintain the auto rickshaw used ...           PK  Pakistan   \n",
       "2  To repair their old cycle-van and buy another ...           IN     India   \n",
       "\n",
       "      region currency  partner_id                posted_time  \\\n",
       "0     Lahore      PKR       247.0  2014-01-01 06:12:39+00:00   \n",
       "1     Lahore      PKR       247.0  2014-01-01 06:51:08+00:00   \n",
       "2  Maynaguri      INR       334.0  2014-01-01 09:58:07+00:00   \n",
       "\n",
       "              disbursed_time                funded_time  term_in_months  \\\n",
       "0  2013-12-17 08:00:00+00:00  2014-01-02 10:06:32+00:00            12.0   \n",
       "1  2013-12-17 08:00:00+00:00  2014-01-02 09:17:23+00:00            11.0   \n",
       "2  2013-12-17 08:00:00+00:00  2014-01-01 16:01:36+00:00            43.0   \n",
       "\n",
       "   lender_count                          tags borrower_genders  \\\n",
       "0            12                           NaN           female   \n",
       "1            14                           NaN   female, female   \n",
       "2             6  user_favorite, user_favorite           female   \n",
       "\n",
       "  repayment_interval        date  \n",
       "0          irregular  2014-01-01  \n",
       "1          irregular  2014-01-01  \n",
       "2             bullet  2014-01-01  "
      ]
     },
     "execution_count": 4,
     "metadata": {},
     "output_type": "execute_result"
    }
   ],
   "source": [
    "loans.head(3)"
   ]
  },
  {
   "cell_type": "code",
   "execution_count": 75,
   "metadata": {
    "ExecuteTime": {
     "end_time": "2021-02-23T06:16:44.735801Z",
     "start_time": "2021-02-23T06:16:43.705385Z"
    }
   },
   "outputs": [
    {
     "data": {
      "text/html": [
       "<div>\n",
       "<style scoped>\n",
       "    .dataframe tbody tr th:only-of-type {\n",
       "        vertical-align: middle;\n",
       "    }\n",
       "\n",
       "    .dataframe tbody tr th {\n",
       "        vertical-align: top;\n",
       "    }\n",
       "\n",
       "    .dataframe thead th {\n",
       "        text-align: right;\n",
       "    }\n",
       "</style>\n",
       "<table border=\"1\" class=\"dataframe\">\n",
       "  <thead>\n",
       "    <tr style=\"text-align: right;\">\n",
       "      <th></th>\n",
       "      <th>Column Name</th>\n",
       "      <th>Missings</th>\n",
       "      <th>Missing_pct</th>\n",
       "    </tr>\n",
       "  </thead>\n",
       "  <tbody>\n",
       "    <tr>\n",
       "      <th>0</th>\n",
       "      <td>tags</td>\n",
       "      <td>171416</td>\n",
       "      <td>0.26</td>\n",
       "    </tr>\n",
       "    <tr>\n",
       "      <th>1</th>\n",
       "      <td>region</td>\n",
       "      <td>56800</td>\n",
       "      <td>0.08</td>\n",
       "    </tr>\n",
       "    <tr>\n",
       "      <th>2</th>\n",
       "      <td>funded_time</td>\n",
       "      <td>48331</td>\n",
       "      <td>0.07</td>\n",
       "    </tr>\n",
       "    <tr>\n",
       "      <th>3</th>\n",
       "      <td>partner_id</td>\n",
       "      <td>13507</td>\n",
       "      <td>0.02</td>\n",
       "    </tr>\n",
       "    <tr>\n",
       "      <th>4</th>\n",
       "      <td>use</td>\n",
       "      <td>4232</td>\n",
       "      <td>0.01</td>\n",
       "    </tr>\n",
       "    <tr>\n",
       "      <th>5</th>\n",
       "      <td>borrower_genders</td>\n",
       "      <td>4221</td>\n",
       "      <td>0.01</td>\n",
       "    </tr>\n",
       "    <tr>\n",
       "      <th>6</th>\n",
       "      <td>disbursed_time</td>\n",
       "      <td>2396</td>\n",
       "      <td>0.00</td>\n",
       "    </tr>\n",
       "  </tbody>\n",
       "</table>\n",
       "</div>"
      ],
      "text/plain": [
       "        Column Name  Missings  Missing_pct\n",
       "0              tags    171416         0.26\n",
       "1            region     56800         0.08\n",
       "2       funded_time     48331         0.07\n",
       "3        partner_id     13507         0.02\n",
       "4               use      4232         0.01\n",
       "5  borrower_genders      4221         0.01\n",
       "6    disbursed_time      2396         0.00"
      ]
     },
     "execution_count": 75,
     "metadata": {},
     "output_type": "execute_result"
    }
   ],
   "source": [
    "# Check missing values\n",
    "def missing_vals(data_):\n",
    "    miss_     = data_.isnull().sum()\n",
    "    miss_pct  = data_.isnull().sum()/data_.shape[0]\n",
    "    \n",
    "    miss_pct  = pd.concat([miss_, miss_pct], axis =1)\n",
    "    miss_pct.reset_index(inplace=True)\n",
    "    miss_cols = miss_pct.rename(columns={'index':'Column Name', 0:'Missings', 1:'Missing_pct'})\n",
    "    \n",
    "    miss_cols = miss_cols[miss_cols.iloc[:,1]!=0].sort_values('Missing_pct', ascending=False).round(2)\n",
    "    miss_cols.reset_index(inplace=True, drop=True)\n",
    "    \n",
    "    return miss_cols\n",
    "\n",
    "miss = missing_vals(loans)\n",
    "miss"
   ]
  },
  {
   "cell_type": "markdown",
   "metadata": {},
   "source": [
    "The dataset seems clean except the top three factors:\n",
    "* `tags` provide some interesting information about the special loans such as 'user favorite', 'women-owned business', and so on. **It will be kept temporally just in case.**\n",
    "* `rigion` is very important for localization, so **the missing values must be handled carefully**.\n",
    "* `funded-time` is the time at which the loan posted to Kiva gets funded by lenders completely. The missing values can be explained in different ways. For example, the loans without being funded completely might because the loans' types or the loans' themes were not attractive to lenders, or just because the fund-raising had not ended before the last date of the dataset.   **It will be kept temporally just in case.**"
   ]
  },
  {
   "cell_type": "markdown",
   "metadata": {},
   "source": [
    "#### `funded_amout` v.s. `the loan_amout`\n",
    "\n",
    "* `funded_amount`: The amount disbursed by Kiva to the field agent(USD) \n",
    "\n",
    "* `loan_amount`: The amount disbursed by the field agent to the borrower(USD)  "
   ]
  },
  {
   "cell_type": "code",
   "execution_count": 5,
   "metadata": {
    "ExecuteTime": {
     "end_time": "2021-02-22T09:17:39.958748Z",
     "start_time": "2021-02-22T09:17:39.938407Z"
    }
   },
   "outputs": [
    {
     "data": {
      "text/plain": [
       "True     622875\n",
       "False     48330\n",
       "dtype: int64"
      ]
     },
     "execution_count": 5,
     "metadata": {},
     "output_type": "execute_result"
    }
   ],
   "source": [
    "(loans.funded_amount == loans.loan_amount).value_counts()"
   ]
  },
  {
   "cell_type": "code",
   "execution_count": 6,
   "metadata": {
    "ExecuteTime": {
     "end_time": "2021-02-23T03:17:56.509245Z",
     "start_time": "2021-02-23T03:17:56.491548Z"
    }
   },
   "outputs": [
    {
     "data": {
      "text/plain": [
       "0.07200482713924956"
      ]
     },
     "execution_count": 6,
     "metadata": {},
     "output_type": "execute_result"
    }
   ],
   "source": [
    "48330/ (622875 + 48330)"
   ]
  },
  {
   "cell_type": "code",
   "execution_count": 5,
   "metadata": {
    "ExecuteTime": {
     "end_time": "2021-02-23T03:16:58.410970Z",
     "start_time": "2021-02-23T03:16:58.401709Z"
    }
   },
   "outputs": [
    {
     "data": {
      "text/plain": [
       "48328"
      ]
     },
     "execution_count": 5,
     "metadata": {},
     "output_type": "execute_result"
    }
   ],
   "source": [
    "(loans.funded_amount < loans.loan_amount).sum()"
   ]
  },
  {
   "cell_type": "markdown",
   "metadata": {},
   "source": [
    "About 7% of the loans had not gotten enough funds"
   ]
  },
  {
   "cell_type": "markdown",
   "metadata": {},
   "source": [
    "#### `sector` ,  `activity`, and `use`\n",
    "* `sector`: High level category \n",
    "* `activity`: More granular category \n",
    "\n",
    "* `use`: Describe the exact usage of the loans. **(Drop)**"
   ]
  },
  {
   "cell_type": "code",
   "execution_count": 10,
   "metadata": {
    "ExecuteTime": {
     "end_time": "2021-02-22T09:17:40.277215Z",
     "start_time": "2021-02-22T09:17:40.167885Z"
    }
   },
   "outputs": [
    {
     "data": {
      "text/plain": [
       "Agriculture       180302\n",
       "Food              136657\n",
       "Retail            124494\n",
       "Services           45140\n",
       "Personal Use       36385\n",
       "Housing            33731\n",
       "Clothing           32742\n",
       "Education          31013\n",
       "Transportation     15518\n",
       "Arts               12060\n",
       "Health              9223\n",
       "Construction        6268\n",
       "Manufacturing       6208\n",
       "Entertainment        830\n",
       "Wholesale            634\n",
       "Name: sector, dtype: int64"
      ]
     },
     "execution_count": 10,
     "metadata": {},
     "output_type": "execute_result"
    }
   ],
   "source": [
    "loans.sector.value_counts()"
   ]
  },
  {
   "cell_type": "markdown",
   "metadata": {},
   "source": [
    "The main sectors are Agriculture, Food and Retail"
   ]
  },
  {
   "cell_type": "markdown",
   "metadata": {},
   "source": [
    "#### `country_code`, `country` and  `region`\n",
    "* `country_code`: ISO country code of country in which loan was disbursed\n",
    "\n",
    "* `country`: Full country name of country in which loan was disbursed\n",
    "\n",
    "* `region`: Full region name within the country"
   ]
  },
  {
   "cell_type": "markdown",
   "metadata": {},
   "source": [
    "Two issues of the country_code:\n",
    "* There are 8 missing values\n",
    "* In the `loans` dataset, the type of country_code is ISO 3166-1 alpha-2 code, which is a two-letter code representing countries. However, in the `mpi_region_locations` and `loan_themes_by_region` datasets, the type of ISO is ISO 3166-1 alpha-3 code with three-letter."
   ]
  },
  {
   "cell_type": "markdown",
   "metadata": {},
   "source": [
    "The three datasets mentioned above can be aligned on country name or country code. I will keep country code temporally just in case there are some non-matching of the country names in the different datasets, such as spelling, upper case and lower case, space, and so on. \n",
    "\n",
    "So here, I will handle the missing values and convert the two-letter country code to three-letter country code to be consistent with the other datasets."
   ]
  },
  {
   "cell_type": "code",
   "execution_count": 30,
   "metadata": {
    "ExecuteTime": {
     "end_time": "2021-02-23T04:39:53.669867Z",
     "start_time": "2021-02-23T04:39:53.631693Z"
    }
   },
   "outputs": [
    {
     "data": {
      "text/plain": [
       "8"
      ]
     },
     "execution_count": 30,
     "metadata": {},
     "output_type": "execute_result"
    }
   ],
   "source": [
    "loans.country_code.isnull().sum()"
   ]
  },
  {
   "cell_type": "code",
   "execution_count": 31,
   "metadata": {
    "ExecuteTime": {
     "end_time": "2021-02-23T04:39:56.165432Z",
     "start_time": "2021-02-23T04:39:56.120764Z"
    }
   },
   "outputs": [
    {
     "data": {
      "text/html": [
       "<div>\n",
       "<style scoped>\n",
       "    .dataframe tbody tr th:only-of-type {\n",
       "        vertical-align: middle;\n",
       "    }\n",
       "\n",
       "    .dataframe tbody tr th {\n",
       "        vertical-align: top;\n",
       "    }\n",
       "\n",
       "    .dataframe thead th {\n",
       "        text-align: right;\n",
       "    }\n",
       "</style>\n",
       "<table border=\"1\" class=\"dataframe\">\n",
       "  <thead>\n",
       "    <tr style=\"text-align: right;\">\n",
       "      <th></th>\n",
       "      <th>country</th>\n",
       "    </tr>\n",
       "  </thead>\n",
       "  <tbody>\n",
       "    <tr>\n",
       "      <th>202537</th>\n",
       "      <td>Namibia</td>\n",
       "    </tr>\n",
       "    <tr>\n",
       "      <th>202823</th>\n",
       "      <td>Namibia</td>\n",
       "    </tr>\n",
       "    <tr>\n",
       "      <th>344929</th>\n",
       "      <td>Namibia</td>\n",
       "    </tr>\n",
       "    <tr>\n",
       "      <th>351177</th>\n",
       "      <td>Namibia</td>\n",
       "    </tr>\n",
       "    <tr>\n",
       "      <th>420953</th>\n",
       "      <td>Namibia</td>\n",
       "    </tr>\n",
       "    <tr>\n",
       "      <th>421218</th>\n",
       "      <td>Namibia</td>\n",
       "    </tr>\n",
       "    <tr>\n",
       "      <th>487207</th>\n",
       "      <td>Namibia</td>\n",
       "    </tr>\n",
       "    <tr>\n",
       "      <th>487653</th>\n",
       "      <td>Namibia</td>\n",
       "    </tr>\n",
       "  </tbody>\n",
       "</table>\n",
       "</div>"
      ],
      "text/plain": [
       "        country\n",
       "202537  Namibia\n",
       "202823  Namibia\n",
       "344929  Namibia\n",
       "351177  Namibia\n",
       "420953  Namibia\n",
       "421218  Namibia\n",
       "487207  Namibia\n",
       "487653  Namibia"
      ]
     },
     "execution_count": 31,
     "metadata": {},
     "output_type": "execute_result"
    }
   ],
   "source": [
    "loans[loans.country_code.isna()][['country']]"
   ]
  },
  {
   "cell_type": "markdown",
   "metadata": {},
   "source": [
    "All missing values of country_code come from Namibia whose ISO code is 'NA'([countrycode.org](https://countrycode.org/))"
   ]
  },
  {
   "cell_type": "code",
   "execution_count": 32,
   "metadata": {
    "ExecuteTime": {
     "end_time": "2021-02-23T04:40:04.852684Z",
     "start_time": "2021-02-23T04:40:04.804630Z"
    },
    "scrolled": true
   },
   "outputs": [],
   "source": [
    "# Fill null value with 'NA'\n",
    "loans.country_code.fillna('NA', inplace=True)"
   ]
  },
  {
   "cell_type": "code",
   "execution_count": 33,
   "metadata": {
    "ExecuteTime": {
     "end_time": "2021-02-23T04:40:06.341845Z",
     "start_time": "2021-02-23T04:40:06.301738Z"
    }
   },
   "outputs": [
    {
     "data": {
      "text/plain": [
       "0"
      ]
     },
     "execution_count": 33,
     "metadata": {},
     "output_type": "execute_result"
    }
   ],
   "source": [
    "loans.country_code.isnull().sum()"
   ]
  },
  {
   "cell_type": "markdown",
   "metadata": {},
   "source": [
    "Convert country code"
   ]
  },
  {
   "cell_type": "code",
   "execution_count": 34,
   "metadata": {
    "ExecuteTime": {
     "end_time": "2021-02-23T04:40:18.049910Z",
     "start_time": "2021-02-23T04:40:18.022474Z"
    }
   },
   "outputs": [],
   "source": [
    "ISO_country_code = pd.read_csv('/Users/lasayin/Desktop/Springboard/GitHub/Springboard_DS_Capstone2/RawData/AdditionalData/wikipedia-iso-country-codes.csv')"
   ]
  },
  {
   "cell_type": "code",
   "execution_count": 35,
   "metadata": {
    "ExecuteTime": {
     "end_time": "2021-02-23T04:40:21.316739Z",
     "start_time": "2021-02-23T04:40:21.309747Z"
    }
   },
   "outputs": [
    {
     "name": "stdout",
     "output_type": "stream",
     "text": [
      "<class 'pandas.core.frame.DataFrame'>\n",
      "RangeIndex: 246 entries, 0 to 245\n",
      "Data columns (total 5 columns):\n",
      " #   Column                         Non-Null Count  Dtype \n",
      "---  ------                         --------------  ----- \n",
      " 0   English short name lower case  246 non-null    object\n",
      " 1   Alpha-2 code                   245 non-null    object\n",
      " 2   Alpha-3 code                   246 non-null    object\n",
      " 3   Numeric code                   246 non-null    int64 \n",
      " 4   ISO 3166-2                     246 non-null    object\n",
      "dtypes: int64(1), object(4)\n",
      "memory usage: 9.7+ KB\n"
     ]
    }
   ],
   "source": [
    "ISO_country_code.info()"
   ]
  },
  {
   "cell_type": "code",
   "execution_count": 36,
   "metadata": {
    "ExecuteTime": {
     "end_time": "2021-02-23T04:40:22.515076Z",
     "start_time": "2021-02-23T04:40:22.489748Z"
    }
   },
   "outputs": [
    {
     "data": {
      "text/html": [
       "<div>\n",
       "<style scoped>\n",
       "    .dataframe tbody tr th:only-of-type {\n",
       "        vertical-align: middle;\n",
       "    }\n",
       "\n",
       "    .dataframe tbody tr th {\n",
       "        vertical-align: top;\n",
       "    }\n",
       "\n",
       "    .dataframe thead th {\n",
       "        text-align: right;\n",
       "    }\n",
       "</style>\n",
       "<table border=\"1\" class=\"dataframe\">\n",
       "  <thead>\n",
       "    <tr style=\"text-align: right;\">\n",
       "      <th></th>\n",
       "      <th>English short name lower case</th>\n",
       "      <th>Alpha-2 code</th>\n",
       "      <th>Alpha-3 code</th>\n",
       "      <th>Numeric code</th>\n",
       "      <th>ISO 3166-2</th>\n",
       "    </tr>\n",
       "  </thead>\n",
       "  <tbody>\n",
       "    <tr>\n",
       "      <th>0</th>\n",
       "      <td>Afghanistan</td>\n",
       "      <td>AF</td>\n",
       "      <td>AFG</td>\n",
       "      <td>4</td>\n",
       "      <td>ISO 3166-2:AF</td>\n",
       "    </tr>\n",
       "    <tr>\n",
       "      <th>1</th>\n",
       "      <td>Åland Islands</td>\n",
       "      <td>AX</td>\n",
       "      <td>ALA</td>\n",
       "      <td>248</td>\n",
       "      <td>ISO 3166-2:AX</td>\n",
       "    </tr>\n",
       "    <tr>\n",
       "      <th>2</th>\n",
       "      <td>Albania</td>\n",
       "      <td>AL</td>\n",
       "      <td>ALB</td>\n",
       "      <td>8</td>\n",
       "      <td>ISO 3166-2:AL</td>\n",
       "    </tr>\n",
       "    <tr>\n",
       "      <th>3</th>\n",
       "      <td>Algeria</td>\n",
       "      <td>DZ</td>\n",
       "      <td>DZA</td>\n",
       "      <td>12</td>\n",
       "      <td>ISO 3166-2:DZ</td>\n",
       "    </tr>\n",
       "    <tr>\n",
       "      <th>4</th>\n",
       "      <td>American Samoa</td>\n",
       "      <td>AS</td>\n",
       "      <td>ASM</td>\n",
       "      <td>16</td>\n",
       "      <td>ISO 3166-2:AS</td>\n",
       "    </tr>\n",
       "  </tbody>\n",
       "</table>\n",
       "</div>"
      ],
      "text/plain": [
       "  English short name lower case Alpha-2 code Alpha-3 code  Numeric code  \\\n",
       "0                   Afghanistan           AF          AFG             4   \n",
       "1                 Åland Islands           AX          ALA           248   \n",
       "2                       Albania           AL          ALB             8   \n",
       "3                       Algeria           DZ          DZA            12   \n",
       "4                American Samoa           AS          ASM            16   \n",
       "\n",
       "      ISO 3166-2  \n",
       "0  ISO 3166-2:AF  \n",
       "1  ISO 3166-2:AX  \n",
       "2  ISO 3166-2:AL  \n",
       "3  ISO 3166-2:DZ  \n",
       "4  ISO 3166-2:AS  "
      ]
     },
     "execution_count": 36,
     "metadata": {},
     "output_type": "execute_result"
    }
   ],
   "source": [
    "ISO_country_code.head()"
   ]
  },
  {
   "cell_type": "code",
   "execution_count": 37,
   "metadata": {
    "ExecuteTime": {
     "end_time": "2021-02-23T04:40:24.798001Z",
     "start_time": "2021-02-23T04:40:24.785503Z"
    }
   },
   "outputs": [
    {
     "data": {
      "text/html": [
       "<div>\n",
       "<style scoped>\n",
       "    .dataframe tbody tr th:only-of-type {\n",
       "        vertical-align: middle;\n",
       "    }\n",
       "\n",
       "    .dataframe tbody tr th {\n",
       "        vertical-align: top;\n",
       "    }\n",
       "\n",
       "    .dataframe thead th {\n",
       "        text-align: right;\n",
       "    }\n",
       "</style>\n",
       "<table border=\"1\" class=\"dataframe\">\n",
       "  <thead>\n",
       "    <tr style=\"text-align: right;\">\n",
       "      <th></th>\n",
       "      <th>country_code</th>\n",
       "      <th>ISO</th>\n",
       "    </tr>\n",
       "  </thead>\n",
       "  <tbody>\n",
       "    <tr>\n",
       "      <th>0</th>\n",
       "      <td>AF</td>\n",
       "      <td>AFG</td>\n",
       "    </tr>\n",
       "    <tr>\n",
       "      <th>1</th>\n",
       "      <td>AX</td>\n",
       "      <td>ALA</td>\n",
       "    </tr>\n",
       "    <tr>\n",
       "      <th>2</th>\n",
       "      <td>AL</td>\n",
       "      <td>ALB</td>\n",
       "    </tr>\n",
       "    <tr>\n",
       "      <th>3</th>\n",
       "      <td>DZ</td>\n",
       "      <td>DZA</td>\n",
       "    </tr>\n",
       "    <tr>\n",
       "      <th>4</th>\n",
       "      <td>AS</td>\n",
       "      <td>ASM</td>\n",
       "    </tr>\n",
       "  </tbody>\n",
       "</table>\n",
       "</div>"
      ],
      "text/plain": [
       "  country_code  ISO\n",
       "0           AF  AFG\n",
       "1           AX  ALA\n",
       "2           AL  ALB\n",
       "3           DZ  DZA\n",
       "4           AS  ASM"
      ]
     },
     "execution_count": 37,
     "metadata": {},
     "output_type": "execute_result"
    }
   ],
   "source": [
    "# Keep code columns only and rename\n",
    "ISO_2_3 = ISO_country_code.iloc[:, 1:3]\n",
    "ISO_2_3.rename({'Alpha-2 code':'country_code', 'Alpha-3 code':'ISO'}, axis=1, inplace=True)\n",
    "ISO_2_3.head()"
   ]
  },
  {
   "cell_type": "code",
   "execution_count": 78,
   "metadata": {
    "ExecuteTime": {
     "end_time": "2021-02-23T06:49:40.685780Z",
     "start_time": "2021-02-23T06:49:39.700889Z"
    }
   },
   "outputs": [],
   "source": [
    "loans_ISO_2_3 = pd.merge(loans, ISO_2_3, on=['country_code'], how='left')"
   ]
  },
  {
   "cell_type": "markdown",
   "metadata": {},
   "source": [
    "To check the result"
   ]
  },
  {
   "cell_type": "code",
   "execution_count": 79,
   "metadata": {
    "ExecuteTime": {
     "end_time": "2021-02-23T06:49:42.734734Z",
     "start_time": "2021-02-23T06:49:42.692428Z"
    }
   },
   "outputs": [
    {
     "data": {
      "text/plain": [
       "1587"
      ]
     },
     "execution_count": 79,
     "metadata": {},
     "output_type": "execute_result"
    }
   ],
   "source": [
    "loans_ISO_2_3.ISO.isnull().sum()"
   ]
  },
  {
   "cell_type": "code",
   "execution_count": 80,
   "metadata": {
    "ExecuteTime": {
     "end_time": "2021-02-23T06:49:44.649509Z",
     "start_time": "2021-02-23T06:49:44.251922Z"
    }
   },
   "outputs": [
    {
     "data": {
      "text/plain": [
       "array(['Kosovo', 'South Sudan', 'Namibia'], dtype=object)"
      ]
     },
     "execution_count": 80,
     "metadata": {},
     "output_type": "execute_result"
    }
   ],
   "source": [
    "loans_ISO_2_3[loans_ISO_2_3.ISO.isnull()]['country'].unique()"
   ]
  },
  {
   "cell_type": "markdown",
   "metadata": {},
   "source": [
    "According to [countrycode.org](https://countrycode.org/), the 3-letter ISO codes of Kosovo, South Sudan and Namibia are 'XKX, 'SSD' and 'NAM'， respectively."
   ]
  },
  {
   "cell_type": "code",
   "execution_count": 83,
   "metadata": {
    "ExecuteTime": {
     "end_time": "2021-02-23T06:52:20.707104Z",
     "start_time": "2021-02-23T06:52:20.492063Z"
    }
   },
   "outputs": [
    {
     "data": {
      "text/plain": [
       "0"
      ]
     },
     "execution_count": 83,
     "metadata": {},
     "output_type": "execute_result"
    }
   ],
   "source": [
    "# Fill Null values\n",
    "d = {'Kosovo': \"XKX\", 'South Sudan':'SSD', 'Namibia':'NAM'}\n",
    "s = loans_ISO_2_3.country.map(d)\n",
    "loans_ISO_2_3.ISO = loans_ISO_2_3.ISO.combine_first(s)\n",
    "\n",
    "# Check result\n",
    "loans_ISO_2_3.ISO.isnull().sum()"
   ]
  },
  {
   "cell_type": "markdown",
   "metadata": {},
   "source": [
    "* Check `region`"
   ]
  },
  {
   "cell_type": "code",
   "execution_count": 102,
   "metadata": {
    "ExecuteTime": {
     "end_time": "2021-02-23T07:27:48.182250Z",
     "start_time": "2021-02-23T07:27:48.141423Z"
    }
   },
   "outputs": [
    {
     "data": {
      "text/plain": [
       "56800"
      ]
     },
     "execution_count": 102,
     "metadata": {},
     "output_type": "execute_result"
    }
   ],
   "source": [
    "loans.region.isnull().sum()"
   ]
  },
  {
   "cell_type": "code",
   "execution_count": 103,
   "metadata": {
    "ExecuteTime": {
     "end_time": "2021-02-23T07:27:54.973629Z",
     "start_time": "2021-02-23T07:27:54.843656Z"
    }
   },
   "outputs": [
    {
     "data": {
      "text/plain": [
       "El Salvador      20251\n",
       "Kenya             8752\n",
       "Rwanda            6138\n",
       "United States     5173\n",
       "Senegal           3231\n",
       "                 ...  \n",
       "Georgia              1\n",
       "Chile                1\n",
       "Guam                 1\n",
       "Kyrgyzstan           1\n",
       "Bhutan               1\n",
       "Name: country, Length: 72, dtype: int64"
      ]
     },
     "execution_count": 103,
     "metadata": {},
     "output_type": "execute_result"
    }
   ],
   "source": [
    "loans[loans.region.isnull()]['country'].value_counts()"
   ]
  },
  {
   "cell_type": "code",
   "execution_count": 104,
   "metadata": {
    "ExecuteTime": {
     "end_time": "2021-02-23T07:27:59.479932Z",
     "start_time": "2021-02-23T07:27:59.414972Z"
    }
   },
   "outputs": [
    {
     "data": {
      "text/plain": [
       "39875"
      ]
     },
     "execution_count": 104,
     "metadata": {},
     "output_type": "execute_result"
    }
   ],
   "source": [
    "(loans.country=='El Salvador').sum()"
   ]
  },
  {
   "cell_type": "markdown",
   "metadata": {},
   "source": [
    "#### `curreny` and `partner_id` \n",
    "* `currency`: The currency in which the loan was disbursed **(Drop)**\n",
    "\n",
    "* `partner_id`: ID of partner organization **(Used to link other datasets, 2% missing values)**"
   ]
  },
  {
   "cell_type": "markdown",
   "metadata": {},
   "source": [
    "#### `posted_time`, `disbursed_time`, `funded_time` and `date`: timezone issue\n",
    "* `posted_time`: The time at which the loan is posted on Kiva by the field agent\n",
    "\n",
    "* `disbursed_time`: The time at which the loan is disbursed by the field agent to the borrower **(Drop)**\n",
    "\n",
    "* `funded_time`: The time at which the loan posted to Kiva gets funded by lenders completely **(Keep just in case)**\n",
    "\n",
    "* `date`: The same date as the date of `posted_time`**(Drop)**"
   ]
  },
  {
   "cell_type": "code",
   "execution_count": 94,
   "metadata": {
    "ExecuteTime": {
     "end_time": "2021-02-23T07:03:26.637983Z",
     "start_time": "2021-02-23T07:03:26.592374Z"
    }
   },
   "outputs": [],
   "source": [
    "times = loans[['posted_time', 'funded_time', 'date']]"
   ]
  },
  {
   "cell_type": "code",
   "execution_count": 95,
   "metadata": {
    "ExecuteTime": {
     "end_time": "2021-02-23T07:03:28.375479Z",
     "start_time": "2021-02-23T07:03:28.261674Z"
    }
   },
   "outputs": [
    {
     "name": "stdout",
     "output_type": "stream",
     "text": [
      "<class 'pandas.core.frame.DataFrame'>\n",
      "RangeIndex: 671205 entries, 0 to 671204\n",
      "Data columns (total 3 columns):\n",
      " #   Column       Non-Null Count   Dtype \n",
      "---  ------       --------------   ----- \n",
      " 0   posted_time  671205 non-null  object\n",
      " 1   funded_time  622874 non-null  object\n",
      " 2   date         671205 non-null  object\n",
      "dtypes: object(3)\n",
      "memory usage: 15.4+ MB\n"
     ]
    }
   ],
   "source": [
    "times.info()"
   ]
  },
  {
   "cell_type": "code",
   "execution_count": 96,
   "metadata": {
    "ExecuteTime": {
     "end_time": "2021-02-23T07:03:29.470236Z",
     "start_time": "2021-02-23T07:03:29.440820Z"
    }
   },
   "outputs": [
    {
     "data": {
      "text/html": [
       "<div>\n",
       "<style scoped>\n",
       "    .dataframe tbody tr th:only-of-type {\n",
       "        vertical-align: middle;\n",
       "    }\n",
       "\n",
       "    .dataframe tbody tr th {\n",
       "        vertical-align: top;\n",
       "    }\n",
       "\n",
       "    .dataframe thead th {\n",
       "        text-align: right;\n",
       "    }\n",
       "</style>\n",
       "<table border=\"1\" class=\"dataframe\">\n",
       "  <thead>\n",
       "    <tr style=\"text-align: right;\">\n",
       "      <th></th>\n",
       "      <th>posted_time</th>\n",
       "      <th>funded_time</th>\n",
       "      <th>date</th>\n",
       "    </tr>\n",
       "  </thead>\n",
       "  <tbody>\n",
       "    <tr>\n",
       "      <th>0</th>\n",
       "      <td>2014-01-01 06:12:39+00:00</td>\n",
       "      <td>2014-01-02 10:06:32+00:00</td>\n",
       "      <td>2014-01-01</td>\n",
       "    </tr>\n",
       "    <tr>\n",
       "      <th>1</th>\n",
       "      <td>2014-01-01 06:51:08+00:00</td>\n",
       "      <td>2014-01-02 09:17:23+00:00</td>\n",
       "      <td>2014-01-01</td>\n",
       "    </tr>\n",
       "    <tr>\n",
       "      <th>2</th>\n",
       "      <td>2014-01-01 09:58:07+00:00</td>\n",
       "      <td>2014-01-01 16:01:36+00:00</td>\n",
       "      <td>2014-01-01</td>\n",
       "    </tr>\n",
       "    <tr>\n",
       "      <th>3</th>\n",
       "      <td>2014-01-01 08:03:11+00:00</td>\n",
       "      <td>2014-01-01 13:00:00+00:00</td>\n",
       "      <td>2014-01-01</td>\n",
       "    </tr>\n",
       "    <tr>\n",
       "      <th>4</th>\n",
       "      <td>2014-01-01 11:53:19+00:00</td>\n",
       "      <td>2014-01-01 19:18:51+00:00</td>\n",
       "      <td>2014-01-01</td>\n",
       "    </tr>\n",
       "  </tbody>\n",
       "</table>\n",
       "</div>"
      ],
      "text/plain": [
       "                 posted_time                funded_time        date\n",
       "0  2014-01-01 06:12:39+00:00  2014-01-02 10:06:32+00:00  2014-01-01\n",
       "1  2014-01-01 06:51:08+00:00  2014-01-02 09:17:23+00:00  2014-01-01\n",
       "2  2014-01-01 09:58:07+00:00  2014-01-01 16:01:36+00:00  2014-01-01\n",
       "3  2014-01-01 08:03:11+00:00  2014-01-01 13:00:00+00:00  2014-01-01\n",
       "4  2014-01-01 11:53:19+00:00  2014-01-01 19:18:51+00:00  2014-01-01"
      ]
     },
     "execution_count": 96,
     "metadata": {},
     "output_type": "execute_result"
    }
   ],
   "source": [
    "times.head()"
   ]
  },
  {
   "cell_type": "code",
   "execution_count": 97,
   "metadata": {
    "ExecuteTime": {
     "end_time": "2021-02-23T07:03:32.461260Z",
     "start_time": "2021-02-23T07:03:31.114948Z"
    }
   },
   "outputs": [],
   "source": [
    "# Keep the date only\n",
    "times = times.apply(lambda x: x.str[:10])"
   ]
  },
  {
   "cell_type": "code",
   "execution_count": 98,
   "metadata": {
    "ExecuteTime": {
     "end_time": "2021-02-23T07:03:39.179031Z",
     "start_time": "2021-02-23T07:03:39.164830Z"
    }
   },
   "outputs": [
    {
     "data": {
      "text/html": [
       "<div>\n",
       "<style scoped>\n",
       "    .dataframe tbody tr th:only-of-type {\n",
       "        vertical-align: middle;\n",
       "    }\n",
       "\n",
       "    .dataframe tbody tr th {\n",
       "        vertical-align: top;\n",
       "    }\n",
       "\n",
       "    .dataframe thead th {\n",
       "        text-align: right;\n",
       "    }\n",
       "</style>\n",
       "<table border=\"1\" class=\"dataframe\">\n",
       "  <thead>\n",
       "    <tr style=\"text-align: right;\">\n",
       "      <th></th>\n",
       "      <th>posted_time</th>\n",
       "      <th>funded_time</th>\n",
       "      <th>date</th>\n",
       "    </tr>\n",
       "  </thead>\n",
       "  <tbody>\n",
       "    <tr>\n",
       "      <th>0</th>\n",
       "      <td>2014-01-01</td>\n",
       "      <td>2014-01-02</td>\n",
       "      <td>2014-01-01</td>\n",
       "    </tr>\n",
       "    <tr>\n",
       "      <th>1</th>\n",
       "      <td>2014-01-01</td>\n",
       "      <td>2014-01-02</td>\n",
       "      <td>2014-01-01</td>\n",
       "    </tr>\n",
       "    <tr>\n",
       "      <th>2</th>\n",
       "      <td>2014-01-01</td>\n",
       "      <td>2014-01-01</td>\n",
       "      <td>2014-01-01</td>\n",
       "    </tr>\n",
       "    <tr>\n",
       "      <th>3</th>\n",
       "      <td>2014-01-01</td>\n",
       "      <td>2014-01-01</td>\n",
       "      <td>2014-01-01</td>\n",
       "    </tr>\n",
       "    <tr>\n",
       "      <th>4</th>\n",
       "      <td>2014-01-01</td>\n",
       "      <td>2014-01-01</td>\n",
       "      <td>2014-01-01</td>\n",
       "    </tr>\n",
       "    <tr>\n",
       "      <th>...</th>\n",
       "      <td>...</td>\n",
       "      <td>...</td>\n",
       "      <td>...</td>\n",
       "    </tr>\n",
       "    <tr>\n",
       "      <th>671200</th>\n",
       "      <td>2017-07-25</td>\n",
       "      <td>NaN</td>\n",
       "      <td>2017-07-25</td>\n",
       "    </tr>\n",
       "    <tr>\n",
       "      <th>671201</th>\n",
       "      <td>2017-07-25</td>\n",
       "      <td>2017-07-26</td>\n",
       "      <td>2017-07-25</td>\n",
       "    </tr>\n",
       "    <tr>\n",
       "      <th>671202</th>\n",
       "      <td>2017-07-26</td>\n",
       "      <td>NaN</td>\n",
       "      <td>2017-07-26</td>\n",
       "    </tr>\n",
       "    <tr>\n",
       "      <th>671203</th>\n",
       "      <td>2017-07-26</td>\n",
       "      <td>NaN</td>\n",
       "      <td>2017-07-26</td>\n",
       "    </tr>\n",
       "    <tr>\n",
       "      <th>671204</th>\n",
       "      <td>2017-07-26</td>\n",
       "      <td>NaN</td>\n",
       "      <td>2017-07-26</td>\n",
       "    </tr>\n",
       "  </tbody>\n",
       "</table>\n",
       "<p>671205 rows × 3 columns</p>\n",
       "</div>"
      ],
      "text/plain": [
       "       posted_time funded_time        date\n",
       "0       2014-01-01  2014-01-02  2014-01-01\n",
       "1       2014-01-01  2014-01-02  2014-01-01\n",
       "2       2014-01-01  2014-01-01  2014-01-01\n",
       "3       2014-01-01  2014-01-01  2014-01-01\n",
       "4       2014-01-01  2014-01-01  2014-01-01\n",
       "...            ...         ...         ...\n",
       "671200  2017-07-25         NaN  2017-07-25\n",
       "671201  2017-07-25  2017-07-26  2017-07-25\n",
       "671202  2017-07-26         NaN  2017-07-26\n",
       "671203  2017-07-26         NaN  2017-07-26\n",
       "671204  2017-07-26         NaN  2017-07-26\n",
       "\n",
       "[671205 rows x 3 columns]"
      ]
     },
     "execution_count": 98,
     "metadata": {},
     "output_type": "execute_result"
    }
   ],
   "source": [
    "times"
   ]
  },
  {
   "cell_type": "markdown",
   "metadata": {},
   "source": [
    "* `posted_time` and `date`"
   ]
  },
  {
   "cell_type": "code",
   "execution_count": 99,
   "metadata": {
    "ExecuteTime": {
     "end_time": "2021-02-23T07:03:44.977616Z",
     "start_time": "2021-02-23T07:03:44.867286Z"
    }
   },
   "outputs": [
    {
     "data": {
      "text/plain": [
       "0"
      ]
     },
     "execution_count": 99,
     "metadata": {},
     "output_type": "execute_result"
    }
   ],
   "source": [
    "(times.posted_time != times.date).sum()"
   ]
  },
  {
   "cell_type": "markdown",
   "metadata": {},
   "source": [
    "The dates of `posted_time` and `date` are the same, and the latter will be drop"
   ]
  },
  {
   "cell_type": "markdown",
   "metadata": {},
   "source": [
    "* `funded_time` **(Keep just in case)**"
   ]
  },
  {
   "cell_type": "code",
   "execution_count": 100,
   "metadata": {
    "ExecuteTime": {
     "end_time": "2021-02-23T07:05:02.902184Z",
     "start_time": "2021-02-23T07:05:02.861661Z"
    }
   },
   "outputs": [
    {
     "data": {
      "text/plain": [
       "48331"
      ]
     },
     "execution_count": 100,
     "metadata": {},
     "output_type": "execute_result"
    }
   ],
   "source": [
    "(times.funded_time.isnull()).sum()"
   ]
  },
  {
   "cell_type": "code",
   "execution_count": 101,
   "metadata": {
    "ExecuteTime": {
     "end_time": "2021-02-23T07:05:13.109984Z",
     "start_time": "2021-02-23T07:05:12.503769Z"
    }
   },
   "outputs": [],
   "source": [
    "# Check where the funded time missed based on posted time\n",
    "posted_nan_funded = times[times.funded_time.isnull()].posted_time\n",
    "posted_nan_funded = posted_nan_funded.apply(lambda x: dt.strptime(x, '%Y-%m-%d'))"
   ]
  },
  {
   "cell_type": "code",
   "execution_count": 54,
   "metadata": {
    "ExecuteTime": {
     "end_time": "2021-02-22T09:17:49.861722Z",
     "start_time": "2021-02-22T09:17:49.551984Z"
    }
   },
   "outputs": [
    {
     "data": {
      "image/png": "[encoded data removed]",
      "text/plain": [
       "<Figure size 432x288 with 1 Axes>"
      ]
     },
     "metadata": {
      "needs_background": "light"
     },
     "output_type": "display_data"
    }
   ],
   "source": [
    "_ = posted_nan_funded.hist(bins=20)"
   ]
  },
  {
   "cell_type": "markdown",
   "metadata": {},
   "source": [
    "The loans posted in the last month of the dataset, 2017-7, tended to lost funded time info."
   ]
  },
  {
   "cell_type": "code",
   "execution_count": 55,
   "metadata": {
    "ExecuteTime": {
     "end_time": "2021-02-22T09:18:02.420014Z",
     "start_time": "2021-02-22T09:17:49.892981Z"
    }
   },
   "outputs": [
    {
     "data": {
      "image/png": "[encoded data removed]",
      "text/plain": [
       "<Figure size 432x288 with 1 Axes>"
      ]
     },
     "metadata": {
      "needs_background": "light"
     },
     "output_type": "display_data"
    }
   ],
   "source": [
    "posted = times.posted_time.apply(lambda x: dt.strptime(x, '%Y-%m-%d'))\n",
    "_ = posted.hist(bins=20, density=True)"
   ]
  },
  {
   "cell_type": "markdown",
   "metadata": {
    "ExecuteTime": {
     "end_time": "2021-02-22T01:31:26.663452Z",
     "start_time": "2021-02-22T01:31:26.654884Z"
    }
   },
   "source": [
    "During the time period of the dataset, the loans posted on the platform were distributed evenly."
   ]
  },
  {
   "cell_type": "markdown",
   "metadata": {},
   "source": [
    "#### `term_in_months` ,  `lender_count` and `repayment_interval` : No missing values\n",
    "* `term_in_months`: The duration for which the loan was disbursed in months\n",
    "\n",
    "* `lender_count`: The total number of lenders that contributed to this loan\n",
    "\n",
    "* `repayment_interval`: No description"
   ]
  },
  {
   "cell_type": "code",
   "execution_count": 56,
   "metadata": {
    "ExecuteTime": {
     "end_time": "2021-02-22T09:18:02.642906Z",
     "start_time": "2021-02-22T09:18:02.573633Z"
    }
   },
   "outputs": [
    {
     "data": {
      "text/plain": [
       "count    671205.000000\n",
       "mean         13.739022\n",
       "std           8.598919\n",
       "min           1.000000\n",
       "25%           8.000000\n",
       "50%          13.000000\n",
       "75%          14.000000\n",
       "max         158.000000\n",
       "Name: term_in_months, dtype: float64"
      ]
     },
     "execution_count": 56,
     "metadata": {},
     "output_type": "execute_result"
    }
   ],
   "source": [
    "loans.term_in_months.describe()"
   ]
  },
  {
   "cell_type": "code",
   "execution_count": 57,
   "metadata": {
    "ExecuteTime": {
     "end_time": "2021-02-22T09:18:02.774473Z",
     "start_time": "2021-02-22T09:18:02.666216Z"
    }
   },
   "outputs": [
    {
     "data": {
      "text/plain": [
       "count    671205.000000\n",
       "mean         20.590922\n",
       "std          28.459551\n",
       "min           0.000000\n",
       "25%           7.000000\n",
       "50%          13.000000\n",
       "75%          24.000000\n",
       "max        2986.000000\n",
       "Name: lender_count, dtype: float64"
      ]
     },
     "execution_count": 57,
     "metadata": {},
     "output_type": "execute_result"
    }
   ],
   "source": [
    "loans.lender_count.describe()"
   ]
  },
  {
   "cell_type": "code",
   "execution_count": 58,
   "metadata": {
    "ExecuteTime": {
     "end_time": "2021-02-22T09:18:02.911580Z",
     "start_time": "2021-02-22T09:18:02.796892Z"
    }
   },
   "outputs": [
    {
     "data": {
      "text/plain": [
       "monthly      342717\n",
       "irregular    257158\n",
       "bullet        70728\n",
       "weekly          602\n",
       "Name: repayment_interval, dtype: int64"
      ]
     },
     "execution_count": 58,
     "metadata": {},
     "output_type": "execute_result"
    }
   ],
   "source": [
    "loans.repayment_interval.value_counts()"
   ]
  },
  {
   "cell_type": "markdown",
   "metadata": {},
   "source": [
    "#### `borrower_genders` (Gender inequality has big impact on poverty)\n",
    "* `borrower_genders`: Comma separated M,F letters, where each instance represents a single male/female in the group"
   ]
  },
  {
   "cell_type": "code",
   "execution_count": 59,
   "metadata": {
    "ExecuteTime": {
     "end_time": "2021-02-22T09:18:02.957796Z",
     "start_time": "2021-02-22T09:18:02.921518Z"
    }
   },
   "outputs": [
    {
     "data": {
      "text/plain": [
       "4221"
      ]
     },
     "execution_count": 59,
     "metadata": {},
     "output_type": "execute_result"
    }
   ],
   "source": [
    "loans.borrower_genders.isna().sum()"
   ]
  },
  {
   "cell_type": "code",
   "execution_count": 61,
   "metadata": {
    "ExecuteTime": {
     "end_time": "2021-02-22T09:18:03.718694Z",
     "start_time": "2021-02-22T09:18:03.286816Z"
    }
   },
   "outputs": [
    {
     "data": {
      "text/plain": [
       "female                                                                                                                          426502\n",
       "male                                                                                                                            134710\n",
       "female, female                                                                                                                   12164\n",
       "female, female, female                                                                                                           11676\n",
       "female, female, female, female                                                                                                    9052\n",
       "                                                                                                                                 ...  \n",
       "female, male, female, female, female, male, female, female, female, male, male, female                                               1\n",
       "male, male, female, female, female, male, female, female, male, male, male, female, female                                           1\n",
       "male, male, male, male, male, male, male, female, male, male, male, male, male, male, female, male, male, male, male, female         1\n",
       "male, male, male, male, male, male, female, male, female, female, male, male, male, female, female, male                             1\n",
       "male, female, male, female, female, male, male, female, female, female, female, female, female, male, male                           1\n",
       "Name: borrower_genders, Length: 11298, dtype: int64"
      ]
     },
     "execution_count": 61,
     "metadata": {},
     "output_type": "execute_result"
    }
   ],
   "source": [
    "loans.borrower_genders.value_counts()"
   ]
  },
  {
   "cell_type": "code",
   "execution_count": 62,
   "metadata": {
    "ExecuteTime": {
     "end_time": "2021-02-22T09:18:03.983341Z",
     "start_time": "2021-02-22T09:18:03.730812Z"
    }
   },
   "outputs": [
    {
     "data": {
      "text/plain": [
       "female                                                                            426502\n",
       "male                                                                              134710\n",
       "female, female                                                                     12164\n",
       "female, female, female                                                             11676\n",
       "female, female, female, female                                                      9052\n",
       "female, female, female, female, female                                              7568\n",
       "female, female, female, female, female, female                                      2674\n",
       "female, female, female, female, female, female, female, female, female, female      2185\n",
       "female, female, female, female, female, female, female                              2127\n",
       "female, female, female, female, female, female, female, female                      1936\n",
       "Name: borrower_genders, dtype: int64"
      ]
     },
     "execution_count": 62,
     "metadata": {},
     "output_type": "execute_result"
    }
   ],
   "source": [
    "loans.borrower_genders.value_counts().head(10)"
   ]
  },
  {
   "cell_type": "markdown",
   "metadata": {},
   "source": [
    "Female borrowers make up the majority"
   ]
  },
  {
   "cell_type": "markdown",
   "metadata": {},
   "source": [
    "#### `tags`(Keep just in case)"
   ]
  },
  {
   "cell_type": "code",
   "execution_count": 63,
   "metadata": {
    "ExecuteTime": {
     "end_time": "2021-02-22T09:18:04.133037Z",
     "start_time": "2021-02-22T09:18:03.999589Z"
    }
   },
   "outputs": [
    {
     "data": {
      "text/plain": [
       "171416"
      ]
     },
     "execution_count": 63,
     "metadata": {},
     "output_type": "execute_result"
    }
   ],
   "source": [
    "loans.tags.isna().sum()"
   ]
  },
  {
   "cell_type": "code",
   "execution_count": 64,
   "metadata": {
    "ExecuteTime": {
     "end_time": "2021-02-22T09:18:04.885062Z",
     "start_time": "2021-02-22T09:18:04.230357Z"
    }
   },
   "outputs": [
    {
     "data": {
      "text/plain": [
       "user_favorite                                                                            27088\n",
       "#Parent, #Woman Owned Biz                                                                16597\n",
       "#Woman Owned Biz                                                                         12557\n",
       "#Parent                                                                                  11671\n",
       "#Elderly                                                                                  6482\n",
       "                                                                                         ...  \n",
       "#Elderly, #Health and Sanitation, #Widowed, #Repeat Borrower, #Supporting Family             1\n",
       "#Vegan, #Woman Owned Biz, #Schooling, user_favorite                                          1\n",
       "volunteer_pick, #Animals, #Low-profit FP, #Job Creator                                       1\n",
       "#Repeat Borrower, #Woman Owned Biz, #Woman Owned Biz, user_favorite, user_favorite           1\n",
       "user_favorite, user_favorite, user_favorite, user_favorite, #Technology, #Job Creator        1\n",
       "Name: tags, Length: 86719, dtype: int64"
      ]
     },
     "execution_count": 64,
     "metadata": {},
     "output_type": "execute_result"
    }
   ],
   "source": [
    "loans.tags.value_counts()"
   ]
  },
  {
   "cell_type": "code",
   "execution_count": 65,
   "metadata": {
    "ExecuteTime": {
     "end_time": "2021-02-22T09:18:05.352478Z",
     "start_time": "2021-02-22T09:18:04.891161Z"
    }
   },
   "outputs": [
    {
     "data": {
      "text/plain": [
       "user_favorite                                         27088\n",
       "#Parent, #Woman Owned Biz                             16597\n",
       "#Woman Owned Biz                                      12557\n",
       "#Parent                                               11671\n",
       "#Elderly                                               6482\n",
       "#Eco-friendly, #Health and Sanitation, #Technology     5887\n",
       "#Animals                                               5610\n",
       "user_favorite, user_favorite                           5594\n",
       "#Repeat Borrower                                       4627\n",
       "#Woman Owned Biz, #Parent                              4305\n",
       "Name: tags, dtype: int64"
      ]
     },
     "execution_count": 65,
     "metadata": {},
     "output_type": "execute_result"
    }
   ],
   "source": [
    "loans.tags.value_counts().head(10)"
   ]
  },
  {
   "cell_type": "markdown",
   "metadata": {},
   "source": [
    "Some tags seems be duplicated, such as `user_favorite` and `user_favorite, user_favorite`, `#Parent, #Woman Owned Biz` and `#Woman Owned Biz, #Parent`, which should be aligned if necessary. But for now , I just fill the missing values\n",
    "with 'Normal' to separate the loans with or without tags."
   ]
  },
  {
   "cell_type": "code",
   "execution_count": 110,
   "metadata": {
    "ExecuteTime": {
     "end_time": "2021-02-23T07:36:38.823475Z",
     "start_time": "2021-02-23T07:36:38.070536Z"
    }
   },
   "outputs": [
    {
     "data": {
      "text/plain": [
       "0"
      ]
     },
     "execution_count": 110,
     "metadata": {},
     "output_type": "execute_result"
    }
   ],
   "source": [
    "loans[loans.tags.notnull()].tags.str.contains('Normal').sum()"
   ]
  },
  {
   "cell_type": "code",
   "execution_count": 134,
   "metadata": {
    "ExecuteTime": {
     "end_time": "2021-02-23T08:04:08.296927Z",
     "start_time": "2021-02-23T08:04:08.224920Z"
    }
   },
   "outputs": [],
   "source": [
    "loans.tags.fillna('Normal', inplace=True)"
   ]
  },
  {
   "cell_type": "code",
   "execution_count": 135,
   "metadata": {
    "ExecuteTime": {
     "end_time": "2021-02-23T08:04:14.224249Z",
     "start_time": "2021-02-23T08:04:14.027806Z"
    }
   },
   "outputs": [
    {
     "data": {
      "text/plain": [
       "array(['Normal', 'user_favorite, user_favorite',\n",
       "       '#Elderly, #Woman Owned Biz', ...,\n",
       "       'user_favorite, #Biz Durable Asset, #Single, #Trees, #Vegan',\n",
       "       'user_favorite, user_favorite, #Parent, #Repair Renew Replace, #Vegan, user_favorite, user_favorite',\n",
       "       'user_favorite, #Parent, #Biz Durable Asset, #Vegan, user_favorite'],\n",
       "      dtype=object)"
      ]
     },
     "execution_count": 135,
     "metadata": {},
     "output_type": "execute_result"
    }
   ],
   "source": [
    "loans.tags.unique()"
   ]
  },
  {
   "cell_type": "markdown",
   "metadata": {},
   "source": [
    "So for the `loans` dataset:\n",
    "* The columns of `use`, `country_code`, `currency`, `disbursed_time`, and `date`, are removed \n",
    "* `ISO` with three-letter country code is added\n",
    "* `tags` and `funded_time` are kept just in case; The missing values of `tags` are filled with 'Normal'\n",
    "* The missing values of `region` need careful handling"
   ]
  },
  {
   "cell_type": "code",
   "execution_count": 136,
   "metadata": {
    "ExecuteTime": {
     "end_time": "2021-02-23T08:04:37.257948Z",
     "start_time": "2021-02-23T08:04:36.603663Z"
    }
   },
   "outputs": [
    {
     "name": "stdout",
     "output_type": "stream",
     "text": [
      "<class 'pandas.core.frame.DataFrame'>\n",
      "RangeIndex: 671205 entries, 0 to 671204\n",
      "Data columns (total 16 columns):\n",
      " #   Column              Non-Null Count   Dtype  \n",
      "---  ------              --------------   -----  \n",
      " 0   id                  671205 non-null  int64  \n",
      " 1   funded_amount       671205 non-null  float64\n",
      " 2   loan_amount         671205 non-null  float64\n",
      " 3   activity            671205 non-null  object \n",
      " 4   sector              671205 non-null  object \n",
      " 5   country             671205 non-null  object \n",
      " 6   region              614405 non-null  object \n",
      " 7   partner_id          657698 non-null  float64\n",
      " 8   posted_time         671205 non-null  object \n",
      " 9   funded_time         622874 non-null  object \n",
      " 10  term_in_months      671205 non-null  float64\n",
      " 11  lender_count        671205 non-null  int64  \n",
      " 12  tags                671205 non-null  object \n",
      " 13  borrower_genders    666984 non-null  object \n",
      " 14  repayment_interval  671205 non-null  object \n",
      " 15  ISO                 671205 non-null  object \n",
      "dtypes: float64(4), int64(2), object(10)\n",
      "memory usage: 81.9+ MB\n"
     ]
    }
   ],
   "source": [
    "# Remove country_code column and add ISO column\n",
    "loans_1 = loans.drop(['use','country_code','currency','disbursed_time','date'], axis=1)\n",
    "loans_1['ISO'] = loans_ISO_2_3.ISO.copy()\n",
    "loans_1.info()"
   ]
  },
  {
   "cell_type": "markdown",
   "metadata": {},
   "source": [
    "### MPI(multidimensional poverty index) by the location of region"
   ]
  },
  {
   "cell_type": "code",
   "execution_count": 34,
   "metadata": {
    "ExecuteTime": {
     "end_time": "2021-02-24T06:18:12.503977Z",
     "start_time": "2021-02-24T06:18:12.482221Z"
    },
    "scrolled": true
   },
   "outputs": [],
   "source": [
    "mpi_region_locations = pd.read_csv('/Users/lasayin/Desktop/Springboard/GitHub/Springboard_DS_Capstone2/RawData/KivaData/kiva_mpi_region_locations.csv')"
   ]
  },
  {
   "cell_type": "code",
   "execution_count": 35,
   "metadata": {
    "ExecuteTime": {
     "end_time": "2021-02-24T06:18:18.471370Z",
     "start_time": "2021-02-24T06:18:18.458159Z"
    }
   },
   "outputs": [
    {
     "name": "stdout",
     "output_type": "stream",
     "text": [
      "<class 'pandas.core.frame.DataFrame'>\n",
      "RangeIndex: 2772 entries, 0 to 2771\n",
      "Data columns (total 9 columns):\n",
      " #   Column        Non-Null Count  Dtype  \n",
      "---  ------        --------------  -----  \n",
      " 0   LocationName  984 non-null    object \n",
      " 1   ISO           1008 non-null   object \n",
      " 2   country       1008 non-null   object \n",
      " 3   region        984 non-null    object \n",
      " 4   world_region  1008 non-null   object \n",
      " 5   MPI           984 non-null    float64\n",
      " 6   geo           2772 non-null   object \n",
      " 7   lat           892 non-null    float64\n",
      " 8   lon           892 non-null    float64\n",
      "dtypes: float64(3), object(6)\n",
      "memory usage: 195.0+ KB\n"
     ]
    }
   ],
   "source": [
    "mpi_region_locations.info()"
   ]
  },
  {
   "cell_type": "markdown",
   "metadata": {},
   "source": [
    "Column descriptions:\n",
    "\n",
    "0.LocationName: region, country\n",
    "\n",
    "4.world_region: parts of the world\n",
    "\n",
    "5.MPI: multidimensional poverty index\n",
    "\n",
    "6.geo: (latitude, longitude)\n",
    "\n",
    "7.lat: latitude\n",
    "\n",
    "8.lon: longitude"
   ]
  },
  {
   "cell_type": "code",
   "execution_count": 36,
   "metadata": {
    "ExecuteTime": {
     "end_time": "2021-02-24T06:18:20.518924Z",
     "start_time": "2021-02-24T06:18:20.485171Z"
    }
   },
   "outputs": [
    {
     "data": {
      "text/html": [
       "<div>\n",
       "<style scoped>\n",
       "    .dataframe tbody tr th:only-of-type {\n",
       "        vertical-align: middle;\n",
       "    }\n",
       "\n",
       "    .dataframe tbody tr th {\n",
       "        vertical-align: top;\n",
       "    }\n",
       "\n",
       "    .dataframe thead th {\n",
       "        text-align: right;\n",
       "    }\n",
       "</style>\n",
       "<table border=\"1\" class=\"dataframe\">\n",
       "  <thead>\n",
       "    <tr style=\"text-align: right;\">\n",
       "      <th></th>\n",
       "      <th>Column Name</th>\n",
       "      <th>Missings</th>\n",
       "      <th>Missing_pct</th>\n",
       "    </tr>\n",
       "  </thead>\n",
       "  <tbody>\n",
       "    <tr>\n",
       "      <th>0</th>\n",
       "      <td>lat</td>\n",
       "      <td>1880</td>\n",
       "      <td>0.68</td>\n",
       "    </tr>\n",
       "    <tr>\n",
       "      <th>1</th>\n",
       "      <td>lon</td>\n",
       "      <td>1880</td>\n",
       "      <td>0.68</td>\n",
       "    </tr>\n",
       "    <tr>\n",
       "      <th>2</th>\n",
       "      <td>LocationName</td>\n",
       "      <td>1788</td>\n",
       "      <td>0.65</td>\n",
       "    </tr>\n",
       "    <tr>\n",
       "      <th>3</th>\n",
       "      <td>region</td>\n",
       "      <td>1788</td>\n",
       "      <td>0.65</td>\n",
       "    </tr>\n",
       "    <tr>\n",
       "      <th>4</th>\n",
       "      <td>MPI</td>\n",
       "      <td>1788</td>\n",
       "      <td>0.65</td>\n",
       "    </tr>\n",
       "    <tr>\n",
       "      <th>5</th>\n",
       "      <td>ISO</td>\n",
       "      <td>1764</td>\n",
       "      <td>0.64</td>\n",
       "    </tr>\n",
       "    <tr>\n",
       "      <th>6</th>\n",
       "      <td>country</td>\n",
       "      <td>1764</td>\n",
       "      <td>0.64</td>\n",
       "    </tr>\n",
       "    <tr>\n",
       "      <th>7</th>\n",
       "      <td>world_region</td>\n",
       "      <td>1764</td>\n",
       "      <td>0.64</td>\n",
       "    </tr>\n",
       "  </tbody>\n",
       "</table>\n",
       "</div>"
      ],
      "text/plain": [
       "    Column Name  Missings  Missing_pct\n",
       "0           lat      1880         0.68\n",
       "1           lon      1880         0.68\n",
       "2  LocationName      1788         0.65\n",
       "3        region      1788         0.65\n",
       "4           MPI      1788         0.65\n",
       "5           ISO      1764         0.64\n",
       "6       country      1764         0.64\n",
       "7  world_region      1764         0.64"
      ]
     },
     "execution_count": 36,
     "metadata": {},
     "output_type": "execute_result"
    }
   ],
   "source": [
    "# Check missing values\n",
    "def missing_vals(data_):\n",
    "    miss_     = data_.isnull().sum()\n",
    "    miss_pct  = data_.isnull().sum()/data_.shape[0]\n",
    "    \n",
    "    miss_pct  = pd.concat([miss_, miss_pct], axis =1)\n",
    "    miss_pct.reset_index(inplace=True)\n",
    "    miss_cols = miss_pct.rename(columns={'index':'Column Name', 0:'Missings', 1:'Missing_pct'})\n",
    "    \n",
    "    miss_cols = miss_cols[miss_cols.iloc[:,1]!=0].sort_values('Missing_pct', ascending=False).round(2)\n",
    "    miss_cols.reset_index(inplace=True, drop=True)\n",
    "    \n",
    "    return miss_cols\n",
    "\n",
    "miss = missing_vals(mpi_region_locations)\n",
    "miss"
   ]
  },
  {
   "cell_type": "markdown",
   "metadata": {},
   "source": [
    "It looks wild that all the factors except `geo` have very high missing value rate."
   ]
  },
  {
   "cell_type": "code",
   "execution_count": 68,
   "metadata": {
    "ExecuteTime": {
     "end_time": "2021-02-22T09:18:05.569483Z",
     "start_time": "2021-02-22T09:18:05.500252Z"
    },
    "scrolled": true
   },
   "outputs": [
    {
     "data": {
      "text/html": [
       "<div>\n",
       "<style scoped>\n",
       "    .dataframe tbody tr th:only-of-type {\n",
       "        vertical-align: middle;\n",
       "    }\n",
       "\n",
       "    .dataframe tbody tr th {\n",
       "        vertical-align: top;\n",
       "    }\n",
       "\n",
       "    .dataframe thead th {\n",
       "        text-align: right;\n",
       "    }\n",
       "</style>\n",
       "<table border=\"1\" class=\"dataframe\">\n",
       "  <thead>\n",
       "    <tr style=\"text-align: right;\">\n",
       "      <th></th>\n",
       "      <th>LocationName</th>\n",
       "      <th>ISO</th>\n",
       "      <th>country</th>\n",
       "      <th>region</th>\n",
       "      <th>world_region</th>\n",
       "      <th>MPI</th>\n",
       "      <th>geo</th>\n",
       "      <th>lat</th>\n",
       "      <th>lon</th>\n",
       "    </tr>\n",
       "  </thead>\n",
       "  <tbody>\n",
       "    <tr>\n",
       "      <th>0</th>\n",
       "      <td>Badakhshan, Afghanistan</td>\n",
       "      <td>AFG</td>\n",
       "      <td>Afghanistan</td>\n",
       "      <td>Badakhshan</td>\n",
       "      <td>South Asia</td>\n",
       "      <td>0.387</td>\n",
       "      <td>(36.7347725, 70.81199529999999)</td>\n",
       "      <td>36.734772</td>\n",
       "      <td>70.811995</td>\n",
       "    </tr>\n",
       "    <tr>\n",
       "      <th>1</th>\n",
       "      <td>Badghis, Afghanistan</td>\n",
       "      <td>AFG</td>\n",
       "      <td>Afghanistan</td>\n",
       "      <td>Badghis</td>\n",
       "      <td>South Asia</td>\n",
       "      <td>0.466</td>\n",
       "      <td>(35.1671339, 63.7695384)</td>\n",
       "      <td>35.167134</td>\n",
       "      <td>63.769538</td>\n",
       "    </tr>\n",
       "    <tr>\n",
       "      <th>2</th>\n",
       "      <td>Baghlan, Afghanistan</td>\n",
       "      <td>AFG</td>\n",
       "      <td>Afghanistan</td>\n",
       "      <td>Baghlan</td>\n",
       "      <td>South Asia</td>\n",
       "      <td>0.300</td>\n",
       "      <td>(35.8042947, 69.2877535)</td>\n",
       "      <td>35.804295</td>\n",
       "      <td>69.287754</td>\n",
       "    </tr>\n",
       "    <tr>\n",
       "      <th>3</th>\n",
       "      <td>Balkh, Afghanistan</td>\n",
       "      <td>AFG</td>\n",
       "      <td>Afghanistan</td>\n",
       "      <td>Balkh</td>\n",
       "      <td>South Asia</td>\n",
       "      <td>0.301</td>\n",
       "      <td>(36.7550603, 66.8975372)</td>\n",
       "      <td>36.755060</td>\n",
       "      <td>66.897537</td>\n",
       "    </tr>\n",
       "    <tr>\n",
       "      <th>4</th>\n",
       "      <td>Bamyan, Afghanistan</td>\n",
       "      <td>AFG</td>\n",
       "      <td>Afghanistan</td>\n",
       "      <td>Bamyan</td>\n",
       "      <td>South Asia</td>\n",
       "      <td>0.325</td>\n",
       "      <td>(34.8100067, 67.8212104)</td>\n",
       "      <td>34.810007</td>\n",
       "      <td>67.821210</td>\n",
       "    </tr>\n",
       "  </tbody>\n",
       "</table>\n",
       "</div>"
      ],
      "text/plain": [
       "              LocationName  ISO      country      region world_region    MPI  \\\n",
       "0  Badakhshan, Afghanistan  AFG  Afghanistan  Badakhshan   South Asia  0.387   \n",
       "1     Badghis, Afghanistan  AFG  Afghanistan     Badghis   South Asia  0.466   \n",
       "2     Baghlan, Afghanistan  AFG  Afghanistan     Baghlan   South Asia  0.300   \n",
       "3       Balkh, Afghanistan  AFG  Afghanistan       Balkh   South Asia  0.301   \n",
       "4      Bamyan, Afghanistan  AFG  Afghanistan      Bamyan   South Asia  0.325   \n",
       "\n",
       "                               geo        lat        lon  \n",
       "0  (36.7347725, 70.81199529999999)  36.734772  70.811995  \n",
       "1         (35.1671339, 63.7695384)  35.167134  63.769538  \n",
       "2         (35.8042947, 69.2877535)  35.804295  69.287754  \n",
       "3         (36.7550603, 66.8975372)  36.755060  66.897537  \n",
       "4         (34.8100067, 67.8212104)  34.810007  67.821210  "
      ]
     },
     "execution_count": 68,
     "metadata": {},
     "output_type": "execute_result"
    }
   ],
   "source": [
    "mpi_region_locations.head()"
   ]
  },
  {
   "cell_type": "code",
   "execution_count": 6,
   "metadata": {
    "ExecuteTime": {
     "end_time": "2021-02-24T05:44:44.139434Z",
     "start_time": "2021-02-24T05:44:44.119287Z"
    }
   },
   "outputs": [
    {
     "data": {
      "text/html": [
       "<div>\n",
       "<style scoped>\n",
       "    .dataframe tbody tr th:only-of-type {\n",
       "        vertical-align: middle;\n",
       "    }\n",
       "\n",
       "    .dataframe tbody tr th {\n",
       "        vertical-align: top;\n",
       "    }\n",
       "\n",
       "    .dataframe thead th {\n",
       "        text-align: right;\n",
       "    }\n",
       "</style>\n",
       "<table border=\"1\" class=\"dataframe\">\n",
       "  <thead>\n",
       "    <tr style=\"text-align: right;\">\n",
       "      <th></th>\n",
       "      <th>LocationName</th>\n",
       "      <th>ISO</th>\n",
       "      <th>country</th>\n",
       "      <th>region</th>\n",
       "      <th>world_region</th>\n",
       "      <th>MPI</th>\n",
       "      <th>geo</th>\n",
       "      <th>lat</th>\n",
       "      <th>lon</th>\n",
       "    </tr>\n",
       "  </thead>\n",
       "  <tbody>\n",
       "    <tr>\n",
       "      <th>2767</th>\n",
       "      <td>NaN</td>\n",
       "      <td>NaN</td>\n",
       "      <td>NaN</td>\n",
       "      <td>NaN</td>\n",
       "      <td>NaN</td>\n",
       "      <td>NaN</td>\n",
       "      <td>(1000.0, 1000.0)</td>\n",
       "      <td>NaN</td>\n",
       "      <td>NaN</td>\n",
       "    </tr>\n",
       "    <tr>\n",
       "      <th>2768</th>\n",
       "      <td>NaN</td>\n",
       "      <td>NaN</td>\n",
       "      <td>NaN</td>\n",
       "      <td>NaN</td>\n",
       "      <td>NaN</td>\n",
       "      <td>NaN</td>\n",
       "      <td>(1000.0, 1000.0)</td>\n",
       "      <td>NaN</td>\n",
       "      <td>NaN</td>\n",
       "    </tr>\n",
       "    <tr>\n",
       "      <th>2769</th>\n",
       "      <td>NaN</td>\n",
       "      <td>NaN</td>\n",
       "      <td>NaN</td>\n",
       "      <td>NaN</td>\n",
       "      <td>NaN</td>\n",
       "      <td>NaN</td>\n",
       "      <td>(1000.0, 1000.0)</td>\n",
       "      <td>NaN</td>\n",
       "      <td>NaN</td>\n",
       "    </tr>\n",
       "    <tr>\n",
       "      <th>2770</th>\n",
       "      <td>NaN</td>\n",
       "      <td>NaN</td>\n",
       "      <td>NaN</td>\n",
       "      <td>NaN</td>\n",
       "      <td>NaN</td>\n",
       "      <td>NaN</td>\n",
       "      <td>(1000.0, 1000.0)</td>\n",
       "      <td>NaN</td>\n",
       "      <td>NaN</td>\n",
       "    </tr>\n",
       "    <tr>\n",
       "      <th>2771</th>\n",
       "      <td>NaN</td>\n",
       "      <td>NaN</td>\n",
       "      <td>NaN</td>\n",
       "      <td>NaN</td>\n",
       "      <td>NaN</td>\n",
       "      <td>NaN</td>\n",
       "      <td>(1000.0, 1000.0)</td>\n",
       "      <td>NaN</td>\n",
       "      <td>NaN</td>\n",
       "    </tr>\n",
       "  </tbody>\n",
       "</table>\n",
       "</div>"
      ],
      "text/plain": [
       "     LocationName  ISO country region world_region  MPI               geo  \\\n",
       "2767          NaN  NaN     NaN    NaN          NaN  NaN  (1000.0, 1000.0)   \n",
       "2768          NaN  NaN     NaN    NaN          NaN  NaN  (1000.0, 1000.0)   \n",
       "2769          NaN  NaN     NaN    NaN          NaN  NaN  (1000.0, 1000.0)   \n",
       "2770          NaN  NaN     NaN    NaN          NaN  NaN  (1000.0, 1000.0)   \n",
       "2771          NaN  NaN     NaN    NaN          NaN  NaN  (1000.0, 1000.0)   \n",
       "\n",
       "      lat  lon  \n",
       "2767  NaN  NaN  \n",
       "2768  NaN  NaN  \n",
       "2769  NaN  NaN  \n",
       "2770  NaN  NaN  \n",
       "2771  NaN  NaN  "
      ]
     },
     "execution_count": 6,
     "metadata": {},
     "output_type": "execute_result"
    }
   ],
   "source": [
    "mpi_region_locations.tail()"
   ]
  },
  {
   "cell_type": "code",
   "execution_count": 11,
   "metadata": {
    "ExecuteTime": {
     "end_time": "2021-02-24T05:52:34.499580Z",
     "start_time": "2021-02-24T05:52:34.492419Z"
    }
   },
   "outputs": [
    {
     "data": {
      "text/plain": [
       "1007"
      ]
     },
     "execution_count": 11,
     "metadata": {},
     "output_type": "execute_result"
    }
   ],
   "source": [
    "mpi_region_locations.country.last_valid_index()"
   ]
  },
  {
   "cell_type": "code",
   "execution_count": 37,
   "metadata": {
    "ExecuteTime": {
     "end_time": "2021-02-24T06:20:43.462681Z",
     "start_time": "2021-02-24T06:20:43.435674Z"
    }
   },
   "outputs": [
    {
     "data": {
      "text/html": [
       "<div>\n",
       "<style scoped>\n",
       "    .dataframe tbody tr th:only-of-type {\n",
       "        vertical-align: middle;\n",
       "    }\n",
       "\n",
       "    .dataframe tbody tr th {\n",
       "        vertical-align: top;\n",
       "    }\n",
       "\n",
       "    .dataframe thead th {\n",
       "        text-align: right;\n",
       "    }\n",
       "</style>\n",
       "<table border=\"1\" class=\"dataframe\">\n",
       "  <thead>\n",
       "    <tr style=\"text-align: right;\">\n",
       "      <th></th>\n",
       "      <th>LocationName</th>\n",
       "      <th>ISO</th>\n",
       "      <th>country</th>\n",
       "      <th>region</th>\n",
       "      <th>world_region</th>\n",
       "      <th>MPI</th>\n",
       "      <th>geo</th>\n",
       "      <th>lat</th>\n",
       "      <th>lon</th>\n",
       "    </tr>\n",
       "  </thead>\n",
       "  <tbody>\n",
       "    <tr>\n",
       "      <th>1008</th>\n",
       "      <td>NaN</td>\n",
       "      <td>NaN</td>\n",
       "      <td>NaN</td>\n",
       "      <td>NaN</td>\n",
       "      <td>NaN</td>\n",
       "      <td>NaN</td>\n",
       "      <td>(1000.0, 1000.0)</td>\n",
       "      <td>NaN</td>\n",
       "      <td>NaN</td>\n",
       "    </tr>\n",
       "    <tr>\n",
       "      <th>1009</th>\n",
       "      <td>NaN</td>\n",
       "      <td>NaN</td>\n",
       "      <td>NaN</td>\n",
       "      <td>NaN</td>\n",
       "      <td>NaN</td>\n",
       "      <td>NaN</td>\n",
       "      <td>(1000.0, 1000.0)</td>\n",
       "      <td>NaN</td>\n",
       "      <td>NaN</td>\n",
       "    </tr>\n",
       "    <tr>\n",
       "      <th>1010</th>\n",
       "      <td>NaN</td>\n",
       "      <td>NaN</td>\n",
       "      <td>NaN</td>\n",
       "      <td>NaN</td>\n",
       "      <td>NaN</td>\n",
       "      <td>NaN</td>\n",
       "      <td>(1000.0, 1000.0)</td>\n",
       "      <td>NaN</td>\n",
       "      <td>NaN</td>\n",
       "    </tr>\n",
       "    <tr>\n",
       "      <th>1011</th>\n",
       "      <td>NaN</td>\n",
       "      <td>NaN</td>\n",
       "      <td>NaN</td>\n",
       "      <td>NaN</td>\n",
       "      <td>NaN</td>\n",
       "      <td>NaN</td>\n",
       "      <td>(1000.0, 1000.0)</td>\n",
       "      <td>NaN</td>\n",
       "      <td>NaN</td>\n",
       "    </tr>\n",
       "    <tr>\n",
       "      <th>1012</th>\n",
       "      <td>NaN</td>\n",
       "      <td>NaN</td>\n",
       "      <td>NaN</td>\n",
       "      <td>NaN</td>\n",
       "      <td>NaN</td>\n",
       "      <td>NaN</td>\n",
       "      <td>(1000.0, 1000.0)</td>\n",
       "      <td>NaN</td>\n",
       "      <td>NaN</td>\n",
       "    </tr>\n",
       "    <tr>\n",
       "      <th>...</th>\n",
       "      <td>...</td>\n",
       "      <td>...</td>\n",
       "      <td>...</td>\n",
       "      <td>...</td>\n",
       "      <td>...</td>\n",
       "      <td>...</td>\n",
       "      <td>...</td>\n",
       "      <td>...</td>\n",
       "      <td>...</td>\n",
       "    </tr>\n",
       "    <tr>\n",
       "      <th>2767</th>\n",
       "      <td>NaN</td>\n",
       "      <td>NaN</td>\n",
       "      <td>NaN</td>\n",
       "      <td>NaN</td>\n",
       "      <td>NaN</td>\n",
       "      <td>NaN</td>\n",
       "      <td>(1000.0, 1000.0)</td>\n",
       "      <td>NaN</td>\n",
       "      <td>NaN</td>\n",
       "    </tr>\n",
       "    <tr>\n",
       "      <th>2768</th>\n",
       "      <td>NaN</td>\n",
       "      <td>NaN</td>\n",
       "      <td>NaN</td>\n",
       "      <td>NaN</td>\n",
       "      <td>NaN</td>\n",
       "      <td>NaN</td>\n",
       "      <td>(1000.0, 1000.0)</td>\n",
       "      <td>NaN</td>\n",
       "      <td>NaN</td>\n",
       "    </tr>\n",
       "    <tr>\n",
       "      <th>2769</th>\n",
       "      <td>NaN</td>\n",
       "      <td>NaN</td>\n",
       "      <td>NaN</td>\n",
       "      <td>NaN</td>\n",
       "      <td>NaN</td>\n",
       "      <td>NaN</td>\n",
       "      <td>(1000.0, 1000.0)</td>\n",
       "      <td>NaN</td>\n",
       "      <td>NaN</td>\n",
       "    </tr>\n",
       "    <tr>\n",
       "      <th>2770</th>\n",
       "      <td>NaN</td>\n",
       "      <td>NaN</td>\n",
       "      <td>NaN</td>\n",
       "      <td>NaN</td>\n",
       "      <td>NaN</td>\n",
       "      <td>NaN</td>\n",
       "      <td>(1000.0, 1000.0)</td>\n",
       "      <td>NaN</td>\n",
       "      <td>NaN</td>\n",
       "    </tr>\n",
       "    <tr>\n",
       "      <th>2771</th>\n",
       "      <td>NaN</td>\n",
       "      <td>NaN</td>\n",
       "      <td>NaN</td>\n",
       "      <td>NaN</td>\n",
       "      <td>NaN</td>\n",
       "      <td>NaN</td>\n",
       "      <td>(1000.0, 1000.0)</td>\n",
       "      <td>NaN</td>\n",
       "      <td>NaN</td>\n",
       "    </tr>\n",
       "  </tbody>\n",
       "</table>\n",
       "<p>1764 rows × 9 columns</p>\n",
       "</div>"
      ],
      "text/plain": [
       "     LocationName  ISO country region world_region  MPI               geo  \\\n",
       "1008          NaN  NaN     NaN    NaN          NaN  NaN  (1000.0, 1000.0)   \n",
       "1009          NaN  NaN     NaN    NaN          NaN  NaN  (1000.0, 1000.0)   \n",
       "1010          NaN  NaN     NaN    NaN          NaN  NaN  (1000.0, 1000.0)   \n",
       "1011          NaN  NaN     NaN    NaN          NaN  NaN  (1000.0, 1000.0)   \n",
       "1012          NaN  NaN     NaN    NaN          NaN  NaN  (1000.0, 1000.0)   \n",
       "...           ...  ...     ...    ...          ...  ...               ...   \n",
       "2767          NaN  NaN     NaN    NaN          NaN  NaN  (1000.0, 1000.0)   \n",
       "2768          NaN  NaN     NaN    NaN          NaN  NaN  (1000.0, 1000.0)   \n",
       "2769          NaN  NaN     NaN    NaN          NaN  NaN  (1000.0, 1000.0)   \n",
       "2770          NaN  NaN     NaN    NaN          NaN  NaN  (1000.0, 1000.0)   \n",
       "2771          NaN  NaN     NaN    NaN          NaN  NaN  (1000.0, 1000.0)   \n",
       "\n",
       "      lat  lon  \n",
       "1008  NaN  NaN  \n",
       "1009  NaN  NaN  \n",
       "1010  NaN  NaN  \n",
       "1011  NaN  NaN  \n",
       "1012  NaN  NaN  \n",
       "...   ...  ...  \n",
       "2767  NaN  NaN  \n",
       "2768  NaN  NaN  \n",
       "2769  NaN  NaN  \n",
       "2770  NaN  NaN  \n",
       "2771  NaN  NaN  \n",
       "\n",
       "[1764 rows x 9 columns]"
      ]
     },
     "execution_count": 37,
     "metadata": {},
     "output_type": "execute_result"
    }
   ],
   "source": [
    "# Check the dataframe after the 1007th row\n",
    "mpi_region_locations_1008 = mpi_region_locations.iloc[1008:, :]\n",
    "mpi_region_locations_1008"
   ]
  },
  {
   "cell_type": "code",
   "execution_count": 38,
   "metadata": {
    "ExecuteTime": {
     "end_time": "2021-02-24T06:20:46.987275Z",
     "start_time": "2021-02-24T06:20:46.978703Z"
    }
   },
   "outputs": [
    {
     "name": "stdout",
     "output_type": "stream",
     "text": [
      "<class 'pandas.core.frame.DataFrame'>\n",
      "RangeIndex: 1764 entries, 1008 to 2771\n",
      "Data columns (total 9 columns):\n",
      " #   Column        Non-Null Count  Dtype  \n",
      "---  ------        --------------  -----  \n",
      " 0   LocationName  0 non-null      object \n",
      " 1   ISO           0 non-null      object \n",
      " 2   country       0 non-null      object \n",
      " 3   region        0 non-null      object \n",
      " 4   world_region  0 non-null      object \n",
      " 5   MPI           0 non-null      float64\n",
      " 6   geo           1764 non-null   object \n",
      " 7   lat           0 non-null      float64\n",
      " 8   lon           0 non-null      float64\n",
      "dtypes: float64(3), object(6)\n",
      "memory usage: 124.2+ KB\n"
     ]
    }
   ],
   "source": [
    "mpi_region_locations_1008.info()"
   ]
  },
  {
   "cell_type": "markdown",
   "metadata": {},
   "source": [
    "All the rows after the 1007th row are invalid, which will be dropped."
   ]
  },
  {
   "cell_type": "code",
   "execution_count": 39,
   "metadata": {
    "ExecuteTime": {
     "end_time": "2021-02-24T06:20:58.152019Z",
     "start_time": "2021-02-24T06:20:58.130343Z"
    }
   },
   "outputs": [
    {
     "data": {
      "text/html": [
       "<div>\n",
       "<style scoped>\n",
       "    .dataframe tbody tr th:only-of-type {\n",
       "        vertical-align: middle;\n",
       "    }\n",
       "\n",
       "    .dataframe tbody tr th {\n",
       "        vertical-align: top;\n",
       "    }\n",
       "\n",
       "    .dataframe thead th {\n",
       "        text-align: right;\n",
       "    }\n",
       "</style>\n",
       "<table border=\"1\" class=\"dataframe\">\n",
       "  <thead>\n",
       "    <tr style=\"text-align: right;\">\n",
       "      <th></th>\n",
       "      <th>LocationName</th>\n",
       "      <th>ISO</th>\n",
       "      <th>country</th>\n",
       "      <th>region</th>\n",
       "      <th>world_region</th>\n",
       "      <th>MPI</th>\n",
       "      <th>geo</th>\n",
       "      <th>lat</th>\n",
       "      <th>lon</th>\n",
       "    </tr>\n",
       "  </thead>\n",
       "  <tbody>\n",
       "    <tr>\n",
       "      <th>0</th>\n",
       "      <td>Badakhshan, Afghanistan</td>\n",
       "      <td>AFG</td>\n",
       "      <td>Afghanistan</td>\n",
       "      <td>Badakhshan</td>\n",
       "      <td>South Asia</td>\n",
       "      <td>0.387</td>\n",
       "      <td>(36.7347725, 70.81199529999999)</td>\n",
       "      <td>36.734772</td>\n",
       "      <td>70.811995</td>\n",
       "    </tr>\n",
       "    <tr>\n",
       "      <th>1</th>\n",
       "      <td>Badghis, Afghanistan</td>\n",
       "      <td>AFG</td>\n",
       "      <td>Afghanistan</td>\n",
       "      <td>Badghis</td>\n",
       "      <td>South Asia</td>\n",
       "      <td>0.466</td>\n",
       "      <td>(35.1671339, 63.7695384)</td>\n",
       "      <td>35.167134</td>\n",
       "      <td>63.769538</td>\n",
       "    </tr>\n",
       "    <tr>\n",
       "      <th>2</th>\n",
       "      <td>Baghlan, Afghanistan</td>\n",
       "      <td>AFG</td>\n",
       "      <td>Afghanistan</td>\n",
       "      <td>Baghlan</td>\n",
       "      <td>South Asia</td>\n",
       "      <td>0.300</td>\n",
       "      <td>(35.8042947, 69.2877535)</td>\n",
       "      <td>35.804295</td>\n",
       "      <td>69.287754</td>\n",
       "    </tr>\n",
       "    <tr>\n",
       "      <th>3</th>\n",
       "      <td>Balkh, Afghanistan</td>\n",
       "      <td>AFG</td>\n",
       "      <td>Afghanistan</td>\n",
       "      <td>Balkh</td>\n",
       "      <td>South Asia</td>\n",
       "      <td>0.301</td>\n",
       "      <td>(36.7550603, 66.8975372)</td>\n",
       "      <td>36.755060</td>\n",
       "      <td>66.897537</td>\n",
       "    </tr>\n",
       "    <tr>\n",
       "      <th>4</th>\n",
       "      <td>Bamyan, Afghanistan</td>\n",
       "      <td>AFG</td>\n",
       "      <td>Afghanistan</td>\n",
       "      <td>Bamyan</td>\n",
       "      <td>South Asia</td>\n",
       "      <td>0.325</td>\n",
       "      <td>(34.8100067, 67.8212104)</td>\n",
       "      <td>34.810007</td>\n",
       "      <td>67.821210</td>\n",
       "    </tr>\n",
       "    <tr>\n",
       "      <th>...</th>\n",
       "      <td>...</td>\n",
       "      <td>...</td>\n",
       "      <td>...</td>\n",
       "      <td>...</td>\n",
       "      <td>...</td>\n",
       "      <td>...</td>\n",
       "      <td>...</td>\n",
       "      <td>...</td>\n",
       "      <td>...</td>\n",
       "    </tr>\n",
       "    <tr>\n",
       "      <th>1003</th>\n",
       "      <td>Mashonaland West, Zimbabwe</td>\n",
       "      <td>ZWE</td>\n",
       "      <td>Zimbabwe</td>\n",
       "      <td>Mashonaland West</td>\n",
       "      <td>Sub-Saharan Africa</td>\n",
       "      <td>0.192</td>\n",
       "      <td>(-17.4851029, 29.7889248)</td>\n",
       "      <td>-17.485103</td>\n",
       "      <td>29.788925</td>\n",
       "    </tr>\n",
       "    <tr>\n",
       "      <th>1004</th>\n",
       "      <td>Masvingo, Zimbabwe</td>\n",
       "      <td>ZWE</td>\n",
       "      <td>Zimbabwe</td>\n",
       "      <td>Masvingo</td>\n",
       "      <td>Sub-Saharan Africa</td>\n",
       "      <td>0.174</td>\n",
       "      <td>(-20.0791909, 30.8384093)</td>\n",
       "      <td>-20.079191</td>\n",
       "      <td>30.838409</td>\n",
       "    </tr>\n",
       "    <tr>\n",
       "      <th>1005</th>\n",
       "      <td>Matabeleland North, Zimbabwe</td>\n",
       "      <td>ZWE</td>\n",
       "      <td>Zimbabwe</td>\n",
       "      <td>Matabeleland North</td>\n",
       "      <td>Sub-Saharan Africa</td>\n",
       "      <td>0.238</td>\n",
       "      <td>(-18.5331566, 27.5495846)</td>\n",
       "      <td>-18.533157</td>\n",
       "      <td>27.549585</td>\n",
       "    </tr>\n",
       "    <tr>\n",
       "      <th>1006</th>\n",
       "      <td>Matabeleland South, Zimbabwe</td>\n",
       "      <td>ZWE</td>\n",
       "      <td>Zimbabwe</td>\n",
       "      <td>Matabeleland South</td>\n",
       "      <td>Sub-Saharan Africa</td>\n",
       "      <td>0.164</td>\n",
       "      <td>(-21.052337, 29.0459927)</td>\n",
       "      <td>-21.052337</td>\n",
       "      <td>29.045993</td>\n",
       "    </tr>\n",
       "    <tr>\n",
       "      <th>1007</th>\n",
       "      <td>Midlands, Zimbabwe</td>\n",
       "      <td>ZWE</td>\n",
       "      <td>Zimbabwe</td>\n",
       "      <td>Midlands</td>\n",
       "      <td>Sub-Saharan Africa</td>\n",
       "      <td>0.176</td>\n",
       "      <td>(-18.4070294, 14.8454619)</td>\n",
       "      <td>-18.407029</td>\n",
       "      <td>14.845462</td>\n",
       "    </tr>\n",
       "  </tbody>\n",
       "</table>\n",
       "<p>1008 rows × 9 columns</p>\n",
       "</div>"
      ],
      "text/plain": [
       "                      LocationName  ISO      country              region  \\\n",
       "0          Badakhshan, Afghanistan  AFG  Afghanistan          Badakhshan   \n",
       "1             Badghis, Afghanistan  AFG  Afghanistan             Badghis   \n",
       "2             Baghlan, Afghanistan  AFG  Afghanistan             Baghlan   \n",
       "3               Balkh, Afghanistan  AFG  Afghanistan               Balkh   \n",
       "4              Bamyan, Afghanistan  AFG  Afghanistan              Bamyan   \n",
       "...                            ...  ...          ...                 ...   \n",
       "1003    Mashonaland West, Zimbabwe  ZWE     Zimbabwe    Mashonaland West   \n",
       "1004            Masvingo, Zimbabwe  ZWE     Zimbabwe            Masvingo   \n",
       "1005  Matabeleland North, Zimbabwe  ZWE     Zimbabwe  Matabeleland North   \n",
       "1006  Matabeleland South, Zimbabwe  ZWE     Zimbabwe  Matabeleland South   \n",
       "1007            Midlands, Zimbabwe  ZWE     Zimbabwe            Midlands   \n",
       "\n",
       "            world_region    MPI                              geo        lat  \\\n",
       "0             South Asia  0.387  (36.7347725, 70.81199529999999)  36.734772   \n",
       "1             South Asia  0.466         (35.1671339, 63.7695384)  35.167134   \n",
       "2             South Asia  0.300         (35.8042947, 69.2877535)  35.804295   \n",
       "3             South Asia  0.301         (36.7550603, 66.8975372)  36.755060   \n",
       "4             South Asia  0.325         (34.8100067, 67.8212104)  34.810007   \n",
       "...                  ...    ...                              ...        ...   \n",
       "1003  Sub-Saharan Africa  0.192        (-17.4851029, 29.7889248) -17.485103   \n",
       "1004  Sub-Saharan Africa  0.174        (-20.0791909, 30.8384093) -20.079191   \n",
       "1005  Sub-Saharan Africa  0.238        (-18.5331566, 27.5495846) -18.533157   \n",
       "1006  Sub-Saharan Africa  0.164         (-21.052337, 29.0459927) -21.052337   \n",
       "1007  Sub-Saharan Africa  0.176        (-18.4070294, 14.8454619) -18.407029   \n",
       "\n",
       "            lon  \n",
       "0     70.811995  \n",
       "1     63.769538  \n",
       "2     69.287754  \n",
       "3     66.897537  \n",
       "4     67.821210  \n",
       "...         ...  \n",
       "1003  29.788925  \n",
       "1004  30.838409  \n",
       "1005  27.549585  \n",
       "1006  29.045993  \n",
       "1007  14.845462  \n",
       "\n",
       "[1008 rows x 9 columns]"
      ]
     },
     "execution_count": 39,
     "metadata": {},
     "output_type": "execute_result"
    }
   ],
   "source": [
    "mpi_region_locations = mpi_region_locations[:1008]\n",
    "mpi_region_locations"
   ]
  },
  {
   "cell_type": "code",
   "execution_count": 40,
   "metadata": {
    "ExecuteTime": {
     "end_time": "2021-02-24T06:21:11.837023Z",
     "start_time": "2021-02-24T06:21:11.827253Z"
    }
   },
   "outputs": [
    {
     "name": "stdout",
     "output_type": "stream",
     "text": [
      "<class 'pandas.core.frame.DataFrame'>\n",
      "RangeIndex: 1008 entries, 0 to 1007\n",
      "Data columns (total 9 columns):\n",
      " #   Column        Non-Null Count  Dtype  \n",
      "---  ------        --------------  -----  \n",
      " 0   LocationName  984 non-null    object \n",
      " 1   ISO           1008 non-null   object \n",
      " 2   country       1008 non-null   object \n",
      " 3   region        984 non-null    object \n",
      " 4   world_region  1008 non-null   object \n",
      " 5   MPI           984 non-null    float64\n",
      " 6   geo           1008 non-null   object \n",
      " 7   lat           892 non-null    float64\n",
      " 8   lon           892 non-null    float64\n",
      "dtypes: float64(3), object(6)\n",
      "memory usage: 71.0+ KB\n"
     ]
    }
   ],
   "source": [
    "mpi_region_locations.info()"
   ]
  },
  {
   "cell_type": "code",
   "execution_count": 41,
   "metadata": {
    "ExecuteTime": {
     "end_time": "2021-02-24T06:21:20.697518Z",
     "start_time": "2021-02-24T06:21:20.689998Z"
    }
   },
   "outputs": [
    {
     "data": {
      "text/plain": [
       "True"
      ]
     },
     "execution_count": 41,
     "metadata": {},
     "output_type": "execute_result"
    }
   ],
   "source": [
    "# Check the relationship between region and LocationName\n",
    "mpi_region_locations[mpi_region_locations.LocationName.isna()].equals(mpi_region_locations[mpi_region_locations.region.isna()])"
   ]
  },
  {
   "cell_type": "markdown",
   "metadata": {},
   "source": [
    "`LocationName` combines the `country` and `region` and the position of null values in `LocationName` and `region` are the same. So `LocationName` will be dropped."
   ]
  },
  {
   "cell_type": "code",
   "execution_count": 27,
   "metadata": {
    "ExecuteTime": {
     "end_time": "2021-02-24T06:06:11.360516Z",
     "start_time": "2021-02-24T06:06:11.350281Z"
    }
   },
   "outputs": [
    {
     "data": {
      "text/plain": [
       "True"
      ]
     },
     "execution_count": 27,
     "metadata": {},
     "output_type": "execute_result"
    }
   ],
   "source": [
    "# Check the relationship between region and MPI\n",
    "mpi_region_locations[mpi_region_locations.MPI.isna()].equals(mpi_region_locations[mpi_region_locations.MPI.isna()])"
   ]
  },
  {
   "cell_type": "markdown",
   "metadata": {},
   "source": [
    "It seems that the null values in `region` column and `MPI` column have the same patten."
   ]
  },
  {
   "cell_type": "markdown",
   "metadata": {},
   "source": [
    "* Compare the region info of `loans` dataset and `mpi_region_locations` dataset"
   ]
  },
  {
   "cell_type": "code",
   "execution_count": 31,
   "metadata": {
    "ExecuteTime": {
     "end_time": "2021-02-24T06:10:31.277795Z",
     "start_time": "2021-02-24T06:10:31.130931Z"
    }
   },
   "outputs": [
    {
     "data": {
      "text/plain": [
       "Kaduna                                     10000\n",
       "Lahore                                      7178\n",
       "Rawalpindi                                  4496\n",
       "Cusco                                       3841\n",
       "Dar es Salaam                               3719\n",
       "                                           ...  \n",
       "Stella Maris - Nkonkojeru                      1\n",
       "Manganeng, Thaba Tseka                         1\n",
       "Guarda La Lagunita, San Jose del Rincon        1\n",
       "Kitaotao, Bukidnon                             1\n",
       "Gyalto village, Aragatsotn region              1\n",
       "Name: region, Length: 12695, dtype: int64"
      ]
     },
     "execution_count": 31,
     "metadata": {},
     "output_type": "execute_result"
    }
   ],
   "source": [
    "loans.region.value_counts()"
   ]
  },
  {
   "cell_type": "code",
   "execution_count": 32,
   "metadata": {
    "ExecuteTime": {
     "end_time": "2021-02-24T06:11:05.854370Z",
     "start_time": "2021-02-24T06:11:05.843781Z"
    }
   },
   "outputs": [
    {
     "data": {
      "text/plain": [
       "Eastern       8\n",
       "Central       8\n",
       "Western       7\n",
       "Nord          5\n",
       "North         4\n",
       "             ..\n",
       "Cibao Sur     1\n",
       "Manchester    1\n",
       "As-swidaa     1\n",
       "Bogota        1\n",
       "Mzimba        1\n",
       "Name: region, Length: 928, dtype: int64"
      ]
     },
     "execution_count": 32,
     "metadata": {},
     "output_type": "execute_result"
    }
   ],
   "source": [
    "mpi_region_locations.region.value_counts()"
   ]
  },
  {
   "cell_type": "markdown",
   "metadata": {},
   "source": [
    "It seems that they are very different"
   ]
  },
  {
   "cell_type": "markdown",
   "metadata": {},
   "source": [
    "* Check `geo`, `lat` and `lon`"
   ]
  },
  {
   "cell_type": "code",
   "execution_count": 45,
   "metadata": {
    "ExecuteTime": {
     "end_time": "2021-02-24T06:26:53.647340Z",
     "start_time": "2021-02-24T06:26:53.636043Z"
    }
   },
   "outputs": [
    {
     "data": {
      "text/plain": [
       "True    1008\n",
       "dtype: int64"
      ]
     },
     "execution_count": 45,
     "metadata": {},
     "output_type": "execute_result"
    }
   ],
   "source": [
    "# Check the lat and lon's null values\n",
    "(mpi_region_locations.lat.isna() == mpi_region_locations.lon.isna()).value_counts()"
   ]
  },
  {
   "cell_type": "markdown",
   "metadata": {},
   "source": [
    "The missing values in `lat` and `lon` have the same patten."
   ]
  },
  {
   "cell_type": "code",
   "execution_count": 47,
   "metadata": {
    "ExecuteTime": {
     "end_time": "2021-02-24T06:28:55.455847Z",
     "start_time": "2021-02-24T06:28:55.449059Z"
    }
   },
   "outputs": [
    {
     "data": {
      "text/plain": [
       "34     (1000.0, 1000.0)\n",
       "35     (1000.0, 1000.0)\n",
       "36     (1000.0, 1000.0)\n",
       "51     (1000.0, 1000.0)\n",
       "63     (1000.0, 1000.0)\n",
       "             ...       \n",
       "958    (1000.0, 1000.0)\n",
       "960    (1000.0, 1000.0)\n",
       "965    (1000.0, 1000.0)\n",
       "985    (1000.0, 1000.0)\n",
       "987    (1000.0, 1000.0)\n",
       "Name: geo, Length: 116, dtype: object"
      ]
     },
     "execution_count": 47,
     "metadata": {},
     "output_type": "execute_result"
    }
   ],
   "source": [
    "mpi_region_locations[mpi_region_locations.lat.isna()]['geo']"
   ]
  },
  {
   "cell_type": "code",
   "execution_count": 55,
   "metadata": {
    "ExecuteTime": {
     "end_time": "2021-02-24T06:33:17.987365Z",
     "start_time": "2021-02-24T06:33:17.977707Z"
    }
   },
   "outputs": [
    {
     "data": {
      "text/plain": [
       "116"
      ]
     },
     "execution_count": 55,
     "metadata": {},
     "output_type": "execute_result"
    }
   ],
   "source": [
    "(mpi_region_locations.geo=='(1000.0, 1000.0)').sum()"
   ]
  },
  {
   "cell_type": "code",
   "execution_count": 57,
   "metadata": {
    "ExecuteTime": {
     "end_time": "2021-02-24T06:35:42.191534Z",
     "start_time": "2021-02-24T06:35:42.174650Z"
    }
   },
   "outputs": [
    {
     "data": {
      "text/plain": [
       "Honduras                                      8\n",
       "Brazil                                        7\n",
       "Gabon                                         7\n",
       "Peru                                          5\n",
       "Congo, Democratic Republic of the             4\n",
       "                                             ..\n",
       "Nicaragua                                     1\n",
       "Guyana                                        1\n",
       "Mexico                                        1\n",
       "Macedonia, The former Yugoslav Republic of    1\n",
       "Liberia                                       1\n",
       "Name: country, Length: 67, dtype: int64"
      ]
     },
     "execution_count": 57,
     "metadata": {},
     "output_type": "execute_result"
    }
   ],
   "source": [
    "mpi_region_locations[mpi_region_locations.lat.isna()].country.value_counts()"
   ]
  },
  {
   "cell_type": "code",
   "execution_count": 58,
   "metadata": {
    "ExecuteTime": {
     "end_time": "2021-02-24T06:38:23.477974Z",
     "start_time": "2021-02-24T06:38:23.465977Z"
    }
   },
   "outputs": [
    {
     "data": {
      "text/plain": [
       "Demerara-Mahaica             1\n",
       "Ogoouð-Ivindo                1\n",
       "Bouenza                      1\n",
       "Labð                         1\n",
       "Atlðntida                    1\n",
       "                            ..\n",
       "Apurðmac                     1\n",
       "Manatuto                     1\n",
       "Sharkia                      1\n",
       "Jonglei and Unity            1\n",
       "Valle Sin Cali Ni Litoral    1\n",
       "Name: region, Length: 92, dtype: int64"
      ]
     },
     "execution_count": 58,
     "metadata": {},
     "output_type": "execute_result"
    }
   ],
   "source": [
    "mpi_region_locations[mpi_region_locations.lat.isna()].region.value_counts()"
   ]
  },
  {
   "cell_type": "markdown",
   "metadata": {},
   "source": [
    "The invalid `geo` values result in the missing values in `lat` and `lon` columns and seems distribute readomly"
   ]
  },
  {
   "cell_type": "markdown",
   "metadata": {},
   "source": [
    "### Loan themes"
   ]
  },
  {
   "cell_type": "code",
   "execution_count": 69,
   "metadata": {
    "ExecuteTime": {
     "end_time": "2021-02-22T09:18:07.125777Z",
     "start_time": "2021-02-22T09:18:05.594246Z"
    }
   },
   "outputs": [],
   "source": [
    "loan_theme_ids = pd.read_csv('/Users/lasayin/Desktop/Springboard/GitHub/Springboard_DS_Capstone2/RawData/KivaData/loan_theme_ids.csv')"
   ]
  },
  {
   "cell_type": "code",
   "execution_count": 70,
   "metadata": {
    "ExecuteTime": {
     "end_time": "2021-02-22T09:18:07.625659Z",
     "start_time": "2021-02-22T09:18:07.139098Z"
    }
   },
   "outputs": [
    {
     "name": "stdout",
     "output_type": "stream",
     "text": [
      "<class 'pandas.core.frame.DataFrame'>\n",
      "RangeIndex: 779092 entries, 0 to 779091\n",
      "Data columns (total 4 columns):\n",
      " #   Column           Non-Null Count   Dtype  \n",
      "---  ------           --------------   -----  \n",
      " 0   id               779092 non-null  int64  \n",
      " 1   Loan Theme ID    764279 non-null  object \n",
      " 2   Loan Theme Type  764279 non-null  object \n",
      " 3   Partner ID       764279 non-null  float64\n",
      "dtypes: float64(1), int64(1), object(2)\n",
      "memory usage: 23.8+ MB\n"
     ]
    }
   ],
   "source": [
    "loan_theme_ids.info()"
   ]
  },
  {
   "cell_type": "markdown",
   "metadata": {},
   "source": [
    "Column descriptions:\n",
    "\n",
    "1.Loan Theme ID: Unique ID for loan theme\n",
    "\n",
    "2.Loan Theme Type: General description of the loan theme category\n",
    "\n",
    "3.Partner ID: Unique ID for field partners\n"
   ]
  },
  {
   "cell_type": "code",
   "execution_count": 71,
   "metadata": {
    "ExecuteTime": {
     "end_time": "2021-02-22T09:18:07.657804Z",
     "start_time": "2021-02-22T09:18:07.636219Z"
    }
   },
   "outputs": [
    {
     "data": {
      "text/html": [
       "<div>\n",
       "<style scoped>\n",
       "    .dataframe tbody tr th:only-of-type {\n",
       "        vertical-align: middle;\n",
       "    }\n",
       "\n",
       "    .dataframe tbody tr th {\n",
       "        vertical-align: top;\n",
       "    }\n",
       "\n",
       "    .dataframe thead th {\n",
       "        text-align: right;\n",
       "    }\n",
       "</style>\n",
       "<table border=\"1\" class=\"dataframe\">\n",
       "  <thead>\n",
       "    <tr style=\"text-align: right;\">\n",
       "      <th></th>\n",
       "      <th>id</th>\n",
       "      <th>Loan Theme ID</th>\n",
       "      <th>Loan Theme Type</th>\n",
       "      <th>Partner ID</th>\n",
       "    </tr>\n",
       "  </thead>\n",
       "  <tbody>\n",
       "    <tr>\n",
       "      <th>0</th>\n",
       "      <td>638631</td>\n",
       "      <td>a1050000000skGl</td>\n",
       "      <td>General</td>\n",
       "      <td>151.0</td>\n",
       "    </tr>\n",
       "    <tr>\n",
       "      <th>1</th>\n",
       "      <td>640322</td>\n",
       "      <td>a1050000000skGl</td>\n",
       "      <td>General</td>\n",
       "      <td>151.0</td>\n",
       "    </tr>\n",
       "    <tr>\n",
       "      <th>2</th>\n",
       "      <td>641006</td>\n",
       "      <td>a1050000002X1ij</td>\n",
       "      <td>Higher Education</td>\n",
       "      <td>160.0</td>\n",
       "    </tr>\n",
       "    <tr>\n",
       "      <th>3</th>\n",
       "      <td>641019</td>\n",
       "      <td>a1050000002X1ij</td>\n",
       "      <td>Higher Education</td>\n",
       "      <td>160.0</td>\n",
       "    </tr>\n",
       "    <tr>\n",
       "      <th>4</th>\n",
       "      <td>641594</td>\n",
       "      <td>a1050000002VbsW</td>\n",
       "      <td>Subsistence Agriculture</td>\n",
       "      <td>336.0</td>\n",
       "    </tr>\n",
       "    <tr>\n",
       "      <th>5</th>\n",
       "      <td>642256</td>\n",
       "      <td>a1050000000T3oX</td>\n",
       "      <td>Extreme Poverty</td>\n",
       "      <td>217.0</td>\n",
       "    </tr>\n",
       "    <tr>\n",
       "      <th>6</th>\n",
       "      <td>642311</td>\n",
       "      <td>a1050000000snTK</td>\n",
       "      <td>General</td>\n",
       "      <td>57.0</td>\n",
       "    </tr>\n",
       "    <tr>\n",
       "      <th>7</th>\n",
       "      <td>642353</td>\n",
       "      <td>a1050000000T3oX</td>\n",
       "      <td>Extreme Poverty</td>\n",
       "      <td>217.0</td>\n",
       "    </tr>\n",
       "    <tr>\n",
       "      <th>8</th>\n",
       "      <td>642386</td>\n",
       "      <td>a1050000000wf0f</td>\n",
       "      <td>General</td>\n",
       "      <td>133.0</td>\n",
       "    </tr>\n",
       "    <tr>\n",
       "      <th>9</th>\n",
       "      <td>642429</td>\n",
       "      <td>a1050000000wezJ</td>\n",
       "      <td>General</td>\n",
       "      <td>48.0</td>\n",
       "    </tr>\n",
       "    <tr>\n",
       "      <th>10</th>\n",
       "      <td>642836</td>\n",
       "      <td>a1050000000wf0f</td>\n",
       "      <td>General</td>\n",
       "      <td>133.0</td>\n",
       "    </tr>\n",
       "    <tr>\n",
       "      <th>11</th>\n",
       "      <td>643267</td>\n",
       "      <td>a1050000000T3oX</td>\n",
       "      <td>Extreme Poverty</td>\n",
       "      <td>217.0</td>\n",
       "    </tr>\n",
       "    <tr>\n",
       "      <th>12</th>\n",
       "      <td>643288</td>\n",
       "      <td>a1050000000wezk</td>\n",
       "      <td>General</td>\n",
       "      <td>77.0</td>\n",
       "    </tr>\n",
       "    <tr>\n",
       "      <th>13</th>\n",
       "      <td>643402</td>\n",
       "      <td>a1050000000wezk</td>\n",
       "      <td>General</td>\n",
       "      <td>77.0</td>\n",
       "    </tr>\n",
       "    <tr>\n",
       "      <th>14</th>\n",
       "      <td>643414</td>\n",
       "      <td>a1050000002VkWz</td>\n",
       "      <td>Underserved</td>\n",
       "      <td>334.0</td>\n",
       "    </tr>\n",
       "    <tr>\n",
       "      <th>15</th>\n",
       "      <td>643435</td>\n",
       "      <td>a1050000002VkWz</td>\n",
       "      <td>Underserved</td>\n",
       "      <td>334.0</td>\n",
       "    </tr>\n",
       "    <tr>\n",
       "      <th>16</th>\n",
       "      <td>643447</td>\n",
       "      <td>a1050000000shPp</td>\n",
       "      <td>Extreme Poverty</td>\n",
       "      <td>40.0</td>\n",
       "    </tr>\n",
       "    <tr>\n",
       "      <th>17</th>\n",
       "      <td>643557</td>\n",
       "      <td>a1050000000skGl</td>\n",
       "      <td>General</td>\n",
       "      <td>151.0</td>\n",
       "    </tr>\n",
       "    <tr>\n",
       "      <th>18</th>\n",
       "      <td>643761</td>\n",
       "      <td>a1050000000wf1a</td>\n",
       "      <td>General</td>\n",
       "      <td>205.0</td>\n",
       "    </tr>\n",
       "    <tr>\n",
       "      <th>19</th>\n",
       "      <td>644101</td>\n",
       "      <td>a1050000000snTK</td>\n",
       "      <td>General</td>\n",
       "      <td>57.0</td>\n",
       "    </tr>\n",
       "  </tbody>\n",
       "</table>\n",
       "</div>"
      ],
      "text/plain": [
       "        id    Loan Theme ID          Loan Theme Type  Partner ID\n",
       "0   638631  a1050000000skGl                  General       151.0\n",
       "1   640322  a1050000000skGl                  General       151.0\n",
       "2   641006  a1050000002X1ij         Higher Education       160.0\n",
       "3   641019  a1050000002X1ij         Higher Education       160.0\n",
       "4   641594  a1050000002VbsW  Subsistence Agriculture       336.0\n",
       "5   642256  a1050000000T3oX          Extreme Poverty       217.0\n",
       "6   642311  a1050000000snTK                  General        57.0\n",
       "7   642353  a1050000000T3oX          Extreme Poverty       217.0\n",
       "8   642386  a1050000000wf0f                  General       133.0\n",
       "9   642429  a1050000000wezJ                  General        48.0\n",
       "10  642836  a1050000000wf0f                  General       133.0\n",
       "11  643267  a1050000000T3oX          Extreme Poverty       217.0\n",
       "12  643288  a1050000000wezk                  General        77.0\n",
       "13  643402  a1050000000wezk                  General        77.0\n",
       "14  643414  a1050000002VkWz              Underserved       334.0\n",
       "15  643435  a1050000002VkWz              Underserved       334.0\n",
       "16  643447  a1050000000shPp          Extreme Poverty        40.0\n",
       "17  643557  a1050000000skGl                  General       151.0\n",
       "18  643761  a1050000000wf1a                  General       205.0\n",
       "19  644101  a1050000000snTK                  General        57.0"
      ]
     },
     "execution_count": 71,
     "metadata": {},
     "output_type": "execute_result"
    }
   ],
   "source": [
    "loan_theme_ids.head(20)"
   ]
  },
  {
   "cell_type": "markdown",
   "metadata": {},
   "source": [
    "It seems that `Loan Theme ID` is unique to the pair of `Loan Theme Type` and `Partner ID`. For example, for the pair of 'General'(`Loan Theme Type`) and '151'(`Partner ID`), `Loan Theme ID` is 'a1050000000skGl', while for the pair of 'General'(`Loan Theme Type`) and '57'(`Partner ID`), `Loan Theme ID` is 'a1050000000snTK'."
   ]
  },
  {
   "cell_type": "markdown",
   "metadata": {},
   "source": [
    "### Loan themes by region"
   ]
  },
  {
   "cell_type": "code",
   "execution_count": 59,
   "metadata": {
    "ExecuteTime": {
     "end_time": "2021-02-24T06:47:10.001985Z",
     "start_time": "2021-02-24T06:47:09.849035Z"
    }
   },
   "outputs": [],
   "source": [
    "loan_themes_by_region = pd.read_csv('/Users/lasayin/Desktop/Springboard/GitHub/Springboard_DS_Capstone2/RawData/KivaData/loan_themes_by_region.csv')"
   ]
  },
  {
   "cell_type": "code",
   "execution_count": 60,
   "metadata": {
    "ExecuteTime": {
     "end_time": "2021-02-24T06:47:11.993189Z",
     "start_time": "2021-02-24T06:47:11.963027Z"
    }
   },
   "outputs": [
    {
     "name": "stdout",
     "output_type": "stream",
     "text": [
      "<class 'pandas.core.frame.DataFrame'>\n",
      "RangeIndex: 15736 entries, 0 to 15735\n",
      "Data columns (total 21 columns):\n",
      " #   Column              Non-Null Count  Dtype  \n",
      "---  ------              --------------  -----  \n",
      " 0   Partner ID          15736 non-null  int64  \n",
      " 1   Field Partner Name  15736 non-null  object \n",
      " 2   sector              15736 non-null  object \n",
      " 3   Loan Theme ID       15736 non-null  object \n",
      " 4   Loan Theme Type     15736 non-null  object \n",
      " 5   country             15736 non-null  object \n",
      " 6   forkiva             15736 non-null  object \n",
      " 7   region              15736 non-null  object \n",
      " 8   geocode_old         1200 non-null   object \n",
      " 9   ISO                 15722 non-null  object \n",
      " 10  number              15736 non-null  int64  \n",
      " 11  amount              15736 non-null  int64  \n",
      " 12  LocationName        15736 non-null  object \n",
      " 13  geocode             13662 non-null  object \n",
      " 14  names               13661 non-null  object \n",
      " 15  geo                 15736 non-null  object \n",
      " 16  lat                 13662 non-null  float64\n",
      " 17  lon                 13662 non-null  float64\n",
      " 18  mpi_region          15722 non-null  object \n",
      " 19  mpi_geo             9671 non-null   object \n",
      " 20  rural_pct           14344 non-null  float64\n",
      "dtypes: float64(3), int64(3), object(15)\n",
      "memory usage: 2.5+ MB\n"
     ]
    }
   ],
   "source": [
    "loan_themes_by_region.info()"
   ]
  },
  {
   "cell_type": "code",
   "execution_count": 61,
   "metadata": {
    "ExecuteTime": {
     "end_time": "2021-02-24T06:49:38.962250Z",
     "start_time": "2021-02-24T06:49:38.921070Z"
    }
   },
   "outputs": [
    {
     "data": {
      "text/html": [
       "<div>\n",
       "<style scoped>\n",
       "    .dataframe tbody tr th:only-of-type {\n",
       "        vertical-align: middle;\n",
       "    }\n",
       "\n",
       "    .dataframe tbody tr th {\n",
       "        vertical-align: top;\n",
       "    }\n",
       "\n",
       "    .dataframe thead th {\n",
       "        text-align: right;\n",
       "    }\n",
       "</style>\n",
       "<table border=\"1\" class=\"dataframe\">\n",
       "  <thead>\n",
       "    <tr style=\"text-align: right;\">\n",
       "      <th></th>\n",
       "      <th>Partner ID</th>\n",
       "      <th>Field Partner Name</th>\n",
       "      <th>sector</th>\n",
       "      <th>Loan Theme ID</th>\n",
       "      <th>Loan Theme Type</th>\n",
       "      <th>country</th>\n",
       "      <th>forkiva</th>\n",
       "      <th>region</th>\n",
       "      <th>geocode_old</th>\n",
       "      <th>ISO</th>\n",
       "      <th>...</th>\n",
       "      <th>amount</th>\n",
       "      <th>LocationName</th>\n",
       "      <th>geocode</th>\n",
       "      <th>names</th>\n",
       "      <th>geo</th>\n",
       "      <th>lat</th>\n",
       "      <th>lon</th>\n",
       "      <th>mpi_region</th>\n",
       "      <th>mpi_geo</th>\n",
       "      <th>rural_pct</th>\n",
       "    </tr>\n",
       "  </thead>\n",
       "  <tbody>\n",
       "    <tr>\n",
       "      <th>0</th>\n",
       "      <td>9</td>\n",
       "      <td>KREDIT Microfinance Institution</td>\n",
       "      <td>General Financial Inclusion</td>\n",
       "      <td>a1050000000slfi</td>\n",
       "      <td>Higher Education</td>\n",
       "      <td>Cambodia</td>\n",
       "      <td>No</td>\n",
       "      <td>Banteay Meanchey</td>\n",
       "      <td>(13.75, 103.0)</td>\n",
       "      <td>KHM</td>\n",
       "      <td>...</td>\n",
       "      <td>450</td>\n",
       "      <td>Banteay Meanchey, Cambodia</td>\n",
       "      <td>[(13.6672596, 102.8975098)]</td>\n",
       "      <td>Banteay Meanchey Province; Cambodia</td>\n",
       "      <td>(13.6672596, 102.8975098)</td>\n",
       "      <td>13.667260</td>\n",
       "      <td>102.897510</td>\n",
       "      <td>Banteay Mean Chey, Cambodia</td>\n",
       "      <td>(13.6672596, 102.8975098)</td>\n",
       "      <td>90.0</td>\n",
       "    </tr>\n",
       "    <tr>\n",
       "      <th>1</th>\n",
       "      <td>9</td>\n",
       "      <td>KREDIT Microfinance Institution</td>\n",
       "      <td>General Financial Inclusion</td>\n",
       "      <td>a10500000068jPe</td>\n",
       "      <td>Vulnerable Populations</td>\n",
       "      <td>Cambodia</td>\n",
       "      <td>No</td>\n",
       "      <td>Battambang Province</td>\n",
       "      <td>NaN</td>\n",
       "      <td>KHM</td>\n",
       "      <td>...</td>\n",
       "      <td>20275</td>\n",
       "      <td>Battambang Province, Cambodia</td>\n",
       "      <td>[(13.0286971, 102.989615)]</td>\n",
       "      <td>Battambang Province; Cambodia</td>\n",
       "      <td>(13.0286971, 102.989615)</td>\n",
       "      <td>13.028697</td>\n",
       "      <td>102.989615</td>\n",
       "      <td>Banteay Mean Chey, Cambodia</td>\n",
       "      <td>(13.6672596, 102.8975098)</td>\n",
       "      <td>90.0</td>\n",
       "    </tr>\n",
       "    <tr>\n",
       "      <th>2</th>\n",
       "      <td>9</td>\n",
       "      <td>KREDIT Microfinance Institution</td>\n",
       "      <td>General Financial Inclusion</td>\n",
       "      <td>a1050000000slfi</td>\n",
       "      <td>Higher Education</td>\n",
       "      <td>Cambodia</td>\n",
       "      <td>No</td>\n",
       "      <td>Battambang Province</td>\n",
       "      <td>NaN</td>\n",
       "      <td>KHM</td>\n",
       "      <td>...</td>\n",
       "      <td>9150</td>\n",
       "      <td>Battambang Province, Cambodia</td>\n",
       "      <td>[(13.0286971, 102.989615)]</td>\n",
       "      <td>Battambang Province; Cambodia</td>\n",
       "      <td>(13.0286971, 102.989615)</td>\n",
       "      <td>13.028697</td>\n",
       "      <td>102.989615</td>\n",
       "      <td>Banteay Mean Chey, Cambodia</td>\n",
       "      <td>(13.6672596, 102.8975098)</td>\n",
       "      <td>90.0</td>\n",
       "    </tr>\n",
       "    <tr>\n",
       "      <th>3</th>\n",
       "      <td>9</td>\n",
       "      <td>KREDIT Microfinance Institution</td>\n",
       "      <td>General Financial Inclusion</td>\n",
       "      <td>a10500000068jPe</td>\n",
       "      <td>Vulnerable Populations</td>\n",
       "      <td>Cambodia</td>\n",
       "      <td>No</td>\n",
       "      <td>Kampong Cham Province</td>\n",
       "      <td>(12.0, 105.5)</td>\n",
       "      <td>KHM</td>\n",
       "      <td>...</td>\n",
       "      <td>604950</td>\n",
       "      <td>Kampong Cham Province, Cambodia</td>\n",
       "      <td>[(12.0982918, 105.3131185)]</td>\n",
       "      <td>Kampong Cham Province; Cambodia</td>\n",
       "      <td>(12.0982918, 105.3131185)</td>\n",
       "      <td>12.098292</td>\n",
       "      <td>105.313119</td>\n",
       "      <td>Kampong Cham, Cambodia</td>\n",
       "      <td>(11.9924294, 105.4645408)</td>\n",
       "      <td>90.0</td>\n",
       "    </tr>\n",
       "    <tr>\n",
       "      <th>4</th>\n",
       "      <td>9</td>\n",
       "      <td>KREDIT Microfinance Institution</td>\n",
       "      <td>General Financial Inclusion</td>\n",
       "      <td>a1050000002X1Uu</td>\n",
       "      <td>Sanitation</td>\n",
       "      <td>Cambodia</td>\n",
       "      <td>No</td>\n",
       "      <td>Kampong Cham Province</td>\n",
       "      <td>(12.0, 105.5)</td>\n",
       "      <td>KHM</td>\n",
       "      <td>...</td>\n",
       "      <td>275</td>\n",
       "      <td>Kampong Cham Province, Cambodia</td>\n",
       "      <td>[(12.0982918, 105.3131185)]</td>\n",
       "      <td>Kampong Cham Province; Cambodia</td>\n",
       "      <td>(12.0982918, 105.3131185)</td>\n",
       "      <td>12.098292</td>\n",
       "      <td>105.313119</td>\n",
       "      <td>Kampong Cham, Cambodia</td>\n",
       "      <td>(11.9924294, 105.4645408)</td>\n",
       "      <td>90.0</td>\n",
       "    </tr>\n",
       "    <tr>\n",
       "      <th>5</th>\n",
       "      <td>9</td>\n",
       "      <td>KREDIT Microfinance Institution</td>\n",
       "      <td>General Financial Inclusion</td>\n",
       "      <td>a1050000000slfi</td>\n",
       "      <td>Higher Education</td>\n",
       "      <td>Cambodia</td>\n",
       "      <td>No</td>\n",
       "      <td>Kampong Cham Province</td>\n",
       "      <td>(12.0, 105.5)</td>\n",
       "      <td>KHM</td>\n",
       "      <td>...</td>\n",
       "      <td>62225</td>\n",
       "      <td>Kampong Cham Province, Cambodia</td>\n",
       "      <td>[(12.0982918, 105.3131185)]</td>\n",
       "      <td>Kampong Cham Province; Cambodia</td>\n",
       "      <td>(12.0982918, 105.3131185)</td>\n",
       "      <td>12.098292</td>\n",
       "      <td>105.313119</td>\n",
       "      <td>Kampong Cham, Cambodia</td>\n",
       "      <td>(11.9924294, 105.4645408)</td>\n",
       "      <td>90.0</td>\n",
       "    </tr>\n",
       "    <tr>\n",
       "      <th>6</th>\n",
       "      <td>9</td>\n",
       "      <td>KREDIT Microfinance Institution</td>\n",
       "      <td>General Financial Inclusion</td>\n",
       "      <td>a1050000007VvXr</td>\n",
       "      <td>Solar Home Systems</td>\n",
       "      <td>Cambodia</td>\n",
       "      <td>No</td>\n",
       "      <td>Kampong Cham Province</td>\n",
       "      <td>(12.0, 105.5)</td>\n",
       "      <td>KHM</td>\n",
       "      <td>...</td>\n",
       "      <td>1300</td>\n",
       "      <td>Kampong Cham Province, Cambodia</td>\n",
       "      <td>[(12.0982918, 105.3131185)]</td>\n",
       "      <td>Kampong Cham Province; Cambodia</td>\n",
       "      <td>(12.0982918, 105.3131185)</td>\n",
       "      <td>12.098292</td>\n",
       "      <td>105.313119</td>\n",
       "      <td>Kampong Cham, Cambodia</td>\n",
       "      <td>(11.9924294, 105.4645408)</td>\n",
       "      <td>90.0</td>\n",
       "    </tr>\n",
       "    <tr>\n",
       "      <th>7</th>\n",
       "      <td>9</td>\n",
       "      <td>KREDIT Microfinance Institution</td>\n",
       "      <td>General Financial Inclusion</td>\n",
       "      <td>a1050000000weyk</td>\n",
       "      <td>General</td>\n",
       "      <td>Cambodia</td>\n",
       "      <td>No</td>\n",
       "      <td>Kampong Chhnang Province</td>\n",
       "      <td>(12.0, 104.5)</td>\n",
       "      <td>KHM</td>\n",
       "      <td>...</td>\n",
       "      <td>237175</td>\n",
       "      <td>Kampong Chhnang Province, Cambodia</td>\n",
       "      <td>[(12.1392352, 104.5655273)]</td>\n",
       "      <td>Kampong Chhnang Province; Cambodia</td>\n",
       "      <td>(12.1392352, 104.5655273)</td>\n",
       "      <td>12.139235</td>\n",
       "      <td>104.565527</td>\n",
       "      <td>Kampong Chhnang, Cambodia</td>\n",
       "      <td>(12.1392352, 104.5655273)</td>\n",
       "      <td>90.0</td>\n",
       "    </tr>\n",
       "    <tr>\n",
       "      <th>8</th>\n",
       "      <td>9</td>\n",
       "      <td>KREDIT Microfinance Institution</td>\n",
       "      <td>General Financial Inclusion</td>\n",
       "      <td>a1050000007VvXr</td>\n",
       "      <td>Solar Home Systems</td>\n",
       "      <td>Cambodia</td>\n",
       "      <td>No</td>\n",
       "      <td>Kampong Chhnang Province</td>\n",
       "      <td>(12.0, 104.5)</td>\n",
       "      <td>KHM</td>\n",
       "      <td>...</td>\n",
       "      <td>3050</td>\n",
       "      <td>Kampong Chhnang Province, Cambodia</td>\n",
       "      <td>[(12.1392352, 104.5655273)]</td>\n",
       "      <td>Kampong Chhnang Province; Cambodia</td>\n",
       "      <td>(12.1392352, 104.5655273)</td>\n",
       "      <td>12.139235</td>\n",
       "      <td>104.565527</td>\n",
       "      <td>Kampong Chhnang, Cambodia</td>\n",
       "      <td>(12.1392352, 104.5655273)</td>\n",
       "      <td>90.0</td>\n",
       "    </tr>\n",
       "    <tr>\n",
       "      <th>9</th>\n",
       "      <td>9</td>\n",
       "      <td>KREDIT Microfinance Institution</td>\n",
       "      <td>General Financial Inclusion</td>\n",
       "      <td>a1050000000slfi</td>\n",
       "      <td>Higher Education</td>\n",
       "      <td>Cambodia</td>\n",
       "      <td>No</td>\n",
       "      <td>Kampong Chhnang Province</td>\n",
       "      <td>(12.0, 104.5)</td>\n",
       "      <td>KHM</td>\n",
       "      <td>...</td>\n",
       "      <td>31425</td>\n",
       "      <td>Kampong Chhnang Province, Cambodia</td>\n",
       "      <td>[(12.1392352, 104.5655273)]</td>\n",
       "      <td>Kampong Chhnang Province; Cambodia</td>\n",
       "      <td>(12.1392352, 104.5655273)</td>\n",
       "      <td>12.139235</td>\n",
       "      <td>104.565527</td>\n",
       "      <td>Kampong Chhnang, Cambodia</td>\n",
       "      <td>(12.1392352, 104.5655273)</td>\n",
       "      <td>90.0</td>\n",
       "    </tr>\n",
       "  </tbody>\n",
       "</table>\n",
       "<p>10 rows × 21 columns</p>\n",
       "</div>"
      ],
      "text/plain": [
       "   Partner ID               Field Partner Name                       sector  \\\n",
       "0           9  KREDIT Microfinance Institution  General Financial Inclusion   \n",
       "1           9  KREDIT Microfinance Institution  General Financial Inclusion   \n",
       "2           9  KREDIT Microfinance Institution  General Financial Inclusion   \n",
       "3           9  KREDIT Microfinance Institution  General Financial Inclusion   \n",
       "4           9  KREDIT Microfinance Institution  General Financial Inclusion   \n",
       "5           9  KREDIT Microfinance Institution  General Financial Inclusion   \n",
       "6           9  KREDIT Microfinance Institution  General Financial Inclusion   \n",
       "7           9  KREDIT Microfinance Institution  General Financial Inclusion   \n",
       "8           9  KREDIT Microfinance Institution  General Financial Inclusion   \n",
       "9           9  KREDIT Microfinance Institution  General Financial Inclusion   \n",
       "\n",
       "     Loan Theme ID         Loan Theme Type   country forkiva  \\\n",
       "0  a1050000000slfi        Higher Education  Cambodia      No   \n",
       "1  a10500000068jPe  Vulnerable Populations  Cambodia      No   \n",
       "2  a1050000000slfi        Higher Education  Cambodia      No   \n",
       "3  a10500000068jPe  Vulnerable Populations  Cambodia      No   \n",
       "4  a1050000002X1Uu              Sanitation  Cambodia      No   \n",
       "5  a1050000000slfi        Higher Education  Cambodia      No   \n",
       "6  a1050000007VvXr      Solar Home Systems  Cambodia      No   \n",
       "7  a1050000000weyk                 General  Cambodia      No   \n",
       "8  a1050000007VvXr      Solar Home Systems  Cambodia      No   \n",
       "9  a1050000000slfi        Higher Education  Cambodia      No   \n",
       "\n",
       "                     region     geocode_old  ISO  ...  amount  \\\n",
       "0          Banteay Meanchey  (13.75, 103.0)  KHM  ...     450   \n",
       "1       Battambang Province             NaN  KHM  ...   20275   \n",
       "2       Battambang Province             NaN  KHM  ...    9150   \n",
       "3     Kampong Cham Province   (12.0, 105.5)  KHM  ...  604950   \n",
       "4     Kampong Cham Province   (12.0, 105.5)  KHM  ...     275   \n",
       "5     Kampong Cham Province   (12.0, 105.5)  KHM  ...   62225   \n",
       "6     Kampong Cham Province   (12.0, 105.5)  KHM  ...    1300   \n",
       "7  Kampong Chhnang Province   (12.0, 104.5)  KHM  ...  237175   \n",
       "8  Kampong Chhnang Province   (12.0, 104.5)  KHM  ...    3050   \n",
       "9  Kampong Chhnang Province   (12.0, 104.5)  KHM  ...   31425   \n",
       "\n",
       "                         LocationName                      geocode  \\\n",
       "0          Banteay Meanchey, Cambodia  [(13.6672596, 102.8975098)]   \n",
       "1       Battambang Province, Cambodia   [(13.0286971, 102.989615)]   \n",
       "2       Battambang Province, Cambodia   [(13.0286971, 102.989615)]   \n",
       "3     Kampong Cham Province, Cambodia  [(12.0982918, 105.3131185)]   \n",
       "4     Kampong Cham Province, Cambodia  [(12.0982918, 105.3131185)]   \n",
       "5     Kampong Cham Province, Cambodia  [(12.0982918, 105.3131185)]   \n",
       "6     Kampong Cham Province, Cambodia  [(12.0982918, 105.3131185)]   \n",
       "7  Kampong Chhnang Province, Cambodia  [(12.1392352, 104.5655273)]   \n",
       "8  Kampong Chhnang Province, Cambodia  [(12.1392352, 104.5655273)]   \n",
       "9  Kampong Chhnang Province, Cambodia  [(12.1392352, 104.5655273)]   \n",
       "\n",
       "                                 names                        geo        lat  \\\n",
       "0  Banteay Meanchey Province; Cambodia  (13.6672596, 102.8975098)  13.667260   \n",
       "1        Battambang Province; Cambodia   (13.0286971, 102.989615)  13.028697   \n",
       "2        Battambang Province; Cambodia   (13.0286971, 102.989615)  13.028697   \n",
       "3      Kampong Cham Province; Cambodia  (12.0982918, 105.3131185)  12.098292   \n",
       "4      Kampong Cham Province; Cambodia  (12.0982918, 105.3131185)  12.098292   \n",
       "5      Kampong Cham Province; Cambodia  (12.0982918, 105.3131185)  12.098292   \n",
       "6      Kampong Cham Province; Cambodia  (12.0982918, 105.3131185)  12.098292   \n",
       "7   Kampong Chhnang Province; Cambodia  (12.1392352, 104.5655273)  12.139235   \n",
       "8   Kampong Chhnang Province; Cambodia  (12.1392352, 104.5655273)  12.139235   \n",
       "9   Kampong Chhnang Province; Cambodia  (12.1392352, 104.5655273)  12.139235   \n",
       "\n",
       "          lon                   mpi_region                    mpi_geo  \\\n",
       "0  102.897510  Banteay Mean Chey, Cambodia  (13.6672596, 102.8975098)   \n",
       "1  102.989615  Banteay Mean Chey, Cambodia  (13.6672596, 102.8975098)   \n",
       "2  102.989615  Banteay Mean Chey, Cambodia  (13.6672596, 102.8975098)   \n",
       "3  105.313119       Kampong Cham, Cambodia  (11.9924294, 105.4645408)   \n",
       "4  105.313119       Kampong Cham, Cambodia  (11.9924294, 105.4645408)   \n",
       "5  105.313119       Kampong Cham, Cambodia  (11.9924294, 105.4645408)   \n",
       "6  105.313119       Kampong Cham, Cambodia  (11.9924294, 105.4645408)   \n",
       "7  104.565527    Kampong Chhnang, Cambodia  (12.1392352, 104.5655273)   \n",
       "8  104.565527    Kampong Chhnang, Cambodia  (12.1392352, 104.5655273)   \n",
       "9  104.565527    Kampong Chhnang, Cambodia  (12.1392352, 104.5655273)   \n",
       "\n",
       "  rural_pct  \n",
       "0      90.0  \n",
       "1      90.0  \n",
       "2      90.0  \n",
       "3      90.0  \n",
       "4      90.0  \n",
       "5      90.0  \n",
       "6      90.0  \n",
       "7      90.0  \n",
       "8      90.0  \n",
       "9      90.0  \n",
       "\n",
       "[10 rows x 21 columns]"
      ]
     },
     "execution_count": 61,
     "metadata": {},
     "output_type": "execute_result"
    }
   ],
   "source": [
    "loan_themes_by_region.head(10)"
   ]
  },
  {
   "cell_type": "markdown",
   "metadata": {},
   "source": [
    "### Additional Data"
   ]
  },
  {
   "cell_type": "code",
   "execution_count": 75,
   "metadata": {
    "ExecuteTime": {
     "end_time": "2021-02-22T09:18:08.473707Z",
     "start_time": "2021-02-22T09:18:08.447984Z"
    }
   },
   "outputs": [],
   "source": [
    "MPI_national = pd.read_csv('/Users/lasayin/Desktop/Springboard/GitHub/Springboard_DS_Capstone2/RawData/AdditionalData/MPI_national.csv')"
   ]
  },
  {
   "cell_type": "code",
   "execution_count": 76,
   "metadata": {
    "ExecuteTime": {
     "end_time": "2021-02-22T09:18:08.501251Z",
     "start_time": "2021-02-22T09:18:08.489555Z"
    }
   },
   "outputs": [
    {
     "name": "stdout",
     "output_type": "stream",
     "text": [
      "<class 'pandas.core.frame.DataFrame'>\n",
      "RangeIndex: 102 entries, 0 to 101\n",
      "Data columns (total 8 columns):\n",
      " #   Column                          Non-Null Count  Dtype  \n",
      "---  ------                          --------------  -----  \n",
      " 0   ISO                             102 non-null    object \n",
      " 1   Country                         102 non-null    object \n",
      " 2   MPI Urban                       102 non-null    float64\n",
      " 3   Headcount Ratio Urban           102 non-null    float64\n",
      " 4   Intensity of Deprivation Urban  102 non-null    float64\n",
      " 5   MPI Rural                       102 non-null    float64\n",
      " 6   Headcount Ratio Rural           102 non-null    float64\n",
      " 7   Intensity of Deprivation Rural  102 non-null    float64\n",
      "dtypes: float64(6), object(2)\n",
      "memory usage: 6.5+ KB\n"
     ]
    }
   ],
   "source": [
    "MPI_national.info()"
   ]
  },
  {
   "cell_type": "code",
   "execution_count": 77,
   "metadata": {
    "ExecuteTime": {
     "end_time": "2021-02-22T09:18:08.681402Z",
     "start_time": "2021-02-22T09:18:08.597593Z"
    }
   },
   "outputs": [
    {
     "data": {
      "text/html": [
       "<div>\n",
       "<style scoped>\n",
       "    .dataframe tbody tr th:only-of-type {\n",
       "        vertical-align: middle;\n",
       "    }\n",
       "\n",
       "    .dataframe tbody tr th {\n",
       "        vertical-align: top;\n",
       "    }\n",
       "\n",
       "    .dataframe thead th {\n",
       "        text-align: right;\n",
       "    }\n",
       "</style>\n",
       "<table border=\"1\" class=\"dataframe\">\n",
       "  <thead>\n",
       "    <tr style=\"text-align: right;\">\n",
       "      <th></th>\n",
       "      <th>ISO</th>\n",
       "      <th>Country</th>\n",
       "      <th>MPI Urban</th>\n",
       "      <th>Headcount Ratio Urban</th>\n",
       "      <th>Intensity of Deprivation Urban</th>\n",
       "      <th>MPI Rural</th>\n",
       "      <th>Headcount Ratio Rural</th>\n",
       "      <th>Intensity of Deprivation Rural</th>\n",
       "    </tr>\n",
       "  </thead>\n",
       "  <tbody>\n",
       "    <tr>\n",
       "      <th>0</th>\n",
       "      <td>KAZ</td>\n",
       "      <td>Kazakhstan</td>\n",
       "      <td>0.000</td>\n",
       "      <td>0.0</td>\n",
       "      <td>33.3</td>\n",
       "      <td>0.000</td>\n",
       "      <td>0.09</td>\n",
       "      <td>33.3</td>\n",
       "    </tr>\n",
       "    <tr>\n",
       "      <th>1</th>\n",
       "      <td>SRB</td>\n",
       "      <td>Serbia</td>\n",
       "      <td>0.000</td>\n",
       "      <td>0.1</td>\n",
       "      <td>41.4</td>\n",
       "      <td>0.002</td>\n",
       "      <td>0.50</td>\n",
       "      <td>40.3</td>\n",
       "    </tr>\n",
       "    <tr>\n",
       "      <th>2</th>\n",
       "      <td>KGZ</td>\n",
       "      <td>Kyrgyzstan</td>\n",
       "      <td>0.000</td>\n",
       "      <td>0.1</td>\n",
       "      <td>40.2</td>\n",
       "      <td>0.003</td>\n",
       "      <td>0.70</td>\n",
       "      <td>37.1</td>\n",
       "    </tr>\n",
       "    <tr>\n",
       "      <th>3</th>\n",
       "      <td>TUN</td>\n",
       "      <td>Tunisia</td>\n",
       "      <td>0.000</td>\n",
       "      <td>0.1</td>\n",
       "      <td>35.6</td>\n",
       "      <td>0.012</td>\n",
       "      <td>3.18</td>\n",
       "      <td>38.7</td>\n",
       "    </tr>\n",
       "    <tr>\n",
       "      <th>4</th>\n",
       "      <td>ARM</td>\n",
       "      <td>Armenia</td>\n",
       "      <td>0.001</td>\n",
       "      <td>0.2</td>\n",
       "      <td>33.3</td>\n",
       "      <td>0.001</td>\n",
       "      <td>0.39</td>\n",
       "      <td>36.9</td>\n",
       "    </tr>\n",
       "  </tbody>\n",
       "</table>\n",
       "</div>"
      ],
      "text/plain": [
       "   ISO     Country  MPI Urban  Headcount Ratio Urban  \\\n",
       "0  KAZ  Kazakhstan      0.000                    0.0   \n",
       "1  SRB      Serbia      0.000                    0.1   \n",
       "2  KGZ  Kyrgyzstan      0.000                    0.1   \n",
       "3  TUN     Tunisia      0.000                    0.1   \n",
       "4  ARM     Armenia      0.001                    0.2   \n",
       "\n",
       "   Intensity of Deprivation Urban  MPI Rural  Headcount Ratio Rural  \\\n",
       "0                            33.3      0.000                   0.09   \n",
       "1                            41.4      0.002                   0.50   \n",
       "2                            40.2      0.003                   0.70   \n",
       "3                            35.6      0.012                   3.18   \n",
       "4                            33.3      0.001                   0.39   \n",
       "\n",
       "   Intensity of Deprivation Rural  \n",
       "0                            33.3  \n",
       "1                            40.3  \n",
       "2                            37.1  \n",
       "3                            38.7  \n",
       "4                            36.9  "
      ]
     },
     "execution_count": 77,
     "metadata": {},
     "output_type": "execute_result"
    }
   ],
   "source": [
    "MPI_national.head()"
   ]
  },
  {
   "cell_type": "code",
   "execution_count": 78,
   "metadata": {
    "ExecuteTime": {
     "end_time": "2021-02-22T09:18:08.704410Z",
     "start_time": "2021-02-22T09:18:08.688273Z"
    }
   },
   "outputs": [],
   "source": [
    "MPI_subnational = pd.read_csv('/Users/lasayin/Desktop/Springboard/GitHub/Springboard_DS_Capstone2/RawData/AdditionalData/MPI_subnational.csv')"
   ]
  },
  {
   "cell_type": "code",
   "execution_count": 79,
   "metadata": {
    "ExecuteTime": {
     "end_time": "2021-02-22T09:18:08.734043Z",
     "start_time": "2021-02-22T09:18:08.713526Z"
    }
   },
   "outputs": [
    {
     "name": "stdout",
     "output_type": "stream",
     "text": [
      "<class 'pandas.core.frame.DataFrame'>\n",
      "RangeIndex: 984 entries, 0 to 983\n",
      "Data columns (total 8 columns):\n",
      " #   Column                             Non-Null Count  Dtype  \n",
      "---  ------                             --------------  -----  \n",
      " 0   ISO country code                   984 non-null    object \n",
      " 1   Country                            984 non-null    object \n",
      " 2   Sub-national region                984 non-null    object \n",
      " 3   World region                       984 non-null    object \n",
      " 4   MPI National                       984 non-null    float64\n",
      " 5   MPI Regional                       984 non-null    float64\n",
      " 6   Headcount Ratio Regional           984 non-null    float64\n",
      " 7   Intensity of deprivation Regional  983 non-null    float64\n",
      "dtypes: float64(4), object(4)\n",
      "memory usage: 61.6+ KB\n"
     ]
    }
   ],
   "source": [
    "MPI_subnational.info()"
   ]
  },
  {
   "cell_type": "code",
   "execution_count": 80,
   "metadata": {
    "ExecuteTime": {
     "end_time": "2021-02-22T09:18:09.097796Z",
     "start_time": "2021-02-22T09:18:09.051845Z"
    }
   },
   "outputs": [
    {
     "data": {
      "text/html": [
       "<div>\n",
       "<style scoped>\n",
       "    .dataframe tbody tr th:only-of-type {\n",
       "        vertical-align: middle;\n",
       "    }\n",
       "\n",
       "    .dataframe tbody tr th {\n",
       "        vertical-align: top;\n",
       "    }\n",
       "\n",
       "    .dataframe thead th {\n",
       "        text-align: right;\n",
       "    }\n",
       "</style>\n",
       "<table border=\"1\" class=\"dataframe\">\n",
       "  <thead>\n",
       "    <tr style=\"text-align: right;\">\n",
       "      <th></th>\n",
       "      <th>ISO country code</th>\n",
       "      <th>Country</th>\n",
       "      <th>Sub-national region</th>\n",
       "      <th>World region</th>\n",
       "      <th>MPI National</th>\n",
       "      <th>MPI Regional</th>\n",
       "      <th>Headcount Ratio Regional</th>\n",
       "      <th>Intensity of deprivation Regional</th>\n",
       "    </tr>\n",
       "  </thead>\n",
       "  <tbody>\n",
       "    <tr>\n",
       "      <th>0</th>\n",
       "      <td>AFG</td>\n",
       "      <td>Afghanistan</td>\n",
       "      <td>Badakhshan</td>\n",
       "      <td>South Asia</td>\n",
       "      <td>0.295</td>\n",
       "      <td>0.387</td>\n",
       "      <td>67.5</td>\n",
       "      <td>57.3</td>\n",
       "    </tr>\n",
       "    <tr>\n",
       "      <th>1</th>\n",
       "      <td>AFG</td>\n",
       "      <td>Afghanistan</td>\n",
       "      <td>Badghis</td>\n",
       "      <td>South Asia</td>\n",
       "      <td>0.295</td>\n",
       "      <td>0.466</td>\n",
       "      <td>79.3</td>\n",
       "      <td>58.8</td>\n",
       "    </tr>\n",
       "    <tr>\n",
       "      <th>2</th>\n",
       "      <td>AFG</td>\n",
       "      <td>Afghanistan</td>\n",
       "      <td>Baghlan</td>\n",
       "      <td>South Asia</td>\n",
       "      <td>0.295</td>\n",
       "      <td>0.300</td>\n",
       "      <td>59.7</td>\n",
       "      <td>50.3</td>\n",
       "    </tr>\n",
       "    <tr>\n",
       "      <th>3</th>\n",
       "      <td>AFG</td>\n",
       "      <td>Afghanistan</td>\n",
       "      <td>Balkh</td>\n",
       "      <td>South Asia</td>\n",
       "      <td>0.295</td>\n",
       "      <td>0.301</td>\n",
       "      <td>55.7</td>\n",
       "      <td>54.1</td>\n",
       "    </tr>\n",
       "    <tr>\n",
       "      <th>4</th>\n",
       "      <td>AFG</td>\n",
       "      <td>Afghanistan</td>\n",
       "      <td>Bamyan</td>\n",
       "      <td>South Asia</td>\n",
       "      <td>0.295</td>\n",
       "      <td>0.325</td>\n",
       "      <td>61.0</td>\n",
       "      <td>53.3</td>\n",
       "    </tr>\n",
       "  </tbody>\n",
       "</table>\n",
       "</div>"
      ],
      "text/plain": [
       "  ISO country code      Country Sub-national region World region  \\\n",
       "0              AFG  Afghanistan          Badakhshan   South Asia   \n",
       "1              AFG  Afghanistan             Badghis   South Asia   \n",
       "2              AFG  Afghanistan             Baghlan   South Asia   \n",
       "3              AFG  Afghanistan               Balkh   South Asia   \n",
       "4              AFG  Afghanistan              Bamyan   South Asia   \n",
       "\n",
       "   MPI National  MPI Regional  Headcount Ratio Regional  \\\n",
       "0         0.295         0.387                      67.5   \n",
       "1         0.295         0.466                      79.3   \n",
       "2         0.295         0.300                      59.7   \n",
       "3         0.295         0.301                      55.7   \n",
       "4         0.295         0.325                      61.0   \n",
       "\n",
       "   Intensity of deprivation Regional  \n",
       "0                               57.3  \n",
       "1                               58.8  \n",
       "2                               50.3  \n",
       "3                               54.1  \n",
       "4                               53.3  "
      ]
     },
     "execution_count": 80,
     "metadata": {},
     "output_type": "execute_result"
    }
   ],
   "source": [
    "MPI_subnational.head()"
   ]
  },
  {
   "cell_type": "code",
   "execution_count": 81,
   "metadata": {
    "ExecuteTime": {
     "end_time": "2021-02-22T09:18:09.272845Z",
     "start_time": "2021-02-22T09:18:09.238504Z"
    }
   },
   "outputs": [],
   "source": [
    "World_population = pd.read_csv('/Users/lasayin/Desktop/Springboard/GitHub/Springboard_DS_Capstone2/RawData/AdditionalData/WorldPopulation.csv')"
   ]
  },
  {
   "cell_type": "code",
   "execution_count": 82,
   "metadata": {
    "ExecuteTime": {
     "end_time": "2021-02-22T09:18:09.401843Z",
     "start_time": "2021-02-22T09:18:09.281255Z"
    }
   },
   "outputs": [
    {
     "name": "stdout",
     "output_type": "stream",
     "text": [
      "<class 'pandas.core.frame.DataFrame'>\n",
      "RangeIndex: 217 entries, 0 to 216\n",
      "Data columns (total 62 columns):\n",
      " #   Column          Non-Null Count  Dtype  \n",
      "---  ------          --------------  -----  \n",
      " 0   Country         217 non-null    object \n",
      " 1   Country Code    217 non-null    object \n",
      " 2   Indicator Name  217 non-null    object \n",
      " 3   Indicator Code  217 non-null    object \n",
      " 4   1960            214 non-null    float64\n",
      " 5   1961            214 non-null    float64\n",
      " 6   1962            214 non-null    float64\n",
      " 7   1963            214 non-null    float64\n",
      " 8   1964            214 non-null    float64\n",
      " 9   1965            214 non-null    float64\n",
      " 10  1966            214 non-null    float64\n",
      " 11  1967            214 non-null    float64\n",
      " 12  1968            214 non-null    float64\n",
      " 13  1969            214 non-null    float64\n",
      " 14  1970            214 non-null    float64\n",
      " 15  1971            214 non-null    float64\n",
      " 16  1972            214 non-null    float64\n",
      " 17  1973            214 non-null    float64\n",
      " 18  1974            214 non-null    float64\n",
      " 19  1975            214 non-null    float64\n",
      " 20  1976            214 non-null    float64\n",
      " 21  1977            214 non-null    float64\n",
      " 22  1978            214 non-null    float64\n",
      " 23  1979            214 non-null    float64\n",
      " 24  1980            214 non-null    float64\n",
      " 25  1981            214 non-null    float64\n",
      " 26  1982            214 non-null    float64\n",
      " 27  1983            214 non-null    float64\n",
      " 28  1984            214 non-null    float64\n",
      " 29  1985            214 non-null    float64\n",
      " 30  1986            214 non-null    float64\n",
      " 31  1987            214 non-null    float64\n",
      " 32  1988            214 non-null    float64\n",
      " 33  1989            214 non-null    float64\n",
      " 34  1990            216 non-null    float64\n",
      " 35  1991            216 non-null    float64\n",
      " 36  1992            215 non-null    float64\n",
      " 37  1993            215 non-null    float64\n",
      " 38  1994            215 non-null    float64\n",
      " 39  1995            216 non-null    float64\n",
      " 40  1996            216 non-null    float64\n",
      " 41  1997            216 non-null    float64\n",
      " 42  1998            217 non-null    int64  \n",
      " 43  1999            217 non-null    int64  \n",
      " 44  2000            217 non-null    int64  \n",
      " 45  2001            217 non-null    int64  \n",
      " 46  2002            217 non-null    float64\n",
      " 47  2003            217 non-null    float64\n",
      " 48  2004            217 non-null    float64\n",
      " 49  2005            217 non-null    float64\n",
      " 50  2006            217 non-null    float64\n",
      " 51  2007            217 non-null    float64\n",
      " 52  2008            217 non-null    float64\n",
      " 53  2009            217 non-null    float64\n",
      " 54  2010            217 non-null    float64\n",
      " 55  2011            217 non-null    float64\n",
      " 56  2012            217 non-null    float64\n",
      " 57  2013            217 non-null    float64\n",
      " 58  2014            217 non-null    float64\n",
      " 59  2015            217 non-null    float64\n",
      " 60  2016            217 non-null    int64  \n",
      " 61  Unnamed: 61     0 non-null      float64\n",
      "dtypes: float64(53), int64(5), object(4)\n",
      "memory usage: 105.2+ KB\n"
     ]
    }
   ],
   "source": [
    "World_population.info()"
   ]
  },
  {
   "cell_type": "code",
   "execution_count": 83,
   "metadata": {
    "ExecuteTime": {
     "end_time": "2021-02-22T09:18:09.574963Z",
     "start_time": "2021-02-22T09:18:09.408245Z"
    }
   },
   "outputs": [
    {
     "data": {
      "text/html": [
       "<div>\n",
       "<style scoped>\n",
       "    .dataframe tbody tr th:only-of-type {\n",
       "        vertical-align: middle;\n",
       "    }\n",
       "\n",
       "    .dataframe tbody tr th {\n",
       "        vertical-align: top;\n",
       "    }\n",
       "\n",
       "    .dataframe thead th {\n",
       "        text-align: right;\n",
       "    }\n",
       "</style>\n",
       "<table border=\"1\" class=\"dataframe\">\n",
       "  <thead>\n",
       "    <tr style=\"text-align: right;\">\n",
       "      <th></th>\n",
       "      <th>Country</th>\n",
       "      <th>Country Code</th>\n",
       "      <th>Indicator Name</th>\n",
       "      <th>Indicator Code</th>\n",
       "      <th>1960</th>\n",
       "      <th>1961</th>\n",
       "      <th>1962</th>\n",
       "      <th>1963</th>\n",
       "      <th>1964</th>\n",
       "      <th>1965</th>\n",
       "      <th>...</th>\n",
       "      <th>2008</th>\n",
       "      <th>2009</th>\n",
       "      <th>2010</th>\n",
       "      <th>2011</th>\n",
       "      <th>2012</th>\n",
       "      <th>2013</th>\n",
       "      <th>2014</th>\n",
       "      <th>2015</th>\n",
       "      <th>2016</th>\n",
       "      <th>Unnamed: 61</th>\n",
       "    </tr>\n",
       "  </thead>\n",
       "  <tbody>\n",
       "    <tr>\n",
       "      <th>0</th>\n",
       "      <td>Aruba</td>\n",
       "      <td>ABW</td>\n",
       "      <td>Population, total</td>\n",
       "      <td>SP.POP.TOTL</td>\n",
       "      <td>54211.0</td>\n",
       "      <td>55438.0</td>\n",
       "      <td>56225.0</td>\n",
       "      <td>56695.0</td>\n",
       "      <td>57032.0</td>\n",
       "      <td>57360.0</td>\n",
       "      <td>...</td>\n",
       "      <td>101353.0</td>\n",
       "      <td>101453.0</td>\n",
       "      <td>101669.0</td>\n",
       "      <td>102053.0</td>\n",
       "      <td>102577.0</td>\n",
       "      <td>103187.0</td>\n",
       "      <td>103795.0</td>\n",
       "      <td>104341.0</td>\n",
       "      <td>104822</td>\n",
       "      <td>NaN</td>\n",
       "    </tr>\n",
       "    <tr>\n",
       "      <th>1</th>\n",
       "      <td>Afghanistan</td>\n",
       "      <td>AFG</td>\n",
       "      <td>Population, total</td>\n",
       "      <td>SP.POP.TOTL</td>\n",
       "      <td>8996351.0</td>\n",
       "      <td>9166764.0</td>\n",
       "      <td>9345868.0</td>\n",
       "      <td>9533954.0</td>\n",
       "      <td>9731361.0</td>\n",
       "      <td>9938414.0</td>\n",
       "      <td>...</td>\n",
       "      <td>27294031.0</td>\n",
       "      <td>28004331.0</td>\n",
       "      <td>28803167.0</td>\n",
       "      <td>29708599.0</td>\n",
       "      <td>30696958.0</td>\n",
       "      <td>31731688.0</td>\n",
       "      <td>32758020.0</td>\n",
       "      <td>33736494.0</td>\n",
       "      <td>34656032</td>\n",
       "      <td>NaN</td>\n",
       "    </tr>\n",
       "    <tr>\n",
       "      <th>2</th>\n",
       "      <td>Angola</td>\n",
       "      <td>AGO</td>\n",
       "      <td>Population, total</td>\n",
       "      <td>SP.POP.TOTL</td>\n",
       "      <td>5643182.0</td>\n",
       "      <td>5753024.0</td>\n",
       "      <td>5866061.0</td>\n",
       "      <td>5980417.0</td>\n",
       "      <td>6093321.0</td>\n",
       "      <td>6203299.0</td>\n",
       "      <td>...</td>\n",
       "      <td>21759420.0</td>\n",
       "      <td>22549547.0</td>\n",
       "      <td>23369131.0</td>\n",
       "      <td>24218565.0</td>\n",
       "      <td>25096150.0</td>\n",
       "      <td>25998340.0</td>\n",
       "      <td>26920466.0</td>\n",
       "      <td>27859305.0</td>\n",
       "      <td>28813463</td>\n",
       "      <td>NaN</td>\n",
       "    </tr>\n",
       "    <tr>\n",
       "      <th>3</th>\n",
       "      <td>Albania</td>\n",
       "      <td>ALB</td>\n",
       "      <td>Population, total</td>\n",
       "      <td>SP.POP.TOTL</td>\n",
       "      <td>1608800.0</td>\n",
       "      <td>1659800.0</td>\n",
       "      <td>1711319.0</td>\n",
       "      <td>1762621.0</td>\n",
       "      <td>1814135.0</td>\n",
       "      <td>1864791.0</td>\n",
       "      <td>...</td>\n",
       "      <td>2947314.0</td>\n",
       "      <td>2927519.0</td>\n",
       "      <td>2913021.0</td>\n",
       "      <td>2905195.0</td>\n",
       "      <td>2900401.0</td>\n",
       "      <td>2895092.0</td>\n",
       "      <td>2889104.0</td>\n",
       "      <td>2880703.0</td>\n",
       "      <td>2876101</td>\n",
       "      <td>NaN</td>\n",
       "    </tr>\n",
       "    <tr>\n",
       "      <th>4</th>\n",
       "      <td>Andorra</td>\n",
       "      <td>AND</td>\n",
       "      <td>Population, total</td>\n",
       "      <td>SP.POP.TOTL</td>\n",
       "      <td>13411.0</td>\n",
       "      <td>14375.0</td>\n",
       "      <td>15370.0</td>\n",
       "      <td>16412.0</td>\n",
       "      <td>17469.0</td>\n",
       "      <td>18549.0</td>\n",
       "      <td>...</td>\n",
       "      <td>83861.0</td>\n",
       "      <td>84462.0</td>\n",
       "      <td>84449.0</td>\n",
       "      <td>83751.0</td>\n",
       "      <td>82431.0</td>\n",
       "      <td>80788.0</td>\n",
       "      <td>79223.0</td>\n",
       "      <td>78014.0</td>\n",
       "      <td>77281</td>\n",
       "      <td>NaN</td>\n",
       "    </tr>\n",
       "  </tbody>\n",
       "</table>\n",
       "<p>5 rows × 62 columns</p>\n",
       "</div>"
      ],
      "text/plain": [
       "       Country Country Code     Indicator Name Indicator Code       1960  \\\n",
       "0        Aruba          ABW  Population, total    SP.POP.TOTL    54211.0   \n",
       "1  Afghanistan          AFG  Population, total    SP.POP.TOTL  8996351.0   \n",
       "2       Angola          AGO  Population, total    SP.POP.TOTL  5643182.0   \n",
       "3      Albania          ALB  Population, total    SP.POP.TOTL  1608800.0   \n",
       "4      Andorra          AND  Population, total    SP.POP.TOTL    13411.0   \n",
       "\n",
       "        1961       1962       1963       1964       1965  ...        2008  \\\n",
       "0    55438.0    56225.0    56695.0    57032.0    57360.0  ...    101353.0   \n",
       "1  9166764.0  9345868.0  9533954.0  9731361.0  9938414.0  ...  27294031.0   \n",
       "2  5753024.0  5866061.0  5980417.0  6093321.0  6203299.0  ...  21759420.0   \n",
       "3  1659800.0  1711319.0  1762621.0  1814135.0  1864791.0  ...   2947314.0   \n",
       "4    14375.0    15370.0    16412.0    17469.0    18549.0  ...     83861.0   \n",
       "\n",
       "         2009        2010        2011        2012        2013        2014  \\\n",
       "0    101453.0    101669.0    102053.0    102577.0    103187.0    103795.0   \n",
       "1  28004331.0  28803167.0  29708599.0  30696958.0  31731688.0  32758020.0   \n",
       "2  22549547.0  23369131.0  24218565.0  25096150.0  25998340.0  26920466.0   \n",
       "3   2927519.0   2913021.0   2905195.0   2900401.0   2895092.0   2889104.0   \n",
       "4     84462.0     84449.0     83751.0     82431.0     80788.0     79223.0   \n",
       "\n",
       "         2015      2016  Unnamed: 61  \n",
       "0    104341.0    104822          NaN  \n",
       "1  33736494.0  34656032          NaN  \n",
       "2  27859305.0  28813463          NaN  \n",
       "3   2880703.0   2876101          NaN  \n",
       "4     78014.0     77281          NaN  \n",
       "\n",
       "[5 rows x 62 columns]"
      ]
     },
     "execution_count": 83,
     "metadata": {},
     "output_type": "execute_result"
    }
   ],
   "source": [
    "World_population.head()"
   ]
  },
  {
   "cell_type": "code",
   "execution_count": 84,
   "metadata": {
    "ExecuteTime": {
     "end_time": "2021-02-22T09:18:09.649782Z",
     "start_time": "2021-02-22T09:18:09.586661Z"
    }
   },
   "outputs": [],
   "source": [
    "HDI = pd.read_csv('/Users/lasayin/Desktop/Springboard/GitHub/Springboard_DS_Capstone2/RawData/AdditionalData/Human Development Index (HDI).csv', encoding = \"ISO-8859-1\")"
   ]
  },
  {
   "cell_type": "code",
   "execution_count": 85,
   "metadata": {
    "ExecuteTime": {
     "end_time": "2021-02-22T09:18:09.797755Z",
     "start_time": "2021-02-22T09:18:09.672161Z"
    }
   },
   "outputs": [
    {
     "name": "stdout",
     "output_type": "stream",
     "text": [
      "<class 'pandas.core.frame.DataFrame'>\n",
      "RangeIndex: 207 entries, 0 to 206\n",
      "Data columns (total 62 columns):\n",
      " #   Column       Non-Null Count  Dtype  \n",
      "---  ------       --------------  -----  \n",
      " 0   HDI Rank     204 non-null    object \n",
      " 1   Country      206 non-null    object \n",
      " 2   1990         204 non-null    object \n",
      " 3   Unnamed: 3   0 non-null      float64\n",
      " 4   1991         206 non-null    object \n",
      " 5   Unnamed: 5   0 non-null      float64\n",
      " 6   1992         206 non-null    object \n",
      " 7   Unnamed: 7   0 non-null      float64\n",
      " 8   1993         206 non-null    object \n",
      " 9   Unnamed: 9   0 non-null      float64\n",
      " 10  1994         206 non-null    object \n",
      " 11  Unnamed: 11  0 non-null      float64\n",
      " 12  1995         206 non-null    object \n",
      " 13  Unnamed: 13  0 non-null      float64\n",
      " 14  1996         206 non-null    object \n",
      " 15  Unnamed: 15  0 non-null      float64\n",
      " 16  1997         206 non-null    object \n",
      " 17  Unnamed: 17  0 non-null      float64\n",
      " 18  1998         206 non-null    object \n",
      " 19  Unnamed: 19  0 non-null      float64\n",
      " 20  1999         206 non-null    object \n",
      " 21  Unnamed: 21  0 non-null      float64\n",
      " 22  2000         206 non-null    object \n",
      " 23  Unnamed: 23  0 non-null      float64\n",
      " 24  2001         206 non-null    object \n",
      " 25  Unnamed: 25  0 non-null      float64\n",
      " 26  2002         206 non-null    object \n",
      " 27  Unnamed: 27  0 non-null      float64\n",
      " 28  2003         206 non-null    object \n",
      " 29  Unnamed: 29  0 non-null      float64\n",
      " 30  2004         206 non-null    object \n",
      " 31  Unnamed: 31  0 non-null      float64\n",
      " 32  2005         206 non-null    object \n",
      " 33  Unnamed: 33  0 non-null      float64\n",
      " 34  2006         206 non-null    object \n",
      " 35  Unnamed: 35  0 non-null      float64\n",
      " 36  2007         206 non-null    object \n",
      " 37  Unnamed: 37  0 non-null      float64\n",
      " 38  2008         206 non-null    object \n",
      " 39  Unnamed: 39  0 non-null      float64\n",
      " 40  2009         206 non-null    object \n",
      " 41  Unnamed: 41  0 non-null      float64\n",
      " 42  2010         206 non-null    object \n",
      " 43  Unnamed: 43  0 non-null      float64\n",
      " 44  2011         206 non-null    object \n",
      " 45  Unnamed: 45  0 non-null      float64\n",
      " 46  2012         206 non-null    object \n",
      " 47  Unnamed: 47  0 non-null      float64\n",
      " 48  2013         206 non-null    object \n",
      " 49  Unnamed: 49  0 non-null      float64\n",
      " 50  2014         206 non-null    object \n",
      " 51  Unnamed: 51  0 non-null      float64\n",
      " 52  2015         206 non-null    object \n",
      " 53  Unnamed: 53  0 non-null      float64\n",
      " 54  2016         206 non-null    object \n",
      " 55  Unnamed: 55  0 non-null      float64\n",
      " 56  2017         206 non-null    object \n",
      " 57  Unnamed: 57  0 non-null      float64\n",
      " 58  2018         206 non-null    object \n",
      " 59  Unnamed: 59  0 non-null      float64\n",
      " 60  2019         206 non-null    object \n",
      " 61  Unnamed: 61  0 non-null      float64\n",
      "dtypes: float64(30), object(32)\n",
      "memory usage: 100.4+ KB\n"
     ]
    }
   ],
   "source": [
    "HDI.info()"
   ]
  },
  {
   "cell_type": "code",
   "execution_count": 86,
   "metadata": {
    "ExecuteTime": {
     "end_time": "2021-02-22T09:18:09.924498Z",
     "start_time": "2021-02-22T09:18:09.831218Z"
    }
   },
   "outputs": [
    {
     "data": {
      "text/html": [
       "<div>\n",
       "<style scoped>\n",
       "    .dataframe tbody tr th:only-of-type {\n",
       "        vertical-align: middle;\n",
       "    }\n",
       "\n",
       "    .dataframe tbody tr th {\n",
       "        vertical-align: top;\n",
       "    }\n",
       "\n",
       "    .dataframe thead th {\n",
       "        text-align: right;\n",
       "    }\n",
       "</style>\n",
       "<table border=\"1\" class=\"dataframe\">\n",
       "  <thead>\n",
       "    <tr style=\"text-align: right;\">\n",
       "      <th></th>\n",
       "      <th>HDI Rank</th>\n",
       "      <th>Country</th>\n",
       "      <th>1990</th>\n",
       "      <th>Unnamed: 3</th>\n",
       "      <th>1991</th>\n",
       "      <th>Unnamed: 5</th>\n",
       "      <th>1992</th>\n",
       "      <th>Unnamed: 7</th>\n",
       "      <th>1993</th>\n",
       "      <th>Unnamed: 9</th>\n",
       "      <th>...</th>\n",
       "      <th>2015</th>\n",
       "      <th>Unnamed: 53</th>\n",
       "      <th>2016</th>\n",
       "      <th>Unnamed: 55</th>\n",
       "      <th>2017</th>\n",
       "      <th>Unnamed: 57</th>\n",
       "      <th>2018</th>\n",
       "      <th>Unnamed: 59</th>\n",
       "      <th>2019</th>\n",
       "      <th>Unnamed: 61</th>\n",
       "    </tr>\n",
       "  </thead>\n",
       "  <tbody>\n",
       "    <tr>\n",
       "      <th>0</th>\n",
       "      <td>169</td>\n",
       "      <td>Afghanistan</td>\n",
       "      <td>0.302</td>\n",
       "      <td>NaN</td>\n",
       "      <td>0.307</td>\n",
       "      <td>NaN</td>\n",
       "      <td>0.316</td>\n",
       "      <td>NaN</td>\n",
       "      <td>0.312</td>\n",
       "      <td>NaN</td>\n",
       "      <td>...</td>\n",
       "      <td>0.500</td>\n",
       "      <td>NaN</td>\n",
       "      <td>0.502</td>\n",
       "      <td>NaN</td>\n",
       "      <td>0.506</td>\n",
       "      <td>NaN</td>\n",
       "      <td>0.509</td>\n",
       "      <td>NaN</td>\n",
       "      <td>0.511</td>\n",
       "      <td>NaN</td>\n",
       "    </tr>\n",
       "    <tr>\n",
       "      <th>1</th>\n",
       "      <td>69</td>\n",
       "      <td>Albania</td>\n",
       "      <td>0.650</td>\n",
       "      <td>NaN</td>\n",
       "      <td>0.631</td>\n",
       "      <td>NaN</td>\n",
       "      <td>0.615</td>\n",
       "      <td>NaN</td>\n",
       "      <td>0.618</td>\n",
       "      <td>NaN</td>\n",
       "      <td>...</td>\n",
       "      <td>0.788</td>\n",
       "      <td>NaN</td>\n",
       "      <td>0.788</td>\n",
       "      <td>NaN</td>\n",
       "      <td>0.790</td>\n",
       "      <td>NaN</td>\n",
       "      <td>0.792</td>\n",
       "      <td>NaN</td>\n",
       "      <td>0.795</td>\n",
       "      <td>NaN</td>\n",
       "    </tr>\n",
       "    <tr>\n",
       "      <th>2</th>\n",
       "      <td>91</td>\n",
       "      <td>Algeria</td>\n",
       "      <td>0.572</td>\n",
       "      <td>NaN</td>\n",
       "      <td>0.576</td>\n",
       "      <td>NaN</td>\n",
       "      <td>0.582</td>\n",
       "      <td>NaN</td>\n",
       "      <td>0.586</td>\n",
       "      <td>NaN</td>\n",
       "      <td>...</td>\n",
       "      <td>0.740</td>\n",
       "      <td>NaN</td>\n",
       "      <td>0.743</td>\n",
       "      <td>NaN</td>\n",
       "      <td>0.745</td>\n",
       "      <td>NaN</td>\n",
       "      <td>0.746</td>\n",
       "      <td>NaN</td>\n",
       "      <td>0.748</td>\n",
       "      <td>NaN</td>\n",
       "    </tr>\n",
       "    <tr>\n",
       "      <th>3</th>\n",
       "      <td>36</td>\n",
       "      <td>Andorra</td>\n",
       "      <td>..</td>\n",
       "      <td>NaN</td>\n",
       "      <td>..</td>\n",
       "      <td>NaN</td>\n",
       "      <td>..</td>\n",
       "      <td>NaN</td>\n",
       "      <td>..</td>\n",
       "      <td>NaN</td>\n",
       "      <td>...</td>\n",
       "      <td>0.862</td>\n",
       "      <td>NaN</td>\n",
       "      <td>0.866</td>\n",
       "      <td>NaN</td>\n",
       "      <td>0.863</td>\n",
       "      <td>NaN</td>\n",
       "      <td>0.867</td>\n",
       "      <td>NaN</td>\n",
       "      <td>0.868</td>\n",
       "      <td>NaN</td>\n",
       "    </tr>\n",
       "    <tr>\n",
       "      <th>4</th>\n",
       "      <td>148</td>\n",
       "      <td>Angola</td>\n",
       "      <td>..</td>\n",
       "      <td>NaN</td>\n",
       "      <td>..</td>\n",
       "      <td>NaN</td>\n",
       "      <td>..</td>\n",
       "      <td>NaN</td>\n",
       "      <td>..</td>\n",
       "      <td>NaN</td>\n",
       "      <td>...</td>\n",
       "      <td>0.572</td>\n",
       "      <td>NaN</td>\n",
       "      <td>0.578</td>\n",
       "      <td>NaN</td>\n",
       "      <td>0.582</td>\n",
       "      <td>NaN</td>\n",
       "      <td>0.582</td>\n",
       "      <td>NaN</td>\n",
       "      <td>0.581</td>\n",
       "      <td>NaN</td>\n",
       "    </tr>\n",
       "  </tbody>\n",
       "</table>\n",
       "<p>5 rows × 62 columns</p>\n",
       "</div>"
      ],
      "text/plain": [
       "  HDI Rank       Country   1990  Unnamed: 3   1991  Unnamed: 5   1992  \\\n",
       "0      169   Afghanistan  0.302         NaN  0.307         NaN  0.316   \n",
       "1       69       Albania  0.650         NaN  0.631         NaN  0.615   \n",
       "2       91       Algeria  0.572         NaN  0.576         NaN  0.582   \n",
       "3       36       Andorra     ..         NaN     ..         NaN     ..   \n",
       "4      148        Angola     ..         NaN     ..         NaN     ..   \n",
       "\n",
       "   Unnamed: 7   1993  Unnamed: 9  ...   2015  Unnamed: 53   2016  Unnamed: 55  \\\n",
       "0         NaN  0.312         NaN  ...  0.500          NaN  0.502          NaN   \n",
       "1         NaN  0.618         NaN  ...  0.788          NaN  0.788          NaN   \n",
       "2         NaN  0.586         NaN  ...  0.740          NaN  0.743          NaN   \n",
       "3         NaN     ..         NaN  ...  0.862          NaN  0.866          NaN   \n",
       "4         NaN     ..         NaN  ...  0.572          NaN  0.578          NaN   \n",
       "\n",
       "    2017  Unnamed: 57   2018  Unnamed: 59   2019  Unnamed: 61  \n",
       "0  0.506          NaN  0.509          NaN  0.511          NaN  \n",
       "1  0.790          NaN  0.792          NaN  0.795          NaN  \n",
       "2  0.745          NaN  0.746          NaN  0.748          NaN  \n",
       "3  0.863          NaN  0.867          NaN  0.868          NaN  \n",
       "4  0.582          NaN  0.582          NaN  0.581          NaN  \n",
       "\n",
       "[5 rows x 62 columns]"
      ]
     },
     "execution_count": 86,
     "metadata": {},
     "output_type": "execute_result"
    }
   ],
   "source": [
    "HDI.head()"
   ]
  },
  {
   "cell_type": "code",
   "execution_count": 87,
   "metadata": {
    "ExecuteTime": {
     "end_time": "2021-02-22T09:18:09.959177Z",
     "start_time": "2021-02-22T09:18:09.945541Z"
    }
   },
   "outputs": [],
   "source": [
    "HDI = HDI.loc[:,~HDI.columns.str.match('Unnamed')]"
   ]
  },
  {
   "cell_type": "code",
   "execution_count": 88,
   "metadata": {
    "ExecuteTime": {
     "end_time": "2021-02-22T09:18:09.991232Z",
     "start_time": "2021-02-22T09:18:09.971250Z"
    }
   },
   "outputs": [
    {
     "name": "stdout",
     "output_type": "stream",
     "text": [
      "<class 'pandas.core.frame.DataFrame'>\n",
      "RangeIndex: 207 entries, 0 to 206\n",
      "Data columns (total 32 columns):\n",
      " #   Column    Non-Null Count  Dtype \n",
      "---  ------    --------------  ----- \n",
      " 0   HDI Rank  204 non-null    object\n",
      " 1   Country   206 non-null    object\n",
      " 2   1990      204 non-null    object\n",
      " 3   1991      206 non-null    object\n",
      " 4   1992      206 non-null    object\n",
      " 5   1993      206 non-null    object\n",
      " 6   1994      206 non-null    object\n",
      " 7   1995      206 non-null    object\n",
      " 8   1996      206 non-null    object\n",
      " 9   1997      206 non-null    object\n",
      " 10  1998      206 non-null    object\n",
      " 11  1999      206 non-null    object\n",
      " 12  2000      206 non-null    object\n",
      " 13  2001      206 non-null    object\n",
      " 14  2002      206 non-null    object\n",
      " 15  2003      206 non-null    object\n",
      " 16  2004      206 non-null    object\n",
      " 17  2005      206 non-null    object\n",
      " 18  2006      206 non-null    object\n",
      " 19  2007      206 non-null    object\n",
      " 20  2008      206 non-null    object\n",
      " 21  2009      206 non-null    object\n",
      " 22  2010      206 non-null    object\n",
      " 23  2011      206 non-null    object\n",
      " 24  2012      206 non-null    object\n",
      " 25  2013      206 non-null    object\n",
      " 26  2014      206 non-null    object\n",
      " 27  2015      206 non-null    object\n",
      " 28  2016      206 non-null    object\n",
      " 29  2017      206 non-null    object\n",
      " 30  2018      206 non-null    object\n",
      " 31  2019      206 non-null    object\n",
      "dtypes: object(32)\n",
      "memory usage: 51.9+ KB\n"
     ]
    }
   ],
   "source": [
    "HDI.info()"
   ]
  },
  {
   "cell_type": "code",
   "execution_count": 89,
   "metadata": {
    "ExecuteTime": {
     "end_time": "2021-02-22T09:18:10.110153Z",
     "start_time": "2021-02-22T09:18:10.000228Z"
    }
   },
   "outputs": [
    {
     "data": {
      "text/html": [
       "<div>\n",
       "<style scoped>\n",
       "    .dataframe tbody tr th:only-of-type {\n",
       "        vertical-align: middle;\n",
       "    }\n",
       "\n",
       "    .dataframe tbody tr th {\n",
       "        vertical-align: top;\n",
       "    }\n",
       "\n",
       "    .dataframe thead th {\n",
       "        text-align: right;\n",
       "    }\n",
       "</style>\n",
       "<table border=\"1\" class=\"dataframe\">\n",
       "  <thead>\n",
       "    <tr style=\"text-align: right;\">\n",
       "      <th></th>\n",
       "      <th>HDI Rank</th>\n",
       "      <th>Country</th>\n",
       "      <th>1990</th>\n",
       "      <th>1991</th>\n",
       "      <th>1992</th>\n",
       "      <th>1993</th>\n",
       "      <th>1994</th>\n",
       "      <th>1995</th>\n",
       "      <th>1996</th>\n",
       "      <th>1997</th>\n",
       "      <th>...</th>\n",
       "      <th>2010</th>\n",
       "      <th>2011</th>\n",
       "      <th>2012</th>\n",
       "      <th>2013</th>\n",
       "      <th>2014</th>\n",
       "      <th>2015</th>\n",
       "      <th>2016</th>\n",
       "      <th>2017</th>\n",
       "      <th>2018</th>\n",
       "      <th>2019</th>\n",
       "    </tr>\n",
       "  </thead>\n",
       "  <tbody>\n",
       "    <tr>\n",
       "      <th>0</th>\n",
       "      <td>169</td>\n",
       "      <td>Afghanistan</td>\n",
       "      <td>0.302</td>\n",
       "      <td>0.307</td>\n",
       "      <td>0.316</td>\n",
       "      <td>0.312</td>\n",
       "      <td>0.307</td>\n",
       "      <td>0.331</td>\n",
       "      <td>0.335</td>\n",
       "      <td>0.339</td>\n",
       "      <td>...</td>\n",
       "      <td>0.472</td>\n",
       "      <td>0.477</td>\n",
       "      <td>0.489</td>\n",
       "      <td>0.496</td>\n",
       "      <td>0.500</td>\n",
       "      <td>0.500</td>\n",
       "      <td>0.502</td>\n",
       "      <td>0.506</td>\n",
       "      <td>0.509</td>\n",
       "      <td>0.511</td>\n",
       "    </tr>\n",
       "    <tr>\n",
       "      <th>1</th>\n",
       "      <td>69</td>\n",
       "      <td>Albania</td>\n",
       "      <td>0.650</td>\n",
       "      <td>0.631</td>\n",
       "      <td>0.615</td>\n",
       "      <td>0.618</td>\n",
       "      <td>0.624</td>\n",
       "      <td>0.637</td>\n",
       "      <td>0.646</td>\n",
       "      <td>0.645</td>\n",
       "      <td>...</td>\n",
       "      <td>0.745</td>\n",
       "      <td>0.764</td>\n",
       "      <td>0.775</td>\n",
       "      <td>0.782</td>\n",
       "      <td>0.787</td>\n",
       "      <td>0.788</td>\n",
       "      <td>0.788</td>\n",
       "      <td>0.790</td>\n",
       "      <td>0.792</td>\n",
       "      <td>0.795</td>\n",
       "    </tr>\n",
       "    <tr>\n",
       "      <th>2</th>\n",
       "      <td>91</td>\n",
       "      <td>Algeria</td>\n",
       "      <td>0.572</td>\n",
       "      <td>0.576</td>\n",
       "      <td>0.582</td>\n",
       "      <td>0.586</td>\n",
       "      <td>0.590</td>\n",
       "      <td>0.595</td>\n",
       "      <td>0.602</td>\n",
       "      <td>0.611</td>\n",
       "      <td>...</td>\n",
       "      <td>0.721</td>\n",
       "      <td>0.728</td>\n",
       "      <td>0.728</td>\n",
       "      <td>0.729</td>\n",
       "      <td>0.736</td>\n",
       "      <td>0.740</td>\n",
       "      <td>0.743</td>\n",
       "      <td>0.745</td>\n",
       "      <td>0.746</td>\n",
       "      <td>0.748</td>\n",
       "    </tr>\n",
       "    <tr>\n",
       "      <th>3</th>\n",
       "      <td>36</td>\n",
       "      <td>Andorra</td>\n",
       "      <td>..</td>\n",
       "      <td>..</td>\n",
       "      <td>..</td>\n",
       "      <td>..</td>\n",
       "      <td>..</td>\n",
       "      <td>..</td>\n",
       "      <td>..</td>\n",
       "      <td>..</td>\n",
       "      <td>...</td>\n",
       "      <td>0.837</td>\n",
       "      <td>0.836</td>\n",
       "      <td>0.858</td>\n",
       "      <td>0.856</td>\n",
       "      <td>0.863</td>\n",
       "      <td>0.862</td>\n",
       "      <td>0.866</td>\n",
       "      <td>0.863</td>\n",
       "      <td>0.867</td>\n",
       "      <td>0.868</td>\n",
       "    </tr>\n",
       "    <tr>\n",
       "      <th>4</th>\n",
       "      <td>148</td>\n",
       "      <td>Angola</td>\n",
       "      <td>..</td>\n",
       "      <td>..</td>\n",
       "      <td>..</td>\n",
       "      <td>..</td>\n",
       "      <td>..</td>\n",
       "      <td>..</td>\n",
       "      <td>..</td>\n",
       "      <td>..</td>\n",
       "      <td>...</td>\n",
       "      <td>0.517</td>\n",
       "      <td>0.533</td>\n",
       "      <td>0.544</td>\n",
       "      <td>0.555</td>\n",
       "      <td>0.565</td>\n",
       "      <td>0.572</td>\n",
       "      <td>0.578</td>\n",
       "      <td>0.582</td>\n",
       "      <td>0.582</td>\n",
       "      <td>0.581</td>\n",
       "    </tr>\n",
       "  </tbody>\n",
       "</table>\n",
       "<p>5 rows × 32 columns</p>\n",
       "</div>"
      ],
      "text/plain": [
       "  HDI Rank       Country   1990   1991   1992   1993   1994   1995   1996  \\\n",
       "0      169   Afghanistan  0.302  0.307  0.316  0.312  0.307  0.331  0.335   \n",
       "1       69       Albania  0.650  0.631  0.615  0.618  0.624  0.637  0.646   \n",
       "2       91       Algeria  0.572  0.576  0.582  0.586  0.590  0.595  0.602   \n",
       "3       36       Andorra     ..     ..     ..     ..     ..     ..     ..   \n",
       "4      148        Angola     ..     ..     ..     ..     ..     ..     ..   \n",
       "\n",
       "    1997  ...   2010   2011   2012   2013   2014   2015   2016   2017   2018  \\\n",
       "0  0.339  ...  0.472  0.477  0.489  0.496  0.500  0.500  0.502  0.506  0.509   \n",
       "1  0.645  ...  0.745  0.764  0.775  0.782  0.787  0.788  0.788  0.790  0.792   \n",
       "2  0.611  ...  0.721  0.728  0.728  0.729  0.736  0.740  0.743  0.745  0.746   \n",
       "3     ..  ...  0.837  0.836  0.858  0.856  0.863  0.862  0.866  0.863  0.867   \n",
       "4     ..  ...  0.517  0.533  0.544  0.555  0.565  0.572  0.578  0.582  0.582   \n",
       "\n",
       "    2019  \n",
       "0  0.511  \n",
       "1  0.795  \n",
       "2  0.748  \n",
       "3  0.868  \n",
       "4  0.581  \n",
       "\n",
       "[5 rows x 32 columns]"
      ]
     },
     "execution_count": 89,
     "metadata": {},
     "output_type": "execute_result"
    }
   ],
   "source": [
    "HDI.head()"
   ]
  },
  {
   "cell_type": "code",
   "execution_count": 90,
   "metadata": {
    "ExecuteTime": {
     "end_time": "2021-02-22T09:18:10.160252Z",
     "start_time": "2021-02-22T09:18:10.125264Z"
    }
   },
   "outputs": [],
   "source": [
    "IHDI = pd.read_csv('/Users/lasayin/Desktop/Springboard/GitHub/Springboard_DS_Capstone2/RawData/AdditionalData/Inequality-adjusted HDI (IHDI).csv', encoding = \"ISO-8859-1\")"
   ]
  },
  {
   "cell_type": "code",
   "execution_count": 91,
   "metadata": {
    "ExecuteTime": {
     "end_time": "2021-02-22T09:18:10.187037Z",
     "start_time": "2021-02-22T09:18:10.176803Z"
    }
   },
   "outputs": [],
   "source": [
    "IHDI = IHDI.loc[:, ~IHDI.columns.str.match('Unnamed')]"
   ]
  },
  {
   "cell_type": "code",
   "execution_count": 92,
   "metadata": {
    "ExecuteTime": {
     "end_time": "2021-02-22T09:18:10.223830Z",
     "start_time": "2021-02-22T09:18:10.197798Z"
    }
   },
   "outputs": [
    {
     "name": "stdout",
     "output_type": "stream",
     "text": [
      "<class 'pandas.core.frame.DataFrame'>\n",
      "RangeIndex: 207 entries, 0 to 206\n",
      "Data columns (total 12 columns):\n",
      " #   Column    Non-Null Count  Dtype \n",
      "---  ------    --------------  ----- \n",
      " 0   HDI Rank  204 non-null    object\n",
      " 1   Country   206 non-null    object\n",
      " 2   2010      204 non-null    object\n",
      " 3   2011      206 non-null    object\n",
      " 4   2012      206 non-null    object\n",
      " 5   2013      206 non-null    object\n",
      " 6   2014      206 non-null    object\n",
      " 7   2015      206 non-null    object\n",
      " 8   2016      206 non-null    object\n",
      " 9   2017      206 non-null    object\n",
      " 10  2018      206 non-null    object\n",
      " 11  2019      206 non-null    object\n",
      "dtypes: object(12)\n",
      "memory usage: 19.5+ KB\n"
     ]
    }
   ],
   "source": [
    "IHDI.info()"
   ]
  },
  {
   "cell_type": "code",
   "execution_count": 93,
   "metadata": {
    "ExecuteTime": {
     "end_time": "2021-02-22T09:18:10.279323Z",
     "start_time": "2021-02-22T09:18:10.232088Z"
    }
   },
   "outputs": [
    {
     "data": {
      "text/html": [
       "<div>\n",
       "<style scoped>\n",
       "    .dataframe tbody tr th:only-of-type {\n",
       "        vertical-align: middle;\n",
       "    }\n",
       "\n",
       "    .dataframe tbody tr th {\n",
       "        vertical-align: top;\n",
       "    }\n",
       "\n",
       "    .dataframe thead th {\n",
       "        text-align: right;\n",
       "    }\n",
       "</style>\n",
       "<table border=\"1\" class=\"dataframe\">\n",
       "  <thead>\n",
       "    <tr style=\"text-align: right;\">\n",
       "      <th></th>\n",
       "      <th>HDI Rank</th>\n",
       "      <th>Country</th>\n",
       "      <th>2010</th>\n",
       "      <th>2011</th>\n",
       "      <th>2012</th>\n",
       "      <th>2013</th>\n",
       "      <th>2014</th>\n",
       "      <th>2015</th>\n",
       "      <th>2016</th>\n",
       "      <th>2017</th>\n",
       "      <th>2018</th>\n",
       "      <th>2019</th>\n",
       "    </tr>\n",
       "  </thead>\n",
       "  <tbody>\n",
       "    <tr>\n",
       "      <th>0</th>\n",
       "      <td>169</td>\n",
       "      <td>Afghanistan</td>\n",
       "      <td>..</td>\n",
       "      <td>..</td>\n",
       "      <td>..</td>\n",
       "      <td>0.340</td>\n",
       "      <td>0.343</td>\n",
       "      <td>0.341</td>\n",
       "      <td>0.353</td>\n",
       "      <td>0.356</td>\n",
       "      <td>..</td>\n",
       "      <td>..</td>\n",
       "    </tr>\n",
       "    <tr>\n",
       "      <th>1</th>\n",
       "      <td>69</td>\n",
       "      <td>Albania</td>\n",
       "      <td>0.650</td>\n",
       "      <td>0.658</td>\n",
       "      <td>0.668</td>\n",
       "      <td>0.677</td>\n",
       "      <td>0.681</td>\n",
       "      <td>0.682</td>\n",
       "      <td>0.691</td>\n",
       "      <td>0.711</td>\n",
       "      <td>0.705</td>\n",
       "      <td>0.708</td>\n",
       "    </tr>\n",
       "    <tr>\n",
       "      <th>2</th>\n",
       "      <td>91</td>\n",
       "      <td>Algeria</td>\n",
       "      <td>..</td>\n",
       "      <td>..</td>\n",
       "      <td>..</td>\n",
       "      <td>..</td>\n",
       "      <td>..</td>\n",
       "      <td>..</td>\n",
       "      <td>..</td>\n",
       "      <td>0.591</td>\n",
       "      <td>0.594</td>\n",
       "      <td>0.596</td>\n",
       "    </tr>\n",
       "    <tr>\n",
       "      <th>3</th>\n",
       "      <td>148</td>\n",
       "      <td>Angola</td>\n",
       "      <td>0.311</td>\n",
       "      <td>..</td>\n",
       "      <td>0.305</td>\n",
       "      <td>0.311</td>\n",
       "      <td>0.356</td>\n",
       "      <td>0.361</td>\n",
       "      <td>0.391</td>\n",
       "      <td>0.394</td>\n",
       "      <td>0.397</td>\n",
       "      <td>0.397</td>\n",
       "    </tr>\n",
       "    <tr>\n",
       "      <th>4</th>\n",
       "      <td>46</td>\n",
       "      <td>Argentina</td>\n",
       "      <td>0.666</td>\n",
       "      <td>0.671</td>\n",
       "      <td>0.671</td>\n",
       "      <td>0.703</td>\n",
       "      <td>0.711</td>\n",
       "      <td>0.708</td>\n",
       "      <td>0.717</td>\n",
       "      <td>0.723</td>\n",
       "      <td>0.724</td>\n",
       "      <td>0.729</td>\n",
       "    </tr>\n",
       "  </tbody>\n",
       "</table>\n",
       "</div>"
      ],
      "text/plain": [
       "  HDI Rank       Country   2010   2011   2012   2013   2014   2015   2016  \\\n",
       "0      169   Afghanistan     ..     ..     ..  0.340  0.343  0.341  0.353   \n",
       "1       69       Albania  0.650  0.658  0.668  0.677  0.681  0.682  0.691   \n",
       "2       91       Algeria     ..     ..     ..     ..     ..     ..     ..   \n",
       "3      148        Angola  0.311     ..  0.305  0.311  0.356  0.361  0.391   \n",
       "4       46     Argentina  0.666  0.671  0.671  0.703  0.711  0.708  0.717   \n",
       "\n",
       "    2017   2018   2019  \n",
       "0  0.356     ..     ..  \n",
       "1  0.711  0.705  0.708  \n",
       "2  0.591  0.594  0.596  \n",
       "3  0.394  0.397  0.397  \n",
       "4  0.723  0.724  0.729  "
      ]
     },
     "execution_count": 93,
     "metadata": {},
     "output_type": "execute_result"
    }
   ],
   "source": [
    "IHDI.head()"
   ]
  }
 ],
 "metadata": {
  "hide_input": false,
  "kernelspec": {
   "display_name": "Python 3",
   "language": "python",
   "name": "python3"
  },
  "language_info": {
   "codemirror_mode": {
    "name": "ipython",
    "version": 3
   },
   "file_extension": ".py",
   "mimetype": "text/x-python",
   "name": "python",
   "nbconvert_exporter": "python",
   "pygments_lexer": "ipython3",
   "version": "3.8.3"
  },
  "toc": {
   "base_numbering": 1,
   "nav_menu": {},
   "number_sections": true,
   "sideBar": true,
   "skip_h1_title": true,
   "title_cell": "Table of Contents",
   "title_sidebar": "Contents",
   "toc_cell": false,
   "toc_position": {},
   "toc_section_display": true,
   "toc_window_display": false
  },
  "varInspector": {
   "cols": {
    "lenName": 16,
    "lenType": 16,
    "lenVar": 40
   },
   "kernels_config": {
    "python": {
     "delete_cmd_postfix": "",
     "delete_cmd_prefix": "del ",
     "library": "var_list.py",
     "varRefreshCmd": "print(var_dic_list())"
    },
    "r": {
     "delete_cmd_postfix": ") ",
     "delete_cmd_prefix": "rm(",
     "library": "var_list.r",
     "varRefreshCmd": "cat(var_dic_list()) "
    }
   },
   "types_to_exclude": [
    "module",
    "function",
    "builtin_function_or_method",
    "instance",
    "_Feature"
   ],
   "window_display": false
  }
 },
 "nbformat": 4,
 "nbformat_minor": 4
}
